{
 "cells": [
  {
   "cell_type": "code",
   "execution_count": 1,
   "metadata": {},
   "outputs": [],
   "source": [
    "from importlib import reload\n",
    "from helper import run\n",
    "import ecc\n",
    "import helper\n",
    "import tx\n",
    "import script\n",
    "from io import BytesIO"
   ]
  },
  {
   "cell_type": "code",
   "execution_count": 2,
   "metadata": {},
   "outputs": [],
   "source": [
    "from ecc import PrivateKey, S256Point, Signature\n",
    "from helper import decode_base58, SIGHASH_ALL, h160_to_p2pkh_address, hash160, h160_to_p2sh_address\n",
    "from script import p2pkh_script, Script\n",
    "from tx import TxIn, TxOut, Tx, TxFetcher\n",
    "from urllib.request import Request, urlopen\n",
    "import json"
   ]
  },
  {
   "cell_type": "code",
   "execution_count": 3,
   "metadata": {},
   "outputs": [
    {
     "name": "stdout",
     "output_type": "stream",
     "text": [
      "mo3WWB4PoSHrudEBik1nUqfn1uZEPNYEc8\n"
     ]
    }
   ],
   "source": [
    "privkey_1 = PrivateKey(int.from_bytes(b\"Oscar Eduardo Serna Rosero\",\"big\"))\n",
    "my_address_1 = privkey_1.point.address(testnet=True)\n",
    "print(my_address_1)"
   ]
  },
  {
   "cell_type": "code",
   "execution_count": 4,
   "metadata": {},
   "outputs": [
    {
     "name": "stdout",
     "output_type": "stream",
     "text": [
      "mwuCRN8bMLWN9ETs29U8KseDkau72M9byF\n"
     ]
    }
   ],
   "source": [
    "privkey_2 = PrivateKey(int.from_bytes(b\"Oscar Eduardo Serna Rosero\",\"little\"))\n",
    "my_address_2 = privkey_2.point.address(testnet=True)\n",
    "print(my_address_2)"
   ]
  },
  {
   "cell_type": "markdown",
   "metadata": {},
   "source": [
    "# Let's try to create a multisignature address that needs both signatures from privkey_1 and privkey_2"
   ]
  },
  {
   "cell_type": "code",
   "execution_count": 5,
   "metadata": {},
   "outputs": [],
   "source": [
    "m=2\n",
    "op_m = 82\n",
    "n=2\n",
    "op_n=82\n",
    "length_pubkey=33\n",
    "pubkey1=privkey_1.point.sec()\n",
    "pubkey2=privkey_2.point.sec()"
   ]
  },
  {
   "cell_type": "code",
   "execution_count": 6,
   "metadata": {},
   "outputs": [
    {
     "data": {
      "text/plain": [
       "'03e07f96e5ba598431c0c994493a4ae988c9854c171d5d4bb140db0a27a4c853e4'"
      ]
     },
     "execution_count": 6,
     "metadata": {},
     "output_type": "execute_result"
    }
   ],
   "source": [
    "pubkey1.hex()"
   ]
  },
  {
   "cell_type": "code",
   "execution_count": 7,
   "metadata": {},
   "outputs": [
    {
     "data": {
      "text/plain": [
       "'031b63f964d8c65d1d1136dcfe5033dedea88c2d411934ea48c9708410be84e5ee'"
      ]
     },
     "execution_count": 7,
     "metadata": {},
     "output_type": "execute_result"
    }
   ],
   "source": [
    "pubkey2.hex()"
   ]
  },
  {
   "cell_type": "code",
   "execution_count": 8,
   "metadata": {},
   "outputs": [
    {
     "data": {
      "text/plain": [
       "OP_2 03e07f96e5ba598431c0c994493a4ae988c9854c171d5d4bb140db0a27a4c853e4 031b63f964d8c65d1d1136dcfe5033dedea88c2d411934ea48c9708410be84e5ee OP_2 OP_CHECKMULTISIG"
      ]
     },
     "execution_count": 8,
     "metadata": {},
     "output_type": "execute_result"
    }
   ],
   "source": [
    "#redeem_script = Script([op_m, length_pubkey, pubkey1, length_pubkey, pubkey2, op_n, 174])#174:OP_CHECKMULTISIG\n",
    "redeem_script = Script([op_m, pubkey1, pubkey2, op_n, 174])#174:OP_CHECKMULTISIG\n",
    "redeem_script"
   ]
  },
  {
   "cell_type": "code",
   "execution_count": 9,
   "metadata": {},
   "outputs": [
    {
     "data": {
      "text/plain": [
       "'47522103e07f96e5ba598431c0c994493a4ae988c9854c171d5d4bb140db0a27a4c853e421031b63f964d8c65d1d1136dcfe5033dedea88c2d411934ea48c9708410be84e5ee52ae'"
      ]
     },
     "execution_count": 9,
     "metadata": {},
     "output_type": "execute_result"
    }
   ],
   "source": [
    "serialized_redeem = redeem_script.serialize()\n",
    "serialized_redeem.hex()"
   ]
  },
  {
   "cell_type": "code",
   "execution_count": 10,
   "metadata": {},
   "outputs": [
    {
     "data": {
      "text/plain": [
       "'2MtjpwVyA7MYhBLirhcEhydEJNa7brhNojb'"
      ]
     },
     "execution_count": 10,
     "metadata": {},
     "output_type": "execute_result"
    }
   ],
   "source": [
    "multi_sig_addr = h160_to_p2sh_address(hash160(serialized_redeem), testnet=True)\n",
    "multi_sig_addr"
   ]
  },
  {
   "cell_type": "markdown",
   "metadata": {},
   "source": [
    "# Now let's try to send some BTCs to this address"
   ]
  },
  {
   "cell_type": "code",
   "execution_count": 11,
   "metadata": {},
   "outputs": [
    {
     "name": "stdout",
     "output_type": "stream",
     "text": [
      "1000000:OP_HASH160 1060f2fd6058cd100fe4e485455badf453bd63e1 OP_EQUAL\n",
      "1000000:OP_DUP OP_HASH160 52903efc1004de01883ba3687be2a8ea4f6b1b19 OP_EQUALVERIFY OP_CHECKSIG\n",
      "tx: ee337430b19e720f5b1bc4582df972bec0750fcfcbf6143d097121d0e11af478\n",
      "version: 2\n",
      "tx_ins:\n",
      "a84ffedf78eb2f940287a56a2fdc11aba60fc916853dbb5fd6e856e32dc6f576:0\n",
      "tx_outs:\n",
      "4179188255:OP_HASH160 d7c83330ba9762519b1e536cf2af01855d62ab74 OP_EQUAL\n",
      "1758430:OP_DUP OP_HASH160 52903efc1004de01883ba3687be2a8ea4f6b1b19 OP_EQUALVERIFY OP_CHECKSIG\n",
      "locktime: 1665844\n",
      "index 1: 1\n",
      "ee337430b19e720f5b1bc4582df972bec0750fcfcbf6143d097121d0e11af478:1\n",
      "tx: e917cd2443af0b0b14e45c6daec853e465ac19e8750632ccd14e5aacc2c880ea\n",
      "version: 1\n",
      "tx_ins:\n",
      "ee337430b19e720f5b1bc4582df972bec0750fcfcbf6143d097121d0e11af478:1\n",
      "tx_outs:\n",
      "1000000:OP_HASH160 1060f2fd6058cd100fe4e485455badf453bd63e1 OP_EQUAL\n",
      "1000000:OP_DUP OP_HASH160 52903efc1004de01883ba3687be2a8ea4f6b1b19 OP_EQUALVERIFY OP_CHECKSIG\n",
      "locktime: 0\n",
      "OP_DUP OP_HASH160 52903efc1004de01883ba3687be2a8ea4f6b1b19 OP_EQUALVERIFY OP_CHECKSIG\n",
      "\n",
      "combined script[b\"0E\\x02!\\x00\\xc5\\xb5\\x04J\\xabI\\x8d\\x9b\\xb5K\\xb2\\x9c\\xd4U6|\\x87%\\xfa i\\x0b\\x81W\\x12\\xdb\\xb6\\x07\\x04Em\\xcc\\x02 ;\\x880\\xa9R.]X\\x14{,Yt\\x86\\x86\\x8c\\xd0\\xd8'\\x16i\\x02W8\\xe2\\xbb`l\\xdc\\n\\xb6\\xba\\x01\", b\"\\x03\\xe0\\x7f\\x96\\xe5\\xbaY\\x841\\xc0\\xc9\\x94I:J\\xe9\\x88\\xc9\\x85L\\x17\\x1d]K\\xb1@\\xdb\\n'\\xa4\\xc8S\\xe4\", 118, 169, b'R\\x90>\\xfc\\x10\\x04\\xde\\x01\\x88;\\xa3h{\\xe2\\xa8\\xeaOk\\x1b\\x19', 136, 172]\n",
      "\n",
      "True\n",
      "fee: 4480\n",
      "change 753950\n",
      "total 1758430, diff: 0\n",
      "OP_DUP OP_HASH160 52903efc1004de01883ba3687be2a8ea4f6b1b19 OP_EQUALVERIFY OP_CHECKSIG\n",
      "\n",
      "combined script[b'0D\\x02 +)\\xa5C\\xee\\xc3\\xad\\xa1\\xb7y7\\x0c\\x02\\xfa\\x9eE\\x84\\x9d\\xc6yZ\\xb6\\xbd\\x7f)\\xfd\\xc51\\xc1d\\xdcb\\x02 1>\\xfbs\\xd68\\xe9\\x08\\xd3\\xe35\\xf3\\xad\\xb2\\xb6\\xe1\\xb4f\\x16)\\xce>\\x1b\\xb3\\xd5\\xb8\\xe5m\\xbe\\xb6\\x98I\\x01', b\"\\x03\\xe0\\x7f\\x96\\xe5\\xbaY\\x841\\xc0\\xc9\\x94I:J\\xe9\\x88\\xc9\\x85L\\x17\\x1d]K\\xb1@\\xdb\\n'\\xa4\\xc8S\\xe4\", 118, 169, b'R\\x90>\\xfc\\x10\\x04\\xde\\x01\\x88;\\xa3h{\\xe2\\xa8\\xeaOk\\x1b\\x19', 136, 172]\n",
      "\n",
      "True\n",
      "010000000178f41ae1d02171093d14f6cbcf0f75c0be72f92d58c41b5b0f729eb1307433ee010000006a47304402202b29a543eec3ada1b779370c02fa9e45849dc6795ab6bd7f29fdc531c164dc620220313efb73d638e908d3e335f3adb2b6e1b4661629ce3e1bb3d5b8e56dbeb69849012103e07f96e5ba598431c0c994493a4ae988c9854c171d5d4bb140db0a27a4c853e4ffffffff0240420f000000000017a9141060f2fd6058cd100fe4e485455badf453bd63e1871e810b00000000001976a91452903efc1004de01883ba3687be2a8ea4f6b1b1988ac00000000\n"
     ]
    }
   ],
   "source": [
    "from script import p2sh_script\n",
    "# Let's build the tx:\n",
    "tx_outs =[]\n",
    "tx_ins =[]\n",
    "\n",
    "change = int(0.01 * 100000000)# we are going to fix this later\n",
    "amountTx= int(0.01 * 100000000)\n",
    "\n",
    "#It will send 0.01 to the multisig address\n",
    "output = TxOut(amountTx, p2sh_script(decode_base58(multi_sig_addr)))\n",
    "print(output)\n",
    "tx_outs.append(output)\n",
    "\n",
    "change_output = TxOut(change, p2pkh_script(decode_base58(my_address_1)))\n",
    "print(change_output)\n",
    "tx_outs.append(change_output)\n",
    "\n",
    "prev1_tx_id = \"ee337430b19e720f5b1bc4582df972bec0750fcfcbf6143d097121d0e11af478\"\n",
    "prev_tx1 = TxFetcher.fetch(prev1_tx_id, testnet=True)\n",
    "print(prev_tx1)\n",
    "\n",
    "def get_index(outs_list):\n",
    "    for index,out in enumerate(outs_list):\n",
    "        if out.script_pubkey.cmds[2] == decode_base58(my_address_1):\n",
    "            return index\n",
    "    return \"output index not found\"\n",
    "    \n",
    "prev1_index= get_index(prev_tx1.tx_outs)\n",
    "#prev1_index=0\n",
    "print(f\"index 1: {prev1_index}\")\n",
    "\n",
    "tx_in1 = TxIn(bytes.fromhex(prev1_tx_id),prev1_index)\n",
    "print(tx_in1)\n",
    "tx_ins.append(tx_in1)\n",
    "\n",
    "my_tx = Tx(1, tx_ins, tx_outs, 0, testnet=True)\n",
    "print(my_tx)\n",
    "\n",
    "# sign the inputs in the transaction object using the private key\n",
    "for tx_input in range(len(tx_ins)):\n",
    "    print(my_tx.sign_input(tx_input, privkey_1))\n",
    "# print the transaction's serialization in hex\n",
    "\n",
    "#Let's calculate the fee and the change:\n",
    "tx_size = len(my_tx.serialize().hex())\n",
    "fee_per_byte = 10 # I changed from 2 to 10 after sending this transaction because it had really low appeal to miners.\n",
    "fee = tx_size * fee_per_byte\n",
    "print(f\"fee: {fee}\")\n",
    "\n",
    "change = prev_tx1.tx_outs[prev1_index].amount - fee - amountTx\n",
    "print(f\"change {change}\")\n",
    "#Let's make sure that we are actually spending the exact amount of the UTXO\n",
    "total_send=fee+amountTx+change\n",
    "diff = prev_tx1.tx_outs[prev1_index].amount-total_send\n",
    "print(f\"total {total_send}, diff: {diff}\")\n",
    "\n",
    "\n",
    "#Let's modify the amount in the change_output:\n",
    "tx_outs[-1].amount = change\n",
    "\n",
    "#we sign again because the hash changed\n",
    "for tx_input in range(len(tx_ins)):\n",
    "    print(my_tx.sign_input(tx_input, privkey_1))\n",
    "\n",
    "print(my_tx.serialize().hex())\n",
    "\n",
    "#for tx_input in range(len(tx_ins)):\n",
    " #   print(my_tx.verify_input(tx_input))\n",
    "\n",
    "\n"
   ]
  },
  {
   "cell_type": "code",
   "execution_count": 12,
   "metadata": {},
   "outputs": [
    {
     "name": "stdout",
     "output_type": "stream",
     "text": [
      "OP_DUP OP_HASH160 52903efc1004de01883ba3687be2a8ea4f6b1b19 OP_EQUALVERIFY OP_CHECKSIG\n",
      "\n",
      "combined script[b'0D\\x02 +)\\xa5C\\xee\\xc3\\xad\\xa1\\xb7y7\\x0c\\x02\\xfa\\x9eE\\x84\\x9d\\xc6yZ\\xb6\\xbd\\x7f)\\xfd\\xc51\\xc1d\\xdcb\\x02 1>\\xfbs\\xd68\\xe9\\x08\\xd3\\xe35\\xf3\\xad\\xb2\\xb6\\xe1\\xb4f\\x16)\\xce>\\x1b\\xb3\\xd5\\xb8\\xe5m\\xbe\\xb6\\x98I\\x01', b\"\\x03\\xe0\\x7f\\x96\\xe5\\xbaY\\x841\\xc0\\xc9\\x94I:J\\xe9\\x88\\xc9\\x85L\\x17\\x1d]K\\xb1@\\xdb\\n'\\xa4\\xc8S\\xe4\", 118, 169, b'R\\x90>\\xfc\\x10\\x04\\xde\\x01\\x88;\\xa3h{\\xe2\\xa8\\xeaOk\\x1b\\x19', 136, 172]\n",
      "\n"
     ]
    },
    {
     "data": {
      "text/plain": [
       "True"
      ]
     },
     "execution_count": 12,
     "metadata": {},
     "output_type": "execute_result"
    }
   ],
   "source": [
    "my_tx.verify_input(0)"
   ]
  },
  {
   "cell_type": "code",
   "execution_count": 13,
   "metadata": {},
   "outputs": [
    {
     "name": "stdout",
     "output_type": "stream",
     "text": [
      "a b c\n"
     ]
    }
   ],
   "source": [
    "li = [\"a\",\"b\",\"c\"]\n",
    "print(*li)"
   ]
  },
  {
   "cell_type": "markdown",
   "metadata": {},
   "source": [
    "# Now let's try to spend the UTXO from the multi-sig address"
   ]
  },
  {
   "cell_type": "code",
   "execution_count": 14,
   "metadata": {},
   "outputs": [
    {
     "data": {
      "text/plain": [
       "<module 'tx' from '/Users/oscareduardosernarosero/Documents/US/Rice U/blockchain/bitcoin/basics/tx.py'>"
      ]
     },
     "execution_count": 14,
     "metadata": {},
     "output_type": "execute_result"
    }
   ],
   "source": [
    "reload(tx)"
   ]
  },
  {
   "cell_type": "code",
   "execution_count": 28,
   "metadata": {},
   "outputs": [
    {
     "name": "stdout",
     "output_type": "stream",
     "text": [
      "1000000:OP_DUP OP_HASH160 52903efc1004de01883ba3687be2a8ea4f6b1b19 OP_EQUALVERIFY OP_CHECKSIG\n",
      "tx: 9f6e65900ca76e8351b7babc6bbc2e5b0b2ded99e4e6f5b1ec74c2a190abf31a\n",
      "version: 1\n",
      "tx_ins:\n",
      "ee337430b19e720f5b1bc4582df972bec0750fcfcbf6143d097121d0e11af478:1\n",
      "tx_outs:\n",
      "1000000:OP_HASH160 1060f2fd6058cd100fe4e485455badf453bd63e1 OP_EQUAL\n",
      "753950:OP_DUP OP_HASH160 52903efc1004de01883ba3687be2a8ea4f6b1b19 OP_EQUALVERIFY OP_CHECKSIG\n",
      "locktime: 0\n",
      "index 1: 0\n",
      "9f6e65900ca76e8351b7babc6bbc2e5b0b2ded99e4e6f5b1ec74c2a190abf31a:0\n",
      "tx: a716747d4c63bcc054ab55d2baa20ae4d50ff74a0ec31f6d7a6efc48b5438547\n",
      "version: 1\n",
      "tx_ins:\n",
      "9f6e65900ca76e8351b7babc6bbc2e5b0b2ded99e4e6f5b1ec74c2a190abf31a:0\n",
      "tx_outs:\n",
      "1000000:OP_DUP OP_HASH160 52903efc1004de01883ba3687be2a8ea4f6b1b19 OP_EQUALVERIFY OP_CHECKSIG\n",
      "locktime: 0\n",
      "redeem_script present\n",
      "script: OP_2 03e07f96e5ba598431c0c994493a4ae988c9854c171d5d4bb140db0a27a4c853e4 031b63f964d8c65d1d1136dcfe5033dedea88c2d411934ea48c9708410be84e5ee OP_2 OP_CHECKMULTISIG\n",
      "sign_input_multisig commands: [0, b'0E\\x02!\\x00\\xb1\\x9ai\\x84\\x19\\xf5o\\xecQT\\x82=\\xa70#\\x85\\xbd-\\xc5C\\x10\\x13\\xd3\\xd1\\xeda\\x08P\\xa9G\\xf0\\xe4\\x02 e\\xa4d\\xa6\\xd2\\x86!\\x12\\xdc26p\\xd99\\xe5VaL\\x92\\xa0tX\\xbf\\\\q\\xc1\"\\xb1,t\\xc0h\\x01', b'0D\\x02 |A\\x07\\x9e{\\x18v7U\\x93\\x82\\x00Z\\xe2\\x08\\xb2\\xd5\\x92\\x91\\xf2/L4\\xbcX.sKp8\\xa5\\xf8\\x02 &\\x8dyL\\x8aPEI\\x01\\xbc\\xebE\\x17\\x1dXq\\x99\\n;\\x8d\\x1akS\\xfd\\xef.q\\xb4\\xa7M\\xdc\\xba\\x01', b\"GR!\\x03\\xe0\\x7f\\x96\\xe5\\xbaY\\x841\\xc0\\xc9\\x94I:J\\xe9\\x88\\xc9\\x85L\\x17\\x1d]K\\xb1@\\xdb\\n'\\xa4\\xc8S\\xe4!\\x03\\x1bc\\xf9d\\xd8\\xc6]\\x1d\\x116\\xdc\\xfeP3\\xde\\xde\\xa8\\x8c-A\\x194\\xeaH\\xc9p\\x84\\x10\\xbe\\x84\\xe5\\xeeR\\xae\"]\n",
      "OP_HASH160 1060f2fd6058cd100fe4e485455badf453bd63e1 OP_EQUAL\n",
      "scriptPubKey: OP_HASH160 1060f2fd6058cd100fe4e485455badf453bd63e1 OP_EQUAL\n",
      "commands redeemscript: 47522103e07f96e5ba598431c0c994493a4ae988c9854c171d5d4bb140db0a27a4c853e421031b63f964d8c65d1d1136dcfe5033dedea88c2d411934ea48c9708410be84e5ee52ae\n",
      "redeem_script present\n",
      "script: 522103e07f96e5ba598431c0c994493a4ae988c9854c171d5d4bb140db0a27a4c853e421031b63f964d8c65d1d1136dcfe5033dedea88c2d411934ea48c9708410be84e5ee52ae\n",
      "\n",
      "combined script[0, b'0E\\x02!\\x00\\xb1\\x9ai\\x84\\x19\\xf5o\\xecQT\\x82=\\xa70#\\x85\\xbd-\\xc5C\\x10\\x13\\xd3\\xd1\\xeda\\x08P\\xa9G\\xf0\\xe4\\x02 e\\xa4d\\xa6\\xd2\\x86!\\x12\\xdc26p\\xd99\\xe5VaL\\x92\\xa0tX\\xbf\\\\q\\xc1\"\\xb1,t\\xc0h\\x01', b'0D\\x02 |A\\x07\\x9e{\\x18v7U\\x93\\x82\\x00Z\\xe2\\x08\\xb2\\xd5\\x92\\x91\\xf2/L4\\xbcX.sKp8\\xa5\\xf8\\x02 &\\x8dyL\\x8aPEI\\x01\\xbc\\xebE\\x17\\x1dXq\\x99\\n;\\x8d\\x1akS\\xfd\\xef.q\\xb4\\xa7M\\xdc\\xba\\x01', b\"GR!\\x03\\xe0\\x7f\\x96\\xe5\\xbaY\\x841\\xc0\\xc9\\x94I:J\\xe9\\x88\\xc9\\x85L\\x17\\x1d]K\\xb1@\\xdb\\n'\\xa4\\xc8S\\xe4!\\x03\\x1bc\\xf9d\\xd8\\xc6]\\x1d\\x116\\xdc\\xfeP3\\xde\\xde\\xa8\\x8c-A\\x194\\xeaH\\xc9p\\x84\\x10\\xbe\\x84\\xe5\\xeeR\\xae\", 169, b'\\x10`\\xf2\\xfd`X\\xcd\\x10\\x0f\\xe4\\xe4\\x85E[\\xad\\xf4S\\xbdc\\xe1', 135]\n",
      "\n",
      "True\n",
      "fee: 19456\n",
      "amountTx : 980544\n",
      "total 1000000, diff: 0\n",
      "redeem_script present\n",
      "script: OP_2 03e07f96e5ba598431c0c994493a4ae988c9854c171d5d4bb140db0a27a4c853e4 031b63f964d8c65d1d1136dcfe5033dedea88c2d411934ea48c9708410be84e5ee OP_2 OP_CHECKMULTISIG\n",
      "sign_input_multisig commands: [0, b\"0E\\x02!\\x00\\xe9\\xa2\\xb7?\\xf9^3\\x95\\x03N\\x91\\r]i\\xdd>\\x18\\xe1*(\\xe9\\xda\\xcf\\xd5\\xf3\\xb2\\x89J\\xfd_\\xbf?\\x02 5\\xb5\\rHPi2\\x02\\x0f\\xce\\xa1x\\x1a\\x0cX\\xe9\\x01\\x19\\x18\\xbd*\\x9c\\xbb\\xb5i0'\\x03\\\\\\xa9P+\\x01\", b'0E\\x02!\\x00\\xf7b\\x1b\\xb0\\x14\\xd5=\\x8a\\x97\\xc0\\xb5`S\\x17\\xddJ\\x92\\xb5>\\x03\\xdd\"\\xe7\\x1b\\x1d\\xb8\\\\\\x12\\xe9\"\\x18\\xff\\x02 Kw\\xff*[\\xc9\\xf7\\x92\\x1d\\x8a\\x17\\xd3m\\x04\\xca)\\xcb\\xe2[ a\\xf7\\xc2\\xf5\\xe2\\'\\xe4I\\xbaaN\\xe5\\x01', b\"GR!\\x03\\xe0\\x7f\\x96\\xe5\\xbaY\\x841\\xc0\\xc9\\x94I:J\\xe9\\x88\\xc9\\x85L\\x17\\x1d]K\\xb1@\\xdb\\n'\\xa4\\xc8S\\xe4!\\x03\\x1bc\\xf9d\\xd8\\xc6]\\x1d\\x116\\xdc\\xfeP3\\xde\\xde\\xa8\\x8c-A\\x194\\xeaH\\xc9p\\x84\\x10\\xbe\\x84\\xe5\\xeeR\\xae\"]\n",
      "OP_HASH160 1060f2fd6058cd100fe4e485455badf453bd63e1 OP_EQUAL\n",
      "scriptPubKey: OP_HASH160 1060f2fd6058cd100fe4e485455badf453bd63e1 OP_EQUAL\n",
      "commands redeemscript: 47522103e07f96e5ba598431c0c994493a4ae988c9854c171d5d4bb140db0a27a4c853e421031b63f964d8c65d1d1136dcfe5033dedea88c2d411934ea48c9708410be84e5ee52ae\n",
      "redeem_script present\n",
      "script: 522103e07f96e5ba598431c0c994493a4ae988c9854c171d5d4bb140db0a27a4c853e421031b63f964d8c65d1d1136dcfe5033dedea88c2d411934ea48c9708410be84e5ee52ae\n",
      "\n",
      "combined script[0, b\"0E\\x02!\\x00\\xe9\\xa2\\xb7?\\xf9^3\\x95\\x03N\\x91\\r]i\\xdd>\\x18\\xe1*(\\xe9\\xda\\xcf\\xd5\\xf3\\xb2\\x89J\\xfd_\\xbf?\\x02 5\\xb5\\rHPi2\\x02\\x0f\\xce\\xa1x\\x1a\\x0cX\\xe9\\x01\\x19\\x18\\xbd*\\x9c\\xbb\\xb5i0'\\x03\\\\\\xa9P+\\x01\", b'0E\\x02!\\x00\\xf7b\\x1b\\xb0\\x14\\xd5=\\x8a\\x97\\xc0\\xb5`S\\x17\\xddJ\\x92\\xb5>\\x03\\xdd\"\\xe7\\x1b\\x1d\\xb8\\\\\\x12\\xe9\"\\x18\\xff\\x02 Kw\\xff*[\\xc9\\xf7\\x92\\x1d\\x8a\\x17\\xd3m\\x04\\xca)\\xcb\\xe2[ a\\xf7\\xc2\\xf5\\xe2\\'\\xe4I\\xbaaN\\xe5\\x01', b\"GR!\\x03\\xe0\\x7f\\x96\\xe5\\xbaY\\x841\\xc0\\xc9\\x94I:J\\xe9\\x88\\xc9\\x85L\\x17\\x1d]K\\xb1@\\xdb\\n'\\xa4\\xc8S\\xe4!\\x03\\x1bc\\xf9d\\xd8\\xc6]\\x1d\\x116\\xdc\\xfeP3\\xde\\xde\\xa8\\x8c-A\\x194\\xeaH\\xc9p\\x84\\x10\\xbe\\x84\\xe5\\xeeR\\xae\", 169, b'\\x10`\\xf2\\xfd`X\\xcd\\x10\\x0f\\xe4\\xe4\\x85E[\\xad\\xf4S\\xbdc\\xe1', 135]\n",
      "\n",
      "True\n",
      "01000000011af3ab90a1c274ecb1f5e6e499ed2d0b5b2ebc6bbcbab751836ea70c90656e9f00000000dc00483045022100e9a2b73ff95e3395034e910d5d69dd3e18e12a28e9dacfd5f3b2894afd5fbf3f022035b50d48506932020fcea1781a0c58e9011918bd2a9cbbb5693027035ca9502b01483045022100f7621bb014d53d8a97c0b5605317dd4a92b53e03dd22e71b1db85c12e92218ff02204b77ff2a5bc9f7921d8a17d36d04ca29cbe25b2061f7c2f5e227e449ba614ee5014847522103e07f96e5ba598431c0c994493a4ae988c9854c171d5d4bb140db0a27a4c853e421031b63f964d8c65d1d1136dcfe5033dedea88c2d411934ea48c9708410be84e5ee52aeffffffff0140f60e00000000001976a91452903efc1004de01883ba3687be2a8ea4f6b1b1988ac00000000\n"
     ]
    }
   ],
   "source": [
    "###### tx_outs =[]\n",
    "tx_ins =[]\n",
    "tx_outs =[]\n",
    "\n",
    "amountTx= int(0.01 * 100000000)# we'll fix this later after calculating the fee\n",
    "\n",
    "#It will send back all the money to our address_1 minus the fee\n",
    "output = TxOut(amountTx,  p2pkh_script(decode_base58(my_address_1)))\n",
    "print(output)\n",
    "tx_outs.append(output)\n",
    "\n",
    "\n",
    "prev1_tx_id = \"9f6e65900ca76e8351b7babc6bbc2e5b0b2ded99e4e6f5b1ec74c2a190abf31a\"\n",
    "prev_tx1 = TxFetcher.fetch(prev1_tx_id, testnet=True)\n",
    "print(prev_tx1)\n",
    "\n",
    "def get_index(outs_list, address):\n",
    "    for index,out in enumerate(outs_list):\n",
    "        if out.script_pubkey.cmds[2] == decode_base58(address) or out.script_pubkey.cmds[1] == decode_base58(address):\n",
    "            return index\n",
    "    return \"output index not found\"\n",
    "    \n",
    "prev1_index= get_index(prev_tx1.tx_outs, multi_sig_addr)\n",
    "#prev1_index=0\n",
    "print(f\"index 1: {prev1_index}\")\n",
    "\n",
    "tx_in1 = TxIn(bytes.fromhex(prev1_tx_id),prev1_index)\n",
    "print(tx_in1)\n",
    "tx_ins.append(tx_in1)\n",
    "\n",
    "my_multisig_tx = Tx(1, tx_ins, tx_outs, 0, testnet=True)\n",
    "print(my_multisig_tx)\n",
    "\n",
    "\n",
    "\n",
    "# sign the inputs in the transaction object using the private key\n",
    "for tx_input in range(len(tx_ins)):\n",
    "    print(my_multisig_tx.sign_input_multisig(tx_input, [privkey_1, privkey_2], redeem_script))#redeem_script from earlier\n",
    "# print the transaction's serialization in hex\n",
    "\n",
    "#Let's calculate the fee and the change:\n",
    "tx_size = len(my_multisig_tx.serialize().hex())\n",
    "fee_per_byte = 32 # I changed from 10 to 25 after sending this transaction because apparently it is more expensive for multisig tx.\n",
    "fee = tx_size * fee_per_byte \n",
    "print(f\"fee: {fee}\")\n",
    "\n",
    "amountTx = prev_tx1.tx_outs[prev1_index].amount - fee \n",
    "print(f\"amountTx : {amountTx}\")\n",
    "#Let's make sure that we are actually spending the exact amount of the UTXO\n",
    "total_send=fee+amountTx\n",
    "diff = prev_tx1.tx_outs[prev1_index].amount-total_send\n",
    "print(f\"total {total_send}, diff: {diff}\")\n",
    "\n",
    "\n",
    "#Let's modify the amount in the change_output:\n",
    "my_multisig_tx.tx_outs[0].amount = amountTx\n",
    "\n",
    "#we sign again because the hash changed\n",
    "for tx_input in range(len(tx_ins)):\n",
    "    print(my_multisig_tx.sign_input_multisig(tx_input, [privkey_1, privkey_2], redeem_script))#redeem_script from earlier\n",
    "\n",
    "\n",
    "print(my_multisig_tx.serialize().hex())\n",
    "\n",
    "#for tx_input in range(len(tx_ins)):\n",
    " #   print(my_tx.verify_input(tx_input))"
   ]
  },
  {
   "cell_type": "code",
   "execution_count": 29,
   "metadata": {},
   "outputs": [
    {
     "name": "stdout",
     "output_type": "stream",
     "text": [
      "OP_HASH160 1060f2fd6058cd100fe4e485455badf453bd63e1 OP_EQUAL\n",
      "scriptPubKey: OP_HASH160 1060f2fd6058cd100fe4e485455badf453bd63e1 OP_EQUAL\n",
      "commands redeemscript: 47522103e07f96e5ba598431c0c994493a4ae988c9854c171d5d4bb140db0a27a4c853e421031b63f964d8c65d1d1136dcfe5033dedea88c2d411934ea48c9708410be84e5ee52ae\n",
      "redeem_script present\n",
      "script: 522103e07f96e5ba598431c0c994493a4ae988c9854c171d5d4bb140db0a27a4c853e421031b63f964d8c65d1d1136dcfe5033dedea88c2d411934ea48c9708410be84e5ee52ae\n",
      "\n",
      "combined script[0, b\"0E\\x02!\\x00\\xe9\\xa2\\xb7?\\xf9^3\\x95\\x03N\\x91\\r]i\\xdd>\\x18\\xe1*(\\xe9\\xda\\xcf\\xd5\\xf3\\xb2\\x89J\\xfd_\\xbf?\\x02 5\\xb5\\rHPi2\\x02\\x0f\\xce\\xa1x\\x1a\\x0cX\\xe9\\x01\\x19\\x18\\xbd*\\x9c\\xbb\\xb5i0'\\x03\\\\\\xa9P+\\x01\", b'0E\\x02!\\x00\\xf7b\\x1b\\xb0\\x14\\xd5=\\x8a\\x97\\xc0\\xb5`S\\x17\\xddJ\\x92\\xb5>\\x03\\xdd\"\\xe7\\x1b\\x1d\\xb8\\\\\\x12\\xe9\"\\x18\\xff\\x02 Kw\\xff*[\\xc9\\xf7\\x92\\x1d\\x8a\\x17\\xd3m\\x04\\xca)\\xcb\\xe2[ a\\xf7\\xc2\\xf5\\xe2\\'\\xe4I\\xbaaN\\xe5\\x01', b\"GR!\\x03\\xe0\\x7f\\x96\\xe5\\xbaY\\x841\\xc0\\xc9\\x94I:J\\xe9\\x88\\xc9\\x85L\\x17\\x1d]K\\xb1@\\xdb\\n'\\xa4\\xc8S\\xe4!\\x03\\x1bc\\xf9d\\xd8\\xc6]\\x1d\\x116\\xdc\\xfeP3\\xde\\xde\\xa8\\x8c-A\\x194\\xeaH\\xc9p\\x84\\x10\\xbe\\x84\\xe5\\xeeR\\xae\", 169, b'\\x10`\\xf2\\xfd`X\\xcd\\x10\\x0f\\xe4\\xe4\\x85E[\\xad\\xf4S\\xbdc\\xe1', 135]\n",
      "\n"
     ]
    },
    {
     "data": {
      "text/plain": [
       "True"
      ]
     },
     "execution_count": 29,
     "metadata": {},
     "output_type": "execute_result"
    }
   ],
   "source": [
    "my_multisig_tx.verify()"
   ]
  },
  {
   "cell_type": "code",
   "execution_count": 30,
   "metadata": {},
   "outputs": [
    {
     "data": {
      "text/plain": [
       "tx: c37d6a43037c7e9c071d29c853cb253b01b60fd6e84d9656c580f09bf1becf33\n",
       "version: 1\n",
       "tx_ins:\n",
       "9f6e65900ca76e8351b7babc6bbc2e5b0b2ded99e4e6f5b1ec74c2a190abf31a:0\n",
       "tx_outs:\n",
       "980544:OP_DUP OP_HASH160 52903efc1004de01883ba3687be2a8ea4f6b1b19 OP_EQUALVERIFY OP_CHECKSIG\n",
       "locktime: 0"
      ]
     },
     "execution_count": 30,
     "metadata": {},
     "output_type": "execute_result"
    }
   ],
   "source": [
    "my_multisig_tx"
   ]
  },
  {
   "cell_type": "code",
   "execution_count": 31,
   "metadata": {},
   "outputs": [
    {
     "data": {
      "text/plain": [
       "OP_2 03e07f96e5ba598431c0c994493a4ae988c9854c171d5d4bb140db0a27a4c853e4 031b63f964d8c65d1d1136dcfe5033dedea88c2d411934ea48c9708410be84e5ee OP_2 OP_CHECKMULTISIG"
      ]
     },
     "execution_count": 31,
     "metadata": {},
     "output_type": "execute_result"
    }
   ],
   "source": [
    "rebuilt_script = Script.parse(BytesIO(bytes.fromhex(\"47522103e07f96e5ba598431c0c994493a4ae988c9854c171d5d4bb140db0a27a4c853e421031b63f964d8c65d1d1136dcfe5033dedea88c2d411934ea48c9708410be84e5ee52ae\")))\n",
    "rebuilt_script"
   ]
  },
  {
   "cell_type": "code",
   "execution_count": 32,
   "metadata": {},
   "outputs": [
    {
     "name": "stdout",
     "output_type": "stream",
     "text": [
      "0\n",
      "3045022100e9a2b73ff95e3395034e910d5d69dd3e18e12a28e9dacfd5f3b2894afd5fbf3f022035b50d48506932020fcea1781a0c58e9011918bd2a9cbbb5693027035ca9502b01\n",
      "3045022100f7621bb014d53d8a97c0b5605317dd4a92b53e03dd22e71b1db85c12e92218ff02204b77ff2a5bc9f7921d8a17d36d04ca29cbe25b2061f7c2f5e227e449ba614ee501\n",
      "47522103e07f96e5ba598431c0c994493a4ae988c9854c171d5d4bb140db0a27a4c853e421031b63f964d8c65d1d1136dcfe5033dedea88c2d411934ea48c9708410be84e5ee52ae\n"
     ]
    }
   ],
   "source": [
    "for cmd in my_multisig_tx.tx_ins[0].script_sig.cmds:\n",
    "    try: print(cmd.hex())\n",
    "    except: print(cmd)"
   ]
  },
  {
   "cell_type": "code",
   "execution_count": 33,
   "metadata": {},
   "outputs": [],
   "source": [
    "#my_multisig_tx.tx_outs.pop(0)"
   ]
  },
  {
   "cell_type": "code",
   "execution_count": 34,
   "metadata": {},
   "outputs": [
    {
     "name": "stdout",
     "output_type": "stream",
     "text": [
      "OP_0 3045022100e9a2b73ff95e3395034e910d5d69dd3e18e12a28e9dacfd5f3b2894afd5fbf3f022035b50d48506932020fcea1781a0c58e9011918bd2a9cbbb5693027035ca9502b01 3045022100f7621bb014d53d8a97c0b5605317dd4a92b53e03dd22e71b1db85c12e92218ff02204b77ff2a5bc9f7921d8a17d36d04ca29cbe25b2061f7c2f5e227e449ba614ee501\n"
     ]
    }
   ],
   "source": [
    "#upsidedown = Script(my_multisig_tx.tx_ins[0].script_sig.cmds[::-1])\n",
    "straight = Script(my_multisig_tx.tx_ins[0].script_sig.cmds)\n",
    "rebuilt_script2 = Script(rebuilt_script.cmds[1:])\n",
    "#upsidedown.cmds.pop(0)\n",
    "straight.cmds.pop(-1)\n",
    "print(straight)"
   ]
  },
  {
   "cell_type": "code",
   "execution_count": 35,
   "metadata": {},
   "outputs": [],
   "source": [
    "combined_part2 = straight+ rebuilt_script"
   ]
  },
  {
   "cell_type": "code",
   "execution_count": 36,
   "metadata": {},
   "outputs": [],
   "source": [
    "from helper import hash256\n",
    "raw_modified=bytes.fromhex(\"01000000011af3ab90a1c274ecb1f5e6e499ed2d0b5b2ebc6bbcbab751836ea70c90656e9f0000000047522103e07f96e5ba598431c0c994493a4ae988c9854c171d5d4bb140db0a27a4c853e421031b63f964d8c65d1d1136dcfe5033dedea88c2d411934ea48c9708410be84e5ee52aeffffffff03c0e50e000000000017a9141060f2fd6058cd100fe4e485455badf453bd63e1871e810b00000000001976a91452903efc1004de01883ba3687be2a8ea4f6b1b1988ac40420f00000000001976a91452903efc1004de01883ba3687be2a8ea4f6b1b1988ac0000000001000000\")\n",
    "raw_script_sig=\"da00473044022051fdb0eef26c51cfde9969d591575550d799dfab7a70a8225714c0b18fae0c2002202cae4dfd0f564271dd10a3d5ea80b0c9c759c78d3e067389b19a7b750b2817830147304402202549aab65b9319669797678f89e4189f65abd7b95e5036116fae6f31844762f8022074466598010bb3cfdef1897a588f877c90508dd901666fc44d01fb5c643d44f7014847522103e07f96e5ba598431c0c994493a4ae988c9854c171d5d4bb140db0a27a4c853e421031b63f964d8c65d1d1136dcfe5033dedea88c2d411934ea48c9708410be84e5ee52ae\"\n",
    "z=int.from_bytes(hash256(raw_modified),\"big\")"
   ]
  },
  {
   "cell_type": "code",
   "execution_count": 37,
   "metadata": {},
   "outputs": [
    {
     "data": {
      "text/plain": [
       "False"
      ]
     },
     "execution_count": 37,
     "metadata": {},
     "output_type": "execute_result"
    }
   ],
   "source": [
    "combined_part2.evaluate(z)"
   ]
  },
  {
   "cell_type": "code",
   "execution_count": 38,
   "metadata": {},
   "outputs": [
    {
     "data": {
      "text/plain": [
       "OP_0 3045022100e9a2b73ff95e3395034e910d5d69dd3e18e12a28e9dacfd5f3b2894afd5fbf3f022035b50d48506932020fcea1781a0c58e9011918bd2a9cbbb5693027035ca9502b01 3045022100f7621bb014d53d8a97c0b5605317dd4a92b53e03dd22e71b1db85c12e92218ff02204b77ff2a5bc9f7921d8a17d36d04ca29cbe25b2061f7c2f5e227e449ba614ee501 OP_2 03e07f96e5ba598431c0c994493a4ae988c9854c171d5d4bb140db0a27a4c853e4 031b63f964d8c65d1d1136dcfe5033dedea88c2d411934ea48c9708410be84e5ee OP_2 OP_CHECKMULTISIG"
      ]
     },
     "execution_count": 38,
     "metadata": {},
     "output_type": "execute_result"
    }
   ],
   "source": [
    "combined_part2"
   ]
  },
  {
   "cell_type": "code",
   "execution_count": 39,
   "metadata": {},
   "outputs": [
    {
     "name": "stdout",
     "output_type": "stream",
     "text": [
      "False\n",
      "False\n"
     ]
    }
   ],
   "source": [
    "\n",
    "sec1=bytes.fromhex(str(combined_part2.cmds[4].hex()))\n",
    "sec2=bytes.fromhex(str(combined_part2.cmds[5].hex()))\n",
    "der1=bytes.fromhex(str(combined_part2.cmds[1][:-1].hex()))\n",
    "der2=bytes.fromhex(str(combined_part2.cmds[2][:-1].hex()))\n",
    "point1=S256Point.parse(sec1)\n",
    "point2=S256Point.parse(sec2)\n",
    "sig1=Signature.parse(der1)\n",
    "sig2=Signature.parse(der2)\n",
    "print(point1.verify(z,sig1))\n",
    "print(point2.verify(z,sig2))"
   ]
  },
  {
   "cell_type": "code",
   "execution_count": null,
   "metadata": {},
   "outputs": [],
   "source": []
  },
  {
   "cell_type": "code",
   "execution_count": null,
   "metadata": {},
   "outputs": [],
   "source": []
  }
 ],
 "metadata": {
  "kernelspec": {
   "display_name": "Python 3",
   "language": "python",
   "name": "python3"
  },
  "language_info": {
   "codemirror_mode": {
    "name": "ipython",
    "version": 3
   },
   "file_extension": ".py",
   "mimetype": "text/x-python",
   "name": "python",
   "nbconvert_exporter": "python",
   "pygments_lexer": "ipython3",
   "version": "3.7.4"
  }
 },
 "nbformat": 4,
 "nbformat_minor": 4
}
