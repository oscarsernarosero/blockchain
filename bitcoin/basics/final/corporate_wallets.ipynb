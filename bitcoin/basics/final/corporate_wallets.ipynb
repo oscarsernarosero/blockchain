{
 "cells": [
  {
   "cell_type": "code",
   "execution_count": 1,
   "metadata": {},
   "outputs": [],
   "source": [
    "from wallet import Wallet\n",
    "from accounts import SHMAccount\n",
    "from ecc import PrivateKey, S256Point\n",
    "from transactions import MultiSigTransaction"
   ]
  },
  {
   "cell_type": "markdown",
   "metadata": {},
   "source": [
    "### Wallets\n",
    "\n",
    "\n",
    "- CorporateSuperWallet is the main wallet. I AM THINKING TO MAKE MAIN WALLET A COMPANY WALLET INSTEAD, WHERE THERE IS NO PRIVATE KEYS.\n",
    "- CorporateWallet: cosigners at the top corporate level.\n",
    "- StoreWallet: responsible for only address generation for payments in each store.\n",
    "- DailySafeWallet: Multisignature single-herarchical wallet. Manageble (see balance and create transactions) by everybody but AssistantManagerWallet who only can authorize in emergency events.\n",
    "- WeeklySafeWallet: same as DailySafeWallet with the exception that no AssistantManagerWallet is part of this wallet.\n",
    "- CorporateSafeWallet: Multisignature fully-herarchical wallet. Supported on the non_hardened keys within tge year account which is a hardened derived account.\n",
    "- ManagerWallet: takes part in the DailySafeWallet and the WeeklySafeWallet.\n",
    "- AssistantManagerWallet: only a cosigner wallet. This is the most basic and simple wallet type.\n"
   ]
  },
  {
   "cell_type": "code",
   "execution_count": 2,
   "metadata": {},
   "outputs": [],
   "source": [
    "class CorporateSuperWallet(Wallet):\n",
    "    \n",
    "    def create_store_account(self, store_code):\n",
    "        \"\"\"\n",
    "        Returns the master private key of the store with index 'store_code'.\n",
    "        store_code: Integer. The code designated to the store. It is recomended that \n",
    "        this code matches that already stablished by the company.\n",
    "        \"\"\"\n",
    "        return \n",
    "    \n",
    "    def request_pubkeys_daily_safe(self,store_code, m=2,n=6):\n",
    "        \"\"\"\n",
    "        Returns the message to start requesting the public keys necessary to setup a\n",
    "        daily safe.\n",
    "        m: minumum signatures to validate transaction. Don't modify this if not necessary.\n",
    "        n: number of signatures than can sign the transaction.\n",
    "        store_code: Integer. The code designated to the store. It is recomended that \n",
    "        this code matches that already stablished by the company.\n",
    "        \"\"\"\n",
    "        #save in the database the unique_id, public keys, m, n, and the store_code.\n",
    "        return \n",
    "    \n",
    "    def create_daily_safe_wallet(self, public_key_list, m=2, n=6,addr_type=\"p2wsh\",\n",
    "                                 testnet=False, segwit=True):\n",
    "        \"\"\"\n",
    "        This is a watch-only wallet by definition. CHANGE THIS TO BE ABLE TO SIGN TX!\n",
    "        Returns a Single-Herarchical multisignature master wallet based on the public keys \n",
    "        and the master_pubkey.\n",
    "        public_key_list: the list of public keys of the keys that can sign the transaction.\n",
    "        the length of the list must be 6 according to the protocol. However, a different \n",
    "        length can be stablished.\n",
    "        m: minumum signatures to validate transaction. Don't modify this if not necessary.\n",
    "        n: number of signatures than can sign the transaction. Must match with \n",
    "        public_key_list's length-1.\n",
    "        \"\"\"\n",
    "        \n",
    "        path = \"m/44H/0H/1H\"\n",
    "        daily_safes_acc = self.get_child_from_path(path)\n",
    "        print(daily_safes_acc)\n",
    "        shm_account = SHMAccount(m,n, str(daily_safes_acc.xtended_public_key), public_key_list, _privkey=None,\n",
    "                                 addr_type=addr_type,testnet=testnet, segwit=segwit)\n",
    "        return shm_account\n",
    "    \n",
    "    def create_weekly_safe_wallet(self,master_pubkey, public_key_list, m=2, n=5,addr_type=\"p2wsh\",\n",
    "                                 testnet=False, segwit=True):\n",
    "        \"\"\"\n",
    "        This is a watch-only wallet by definition. CHANGE THIS TO BE ABLE TO SIGN TX!\n",
    "        Returns a Single-Herarchical multisignature master wallet based on the public keys \n",
    "        and the master_pubkey.\n",
    "        public_key_list: the list of public keys of the keys that can sign the transaction.\n",
    "        the length of the list must be 6 according to the protocol. However, a different \n",
    "        length can be stablished.\n",
    "        m: minumum signatures to validate transaction. Don't modify this if not necessary.\n",
    "        n: number of signatures than can sign the transaction. Must match with \n",
    "        public_key_list's length-1.\n",
    "        \"\"\"\n",
    "        path = \"m/44H/0H/2H\"\n",
    "        weekly_safes_acc = self.get_child_from_path(path)\n",
    "        shm_account = SHMAccount(m,n, weekly_safes_acc.xtended_public_key, public_key_list, _privkey=None,\n",
    "                                 addr_type=addr_type,testnet=testnet, segwit=segwit)\n",
    "        return shm_account\n",
    "    \n",
    "    def create_corporate_safe(self, index):\n",
    "        return \n",
    "    \n",
    "    def get_store_deposit_account(self, store_index):\n",
    "        return"
   ]
  },
  {
   "cell_type": "code",
   "execution_count": 3,
   "metadata": {},
   "outputs": [],
   "source": [
    "class StoreWallet(Wallet):\n",
    "    \n",
    "     def create_daily_safe(self, date_index, public_key_list,m=2,n=6):\n",
    "        \"\"\"\n",
    "        returns a multisignature account with the public keys and the index specified.\n",
    "        date_index: Integer. Must follow YYMMDD format.\n",
    "        public_key_list: the list of public keys of the keys that can sign the transaction.\n",
    "        the length of the list must be 6 according to the protocol. However, a different \n",
    "        length can be stablished.\n",
    "        m: minumum signatures to validate transaction. Don't modify this if not necessary.\n",
    "        n: number of signatures than can sign the transaction. Must match with \n",
    "        public_key_list's length.\n",
    "        \"\"\"\n",
    "        return \n",
    "    "
   ]
  },
  {
   "cell_type": "code",
   "execution_count": 4,
   "metadata": {},
   "outputs": [],
   "source": [
    "\n",
    "class ManagerWallet(Wallet):\n",
    "    \n",
    "    def get_daily_safe_pubkey(self):\n",
    "        path = \"m/44H/0H/1H\"\n",
    "        daily_safes_acc = self.get_child_from_path(path)\n",
    "        return daily_safes_acc.private_key_obj.point.sec()\n",
    "    \n",
    "    def accept_daily_safe_wallet(self,invite):\n",
    "        \"\"\"\n",
    "        accepts the invitation from a SuperCorporateWallet to participate in a daily-safe wallet.\n",
    "        The acceptance must be through a private key that matches one of the public keys that are\n",
    "        part of the SHM wallet passed in the invite.\n",
    "        invite: SHMAccount object. The wallet that we are going to be part of.\n",
    "        \"\"\"\n",
    "        path = \"m/44H/0H/1H\"\n",
    "        daily_safes_acc = self.get_child_from_path(path)\n",
    "        print(daily_safes_acc.private_key)\n",
    "        shm_account = SHMAccount(invite.m,invite.n, str(invite.xtended_pubkey), invite.public_keys, \n",
    "                                 daily_safes_acc.private_key_obj,invite.addr_type,invite.testnet)\n",
    "        return shm_account\n",
    "        "
   ]
  },
  {
   "cell_type": "code",
   "execution_count": 5,
   "metadata": {},
   "outputs": [
    {
     "name": "stdout",
     "output_type": "stream",
     "text": [
      "8418572761394767459444418608530371567217744336876557229650655736270882421023962287566834689847418048023007033142570964655978481626857402470209587761075589\n",
      "6018716354834777059445516500463325153454936853151215624488541646839939367247233986759821493097378851875115552924255831805062990606698886137563075847103799\n"
     ]
    }
   ],
   "source": [
    "words = \"engine over neglect science fatigue dawn axis parent mind man escape era goose border invest slab relax bind desert hurry useless lonely frozen morning\"\n",
    "manager1 = ManagerWallet.recover_from_words(words, 256, \"RobertPauslon\",True)\n",
    "\n",
    "words = \"client sudden sunset borrow pupil rely sand girl prefer movie bachelor guilt giraffe glove much strong dizzy switch ill silent goddess crumble goat power\"\n",
    "manager2 = ManagerWallet.recover_from_words(words,entropy=256,passphrase=\"RobertPaulson\",testnet=True)\n",
    "\n",
    "\n",
    "public_keys = [ manager1.get_daily_safe_pubkey(), manager2.get_daily_safe_pubkey(), PrivateKey(int.from_bytes(b\"Ashley Serna\",\"little\")).point.sec()]\n"
   ]
  },
  {
   "cell_type": "code",
   "execution_count": 6,
   "metadata": {},
   "outputs": [
    {
     "name": "stdout",
     "output_type": "stream",
     "text": [
      "Copy these words for future recovery:\n",
      "b'other seek spend wise milk govern conduct crunch train wrestle twist cattle'\n",
      "7349618075688827342644292161792411154388397071333136974711210419399617419860687939173705085036785308619307965881391603570352784472532296452988784284606559\n"
     ]
    }
   ],
   "source": [
    "corp_wallet=CorporateSuperWallet.generate_random(testnet=True)"
   ]
  },
  {
   "cell_type": "code",
   "execution_count": 7,
   "metadata": {},
   "outputs": [
    {
     "name": "stdout",
     "output_type": "stream",
     "text": [
      "tprv8fVXQGqBdhmo7Lymx7JARMiyt59rg9JuuS5uxVsgqKCpQt5wSD9G6HY8uVQs5CPNV5i6qt1vWes78DmmbrKa1gncZXpaL3m71GT3RsRcWda\n"
     ]
    }
   ],
   "source": [
    "invite = corp_wallet.create_daily_safe_wallet(public_keys,n=4,testnet=True)"
   ]
  },
  {
   "cell_type": "code",
   "execution_count": 8,
   "metadata": {},
   "outputs": [
    {
     "name": "stdout",
     "output_type": "stream",
     "text": [
      "b'\\xd3\\xcdG\\xa0\\xa1\\xbf\\x86V\\x879\\xa2\\x05Q3o\\xb7(\\x92Z\\x19\\xc8bzf\\xf7\\x9e\\xd4\\xfb\\xc9\\xf5\\xbdP'\n"
     ]
    }
   ],
   "source": [
    "daily_wallet_manager1 = manager1.accept_daily_safe_wallet(invite)"
   ]
  },
  {
   "cell_type": "code",
   "execution_count": 9,
   "metadata": {},
   "outputs": [
    {
     "name": "stdout",
     "output_type": "stream",
     "text": [
      "b\"\\xfe\\x8e\\xa2X\\xe1\\xe0\\x9b\\xef\\xd2s\\x1f;\\xd5\\xf3g\\x88\\xfd\\x97\\x13C/\\xe3H\\xdf\\xb8E\\xcc[$H\\x1f'\"\n"
     ]
    }
   ],
   "source": [
    "daily_wallet_manager2 = manager2.accept_daily_safe_wallet(invite)"
   ]
  },
  {
   "cell_type": "code",
   "execution_count": 15,
   "metadata": {},
   "outputs": [
    {
     "data": {
      "text/plain": [
       "'tb1qd2q0n0xcgty90fyzp4g7h0edeg32lennsd6q98v9t48mduz675nqaquxuk'"
      ]
     },
     "execution_count": 15,
     "metadata": {},
     "output_type": "execute_result"
    }
   ],
   "source": [
    "deposit_m1 = daily_wallet_manager1.get_deposit_account(200820)\n",
    "deposit_m1.address"
   ]
  },
  {
   "cell_type": "code",
   "execution_count": 16,
   "metadata": {},
   "outputs": [
    {
     "data": {
      "text/plain": [
       "'tb1qd2q0n0xcgty90fyzp4g7h0edeg32lennsd6q98v9t48mduz675nqaquxuk'"
      ]
     },
     "execution_count": 16,
     "metadata": {},
     "output_type": "execute_result"
    }
   ],
   "source": [
    "deposit_m2 = daily_wallet_manager2.get_deposit_account(200820)\n",
    "deposit_m2.address"
   ]
  },
  {
   "cell_type": "code",
   "execution_count": 12,
   "metadata": {},
   "outputs": [
    {
     "data": {
      "text/plain": [
       "'tb1qsklg6yhka9ea46py7rk08hnkv97685tn9gjtezv2e6tudyfc7qgsxhlypz'"
      ]
     },
     "execution_count": 12,
     "metadata": {},
     "output_type": "execute_result"
    }
   ],
   "source": []
  },
  {
   "cell_type": "code",
   "execution_count": 13,
   "metadata": {},
   "outputs": [
    {
     "data": {
      "text/plain": [
       "'tb1qsklg6yhka9ea46py7rk08hnkv97685tn9gjtezv2e6tudyfc7qgsxhlypz'"
      ]
     },
     "execution_count": 13,
     "metadata": {},
     "output_type": "execute_result"
    }
   ],
   "source": []
  },
  {
   "cell_type": "code",
   "execution_count": 18,
   "metadata": {},
   "outputs": [
    {
     "name": "stdout",
     "output_type": "stream",
     "text": [
      "trying P2WSH\n",
      "FIRST CASE: 0\n",
      "transaction IS SEGWIT\n",
      "transaction passed: d629b979a1d2b2eb797c0f37adee6920fac4a77b4232baaa975c4b499e862f1c\n",
      "Address: tb1qd2q0n0xcgty90fyzp4g7h0edeg32lennsd6q98v9t48mduz675nqaquxuk\n",
      "trying P2WSH\n",
      "tx: 05202f76c09c782ac576e12a9756b721edcc0ce7ade978e0924b693f295717a8\n",
      "version: 1\n",
      "tx_ins:\n",
      "d629b979a1d2b2eb797c0f37adee6920fac4a77b4232baaa975c4b499e862f1c:1\n",
      "tx_outs:\n",
      "777:OP_DUP OP_HASH160 52903efc1004de01883ba3687be2a8ea4f6b1b19 OP_EQUALVERIFY OP_CHECKSIG\n",
      "1000000:OP_0 6a80f9bcd842c857a4820d51ebbf2dca22afe6738374029d855d4fb6f05af526\n",
      "locktime: 0\n",
      "fee: 4096\n",
      "change 95127\n",
      "total 100000, diff: 0\n",
      "cmds is empty. Creating new set of commands\n",
      "sign_input_multisig commands: [b'0D\\x02 [\\xdcZ\\xa1\\xeb\\x9c\\x01\\xbb\\xd8\\xf5\\xf0\\xe7z\\xb5\\x8e\\xdep\\xbe\\x9fS \\xdd_\\x91a\\xb7X\\xd3`\\x87\\xe6\\xce\\x02 {!a\\xfc\\x19Q\\x1e\"h\\x82e\\xe9N\\x06_Q\\x82TB(\\xdf\\xd4\\xb8\\xd7\\xef,\\xf7B\\x16Z\\xfeE\\x01', 0, 0, 0, b\"R!\\x03\\xfb\\xb2\\x9f(\\xe2:\\x8d\\x07\\xf0X68\\xfa\\x89\\xe8e\\xba\\xd0-\\xd1yk\\xfae\\xad\\x95\\xa5\\x17v*\\xc2\\xca!\\x02\\x17n\\x0c\\xfd\\x84]'\\xce\\x83)\\x1fC\\x1d\\xda3s\\x8f\\xcf \\x96\\xa6\\xf3\\xf7\\xc4\\xab\\xde\\xb3p\\x08\\xed\\xe6}!\\x03\\x03\\xb0\\x94-\\xbe\\xd2\\xd0Nq\\xab+\\xa9\\xbc\\x05\\xb9 \\xf8O\\xfe+\\x8b\\x8c-\\x8c\\xfd\\x80*\\xda`\\xf6\\xe8\\xd1!\\x03\\x87\\x8c5:r\\x19J\\xbb3\\xab\\xe3\\xff\\x82\\xcfNQ\\xdb\\xefy{[\\xbc\\xac\\x16+\\x8b\\xec\\x1c)\\x98h\\x11T\\xae\"]\n",
      "segwit commands: [b'0D\\x02 [\\xdcZ\\xa1\\xeb\\x9c\\x01\\xbb\\xd8\\xf5\\xf0\\xe7z\\xb5\\x8e\\xdep\\xbe\\x9fS \\xdd_\\x91a\\xb7X\\xd3`\\x87\\xe6\\xce\\x02 {!a\\xfc\\x19Q\\x1e\"h\\x82e\\xe9N\\x06_Q\\x82TB(\\xdf\\xd4\\xb8\\xd7\\xef,\\xf7B\\x16Z\\xfeE\\x01', 0, 0, 0, b\"R!\\x03\\xfb\\xb2\\x9f(\\xe2:\\x8d\\x07\\xf0X68\\xfa\\x89\\xe8e\\xba\\xd0-\\xd1yk\\xfae\\xad\\x95\\xa5\\x17v*\\xc2\\xca!\\x02\\x17n\\x0c\\xfd\\x84]'\\xce\\x83)\\x1fC\\x1d\\xda3s\\x8f\\xcf \\x96\\xa6\\xf3\\xf7\\xc4\\xab\\xde\\xb3p\\x08\\xed\\xe6}!\\x03\\x03\\xb0\\x94-\\xbe\\xd2\\xd0Nq\\xab+\\xa9\\xbc\\x05\\xb9 \\xf8O\\xfe+\\x8b\\x8c-\\x8c\\xfd\\x80*\\xda`\\xf6\\xe8\\xd1!\\x03\\x87\\x8c5:r\\x19J\\xbb3\\xab\\xe3\\xff\\x82\\xcfNQ\\xdb\\xefy{[\\xbc\\xac\\x16+\\x8b\\xec\\x1c)\\x98h\\x11T\\xae\"]\n",
      "There are only 1 signatures, but 2 are required.\n",
      "transaction not ready to broadcast\n"
     ]
    }
   ],
   "source": [
    "prev_tx_id_list = [\"d629b979a1d2b2eb797c0f37adee6920fac4a77b4232baaa975c4b499e862f1c\"]\n",
    "my_tx = MultiSigTransaction.create(prev_tx_id_list, [(\"mo3WWB4PoSHrudEBik1nUqfn1uZEPNYEc8\",777)], deposit_m1, fee=None, \n",
    "                 segwit=True)"
   ]
  },
  {
   "cell_type": "code",
   "execution_count": 19,
   "metadata": {},
   "outputs": [
    {
     "name": "stdout",
     "output_type": "stream",
     "text": [
      "sign_input_multisig commands: [b'0D\\x02 [\\xdcZ\\xa1\\xeb\\x9c\\x01\\xbb\\xd8\\xf5\\xf0\\xe7z\\xb5\\x8e\\xdep\\xbe\\x9fS \\xdd_\\x91a\\xb7X\\xd3`\\x87\\xe6\\xce\\x02 {!a\\xfc\\x19Q\\x1e\"h\\x82e\\xe9N\\x06_Q\\x82TB(\\xdf\\xd4\\xb8\\xd7\\xef,\\xf7B\\x16Z\\xfeE\\x01', b'0E\\x02!\\x00\\xec\\x93\\xaa5\\xab\\xab\\x8e?\\xf1\\xb3c\\xfa\\x9b\\xf2c\\xf1>s\\x8e\\xe2\\x89\\xe1\\xb9:]\\x10\\x8cgL\\x8dz\\xba\\x02 e\\xa4\\x8cn\\x17\\xe2\\xe4\\xa0\\x82\\xaf\\x80\\xf3d\\xc0\\xda\\xf5\\xd8\\xde/}\\xe1\\xb9\\x1cj\\x02A\\xb8P\\x10\\r\\xf2T\\x01', 0, 0, b\"R!\\x03\\xfb\\xb2\\x9f(\\xe2:\\x8d\\x07\\xf0X68\\xfa\\x89\\xe8e\\xba\\xd0-\\xd1yk\\xfae\\xad\\x95\\xa5\\x17v*\\xc2\\xca!\\x02\\x17n\\x0c\\xfd\\x84]'\\xce\\x83)\\x1fC\\x1d\\xda3s\\x8f\\xcf \\x96\\xa6\\xf3\\xf7\\xc4\\xab\\xde\\xb3p\\x08\\xed\\xe6}!\\x03\\x03\\xb0\\x94-\\xbe\\xd2\\xd0Nq\\xab+\\xa9\\xbc\\x05\\xb9 \\xf8O\\xfe+\\x8b\\x8c-\\x8c\\xfd\\x80*\\xda`\\xf6\\xe8\\xd1!\\x03\\x87\\x8c5:r\\x19J\\xbb3\\xab\\xe3\\xff\\x82\\xcfNQ\\xdb\\xefy{[\\xbc\\xac\\x16+\\x8b\\xec\\x1c)\\x98h\\x11T\\xae\"]\n",
      "segwit commands: [b'0D\\x02 [\\xdcZ\\xa1\\xeb\\x9c\\x01\\xbb\\xd8\\xf5\\xf0\\xe7z\\xb5\\x8e\\xdep\\xbe\\x9fS \\xdd_\\x91a\\xb7X\\xd3`\\x87\\xe6\\xce\\x02 {!a\\xfc\\x19Q\\x1e\"h\\x82e\\xe9N\\x06_Q\\x82TB(\\xdf\\xd4\\xb8\\xd7\\xef,\\xf7B\\x16Z\\xfeE\\x01', b'0E\\x02!\\x00\\xec\\x93\\xaa5\\xab\\xab\\x8e?\\xf1\\xb3c\\xfa\\x9b\\xf2c\\xf1>s\\x8e\\xe2\\x89\\xe1\\xb9:]\\x10\\x8cgL\\x8dz\\xba\\x02 e\\xa4\\x8cn\\x17\\xe2\\xe4\\xa0\\x82\\xaf\\x80\\xf3d\\xc0\\xda\\xf5\\xd8\\xde/}\\xe1\\xb9\\x1cj\\x02A\\xb8P\\x10\\r\\xf2T\\x01', 0, 0, b\"R!\\x03\\xfb\\xb2\\x9f(\\xe2:\\x8d\\x07\\xf0X68\\xfa\\x89\\xe8e\\xba\\xd0-\\xd1yk\\xfae\\xad\\x95\\xa5\\x17v*\\xc2\\xca!\\x02\\x17n\\x0c\\xfd\\x84]'\\xce\\x83)\\x1fC\\x1d\\xda3s\\x8f\\xcf \\x96\\xa6\\xf3\\xf7\\xc4\\xab\\xde\\xb3p\\x08\\xed\\xe6}!\\x03\\x03\\xb0\\x94-\\xbe\\xd2\\xd0Nq\\xab+\\xa9\\xbc\\x05\\xb9 \\xf8O\\xfe+\\x8b\\x8c-\\x8c\\xfd\\x80*\\xda`\\xf6\\xe8\\xd1!\\x03\\x87\\x8c5:r\\x19J\\xbb3\\xab\\xe3\\xff\\x82\\xcfNQ\\xdb\\xefy{[\\xbc\\xac\\x16+\\x8b\\xec\\x1c)\\x98h\\x11T\\xae\"]\n",
      "script_pubkey of tx IN: OP_0 6a80f9bcd842c857a4820d51ebbf2dca22afe6738374029d855d4fb6f05af526\n",
      "\n",
      "combined script[0, b'j\\x80\\xf9\\xbc\\xd8B\\xc8W\\xa4\\x82\\rQ\\xeb\\xbf-\\xca\"\\xaf\\xe6s\\x83t\\x02\\x9d\\x85]O\\xb6\\xf0Z\\xf5&']\n",
      "\n",
      "TRANSACTION READY!\n",
      "Run serialize().hex() to get the raw transaction.\n"
     ]
    }
   ],
   "source": [
    "my_tx_signed_by2 = MultiSigTransaction.sign_received_tx(my_tx,deposit_m2)"
   ]
  },
  {
   "cell_type": "code",
   "execution_count": 20,
   "metadata": {},
   "outputs": [
    {
     "data": {
      "text/plain": [
       "'010000000001011c2f869e494b5c97aaba32427ba7c4fa2069eead370f7c79ebb2d2a179b929d60100000000ffffffff0209030000000000001976a91452903efc1004de01883ba3687be2a8ea4f6b1b1988ac97730100000000002200206a80f9bcd842c857a4820d51ebbf2dca22afe6738374029d855d4fb6f05af526040047304402205bdc5aa1eb9c01bbd8f5f0e77ab58ede70be9f5320dd5f9161b758d36087e6ce02207b2161fc19511e22688265e94e065f5182544228dfd4b8d7ef2cf742165afe4501483045022100ec93aa35abab8e3ff1b363fa9bf263f13e738ee289e1b93a5d108c674c8d7aba022065a48c6e17e2e4a082af80f364c0daf5d8de2f7de1b91c6a0241b850100df254018b522103fbb29f28e23a8d07f0583638fa89e865bad02dd1796bfa65ad95a517762ac2ca2102176e0cfd845d27ce83291f431dda33738fcf2096a6f3f7c4abdeb37008ede67d210303b0942dbed2d04e71ab2ba9bc05b920f84ffe2b8b8c2d8cfd802ada60f6e8d12103878c353a72194abb33abe3ff82cf4e51dbef797b5bbcac162b8bec1c2998681154ae00000000'"
      ]
     },
     "execution_count": 20,
     "metadata": {},
     "output_type": "execute_result"
    }
   ],
   "source": [
    "my_tx_signed_by2.serialize().hex()"
   ]
  },
  {
   "cell_type": "code",
   "execution_count": 5,
   "metadata": {},
   "outputs": [],
   "source": [
    "from constants import *"
   ]
  },
  {
   "cell_type": "code",
   "execution_count": 23,
   "metadata": {},
   "outputs": [],
   "source": [
    "from wallet import Wallet\n",
    "from accounts import SHMAccount\n",
    "from ecc import PrivateKey, S256Point\n",
    "from transactions import MultiSigTransaction\n",
    "import datetime\n",
    "from bip32 import Xtended_pubkey, Xtended_privkey\n",
    "\n",
    "class SHDSafeWallet(Wallet):\n",
    "    \"\"\"\n",
    "    SafeWallet is a Multisignature SHD wallet.\n",
    "    SHDM Single Herarchical Deterministic Multi-Signature Wallet\n",
    "    \"\"\"\n",
    "    def __init__(self, name, public_key_list, m=2, n=6,addr_type=\"p2wsh\",_privkey=None, master_pubkey=None, \n",
    "                 master_privkey=None, testnet=False, segwit=True, parent_name=None, safe_index=-1):\n",
    "        \"\"\"\n",
    "        public_key_list: List of public keys. Must be in bytes.\n",
    "        m: integer\n",
    "        n: integer\n",
    "        _privkey: PrivateKey object. If you provide a Private key, don't provide a master_privkey.\n",
    "        master_pubkey: Xtended_pubkey object. If you provide a master_privkey, it is not necessary to\n",
    "        provide a master_pubkey.\n",
    "        master_privkey: Xtended_privkey object. If you provide a master_privkey, don't provide a _privkey.\n",
    "        testnet: Boolean.\n",
    "        segwit: Boolean.\n",
    "        child_wallet: Boolean.\n",
    "        \"\"\"\n",
    "        \n",
    "        if m < 1 or m > 16 or n < 1 or n > 16: raise Exception(\"m and n must be between 1 and 16\")\n",
    "        if m > n: raise Exception(\"m must be always less or equal than n\")   \n",
    "        if len(public_key_list) != (n-1):\n",
    "            msg = \"n and the amount of public keys don't match. The amount of public keys must always be n-1.\"\n",
    "            raise Exception(msg)\n",
    "        \n",
    "        self.index = None\n",
    "        #getting the index of the private key in the list of public keys\n",
    "        if _privkey is not None and master_privkey is None and master_pubkey is not None:\n",
    "            self.wallet_type = \"simple\"\n",
    "            self.master_privkey = None\n",
    "            self.privkey = _privkey\n",
    "            self.pubkey = self.privkey.point.sec()\n",
    "            for i,public_key in enumerate(public_key_list):\n",
    "                if public_key == self.pubkey:\n",
    "                    self.index = i\n",
    "            if self.index is None: raise Exception (\"Private key must be able to generate one of the public keys.\")\n",
    "            self.master_pubkey = master_pubkey\n",
    "        \n",
    "        elif _privkey is None and master_privkey is not None:\n",
    "            self.privkey = _privkey\n",
    "            self.wallet_type = \"main\"\n",
    "            self.master_privkey = master_privkey\n",
    "            self.master_pubkey = self.master_privkey.xtended_public_key\n",
    "            \n",
    "        elif _privkey is not None and master_privkey is not None:\n",
    "            msg1 = \"Provide either a Private key or a master_privkey, not both. Provide a _privkey if you are not \"\n",
    "            msg2 = \"the main creator of the wallet or if you received this wallet as an invitation. Provide a \"\n",
    "            msg3 = \"master_privkey if you have the public keys of the cosigners and you are in charge of sharing \"\n",
    "            msg4 = \"this wallet with the cosigners.\"\n",
    "            raise Exception (msg1+msg2+msg3+msg4)\n",
    "            \n",
    "        elif _privkey is None and master_privkey is None and master_pubkey is not None: \n",
    "            self.wallet_type = \"watch-only\"\n",
    "            self.privkey = _privkey\n",
    "            self.master_privkey = None\n",
    "            self.master_pubkey = master_pubkey\n",
    "        else:\n",
    "            raise Exception (\"You can only skip providing a master public key when you provide a master private key.\")\n",
    "        \n",
    "        self.public_key_list = public_key_list\n",
    "        self.m = m\n",
    "        self.n = n\n",
    "        self.addr_type = addr_type\n",
    "        self.testnet = testnet\n",
    "        self.segwit =segwit\n",
    "        self.name = name\n",
    "        self.parent_name = parent_name\n",
    "        self.safe_index = safe_index\n",
    "        \n",
    "        #save the new wallet in the database\n",
    "        #but first, lets convert the public keys to bytes to avoid problems in the database\n",
    "        int_pubkeys = [int.from_bytes(x,\"big\") for x in self.public_key_list]\n",
    "        if self.privkey is not None: int_privkey = int.from_bytes(self.privkey,\"big\")\n",
    "        else: int_privkey = None\n",
    "        \n",
    "        self.start_conn()\n",
    "        self.db.new_SHDSafeWallet(self.name, str(int_pubkeys), self.m, self.n, str(int_privkey),\n",
    "                                  str(self.master_privkey.xtended_key), str(self.master_pubkey.get_xtended_key()),\n",
    "                                  self.addr_type, int(self.testnet), int(self.segwit), self.parent_name, \n",
    "                                  self.safe_index)\n",
    "        \n",
    "        self.close_conn()\n",
    "        \n",
    "    @classmethod    \n",
    "    def from_privkey_masterpubkey(cls, name, public_key_list, master_pubkey, _privkey, m=2, n=6,addr_type=\"p2wsh\", \n",
    "                                   testnet=False, segwit=True,parent_name=None,index=-1):\n",
    "        \"\"\"\n",
    "        simple\n",
    "        \"\"\"\n",
    "        return cls(name,public_key_list=public_key_list, m=m, n=n,addr_type=addr_type,_privkey=_privkey, \n",
    "                   master_pubkey=master_pubkey,testnet=testnet, segwit=segwit,parent_name=parent_name, \n",
    "                   safe_index=index)\n",
    "    \n",
    "    @classmethod    \n",
    "    def from_master_privkey(cls, name, public_key_list, master_privkey, m=2, n=6,addr_type=\"p2wsh\",\n",
    "                            testnet=False, segwit=True,  parent_name=None,index=-1):\n",
    "        \"\"\"\n",
    "        main\n",
    "        \"\"\"\n",
    "        return cls(name,public_key_list=public_key_list, m=m, n=n, addr_type=addr_type, master_privkey=master_privkey, \n",
    "                   testnet=testnet, segwit=segwit,parent_name=parent_name, safe_index=index)\n",
    "    \n",
    "    @classmethod    \n",
    "    def watch_only(cls, name, public_key_list,master_pubkey,m=2,n=6,addr_type=\"p2wsh\",testnet=False, segwit=True, \n",
    "                    parent_name=None, index=-1):\n",
    "        \"\"\"\n",
    "        watch-only\n",
    "        \"\"\"\n",
    "        return cls(name,public_key_list=public_key_list, m=m, n=n, addr_type=addr_type, master_pubkey=master_pubkey,\n",
    "                   testnet=testnet, segwit=segwit, parent_name=parent_name, safe_index=index)\n",
    "    \n",
    "    @classmethod   \n",
    "    def from_database(self, name):\n",
    "        self.start_conn(self)\n",
    "        w = self.db.recover_SHDSafeWallet(name)\n",
    "        try: w = w[0]\n",
    "        except: \n",
    "            print(f\"wallet with name {name} not found \")\n",
    "            return False\n",
    "        self.close_conn(self)\n",
    "        print(w)\n",
    "        \n",
    "        \n",
    "        pubkeys = w[1][1:-2].split(\", \")\n",
    "        public_key_list = [int(x).to_bytes(33,\"big\") for x in pubkeys]\n",
    "        print(public_key_list)\n",
    "        if w[4] == \"None\": privkey = None\n",
    "        else: privkey = int(w[4]).to_bytes(32,\"big\")\n",
    "        if w[6] == \"None\": master_pubkey=None \n",
    "        else: master_pubkey = Xtended_pubkey.parse(w[6])\n",
    "        if w[5] == \"None\": master_privkey = None\n",
    "        else: master_privkey = Xtended_privkey.parse(w[5])\n",
    "        if w[10] == \"None\": parent_name = None\n",
    "        else: parent_name = w[10]\n",
    "        \n",
    "        return self(name, public_key_list, w[2],w[3],w[7],privkey,master_pubkey,master_privkey,\n",
    "                    w[8],w[9],parent_name,w[11])\n",
    "    \n",
    "    def get_i(self,wallet_name, account_path, index):\n",
    "        \n",
    "        self.start_conn()\n",
    "\n",
    "        last_index = self.db.get_max_index( account_path, wallet_name)\n",
    "\n",
    "        if last_index is None: i = 0\n",
    "        else: i = last_index + 1\n",
    "        \n",
    "        self.close_conn()\n",
    "        return i\n",
    "        \n",
    "    def get_child_wallet(self, index, path):\n",
    "        \"\"\"\n",
    "        This is the wallet for specific daily or weekly safes. Therefore, the index must comply with the format YYMMDD\n",
    "        for daily safes, and YYWW for weekly safes.\n",
    "        index: Integer.\n",
    "        \"\"\"\n",
    "        #data validation\n",
    "        if self.safe_index > -1: raise Exception (\"Only master wallets can create child wallets.\")  \n",
    "        if index < 2000 or index > 999999 or (index > 9999 and index < 200101):\n",
    "            raise Exception (\"Bad index for daily or weekly safe. Follow YYMMDD for daily or YYWW for weekly.\")\n",
    "        \n",
    "        full_path = path + str(index)\n",
    "        #wallet creation depending on the type of wallet\n",
    "        if self.wallet_type == \"main\":\n",
    "            child_xtended_privkey = self.master_privkey.get_child_from_path(full_path)\n",
    "            \n",
    "            child_wallet = SHDSafeWallet.from_master_privkey( str(index),self.public_key_list, child_xtended_privkey, \n",
    "                                                             self.m,self.n,self.addr_type,self.testnet, self.segwit,\n",
    "                                                            self.name, index)\n",
    "        elif self.wallet_type == \"simple\":\n",
    "            child_xtended_pubkey = self.master_pubkey.get_child_from_path(full_path)\n",
    "            \n",
    "            child_wallet = SHDSafeWallet.from_privkey_masterpubkey(str(index),self.public_key_list, child_xtended_pubkey,\n",
    "                                                                   self._privkey, self.m, self.n,self.addr_type, \n",
    "                                                                   self.testnet, self.segwit,self.name, index)\n",
    "        elif self.wallet_type == \"watch-only\":\n",
    "            child_xtended_pubkey = self.master_pubkey.get_child_from_path(full_path)\n",
    "            \n",
    "            child_wallet = SHDSafeWallet.watch_only(str(index),self.public_key_list,child_xtended_pubkey,self.m,self.n,\n",
    "                                                    self.addr_type,self.testnet, self.segwit,self.name, index)\n",
    "        \n",
    "        return child_wallet\n",
    "    \n",
    "    def get_daily_safe_wallet(self, index=None):\n",
    "        \"\"\"\n",
    "        Returns a daily_safe wallet based on the index.\n",
    "        If today's wallet is desired, don't pass any argument or set index to None.\n",
    "        \"\"\"\n",
    "        if self.safe_index >= 0: raise Exception (\"Only master wallets can create safe wallets.\")\n",
    "        path = \"m/44H/0H/1H/\"\n",
    "        if index is None:\n",
    "            today = datetime.datetime.now()\n",
    "            index_string = str(today.year)[:2]+'{:02d}'.format(today.month)+'{:02d}'.format(today.day)\n",
    "            index = int(index_string)\n",
    "            \n",
    "        safe_wallet = self.get_child_wallet(index, path)\n",
    "        \n",
    "        return safe_wallet\n",
    "    \n",
    "    \n",
    "    def get_unused_addresses_list(self, change_addresses=False):\n",
    "        \n",
    "        unused_addresses = self.db.get_unused_safe_addresses(name = self.name)\n",
    "        print(unused_addresses)\n",
    "        \n",
    "        if    change_addresses: unused_addresses_filtered =  [x for x in unused_addresses if x[1]==1]\n",
    "        else: unused_addresses_filtered =  [x for x in unused_addresses if x[1]==0]\n",
    "        \n",
    "        return unused_addresses_filtered\n",
    "                               \n",
    "                               \n",
    "    def create_receiving_address(self, addr_type = \"p2wsh\",index=0):\n",
    "        if self.safe_index < 0: raise Exception (\"Only child wallets can create addresses.\")\n",
    "        if addr_type.lower() ==    \"p2sh\":       _type  = P2SH\n",
    "        elif addr_type.lower() ==   \"p2wsh\":     _type  = P2WSH\n",
    "        elif addr_type.lower() == \"p2sh_p2wsh\":  _type  = P2SH_P2WSH\n",
    "        else: raise Exception(f\"{addr_type} is NOT a valid type of address.\")\n",
    "        receiving_path = \"m/0/\"\n",
    "        #i = self.get_i(self.name,receiving_path, index)\n",
    "        i = index\n",
    "        path = receiving_path + str(i)\n",
    "        print(f\"Deposit address's Path: {path}\")\n",
    "        \n",
    "        account = SHMAccount(self.m, self.n, str(self.master_pubkey), self.public_key_list, self.privkey,\n",
    "                             self.addr_type, self.testnet, self.segwit)\n",
    "        \n",
    "        address = account.get_deposit_address(i)\n",
    "        #try: print(f\"{self.db} OK.\")\n",
    "        #except: self.start_conn()\n",
    "        self.start_conn()\n",
    "        self.db.new_address(address,receiving_path,i,FALSE, _type, self.name, self.safe_index)\n",
    "        self.close_conn()\n",
    "        return address\n",
    "\n",
    "    \n",
    "    def create_change_address(self, addr_type = \"p2wsh\", index=None):\n",
    "        if self.safe_index < 0: raise Exception (\"Only child wallets can create addresses.\")\n",
    "        receiving_path = \"m/1/\"\n",
    "        \n",
    "        i = self.get_i(self.name,receiving_path, index)\n",
    "        path = receiving_path + str(i)\n",
    "        print(f\"Change address's Path: {path}\")\n",
    "        \n",
    "        account = SHMAccount(self.m, self.n, str(self.master_pubkey), self.public_key_list, self.privkey,\n",
    "                             self.addr_type, self.testnet, self.segwit)\n",
    "        \n",
    "        address = account.get_change_address(i)\n",
    "        #try: print(f\"{self.db} OK.\")\n",
    "        #except: self.start_conn()\n",
    "        self.start_conn()\n",
    "        self.db.new_address(address,receiving_path,i,TRUE, P2WSH, self.name, self.safe_index)\n",
    "        self.close_conn()\n",
    "        return address\n",
    "    \n",
    "    def get_a_change_address(self):\n",
    "        \"\"\"\n",
    "        Returns an Account object containing a change address. It returns an existing unused change\n",
    "        address account, or creates a new one if necessary.\n",
    "        \"\"\"\n",
    "        if self.safe_index < 0: raise Exception (\"Only child wallets can create addresses.\")\n",
    "        self.start_conn()\n",
    "        unused_addresses = self.get_unused_addresses_list(change_addresses=True)\n",
    "        self.close_conn()\n",
    "        \n",
    "        if len(unused_addresses)>0: return unused_addresses[0][0]\n",
    "        else: return self.create_change_address()\n",
    "    \n",
    "    \n",
    "    ###################################\n",
    "    def create_weekly_safe_wallet(self,master_pubkey, public_key_list, m=2, n=5,addr_type=\"p2wsh\",\n",
    "                                 testnet=False, segwit=True):\n",
    "        \"\"\"\n",
    "        This is a watch-only wallet by definition. CHANGE THIS TO BE ABLE TO SIGN TX!\n",
    "        Returns a Single-Herarchical multisignature master wallet based on the public keys \n",
    "        and the master_pubkey.\n",
    "        public_key_list: the list of public keys of the keys that can sign the transaction.\n",
    "        the length of the list must be 6 according to the protocol. However, a different \n",
    "        length can be stablished.\n",
    "        m: minumum signatures to validate transaction. Don't modify this if not necessary.\n",
    "        n: number of signatures than can sign the transaction. Must match with \n",
    "        public_key_list's length-1.\n",
    "        \"\"\"\n",
    "        path = \"m/44H/0H/2H\"\n",
    "        weekly_safes_acc = self.get_child_from_path(path)\n",
    "        shm_account = SHMAccount(m,n, weekly_safes_acc.xtended_public_key, public_key_list, _privkey=None,\n",
    "                                 addr_type=addr_type,testnet=testnet, segwit=segwit)\n",
    "        return shm_account\n",
    "    \n",
    "    def get_daily_safe_pubkey(self):\n",
    "        path = \"m/44H/0H/1H\"\n",
    "        daily_safes_acc = self.get_child_from_path(path)\n",
    "        return daily_safes_acc.private_key_obj.point.sec()\n",
    "    \n",
    "    def accept_daily_safe_wallet(self,invite):\n",
    "        \"\"\"\n",
    "        accepts the invitation from a SuperCorporateWallet to participate in a daily-safe wallet.\n",
    "        The acceptance must be through a private key that matches one of the public keys that are\n",
    "        part of the SHM wallet passed in the invite.\n",
    "        invite: SHMAccount object. The wallet that we are going to be part of.\n",
    "        \"\"\"\n",
    "        path = \"m/44H/0H/1H\"\n",
    "        daily_safes_acc = self.get_child_from_path(path)\n",
    "        print(daily_safes_acc.private_key)\n",
    "        shm_account = SHMAccount(invite.m,invite.n, str(invite.xtended_pubkey), invite.public_keys, \n",
    "                                 daily_safes_acc.private_key_obj,invite.addr_type,invite.testnet)\n",
    "        return shm_account"
   ]
  },
  {
   "cell_type": "code",
   "execution_count": 7,
   "metadata": {},
   "outputs": [
    {
     "name": "stdout",
     "output_type": "stream",
     "text": [
      "8418572761394767459444418608530371567217744336876557229650655736270882421023962287566834689847418048023007033142570964655978481626857402470209587761075589\n",
      "6018716354834777059445516500463325153454936853151215624488541646839939367247233986759821493097378851875115552924255831805062990606698886137563075847103799\n",
      "7349618075688827342644292161792411154388397071333136974711210419399617419860687939173705085036785308619307965881391603570352784472532296452988784284606559\n"
     ]
    }
   ],
   "source": [
    "words = \"engine over neglect science fatigue dawn axis parent mind man escape era goose border invest slab relax bind desert hurry useless lonely frozen morning\"\n",
    "manager1 = ManagerWallet.recover_from_words(words, 256, \"RobertPauslon\",True)\n",
    "\n",
    "words = \"client sudden sunset borrow pupil rely sand girl prefer movie bachelor guilt giraffe glove much strong dizzy switch ill silent goddess crumble goat power\"\n",
    "manager2 = ManagerWallet.recover_from_words(words,entropy=256,passphrase=\"RobertPaulson\",testnet=True)\n",
    "\n",
    "\n",
    "public_keys = [ manager1.get_daily_safe_pubkey(), manager2.get_daily_safe_pubkey(), PrivateKey(int.from_bytes(b\"Ashley Serna\",\"little\")).point.sec()]\n",
    "\n",
    "\n",
    "words_master=\"other seek spend wise milk govern conduct crunch train wrestle twist cattle\"\n",
    "master_wallet = CorporateSuperWallet.recover_from_words(words_master,128,\"\",True)"
   ]
  },
  {
   "cell_type": "code",
   "execution_count": 13,
   "metadata": {},
   "outputs": [
    {
     "name": "stdout",
     "output_type": "stream",
     "text": [
      "connection with database made.\n",
      "INSERT INTO SHDSafeWallet (name,public_key_list,m,n,privkey,xpriv,xpub,addr_type,testnet,segwit,parent_name ,safe_index) \n",
      "VALUES(\"test1_master_wallet\",\"[461222389963770672910023206337944803706847222730930779040024025202330161562314, 242181816824935352779949905339585673702570459364503992825384375679130606102141, 349045194032852365244858435810860057589910251399394147451364362662197641799889]\",2,4,\"None\",\"tprv8fVXQGqBdhmo7Lymx7JARMiyt59rg9JuuS5uxVsgqKCpQt5wSD9G6HY8uVQs5CPNV5i6qt1vWes78DmmbrKa1gncZXpaL3m71GT3RsRcWda\",\"tpubDCBZYgsRn5TTzp1ZqkxkpmP6T6fnqUVpUjghF1uzFb1DFNLi4bxrGnA15c4fLY14bbpZnT1uhNqZPmZHY2yNNFfGJTSAxHZgVj6yDUGSThv\",\"p2wsh\",1,1,'None',-1) ;\n"
     ]
    }
   ],
   "source": [
    "\"\"\"\n",
    "main_wallet = SHDSafeWallet.from_master_privkey(\"test1_master_wallet\",public_keys,\n",
    "                                                master_privkey=master_wallet.get_child_from_path(\"m/44H/0H/1H\"),\n",
    "                                               n=4,testnet=True)\n",
    "                                               \"\"\""
   ]
  },
  {
   "cell_type": "code",
   "execution_count": 24,
   "metadata": {},
   "outputs": [
    {
     "name": "stdout",
     "output_type": "stream",
     "text": [
      "connection with database made.\n",
      "('test1_master_wallet', '[461222389963770672910023206337944803706847222730930779040024025202330161562314, 242181816824935352779949905339585673702570459364503992825384375679130606102141, 349045194032852365244858435810860057589910251399394147451364362662197641799889]', 2, 4, 'None', 'tprv8fVXQGqBdhmo7Lymx7JARMiyt59rg9JuuS5uxVsgqKCpQt5wSD9G6HY8uVQs5CPNV5i6qt1vWes78DmmbrKa1gncZXpaL3m71GT3RsRcWda', 'tpubDCBZYgsRn5TTzp1ZqkxkpmP6T6fnqUVpUjghF1uzFb1DFNLi4bxrGnA15c4fLY14bbpZnT1uhNqZPmZHY2yNNFfGJTSAxHZgVj6yDUGSThv', 'p2wsh', 1, 1, 'None', -1)\n",
      "[b'\\x03\\xfb\\xb2\\x9f(\\xe2:\\x8d\\x07\\xf0X68\\xfa\\x89\\xe8e\\xba\\xd0-\\xd1yk\\xfae\\xad\\x95\\xa5\\x17v*\\xc2\\xca', b\"\\x02\\x17n\\x0c\\xfd\\x84]'\\xce\\x83)\\x1fC\\x1d\\xda3s\\x8f\\xcf \\x96\\xa6\\xf3\\xf7\\xc4\\xab\\xde\\xb3p\\x08\\xed\\xe6}\", b\"\\x00M+B\\x04\\x93\\x15\\x14\\xd4\\xa4\\xf7\\x84]\\xc6\\x00\\x92\\x83L\\x07\\xff\\xd1'\\x8e\\x04\\x8e\\x19Y\\x9d\\xe2\\xa3K\\xe4\\x14\"]\n",
      "connection with database made.\n",
      "INSERT OR IGNORE INTO SHDSafeWallet (name,public_key_list,m,n,privkey,xpriv,xpub,addr_type,testnet,segwit,parent_name ,safe_index) \n",
      "VALUES(\"test1_master_wallet\",\"[461222389963770672910023206337944803706847222730930779040024025202330161562314, 242181816824935352779949905339585673702570459364503992825384375679130606102141, 34904519403285236524485843581086005758991025139939414745136436266219764179988]\",2,4,\"None\",\"tprv8fVXQGqBdhmo7Lymx7JARMiyt59rg9JuuS5uxVsgqKCpQt5wSD9G6HY8uVQs5CPNV5i6qt1vWes78DmmbrKa1gncZXpaL3m71GT3RsRcWda\",\"tpubDCBZYgsRn5TTzp1ZqkxkpmP6T6fnqUVpUjghF1uzFb1DFNLi4bxrGnA15c4fLY14bbpZnT1uhNqZPmZHY2yNNFfGJTSAxHZgVj6yDUGSThv\",\"p2wsh\",1,1,'None',-1) ;\n"
     ]
    }
   ],
   "source": [
    "main_wallet = SHDSafeWallet.from_database(\"test1_master_wallet\")"
   ]
  },
  {
   "cell_type": "code",
   "execution_count": 25,
   "metadata": {},
   "outputs": [
    {
     "name": "stdout",
     "output_type": "stream",
     "text": [
      "connection with database made.\n",
      "INSERT OR IGNORE INTO SHDSafeWallet (name,public_key_list,m,n,privkey,xpriv,xpub,addr_type,testnet,segwit,parent_name ,safe_index) \n",
      "VALUES(\"200824\",\"[461222389963770672910023206337944803706847222730930779040024025202330161562314, 242181816824935352779949905339585673702570459364503992825384375679130606102141, 34904519403285236524485843581086005758991025139939414745136436266219764179988]\",2,4,\"None\",\"tprv8oQnacENnx7rtGLHALR3qJ5cAA3Vxq6iJpwL3VaM3Th6eLgVYPbKKYSakJ7sNZHGxgpXuyRQdma5LsMK6qnXCgR9U1iLeFD44owPkU9iNNV\",\"tpubDL6pj2GcwKoXmjN53z5eEhjijBZS8AHct8Y7L1ceTjVVUpwGAnQuW34SvTFNaPWReUhkopbjQhgRphKeroKEuxBMntMHQrfm3RZ3JcVAUcP\",\"p2wsh\",1,1,'test1_master_wallet',200824) ;\n"
     ]
    }
   ],
   "source": [
    "todays_wallet = main_wallet.get_daily_safe_wallet()"
   ]
  },
  {
   "cell_type": "code",
   "execution_count": 15,
   "metadata": {},
   "outputs": [
    {
     "name": "stdout",
     "output_type": "stream",
     "text": [
      "Deposit address's Path: m/0/0\n",
      "connection with database made.\n"
     ]
    },
    {
     "data": {
      "text/plain": [
       "'tb1q6lxsdgzj2p988kyr7p72fqwtgkk56305kv7g64507wuqx78hratqnl58g8'"
      ]
     },
     "execution_count": 15,
     "metadata": {},
     "output_type": "execute_result"
    }
   ],
   "source": [
    "todays_address = todays_wallet.create_receiving_address()\n",
    "\"tb1q6lxsdgzj2p988kyr7p72fqwtgkk56305kv7g64507wuqx78hratqnl58g8\""
   ]
  },
  {
   "cell_type": "code",
   "execution_count": 17,
   "metadata": {},
   "outputs": [
    {
     "name": "stdout",
     "output_type": "stream",
     "text": [
      "connection with database made.\n",
      "Deposit address's Path: m/1/0\n",
      "connection with database made.\n"
     ]
    }
   ],
   "source": [
    "todays_chnage = todays_wallet.create_change_address()"
   ]
  },
  {
   "cell_type": "code",
   "execution_count": 16,
   "metadata": {},
   "outputs": [
    {
     "data": {
      "text/plain": [
       "'tb1qyrx8wq4qrg2z98v7ek8rmctcrd0rvjqh2hjug4nnztgg78z39husf6yzek'"
      ]
     },
     "execution_count": 16,
     "metadata": {},
     "output_type": "execute_result"
    }
   ],
   "source": [
    "todays_chnage"
   ]
  },
  {
   "cell_type": "code",
   "execution_count": 26,
   "metadata": {},
   "outputs": [
    {
     "name": "stdout",
     "output_type": "stream",
     "text": [
      "connection with database made.\n",
      "[('tb1q6lxsdgzj2p988kyr7p72fqwtgkk56305kv7g64507wuqx78hratqnl58g8', 0, 'm/0/', 0), ('tb1qtqfvwxtewta5s7z72cnax7y09kjes6w2hsah7ezj8vf2p6l5ugvqpvk8dp', 0, 'm/1/', 1), ('tb1qyrx8wq4qrg2z98v7ek8rmctcrd0rvjqh2hjug4nnztgg78z39husf6yzek', 0, 'm/1/', 0)]\n",
      "connection with database made.\n",
      "Change address's Path: m/1/2\n",
      "connection with database made.\n"
     ]
    },
    {
     "data": {
      "text/plain": [
       "'tb1q4pgnedjx2qku363zzl49q7fp00kku66hcjrrqm3uf30g43yvdaqsnpgc30'"
      ]
     },
     "execution_count": 26,
     "metadata": {},
     "output_type": "execute_result"
    }
   ],
   "source": [
    "todays_wallet.get_a_change_address()"
   ]
  },
  {
   "cell_type": "code",
   "execution_count": 27,
   "metadata": {},
   "outputs": [
    {
     "name": "stdout",
     "output_type": "stream",
     "text": [
      "connection with database made.\n",
      "[('tb1q4pgnedjx2qku363zzl49q7fp00kku66hcjrrqm3uf30g43yvdaqsnpgc30', 1, 'm/1/', 2), ('tb1q6lxsdgzj2p988kyr7p72fqwtgkk56305kv7g64507wuqx78hratqnl58g8', 0, 'm/0/', 0), ('tb1qtqfvwxtewta5s7z72cnax7y09kjes6w2hsah7ezj8vf2p6l5ugvqpvk8dp', 0, 'm/1/', 1), ('tb1qyrx8wq4qrg2z98v7ek8rmctcrd0rvjqh2hjug4nnztgg78z39husf6yzek', 0, 'm/1/', 0)]\n"
     ]
    },
    {
     "data": {
      "text/plain": [
       "'tb1q4pgnedjx2qku363zzl49q7fp00kku66hcjrrqm3uf30g43yvdaqsnpgc30'"
      ]
     },
     "execution_count": 27,
     "metadata": {},
     "output_type": "execute_result"
    }
   ],
   "source": [
    "todays_wallet.get_a_change_address()"
   ]
  },
  {
   "cell_type": "code",
   "execution_count": 33,
   "metadata": {},
   "outputs": [
    {
     "data": {
      "text/plain": [
       "202020"
      ]
     },
     "execution_count": 33,
     "metadata": {},
     "output_type": "execute_result"
    }
   ],
   "source": [
    "i"
   ]
  },
  {
   "cell_type": "code",
   "execution_count": null,
   "metadata": {},
   "outputs": [],
   "source": []
  }
 ],
 "metadata": {
  "kernelspec": {
   "display_name": "Python 3",
   "language": "python",
   "name": "python3"
  },
  "language_info": {
   "codemirror_mode": {
    "name": "ipython",
    "version": 3
   },
   "file_extension": ".py",
   "mimetype": "text/x-python",
   "name": "python",
   "nbconvert_exporter": "python",
   "pygments_lexer": "ipython3",
   "version": "3.7.7"
  }
 },
 "nbformat": 4,
 "nbformat_minor": 4
}
