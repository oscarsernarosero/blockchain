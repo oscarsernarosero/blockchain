{
 "cells": [
  {
   "cell_type": "code",
   "execution_count": 1,
   "metadata": {},
   "outputs": [],
   "source": [
    "from wallet import Wallet\n",
    "from accounts import SHMAccount"
   ]
  },
  {
   "cell_type": "markdown",
   "metadata": {},
   "source": [
    "### Wallets\n",
    "\n",
    "\n",
    "- CorporateSuperWallet is the main wallet. I AM THINKING TO MAKE MAIN WALLET A COMPANY WALLET INSTEAD, WHERE THERE IS NO PRIVATE KEYS.\n",
    "- CorporateWallet: cosigners at the top corporate level.\n",
    "- StoreWallet: responsible for only address generation for payments in each store.\n",
    "- DailySafeWallet: Multisignature single-herarchical wallet. Manageble (see balance and create transactions) by everybody but AssistantManagerWallet who only can authorize in emergency events.\n",
    "- WeeklySafeWallet: same as DailySafeWallet with the exception that no AssistantManagerWallet is part of this wallet.\n",
    "- CorporateSafeWallet: Multisignature fully-herarchical wallet. Supported on the non_hardened keys within tge year account which is a hardened derived account.\n",
    "- ManagerWallet: takes part in the DailySafeWallet and the WeeklySafeWallet.\n",
    "- AssistantManagerWallet: only a cosigner wallet. This is the most basic and simple wallet type.\n"
   ]
  },
  {
   "cell_type": "code",
   "execution_count": 2,
   "metadata": {},
   "outputs": [],
   "source": [
    "class CorporateSuperWallet(Wallet):\n",
    "    \n",
    "    def create_store_account(self, store_code):\n",
    "        \"\"\"\n",
    "        Returns the master private key of the store with index 'store_code'.\n",
    "        store_code: Integer. The code designated to the store. It is recomended that \n",
    "        this code matches that already stablished by the company.\n",
    "        \"\"\"\n",
    "        return \n",
    "    \n",
    "    def request_pubkeys_daily_safe(self,store_code, m=2,n=6):\n",
    "        \"\"\"\n",
    "        Returns the message to start requesting the public keys necessary to setup a\n",
    "        daily safe.\n",
    "        m: minumum signatures to validate transaction. Don't modify this if not necessary.\n",
    "        n: number of signatures than can sign the transaction.\n",
    "        store_code: Integer. The code designated to the store. It is recomended that \n",
    "        this code matches that already stablished by the company.\n",
    "        \"\"\"\n",
    "        #save in the database the unique_id, public keys, m, n, and the store_code.\n",
    "        return \n",
    "    \n",
    "    def create_daily_safe_wallet(self,master_pubkey, public_key_list, m=2, n=6,addr_type=\"p2wsh\",\n",
    "                                 testnet=False, segwit=True):\n",
    "        \"\"\"\n",
    "        This is a watch-only wallet by definition. CHANGE THIS TO BE ABLE TO SIGN TX!\n",
    "        Returns a Single-Herarchical multisignature master wallet based on the public keys \n",
    "        and the master_pubkey.\n",
    "        public_key_list: the list of public keys of the keys that can sign the transaction.\n",
    "        the length of the list must be 6 according to the protocol. However, a different \n",
    "        length can be stablished.\n",
    "        m: minumum signatures to validate transaction. Don't modify this if not necessary.\n",
    "        n: number of signatures than can sign the transaction. Must match with \n",
    "        public_key_list's length-1.\n",
    "        \"\"\"\n",
    "        path = \"m/44H/0H/1H\"\n",
    "        daily_safes_acc = self.get_child_from_path(path)\n",
    "        shm_account = SHMAccount(m,n, daily_safes_acc.xtended_public_key, public_key_list, _privkey=None,\n",
    "                                 addr_type=addr_type,testnet=testnet, segwit=segwit)\n",
    "        return shm_account\n",
    "    \n",
    "    def create_weekly_safe_wallet(self,master_pubkey, public_key_list, m=2, n=5,addr_type=\"p2wsh\",\n",
    "                                 testnet=False, segwit=True):\n",
    "        \"\"\"\n",
    "        This is a watch-only wallet by definition. CHANGE THIS TO BE ABLE TO SIGN TX!\n",
    "        Returns a Single-Herarchical multisignature master wallet based on the public keys \n",
    "        and the master_pubkey.\n",
    "        public_key_list: the list of public keys of the keys that can sign the transaction.\n",
    "        the length of the list must be 6 according to the protocol. However, a different \n",
    "        length can be stablished.\n",
    "        m: minumum signatures to validate transaction. Don't modify this if not necessary.\n",
    "        n: number of signatures than can sign the transaction. Must match with \n",
    "        public_key_list's length-1.\n",
    "        \"\"\"\n",
    "        path = \"m/44H/0H/2H\"\n",
    "        weekly_safes_acc = self.get_child_from_path(path)\n",
    "        shm_account = SHMAccount(m,n, weekly_safes_acc.xtended_public_key, public_key_list, _privkey=None,\n",
    "                                 addr_type=addr_type,testnet=testnet, segwit=segwit)\n",
    "        return shm_account\n",
    "    \n",
    "    def create_corporate_safe(self, index):\n",
    "        return \n",
    "    \n",
    "    def get_store_deposit_account(self, store_index):\n",
    "        return"
   ]
  },
  {
   "cell_type": "code",
   "execution_count": 3,
   "metadata": {},
   "outputs": [],
   "source": [
    "class StoreWallet(Wallet):\n",
    "    \n",
    "     def create_daily_safe(self, date_index, public_key_list,m=2,n=6):\n",
    "        \"\"\"\n",
    "        returns a multisignature account with the public keys and the index specified.\n",
    "        date_index: Integer. Must follow YYMMDD format.\n",
    "        public_key_list: the list of public keys of the keys that can sign the transaction.\n",
    "        the length of the list must be 6 according to the protocol. However, a different \n",
    "        length can be stablished.\n",
    "        m: minumum signatures to validate transaction. Don't modify this if not necessary.\n",
    "        n: number of signatures than can sign the transaction. Must match with \n",
    "        public_key_list's length.\n",
    "        \"\"\"\n",
    "        return \n",
    "    "
   ]
  },
  {
   "cell_type": "code",
   "execution_count": 5,
   "metadata": {},
   "outputs": [],
   "source": [
    "class ManagerWallet(Wallet):\n",
    "    def accept_daily_safe_wallet(self,_privkey,invite):\n",
    "        \"\"\"\n",
    "        accepts the invitation from a SuperCorporateWallet to participate in a daily-safe wallet.\n",
    "        The acceptance must be through a private key that matches one of the public keys that are\n",
    "        part of the SHM wallet passed.\n",
    "        _prvkey: PrivateKey object. Must be able to generate one of the public keys of the wallet.\n",
    "        invite: SHMAccount object. The wallet that we are going to be part of.\n",
    "        \"\"\"\n",
    "        path = \"m/44H/0H/1H\"\n",
    "        daily_safes_acc = self.get_child_from_path(path)\n",
    "        shm_account = SHMAccount(invite.m,invite.n, invite.xtended_pubkey, invite.public_key_list, \n",
    "                                 daily_safes_acc.private_key_obj,invite.addr_type,invite.testnet, \n",
    "                                 invite.segwit)\n",
    "        return shm_account\n",
    "        "
   ]
  },
  {
   "cell_type": "code",
   "execution_count": null,
   "metadata": {},
   "outputs": [],
   "source": []
  }
 ],
 "metadata": {
  "kernelspec": {
   "display_name": "Python 3",
   "language": "python",
   "name": "python3"
  },
  "language_info": {
   "codemirror_mode": {
    "name": "ipython",
    "version": 3
   },
   "file_extension": ".py",
   "mimetype": "text/x-python",
   "name": "python",
   "nbconvert_exporter": "python",
   "pygments_lexer": "ipython3",
   "version": "3.7.7"
  }
 },
 "nbformat": 4,
 "nbformat_minor": 4
}
