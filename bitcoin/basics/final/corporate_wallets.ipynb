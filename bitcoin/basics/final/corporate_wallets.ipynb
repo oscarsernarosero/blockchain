{
 "cells": [
  {
   "cell_type": "code",
   "execution_count": 101,
   "metadata": {},
   "outputs": [],
   "source": [
    "from wallet import Wallet\n",
    "from accounts import SHMAccount, FHMAccount, Account\n",
    "from ecc import PrivateKey, S256Point\n",
    "from transactions import MultiSigTransaction\n",
    "from bip32 import Xtended_pubkey, Xtended_privkey\n",
    "from constants import *"
   ]
  },
  {
   "cell_type": "markdown",
   "metadata": {},
   "source": [
    "### Wallets\n",
    "\n",
    "\n",
    "- CorporateSuperWallet is the main wallet. I AM THINKING TO MAKE MAIN WALLET A COMPANY WALLET INSTEAD, WHERE THERE IS NO PRIVATE KEYS.\n",
    "- CorporateWallet: cosigners at the top corporate level.\n",
    "- StoreWallet: responsible for only address generation for payments in each store.\n",
    "- DailySafeWallet: Multisignature single-herarchical wallet. Manageble (see balance and create transactions) by everybody but AssistantManagerWallet who only can authorize in emergency events.\n",
    "- WeeklySafeWallet: same as DailySafeWallet with the exception that no AssistantManagerWallet is part of this wallet.\n",
    "- CorporateSafeWallet: Multisignature fully-herarchical wallet. Supported on the non_hardened keys within tge year account which is a hardened derived account.\n",
    "- ManagerWallet: takes part in the DailySafeWallet and the WeeklySafeWallet.\n",
    "- AssistantManagerWallet: only a cosigner wallet. This is the most basic and simple wallet type.\n"
   ]
  },
  {
   "cell_type": "code",
   "execution_count": 102,
   "metadata": {},
   "outputs": [],
   "source": [
    "class CorporateSuperWallet(Wallet):\n",
    "    \n",
    "    def get_daily_safe_pubkey(self):\n",
    "        path = \"m/44H/0H/1H\"\n",
    "        daily_safes_acc = self.get_child_from_path(path)\n",
    "        return daily_safes_acc.private_key_obj.point.sec()\n",
    "    \n",
    "    \n",
    "    def create_store_account(self, store_code):\n",
    "        \"\"\"\n",
    "        Returns the master private key of the store with index 'store_code'.\n",
    "        store_code: Integer. The code designated to the store. It is recomended that \n",
    "        this code matches that one already stablished by the company.\n",
    "        \"\"\"\n",
    "        path = \"m/44H/0H/0H/\"+str(store_code)\n",
    "        print(path)\n",
    "        store_account = self.get_child_from_path(path)\n",
    "        return store_account\n",
    "    \n",
    "    def request_pubkeys_daily_safe(self,store_code, m=2,n=6):\n",
    "        \"\"\"\n",
    "        Returns the message to start requesting the public keys necessary to setup a\n",
    "        daily safe.\n",
    "        m: minumum signatures to validate transaction. Don't modify this if not necessary.\n",
    "        n: number of signatures than can sign the transaction.\n",
    "        store_code: Integer. The code designated to the store. It is recomended that \n",
    "        this code matches that already stablished by the company.\n",
    "        \"\"\"\n",
    "        #save in the database the unique_id, public keys, m, n, and the store_code.\n",
    "        return \n",
    "    \n",
    "    def create_daily_safe_wallet(self, public_key_list, m=2, n=6,addr_type=\"p2wsh\",\n",
    "                                 testnet=False, segwit=True):\n",
    "        \"\"\"\n",
    "        This is a watch-only wallet by definition. CHANGE THIS TO BE ABLE TO SIGN TX!\n",
    "        Returns a Single-Herarchical multisignature master wallet based on the public keys \n",
    "        and the master_pubkey.\n",
    "        public_key_list: the list of public keys of the keys that can sign the transaction.\n",
    "        the length of the list must be 6 according to the protocol. However, a different \n",
    "        length can be stablished.\n",
    "        m: minumum signatures to validate transaction. Don't modify this if not necessary.\n",
    "        n: number of signatures than can sign the transaction. Must match with \n",
    "        public_key_list's length-1.\n",
    "        \"\"\"\n",
    "        \n",
    "        path = \"m/44H/0H/1H\"\n",
    "        daily_safes_acc = self.get_child_from_path(path)\n",
    "        print(daily_safes_acc)\n",
    "        shm_account = SHMAccount(m,n, str(daily_safes_acc.xtended_public_key), public_key_list, _privkey=None,\n",
    "                                 addr_type=addr_type,testnet=testnet, segwit=segwit)\n",
    "        return shm_account\n",
    "    \n",
    "    def create_weekly_safe_wallet(self,master_pubkey, public_key_list, m=2, n=5,addr_type=\"p2wsh\",\n",
    "                                 testnet=False, segwit=True):\n",
    "        \"\"\"\n",
    "        This is a watch-only wallet by definition. CHANGE THIS TO BE ABLE TO SIGN TX!\n",
    "        Returns a Single-Herarchical multisignature master wallet based on the public keys \n",
    "        and the master_pubkey.\n",
    "        public_key_list: the list of public keys of the keys that can sign the transaction.\n",
    "        the length of the list must be 6 according to the protocol. However, a different \n",
    "        length can be stablished.\n",
    "        m: minumum signatures to validate transaction. Don't modify this if not necessary.\n",
    "        n: number of signatures than can sign the transaction. Must match with \n",
    "        public_key_list's length-1.\n",
    "        \"\"\"\n",
    "        path = \"m/44H/0H/2H\"\n",
    "        weekly_safes_acc = self.get_child_from_path(path)\n",
    "        shm_account = SHMAccount(m,n, str(weekly_safes_acc.xtended_public_key), public_key_list, _privkey=None,\n",
    "                                 addr_type=addr_type,testnet=testnet, segwit=segwit)\n",
    "        return shm_account\n",
    "    \n",
    "    def create_corporate_safe(self, index):\n",
    "        return \n",
    "    \n",
    "    def get_store_deposit_account(self, store_index):\n",
    "        return\n",
    "    \n",
    "    def get_year_xpub(self):\n",
    "        path = \"m/44H/0H/3H\"\n",
    "        year_account = self.get_child_from_path(path)\n",
    "        return year_account.xtended_public_key\n",
    "    \n",
    "    def accept_corporate_safe_invite(self,invite, name):\n",
    "        \"\"\"\n",
    "        accepts the invitation from a SuperCorporateWallet to participate in a daily-safe wallet.\n",
    "        The acceptance must be through a private key that matches one of the public keys that are\n",
    "        part of the SHM wallet passed in the invite.\n",
    "        invite: SHMAccount object. The wallet that we are going to be part of.\n",
    "        \"\"\"\n",
    "        path = \"m/44H/0H/3H\"\n",
    "        year_safe_acc = self.get_child_from_path(path)\n",
    "        print(f\"accept_safe_wallet_invite: priv: {year_safe_acc.xtended_key}; pubkey: {{year_safe_acc.xtended_public_key}}\")\n",
    "\n",
    "        master_pubkey_list = invite[\"master_pubkey_list\"]\n",
    "        m = invite[\"m\"]\n",
    "        n = invite[\"n\"]\n",
    "        addr_type = invite[\"addr_type\"]\n",
    "        segwit = invite[\"segwit\"]\n",
    "        testnet = invite[\"testnet\"]\n",
    "   \n",
    "            \n",
    "        safe_wallet = HDMWallet( name, master_pubkey_list, year_safe_acc,m, n, addr_type, testnet,segwit)\n",
    "        \n",
    "        return safe_wallet"
   ]
  },
  {
   "cell_type": "code",
   "execution_count": 103,
   "metadata": {},
   "outputs": [],
   "source": [
    "class StoreWallet(Wallet):\n",
    "    \n",
    "    def __init__(self, xpriv):\n",
    "        if not isinstance(xpriv, Xtended_privkey): xpriv = Xtended_privkey.parse( xpriv )\n",
    "            \n",
    "        super().__init__(depth=xpriv.depth, fingerprint=xpriv.fingerprint, index=xpriv.index, \n",
    "                         chain_code=xpriv.chain_code,private_key=xpriv.private_key, testnet=xpriv.testnet)\n",
    "        \n",
    "    \n",
    "    def create_receiving_address(self,index, addr_type = \"p2pkh\"):\n",
    "        if addr_type.lower()   ==   \"p2pkh\":     _type  = P2PKH\n",
    "        elif addr_type.lower() ==  \"p2wpkh\":     _type  = P2WPKH\n",
    "        elif addr_type.lower() ==    \"p2sh\":     _type  = P2SH\n",
    "        elif addr_type.lower() ==   \"p2wsh\":     _type  = P2WSH\n",
    "        elif addr_type.lower() == \"p2sh_p2wpkh\": _type  = P2SH_P2WPKH\n",
    "        elif addr_type.lower() == \"p2sh_p2wsh\":  _type  = P2SH_P2WSH\n",
    "        else: raise Exception(f\"{addr_type} is NOT a valid type of address.\")\n",
    "        receiving_path = \"m/\"\n",
    "        #i = self.get_i(receiving_path, index)\n",
    "        i = index\n",
    "        path = receiving_path + str(i)\n",
    "        print(f\"Deposit address's Path: {path}\")\n",
    "        receiving_xtended_acc = self.get_child_from_path(path)\n",
    "        account = Account(int.from_bytes(receiving_xtended_acc.private_key,\"big\"),addr_type, self.testnet )\n",
    "        self.start_conn()\n",
    "        self.db.new_address(account.address,receiving_path,i,FALSE, _type, self.get_xtended_key())\n",
    "        self.close_conn()\n",
    "        return account"
   ]
  },
  {
   "cell_type": "code",
   "execution_count": 104,
   "metadata": {},
   "outputs": [
    {
     "name": "stdout",
     "output_type": "stream",
     "text": [
      "8418572761394767459444418608530371567217744336876557229650655736270882421023962287566834689847418048023007033142570964655978481626857402470209587761075589\n",
      "m/44H/0H/0H/504\n"
     ]
    },
    {
     "data": {
      "text/plain": [
       "tprv8huKEhbYUbj1AKLqzjCww2aS7FCYhUJ5FKkarkh3jqFj7nx2CuKwxCeD9Yc6YkSpddgfh15WifYaCDWUfELninzHYiM9ayz7T1SqXQ4zqhp"
      ]
     },
     "execution_count": 104,
     "metadata": {},
     "output_type": "execute_result"
    }
   ],
   "source": [
    "words = \"engine over neglect science fatigue dawn axis parent mind man escape era goose border invest slab relax bind desert hurry useless lonely frozen morning\"\n",
    "corporate1 = CorporateSuperWallet.recover_from_words(words, 256, \"RobertPauslon\",True)\n",
    "\n",
    "store_504_account = corporate1.create_store_account(504)\n",
    "\n",
    "store_504_wallet = StoreWallet(store_504_account)\n",
    "store_504_wallet"
   ]
  },
  {
   "cell_type": "code",
   "execution_count": 41,
   "metadata": {},
   "outputs": [
    {
     "name": "stdout",
     "output_type": "stream",
     "text": [
      "Deposit address's Path: m/1\n",
      "connection with database made.\n",
      "INSERT OR IGNORE INTO Addresses (address, path, acc_index, change_addr, created, type, wallet, safe_index)\n",
      " VALUES(\"msEqY81jTYjjcw9JKDqiehn8sBWN4U2xBp\", \"m/\", 1, 0, 1598637590, 2, \"tprv8huKEhbYUbj1AKLqzjCww2aS7FCYhUJ5FKkarkh3jqFj7nx2CuKwxCeD9Yc6YkSpddgfh15WifYaCDWUfELninzHYiM9ayz7T1SqXQ4zqhp\", 0) ;\n"
     ]
    }
   ],
   "source": [
    "address = store_504_wallet.create_receiving_address(1)"
   ]
  },
  {
   "cell_type": "code",
   "execution_count": 32,
   "metadata": {},
   "outputs": [
    {
     "data": {
      "text/plain": [
       "'msEqY81jTYjjcw9JKDqiehn8sBWN4U2xBp'"
      ]
     },
     "execution_count": 32,
     "metadata": {},
     "output_type": "execute_result"
    }
   ],
   "source": [
    "address.address"
   ]
  },
  {
   "cell_type": "code",
   "execution_count": 105,
   "metadata": {},
   "outputs": [],
   "source": [
    "class ManagerWallet(Wallet):\n",
    "    \n",
    "    def get_daily_safe_pubkey(self):\n",
    "        path = \"m/44H/0H/1H\"\n",
    "        daily_safes_acc = self.get_child_from_path(path)\n",
    "        return daily_safes_acc.private_key_obj.point.sec()\n",
    "    \n",
    "    def accept_invite(self,invite, name):\n",
    "        \"\"\"\n",
    "        accepts the invitation from a SuperCorporateWallet to participate in a daily-safe wallet.\n",
    "        The acceptance must be through a private key that matches one of the public keys that are\n",
    "        part of the SHM wallet passed in the invite.\n",
    "        invite: SHMAccount object. The wallet that we are going to be part of.\n",
    "        \"\"\"\n",
    "        path = \"m/44H/0H/1H\"\n",
    "        daily_safes_acc = self.get_child_from_path(path)\n",
    "        print(daily_safes_acc.private_key)\n",
    "        \n",
    "        public_key_list = invite[\"public_key_list\"]\n",
    "        master_pubkey = invite[\"master_pubkey\"]\n",
    "        m = invite[\"m\"]\n",
    "        n = invite[\"n\"]\n",
    "        addr_type = invite[\"addr_type\"]\n",
    "        segwit = invite[\"segwit\"]\n",
    "        testnet = invite[\"testnet\"]\n",
    "        \n",
    "        safe_wallet = SHDSafeWallet.from_privkey_masterpubkey( name, public_key_list, master_pubkey, \n",
    "                                                              daily_safes_acc.private_key,m, n, addr_type, testnet,\n",
    "                                                              segwit)\n",
    "     \n",
    "        return safe_wallet\n",
    "        "
   ]
  },
  {
   "cell_type": "code",
   "execution_count": 5,
   "metadata": {},
   "outputs": [
    {
     "name": "stdout",
     "output_type": "stream",
     "text": [
      "8418572761394767459444418608530371567217744336876557229650655736270882421023962287566834689847418048023007033142570964655978481626857402470209587761075589\n",
      "6018716354834777059445516500463325153454936853151215624488541646839939367247233986759821493097378851875115552924255831805062990606698886137563075847103799\n"
     ]
    }
   ],
   "source": [
    "words = \"engine over neglect science fatigue dawn axis parent mind man escape era goose border invest slab relax bind desert hurry useless lonely frozen morning\"\n",
    "manager1 = ManagerWallet.recover_from_words(words, 256, \"RobertPauslon\",True)\n",
    "\n",
    "words = \"client sudden sunset borrow pupil rely sand girl prefer movie bachelor guilt giraffe glove much strong dizzy switch ill silent goddess crumble goat power\"\n",
    "manager2 = ManagerWallet.recover_from_words(words,entropy=256,passphrase=\"RobertPaulson\",testnet=True)\n",
    "\n",
    "\n",
    "public_keys = [ manager1.get_daily_safe_pubkey(), manager2.get_daily_safe_pubkey(), PrivateKey(int.from_bytes(b\"Ashley Serna\",\"little\")).point.sec()]\n"
   ]
  },
  {
   "cell_type": "code",
   "execution_count": 41,
   "metadata": {},
   "outputs": [
    {
     "name": "stdout",
     "output_type": "stream",
     "text": [
      "Copy these words for future recovery:\n",
      "b'raccoon unhappy erode sign meadow cave stadium smooth excess panda yellow key'\n",
      "3967057481929135490959568468773937162564863802327639838595367726563211014079398303801697444580104771319233996176199962751504258379722189521574850955374009\n"
     ]
    }
   ],
   "source": [
    "corp_wallet=CorporateSuperWallet.generate_random(testnet=True)"
   ]
  },
  {
   "cell_type": "code",
   "execution_count": 42,
   "metadata": {},
   "outputs": [
    {
     "name": "stdout",
     "output_type": "stream",
     "text": [
      "tprv8gb1zANReLHhcwh7erfL1cCLtBrp1xwYcwoFDNHmS5pqipGa25AWAKYHFvAZijZz19JW2yxnzb2w2kmtBzp4STPE6dqHo5Zk9UZ9pnLTWdz\n"
     ]
    }
   ],
   "source": [
    "invite = corp_wallet.create_daily_safe_wallet(public_keys,n=4,testnet=True)"
   ]
  },
  {
   "cell_type": "code",
   "execution_count": 43,
   "metadata": {},
   "outputs": [
    {
     "ename": "AttributeError",
     "evalue": "'ManagerWallet' object has no attribute 'accept_daily_safe_wallet'",
     "output_type": "error",
     "traceback": [
      "\u001b[0;31m---------------------------------------------------------------------------\u001b[0m",
      "\u001b[0;31mAttributeError\u001b[0m                            Traceback (most recent call last)",
      "\u001b[0;32m<ipython-input-43-21df094c8c39>\u001b[0m in \u001b[0;36m<module>\u001b[0;34m\u001b[0m\n\u001b[0;32m----> 1\u001b[0;31m \u001b[0mdaily_wallet_manager1\u001b[0m \u001b[0;34m=\u001b[0m \u001b[0mmanager1\u001b[0m\u001b[0;34m.\u001b[0m\u001b[0maccept_daily_safe_wallet\u001b[0m\u001b[0;34m(\u001b[0m\u001b[0minvite\u001b[0m\u001b[0;34m)\u001b[0m\u001b[0;34m\u001b[0m\u001b[0;34m\u001b[0m\u001b[0m\n\u001b[0m",
      "\u001b[0;31mAttributeError\u001b[0m: 'ManagerWallet' object has no attribute 'accept_daily_safe_wallet'"
     ]
    }
   ],
   "source": [
    "daily_wallet_manager1 = manager1.accept_daily_safe_wallet(invite)"
   ]
  },
  {
   "cell_type": "code",
   "execution_count": null,
   "metadata": {},
   "outputs": [],
   "source": [
    "daily_wallet_manager2 = manager2.accept_daily_safe_wallet(invite)"
   ]
  },
  {
   "cell_type": "code",
   "execution_count": null,
   "metadata": {},
   "outputs": [],
   "source": [
    "deposit_m1 = daily_wallet_manager1.get_deposit_account(200820)\n",
    "deposit_m1.address"
   ]
  },
  {
   "cell_type": "code",
   "execution_count": null,
   "metadata": {},
   "outputs": [],
   "source": [
    "deposit_m2 = daily_wallet_manager2.get_deposit_account(200820)\n",
    "deposit_m2.address"
   ]
  },
  {
   "cell_type": "code",
   "execution_count": null,
   "metadata": {},
   "outputs": [],
   "source": []
  },
  {
   "cell_type": "code",
   "execution_count": null,
   "metadata": {},
   "outputs": [],
   "source": []
  },
  {
   "cell_type": "code",
   "execution_count": null,
   "metadata": {},
   "outputs": [],
   "source": [
    "prev_tx_id_list = [\"d629b979a1d2b2eb797c0f37adee6920fac4a77b4232baaa975c4b499e862f1c\"]\n",
    "my_tx = MultiSigTransaction.create(prev_tx_id_list, [(\"mo3WWB4PoSHrudEBik1nUqfn1uZEPNYEc8\",777)], deposit_m1, fee=None, \n",
    "                 segwit=True)"
   ]
  },
  {
   "cell_type": "code",
   "execution_count": null,
   "metadata": {},
   "outputs": [],
   "source": [
    "my_tx_signed_by2 = MultiSigTransaction.sign_received_tx(my_tx,deposit_m2)"
   ]
  },
  {
   "cell_type": "code",
   "execution_count": null,
   "metadata": {},
   "outputs": [],
   "source": [
    "my_tx_signed_by2.serialize().hex()"
   ]
  },
  {
   "cell_type": "code",
   "execution_count": 5,
   "metadata": {},
   "outputs": [],
   "source": []
  },
  {
   "cell_type": "code",
   "execution_count": 106,
   "metadata": {},
   "outputs": [],
   "source": [
    "from constants import *\n",
    "from wallet import Wallet\n",
    "from accounts import SHMAccount, MultSigAccount\n",
    "from ecc import PrivateKey, S256Point\n",
    "from transactions import MultiSigTransaction\n",
    "import datetime\n",
    "from bip32 import Xtended_pubkey, Xtended_privkey\n",
    "from blockcypher import get_address_details, get_transaction_details\n",
    "from blockcypher import pushtx\n",
    "import threading\n",
    "from wallet_database_sqlite3 import Sqlite3Wallet, Sqlite3Environment\n",
    "\n",
    "\n",
    "class SHDSafeWallet(Wallet):\n",
    "    \"\"\"\n",
    "    SafeWallet is a Multisignature SHD wallet.\n",
    "    SHDM Single Herarchical Deterministic Multi-Signature Wallet\n",
    "    \"\"\"\n",
    "    def __init__(self, name, public_key_list, m=2, n=6,addr_type=\"p2wsh\",_privkey=None, master_pubkey=None, \n",
    "                 master_privkey=None, testnet=False, segwit=True, parent_name=None, safe_index=-1):\n",
    "        \"\"\"\n",
    "        public_key_list: List of public keys. Must be in bytes.\n",
    "        m: integer\n",
    "        n: integer\n",
    "        _privkey: PrivateKey object. If you provide a Private key, don't provide a master_privkey.\n",
    "        master_pubkey: Xtended_pubkey object. If you provide a master_privkey, it is not necessary to\n",
    "        provide a master_pubkey.\n",
    "        master_privkey: Xtended_privkey object. If you provide a master_privkey, don't provide a _privkey.\n",
    "        testnet: Boolean.\n",
    "        segwit: Boolean.\n",
    "        child_wallet: Boolean.\n",
    "        \"\"\"\n",
    "        if isinstance(master_pubkey, str):\n",
    "            master_pubkey = Xtended_pubkey.parse(master_pubkey)\n",
    "        \n",
    "        if m < 1 or m > 16 or n < 1 or n > 16: raise Exception(\"m and n must be between 1 and 16\")\n",
    "        if m > n: raise Exception(\"m must be always less or equal than n\")   \n",
    "        if len(public_key_list) != (n-1):\n",
    "            msg = \"n and the amount of public keys don't match. The amount of public keys must always be n-1.\"\n",
    "            raise Exception(msg)\n",
    "        \n",
    "        self.index = None\n",
    "        #getting the index of the private key in the list of public keys\n",
    "        if _privkey is not None and master_privkey is None and master_pubkey is not None:\n",
    "            self.wallet_type = \"simple\"\n",
    "            self.master_privkey = None\n",
    "            self.privkey = _privkey\n",
    "            self.pubkey = PrivateKey(int.from_bytes(self.privkey,\"big\")).point.sec()\n",
    "            for i,public_key in enumerate(public_key_list):\n",
    "                if public_key == self.pubkey:\n",
    "                    self.index = i\n",
    "            if self.index is None: raise Exception (\"Private key must be able to generate one of the public keys.\")\n",
    "            self.master_pubkey = master_pubkey\n",
    "        \n",
    "        elif _privkey is None and master_privkey is not None:\n",
    "            self.privkey = _privkey\n",
    "            self.wallet_type = \"main\"\n",
    "            self.master_privkey = master_privkey\n",
    "            self.master_pubkey = self.master_privkey.xtended_public_key\n",
    "            \n",
    "        elif _privkey is not None and master_privkey is not None:\n",
    "            msg1 = \"Provide either a Private key or a master_privkey, not both. Provide a _privkey if you are not \"\n",
    "            msg2 = \"the main creator of the wallet or if you received this wallet as an invitation. Provide a \"\n",
    "            msg3 = \"master_privkey if you have the public keys of the cosigners and you are in charge of sharing \"\n",
    "            msg4 = \"this wallet with the cosigners.\"\n",
    "            raise Exception (msg1+msg2+msg3+msg4)\n",
    "            \n",
    "        elif _privkey is None and master_privkey is None and master_pubkey is not None: \n",
    "            self.wallet_type = \"watch-only\"\n",
    "            self.privkey = _privkey\n",
    "            self.master_privkey = None\n",
    "            self.master_pubkey = master_pubkey\n",
    "        else:\n",
    "            raise Exception (\"You can only skip providing a master public key when you provide a master private key.\")\n",
    "        \n",
    "        self.public_key_list = public_key_list\n",
    "        self.m = m\n",
    "        self.n = n\n",
    "        self.addr_type = addr_type\n",
    "        self.testnet = testnet\n",
    "        self.segwit =segwit\n",
    "        self.name = name\n",
    "        self.parent_name = parent_name\n",
    "        self.safe_index = safe_index\n",
    "        \n",
    "        #save the new wallet in the database\n",
    "        #but first, lets convert the public keys to bytes to avoid problems in the database\n",
    "        int_pubkeys = [int.from_bytes(x,\"big\") for x in self.public_key_list]\n",
    "        if self.privkey is not None: int_privkey = int.from_bytes(self.privkey,\"big\")\n",
    "        else: int_privkey = None\n",
    "        if self.master_privkey is None: xpriv = None\n",
    "        else: xpriv = str(self.master_privkey.xtended_key)\n",
    "        \n",
    "        self.start_conn()\n",
    "        self.db.new_SHDSafeWallet(self.name, str(int_pubkeys), self.m, self.n, str(int_privkey),\n",
    "                                  xpriv, str(self.master_pubkey.get_xtended_key()),\n",
    "                                  self.addr_type, int(self.testnet), int(self.segwit), self.parent_name, \n",
    "                                  self.safe_index)\n",
    "        print(f\"self: {self}\")\n",
    "        self.close_conn()\n",
    "        \n",
    "    def __repr__(cls):\n",
    "        return f\"SHDSafeWallet xpub:{cls.master_pubkey}, pubkeys: {cls.public_key_list}\"\n",
    "        \n",
    "    @classmethod    \n",
    "    def from_privkey_masterpubkey(cls, name, public_key_list, master_pubkey, _privkey, m=2, n=6,addr_type=\"p2wsh\", \n",
    "                                   testnet=False, segwit=True,parent_name=None,index=-1):\n",
    "        \"\"\"\n",
    "        simple.\n",
    "        From a private key that is not the master private key. \n",
    "        \"\"\"\n",
    "        return cls(name,public_key_list=public_key_list, m=m, n=n,addr_type=addr_type,_privkey=_privkey, \n",
    "                   master_pubkey=master_pubkey,testnet=testnet, segwit=segwit,parent_name=parent_name, \n",
    "                   safe_index=index)\n",
    "    \n",
    "    @classmethod    \n",
    "    def from_master_privkey(cls, name, public_key_list, master_privkey, m=2, n=6,addr_type=\"p2wsh\",\n",
    "                            testnet=False, segwit=True,  parent_name=None,index=-1):\n",
    "        \"\"\"\n",
    "        main\n",
    "        \"\"\"\n",
    "        return cls(name,public_key_list=public_key_list, m=m, n=n, addr_type=addr_type, master_privkey=master_privkey, \n",
    "                   testnet=testnet, segwit=segwit,parent_name=parent_name, safe_index=index)\n",
    "    \n",
    "    @classmethod    \n",
    "    def watch_only(cls, name, public_key_list,master_pubkey,m=2,n=6,addr_type=\"p2wsh\",testnet=False, segwit=True, \n",
    "                    parent_name=None, index=-1):\n",
    "        \"\"\"\n",
    "        watch-only\n",
    "        \"\"\"\n",
    "        return cls(name,public_key_list=public_key_list, m=m, n=n, addr_type=addr_type, master_pubkey=master_pubkey,\n",
    "                   testnet=testnet, segwit=segwit, parent_name=parent_name, safe_index=index)\n",
    "    \n",
    "    @classmethod   \n",
    "    def from_database(self, name):\n",
    "        self.start_conn(self)\n",
    "        w = self.db.recover_SHDSafeWallet(name)\n",
    "        try: w = w[0]\n",
    "        except: \n",
    "            print(f\"wallet with name {name} not found \")\n",
    "            return False\n",
    "        self.close_conn(self)\n",
    "        print(w)\n",
    "        \n",
    "        \n",
    "        pubkeys = w[1][1:-1].split(\", \")\n",
    "        public_key_list = [int(x).to_bytes(33,\"big\") for x in pubkeys]\n",
    "        print(public_key_list)\n",
    "        if w[4] == \"None\": privkey = None\n",
    "        else: privkey = int(w[4]).to_bytes(32,\"big\")\n",
    "        if w[6] == \"None\": master_pubkey=None \n",
    "        else: master_pubkey = Xtended_pubkey.parse(w[6])\n",
    "        if w[5] == \"None\": master_privkey = None\n",
    "        else: master_privkey = Xtended_privkey.parse(w[5])\n",
    "        if w[10] == \"None\": parent_name = None\n",
    "        else: parent_name = w[10]\n",
    "        \n",
    "        return self(name, public_key_list, w[2],w[3],w[7],privkey,master_pubkey,master_privkey,\n",
    "                    w[8],w[9],parent_name,w[11])\n",
    "    \n",
    "    def get_i(self,wallet_name, account_path, index):\n",
    "        \n",
    "        self.start_conn()\n",
    "\n",
    "        last_index = self.db.get_max_index( account_path, wallet_name)\n",
    "\n",
    "        if last_index is None: i = 0\n",
    "        else: i = last_index + 1\n",
    "        \n",
    "        self.close_conn()\n",
    "        return i\n",
    "        \n",
    "    def get_child_wallet(self, index, path):\n",
    "        \"\"\"\n",
    "        This is the wallet for specific daily or weekly safes. Therefore, the index must comply with the format YYMMDD\n",
    "        for daily safes, and YYWW for weekly safes.\n",
    "        index: Integer.\n",
    "        \"\"\"\n",
    "        #data validation\n",
    "        if self.safe_index > -1: raise Exception (\"Only master wallets can create child wallets.\")  \n",
    "        if index < 2000 or index > 999999 or (index > 9999 and index < 200101):\n",
    "            raise Exception (\"Bad index for daily or weekly safe. Follow YYMMDD for daily or YYWW for weekly.\")\n",
    "        \n",
    "        full_path = path + str(index)\n",
    "        #wallet creation depending on the type of wallet\n",
    "        if self.wallet_type == \"main\":\n",
    "            child_xtended_privkey = self.master_privkey.get_child_from_path(full_path)\n",
    "            \n",
    "            child_wallet = SHDSafeWallet.from_master_privkey( str(index)+\"_\"+self.name,self.public_key_list, \n",
    "                                                             child_xtended_privkey, \n",
    "                                                             self.m,self.n,self.addr_type,self.testnet, self.segwit,\n",
    "                                                            self.name, index)\n",
    "        elif self.wallet_type == \"simple\":\n",
    "            child_xtended_pubkey = self.master_pubkey.get_child_from_path(full_path)\n",
    "            \n",
    "            child_wallet = SHDSafeWallet.from_privkey_masterpubkey(str(index)+\"_\"+self.name,self.public_key_list, \n",
    "                                                                   child_xtended_pubkey,\n",
    "                                                                   self.privkey, self.m, self.n,self.addr_type, \n",
    "                                                                   self.testnet, self.segwit,self.name, index)\n",
    "        elif self.wallet_type == \"watch-only\":\n",
    "            child_xtended_pubkey = self.master_pubkey.get_child_from_path(full_path)\n",
    "            \n",
    "            child_wallet = SHDSafeWallet.watch_only(str(index)+\"_\"+self.name,self.public_key_list,child_xtended_pubkey,\n",
    "                                                    self.m,self.n,\n",
    "                                                    self.addr_type,self.testnet, self.segwit,self.name, index)\n",
    "        \n",
    "        return child_wallet\n",
    "    \n",
    "    def get_daily_safe_wallet(self, index=None):\n",
    "        \"\"\"\n",
    "        Returns a daily_safe wallet based on the index.\n",
    "        If today's wallet is desired, don't pass any argument or set index to None.\n",
    "        \"\"\"\n",
    "        if self.safe_index >= 0: raise Exception (\"Only master wallets can create safe wallets.\")\n",
    "        path = \"m/\"\n",
    "        if index is None:\n",
    "            today = datetime.datetime.now()\n",
    "            index_string = str(today.year)[2:]+'{:02d}'.format(today.month)+'{:02d}'.format(today.day)\n",
    "            index = int(index_string)\n",
    "            \n",
    "        safe_wallet = self.get_child_wallet(index, path)\n",
    "        \n",
    "        return safe_wallet\n",
    "    \n",
    "    \n",
    "    def get_unused_addresses_list(self, change_addresses=False):\n",
    "        \n",
    "        self.start_conn()\n",
    "        unused_addresses = self.db.get_unused_safe_addresses(name = self.name)\n",
    "        self.close_conn()\n",
    "        print(f\"unused_addresses: {unused_addresses}\")\n",
    "        \n",
    "        if    change_addresses: unused_addresses_filtered =  [x for x in unused_addresses if x[1]==1]\n",
    "        else: unused_addresses_filtered =  [x for x in unused_addresses if x[1]==0]\n",
    "        \n",
    "        return unused_addresses_filtered\n",
    "                               \n",
    "                               \n",
    "    def create_receiving_address(self, addr_type = \"p2wsh\",index=0):\n",
    "        if self.safe_index < 0: raise Exception (\"Only child wallets can create addresses.\")\n",
    "        if addr_type.lower() ==    \"p2sh\":       _type  = P2SH\n",
    "        elif addr_type.lower() ==   \"p2wsh\":     _type  = P2WSH\n",
    "        elif addr_type.lower() == \"p2sh_p2wsh\":  _type  = P2SH_P2WSH\n",
    "        else: raise Exception(f\"{addr_type} is NOT a valid type of address.\")\n",
    "        receiving_path = \"m/0/\"\n",
    "        #i = self.get_i(self.name,receiving_path, index)\n",
    "        i = index\n",
    "        path = receiving_path + str(i)\n",
    "        print(f\"Deposit address's Path: {path}\")\n",
    "        \n",
    "        if self.privkey is not None and self.master_privkey is None: \n",
    "            \n",
    "            privkey = PrivateKey(int.from_bytes(self.privkey,\"big\"))\n",
    "            \n",
    "            account = SHMAccount(m=self.m, n=self.n, xtended_pubkey = str(self.master_pubkey), \n",
    "                                 public_key_list = self.public_key_list,  _privkey=privkey,\n",
    "                                 addr_type=self.addr_type, testnet=self.testnet, segwit=self.segwit)\n",
    "            \n",
    "        elif self.privkey is None and self.master_privkey is not None:\n",
    "            \n",
    "            account = SHMAccount(m=self.m, n=self.n, xtended_pubkey = str(self.master_pubkey), \n",
    "                                 public_key_list = self.public_key_list,  master_privkey=self.master_privkey,\n",
    "                                 addr_type=self.addr_type, testnet=self.testnet, segwit=self.segwit)\n",
    "            \n",
    "        else: privkey = None\n",
    "        \n",
    "        \n",
    "        \n",
    "        address = account.get_deposit_address(i)\n",
    "        self.start_conn()\n",
    "        self.db.new_address(address,receiving_path,i,FALSE, _type, self.name, self.safe_index)\n",
    "        self.close_conn()\n",
    "        return address\n",
    "\n",
    "    \n",
    "    def create_change_address(self, addr_type = \"p2wsh\", index=None):\n",
    "        if self.safe_index < 0: raise Exception (\"Only child wallets can create addresses.\")\n",
    "        receiving_path = \"m/1/\"\n",
    "        \n",
    "        i = self.get_i(self.name,receiving_path, index)\n",
    "        path = receiving_path + str(i)\n",
    "        print(f\"Change address's Path: {path}\")\n",
    "        \n",
    "        if self.privkey is not None and self.master_privkey is None: \n",
    "            \n",
    "            privkey = PrivateKey(int.from_bytes(self.privkey,\"big\"))\n",
    "            \n",
    "            account = SHMAccount(m=self.m, n=self.n, xtended_pubkey = str(self.master_pubkey), \n",
    "                                 public_key_list = self.public_key_list,  _privkey=privkey,\n",
    "                                 addr_type=self.addr_type, testnet=self.testnet, segwit=self.segwit)\n",
    "            \n",
    "        elif self.privkey is None and self.master_privkey is not None:\n",
    "            \n",
    "            account = SHMAccount(m=self.m, n=self.n, xtended_pubkey = str(self.master_pubkey), \n",
    "                                 public_key_list = self.public_key_list,  master_privkey=self.master_privkey,\n",
    "                                 addr_type=self.addr_type, testnet=self.testnet, segwit=self.segwit)\n",
    "            \n",
    "        else: privkey = None\n",
    "        \n",
    "        #address = account.get_change_address(index=i)\n",
    "        change_account = account.get_change_account(index=i)\n",
    "        self.start_conn()\n",
    "        self.db.new_address(change_account.address,receiving_path,i,TRUE, P2WSH, self.name, self.safe_index)\n",
    "        self.close_conn()\n",
    "        return change_account\n",
    "    \n",
    "    def get_a_change_address(self):\n",
    "        \"\"\"\n",
    "        Returns an Account object containing a change address. It returns an existing unused change\n",
    "        address account, or creates a new one if necessary.\n",
    "        \"\"\"\n",
    "        if self.safe_index < 0: raise Exception (\"Only child wallets can create addresses.\")\n",
    "        self.start_conn()\n",
    "        unused_addresses = self.get_unused_addresses_list(change_addresses=True)\n",
    "        self.close_conn()\n",
    "        \n",
    "        if len(unused_addresses)>0: return self.create_change_address(index=unused_addresses[0][3])\n",
    "        else: return self.create_change_address()\n",
    "        \n",
    "    def share(self):\n",
    "        if self.safe_index >= 0: raise Exception (\"Only master wallets can be shared.\")\n",
    "        return {\"public_key_list\":self.public_key_list,\"m\":self.m, \"n\":self.n, \"addr_type\":self.addr_type,\n",
    "                \"master_pubkey\":self.master_pubkey,\"testnet\":self.testnet, \"segwit\":self.segwit }\n",
    "    \n",
    "\n",
    "    def get_utxos(self):\n",
    "        \"\"\"\n",
    "        This method is an overwritten version of the original Wallet-class version.\n",
    "        \"\"\"\n",
    "        self.start_conn()\n",
    "        ################################ FOR DEVOLPMENT PORPUSES ONLY ###############################\n",
    "        ############### CHANGE BACK TO ORIGINAL STATE ONCE DONE WITH TESTS ##########################\n",
    "        #coins = self.db.look_for_coins(self.name) #ORIGINAL LINE!\n",
    "        coins = self.db.look_for_coins(\"200827_test1_master_wallet\") #TEST LINE\n",
    "        ############################################################################################\n",
    "        self.close_conn()\n",
    "        return coins\n",
    "    \n",
    "    def update_balance(self):\n",
    "        \"\"\"\n",
    "        This method is an overwritten version of the original Wallet-class version.\n",
    "        \"\"\"\n",
    "        self.start_conn()\n",
    "        addresses = self.db.get_all_addresses(self.name)\n",
    "        self.close_conn()\n",
    "        \n",
    "        if self.testnet: coin_symbol = \"btc-testnet\"\n",
    "        else: coin_symbol = \"btc\"\n",
    "            \n",
    "        for address in addresses:\n",
    "            \"address will be a touple with data (address,)\"\n",
    "            print(f\"consulting blockchain for address {address}\")\n",
    "            addr_info = get_address_details(address[0], coin_symbol = coin_symbol, unspent_only=True)\n",
    "            print(f\"res for {address}:\\n{addr_info}\")\n",
    "            \n",
    "            self.start_conn()\n",
    "            if addr_info[\"unconfirmed_n_tx\"] > 0:\n",
    "                print(\"got unconfirmed transactions.\")\n",
    "                for utxo in addr_info[\"unconfirmed_txrefs\"]:\n",
    "                    if not self.db.exist_utxo( utxo[\"tx_hash\"], utxo[\"tx_output_n\"], 0):\n",
    "                        print(\"new unconfirmed UTXO\")\n",
    "                        self.db.new_utxo(utxo[\"address\"],utxo[\"value\"],utxo[\"tx_hash\"],utxo[\"tx_output_n\"],confirmed = 0)\n",
    "            \n",
    "            if addr_info[\"n_tx\"] - addr_info[\"unconfirmed_n_tx\"] > 0 :\n",
    "                print(\"got transactions.\")\n",
    "                for utxo in addr_info[\"txrefs\"]:\n",
    "                    if not self.db.exist_utxo( utxo[\"tx_hash\"], utxo[\"tx_output_n\"], 1):\n",
    "                        print(\"new confirmed UTXO\")\n",
    "                        self.db.new_utxo(addr_info[\"address\"],utxo[\"value\"],utxo[\"tx_hash\"],utxo[\"tx_output_n\"],\n",
    "                                         confirmed = 1)\n",
    "      \n",
    "        self.close_conn()\n",
    "        return self.get_balance()\n",
    "        \n",
    "    def get_coins(self, to_address_amount_list, segwit=True):\n",
    "        send_all = False\n",
    "        \n",
    "        print(f\"From wallet.send(): {to_address_amount_list}\")\n",
    "        #calculate total amount to send from the wallet\n",
    "        total_amount = 0\n",
    "        for output in to_address_amount_list:\n",
    "            total_amount += output[1]\n",
    "            \n",
    "            \n",
    "        #we validate that we have funds to carry out the transaction, or if we are trying to send all the funds  \n",
    "        balance = self.get_balance()\n",
    "        if total_amount>balance:\n",
    "            raise Exception(f\"Not enough funds in wallet for this transaction.\\nOnly {balance} satoshis available\")\n",
    "        \n",
    "        elif total_amount == balance: send_all = True\n",
    "            \n",
    "            \n",
    "        #We choose the utxos to spend for the transaction\n",
    "        all_utxos = self.get_utxos()\n",
    "        \n",
    "        #If we are trying to send all the funds, then we choose all the utxos\n",
    "        if send_all: utxos = all_utxos\n",
    "        #If not, then we have to choose in an efficient manner.\n",
    "        else:    \n",
    "            utxos = []\n",
    "            utxo_total = 0\n",
    "            \n",
    "            #First we check if only one utxo can carry out the whole transaction\n",
    "            for utxo in all_utxos:\n",
    "                if utxo[2] > total_amount*1.1:\n",
    "                    utxos = [utxo]\n",
    "                    break\n",
    "            #if we found that none of the utxos is big enough to carry out the whole tx, we have to choose several.\n",
    "            if len(utxos)==0:    \n",
    "                for utxo in all_utxos:\n",
    "                    utxos.append(utxo)\n",
    "                    utxo_total += utxo[2]\n",
    "                    if utxo_total > (total_amount*1.1) : break\n",
    "        \n",
    "        return utxos, send_all\n",
    "    \n",
    "    def build_tx(self, utxos, to_address_amount_list, segwit=True, send_all = False):\n",
    "        \n",
    "        account = self.get_signing_account()\n",
    "        \n",
    "        #if we want to send all the funds we don't need a change address.\n",
    "        if send_all: change_address = None    \n",
    "        else:        change_address = self.get_a_change_address()\n",
    "        \"\"\"    \n",
    "        privkey = PrivateKey(int.from_bytes(self.privkey,\"big\"))\n",
    "            \n",
    "        account = SHMAccount(self.m, self.n, str(self.master_pubkey), self.public_key_list, privkey,\n",
    "                             self.addr_type, self.testnet, self.segwit)\n",
    "        \"\"\"\n",
    "        #We create the Multi-Signature Transaction object\n",
    "        tx_response = MultiSigTransaction.create_from_wallet(utxo_list=utxos,\n",
    "                                                             receivingAddress_w_amount_list =to_address_amount_list,\n",
    "                                                             multi_sig_account = account,change_address = change_address,\n",
    "                                                             fee=None,segwit=True,send_all=send_all)\n",
    "        \n",
    "        return tx_response\n",
    "    \n",
    "    \n",
    "    def get_signing_account(self):\n",
    "        \n",
    "        #we take care of validating and formatting the private key\n",
    "        if self.privkey is not None and self.master_privkey is None: \n",
    "            \n",
    "            privkey = PrivateKey(int.from_bytes(self.privkey,\"big\"))\n",
    "            \n",
    "            account = SHMAccount(m=self.m, n=self.n, xtended_pubkey = str(self.master_pubkey), \n",
    "                                 public_key_list = self.public_key_list,  _privkey=privkey,\n",
    "                                 addr_type=self.addr_type, testnet=self.testnet, segwit=self.segwit)\n",
    "            \n",
    "        elif self.privkey is None and self.master_privkey is not None:\n",
    "            \n",
    "            account = SHMAccount(m=self.m, n=self.n, xtended_pubkey = str(self.master_pubkey), \n",
    "                                 public_key_list = self.public_key_list,  master_privkey=self.master_privkey,\n",
    "                                 addr_type=self.addr_type, testnet=self.testnet, segwit=self.segwit)\n",
    "            \n",
    "        else: privkey = None\n",
    "        #else: raise Exception(\"Multi signature Transaction with a master key is not developed yet.\")\n",
    "        \n",
    "        #We create the multisignature account to sign the transaction. This only works for spending from deposit\n",
    "        #account. To spend from the change account, we need to do something else.\n",
    "        \n",
    "        \n",
    "        \n",
    "        #account = shm_account.get_deposit_account()\n",
    "        return account\n",
    "        \n",
    "        \n",
    "    def broadcast_tx(self, tx,utxos):\n",
    "        \n",
    "        if self.testnet: symbol = \"btc-testnet\"\n",
    "        else: symbol= \"btc\"\n",
    "\n",
    "        env = Sqlite3Environment()\n",
    "        BLOCKCYPHER_API_KEY = env.get_key(\"BLOCKCYPHER_API_KEY\")[0][0]\n",
    "        env.close_database()\n",
    "        push = pushtx(tx_hex= tx.serialize().hex(), coin_symbol=symbol,api_key=BLOCKCYPHER_API_KEY)\n",
    "        tx_id = tx.id()\n",
    "        print(f\"TRANSACTION ID: {tx_id}\")\n",
    "\n",
    "        #saving in db\n",
    "        self.start_conn()\n",
    "        self.db.new_tx(tx_id, [ (x[0],x[1]) for x in utxos] ,\n",
    "                       [str(x).split(\":\")+[i] for i,x in enumerate(tx.tx_outs)])\n",
    "        self.close_conn()\n",
    "        #start new thread to check if the transaction goes through in the blockchain or not.\n",
    "        #Maybe move this to the front end class to pop a warning when it doesn't go through\n",
    "        mythread = threading.Thread(target=self.confirm_tx_sent,args=(tx_id,))\n",
    "        mythread.start()\n",
    "\n",
    "        return tx,push\n",
    "        \n",
    "        \n",
    "    def send(self, to_address_amount_list, segwit=True):\n",
    "        \"\"\"\n",
    "        to_address can be a single address or a list.\n",
    "        amount can be an integer or a list of integers.\n",
    "        If they are lists, they must be ordered in the same way. address 1 will e sent amount 1, \n",
    "        adrress 2 will be sent amount2.. adress n will be sent amount n.\n",
    "        \"\"\"\n",
    "        #First let's get ready the inputs for the transaction\n",
    "        utxos, send_all = self.get_coins(to_address_amount_list, segwit)\n",
    "        \n",
    "        #Now, let's build the transaction\n",
    "        tx_response = self.build_tx(utxos,to_address_amount_list, segwit, send_all)\n",
    "        \n",
    "        # tx_response will be a touple of the transaction object and a boolean (tx,READY) that tells us if the  \n",
    "        #transaction is ready to be broadcasted or if it needs more signatures:\n",
    "        if tx_response[1]: \n",
    "            #if it is ready, we broadcast the transaction\n",
    "            self.broadcast_tx(tx_response[0],utxos)\n",
    "            \n",
    "        return tx_response \n",
    "        \n",
    "    def sign_received_tx(self, tx):\n",
    "        \"\"\"\n",
    "        tx: Tx object. The transaction object that needs to be signed.\n",
    "        \"\"\"\n",
    "        \n",
    "        #to do: we need to get the utxo list from the database using the transaction to be able to sign\n",
    "        utxos = []\n",
    "        self.start_conn()\n",
    "        for _in in tx.tx_ins:\n",
    "            res = self.db.get_utxo_info(_in.prev_tx.hex(), _in.prev_index)\n",
    "            print(res)\n",
    "            utxos.append(res[0])\n",
    "            \n",
    "        self.close_conn()\n",
    "        #We create the multisignature account to sign the transaction.\n",
    "        account = self.get_signing_account()\n",
    "        \n",
    "        tx_response = MultiSigTransaction.sign_received_tx_with_wallet(utxos,tx,account)\n",
    "        \n",
    "        if tx_response[1]: self.broadcast_tx(tx_response[0],utxos)\n",
    "            \n",
    "        return tx_response\n",
    "            \n",
    "            \n",
    "            "
   ]
  },
  {
   "cell_type": "code",
   "execution_count": 107,
   "metadata": {},
   "outputs": [],
   "source": [
    "from constants import *\n",
    "from wallet import Wallet\n",
    "from accounts import SHMAccount, MultSigAccount\n",
    "from ecc import PrivateKey, S256Point\n",
    "from transactions import MultiSigTransaction\n",
    "import datetime\n",
    "from bip32 import Xtended_pubkey, Xtended_privkey\n",
    "from blockcypher import get_address_details, get_transaction_details\n",
    "from blockcypher import pushtx\n",
    "import threading\n",
    "from wallet_database_sqlite3 import Sqlite3Wallet, Sqlite3Environment\n",
    "\n",
    "class HDMWallet(Wallet):\n",
    "    \"\"\"\n",
    "    SafeWallet is a Multisignature SHD wallet.\n",
    "    SHDM Single Herarchical Deterministic Multi-Signature Wallet\n",
    "    \"\"\"\n",
    "    def __init__(self, name, master_pubkey_list,master_privkey, m=2, n=6,addr_type=\"p2wsh\",  \n",
    "                  testnet=False, segwit=True, parent_name=None, safe_index=-1):\n",
    "        \"\"\"\n",
    "        public_key_list: List of public keys. Must be in bytes.\n",
    "        m: integer\n",
    "        n: integer\n",
    "        _privkey: PrivateKey object. If you provide a Private key, don't provide a master_privkey.\n",
    "        master_pubkey: Xtended_pubkey object. If you provide a master_privkey, it is not necessary to\n",
    "        provide a master_pubkey.\n",
    "        master_privkey: Xtended_privkey object. If you provide a master_privkey, don't provide a _privkey.\n",
    "        testnet: Boolean.\n",
    "        segwit: Boolean.\n",
    "        child_wallet: Boolean.\n",
    "        \"\"\"\n",
    "        \n",
    "        if m < 1 or m > 16 or n < 1 or n > 16:\n",
    "            raise Exception(\"m and n must be between 1 and 16\")\n",
    "        if m > n:\n",
    "            raise Exception(\"m must be always less or equal than n\")\n",
    "        if len(master_pubkey_list) != (n):\n",
    "            raise Exception(\"n and the amount of public keys don't match. The amount of public keys must always be n-1.\")\n",
    "        \n",
    "        \n",
    "        index = -1\n",
    "        #getting the index of the private key in the list of public keys\n",
    "        self.master_privkey = master_privkey\n",
    "        pubkey = str(self.master_privkey.xtended_public_key)\n",
    "        for i,public_key in enumerate(master_pubkey_list):\n",
    "            if str(public_key) == pubkey:\n",
    "                index = i\n",
    "        if index < 0: raise Exception (\"Private key must correspond to one of the public keys.\")\n",
    "\n",
    "        self.xtended_pubkey_list = master_pubkey_list\n",
    "        self.name = name\n",
    "        self.m = m\n",
    "        self.n = n\n",
    "        self.testnet = testnet\n",
    "        self.addr_type = addr_type.lower()\n",
    "        self.privkey_index = index\n",
    "        self.parent_name = parent_name\n",
    "        self.safe_index = safe_index\n",
    "        self.segwit = segwit\n",
    "        \n",
    "        #save the new wallet in the database\n",
    "        #but first, lets convert the public keys into strings to avoid problems in the database\n",
    "        str_pubkeys = [str(x.get_xtended_key()) for x in self.xtended_pubkey_list]\n",
    "        xpriv = str(self.master_privkey.xtended_key)\n",
    "        \n",
    "        self.start_conn()\n",
    "        self.db.new_HDMWallet(self.name, str_pubkeys, self.m, self.n,xpriv, self.addr_type, int(self.testnet), \n",
    "                                  int(self.segwit), self.parent_name, self.safe_index)\n",
    "        self.close_conn()\n",
    "        \n",
    "    def __repr__(cls):\n",
    "        return f\"FHDSafeWallet :{cls.m}-of-{cls.n} pubkeys: {cls.xtended_pubkey_list}\"\n",
    "    \n",
    "    @classmethod   \n",
    "    def from_database(self, name):\n",
    "        self.start_conn(self)\n",
    "        w = self.db.recover_HDMWallet(name)\n",
    "        try: w = w[0]\n",
    "        except: \n",
    "            print(f\"wallet with name {name} not found \")\n",
    "            return False\n",
    "        self.close_conn(self)\n",
    "        print(w)\n",
    "        pubkeys = w[1][1:-1].split(\", \")\n",
    "        master_pubkey_list = [Xtended_pubkey.parse(x) for x in pubkeys]\n",
    "        print(f\"parsed master public keys: {public_key_list}\")\n",
    "        master_privkey = Xtended_privkey.parse(w[4])\n",
    "        if w[8] == \"None\": parent_name = None\n",
    "        else: parent_name = w[8]\n",
    "        \n",
    "        return self(name, master_pubkey_list,master_privkey, w[2],w[3],\n",
    "                    w[5],w[6],w[7],parent_name,w[9])\n",
    "    \n",
    "    def get_i(self,wallet_name, account_path, index):\n",
    "        \n",
    "        self.start_conn()\n",
    "\n",
    "        last_index = self.db.get_max_index( account_path, wallet_name)\n",
    "\n",
    "        if last_index is None: i = 0\n",
    "        else: i = last_index + 1\n",
    "        \n",
    "        self.close_conn()\n",
    "        return i\n",
    "    \n",
    "    def get_child_wallet(self, index, path):\n",
    "        \"\"\"\n",
    "        This is the wallet for specific years. Therefore, the index must comply with the format YY.\n",
    "        index: Integer.\n",
    "        \"\"\"\n",
    "        #data validation\n",
    "        if self.safe_index > -1: raise Exception (\"Only master wallets can create child wallets.\")  \n",
    "        if index < 20 or index > 99:\n",
    "            raise Exception (\"Bad index for year wallet. Follow YY format.\")\n",
    "        \n",
    "        full_path = path + str(index)\n",
    "        child_xtended_privkey = self.master_privkey.get_child_from_path(full_path)\n",
    "        \n",
    "        child_pubkey_list = [x.get_child_from_path(full_path) for x in self.xtended_pubkey_list]\n",
    "            \n",
    "        child_wallet = HDMWallet( \"20\"+str(index)+\"_\"+self.name,  child_pubkey_list,\n",
    "                                 child_xtended_privkey,  self.m,  self.n,  self.addr_type,\n",
    "                                 self.testnet, self.segwit,  self.name, index)\n",
    "        \n",
    "        return child_wallet\n",
    "    \n",
    "    def get_year_wallet(self, index=None):\n",
    "        \"\"\"\n",
    "        Returns a year_safe wallet based on the index.\n",
    "        If this-years's wallet is desired, don't pass any argument or set index to None.\n",
    "        \"\"\"\n",
    "        if self.safe_index >= 0: raise Exception (\"Only master wallets can create safe wallets.\")\n",
    "        path = \"m/\"\n",
    "        if index is None:\n",
    "            today = datetime.datetime.now()\n",
    "            index_string = str(today.year)[2:]\n",
    "            index = int(index_string)\n",
    "            \n",
    "        safe_wallet = self.get_child_wallet(index, path)\n",
    "        \n",
    "        return safe_wallet\n",
    "    \n",
    "    def get_unused_addresses_list(self, change_addresses=False):\n",
    "        \n",
    "        self.start_conn()\n",
    "        unused_addresses = self.db.get_unused_safe_addresses(name = self.name)\n",
    "        self.close_conn()\n",
    "        print(f\"unused_addresses: {unused_addresses}\")\n",
    "        \n",
    "        if    change_addresses: unused_addresses_filtered =  [x for x in unused_addresses if x[1]==1]\n",
    "        else: unused_addresses_filtered =  [x for x in unused_addresses if x[1]==0]\n",
    "        \n",
    "        return unused_addresses_filtered\n",
    "                               \n",
    "                               \n",
    "    def create_receiving_address(self, addr_type = \"p2wsh\",index=None):\n",
    "        if self.safe_index < 0: raise Exception (\"Only child wallets can create addresses.\")\n",
    "        if addr_type.lower() ==    \"p2sh\":       _type  = P2SH\n",
    "        elif addr_type.lower() ==   \"p2wsh\":     _type  = P2WSH\n",
    "        elif addr_type.lower() == \"p2sh_p2wsh\":  _type  = P2SH_P2WSH\n",
    "        else: raise Exception(f\"{addr_type} is NOT a valid type of address.\")\n",
    "        receiving_path = \"m/0/\"\n",
    "        i = self.get_i(self.name,receiving_path, index)\n",
    "        path = receiving_path + str(i)\n",
    "        print(f\"Deposit address's Path: {path}\")\n",
    "        \n",
    "        account = FHMAccount(self.m, self.xtended_pubkey_list, self.master_privkey, self.addr_type,\n",
    "                             self.testnet, self.segwit)\n",
    "        \n",
    "        \n",
    "        \n",
    "        address = account.get_deposit_address(i)\n",
    "        self.start_conn()\n",
    "        self.db.new_address(address,receiving_path,i,FALSE, _type, self.name, self.safe_index)\n",
    "        self.close_conn()\n",
    "        return address\n",
    "\n",
    "    \n",
    "    def create_change_address(self, addr_type = \"p2wsh\", index=None):\n",
    "        if self.safe_index < 0: raise Exception (\"Only child wallets can create addresses.\")\n",
    "        receiving_path = \"m/1/\"\n",
    "        \n",
    "        i = self.get_i(self.name,receiving_path, index)\n",
    "        path = receiving_path + str(i)\n",
    "        print(f\"Change address's Path: {path}\")\n",
    "        \n",
    "        account = FHMAccount(self.m, self.xtended_pubkey_list, self.master_privkey, self.addr_type,\n",
    "                             self.testnet, self.segwit)\n",
    "        \n",
    "        change_account = account.get_change_account(index=i)\n",
    "        self.start_conn()\n",
    "        self.db.new_address(change_account.address,receiving_path,i,TRUE, P2WSH, self.name, self.safe_index)\n",
    "        self.close_conn()\n",
    "        return change_account\n",
    "    \n",
    "    def get_a_change_address(self):\n",
    "        \"\"\"\n",
    "        Returns an Account object containing a change address. It returns an existing unused change\n",
    "        address account, or creates a new one if necessary.\n",
    "        \"\"\"\n",
    "        if self.safe_index < 0: raise Exception (\"Only child wallets can create addresses.\")\n",
    "        self.start_conn()\n",
    "        unused_addresses = self.get_unused_addresses_list(change_addresses=True)\n",
    "        self.close_conn()\n",
    "        \n",
    "        if len(unused_addresses)>0: return self.create_change_address(index=unused_addresses[0][3])\n",
    "        else: return self.create_change_address()\n",
    "        \n",
    "    def share(self):\n",
    "        if self.safe_index >= 0: raise Exception (\"Only master wallets can be shared.\")\n",
    "        return {\"master_pubkey_list\":self.xtended_pubkey_list,\"m\":self.m, \"n\":self.n, \"addr_type\":self.addr_type,\n",
    "                \"testnet\":self.testnet, \"segwit\":self.segwit }\n",
    "    \n",
    "\n",
    "    def get_utxos(self):\n",
    "        \"\"\"\n",
    "        This method is an overwritten version of the original Wallet-class version.\n",
    "        \"\"\"\n",
    "        self.start_conn()\n",
    "        ################################ FOR DEVOLPMENT PORPUSES ONLY ###############################\n",
    "        ############### CHANGE BACK TO ORIGINAL STATE ONCE DONE WITH TESTS ##########################\n",
    "        #coins = self.db.look_for_coins(self.name) #ORIGINAL LINE!\n",
    "        coins = self.db.look_for_coins(\"2020_Corporate_wallet_master\") #TEST LINE\n",
    "        ############################################################################################\n",
    "        self.close_conn()\n",
    "        return coins\n",
    "    \n",
    "    def update_balance(self):\n",
    "        \"\"\"\n",
    "        This method is an overwritten version of the original Wallet-class version.\n",
    "        \"\"\"\n",
    "        self.start_conn()\n",
    "        addresses = self.db.get_all_addresses(self.name)\n",
    "        self.close_conn()\n",
    "        \n",
    "        if self.testnet: coin_symbol = \"btc-testnet\"\n",
    "        else: coin_symbol = \"btc\"\n",
    "            \n",
    "        for address in addresses:\n",
    "            \"address will be a touple with data (address,)\"\n",
    "            print(f\"consulting blockchain for address {address}\")\n",
    "            addr_info = get_address_details(address[0], coin_symbol = coin_symbol, unspent_only=True)\n",
    "            print(f\"res for {address}:\\n{addr_info}\")\n",
    "            \n",
    "            self.start_conn()\n",
    "            if addr_info[\"unconfirmed_n_tx\"] > 0:\n",
    "                print(\"got unconfirmed transactions.\")\n",
    "                for utxo in addr_info[\"unconfirmed_txrefs\"]:\n",
    "                    if not self.db.exist_utxo( utxo[\"tx_hash\"], utxo[\"tx_output_n\"], 0):\n",
    "                        print(\"new unconfirmed UTXO\")\n",
    "                        self.db.new_utxo(utxo[\"address\"],utxo[\"value\"],utxo[\"tx_hash\"],utxo[\"tx_output_n\"],confirmed = 0)\n",
    "            \n",
    "            if addr_info[\"n_tx\"] - addr_info[\"unconfirmed_n_tx\"] > 0 :\n",
    "                print(\"got transactions.\")\n",
    "                for utxo in addr_info[\"txrefs\"]:\n",
    "                    if not self.db.exist_utxo( utxo[\"tx_hash\"], utxo[\"tx_output_n\"], 1):\n",
    "                        print(\"new confirmed UTXO\")\n",
    "                        self.db.new_utxo(addr_info[\"address\"],utxo[\"value\"],utxo[\"tx_hash\"],utxo[\"tx_output_n\"],\n",
    "                                         confirmed = 1)\n",
    "      \n",
    "        self.close_conn()\n",
    "        return self.get_balance()\n",
    "        \n",
    "    def get_coins(self, to_address_amount_list, segwit=True):\n",
    "        send_all = False\n",
    "        \n",
    "        print(f\"From wallet.send(): {to_address_amount_list}\")\n",
    "        #calculate total amount to send from the wallet\n",
    "        total_amount = 0\n",
    "        for output in to_address_amount_list:\n",
    "            total_amount += output[1]\n",
    "            \n",
    "            \n",
    "        #we validate that we have funds to carry out the transaction, or if we are trying to send all the funds  \n",
    "        balance = self.get_balance()\n",
    "        if total_amount>balance:\n",
    "            raise Exception(f\"Not enough funds in wallet for this transaction.\\nOnly {balance} satoshis available\")\n",
    "        \n",
    "        elif total_amount == balance: send_all = True\n",
    "            \n",
    "            \n",
    "        #We choose the utxos to spend for the transaction\n",
    "        all_utxos = self.get_utxos()\n",
    "        \n",
    "        #If we are trying to send all the funds, then we choose all the utxos\n",
    "        if send_all: utxos = all_utxos\n",
    "        #If not, then we have to choose in an efficient manner.\n",
    "        else:    \n",
    "            utxos = []\n",
    "            utxo_total = 0\n",
    "            \n",
    "            #First we check if only one utxo can carry out the whole transaction\n",
    "            for utxo in all_utxos:\n",
    "                if utxo[2] > total_amount*1.1:\n",
    "                    utxos = [utxo]\n",
    "                    break\n",
    "            #if we found that none of the utxos is big enough to carry out the whole tx, we have to choose several.\n",
    "            if len(utxos)==0:    \n",
    "                for utxo in all_utxos:\n",
    "                    utxos.append(utxo)\n",
    "                    utxo_total += utxo[2]\n",
    "                    if utxo_total > (total_amount*1.1) : break\n",
    "        \n",
    "        return utxos, send_all\n",
    "    \n",
    "    def build_tx(self, utxos, to_address_amount_list, segwit=True, send_all = False):\n",
    "        \n",
    "        account = self.get_signing_account()\n",
    "        \n",
    "        #if we want to send all the funds we don't need a change address.\n",
    "        if send_all: change_address = None    \n",
    "        else:        change_address = self.get_a_change_address()\n",
    "        \n",
    "        #We create the Multi-Signature Transaction object\n",
    "        tx_response = MultiSigTransaction.create_from_wallet(utxo_list=utxos,\n",
    "                                                             receivingAddress_w_amount_list =to_address_amount_list,\n",
    "                                                             multi_sig_account = account,change_address = change_address,\n",
    "                                                             fee=None,segwit=True,send_all=send_all)\n",
    "        \n",
    "        return tx_response\n",
    "    \n",
    "    \n",
    "    def get_signing_account(self):\n",
    "        \n",
    "        #We create the multisignature account to sign the transaction. \n",
    "        account = FHMAccount(self.m, self.xtended_pubkey_list, self.master_privkey, self.addr_type,\n",
    "                             self.testnet, self.segwit)\n",
    "        \n",
    "        return account\n",
    "        \n",
    "        \n",
    "    def broadcast_tx(self, tx,utxos):\n",
    "        \n",
    "        if self.testnet: symbol = \"btc-testnet\"\n",
    "        else: symbol= \"btc\"\n",
    "\n",
    "        env = Sqlite3Environment()\n",
    "        BLOCKCYPHER_API_KEY = env.get_key(\"BLOCKCYPHER_API_KEY\")[0][0]\n",
    "        env.close_database()\n",
    "        push = pushtx(tx_hex= tx.serialize().hex(), coin_symbol=symbol,api_key=BLOCKCYPHER_API_KEY)\n",
    "        tx_id = tx.id()\n",
    "        print(f\"TRANSACTION ID: {tx_id}\")\n",
    "\n",
    "        #saving in db\n",
    "        self.start_conn()\n",
    "        self.db.new_tx(tx_id, [ (x[0],x[1]) for x in utxos] ,\n",
    "                       [str(x).split(\":\")+[i] for i,x in enumerate(tx.tx_outs)])\n",
    "        self.close_conn()\n",
    "        #start new thread to check if the transaction goes through in the blockchain or not.\n",
    "        #Maybe move this to the front end class to pop a warning when it doesn't go through\n",
    "        mythread = threading.Thread(target=self.confirm_tx_sent,args=(tx_id,))\n",
    "        mythread.start()\n",
    "\n",
    "        return tx,push\n",
    "        \n",
    "        \n",
    "    def send(self, to_address_amount_list, segwit=True):\n",
    "        \"\"\"\n",
    "        to_address can be a single address or a list.\n",
    "        amount can be an integer or a list of integers.\n",
    "        If they are lists, they must be ordered in the same way. address 1 will e sent amount 1, \n",
    "        adrress 2 will be sent amount2.. adress n will be sent amount n.\n",
    "        \"\"\"\n",
    "        #First let's get ready the inputs for the transaction\n",
    "        utxos, send_all = self.get_coins(to_address_amount_list, segwit)\n",
    "        \n",
    "        #Now, let's build the transaction\n",
    "        tx_response = self.build_tx(utxos,to_address_amount_list, segwit, send_all)\n",
    "        \n",
    "        # tx_response will be a touple of the transaction object and a boolean (tx,READY) that tells us if the  \n",
    "        #transaction is ready to be broadcasted or if it needs more signatures:\n",
    "        if tx_response[1]: \n",
    "            #if it is ready, we broadcast the transaction\n",
    "            self.broadcast_tx(tx_response[0],utxos)\n",
    "            \n",
    "        return tx_response \n",
    "        \n",
    "    def sign_received_tx(self, tx):\n",
    "        \"\"\"\n",
    "        tx: Tx object. The transaction object that needs to be signed.\n",
    "        \"\"\"\n",
    "        \n",
    "        #to do: we need to get the utxo list from the database using the transaction to be able to sign\n",
    "        utxos = []\n",
    "        self.start_conn()\n",
    "        for _in in tx.tx_ins:\n",
    "            res = self.db.get_utxo_info(_in.prev_tx.hex(), _in.prev_index)\n",
    "            print(res)\n",
    "            utxos.append(res[0])\n",
    "            \n",
    "        self.close_conn()\n",
    "        #We create the multisignature account to sign the transaction.\n",
    "        account = self.get_signing_account()\n",
    "        \n",
    "        tx_response = MultiSigTransaction.sign_received_tx_with_wallet(utxos,tx,account)\n",
    "        \n",
    "        if tx_response[1]: self.broadcast_tx(tx_response[0],utxos)\n",
    "            \n",
    "        return tx_response\n",
    "            "
   ]
  },
  {
   "cell_type": "code",
   "execution_count": 7,
   "metadata": {},
   "outputs": [
    {
     "name": "stdout",
     "output_type": "stream",
     "text": [
      "8418572761394767459444418608530371567217744336876557229650655736270882421023962287566834689847418048023007033142570964655978481626857402470209587761075589\n",
      "6018716354834777059445516500463325153454936853151215624488541646839939367247233986759821493097378851875115552924255831805062990606698886137563075847103799\n",
      "7349618075688827342644292161792411154388397071333136974711210419399617419860687939173705085036785308619307965881391603570352784472532296452988784284606559\n"
     ]
    }
   ],
   "source": [
    "words = \"engine over neglect science fatigue dawn axis parent mind man escape era goose border invest slab relax bind desert hurry useless lonely frozen morning\"\n",
    "manager1 = ManagerWallet.recover_from_words(words, 256, \"RobertPauslon\",True)\n",
    "\n",
    "words = \"client sudden sunset borrow pupil rely sand girl prefer movie bachelor guilt giraffe glove much strong dizzy switch ill silent goddess crumble goat power\"\n",
    "manager2 = ManagerWallet.recover_from_words(words,entropy=256,passphrase=\"RobertPaulson\",testnet=True)\n",
    "\n",
    "\n",
    "public_keys = [ manager1.get_daily_safe_pubkey(), manager2.get_daily_safe_pubkey(), PrivateKey(int.from_bytes(b\"Ashley Serna\",\"little\")).point.sec()]\n",
    "\n",
    "\n",
    "words_master=\"other seek spend wise milk govern conduct crunch train wrestle twist cattle\"\n",
    "master_wallet = CorporateSuperWallet.recover_from_words(words_master,128,\"\",True)"
   ]
  },
  {
   "cell_type": "code",
   "execution_count": 8,
   "metadata": {},
   "outputs": [
    {
     "data": {
      "text/plain": [
       "'\\nmain_wallet = SHDSafeWallet.from_master_privkey(\"test1_master_wallet\",public_keys,\\n                                                master_privkey=master_wallet.get_child_from_path(\"m/44H/0H/1H\"),\\n                                               n=4,testnet=True)\\n                                               '"
      ]
     },
     "execution_count": 8,
     "metadata": {},
     "output_type": "execute_result"
    }
   ],
   "source": [
    "\"\"\"\n",
    "main_wallet = SHDSafeWallet.from_master_privkey(\"test1_master_wallet\",public_keys,\n",
    "                                                master_privkey=master_wallet.get_child_from_path(\"m/44H/0H/1H\"),\n",
    "                                               n=4,testnet=True)\n",
    "                                               \"\"\""
   ]
  },
  {
   "cell_type": "code",
   "execution_count": 8,
   "metadata": {},
   "outputs": [
    {
     "name": "stdout",
     "output_type": "stream",
     "text": [
      "connection with database made.\n",
      "('test1_master_wallet', '[461222389963770672910023206337944803706847222730930779040024025202330161562314, 242181816824935352779949905339585673702570459364503992825384375679130606102141, 349045194032852365244858435810860057589910251399394147451364362662197641799889]', 2, 4, 'None', 'tprv8fVXQGqBdhmo7Lymx7JARMiyt59rg9JuuS5uxVsgqKCpQt5wSD9G6HY8uVQs5CPNV5i6qt1vWes78DmmbrKa1gncZXpaL3m71GT3RsRcWda', 'tpubDCBZYgsRn5TTzp1ZqkxkpmP6T6fnqUVpUjghF1uzFb1DFNLi4bxrGnA15c4fLY14bbpZnT1uhNqZPmZHY2yNNFfGJTSAxHZgVj6yDUGSThv', 'p2wsh', 1, 1, 'None', -1)\n",
      "[b'\\x03\\xfb\\xb2\\x9f(\\xe2:\\x8d\\x07\\xf0X68\\xfa\\x89\\xe8e\\xba\\xd0-\\xd1yk\\xfae\\xad\\x95\\xa5\\x17v*\\xc2\\xca', b\"\\x02\\x17n\\x0c\\xfd\\x84]'\\xce\\x83)\\x1fC\\x1d\\xda3s\\x8f\\xcf \\x96\\xa6\\xf3\\xf7\\xc4\\xab\\xde\\xb3p\\x08\\xed\\xe6}\", b'\\x03\\x03\\xb0\\x94-\\xbe\\xd2\\xd0Nq\\xab+\\xa9\\xbc\\x05\\xb9 \\xf8O\\xfe+\\x8b\\x8c-\\x8c\\xfd\\x80*\\xda`\\xf6\\xe8\\xd1']\n",
      "connection with database made.\n",
      "INSERT OR IGNORE INTO SHDSafeWallet (name,public_key_list,m,n,privkey,xpriv,xpub,addr_type,testnet,segwit,parent_name ,safe_index) \n",
      "VALUES(\"test1_master_wallet\",\"[461222389963770672910023206337944803706847222730930779040024025202330161562314, 242181816824935352779949905339585673702570459364503992825384375679130606102141, 349045194032852365244858435810860057589910251399394147451364362662197641799889]\",2,4,\"None\",\"tprv8fVXQGqBdhmo7Lymx7JARMiyt59rg9JuuS5uxVsgqKCpQt5wSD9G6HY8uVQs5CPNV5i6qt1vWes78DmmbrKa1gncZXpaL3m71GT3RsRcWda\",\"tpubDCBZYgsRn5TTzp1ZqkxkpmP6T6fnqUVpUjghF1uzFb1DFNLi4bxrGnA15c4fLY14bbpZnT1uhNqZPmZHY2yNNFfGJTSAxHZgVj6yDUGSThv\",\"p2wsh\",1,1,'None',-1) ;\n",
      "self: SHDSafeWallet xpub:tpubDCBZYgsRn5TTzp1ZqkxkpmP6T6fnqUVpUjghF1uzFb1DFNLi4bxrGnA15c4fLY14bbpZnT1uhNqZPmZHY2yNNFfGJTSAxHZgVj6yDUGSThv, pubkeys: [b'\\x03\\xfb\\xb2\\x9f(\\xe2:\\x8d\\x07\\xf0X68\\xfa\\x89\\xe8e\\xba\\xd0-\\xd1yk\\xfae\\xad\\x95\\xa5\\x17v*\\xc2\\xca', b\"\\x02\\x17n\\x0c\\xfd\\x84]'\\xce\\x83)\\x1fC\\x1d\\xda3s\\x8f\\xcf \\x96\\xa6\\xf3\\xf7\\xc4\\xab\\xde\\xb3p\\x08\\xed\\xe6}\", b'\\x03\\x03\\xb0\\x94-\\xbe\\xd2\\xd0Nq\\xab+\\xa9\\xbc\\x05\\xb9 \\xf8O\\xfe+\\x8b\\x8c-\\x8c\\xfd\\x80*\\xda`\\xf6\\xe8\\xd1']\n"
     ]
    }
   ],
   "source": [
    "main_wallet = SHDSafeWallet.from_database(\"test1_master_wallet\")"
   ]
  },
  {
   "cell_type": "code",
   "execution_count": 9,
   "metadata": {},
   "outputs": [
    {
     "name": "stdout",
     "output_type": "stream",
     "text": [
      "connection with database made.\n",
      "INSERT OR IGNORE INTO SHDSafeWallet (name,public_key_list,m,n,privkey,xpriv,xpub,addr_type,testnet,segwit,parent_name ,safe_index) \n",
      "VALUES(\"200827_test1_master_wallet\",\"[461222389963770672910023206337944803706847222730930779040024025202330161562314, 242181816824935352779949905339585673702570459364503992825384375679130606102141, 349045194032852365244858435810860057589910251399394147451364362662197641799889]\",2,4,\"None\",\"tprv8iHAxPu9bvwpwVXXZdFXLcb8JyUP4g5y73AWkzURfSoAozGdqrF8457WxGfX5oHoDRdChWGNS259giKbcmDTHuSwRUuR8N3cBvHgHHRMgSC\",\"tpubDEyD6owPkJdVpxZKTGv7k2FEszzKE1GsgLmJ3WWj5ibZeUXQUF4iEZjP8Q4eX8aiQoScEcu8b8WMWNpqkWnbwMhZVsrtLza3eHehefNvwrZ\",\"p2wsh\",1,1,'test1_master_wallet',200827) ;\n",
      "self: SHDSafeWallet xpub:tpubDEyD6owPkJdVpxZKTGv7k2FEszzKE1GsgLmJ3WWj5ibZeUXQUF4iEZjP8Q4eX8aiQoScEcu8b8WMWNpqkWnbwMhZVsrtLza3eHehefNvwrZ, pubkeys: [b'\\x03\\xfb\\xb2\\x9f(\\xe2:\\x8d\\x07\\xf0X68\\xfa\\x89\\xe8e\\xba\\xd0-\\xd1yk\\xfae\\xad\\x95\\xa5\\x17v*\\xc2\\xca', b\"\\x02\\x17n\\x0c\\xfd\\x84]'\\xce\\x83)\\x1fC\\x1d\\xda3s\\x8f\\xcf \\x96\\xa6\\xf3\\xf7\\xc4\\xab\\xde\\xb3p\\x08\\xed\\xe6}\", b'\\x03\\x03\\xb0\\x94-\\xbe\\xd2\\xd0Nq\\xab+\\xa9\\xbc\\x05\\xb9 \\xf8O\\xfe+\\x8b\\x8c-\\x8c\\xfd\\x80*\\xda`\\xf6\\xe8\\xd1']\n"
     ]
    }
   ],
   "source": [
    "todays_wallet = main_wallet.get_daily_safe_wallet()"
   ]
  },
  {
   "cell_type": "code",
   "execution_count": 10,
   "metadata": {},
   "outputs": [
    {
     "name": "stdout",
     "output_type": "stream",
     "text": [
      "Deposit address's Path: m/0/0\n",
      "ini shm account _privkey: None\n",
      "connection with database made.\n",
      "INSERT OR IGNORE INTO Addresses (address, path, acc_index, change_addr, created, type, wallet, safe_index)\n",
      " VALUES(\"tb1qdns32eklqlkzwzr54pvddw5t0m28j080j5tkstysuw26cspd3whsx9xqd5\", \"m/0/\", 0, 0, 1598552179, 5, \"200827_test1_master_wallet\", 200827) ;\n"
     ]
    },
    {
     "data": {
      "text/plain": [
       "'tb1qdns32eklqlkzwzr54pvddw5t0m28j080j5tkstysuw26cspd3whsx9xqd5'"
      ]
     },
     "execution_count": 10,
     "metadata": {},
     "output_type": "execute_result"
    }
   ],
   "source": [
    "todays_address = todays_wallet.create_receiving_address()\n",
    "todays_address"
   ]
  },
  {
   "cell_type": "code",
   "execution_count": 11,
   "metadata": {},
   "outputs": [
    {
     "data": {
      "text/plain": [
       "{'public_key_list': [b'\\x03\\xfb\\xb2\\x9f(\\xe2:\\x8d\\x07\\xf0X68\\xfa\\x89\\xe8e\\xba\\xd0-\\xd1yk\\xfae\\xad\\x95\\xa5\\x17v*\\xc2\\xca',\n",
       "  b\"\\x02\\x17n\\x0c\\xfd\\x84]'\\xce\\x83)\\x1fC\\x1d\\xda3s\\x8f\\xcf \\x96\\xa6\\xf3\\xf7\\xc4\\xab\\xde\\xb3p\\x08\\xed\\xe6}\",\n",
       "  b'\\x03\\x03\\xb0\\x94-\\xbe\\xd2\\xd0Nq\\xab+\\xa9\\xbc\\x05\\xb9 \\xf8O\\xfe+\\x8b\\x8c-\\x8c\\xfd\\x80*\\xda`\\xf6\\xe8\\xd1'],\n",
       " 'm': 2,\n",
       " 'n': 4,\n",
       " 'addr_type': 'p2wsh',\n",
       " 'master_pubkey': tpubDCBZYgsRn5TTzp1ZqkxkpmP6T6fnqUVpUjghF1uzFb1DFNLi4bxrGnA15c4fLY14bbpZnT1uhNqZPmZHY2yNNFfGJTSAxHZgVj6yDUGSThv,\n",
       " 'testnet': 1,\n",
       " 'segwit': 1}"
      ]
     },
     "execution_count": 11,
     "metadata": {},
     "output_type": "execute_result"
    }
   ],
   "source": [
    "invite = main_wallet.share()\n",
    "invite"
   ]
  },
  {
   "cell_type": "code",
   "execution_count": 12,
   "metadata": {},
   "outputs": [
    {
     "name": "stdout",
     "output_type": "stream",
     "text": [
      "b'\\xd3\\xcdG\\xa0\\xa1\\xbf\\x86V\\x879\\xa2\\x05Q3o\\xb7(\\x92Z\\x19\\xc8bzf\\xf7\\x9e\\xd4\\xfb\\xc9\\xf5\\xbdP'\n",
      "connection with database made.\n",
      "INSERT OR IGNORE INTO SHDSafeWallet (name,public_key_list,m,n,privkey,xpriv,xpub,addr_type,testnet,segwit,parent_name ,safe_index) \n",
      "VALUES(\"manager1_daily_safe\",\"[461222389963770672910023206337944803706847222730930779040024025202330161562314, 242181816824935352779949905339585673702570459364503992825384375679130606102141, 349045194032852365244858435810860057589910251399394147451364362662197641799889]\",2,4,\"95800709053964933282561433899801232546169819566735397106442210103505108450640\",\"None\",\"tpubDCBZYgsRn5TTzp1ZqkxkpmP6T6fnqUVpUjghF1uzFb1DFNLi4bxrGnA15c4fLY14bbpZnT1uhNqZPmZHY2yNNFfGJTSAxHZgVj6yDUGSThv\",\"p2wsh\",1,1,'None',-1) ;\n",
      "self: SHDSafeWallet xpub:tpubDCBZYgsRn5TTzp1ZqkxkpmP6T6fnqUVpUjghF1uzFb1DFNLi4bxrGnA15c4fLY14bbpZnT1uhNqZPmZHY2yNNFfGJTSAxHZgVj6yDUGSThv, pubkeys: [b'\\x03\\xfb\\xb2\\x9f(\\xe2:\\x8d\\x07\\xf0X68\\xfa\\x89\\xe8e\\xba\\xd0-\\xd1yk\\xfae\\xad\\x95\\xa5\\x17v*\\xc2\\xca', b\"\\x02\\x17n\\x0c\\xfd\\x84]'\\xce\\x83)\\x1fC\\x1d\\xda3s\\x8f\\xcf \\x96\\xa6\\xf3\\xf7\\xc4\\xab\\xde\\xb3p\\x08\\xed\\xe6}\", b'\\x03\\x03\\xb0\\x94-\\xbe\\xd2\\xd0Nq\\xab+\\xa9\\xbc\\x05\\xb9 \\xf8O\\xfe+\\x8b\\x8c-\\x8c\\xfd\\x80*\\xda`\\xf6\\xe8\\xd1']\n"
     ]
    }
   ],
   "source": [
    "manager_safe_wallet = manager1.accept_invite(invite,\"manager1_daily_safe\")"
   ]
  },
  {
   "cell_type": "code",
   "execution_count": 13,
   "metadata": {},
   "outputs": [
    {
     "name": "stdout",
     "output_type": "stream",
     "text": [
      "connection with database made.\n",
      "INSERT OR IGNORE INTO SHDSafeWallet (name,public_key_list,m,n,privkey,xpriv,xpub,addr_type,testnet,segwit,parent_name ,safe_index) \n",
      "VALUES(\"200827_manager1_daily_safe\",\"[461222389963770672910023206337944803706847222730930779040024025202330161562314, 242181816824935352779949905339585673702570459364503992825384375679130606102141, 349045194032852365244858435810860057589910251399394147451364362662197641799889]\",2,4,\"95800709053964933282561433899801232546169819566735397106442210103505108450640\",\"None\",\"tpubDEyD6owPkJdVpxZKTGv7k2FEszzKE1GsgLmJ3WWj5ibZeUXQUF4iEZjP8Q4eX8aiQoScEcu8b8WMWNpqkWnbwMhZVsrtLza3eHehefNvwrZ\",\"p2wsh\",1,1,'manager1_daily_safe',200827) ;\n",
      "self: SHDSafeWallet xpub:tpubDEyD6owPkJdVpxZKTGv7k2FEszzKE1GsgLmJ3WWj5ibZeUXQUF4iEZjP8Q4eX8aiQoScEcu8b8WMWNpqkWnbwMhZVsrtLza3eHehefNvwrZ, pubkeys: [b'\\x03\\xfb\\xb2\\x9f(\\xe2:\\x8d\\x07\\xf0X68\\xfa\\x89\\xe8e\\xba\\xd0-\\xd1yk\\xfae\\xad\\x95\\xa5\\x17v*\\xc2\\xca', b\"\\x02\\x17n\\x0c\\xfd\\x84]'\\xce\\x83)\\x1fC\\x1d\\xda3s\\x8f\\xcf \\x96\\xa6\\xf3\\xf7\\xc4\\xab\\xde\\xb3p\\x08\\xed\\xe6}\", b'\\x03\\x03\\xb0\\x94-\\xbe\\xd2\\xd0Nq\\xab+\\xa9\\xbc\\x05\\xb9 \\xf8O\\xfe+\\x8b\\x8c-\\x8c\\xfd\\x80*\\xda`\\xf6\\xe8\\xd1']\n"
     ]
    }
   ],
   "source": [
    "\n",
    "todays_managers_wallet = manager_safe_wallet.get_daily_safe_wallet()"
   ]
  },
  {
   "cell_type": "code",
   "execution_count": 14,
   "metadata": {},
   "outputs": [
    {
     "name": "stdout",
     "output_type": "stream",
     "text": [
      "Deposit address's Path: m/0/0\n",
      "ini shm account _privkey: <ecc.PrivateKey object at 0x7f8ae77d49d0>\n",
      "connection with database made.\n",
      "INSERT OR IGNORE INTO Addresses (address, path, acc_index, change_addr, created, type, wallet, safe_index)\n",
      " VALUES(\"tb1qdns32eklqlkzwzr54pvddw5t0m28j080j5tkstysuw26cspd3whsx9xqd5\", \"m/0/\", 0, 0, 1598552195, 5, \"200827_manager1_daily_safe\", 200827) ;\n"
     ]
    },
    {
     "data": {
      "text/plain": [
       "'tb1qdns32eklqlkzwzr54pvddw5t0m28j080j5tkstysuw26cspd3whsx9xqd5'"
      ]
     },
     "execution_count": 14,
     "metadata": {},
     "output_type": "execute_result"
    }
   ],
   "source": [
    "todays_managers_wallet.create_receiving_address()"
   ]
  },
  {
   "cell_type": "code",
   "execution_count": 15,
   "metadata": {},
   "outputs": [
    {
     "name": "stdout",
     "output_type": "stream",
     "text": [
      "b\"\\xfe\\x8e\\xa2X\\xe1\\xe0\\x9b\\xef\\xd2s\\x1f;\\xd5\\xf3g\\x88\\xfd\\x97\\x13C/\\xe3H\\xdf\\xb8E\\xcc[$H\\x1f'\"\n",
      "connection with database made.\n",
      "INSERT OR IGNORE INTO SHDSafeWallet (name,public_key_list,m,n,privkey,xpriv,xpub,addr_type,testnet,segwit,parent_name ,safe_index) \n",
      "VALUES(\"manager_daily_safe\",\"[461222389963770672910023206337944803706847222730930779040024025202330161562314, 242181816824935352779949905339585673702570459364503992825384375679130606102141, 349045194032852365244858435810860057589910251399394147451364362662197641799889]\",2,4,\"115139476302519344463634772255798084337463636322414000002775671153459500424999\",\"None\",\"tpubDCBZYgsRn5TTzp1ZqkxkpmP6T6fnqUVpUjghF1uzFb1DFNLi4bxrGnA15c4fLY14bbpZnT1uhNqZPmZHY2yNNFfGJTSAxHZgVj6yDUGSThv\",\"p2wsh\",1,1,'None',-1) ;\n",
      "self: SHDSafeWallet xpub:tpubDCBZYgsRn5TTzp1ZqkxkpmP6T6fnqUVpUjghF1uzFb1DFNLi4bxrGnA15c4fLY14bbpZnT1uhNqZPmZHY2yNNFfGJTSAxHZgVj6yDUGSThv, pubkeys: [b'\\x03\\xfb\\xb2\\x9f(\\xe2:\\x8d\\x07\\xf0X68\\xfa\\x89\\xe8e\\xba\\xd0-\\xd1yk\\xfae\\xad\\x95\\xa5\\x17v*\\xc2\\xca', b\"\\x02\\x17n\\x0c\\xfd\\x84]'\\xce\\x83)\\x1fC\\x1d\\xda3s\\x8f\\xcf \\x96\\xa6\\xf3\\xf7\\xc4\\xab\\xde\\xb3p\\x08\\xed\\xe6}\", b'\\x03\\x03\\xb0\\x94-\\xbe\\xd2\\xd0Nq\\xab+\\xa9\\xbc\\x05\\xb9 \\xf8O\\xfe+\\x8b\\x8c-\\x8c\\xfd\\x80*\\xda`\\xf6\\xe8\\xd1']\n"
     ]
    }
   ],
   "source": [
    "manager2_safe_wallet = manager2.accept_invite(invite,\"manager_daily_safe\")"
   ]
  },
  {
   "cell_type": "code",
   "execution_count": 16,
   "metadata": {},
   "outputs": [
    {
     "name": "stdout",
     "output_type": "stream",
     "text": [
      "connection with database made.\n",
      "INSERT OR IGNORE INTO SHDSafeWallet (name,public_key_list,m,n,privkey,xpriv,xpub,addr_type,testnet,segwit,parent_name ,safe_index) \n",
      "VALUES(\"200827_manager_daily_safe\",\"[461222389963770672910023206337944803706847222730930779040024025202330161562314, 242181816824935352779949905339585673702570459364503992825384375679130606102141, 349045194032852365244858435810860057589910251399394147451364362662197641799889]\",2,4,\"115139476302519344463634772255798084337463636322414000002775671153459500424999\",\"None\",\"tpubDEyD6owPkJdVpxZKTGv7k2FEszzKE1GsgLmJ3WWj5ibZeUXQUF4iEZjP8Q4eX8aiQoScEcu8b8WMWNpqkWnbwMhZVsrtLza3eHehefNvwrZ\",\"p2wsh\",1,1,'manager_daily_safe',200827) ;\n",
      "self: SHDSafeWallet xpub:tpubDEyD6owPkJdVpxZKTGv7k2FEszzKE1GsgLmJ3WWj5ibZeUXQUF4iEZjP8Q4eX8aiQoScEcu8b8WMWNpqkWnbwMhZVsrtLza3eHehefNvwrZ, pubkeys: [b'\\x03\\xfb\\xb2\\x9f(\\xe2:\\x8d\\x07\\xf0X68\\xfa\\x89\\xe8e\\xba\\xd0-\\xd1yk\\xfae\\xad\\x95\\xa5\\x17v*\\xc2\\xca', b\"\\x02\\x17n\\x0c\\xfd\\x84]'\\xce\\x83)\\x1fC\\x1d\\xda3s\\x8f\\xcf \\x96\\xa6\\xf3\\xf7\\xc4\\xab\\xde\\xb3p\\x08\\xed\\xe6}\", b'\\x03\\x03\\xb0\\x94-\\xbe\\xd2\\xd0Nq\\xab+\\xa9\\xbc\\x05\\xb9 \\xf8O\\xfe+\\x8b\\x8c-\\x8c\\xfd\\x80*\\xda`\\xf6\\xe8\\xd1']\n"
     ]
    }
   ],
   "source": [
    "todays_managers2_wallet = manager2_safe_wallet.get_daily_safe_wallet()"
   ]
  },
  {
   "cell_type": "code",
   "execution_count": 17,
   "metadata": {},
   "outputs": [
    {
     "name": "stdout",
     "output_type": "stream",
     "text": [
      "Deposit address's Path: m/0/0\n",
      "ini shm account _privkey: <ecc.PrivateKey object at 0x7f8ae78aa4d0>\n",
      "connection with database made.\n",
      "INSERT OR IGNORE INTO Addresses (address, path, acc_index, change_addr, created, type, wallet, safe_index)\n",
      " VALUES(\"tb1qdns32eklqlkzwzr54pvddw5t0m28j080j5tkstysuw26cspd3whsx9xqd5\", \"m/0/\", 0, 0, 1598552209, 5, \"200827_manager_daily_safe\", 200827) ;\n"
     ]
    },
    {
     "data": {
      "text/plain": [
       "'tb1qdns32eklqlkzwzr54pvddw5t0m28j080j5tkstysuw26cspd3whsx9xqd5'"
      ]
     },
     "execution_count": 17,
     "metadata": {},
     "output_type": "execute_result"
    }
   ],
   "source": [
    "todays_managers2_wallet.create_receiving_address()"
   ]
  },
  {
   "cell_type": "code",
   "execution_count": 18,
   "metadata": {},
   "outputs": [
    {
     "name": "stdout",
     "output_type": "stream",
     "text": [
      "connection with database made.\n",
      "consulting blockchain for address ('tb1qdns32eklqlkzwzr54pvddw5t0m28j080j5tkstysuw26cspd3whsx9xqd5',)\n",
      "res for ('tb1qdns32eklqlkzwzr54pvddw5t0m28j080j5tkstysuw26cspd3whsx9xqd5',):\n",
      "{'address': 'tb1qdns32eklqlkzwzr54pvddw5t0m28j080j5tkstysuw26cspd3whsx9xqd5', 'total_received': 200000, 'total_sent': 100000, 'balance': 100000, 'unconfirmed_balance': 0, 'final_balance': 100000, 'n_tx': 3, 'unconfirmed_n_tx': 0, 'final_n_tx': 3, 'txrefs': [{'tx_hash': 'f9613cbef74bb3d6dc12afcec13e2b61d20361d5541329f33b3e4f86648da986', 'block_height': 1827914, 'tx_input_n': -1, 'tx_output_n': 0, 'value': 100000, 'ref_balance': 100000, 'spent': False, 'confirmations': 130, 'confirmed': datetime.datetime(2020, 8, 27, 17, 31, 30, tzinfo=tzutc()), 'double_spend': False}], 'tx_url': 'https://api.blockcypher.com/v1/btc/test3/txs/', 'unconfirmed_txrefs': []}\n",
      "connection with database made.\n",
      "got transactions.\n",
      "SELECT * FROM Utxos WHERE  tx_id = 'f9613cbef74bb3d6dc12afcec13e2b61d20361d5541329f33b3e4f86648da986' AND out_index = 0\n",
      "result of looking_for coins: [('tb1qdns32eklqlkzwzr54pvddw5t0m28j080j5tkstysuw26cspd3whsx9xqd5', 100000, 'f9613cbef74bb3d6dc12afcec13e2b61d20361d5541329f33b3e4f86648da986', 0, 1598549511, 0, 0)]\n",
      "changed confirmations on utxo f9613cbef74bb3d6dc12afcec13e2b61d20361d5541329f33b3e4f86648da986:0\n",
      "consulting blockchain for address ('tb1qqa8j2l955lgxfme4nt663cvqtr6v26ujeumdxq3ld7psy367x90q0nq3mc',)\n",
      "res for ('tb1qqa8j2l955lgxfme4nt663cvqtr6v26ujeumdxq3ld7psy367x90q0nq3mc',):\n",
      "{'address': 'tb1qqa8j2l955lgxfme4nt663cvqtr6v26ujeumdxq3ld7psy367x90q0nq3mc', 'total_received': 0, 'total_sent': 0, 'balance': 0, 'unconfirmed_balance': 0, 'final_balance': 0, 'n_tx': 0, 'unconfirmed_n_tx': 0, 'final_n_tx': 0, 'tx_url': 'https://api.blockcypher.com/v1/btc/test3/txs/', 'txrefs': [], 'unconfirmed_txrefs': []}\n",
      "connection with database made.\n",
      "connection with database made.\n",
      "[('f9613cbef74bb3d6dc12afcec13e2b61d20361d5541329f33b3e4f86648da986', 0, 100000, 'm/0/', 0, 'tb1qdns32eklqlkzwzr54pvddw5t0m28j080j5tkstysuw26cspd3whsx9xqd5', 5)]\n",
      "('f9613cbef74bb3d6dc12afcec13e2b61d20361d5541329f33b3e4f86648da986', 0, 100000, 'm/0/', 0, 'tb1qdns32eklqlkzwzr54pvddw5t0m28j080j5tkstysuw26cspd3whsx9xqd5', 5)\n"
     ]
    },
    {
     "data": {
      "text/plain": [
       "100000"
      ]
     },
     "execution_count": 18,
     "metadata": {},
     "output_type": "execute_result"
    }
   ],
   "source": [
    "todays_wallet.update_balance()"
   ]
  },
  {
   "cell_type": "code",
   "execution_count": 19,
   "metadata": {},
   "outputs": [
    {
     "name": "stdout",
     "output_type": "stream",
     "text": [
      "From wallet.send(): [('mkHS9ne12qx9pS9VojpwU5xtRd4T7X7ZUt', 50000)]\n",
      "connection with database made.\n",
      "[('f9613cbef74bb3d6dc12afcec13e2b61d20361d5541329f33b3e4f86648da986', 0, 100000, 'm/0/', 0, 'tb1qdns32eklqlkzwzr54pvddw5t0m28j080j5tkstysuw26cspd3whsx9xqd5', 5)]\n",
      "('f9613cbef74bb3d6dc12afcec13e2b61d20361d5541329f33b3e4f86648da986', 0, 100000, 'm/0/', 0, 'tb1qdns32eklqlkzwzr54pvddw5t0m28j080j5tkstysuw26cspd3whsx9xqd5', 5)\n",
      "connection with database made.\n",
      "ini shm account _privkey: None\n",
      "connection with database made.\n",
      "connection with database made.\n",
      "SELECT address, change_addr, path, acc_index  \n",
      "FROM Addresses WHERE\n",
      "NOT EXISTS(\n",
      "SELECT 1 \n",
      " FROM Utxos\n",
      "WHERE Utxos.address = Addresses.address) \n",
      "AND\n",
      " Addresses.wallet = '200827_test1_master_wallet';\n",
      "unused_addresses: [('tb1qqa8j2l955lgxfme4nt663cvqtr6v26ujeumdxq3ld7psy367x90q0nq3mc', 1, 'm/1/', 0)]\n",
      "connection with database made.\n",
      "Change address's Path: m/1/1\n",
      "ini shm account _privkey: None\n",
      "connection with database made.\n",
      "INSERT OR IGNORE INTO Addresses (address, path, acc_index, change_addr, created, type, wallet, safe_index)\n",
      " VALUES(\"Multisignature account: tb1q0whr89k65adyn8wes9gk0qm6x976evjsu2kz35gptj2qfekd4tls3a0quq\", \"m/1/\", 1, 1, 1598552221, 5, \"200827_test1_master_wallet\", 200827) ;\n",
      "trying P2WSH\n",
      "utxo_list: [('f9613cbef74bb3d6dc12afcec13e2b61d20361d5541329f33b3e4f86648da986', 0, 100000, 'm/0/', 0, 'tb1qdns32eklqlkzwzr54pvddw5t0m28j080j5tkstysuw26cspd3whsx9xqd5', 5)]\n",
      "size of transaction without signatures: 269\n",
      "fee: 3228\n",
      "change 46772\n",
      "total 100000, diff: 0\n",
      "Address trying to spend from: tb1qdns32eklqlkzwzr54pvddw5t0m28j080j5tkstysuw26cspd3whsx9xqd5, path m/0/0\n",
      "Deposit account index 0\n",
      "tb1qdns32eklqlkzwzr54pvddw5t0m28j080j5tkstysuw26cspd3whsx9xqd5\n",
      "cmds is empty. Creating new set of commands\n",
      "sign_input_multisig commands: [0, 0, 0, b'0E\\x02!\\x00\\xcc\\xe7:f\\x19~\\xbaG\\xcf\\xf7)\\x03X\\xc5\\x14u\\xf2@\\x9e\\xb1\\xb1\\xdf\\xd6 1V\\xb9:\\xdd\\x07\\x87\\x9d\\x02 \"R\\xd8\\xae,e\\x82\\x18M\\xbb\\xf5\\xd7%\\xf9\\xc4V:\\x1bm\\xc7\\x0e\\xb9\\xc2\\x9a\\x14\\xd0fY\\xffXp\\xeb\\x01', b\"R!\\x03\\xfb\\xb2\\x9f(\\xe2:\\x8d\\x07\\xf0X68\\xfa\\x89\\xe8e\\xba\\xd0-\\xd1yk\\xfae\\xad\\x95\\xa5\\x17v*\\xc2\\xca!\\x02\\x17n\\x0c\\xfd\\x84]'\\xce\\x83)\\x1fC\\x1d\\xda3s\\x8f\\xcf \\x96\\xa6\\xf3\\xf7\\xc4\\xab\\xde\\xb3p\\x08\\xed\\xe6}!\\x03\\x03\\xb0\\x94-\\xbe\\xd2\\xd0Nq\\xab+\\xa9\\xbc\\x05\\xb9 \\xf8O\\xfe+\\x8b\\x8c-\\x8c\\xfd\\x80*\\xda`\\xf6\\xe8\\xd1!\\x03\\x17\\xd6\\xe7*\\xcb\\x9a\\xf7\\xea&\\xf8,+\\xe1'\\xac1\\x1a\\xbc\\xfc\\xaeTU\\x9c\\x07\\xabH\\xed\\xdf\\x1b]\\xbe\\x84T\\xae\"]\n",
      "segwit commands: [0, 0, 0, b'0E\\x02!\\x00\\xcc\\xe7:f\\x19~\\xbaG\\xcf\\xf7)\\x03X\\xc5\\x14u\\xf2@\\x9e\\xb1\\xb1\\xdf\\xd6 1V\\xb9:\\xdd\\x07\\x87\\x9d\\x02 \"R\\xd8\\xae,e\\x82\\x18M\\xbb\\xf5\\xd7%\\xf9\\xc4V:\\x1bm\\xc7\\x0e\\xb9\\xc2\\x9a\\x14\\xd0fY\\xffXp\\xeb\\x01', b\"R!\\x03\\xfb\\xb2\\x9f(\\xe2:\\x8d\\x07\\xf0X68\\xfa\\x89\\xe8e\\xba\\xd0-\\xd1yk\\xfae\\xad\\x95\\xa5\\x17v*\\xc2\\xca!\\x02\\x17n\\x0c\\xfd\\x84]'\\xce\\x83)\\x1fC\\x1d\\xda3s\\x8f\\xcf \\x96\\xa6\\xf3\\xf7\\xc4\\xab\\xde\\xb3p\\x08\\xed\\xe6}!\\x03\\x03\\xb0\\x94-\\xbe\\xd2\\xd0Nq\\xab+\\xa9\\xbc\\x05\\xb9 \\xf8O\\xfe+\\x8b\\x8c-\\x8c\\xfd\\x80*\\xda`\\xf6\\xe8\\xd1!\\x03\\x17\\xd6\\xe7*\\xcb\\x9a\\xf7\\xea&\\xf8,+\\xe1'\\xac1\\x1a\\xbc\\xfc\\xaeTU\\x9c\\x07\\xabH\\xed\\xdf\\x1b]\\xbe\\x84T\\xae\"]\n",
      "There are only 1 signatures, but 2 are required.\n",
      "transaction not ready to broadcast\n"
     ]
    }
   ],
   "source": [
    "m = [(\"mkHS9ne12qx9pS9VojpwU5xtRd4T7X7ZUt\",50000)]\n",
    "response = todays_wallet.send(m)"
   ]
  },
  {
   "cell_type": "code",
   "execution_count": 20,
   "metadata": {},
   "outputs": [
    {
     "name": "stdout",
     "output_type": "stream",
     "text": [
      "connection with database made.\n",
      "SELECT Utxos.tx_id, Utxos.out_index, Utxos.amount, Addresses.path, Addresses.acc_index, Addresses.address,\n",
      " Addresses.type \n",
      "FROM Utxos INNER JOIN Addresses \n",
      "ON Utxos.address = Addresses.address\n",
      "WHERE Utxos.tx_id = 'f9613cbef74bb3d6dc12afcec13e2b61d20361d5541329f33b3e4f86648da986' AND Utxos.out_index = 0;\n",
      "[('f9613cbef74bb3d6dc12afcec13e2b61d20361d5541329f33b3e4f86648da986', 0, 100000, 'm/0/', 0, 'tb1qdns32eklqlkzwzr54pvddw5t0m28j080j5tkstysuw26cspd3whsx9xqd5', 5)]\n",
      "ini shm account _privkey: <ecc.PrivateKey object at 0x7f8ae7278710>\n",
      "Address trying to spend from: tb1qdns32eklqlkzwzr54pvddw5t0m28j080j5tkstysuw26cspd3whsx9xqd5, path m/0/0\n",
      "Deposit account index 0\n",
      "tb1qdns32eklqlkzwzr54pvddw5t0m28j080j5tkstysuw26cspd3whsx9xqd5\n",
      "sign_input_multisig commands: [0, b\"0D\\x02 '\\xed\\xcf 2\\xe3\\xe1\\xa95\\xd6\\xd4\\xbd\\xa2\\xacL?\\xcdp!\\x84\\x98\\xd7\\xe3 5\\xdbo~\\xf2\\x81\\xb7J\\x02 6g\\xd9C\\xf7\\x8c\\xc2\\xcdJ-D\\xa2\\x0b\\x8bF \\xf8\\x8c\\x905\\xe5\\x9b\\xa0E\\xe78m\\xba\\x11@SQ\\x01\", 0, b'0E\\x02!\\x00\\xcc\\xe7:f\\x19~\\xbaG\\xcf\\xf7)\\x03X\\xc5\\x14u\\xf2@\\x9e\\xb1\\xb1\\xdf\\xd6 1V\\xb9:\\xdd\\x07\\x87\\x9d\\x02 \"R\\xd8\\xae,e\\x82\\x18M\\xbb\\xf5\\xd7%\\xf9\\xc4V:\\x1bm\\xc7\\x0e\\xb9\\xc2\\x9a\\x14\\xd0fY\\xffXp\\xeb\\x01', b\"R!\\x03\\xfb\\xb2\\x9f(\\xe2:\\x8d\\x07\\xf0X68\\xfa\\x89\\xe8e\\xba\\xd0-\\xd1yk\\xfae\\xad\\x95\\xa5\\x17v*\\xc2\\xca!\\x02\\x17n\\x0c\\xfd\\x84]'\\xce\\x83)\\x1fC\\x1d\\xda3s\\x8f\\xcf \\x96\\xa6\\xf3\\xf7\\xc4\\xab\\xde\\xb3p\\x08\\xed\\xe6}!\\x03\\x03\\xb0\\x94-\\xbe\\xd2\\xd0Nq\\xab+\\xa9\\xbc\\x05\\xb9 \\xf8O\\xfe+\\x8b\\x8c-\\x8c\\xfd\\x80*\\xda`\\xf6\\xe8\\xd1!\\x03\\x17\\xd6\\xe7*\\xcb\\x9a\\xf7\\xea&\\xf8,+\\xe1'\\xac1\\x1a\\xbc\\xfc\\xaeTU\\x9c\\x07\\xabH\\xed\\xdf\\x1b]\\xbe\\x84T\\xae\"]\n",
      "segwit commands: [0, b\"0D\\x02 '\\xed\\xcf 2\\xe3\\xe1\\xa95\\xd6\\xd4\\xbd\\xa2\\xacL?\\xcdp!\\x84\\x98\\xd7\\xe3 5\\xdbo~\\xf2\\x81\\xb7J\\x02 6g\\xd9C\\xf7\\x8c\\xc2\\xcdJ-D\\xa2\\x0b\\x8bF \\xf8\\x8c\\x905\\xe5\\x9b\\xa0E\\xe78m\\xba\\x11@SQ\\x01\", 0, b'0E\\x02!\\x00\\xcc\\xe7:f\\x19~\\xbaG\\xcf\\xf7)\\x03X\\xc5\\x14u\\xf2@\\x9e\\xb1\\xb1\\xdf\\xd6 1V\\xb9:\\xdd\\x07\\x87\\x9d\\x02 \"R\\xd8\\xae,e\\x82\\x18M\\xbb\\xf5\\xd7%\\xf9\\xc4V:\\x1bm\\xc7\\x0e\\xb9\\xc2\\x9a\\x14\\xd0fY\\xffXp\\xeb\\x01', b\"R!\\x03\\xfb\\xb2\\x9f(\\xe2:\\x8d\\x07\\xf0X68\\xfa\\x89\\xe8e\\xba\\xd0-\\xd1yk\\xfae\\xad\\x95\\xa5\\x17v*\\xc2\\xca!\\x02\\x17n\\x0c\\xfd\\x84]'\\xce\\x83)\\x1fC\\x1d\\xda3s\\x8f\\xcf \\x96\\xa6\\xf3\\xf7\\xc4\\xab\\xde\\xb3p\\x08\\xed\\xe6}!\\x03\\x03\\xb0\\x94-\\xbe\\xd2\\xd0Nq\\xab+\\xa9\\xbc\\x05\\xb9 \\xf8O\\xfe+\\x8b\\x8c-\\x8c\\xfd\\x80*\\xda`\\xf6\\xe8\\xd1!\\x03\\x17\\xd6\\xe7*\\xcb\\x9a\\xf7\\xea&\\xf8,+\\xe1'\\xac1\\x1a\\xbc\\xfc\\xaeTU\\x9c\\x07\\xabH\\xed\\xdf\\x1b]\\xbe\\x84T\\xae\"]\n",
      "script_pubkey of tx IN: OP_0 6ce11566df07ec270874a858d6ba8b7ed4793cef9517682c90e395ac402d8baf\n",
      "\n",
      "combined script[0, b\"l\\xe1\\x15f\\xdf\\x07\\xec'\\x08t\\xa8X\\xd6\\xba\\x8b~\\xd4y<\\xef\\x95\\x17h,\\x90\\xe3\\x95\\xac@-\\x8b\\xaf\"]\n",
      "\n",
      "TRANSACTION READY!\n",
      "Run serialize().hex() to get the raw transaction.\n",
      "connection with database made.\n",
      "SELECT key FROM Keys\n",
      "WHERE name ='BLOCKCYPHER_API_KEY' ;\n",
      "TRANSACTION ID: d4a11095338e4e4e7e7a3a1c61a5ec63aa7de230155ab6c34dcd8e6a5c51fb14\n",
      "connection with database made.\n",
      "connection with database made.\n",
      "SELECT key FROM Keys\n",
      "WHERE name ='BLOCKCYPHER_API_KEY' ;\n",
      "counter 0; confirmation 0 for tx d4a11095338e4e4e7e7a3a1c61a5ec63aa7de230155ab6c34dcd8e6a5c51fb14 at 2020-08-27 13:17:21.599802\n",
      "got 1 confirmation. Now in state 1 d4a11095338e4e4e7e7a3a1c61a5ec63aa7de230155ab6c34dcd8e6a5c51fb14\n",
      "sleeping time: 57\n",
      "counter 1; confirmation 1 for tx d4a11095338e4e4e7e7a3a1c61a5ec63aa7de230155ab6c34dcd8e6a5c51fb14 at 2020-08-27 13:18:51.916672\n",
      "got 3 confirmation. Now in state 2 d4a11095338e4e4e7e7a3a1c61a5ec63aa7de230155ab6c34dcd8e6a5c51fb14\n",
      "counter 2; confirmation 6 for tx d4a11095338e4e4e7e7a3a1c61a5ec63aa7de230155ab6c34dcd8e6a5c51fb14 at 2020-08-27 13:19:49.156583\n",
      "confirmed\n",
      "finish 2020-08-27 13:21:43.475955\n",
      "connection with database made.\n",
      "transaction succesfull\n"
     ]
    }
   ],
   "source": [
    "tx = todays_managers2_wallet.sign_received_tx(response[0])"
   ]
  },
  {
   "cell_type": "markdown",
   "metadata": {},
   "source": [
    "# Transaction from an SHDSafeWallet succesful!\n",
    "\n",
    "d4a11095338e4e4e7e7a3a1c61a5ec63aa7de230155ab6c34dcd8e6a5c51fb14\n",
    "\n",
    "## Now let's test FHDMWallets"
   ]
  },
  {
   "cell_type": "code",
   "execution_count": 36,
   "metadata": {},
   "outputs": [
    {
     "name": "stdout",
     "output_type": "stream",
     "text": [
      "8418572761394767459444418608530371567217744336876557229650655736270882421023962287566834689847418048023007033142570964655978481626857402470209587761075589\n",
      "6018716354834777059445516500463325153454936853151215624488541646839939367247233986759821493097378851875115552924255831805062990606698886137563075847103799\n",
      "7349618075688827342644292161792411154388397071333136974711210419399617419860687939173705085036785308619307965881391603570352784472532296452988784284606559\n"
     ]
    },
    {
     "data": {
      "text/plain": [
       "[tpubDCYEqvE5F87BQzZovqjWAtH1xo2ViiqBLCEEkWqd5zN2UBfHo2qKL1UTw1vawzyRffohXZn5tdgxGXJu1MzNHBfoByCm9YotHswF8uQ8qyq,\n",
       " tpubDDJvTw8uvAEBhJLHyVd2mpzb6AxYMSwLcRgNcHbHLjshksYw3z7U7o3VkxNa9RJ7EnwvrEXmrkCGF8kq5xMTMkaVVWdtxvwbnGQNDhBJcGS,\n",
       " tpubDCBZYgsRn5TU4ntpt6ne9hMwYyHVV4NHyuumRPwgWNrTJ7CvHEiZ175Y9UfvKtgL271U54ABuuAbxmZ5X9gMT2g7SoETaxP3tG5LJogennJ]"
      ]
     },
     "execution_count": 36,
     "metadata": {},
     "output_type": "execute_result"
    }
   ],
   "source": [
    "words = \"engine over neglect science fatigue dawn axis parent mind man escape era goose border invest slab relax bind desert hurry useless lonely frozen morning\"\n",
    "corporate1 = CorporateSuperWallet.recover_from_words(words, 256, \"RobertPauslon\",True)\n",
    "\n",
    "words = \"client sudden sunset borrow pupil rely sand girl prefer movie bachelor guilt giraffe glove much strong dizzy switch ill silent goddess crumble goat power\"\n",
    "corporate2 = CorporateSuperWallet.recover_from_words(words,entropy=256,passphrase=\"RobertPaulson\",testnet=True)\n",
    "\n",
    "\n",
    "words_master=\"other seek spend wise milk govern conduct crunch train wrestle twist cattle\"\n",
    "corporate_master = CorporateSuperWallet.recover_from_words(words_master,128,\"\",True)\n",
    "\n",
    "public_keys = [ corporate1.get_year_xpub(), corporate2.get_year_xpub(), corporate_master.get_year_xpub()]\n",
    "\n",
    "public_keys"
   ]
  },
  {
   "cell_type": "code",
   "execution_count": 37,
   "metadata": {},
   "outputs": [
    {
     "name": "stdout",
     "output_type": "stream",
     "text": [
      "connection with database made.\n",
      "INSERT OR IGNORE INTO HDMWallet (name,master_pubkey_list,m,n,xpriv,addr_type,testnet,segwit,parent_name ,safe_index) \n",
      "VALUES(\"Corporate_wallet_master\",\"['tpubDCYEqvE5F87BQzZovqjWAtH1xo2ViiqBLCEEkWqd5zN2UBfHo2qKL1UTw1vawzyRffohXZn5tdgxGXJu1MzNHBfoByCm9YotHswF8uQ8qyq', 'tpubDDJvTw8uvAEBhJLHyVd2mpzb6AxYMSwLcRgNcHbHLjshksYw3z7U7o3VkxNa9RJ7EnwvrEXmrkCGF8kq5xMTMkaVVWdtxvwbnGQNDhBJcGS', 'tpubDCBZYgsRn5TU4ntpt6ne9hMwYyHVV4NHyuumRPwgWNrTJ7CvHEiZ175Y9UfvKtgL271U54ABuuAbxmZ5X9gMT2g7SoETaxP3tG5LJogennJ']\",2,3,\"tprv8fVXQGqBdhmoBKs2zT83kHhpywmZKjBPQcJz8suP6744Tcx9eqtxpcTfyMY3GEvM4ErgPrqPBL3gTzdNyKYsdLMU7ggGG5oR6KMc26i78gi\",\"p2wsh\",1,1,'None',-1) ;\n"
     ]
    }
   ],
   "source": [
    "corporate_safe_master_wallet = HDMWallet(\"Corporate_wallet_master\", public_keys,corporate_master.get_child_from_path(\"m/44H/0H/3H\"), \n",
    "                              m=2, n=3,addr_type=\"p2wsh\",  testnet=True, segwit=True)\n"
   ]
  },
  {
   "cell_type": "code",
   "execution_count": 38,
   "metadata": {},
   "outputs": [
    {
     "name": "stdout",
     "output_type": "stream",
     "text": [
      "connection with database made.\n",
      "INSERT OR IGNORE INTO HDMWallet (name,master_pubkey_list,m,n,xpriv,addr_type,testnet,segwit,parent_name ,safe_index) \n",
      "VALUES(\"2020_Corporate_wallet_master\",\"['tpubDFDEWUZ9ryeqPtMvRG5fhYYSntc5g14UW4QHx9dnndM8u7DCv2zvmMSsoNTPhLHjVvGcgLKgdzgb5E5xHnZn6wHSBENUW3JGmWq22z4LFtp', 'tpubDEP78B2RKZHgbWRxTrb5esRMAxderyoCEqvqyCXRS68bJDidDxCCmobm6Zf6smuUN2z2z1mb43JEiJFFUpAcVyR8CE3HRNDFAZnjCQScEwF', 'tpubDEaFyQfgCwFvSnJzZQUvN7hUejs4fa9itDdr2Ej3DTu28EnBtLes5cFZg1jk5bBgMbGSV7kwP3JQJJRRdVeXFirPuzEdyWue4HPjFcEd3rE']\",2,3,\"tprv8htDpzdS4ZaFZKHCfkpKxi3N5iM8WExpJv34jigjoC6dHkXRFwqGu7dhVswrY2L8s7xLbmpWCji2bscquKFh2RLGb34CBiccnoPV3DNACFj\",\"p2wsh\",1,1,'Corporate_wallet_master',20) ;\n"
     ]
    }
   ],
   "source": [
    "this_year_safe_master_wallet = corporate_safe_master_wallet.get_year_wallet()"
   ]
  },
  {
   "cell_type": "code",
   "execution_count": 39,
   "metadata": {},
   "outputs": [],
   "source": [
    "invite = corporate_safe_master_wallet.share()"
   ]
  },
  {
   "cell_type": "code",
   "execution_count": 40,
   "metadata": {},
   "outputs": [
    {
     "data": {
      "text/plain": [
       "{'master_pubkey_list': [tpubDCYEqvE5F87BQzZovqjWAtH1xo2ViiqBLCEEkWqd5zN2UBfHo2qKL1UTw1vawzyRffohXZn5tdgxGXJu1MzNHBfoByCm9YotHswF8uQ8qyq,\n",
       "  tpubDDJvTw8uvAEBhJLHyVd2mpzb6AxYMSwLcRgNcHbHLjshksYw3z7U7o3VkxNa9RJ7EnwvrEXmrkCGF8kq5xMTMkaVVWdtxvwbnGQNDhBJcGS,\n",
       "  tpubDCBZYgsRn5TU4ntpt6ne9hMwYyHVV4NHyuumRPwgWNrTJ7CvHEiZ175Y9UfvKtgL271U54ABuuAbxmZ5X9gMT2g7SoETaxP3tG5LJogennJ],\n",
       " 'm': 2,\n",
       " 'n': 3,\n",
       " 'addr_type': 'p2wsh',\n",
       " 'testnet': True,\n",
       " 'segwit': True}"
      ]
     },
     "execution_count": 40,
     "metadata": {},
     "output_type": "execute_result"
    }
   ],
   "source": [
    "invite"
   ]
  },
  {
   "cell_type": "code",
   "execution_count": 41,
   "metadata": {},
   "outputs": [
    {
     "name": "stdout",
     "output_type": "stream",
     "text": [
      "accept_safe_wallet_invite: priv: tprv8frChWBq6kRWXXY23C4umUcuPmWZZPeGktdTTzoKfiZddhQXAe1j9WrbkrFhZnQ86my8oT5KSvLCev1WaC1BC6mGgqs7q6mSgeW6KZiXAqd; pubkey: {year_safe_acc.xtended_public_key}\n",
      "connection with database made.\n",
      "INSERT OR IGNORE INTO HDMWallet (name,master_pubkey_list,m,n,xpriv,addr_type,testnet,segwit,parent_name ,safe_index) \n",
      "VALUES(\"Corporate1_safe_wallet\",\"['tpubDCYEqvE5F87BQzZovqjWAtH1xo2ViiqBLCEEkWqd5zN2UBfHo2qKL1UTw1vawzyRffohXZn5tdgxGXJu1MzNHBfoByCm9YotHswF8uQ8qyq', 'tpubDDJvTw8uvAEBhJLHyVd2mpzb6AxYMSwLcRgNcHbHLjshksYw3z7U7o3VkxNa9RJ7EnwvrEXmrkCGF8kq5xMTMkaVVWdtxvwbnGQNDhBJcGS', 'tpubDCBZYgsRn5TU4ntpt6ne9hMwYyHVV4NHyuumRPwgWNrTJ7CvHEiZ175Y9UfvKtgL271U54ABuuAbxmZ5X9gMT2g7SoETaxP3tG5LJogennJ']\",2,3,\"tprv8frChWBq6kRWXXY23C4umUcuPmWZZPeGktdTTzoKfiZddhQXAe1j9WrbkrFhZnQ86my8oT5KSvLCev1WaC1BC6mGgqs7q6mSgeW6KZiXAqd\",\"p2wsh\",1,1,'None',-1) ;\n"
     ]
    }
   ],
   "source": [
    "corporate1_safe_master = corporate1.accept_corporate_safe_invite(invite,\"Corporate1_safe_wallet\")"
   ]
  },
  {
   "cell_type": "code",
   "execution_count": 42,
   "metadata": {},
   "outputs": [
    {
     "name": "stdout",
     "output_type": "stream",
     "text": [
      "accept_safe_wallet_invite: priv: tprv8gctKX6fmnYWoqJW5qxSNRLUX9ScC7kS385bKmYyvU5JvPJARbHswJRdaoPnzXgHdSo5GnQvMj6QFKmiYFGqwrU4aZSwPPPuJnrYNYgxvDj; pubkey: {year_safe_acc.xtended_public_key}\n",
      "connection with database made.\n",
      "INSERT OR IGNORE INTO HDMWallet (name,master_pubkey_list,m,n,xpriv,addr_type,testnet,segwit,parent_name ,safe_index) \n",
      "VALUES(\"Corporate2_safe_wallet\",\"['tpubDCYEqvE5F87BQzZovqjWAtH1xo2ViiqBLCEEkWqd5zN2UBfHo2qKL1UTw1vawzyRffohXZn5tdgxGXJu1MzNHBfoByCm9YotHswF8uQ8qyq', 'tpubDDJvTw8uvAEBhJLHyVd2mpzb6AxYMSwLcRgNcHbHLjshksYw3z7U7o3VkxNa9RJ7EnwvrEXmrkCGF8kq5xMTMkaVVWdtxvwbnGQNDhBJcGS', 'tpubDCBZYgsRn5TU4ntpt6ne9hMwYyHVV4NHyuumRPwgWNrTJ7CvHEiZ175Y9UfvKtgL271U54ABuuAbxmZ5X9gMT2g7SoETaxP3tG5LJogennJ']\",2,3,\"tprv8gctKX6fmnYWoqJW5qxSNRLUX9ScC7kS385bKmYyvU5JvPJARbHswJRdaoPnzXgHdSo5GnQvMj6QFKmiYFGqwrU4aZSwPPPuJnrYNYgxvDj\",\"p2wsh\",1,1,'None',-1) ;\n"
     ]
    }
   ],
   "source": [
    "corporate2_safe_master = corporate2.accept_corporate_safe_invite(invite,\"Corporate2_safe_wallet\")"
   ]
  },
  {
   "cell_type": "code",
   "execution_count": 43,
   "metadata": {},
   "outputs": [
    {
     "name": "stdout",
     "output_type": "stream",
     "text": [
      "connection with database made.\n",
      "INSERT OR IGNORE INTO HDMWallet (name,master_pubkey_list,m,n,xpriv,addr_type,testnet,segwit,parent_name ,safe_index) \n",
      "VALUES(\"2020_Corporate1_safe_wallet\",\"['tpubDFDEWUZ9ryeqPtMvRG5fhYYSntc5g14UW4QHx9dnndM8u7DCv2zvmMSsoNTPhLHjVvGcgLKgdzgb5E5xHnZn6wHSBENUW3JGmWq22z4LFtp', 'tpubDEP78B2RKZHgbWRxTrb5esRMAxderyoCEqvqyCXRS68bJDidDxCCmobm6Zf6smuUN2z2z1mb43JEiJFFUpAcVyR8CE3HRNDFAZnjCQScEwF', 'tpubDEaFyQfgCwFvSnJzZQUvN7hUejs4fa9itDdr2Ej3DTu28EnBtLes5cFZg1jk5bBgMbGSV7kwP3JQJJRRdVeXFirPuzEdyWue4HPjFcEd3rE']\",2,3,\"tprv8iXCN4WuibyAWRL8XcR5J8tLDs69WfsZvkoWfdbVNMYk4cxSHeBLarq1dF5Qo1iKDhfiDmfEHw4uNPJPj15NF1BLXjg6PSLJKbc7GCGyoZj\",\"p2wsh\",1,1,'Corporate1_safe_wallet',20) ;\n"
     ]
    }
   ],
   "source": [
    "this_year_safe_corporate1 = corporate1_safe_master.get_year_wallet()"
   ]
  },
  {
   "cell_type": "code",
   "execution_count": 44,
   "metadata": {},
   "outputs": [
    {
     "name": "stdout",
     "output_type": "stream",
     "text": [
      "connection with database made.\n",
      "INSERT OR IGNORE INTO HDMWallet (name,master_pubkey_list,m,n,xpriv,addr_type,testnet,segwit,parent_name ,safe_index) \n",
      "VALUES(\"2020_Corporate2_safe_wallet\",\"['tpubDFDEWUZ9ryeqPtMvRG5fhYYSntc5g14UW4QHx9dnndM8u7DCv2zvmMSsoNTPhLHjVvGcgLKgdzgb5E5xHnZn6wHSBENUW3JGmWq22z4LFtp', 'tpubDEP78B2RKZHgbWRxTrb5esRMAxderyoCEqvqyCXRS68bJDidDxCCmobm6Zf6smuUN2z2z1mb43JEiJFFUpAcVyR8CE3HRNDFAZnjCQScEwF', 'tpubDEaFyQfgCwFvSnJzZQUvN7hUejs4fa9itDdr2Ej3DTu28EnBtLes5cFZg1jk5bBgMbGSV7kwP3JQJJRRdVeXFirPuzEdyWue4HPjFcEd3rE']\",2,3,\"tprv8hh4ykzBBBc1i3QAaCvVFTmEbw7ihecHfYL4ggV81pLCTjTrbZNcbJytvRp9LcosVhUKWUCzSmoZh7mF3KyJaKy5NFyR2wgnRLpVsXhix7o\",\"p2wsh\",1,1,'Corporate2_safe_wallet',20) ;\n"
     ]
    }
   ],
   "source": [
    "this_year_safe_corporate2 = corporate2_safe_master.get_year_wallet()"
   ]
  },
  {
   "cell_type": "code",
   "execution_count": 45,
   "metadata": {},
   "outputs": [
    {
     "name": "stdout",
     "output_type": "stream",
     "text": [
      "connection with database made.\n",
      "Deposit address's Path: m/0/5\n",
      "public key 0 in list: tpubDFDEWUZ9ryeqPtMvRG5fhYYSntc5g14UW4QHx9dnndM8u7DCv2zvmMSsoNTPhLHjVvGcgLKgdzgb5E5xHnZn6wHSBENUW3JGmWq22z4LFtp\n",
      "public key 1 in list: tpubDEP78B2RKZHgbWRxTrb5esRMAxderyoCEqvqyCXRS68bJDidDxCCmobm6Zf6smuUN2z2z1mb43JEiJFFUpAcVyR8CE3HRNDFAZnjCQScEwF\n",
      "public key 2 in list: tpubDEaFyQfgCwFvSnJzZQUvN7hUejs4fa9itDdr2Ej3DTu28EnBtLes5cFZg1jk5bBgMbGSV7kwP3JQJJRRdVeXFirPuzEdyWue4HPjFcEd3rE\n",
      "connection with database made.\n",
      "INSERT OR IGNORE INTO Addresses (address, path, acc_index, change_addr, created, type, wallet, safe_index)\n",
      " VALUES(\"tb1qexedmz9lp7k3apt6yfz4g2zx908vc9husngk9l63mmns5l0l6jtqjpgtpr\", \"m/0/\", 5, 0, 1598589093, 5, \"2020_Corporate_wallet_master\", 20) ;\n"
     ]
    }
   ],
   "source": [
    "address = this_year_safe_master_wallet.create_receiving_address()"
   ]
  },
  {
   "cell_type": "code",
   "execution_count": 46,
   "metadata": {},
   "outputs": [
    {
     "name": "stdout",
     "output_type": "stream",
     "text": [
      "connection with database made.\n",
      "Deposit address's Path: m/0/0\n",
      "public key 0 in list: tpubDFDEWUZ9ryeqPtMvRG5fhYYSntc5g14UW4QHx9dnndM8u7DCv2zvmMSsoNTPhLHjVvGcgLKgdzgb5E5xHnZn6wHSBENUW3JGmWq22z4LFtp\n",
      "public key 1 in list: tpubDEP78B2RKZHgbWRxTrb5esRMAxderyoCEqvqyCXRS68bJDidDxCCmobm6Zf6smuUN2z2z1mb43JEiJFFUpAcVyR8CE3HRNDFAZnjCQScEwF\n",
      "public key 2 in list: tpubDEaFyQfgCwFvSnJzZQUvN7hUejs4fa9itDdr2Ej3DTu28EnBtLes5cFZg1jk5bBgMbGSV7kwP3JQJJRRdVeXFirPuzEdyWue4HPjFcEd3rE\n",
      "connection with database made.\n",
      "INSERT OR IGNORE INTO Addresses (address, path, acc_index, change_addr, created, type, wallet, safe_index)\n",
      " VALUES(\"tb1qs2ttef2l793njqx5eaa8evejc8vgr9nwjndrs9dat2n33mzea2tqedhsnx\", \"m/0/\", 0, 0, 1598589093, 5, \"2020_Corporate1_safe_wallet\", 20) ;\n"
     ]
    }
   ],
   "source": [
    "addresss = this_year_safe_corporate1.create_receiving_address()"
   ]
  },
  {
   "cell_type": "code",
   "execution_count": 47,
   "metadata": {},
   "outputs": [
    {
     "name": "stdout",
     "output_type": "stream",
     "text": [
      "connection with database made.\n",
      "Deposit address's Path: m/0/0\n",
      "public key 0 in list: tpubDFDEWUZ9ryeqPtMvRG5fhYYSntc5g14UW4QHx9dnndM8u7DCv2zvmMSsoNTPhLHjVvGcgLKgdzgb5E5xHnZn6wHSBENUW3JGmWq22z4LFtp\n",
      "public key 1 in list: tpubDEP78B2RKZHgbWRxTrb5esRMAxderyoCEqvqyCXRS68bJDidDxCCmobm6Zf6smuUN2z2z1mb43JEiJFFUpAcVyR8CE3HRNDFAZnjCQScEwF\n",
      "public key 2 in list: tpubDEaFyQfgCwFvSnJzZQUvN7hUejs4fa9itDdr2Ej3DTu28EnBtLes5cFZg1jk5bBgMbGSV7kwP3JQJJRRdVeXFirPuzEdyWue4HPjFcEd3rE\n",
      "connection with database made.\n",
      "INSERT OR IGNORE INTO Addresses (address, path, acc_index, change_addr, created, type, wallet, safe_index)\n",
      " VALUES(\"tb1qs2ttef2l793njqx5eaa8evejc8vgr9nwjndrs9dat2n33mzea2tqedhsnx\", \"m/0/\", 0, 0, 1598589094, 5, \"2020_Corporate2_safe_wallet\", 20) ;\n"
     ]
    }
   ],
   "source": [
    "addressss = this_year_safe_corporate2.create_receiving_address()"
   ]
  },
  {
   "cell_type": "code",
   "execution_count": 48,
   "metadata": {},
   "outputs": [
    {
     "name": "stdout",
     "output_type": "stream",
     "text": [
      "connection with database made.\n",
      "consulting blockchain for address ('tb1q8u9pzx94wr0cxu337tc7g8hz6tza72j7h6znsdk4j2jmxl3dpe0qgzkcj3',)\n",
      "res for ('tb1q8u9pzx94wr0cxu337tc7g8hz6tza72j7h6znsdk4j2jmxl3dpe0qgzkcj3',):\n",
      "{'address': 'tb1q8u9pzx94wr0cxu337tc7g8hz6tza72j7h6znsdk4j2jmxl3dpe0qgzkcj3', 'total_received': 0, 'total_sent': 0, 'balance': 0, 'unconfirmed_balance': 0, 'final_balance': 0, 'n_tx': 0, 'unconfirmed_n_tx': 0, 'final_n_tx': 0, 'tx_url': 'https://api.blockcypher.com/v1/btc/test3/txs/', 'txrefs': [], 'unconfirmed_txrefs': []}\n",
      "connection with database made.\n",
      "consulting blockchain for address ('tb1q8whhqx28gd4yamsve66slnfav7j2rnycuwwzy8k8g3ym6tvlsshstt3hfs',)\n",
      "res for ('tb1q8whhqx28gd4yamsve66slnfav7j2rnycuwwzy8k8g3ym6tvlsshstt3hfs',):\n",
      "{'address': 'tb1q8whhqx28gd4yamsve66slnfav7j2rnycuwwzy8k8g3ym6tvlsshstt3hfs', 'total_received': 0, 'total_sent': 0, 'balance': 0, 'unconfirmed_balance': 0, 'final_balance': 0, 'n_tx': 0, 'unconfirmed_n_tx': 0, 'final_n_tx': 0, 'tx_url': 'https://api.blockcypher.com/v1/btc/test3/txs/', 'txrefs': [], 'unconfirmed_txrefs': []}\n",
      "connection with database made.\n",
      "consulting blockchain for address ('tb1qexedmz9lp7k3apt6yfz4g2zx908vc9husngk9l63mmns5l0l6jtqjpgtpr',)\n",
      "res for ('tb1qexedmz9lp7k3apt6yfz4g2zx908vc9husngk9l63mmns5l0l6jtqjpgtpr',):\n",
      "{'address': 'tb1qexedmz9lp7k3apt6yfz4g2zx908vc9husngk9l63mmns5l0l6jtqjpgtpr', 'total_received': 0, 'total_sent': 0, 'balance': 0, 'unconfirmed_balance': 0, 'final_balance': 0, 'n_tx': 0, 'unconfirmed_n_tx': 0, 'final_n_tx': 0, 'tx_url': 'https://api.blockcypher.com/v1/btc/test3/txs/', 'txrefs': [], 'unconfirmed_txrefs': []}\n",
      "connection with database made.\n",
      "consulting blockchain for address ('tb1qgregw34jm3e7w94vfz6xsfmkx3hg873gylz770nu76vj3m8axpnser5l9x',)\n",
      "res for ('tb1qgregw34jm3e7w94vfz6xsfmkx3hg873gylz770nu76vj3m8axpnser5l9x',):\n",
      "{'address': 'tb1qgregw34jm3e7w94vfz6xsfmkx3hg873gylz770nu76vj3m8axpnser5l9x', 'total_received': 0, 'total_sent': 0, 'balance': 0, 'unconfirmed_balance': 0, 'final_balance': 0, 'n_tx': 0, 'unconfirmed_n_tx': 0, 'final_n_tx': 0, 'tx_url': 'https://api.blockcypher.com/v1/btc/test3/txs/', 'txrefs': [], 'unconfirmed_txrefs': []}\n",
      "connection with database made.\n",
      "consulting blockchain for address ('tb1qmejdnq7d77g4cflfgne6sjeq260etx2ygg38ear8c3d95t8yspgqt32ejj',)\n",
      "res for ('tb1qmejdnq7d77g4cflfgne6sjeq260etx2ygg38ear8c3d95t8yspgqt32ejj',):\n",
      "{'address': 'tb1qmejdnq7d77g4cflfgne6sjeq260etx2ygg38ear8c3d95t8yspgqt32ejj', 'total_received': 0, 'total_sent': 0, 'balance': 0, 'unconfirmed_balance': 0, 'final_balance': 0, 'n_tx': 0, 'unconfirmed_n_tx': 0, 'final_n_tx': 0, 'tx_url': 'https://api.blockcypher.com/v1/btc/test3/txs/', 'txrefs': [], 'unconfirmed_txrefs': []}\n",
      "connection with database made.\n",
      "consulting blockchain for address ('tb1qp3nqupu6avphl6rsucwx2pyaedzs0xnyfpvyz0ue8rp3n7tknw6qu0mdft',)\n",
      "res for ('tb1qp3nqupu6avphl6rsucwx2pyaedzs0xnyfpvyz0ue8rp3n7tknw6qu0mdft',):\n",
      "{'address': 'tb1qp3nqupu6avphl6rsucwx2pyaedzs0xnyfpvyz0ue8rp3n7tknw6qu0mdft', 'total_received': 0, 'total_sent': 0, 'balance': 0, 'unconfirmed_balance': 0, 'final_balance': 0, 'n_tx': 0, 'unconfirmed_n_tx': 0, 'final_n_tx': 0, 'tx_url': 'https://api.blockcypher.com/v1/btc/test3/txs/', 'txrefs': [], 'unconfirmed_txrefs': []}\n",
      "connection with database made.\n",
      "consulting blockchain for address ('tb1qq3tsyzzz2gem9ve6jajvj5qjla0cag8sgxtf0n6fy6j6ykkkm2xsu6dqxk',)\n",
      "res for ('tb1qq3tsyzzz2gem9ve6jajvj5qjla0cag8sgxtf0n6fy6j6ykkkm2xsu6dqxk',):\n",
      "{'address': 'tb1qq3tsyzzz2gem9ve6jajvj5qjla0cag8sgxtf0n6fy6j6ykkkm2xsu6dqxk', 'total_received': 0, 'total_sent': 0, 'balance': 0, 'unconfirmed_balance': 0, 'final_balance': 0, 'n_tx': 0, 'unconfirmed_n_tx': 0, 'final_n_tx': 0, 'tx_url': 'https://api.blockcypher.com/v1/btc/test3/txs/', 'txrefs': [], 'unconfirmed_txrefs': []}\n",
      "connection with database made.\n",
      "consulting blockchain for address ('tb1qre6ev7eurycqdk3cqyg22p6ljzczt9p7qpk3qgmgvt0wmh79mcsqmuypc3',)\n",
      "res for ('tb1qre6ev7eurycqdk3cqyg22p6ljzczt9p7qpk3qgmgvt0wmh79mcsqmuypc3',):\n",
      "{'address': 'tb1qre6ev7eurycqdk3cqyg22p6ljzczt9p7qpk3qgmgvt0wmh79mcsqmuypc3', 'total_received': 0, 'total_sent': 0, 'balance': 0, 'unconfirmed_balance': 0, 'final_balance': 0, 'n_tx': 0, 'unconfirmed_n_tx': 0, 'final_n_tx': 0, 'tx_url': 'https://api.blockcypher.com/v1/btc/test3/txs/', 'txrefs': [], 'unconfirmed_txrefs': []}\n",
      "connection with database made.\n",
      "consulting blockchain for address ('tb1qs2ttef2l793njqx5eaa8evejc8vgr9nwjndrs9dat2n33mzea2tqedhsnx',)\n",
      "res for ('tb1qs2ttef2l793njqx5eaa8evejc8vgr9nwjndrs9dat2n33mzea2tqedhsnx',):\n",
      "{'address': 'tb1qs2ttef2l793njqx5eaa8evejc8vgr9nwjndrs9dat2n33mzea2tqedhsnx', 'total_received': 0, 'total_sent': 0, 'balance': 0, 'unconfirmed_balance': 100000, 'final_balance': 100000, 'n_tx': 0, 'unconfirmed_n_tx': 1, 'final_n_tx': 1, 'unconfirmed_txrefs': [{'address': 'tb1qs2ttef2l793njqx5eaa8evejc8vgr9nwjndrs9dat2n33mzea2tqedhsnx', 'tx_hash': '127c852465639c19bda8cfd9a6786a30e00053e1bbc4fc9c9aaf623b32919b38', 'tx_input_n': -1, 'tx_output_n': 0, 'value': 100000, 'spent': False, 'received': datetime.datetime(2020, 8, 28, 4, 14, 39, 500755, tzinfo=tzutc()), 'confirmations': 0, 'double_spend': False, 'preference': 'high'}], 'tx_url': 'https://api.blockcypher.com/v1/btc/test3/txs/', 'txrefs': []}\n",
      "connection with database made.\n",
      "got unconfirmed transactions.\n",
      "SELECT * FROM Utxos WHERE  tx_id = '127c852465639c19bda8cfd9a6786a30e00053e1bbc4fc9c9aaf623b32919b38' AND out_index = 0\n",
      "result of looking_for coins: [('tb1qs2ttef2l793njqx5eaa8evejc8vgr9nwjndrs9dat2n33mzea2tqedhsnx', 100000, '127c852465639c19bda8cfd9a6786a30e00053e1bbc4fc9c9aaf623b32919b38', 0, 1598588145, 0, 0)]\n",
      "connection with database made.\n",
      "[('127c852465639c19bda8cfd9a6786a30e00053e1bbc4fc9c9aaf623b32919b38', 0, 100000, 'm/0/', 0, 'tb1qs2ttef2l793njqx5eaa8evejc8vgr9nwjndrs9dat2n33mzea2tqedhsnx', 5)]\n",
      "('127c852465639c19bda8cfd9a6786a30e00053e1bbc4fc9c9aaf623b32919b38', 0, 100000, 'm/0/', 0, 'tb1qs2ttef2l793njqx5eaa8evejc8vgr9nwjndrs9dat2n33mzea2tqedhsnx', 5)\n"
     ]
    },
    {
     "data": {
      "text/plain": [
       "100000"
      ]
     },
     "execution_count": 48,
     "metadata": {},
     "output_type": "execute_result"
    }
   ],
   "source": [
    "this_year_safe_master_wallet.update_balance()"
   ]
  },
  {
   "cell_type": "code",
   "execution_count": 49,
   "metadata": {},
   "outputs": [
    {
     "name": "stdout",
     "output_type": "stream",
     "text": [
      "From wallet.send(): [('mkHS9ne12qx9pS9VojpwU5xtRd4T7X7ZUt', 50000)]\n",
      "connection with database made.\n",
      "[('127c852465639c19bda8cfd9a6786a30e00053e1bbc4fc9c9aaf623b32919b38', 0, 100000, 'm/0/', 0, 'tb1qs2ttef2l793njqx5eaa8evejc8vgr9nwjndrs9dat2n33mzea2tqedhsnx', 5)]\n",
      "('127c852465639c19bda8cfd9a6786a30e00053e1bbc4fc9c9aaf623b32919b38', 0, 100000, 'm/0/', 0, 'tb1qs2ttef2l793njqx5eaa8evejc8vgr9nwjndrs9dat2n33mzea2tqedhsnx', 5)\n",
      "connection with database made.\n",
      "public key 0 in list: tpubDFDEWUZ9ryeqPtMvRG5fhYYSntc5g14UW4QHx9dnndM8u7DCv2zvmMSsoNTPhLHjVvGcgLKgdzgb5E5xHnZn6wHSBENUW3JGmWq22z4LFtp\n",
      "public key 1 in list: tpubDEP78B2RKZHgbWRxTrb5esRMAxderyoCEqvqyCXRS68bJDidDxCCmobm6Zf6smuUN2z2z1mb43JEiJFFUpAcVyR8CE3HRNDFAZnjCQScEwF\n",
      "public key 2 in list: tpubDEaFyQfgCwFvSnJzZQUvN7hUejs4fa9itDdr2Ej3DTu28EnBtLes5cFZg1jk5bBgMbGSV7kwP3JQJJRRdVeXFirPuzEdyWue4HPjFcEd3rE\n",
      "connection with database made.\n",
      "connection with database made.\n",
      "SELECT address, change_addr, path, acc_index  \n",
      "FROM Addresses WHERE\n",
      "NOT EXISTS(\n",
      "SELECT 1 \n",
      " FROM Utxos\n",
      "WHERE Utxos.address = Addresses.address) \n",
      "AND\n",
      " Addresses.wallet = '2020_Corporate_wallet_master';\n",
      "unused_addresses: [('tb1q8u9pzx94wr0cxu337tc7g8hz6tza72j7h6znsdk4j2jmxl3dpe0qgzkcj3', 0, 'm/0/', 3), ('tb1q8whhqx28gd4yamsve66slnfav7j2rnycuwwzy8k8g3ym6tvlsshstt3hfs', 0, 'm/0/', 1), ('tb1qexedmz9lp7k3apt6yfz4g2zx908vc9husngk9l63mmns5l0l6jtqjpgtpr', 0, 'm/0/', 5), ('tb1qgregw34jm3e7w94vfz6xsfmkx3hg873gylz770nu76vj3m8axpnser5l9x', 0, 'm/0/', 4), ('tb1qmejdnq7d77g4cflfgne6sjeq260etx2ygg38ear8c3d95t8yspgqt32ejj', 1, 'm/1/', 1), ('tb1qp3nqupu6avphl6rsucwx2pyaedzs0xnyfpvyz0ue8rp3n7tknw6qu0mdft', 0, 'm/0/', 2), ('tb1qq3tsyzzz2gem9ve6jajvj5qjla0cag8sgxtf0n6fy6j6ykkkm2xsu6dqxk', 1, 'm/1/', 0), ('tb1qre6ev7eurycqdk3cqyg22p6ljzczt9p7qpk3qgmgvt0wmh79mcsqmuypc3', 1, 'm/1/', 2)]\n",
      "connection with database made.\n",
      "Change address's Path: m/1/3\n",
      "public key 0 in list: tpubDFDEWUZ9ryeqPtMvRG5fhYYSntc5g14UW4QHx9dnndM8u7DCv2zvmMSsoNTPhLHjVvGcgLKgdzgb5E5xHnZn6wHSBENUW3JGmWq22z4LFtp\n",
      "public key 1 in list: tpubDEP78B2RKZHgbWRxTrb5esRMAxderyoCEqvqyCXRS68bJDidDxCCmobm6Zf6smuUN2z2z1mb43JEiJFFUpAcVyR8CE3HRNDFAZnjCQScEwF\n",
      "public key 2 in list: tpubDEaFyQfgCwFvSnJzZQUvN7hUejs4fa9itDdr2Ej3DTu28EnBtLes5cFZg1jk5bBgMbGSV7kwP3JQJJRRdVeXFirPuzEdyWue4HPjFcEd3rE\n",
      "connection with database made.\n",
      "INSERT OR IGNORE INTO Addresses (address, path, acc_index, change_addr, created, type, wallet, safe_index)\n",
      " VALUES(\"tb1qg6yq9uh29u6jtjw4004y48ds94a2h53txkjhjh6zzv7pr96tl4csw2tuks\", \"m/1/\", 3, 1, 1598589113, 5, \"2020_Corporate_wallet_master\", 20) ;\n",
      "trying P2WSH\n",
      "utxo_list: [('127c852465639c19bda8cfd9a6786a30e00053e1bbc4fc9c9aaf623b32919b38', 0, 100000, 'm/0/', 0, 'tb1qs2ttef2l793njqx5eaa8evejc8vgr9nwjndrs9dat2n33mzea2tqedhsnx', 5)]\n",
      "size of transaction without signatures: 269\n",
      "fee: 807\n",
      "change 49193\n",
      "total 100000, diff: 0\n",
      "Address trying to spend from: tb1qs2ttef2l793njqx5eaa8evejc8vgr9nwjndrs9dat2n33mzea2tqedhsnx, path m/0/0\n",
      "Deposit account index 0\n",
      "tb1qs2ttef2l793njqx5eaa8evejc8vgr9nwjndrs9dat2n33mzea2tqedhsnx\n",
      "cmds is empty. Creating new set of commands\n",
      "sign_input_multisig commands: [0, 0, b'0D\\x02 G\\x97Q\\xefT<L\\xc3\\xba[\\xf8x\\xad\\xdf#\\xedL\\xf1\\x88r\\xc6\\xc13g\\xd9\\xe0=\\x80\\xb8u_\\xe4\\x02 ~\\xa0[\\xf9j\\x0b\\x1bV\\x82r\\xc3t\\xcc\\xab*.P\\x99\\xd4\\xfc>\\xac\\xcc@\\xfe\\xd4i\\xf8\\x159\\xb0\\xf9\\x01', b'R!\\x03j\\xd2\\xc5x\\x02\\xf6\\xcb\\x90\\xc8\\xa3\\x92o\\xc0`X\\xb1u|\\x16\\x82\\xd8cu\\x02\\xd7\\xfb\\xfb\\x88g\\xad.\\n!\\x03\\xbf\\x16\\xbf\\x19\\xe3o\\x93\\xc4\\x97\\xff\\x7f\\xf72\\x92`i\\x07k(t\\x8b\\xe0\\xf7\\xa4%\\x82\\x16\\xa4\\xc7|\\x19\\xdc!\\x02\\x03\\xea\\x1c\\xff\\xab=\\xc4\\xa7W\\xc6\\r\\xc3VL\\xdcO\\xf0\\x05@\\xd0\\xc1\\xac\\x85\\xf2Z\\xcb\\x1a\\xd2c\\n\\xe8\\xd2S\\xae']\n",
      "segwit commands: [0, 0, b'0D\\x02 G\\x97Q\\xefT<L\\xc3\\xba[\\xf8x\\xad\\xdf#\\xedL\\xf1\\x88r\\xc6\\xc13g\\xd9\\xe0=\\x80\\xb8u_\\xe4\\x02 ~\\xa0[\\xf9j\\x0b\\x1bV\\x82r\\xc3t\\xcc\\xab*.P\\x99\\xd4\\xfc>\\xac\\xcc@\\xfe\\xd4i\\xf8\\x159\\xb0\\xf9\\x01', b'R!\\x03j\\xd2\\xc5x\\x02\\xf6\\xcb\\x90\\xc8\\xa3\\x92o\\xc0`X\\xb1u|\\x16\\x82\\xd8cu\\x02\\xd7\\xfb\\xfb\\x88g\\xad.\\n!\\x03\\xbf\\x16\\xbf\\x19\\xe3o\\x93\\xc4\\x97\\xff\\x7f\\xf72\\x92`i\\x07k(t\\x8b\\xe0\\xf7\\xa4%\\x82\\x16\\xa4\\xc7|\\x19\\xdc!\\x02\\x03\\xea\\x1c\\xff\\xab=\\xc4\\xa7W\\xc6\\r\\xc3VL\\xdcO\\xf0\\x05@\\xd0\\xc1\\xac\\x85\\xf2Z\\xcb\\x1a\\xd2c\\n\\xe8\\xd2S\\xae']\n",
      "There are only 1 signatures, but 2 are required.\n",
      "transaction not ready to broadcast\n"
     ]
    }
   ],
   "source": [
    "m = [(\"mkHS9ne12qx9pS9VojpwU5xtRd4T7X7ZUt\",50000)]\n",
    "response = this_year_safe_master_wallet.send(m)"
   ]
  },
  {
   "cell_type": "code",
   "execution_count": 50,
   "metadata": {},
   "outputs": [
    {
     "name": "stdout",
     "output_type": "stream",
     "text": [
      "connection with database made.\n",
      "SELECT Utxos.tx_id, Utxos.out_index, Utxos.amount, Addresses.path, Addresses.acc_index, Addresses.address,\n",
      " Addresses.type \n",
      "FROM Utxos INNER JOIN Addresses \n",
      "ON Utxos.address = Addresses.address\n",
      "WHERE Utxos.tx_id = '127c852465639c19bda8cfd9a6786a30e00053e1bbc4fc9c9aaf623b32919b38' AND Utxos.out_index = 0;\n",
      "[('127c852465639c19bda8cfd9a6786a30e00053e1bbc4fc9c9aaf623b32919b38', 0, 100000, 'm/0/', 0, 'tb1qs2ttef2l793njqx5eaa8evejc8vgr9nwjndrs9dat2n33mzea2tqedhsnx', 5)]\n",
      "public key 0 in list: tpubDFDEWUZ9ryeqPtMvRG5fhYYSntc5g14UW4QHx9dnndM8u7DCv2zvmMSsoNTPhLHjVvGcgLKgdzgb5E5xHnZn6wHSBENUW3JGmWq22z4LFtp\n",
      "public key 1 in list: tpubDEP78B2RKZHgbWRxTrb5esRMAxderyoCEqvqyCXRS68bJDidDxCCmobm6Zf6smuUN2z2z1mb43JEiJFFUpAcVyR8CE3HRNDFAZnjCQScEwF\n",
      "public key 2 in list: tpubDEaFyQfgCwFvSnJzZQUvN7hUejs4fa9itDdr2Ej3DTu28EnBtLes5cFZg1jk5bBgMbGSV7kwP3JQJJRRdVeXFirPuzEdyWue4HPjFcEd3rE\n",
      "Address trying to spend from: tb1qs2ttef2l793njqx5eaa8evejc8vgr9nwjndrs9dat2n33mzea2tqedhsnx, path m/0/0\n",
      "Deposit account index 0\n",
      "tb1qs2ttef2l793njqx5eaa8evejc8vgr9nwjndrs9dat2n33mzea2tqedhsnx\n",
      "sign_input_multisig commands: [b\"0D\\x02 \\x03\\xc1\\xa7\\r\\xb0u>\\x92\\x84\\xfaO\\xc4e\\x00\\xda\\xa6\\x9de\\xbe@\\xae\\x83p\\xc9\\x03\\xfbVg\\x08`\\x93\\xab\\x02 x\\x8d{YT\\xe6\\x84\\x91\\xc4\\xa3\\xd9'\\xfa\\xdd\\x19\\xcd\\x83LC\\x1d\\x88\\xf6|  u\\xc5\\xad\\x03R\\x8b,\\x01\", 0, b'0D\\x02 G\\x97Q\\xefT<L\\xc3\\xba[\\xf8x\\xad\\xdf#\\xedL\\xf1\\x88r\\xc6\\xc13g\\xd9\\xe0=\\x80\\xb8u_\\xe4\\x02 ~\\xa0[\\xf9j\\x0b\\x1bV\\x82r\\xc3t\\xcc\\xab*.P\\x99\\xd4\\xfc>\\xac\\xcc@\\xfe\\xd4i\\xf8\\x159\\xb0\\xf9\\x01', b'R!\\x03j\\xd2\\xc5x\\x02\\xf6\\xcb\\x90\\xc8\\xa3\\x92o\\xc0`X\\xb1u|\\x16\\x82\\xd8cu\\x02\\xd7\\xfb\\xfb\\x88g\\xad.\\n!\\x03\\xbf\\x16\\xbf\\x19\\xe3o\\x93\\xc4\\x97\\xff\\x7f\\xf72\\x92`i\\x07k(t\\x8b\\xe0\\xf7\\xa4%\\x82\\x16\\xa4\\xc7|\\x19\\xdc!\\x02\\x03\\xea\\x1c\\xff\\xab=\\xc4\\xa7W\\xc6\\r\\xc3VL\\xdcO\\xf0\\x05@\\xd0\\xc1\\xac\\x85\\xf2Z\\xcb\\x1a\\xd2c\\n\\xe8\\xd2S\\xae']\n",
      "segwit commands: [b\"0D\\x02 \\x03\\xc1\\xa7\\r\\xb0u>\\x92\\x84\\xfaO\\xc4e\\x00\\xda\\xa6\\x9de\\xbe@\\xae\\x83p\\xc9\\x03\\xfbVg\\x08`\\x93\\xab\\x02 x\\x8d{YT\\xe6\\x84\\x91\\xc4\\xa3\\xd9'\\xfa\\xdd\\x19\\xcd\\x83LC\\x1d\\x88\\xf6|  u\\xc5\\xad\\x03R\\x8b,\\x01\", 0, b'0D\\x02 G\\x97Q\\xefT<L\\xc3\\xba[\\xf8x\\xad\\xdf#\\xedL\\xf1\\x88r\\xc6\\xc13g\\xd9\\xe0=\\x80\\xb8u_\\xe4\\x02 ~\\xa0[\\xf9j\\x0b\\x1bV\\x82r\\xc3t\\xcc\\xab*.P\\x99\\xd4\\xfc>\\xac\\xcc@\\xfe\\xd4i\\xf8\\x159\\xb0\\xf9\\x01', b'R!\\x03j\\xd2\\xc5x\\x02\\xf6\\xcb\\x90\\xc8\\xa3\\x92o\\xc0`X\\xb1u|\\x16\\x82\\xd8cu\\x02\\xd7\\xfb\\xfb\\x88g\\xad.\\n!\\x03\\xbf\\x16\\xbf\\x19\\xe3o\\x93\\xc4\\x97\\xff\\x7f\\xf72\\x92`i\\x07k(t\\x8b\\xe0\\xf7\\xa4%\\x82\\x16\\xa4\\xc7|\\x19\\xdc!\\x02\\x03\\xea\\x1c\\xff\\xab=\\xc4\\xa7W\\xc6\\r\\xc3VL\\xdcO\\xf0\\x05@\\xd0\\xc1\\xac\\x85\\xf2Z\\xcb\\x1a\\xd2c\\n\\xe8\\xd2S\\xae']\n",
      "script_pubkey of tx IN: OP_0 8296bca55ff1633900d4cf7a7cb332c1d881966e94da3815bd5aa718ec59ea96\n",
      "\n",
      "combined script[0, b'\\x82\\x96\\xbc\\xa5_\\xf1c9\\x00\\xd4\\xcfz|\\xb32\\xc1\\xd8\\x81\\x96n\\x94\\xda8\\x15\\xbdZ\\xa7\\x18\\xecY\\xea\\x96']\n",
      "\n",
      "TRANSACTION READY!\n",
      "Run serialize().hex() to get the raw transaction.\n",
      "connection with database made.\n",
      "SELECT key FROM Keys\n",
      "WHERE name ='BLOCKCYPHER_API_KEY' ;\n",
      "TRANSACTION ID: bda4d6507ff268d75ce79cc70b53e9451f657acc4bd918a276577fffbc70d554\n",
      "connection with database made.\n",
      "connection with database made.\n",
      "SELECT key FROM Keys\n",
      "WHERE name ='BLOCKCYPHER_API_KEY' ;\n",
      "counter 0; confirmation 0 for tx bda4d6507ff268d75ce79cc70b53e9451f657acc4bd918a276577fffbc70d554 at 2020-08-27 23:32:50.231637\n",
      "counter 1; confirmation 0 for tx bda4d6507ff268d75ce79cc70b53e9451f657acc4bd918a276577fffbc70d554 at 2020-08-27 23:34:20.510319\n",
      "counter 2; confirmation 0 for tx bda4d6507ff268d75ce79cc70b53e9451f657acc4bd918a276577fffbc70d554 at 2020-08-27 23:35:50.825866\n",
      "counter 3; confirmation 0 for tx bda4d6507ff268d75ce79cc70b53e9451f657acc4bd918a276577fffbc70d554 at 2020-08-27 23:38:51.195702\n",
      "counter 4; confirmation 0 for tx bda4d6507ff268d75ce79cc70b53e9451f657acc4bd918a276577fffbc70d554 at 2020-08-27 23:43:21.386040\n",
      "counter 5; confirmation 0 for tx bda4d6507ff268d75ce79cc70b53e9451f657acc4bd918a276577fffbc70d554 at 2020-08-27 23:47:51.564448\n",
      "counter 6; confirmation 0 for tx bda4d6507ff268d75ce79cc70b53e9451f657acc4bd918a276577fffbc70d554 at 2020-08-27 23:53:51.897359\n"
     ]
    }
   ],
   "source": [
    "tx = this_year_safe_corporate1.sign_received_tx(response[0])"
   ]
  },
  {
   "cell_type": "code",
   "execution_count": 58,
   "metadata": {},
   "outputs": [],
   "source": [
    "he = int.from_bytes(b\"222d2deda24c03b2cc2b458c35780c62b6b5603c088709f17607b7ecf1399e4d7\",\"big\")"
   ]
  },
  {
   "cell_type": "code",
   "execution_count": 59,
   "metadata": {},
   "outputs": [
    {
     "data": {
      "text/plain": [
       "int"
      ]
     },
     "execution_count": 59,
     "metadata": {},
     "output_type": "execute_result"
    }
   ],
   "source": [
    "type(he)"
   ]
  },
  {
   "cell_type": "code",
   "execution_count": 62,
   "metadata": {},
   "outputs": [
    {
     "data": {
      "text/plain": [
       "b'\\x00222d2deda24c03b2cc2b458c35780c62b6b5603c088709f17607b7ecf1399e4d7'"
      ]
     },
     "execution_count": 62,
     "metadata": {},
     "output_type": "execute_result"
    }
   ],
   "source": [
    "he.to_bytes(66,\"big\")"
   ]
  },
  {
   "cell_type": "code",
   "execution_count": 31,
   "metadata": {},
   "outputs": [],
   "source": [
    "a = [{\"a\":1},{\"B\":2},{\"cd\":4}]\n",
    "b = [list(x.keys())[0] for x in a]"
   ]
  },
  {
   "cell_type": "code",
   "execution_count": 32,
   "metadata": {},
   "outputs": [
    {
     "data": {
      "text/plain": [
       "['a', 'B', 'cd']"
      ]
     },
     "execution_count": 32,
     "metadata": {},
     "output_type": "execute_result"
    }
   ],
   "source": [
    "b"
   ]
  },
  {
   "cell_type": "code",
   "execution_count": 33,
   "metadata": {},
   "outputs": [],
   "source": [
    "c = [x for x in b if x.startswith(\"c\")]"
   ]
  },
  {
   "cell_type": "code",
   "execution_count": 35,
   "metadata": {},
   "outputs": [
    {
     "data": {
      "text/plain": [
       "['cd']"
      ]
     },
     "execution_count": 35,
     "metadata": {},
     "output_type": "execute_result"
    }
   ],
   "source": [
    "c"
   ]
  },
  {
   "cell_type": "code",
   "execution_count": 7,
   "metadata": {},
   "outputs": [
    {
     "data": {
      "text/plain": [
       "'a B'"
      ]
     },
     "execution_count": 7,
     "metadata": {},
     "output_type": "execute_result"
    }
   ],
   "source": [
    "\" \".join(b[:2])"
   ]
  },
  {
   "cell_type": "code",
   "execution_count": 36,
   "metadata": {},
   "outputs": [],
   "source": [
    "a = [{\"a\":{\"B\":2,\"cd\":4}}]"
   ]
  },
  {
   "cell_type": "code",
   "execution_count": 37,
   "metadata": {},
   "outputs": [
    {
     "data": {
      "text/plain": [
       "[{'a': {'B': 2, 'cd': 4}}]"
      ]
     },
     "execution_count": 37,
     "metadata": {},
     "output_type": "execute_result"
    }
   ],
   "source": [
    "a"
   ]
  },
  {
   "cell_type": "code",
   "execution_count": 50,
   "metadata": {},
   "outputs": [
    {
     "data": {
      "text/plain": [
       "{'B': 119, 'cd': 4, 'e': 9}"
      ]
     },
     "execution_count": 50,
     "metadata": {},
     "output_type": "execute_result"
    }
   ],
   "source": [
    "z=a[0][\"a\"]\n",
    "z"
   ]
  },
  {
   "cell_type": "code",
   "execution_count": 51,
   "metadata": {},
   "outputs": [
    {
     "name": "stdout",
     "output_type": "stream",
     "text": [
      "119\n",
      "4\n",
      "9\n"
     ]
    }
   ],
   "source": [
    "for key in z:\n",
    "    print(z[key])"
   ]
  },
  {
   "cell_type": "code",
   "execution_count": 41,
   "metadata": {},
   "outputs": [
    {
     "data": {
      "text/plain": [
       "[{'a': {'B': 119, 'cd': 4, 'e': 9}}]"
      ]
     },
     "execution_count": 41,
     "metadata": {},
     "output_type": "execute_result"
    }
   ],
   "source": [
    "a"
   ]
  },
  {
   "cell_type": "code",
   "execution_count": 108,
   "metadata": {},
   "outputs": [
    {
     "name": "stdout",
     "output_type": "stream",
     "text": [
      "8418572761394767459444418608530371567217744336876557229650655736270882421023962287566834689847418048023007033142570964655978481626857402470209587761075589\n",
      "6018716354834777059445516500463325153454936853151215624488541646839939367247233986759821493097378851875115552924255831805062990606698886137563075847103799\n",
      "4162409734528611111756301033770563963875662849627349706423163651536961341908306279907529065775660129270783374619650014334270481880624029028566693881161579\n",
      "6909639706114781673414903746617077396660679925789934783580039639894650562409120041882686723903187546059433358926004652243464850825988704126919377509722019\n",
      "9677066697512560492143972752022598285123803888462171670387143205574154293603133214186864151036559633064051743887438640912994313261160774593012036646074285\n"
     ]
    }
   ],
   "source": [
    "words = \"engine over neglect science fatigue dawn axis parent mind man escape era goose border invest slab relax bind desert hurry useless lonely frozen morning\"\n",
    "manager1 = ManagerWallet.recover_from_words(words, 256, \"RobertPauslon\",True)\n",
    "\n",
    "words = \"client sudden sunset borrow pupil rely sand girl prefer movie bachelor guilt giraffe glove much strong dizzy switch ill silent goddess crumble goat power\"\n",
    "manager2 = ManagerWallet.recover_from_words(words,entropy=256,passphrase=\"RobertPaulson\",testnet=True)\n",
    "\n",
    "words = \"aware pond potato mechanic market glue title addict chapter theory silly book\"\n",
    "manager3 = ManagerWallet.recover_from_words(words, 128, \"\",True)\n",
    "\n",
    "words = \"dry opera level brass sentence hamster spare beyond ethics floor gloom valid\"\n",
    "manager4 = CorporateSuperWallet.recover_from_words(words,entropy=128,passphrase=\"\",testnet=True)\n",
    "\n",
    "words = \"ocean engage among slab laugh carry siege place meadow picnic huge refuse\"\n",
    "manager5 = CorporateSuperWallet.recover_from_words(words, 128, \"\",True)\n",
    "\n"
   ]
  },
  {
   "cell_type": "code",
   "execution_count": 67,
   "metadata": {},
   "outputs": [
    {
     "name": "stdout",
     "output_type": "stream",
     "text": [
      "Copy these words for future recovery:\n",
      "b'aware pond potato mechanic market glue title addict chapter theory silly book'\n",
      "4162409734528611111756301033770563963875662849627349706423163651536961341908306279907529065775660129270783374619650014334270481880624029028566693881161579\n"
     ]
    }
   ],
   "source": [
    "#manager3 = ManagerWallet.generate_random(testnet=True)"
   ]
  },
  {
   "cell_type": "code",
   "execution_count": 68,
   "metadata": {},
   "outputs": [
    {
     "name": "stdout",
     "output_type": "stream",
     "text": [
      "Copy these words for future recovery:\n",
      "b'dry opera level brass sentence hamster spare beyond ethics floor gloom valid'\n",
      "6909639706114781673414903746617077396660679925789934783580039639894650562409120041882686723903187546059433358926004652243464850825988704126919377509722019\n"
     ]
    }
   ],
   "source": [
    "#manager4 = CorporateSuperWallet.generate_random(testnet=True)"
   ]
  },
  {
   "cell_type": "code",
   "execution_count": 69,
   "metadata": {},
   "outputs": [
    {
     "name": "stdout",
     "output_type": "stream",
     "text": [
      "Copy these words for future recovery:\n",
      "b'ocean engage among slab laugh carry siege place meadow picnic huge refuse'\n",
      "9677066697512560492143972752022598285123803888462171670387143205574154293603133214186864151036559633064051743887438640912994313261160774593012036646074285\n"
     ]
    }
   ],
   "source": [
    "#manager5 = CorporateSuperWallet.generate_random(testnet=True)"
   ]
  },
  {
   "cell_type": "code",
   "execution_count": 83,
   "metadata": {},
   "outputs": [
    {
     "name": "stdout",
     "output_type": "stream",
     "text": [
      "tpubD6NzVbkrYhZ4YsLLdYumHCp4fTyvvopGGP4uUvt8pkG5itXwubeeNbsjpmpBmHNZ2d3bKbXK7EPwUFZrpTU4Fb6GMuYGpr7Gweqvvg2UHuF \n",
      " tpubD6NzVbkrYhZ4X2kKaAoh2fM3CuJyyDq3QaZNx78crQtQZNWme8kvzes6xriBHyE4CJ5uPHRWb6wzbKotkEPL5aFHexmPBZ94P3PSYyKwLWj \n",
      " tpubD6NzVbkrYhZ4XTEtSoGcjUMRpvazsGSubezgBquk3SLGv6SzPoLiP6wKhgKdxM4mRxBE69ouh7sDnQWkyXCvGLsk59TPD9qbSwnn6eHGU1f \n",
      " tpubD6NzVbkrYhZ4XNeSC1uJBoCYWrYk1FJLJjLyR5UujHij2UhtEqXqqfB6AvNCygoawR6MddXmAdbks43NFvivxXbjQmtVtZKAuqAC1p2pWAb \n",
      " tpubD6NzVbkrYhZ4XnZYCe4vKN6MyNT1bWRtHZn3ChoCqSj5W8FHuSvYP8ZdscjZb96DVNQPcChoDMC5ZrTirtfRrTnjrV1ZQFA35pe3DepMrBD\n"
     ]
    }
   ],
   "source": [
    "print(manager1.xtended_public_key,\"\\n\",manager2.xtended_public_key,\"\\n\",manager3.xtended_public_key,\"\\n\",\\\n",
    "     manager4.xtended_public_key,\"\\n\",manager5.xtended_public_key)\n"
   ]
  },
  {
   "cell_type": "code",
   "execution_count": 85,
   "metadata": {},
   "outputs": [
    {
     "name": "stdout",
     "output_type": "stream",
     "text": [
      "b'\\x03\\xfb\\xb2\\x9f(\\xe2:\\x8d\\x07\\xf0X68\\xfa\\x89\\xe8e\\xba\\xd0-\\xd1yk\\xfae\\xad\\x95\\xa5\\x17v*\\xc2\\xca' \n",
      " b\"\\x02\\x17n\\x0c\\xfd\\x84]'\\xce\\x83)\\x1fC\\x1d\\xda3s\\x8f\\xcf \\x96\\xa6\\xf3\\xf7\\xc4\\xab\\xde\\xb3p\\x08\\xed\\xe6}\" \n",
      " b'\\x02\\x81\\xf8\\xdf;r\\x17\\x1f\\xf1\\xe2_\\xef\\xe2\\x98\\xba\\xa2X\\xac\\xf6\\xe7[/\\xca\\xads\\x1b\\x8d\\x12D\\xc8\\xf7\\x1aJ' \n",
      " b'\\x02\\x1bP\\xbbp\\x89\\xe5\\xa2Q\\x12\\x1cp\\x19\\x03\\xcd+\\xc6Oa\\xc7\\x1a#\\xaf\\xcf$G\\xa4\\xed\\x8bY\\xa1\\x14+' \n",
      " b'\\x03@\\xb5e\\x00\\xfbN\\xe7\\x02\\xa5\\xa3\\xa1K\\x1c\\xf4\\x13$;r)\\xb7\\xe8\\xa3\\x02~\\xf2|Q\\xf6\\x0cF\\xa8\\xb4'\n"
     ]
    }
   ],
   "source": [
    "\"\"\"\n",
    "tpubD6NzVbkrYhZ4YsLLdYumHCp4fTyvvopGGP4uUvt8pkG5itXwubeeNbsjpmpBmHNZ2d3bKbXK7EPwUFZrpTU4Fb6GMuYGpr7Gweqvvg2UHuF \n",
    " tpubD6NzVbkrYhZ4X2kKaAoh2fM3CuJyyDq3QaZNx78crQtQZNWme8kvzes6xriBHyE4CJ5uPHRWb6wzbKotkEPL5aFHexmPBZ94P3PSYyKwLWj \n",
    " tpubD6NzVbkrYhZ4XTEtSoGcjUMRpvazsGSubezgBquk3SLGv6SzPoLiP6wKhgKdxM4mRxBE69ouh7sDnQWkyXCvGLsk59TPD9qbSwnn6eHGU1f \n",
    " tpubD6NzVbkrYhZ4XNeSC1uJBoCYWrYk1FJLJjLyR5UujHij2UhtEqXqqfB6AvNCygoawR6MddXmAdbks43NFvivxXbjQmtVtZKAuqAC1p2pWAb \n",
    " tpubD6NzVbkrYhZ4XnZYCe4vKN6MyNT1bWRtHZn3ChoCqSj5W8FHuSvYP8ZdscjZb96DVNQPcChoDMC5ZrTirtfRrTnjrV1ZQFA35pe3DepMrBD\n",
    "\"\"\"\n",
    "\n",
    "print(manager1.get_daily_safe_pubkey(),\"\\n\",manager2.get_daily_safe_pubkey(),\"\\n\",manager3.get_daily_safe_pubkey(),\"\\n\",\\\n",
    "     manager4.get_daily_safe_pubkey(),\"\\n\",manager5.get_daily_safe_pubkey())"
   ]
  },
  {
   "cell_type": "code",
   "execution_count": 86,
   "metadata": {},
   "outputs": [
    {
     "name": "stdout",
     "output_type": "stream",
     "text": [
      "461222389963770672910023206337944803706847222730930779040024025202330161562314 \n",
      " 242181816824935352779949905339585673702570459364503992825384375679130606102141 \n",
      " 290372254706026096153481489592931453085780088683353495329679236536122868177482 \n",
      " 243939266812165980563239760114596239186104406092581261489726331066308569928747 \n",
      " 376644786442849392304182314585976636972636060283971456632342867625859504056500\n"
     ]
    }
   ],
   "source": [
    "print(int.from_bytes(manager1.get_daily_safe_pubkey(),\"big\"),\n",
    "      \"\\n\",int.from_bytes(manager2.get_daily_safe_pubkey(),\"big\"),\n",
    "      \"\\n\",int.from_bytes(manager3.get_daily_safe_pubkey(),\"big\"),\n",
    "      \"\\n\",int.from_bytes(manager4.get_daily_safe_pubkey(),\"big\"),\n",
    "      \"\\n\",int.from_bytes(manager5.get_daily_safe_pubkey(),\"big\")\n",
    "     )"
   ]
  },
  {
   "cell_type": "code",
   "execution_count": 89,
   "metadata": {},
   "outputs": [
    {
     "name": "stdout",
     "output_type": "stream",
     "text": [
      "b'\\x03\\xfb\\xb2\\x9f(\\xe2:\\x8d\\x07\\xf0X68\\xfa\\x89\\xe8e\\xba\\xd0-\\xd1yk\\xfae\\xad\\x95\\xa5\\x17v*\\xc2\\xca'\n"
     ]
    }
   ],
   "source": [
    "t = 461222389963770672910023206337944803706847222730930779040024025202330161562314\n",
    "print(t.to_bytes(33,\"big\"))\n",
    "SHDSafeWallet"
   ]
  },
  {
   "cell_type": "code",
   "execution_count": 88,
   "metadata": {},
   "outputs": [
    {
     "data": {
      "text/plain": [
       "\"b'\\\\x03\\\\xfb\\\\xb2\\\\x9f(\\\\xe2:\\\\x8d\\\\x07\\\\xf0X68\\\\xfa\\\\x89\\\\xe8e\\\\xba\\\\xd0-\\\\xd1yk\\\\xfae\\\\xad\\\\x95\\\\xa5\\\\x17v*\\\\xc2\\\\xca'\""
      ]
     },
     "execution_count": 88,
     "metadata": {},
     "output_type": "execute_result"
    }
   ],
   "source": [
    "t"
   ]
  },
  {
   "cell_type": "code",
   "execution_count": 90,
   "metadata": {},
   "outputs": [
    {
     "data": {
      "text/plain": [
       "2222"
      ]
     },
     "execution_count": 90,
     "metadata": {},
     "output_type": "execute_result"
    }
   ],
   "source": [
    "c= int(\"2222\")\n",
    "c"
   ]
  },
  {
   "cell_type": "code",
   "execution_count": 91,
   "metadata": {},
   "outputs": [],
   "source": [
    "this_week = datetime.datetime.now().isocalendar()"
   ]
  },
  {
   "cell_type": "code",
   "execution_count": 92,
   "metadata": {},
   "outputs": [
    {
     "data": {
      "text/plain": [
       "(2020, 46, 7)"
      ]
     },
     "execution_count": 92,
     "metadata": {},
     "output_type": "execute_result"
    }
   ],
   "source": [
    "this_week"
   ]
  },
  {
   "cell_type": "code",
   "execution_count": 93,
   "metadata": {},
   "outputs": [
    {
     "data": {
      "text/plain": [
       "2046"
      ]
     },
     "execution_count": 93,
     "metadata": {},
     "output_type": "execute_result"
    }
   ],
   "source": [
    "this_week = datetime.datetime.now().isocalendar()\n",
    "index_string = str(this_week[0])[2:]+str(this_week[1])\n",
    "index = int(index_string)\n",
    "index"
   ]
  },
  {
   "cell_type": "code",
   "execution_count": 95,
   "metadata": {},
   "outputs": [
    {
     "data": {
      "text/plain": [
       "'Jan'"
      ]
     },
     "execution_count": 95,
     "metadata": {},
     "output_type": "execute_result"
    }
   ],
   "source": [
    "import calendar\n",
    "calendar.month_abbr[1]"
   ]
  },
  {
   "cell_type": "code",
   "execution_count": 96,
   "metadata": {},
   "outputs": [
    {
     "name": "stdout",
     "output_type": "stream",
     "text": [
      "True\n"
     ]
    }
   ],
   "source": [
    "a= \"ab\"\n",
    "b=\"abc do\"\n",
    "print(a in b)"
   ]
  },
  {
   "cell_type": "code",
   "execution_count": 109,
   "metadata": {},
   "outputs": [],
   "source": [
    "invite ={'public_key_list': [b\"\\x02\\x17n\\x0c\\xfd\\x84]'\\xce\\x83)\\x1fC\\x1d\\xda3s\\x8f\\xcf \\x96\\xa6\\xf3\\xf7\\xc4\\xab\\xde\\xb3p\\x08\\xed\\xe6}\", b'\\x02\\x1bP\\xbbp\\x89\\xe5\\xa2Q\\x12\\x1cp\\x19\\x03\\xcd+\\xc6Oa\\xc7\\x1a#\\xaf\\xcf$G\\xa4\\xed\\x8bY\\xa1\\x14+', b'\\x02\\x81\\xf8\\xdf;r\\x17\\x1f\\xf1\\xe2_\\xef\\xe2\\x98\\xba\\xa2X\\xac\\xf6\\xe7[/\\xca\\xads\\x1b\\x8d\\x12D\\xc8\\xf7\\x1aJ', b'\\x03@\\xb5e\\x00\\xfbN\\xe7\\x02\\xa5\\xa3\\xa1K\\x1c\\xf4\\x13$;r)\\xb7\\xe8\\xa3\\x02~\\xf2|Q\\xf6\\x0cF\\xa8\\xb4'], 'm': 2, 'n': 5, 'addr_type': 'p2wsh', 'master_pubkey': \"tpubDDPhf39HYJ34itcntagMVucwfUzvf6npJHGBMBuDaoUjyEeVFgvzgi8FbuQnRdMzMDd81kiqs7zcsGQRFC3B75QQQbVbtUM5cqnr7gWuqdf\", 'testnet': 1, 'segwit': 1}"
   ]
  },
  {
   "cell_type": "code",
   "execution_count": 110,
   "metadata": {},
   "outputs": [
    {
     "data": {
      "text/plain": [
       "{'public_key_list': [b\"\\x02\\x17n\\x0c\\xfd\\x84]'\\xce\\x83)\\x1fC\\x1d\\xda3s\\x8f\\xcf \\x96\\xa6\\xf3\\xf7\\xc4\\xab\\xde\\xb3p\\x08\\xed\\xe6}\",\n",
       "  b'\\x02\\x1bP\\xbbp\\x89\\xe5\\xa2Q\\x12\\x1cp\\x19\\x03\\xcd+\\xc6Oa\\xc7\\x1a#\\xaf\\xcf$G\\xa4\\xed\\x8bY\\xa1\\x14+',\n",
       "  b'\\x02\\x81\\xf8\\xdf;r\\x17\\x1f\\xf1\\xe2_\\xef\\xe2\\x98\\xba\\xa2X\\xac\\xf6\\xe7[/\\xca\\xads\\x1b\\x8d\\x12D\\xc8\\xf7\\x1aJ',\n",
       "  b'\\x03@\\xb5e\\x00\\xfbN\\xe7\\x02\\xa5\\xa3\\xa1K\\x1c\\xf4\\x13$;r)\\xb7\\xe8\\xa3\\x02~\\xf2|Q\\xf6\\x0cF\\xa8\\xb4'],\n",
       " 'm': 2,\n",
       " 'n': 5,\n",
       " 'addr_type': 'p2wsh',\n",
       " 'master_pubkey': 'tpubDDPhf39HYJ34itcntagMVucwfUzvf6npJHGBMBuDaoUjyEeVFgvzgi8FbuQnRdMzMDd81kiqs7zcsGQRFC3B75QQQbVbtUM5cqnr7gWuqdf',\n",
       " 'testnet': 1,\n",
       " 'segwit': 1}"
      ]
     },
     "execution_count": 110,
     "metadata": {},
     "output_type": "execute_result"
    }
   ],
   "source": [
    "invite"
   ]
  },
  {
   "cell_type": "code",
   "execution_count": 111,
   "metadata": {},
   "outputs": [
    {
     "name": "stdout",
     "output_type": "stream",
     "text": [
      "b\"\\xfe\\x8e\\xa2X\\xe1\\xe0\\x9b\\xef\\xd2s\\x1f;\\xd5\\xf3g\\x88\\xfd\\x97\\x13C/\\xe3H\\xdf\\xb8E\\xcc[$H\\x1f'\"\n",
      "connection with database made.\n",
      "INSERT OR IGNORE INTO SHDSafeWallet (name,public_key_list,m,n,privkey,xpriv,xpub,addr_type,testnet,segwit,parent_name ,safe_index) \n",
      "VALUES(\"test_store_safe_manager2\",\"[242181816824935352779949905339585673702570459364503992825384375679130606102141, 243939266812165980563239760114596239186104406092581261489726331066308569928747, 290372254706026096153481489592931453085780088683353495329679236536122868177482, 376644786442849392304182314585976636972636060283971456632342867625859504056500]\",2,5,\"115139476302519344463634772255798084337463636322414000002775671153459500424999\",\"None\",\"tpubDDPhf39HYJ34itcntagMVucwfUzvf6npJHGBMBuDaoUjyEeVFgvzgi8FbuQnRdMzMDd81kiqs7zcsGQRFC3B75QQQbVbtUM5cqnr7gWuqdf\",\"p2wsh\",1,1,'None',-1) ;\n",
      "self: SHDSafeWallet xpub:tpubDDPhf39HYJ34itcntagMVucwfUzvf6npJHGBMBuDaoUjyEeVFgvzgi8FbuQnRdMzMDd81kiqs7zcsGQRFC3B75QQQbVbtUM5cqnr7gWuqdf, pubkeys: [b\"\\x02\\x17n\\x0c\\xfd\\x84]'\\xce\\x83)\\x1fC\\x1d\\xda3s\\x8f\\xcf \\x96\\xa6\\xf3\\xf7\\xc4\\xab\\xde\\xb3p\\x08\\xed\\xe6}\", b'\\x02\\x1bP\\xbbp\\x89\\xe5\\xa2Q\\x12\\x1cp\\x19\\x03\\xcd+\\xc6Oa\\xc7\\x1a#\\xaf\\xcf$G\\xa4\\xed\\x8bY\\xa1\\x14+', b'\\x02\\x81\\xf8\\xdf;r\\x17\\x1f\\xf1\\xe2_\\xef\\xe2\\x98\\xba\\xa2X\\xac\\xf6\\xe7[/\\xca\\xads\\x1b\\x8d\\x12D\\xc8\\xf7\\x1aJ', b'\\x03@\\xb5e\\x00\\xfbN\\xe7\\x02\\xa5\\xa3\\xa1K\\x1c\\xf4\\x13$;r)\\xb7\\xe8\\xa3\\x02~\\xf2|Q\\xf6\\x0cF\\xa8\\xb4']\n"
     ]
    }
   ],
   "source": [
    "manager2_safe_wallet = manager2.accept_invite(invite,\"test_store_safe_manager2\")"
   ]
  },
  {
   "cell_type": "code",
   "execution_count": 112,
   "metadata": {},
   "outputs": [],
   "source": [
    "invite  = {'public_key_list': [b\"\\x02\\x17n\\x0c\\xfd\\x84]'\\xce\\x83)\\x1fC\\x1d\\xda3s\\x8f\\xcf \\x96\\xa6\\xf3\\xf7\\xc4\\xab\\xde\\xb3p\\x08\\xed\\xe6}\", b'\\x02\\x1bP\\xbbp\\x89\\xe5\\xa2Q\\x12\\x1cp\\x19\\x03\\xcd+\\xc6Oa\\xc7\\x1a#\\xaf\\xcf$G\\xa4\\xed\\x8bY\\xa1\\x14+', b'\\x02\\x81\\xf8\\xdf;r\\x17\\x1f\\xf1\\xe2_\\xef\\xe2\\x98\\xba\\xa2X\\xac\\xf6\\xe7[/\\xca\\xads\\x1b\\x8d\\x12D\\xc8\\xf7\\x1aJ', b'\\x03@\\xb5e\\x00\\xfbN\\xe7\\x02\\xa5\\xa3\\xa1K\\x1c\\xf4\\x13$;r)\\xb7\\xe8\\xa3\\x02~\\xf2|Q\\xf6\\x0cF\\xa8\\xb4'], 'm': 2, 'n': 5, 'addr_type': 'p2wsh', 'master_pubkey': \"tpubDDPhf39HYJ34itcntagMVucwfUzvf6npJHGBMBuDaoUjyEeVFgvzgi8FbuQnRdMzMDd81kiqs7zcsGQRFC3B75QQQbVbtUM5cqnr7gWuqdf\", 'testnet': 1, 'segwit': 1}"
   ]
  },
  {
   "cell_type": "code",
   "execution_count": 113,
   "metadata": {},
   "outputs": [
    {
     "data": {
      "text/plain": [
       "{'public_key_list': [b\"\\x02\\x17n\\x0c\\xfd\\x84]'\\xce\\x83)\\x1fC\\x1d\\xda3s\\x8f\\xcf \\x96\\xa6\\xf3\\xf7\\xc4\\xab\\xde\\xb3p\\x08\\xed\\xe6}\",\n",
       "  b'\\x02\\x1bP\\xbbp\\x89\\xe5\\xa2Q\\x12\\x1cp\\x19\\x03\\xcd+\\xc6Oa\\xc7\\x1a#\\xaf\\xcf$G\\xa4\\xed\\x8bY\\xa1\\x14+',\n",
       "  b'\\x02\\x81\\xf8\\xdf;r\\x17\\x1f\\xf1\\xe2_\\xef\\xe2\\x98\\xba\\xa2X\\xac\\xf6\\xe7[/\\xca\\xads\\x1b\\x8d\\x12D\\xc8\\xf7\\x1aJ',\n",
       "  b'\\x03@\\xb5e\\x00\\xfbN\\xe7\\x02\\xa5\\xa3\\xa1K\\x1c\\xf4\\x13$;r)\\xb7\\xe8\\xa3\\x02~\\xf2|Q\\xf6\\x0cF\\xa8\\xb4'],\n",
       " 'm': 2,\n",
       " 'n': 5,\n",
       " 'addr_type': 'p2wsh',\n",
       " 'master_pubkey': 'tpubDDPhf39HYJ34itcntagMVucwfUzvf6npJHGBMBuDaoUjyEeVFgvzgi8FbuQnRdMzMDd81kiqs7zcsGQRFC3B75QQQbVbtUM5cqnr7gWuqdf',\n",
       " 'testnet': 1,\n",
       " 'segwit': 1}"
      ]
     },
     "execution_count": 113,
     "metadata": {},
     "output_type": "execute_result"
    }
   ],
   "source": [
    "invite"
   ]
  },
  {
   "cell_type": "code",
   "execution_count": 159,
   "metadata": {},
   "outputs": [
    {
     "data": {
      "text/plain": [
       "{'a': False, 'b': False, 'c': False, 'd': False, 'e': False, 'f': None}"
      ]
     },
     "execution_count": 159,
     "metadata": {},
     "output_type": "execute_result"
    }
   ],
   "source": [
    "consigners_reply = {'a': None, 'b': None, 'c': None, 'd': None, 'e': None, 'f': None}\n",
    "\n",
    "consigners_reply[\"a\"]=False\n",
    "consigners_reply[\"b\"]=False\n",
    "consigners_reply[\"c\"]=False\n",
    "consigners_reply[\"d\"]=False\n",
    "consigners_reply[\"e\"]=False\n",
    "consigners_reply"
   ]
  },
  {
   "cell_type": "code",
   "execution_count": 160,
   "metadata": {},
   "outputs": [
    {
     "name": "stdout",
     "output_type": "stream",
     "text": [
      "False\n",
      "False\n",
      "False\n",
      "False\n",
      "False\n",
      "declined: True because the amount of declines are 5 and there are 6 participants\n"
     ]
    }
   ],
   "source": [
    "declined = False\n",
    "declines = 0\n",
    "m=2\n",
    "n=6\n",
    "for cosigner in consigners_reply:\n",
    "    reply = consigners_reply[cosigner]\n",
    "    print(reply)\n",
    "    if not reply and isinstance(reply,bool):\n",
    "        declines+=1\n",
    "        if declines > n - m:\n",
    "            declined =  True\n",
    "            break\n",
    "            \n",
    "print(f\"declined: {declined} because the amount of declines are {declines} and there are {n} participants\")"
   ]
  },
  {
   "cell_type": "code",
   "execution_count": 158,
   "metadata": {},
   "outputs": [
    {
     "data": {
      "text/plain": [
       "False"
      ]
     },
     "execution_count": 158,
     "metadata": {},
     "output_type": "execute_result"
    }
   ],
   "source": [
    "bool(0)"
   ]
  },
  {
   "cell_type": "code",
   "execution_count": 1,
   "metadata": {},
   "outputs": [],
   "source": [
    "from corporate_wallets import CorporateSuperWallet, ManagerWallet, SHDSafeWallet"
   ]
  },
  {
   "cell_type": "code",
   "execution_count": 2,
   "metadata": {},
   "outputs": [
    {
     "name": "stdout",
     "output_type": "stream",
     "text": [
      "6018716354834777059445516500463325153454936853151215624488541646839939367247233986759821493097378851875115552924255831805062990606698886137563075847103799\n"
     ]
    }
   ],
   "source": [
    "words = \"client sudden sunset borrow pupil rely sand girl prefer movie bachelor guilt giraffe glove much strong dizzy switch ill silent goddess crumble goat power\"\n",
    "manager2 = ManagerWallet.recover_from_words(words,entropy=256,passphrase=\"RobertPaulson\",testnet=True)"
   ]
  },
  {
   "cell_type": "code",
   "execution_count": 3,
   "metadata": {},
   "outputs": [],
   "source": [
    "invite = {'public_key_list': [b\"\\x02\\x17n\\x0c\\xfd\\x84]'\\xce\\x83)\\x1fC\\x1d\\xda3s\\x8f\\xcf \\x96\\xa6\\xf3\\xf7\\xc4\\xab\\xde\\xb3p\\x08\\xed\\xe6}\", b'\\x02\\x1bP\\xbbp\\x89\\xe5\\xa2Q\\x12\\x1cp\\x19\\x03\\xcd+\\xc6Oa\\xc7\\x1a#\\xaf\\xcf$G\\xa4\\xed\\x8bY\\xa1\\x14+'], 'm': 2, 'n': 3, 'addr_type': 'p2wsh', 'master_pubkey': \"tpubDDPhf39HYJ34itcntagMVucwfUzvf6npJHGBMBuDaoUjyEeVFgvzgi8FbuQnRdMzMDd81kiqs7zcsGQRFC3B75QQQbVbtUM5cqnr7gWuqdf\", 'testnet': 1, 'segwit': 1, 'level1pubkeys': [b'\\x02\\x1bP\\xbbp\\x89\\xe5\\xa2Q\\x12\\x1cp\\x19\\x03\\xcd+\\xc6Oa\\xc7\\x1a#\\xaf\\xcf$G\\xa4\\xed\\x8bY\\xa1\\x14+']}\n"
   ]
  },
  {
   "cell_type": "code",
   "execution_count": 4,
   "metadata": {},
   "outputs": [
    {
     "name": "stdout",
     "output_type": "stream",
     "text": [
      "connection with database made.\n",
      "INSERT OR IGNORE INTO SHDSafeWallet         (name,public_key_list,m,n,privkey,xpriv,xpub,addr_type,testnet,segwit,parent_name ,safe_index, level1pubkeys) \n",
      "VALUES(\"Buenos Aires Manager2v3\",\"[242181816824935352779949905339585673702570459364503992825384375679130606102141, 243939266812165980563239760114596239186104406092581261489726331066308569928747]\",2,3,\"115139476302519344463634772255798084337463636322414000002775671153459500424999\",\"None\",\"tpubDDPhf39HYJ34itcntagMVucwfUzvf6npJHGBMBuDaoUjyEeVFgvzgi8FbuQnRdMzMDd81kiqs7zcsGQRFC3B75QQQbVbtUM5cqnr7gWuqdf\",'p2wsh',1,1,'None',-1, '[243939266812165980563239760114596239186104406092581261489726331066308569928747]' ) ;\n",
      "self: SHDSafeWallet xpub:tpubDDPhf39HYJ34itcntagMVucwfUzvf6npJHGBMBuDaoUjyEeVFgvzgi8FbuQnRdMzMDd81kiqs7zcsGQRFC3B75QQQbVbtUM5cqnr7gWuqdf, pubkeys: [b\"\\x02\\x17n\\x0c\\xfd\\x84]'\\xce\\x83)\\x1fC\\x1d\\xda3s\\x8f\\xcf \\x96\\xa6\\xf3\\xf7\\xc4\\xab\\xde\\xb3p\\x08\\xed\\xe6}\", b'\\x02\\x1bP\\xbbp\\x89\\xe5\\xa2Q\\x12\\x1cp\\x19\\x03\\xcd+\\xc6Oa\\xc7\\x1a#\\xaf\\xcf$G\\xa4\\xed\\x8bY\\xa1\\x14+']\n"
     ]
    }
   ],
   "source": [
    "store_safev2 = manager2.accept_invite(invite, \"Buenos Aires Manager2v3\")"
   ]
  },
  {
   "cell_type": "code",
   "execution_count": 7,
   "metadata": {},
   "outputs": [
    {
     "name": "stdout",
     "output_type": "stream",
     "text": [
      "prefix Nov24-of-20\n",
      "connection with database made.\n",
      "INSERT OR IGNORE INTO SHDSafeWallet         (name,public_key_list,m,n,privkey,xpriv,xpub,addr_type,testnet,segwit,parent_name ,safe_index, level1pubkeys) \n",
      "VALUES(\"Nov24-of-20_Buenos Aires Manager2v2\",\"[242181816824935352779949905339585673702570459364503992825384375679130606102141, 243939266812165980563239760114596239186104406092581261489726331066308569928747]\",2,3,\"115139476302519344463634772255798084337463636322414000002775671153459500424999\",\"None\",\"tpubDF5r1amiE2pqGWuMuKZfj7EK3sP7hYqgBqr6xx6tpDLw4x5EYYMQpsGgeoJCErrSpQYAGipEBCtpFJW7KHBeFaRZoSA3QAotgvs1Mc3VEbS\",'p2wsh',1,1,'Buenos Aires Manager2v2',201124, 'None' ) ;\n",
      "self: SHDSafeWallet xpub:tpubDF5r1amiE2pqGWuMuKZfj7EK3sP7hYqgBqr6xx6tpDLw4x5EYYMQpsGgeoJCErrSpQYAGipEBCtpFJW7KHBeFaRZoSA3QAotgvs1Mc3VEbS, pubkeys: [b\"\\x02\\x17n\\x0c\\xfd\\x84]'\\xce\\x83)\\x1fC\\x1d\\xda3s\\x8f\\xcf \\x96\\xa6\\xf3\\xf7\\xc4\\xab\\xde\\xb3p\\x08\\xed\\xe6}\", b'\\x02\\x1bP\\xbbp\\x89\\xe5\\xa2Q\\x12\\x1cp\\x19\\x03\\xcd+\\xc6Oa\\xc7\\x1a#\\xaf\\xcf$G\\xa4\\xed\\x8bY\\xa1\\x14+']\n",
      "connection with database made.\n",
      "tx tx: c607c08a7aac67ae930416b93cdb7c62062758276f4e051f823a4892cdbac9a9\n",
      "version: 1\n",
      "tx_ins:\n",
      "57922e786a57119273e13d641837dab1339b8995a55bf380e6585dc098c44d50:0\n",
      "tx_outs:\n",
      "77777:OP_0 a9da521259fbab8ee1738d6fa2932b9bac77bd30667841729e72741c4c112546\n",
      "921352:OP_0 b331dd40d33b36c6ea281f31ecfde87b4a627caec1101cc14add0f0de47047af\n",
      "locktime: 0\n",
      "tx_ins [57922e786a57119273e13d641837dab1339b8995a55bf380e6585dc098c44d50:0]\n",
      "connection with database made.\n",
      "SELECT Utxos.tx_id, Utxos.out_index, Utxos.amount, Addresses.path, Addresses.acc_index, Addresses.address,\n",
      " Addresses.type \n",
      "FROM Utxos INNER JOIN Addresses \n",
      "ON Utxos.address = Addresses.address\n",
      "WHERE Utxos.tx_id = '57922e786a57119273e13d641837dab1339b8995a55bf380e6585dc098c44d50' AND Utxos.out_index = 0;\n",
      "[('57922e786a57119273e13d641837dab1339b8995a55bf380e6585dc098c44d50', 0, 999990, 'm/0/', 0, 'tb1q8kh9np5g72jnz8fenqdy8y7ayprsnafd34k5x8kdsqzvf2zfz8qq7mp9n5', 5)]\n",
      "ini shm account _privkey: <ecc.PrivateKey object at 0x7f906fe5c490>\n",
      "Address trying to spend from: tb1q8kh9np5g72jnz8fenqdy8y7ayprsnafd34k5x8kdsqzvf2zfz8qq7mp9n5, path m/0/0\n",
      "Deposit account index 0\n",
      "tb1qx9efp7sat7yjx5jqhawufpv3kyuewru36fh3txky6f5dwvc90mrq26zgrj\n",
      "sign_input_multisig commands: [b'0D\\x02 \\x1f\\xd2\\x98|\\xc5\\xf0KDe\\xd4q9\\xea\\xcb\\xfc\\xcc@K\\x17\\xd5Y\\xb9\\xb4/\\xa4LP\\x1be\\x9d\\xde\\xe0\\x02 t\\x14\\x94\\x12\\xdc\\xab\\xd1\\r,\\xe2 Fhsk\\x9d\\x16\\\\\\x06pa[\\x7f\\xa3\\xc3\\x91\\x03\\x0c\\xbb\\xfd[\\x1a\\x01', b\"0D\\x02 ;%0\\x81\\xb3\\xb2,\\xf0\\x182a\\x10\\xd4\\x05\\xb5\\xef-\\x9d\\x198\\xcdr\\xa7\\x88\\xc6\\x8d9g\\xad\\x89\\x05^\\x02 F\\x86\\x80C\\x18<\\xf0\\xeb\\x8d\\xdf\\xf9\\xed\\x9fj'\\xad\\x01qG\\xea\\xd5\\xd6\\xc8,\\x0c\\xd4\\x83\\x91\\x8eK\\xa7\\xf5\\x01\", b'R!\\x02\\x17n\\x0c\\xfd\\x84]\\'\\xce\\x83)\\x1fC\\x1d\\xda3s\\x8f\\xcf \\x96\\xa6\\xf3\\xf7\\xc4\\xab\\xde\\xb3p\\x08\\xed\\xe6}!\\x03lT0MH\"\\x81\\x0f\\xa9\\xe8\\x8d-\\xdf\\xdb\\x0f_/\\x9e\\x93\\xfc>;`Ym\\xb8\\xbb)6Sf\\x1fR\\xae']\n",
      "segwit commands: [b'0D\\x02 \\x1f\\xd2\\x98|\\xc5\\xf0KDe\\xd4q9\\xea\\xcb\\xfc\\xcc@K\\x17\\xd5Y\\xb9\\xb4/\\xa4LP\\x1be\\x9d\\xde\\xe0\\x02 t\\x14\\x94\\x12\\xdc\\xab\\xd1\\r,\\xe2 Fhsk\\x9d\\x16\\\\\\x06pa[\\x7f\\xa3\\xc3\\x91\\x03\\x0c\\xbb\\xfd[\\x1a\\x01', b\"0D\\x02 ;%0\\x81\\xb3\\xb2,\\xf0\\x182a\\x10\\xd4\\x05\\xb5\\xef-\\x9d\\x198\\xcdr\\xa7\\x88\\xc6\\x8d9g\\xad\\x89\\x05^\\x02 F\\x86\\x80C\\x18<\\xf0\\xeb\\x8d\\xdf\\xf9\\xed\\x9fj'\\xad\\x01qG\\xea\\xd5\\xd6\\xc8,\\x0c\\xd4\\x83\\x91\\x8eK\\xa7\\xf5\\x01\", b'R!\\x02\\x17n\\x0c\\xfd\\x84]\\'\\xce\\x83)\\x1fC\\x1d\\xda3s\\x8f\\xcf \\x96\\xa6\\xf3\\xf7\\xc4\\xab\\xde\\xb3p\\x08\\xed\\xe6}!\\x03lT0MH\"\\x81\\x0f\\xa9\\xe8\\x8d-\\xdf\\xdb\\x0f_/\\x9e\\x93\\xfc>;`Ym\\xb8\\xbb)6Sf\\x1fR\\xae']\n",
      "script_pubkey of tx IN: OP_0 3dae598688f2a5311d39981a4393dd204709f52d8d6d431ecd8004c4a84911c0\n",
      "\n",
      "combined script[0, b'=\\xaeY\\x86\\x88\\xf2\\xa51\\x1d9\\x98\\x1aC\\x93\\xdd G\\t\\xf5-\\x8dmC\\x1e\\xcd\\x80\\x04\\xc4\\xa8I\\x11\\xc0']\n",
      "\n",
      "TRANSACTION READY!\n",
      "Run serialize().hex() to get the raw transaction.\n",
      "connection with database made.\n",
      "SELECT key FROM Keys\n",
      "WHERE name ='BLOCKCYPHER_API_KEY' ;\n",
      "TRANSACTION ID: c607c08a7aac67ae930416b93cdb7c62062758276f4e051f823a4892cdbac9a9\n",
      "connection with database made.\n",
      "connection with database made.\n",
      "SELECT key FROM Keys\n",
      "WHERE name ='BLOCKCYPHER_API_KEY' ;\n",
      "Transaction didn't get broadcasted.\n",
      "connection with database made.\n",
      "WARINING: UTXO CONFLICT!\n",
      "tx_id: c607c08a7aac67ae930416b93cdb7c62062758276f4e051f823a4892cdbac9a9\n"
     ]
    },
    {
     "name": "stderr",
     "output_type": "stream",
     "text": [
      "Exception in thread Thread-4:\n",
      "Traceback (most recent call last):\n",
      "  File \"/Users/oscareduardosernarosero/anaconda3/lib/python3.7/threading.py\", line 926, in _bootstrap_inner\n",
      "    self.run()\n",
      "  File \"/Users/oscareduardosernarosero/anaconda3/lib/python3.7/threading.py\", line 870, in run\n",
      "    self._target(*self._args, **self._kwargs)\n",
      "  File \"/Users/oscareduardosernarosero/Documents/US/Rice_U/blockchain/bitcoin/basics/final/wallet.py\", line 114, in confirm_tx_sent\n",
      "    self.db.delete_tx(tx)\n",
      "  File \"/Users/oscareduardosernarosero/Documents/US/Rice_U/blockchain/bitcoin/basics/final/wallet_database_sqlite3.py\", line 329, in delete_tx\n",
      "    raise Exception(\"Utxos are still saved as spent even though they have attempted to be set as not spent.\")\n",
      "Exception: Utxos are still saved as spent even though they have attempted to be set as not spent.\n",
      "\n"
     ]
    }
   ],
   "source": [
    "nov_24_safe = store_safev2.get_daily_safe_wallet(201124)\n",
    "res = nov_24_safe.open_partial_tx(\"c607c08a7aac67ae930416b93cdb7c62062758276f4e051f823a4892cdbac9a9\")"
   ]
  },
  {
   "cell_type": "markdown",
   "metadata": {},
   "source": [
    "# Transaction from Daily-Safe Wallet GUI!\n",
    "\n",
    "695e082bf8bafe95fc2e722edb44b4fcf8c3ba4ebad6c2ff40ec5431bce8e42b\n",
    "\n",
    "8084da65d7c8f53ec110e02e874caabc1c3823c673179ac8e5e3d1329be52541\n"
   ]
  },
  {
   "cell_type": "code",
   "execution_count": 6,
   "metadata": {},
   "outputs": [
    {
     "data": {
      "text/plain": [
       "'01000000000101cce517291ed060c568f5a097db5b51b9a674c204275418efb3ca8bf01132716c0000000000ffffffff026a040100000000002200205ae31f55a2d06e4810746f9f41f5f496ecee2965a085c8122ab57858e3afe0d2d97e000000000000220020b331dd40d33b36c6ea281f31ecfde87b4a627caec1101cc14add0f0de47047af0300483045022100dee7a8772c472de754eeae45be117c6c06f278ef2cbbcfd951eb7bd30c97662402204a7034ae3ad67947dde45c1b68520b75d623ee514072f7ae01188fc0d5df72350147522102176e0cfd845d27ce83291f431dda33738fcf2096a6f3f7c4abdeb37008ede67d21036c54304d4822810fa9e88d2ddfdb0f5f2f9e93fc3e3b60596db8bb293653661f52ae00000000'"
      ]
     },
     "execution_count": 6,
     "metadata": {},
     "output_type": "execute_result"
    }
   ],
   "source": [
    "\"01000000000101cce517291ed060c568f5a097db5b51b9a674c204275418efb3ca8bf01132716c0000000000ffffffff026a040100000000002200205ae31f55a2d06e4810746f9f41f5f496ecee2965a085c8122ab57858e3afe0d2d97e000000000000220020b331dd40d33b36c6ea281f31ecfde87b4a627caec1101cc14add0f0de47047af0300483045022100dee7a8772c472de754eeae45be117c6c06f278ef2cbbcfd951eb7bd30c97662402204a7034ae3ad67947dde45c1b68520b75d623ee514072f7ae01188fc0d5df72350147522102176e0cfd845d27ce83291f431dda33738fcf2096a6f3f7c4abdeb37008ede67d21036c54304d4822810fa9e88d2ddfdb0f5f2f9e93fc3e3b60596db8bb293653661f52ae00000000\""
   ]
  },
  {
   "cell_type": "code",
   "execution_count": 6,
   "metadata": {},
   "outputs": [],
   "source": [
    "week_47_safe = store_safev2.get_weekly_safe_wallet(2047)"
   ]
  },
  {
   "cell_type": "code",
   "execution_count": 7,
   "metadata": {},
   "outputs": [
    {
     "name": "stdout",
     "output_type": "stream",
     "text": [
      "connection with database made.\n",
      "tx tx: c607c08a7aac67ae930416b93cdb7c62062758276f4e051f823a4892cdbac9a9\n",
      "version: 1\n",
      "tx_ins:\n",
      "57922e786a57119273e13d641837dab1339b8995a55bf380e6585dc098c44d50:0\n",
      "tx_outs:\n",
      "77777:OP_0 a9da521259fbab8ee1738d6fa2932b9bac77bd30667841729e72741c4c112546\n",
      "921352:OP_0 b331dd40d33b36c6ea281f31ecfde87b4a627caec1101cc14add0f0de47047af\n",
      "locktime: 0\n",
      "tx_ins [57922e786a57119273e13d641837dab1339b8995a55bf380e6585dc098c44d50:0]\n",
      "connection with database made.\n",
      "SELECT Utxos.tx_id, Utxos.out_index, Utxos.amount, Addresses.path, Addresses.acc_index, Addresses.address,\n",
      " Addresses.type \n",
      "FROM Utxos INNER JOIN Addresses \n",
      "ON Utxos.address = Addresses.address\n",
      "WHERE Utxos.tx_id = '57922e786a57119273e13d641837dab1339b8995a55bf380e6585dc098c44d50' AND Utxos.out_index = 0;\n",
      "[('57922e786a57119273e13d641837dab1339b8995a55bf380e6585dc098c44d50', 0, 999990, 'm/0/', 0, 'tb1q8kh9np5g72jnz8fenqdy8y7ayprsnafd34k5x8kdsqzvf2zfz8qq7mp9n5', 5)]\n",
      "ini shm account _privkey: <ecc.PrivateKey object at 0x7fa286632550>\n",
      "Address trying to spend from: tb1q8kh9np5g72jnz8fenqdy8y7ayprsnafd34k5x8kdsqzvf2zfz8qq7mp9n5, path m/0/0\n",
      "Deposit account index 0\n",
      "tb1q8kh9np5g72jnz8fenqdy8y7ayprsnafd34k5x8kdsqzvf2zfz8qq7mp9n5\n",
      "sign_input_multisig commands: [b'0E\\x02!\\x00\\x8c\\x1b%\\x92\\x97\\xd2\\xd0>lh\\xd6>?:\\xd4\\xf7|:\\xde,\\x80\\x07\\x19\\xe0\"s\\xc3!\\n\\xe0\\xb7q\\x02 J\\xa8\\xb3\\xbb\\x86\\x9a\\xb4\\xba\\x17e\\xc3\\xb8uB\\x1e\\xe72P\\x84\\x9a\\xce!\\xc6\\xee\\xa2;\\x9f\\x92N\\x8b%\\x0b\\x01', b\"0D\\x02 ;%0\\x81\\xb3\\xb2,\\xf0\\x182a\\x10\\xd4\\x05\\xb5\\xef-\\x9d\\x198\\xcdr\\xa7\\x88\\xc6\\x8d9g\\xad\\x89\\x05^\\x02 F\\x86\\x80C\\x18<\\xf0\\xeb\\x8d\\xdf\\xf9\\xed\\x9fj'\\xad\\x01qG\\xea\\xd5\\xd6\\xc8,\\x0c\\xd4\\x83\\x91\\x8eK\\xa7\\xf5\\x01\", b'R!\\x02\\x17n\\x0c\\xfd\\x84]\\'\\xce\\x83)\\x1fC\\x1d\\xda3s\\x8f\\xcf \\x96\\xa6\\xf3\\xf7\\xc4\\xab\\xde\\xb3p\\x08\\xed\\xe6}!\\x03lT0MH\"\\x81\\x0f\\xa9\\xe8\\x8d-\\xdf\\xdb\\x0f_/\\x9e\\x93\\xfc>;`Ym\\xb8\\xbb)6Sf\\x1fR\\xae']\n",
      "segwit commands: [b'0E\\x02!\\x00\\x8c\\x1b%\\x92\\x97\\xd2\\xd0>lh\\xd6>?:\\xd4\\xf7|:\\xde,\\x80\\x07\\x19\\xe0\"s\\xc3!\\n\\xe0\\xb7q\\x02 J\\xa8\\xb3\\xbb\\x86\\x9a\\xb4\\xba\\x17e\\xc3\\xb8uB\\x1e\\xe72P\\x84\\x9a\\xce!\\xc6\\xee\\xa2;\\x9f\\x92N\\x8b%\\x0b\\x01', b\"0D\\x02 ;%0\\x81\\xb3\\xb2,\\xf0\\x182a\\x10\\xd4\\x05\\xb5\\xef-\\x9d\\x198\\xcdr\\xa7\\x88\\xc6\\x8d9g\\xad\\x89\\x05^\\x02 F\\x86\\x80C\\x18<\\xf0\\xeb\\x8d\\xdf\\xf9\\xed\\x9fj'\\xad\\x01qG\\xea\\xd5\\xd6\\xc8,\\x0c\\xd4\\x83\\x91\\x8eK\\xa7\\xf5\\x01\", b'R!\\x02\\x17n\\x0c\\xfd\\x84]\\'\\xce\\x83)\\x1fC\\x1d\\xda3s\\x8f\\xcf \\x96\\xa6\\xf3\\xf7\\xc4\\xab\\xde\\xb3p\\x08\\xed\\xe6}!\\x03lT0MH\"\\x81\\x0f\\xa9\\xe8\\x8d-\\xdf\\xdb\\x0f_/\\x9e\\x93\\xfc>;`Ym\\xb8\\xbb)6Sf\\x1fR\\xae']\n",
      "script_pubkey of tx IN: OP_0 3dae598688f2a5311d39981a4393dd204709f52d8d6d431ecd8004c4a84911c0\n",
      "\n",
      "combined script[0, b'=\\xaeY\\x86\\x88\\xf2\\xa51\\x1d9\\x98\\x1aC\\x93\\xdd G\\t\\xf5-\\x8dmC\\x1e\\xcd\\x80\\x04\\xc4\\xa8I\\x11\\xc0']\n",
      "\n",
      "TRANSACTION READY!\n",
      "Run serialize().hex() to get the raw transaction.\n",
      "connection with database made.\n",
      "SELECT key FROM Keys\n",
      "WHERE name ='BLOCKCYPHER_API_KEY' ;\n",
      "TRANSACTION ID: c607c08a7aac67ae930416b93cdb7c62062758276f4e051f823a4892cdbac9a9\n",
      "connection with database made.\n",
      "UNIQUE constraint failed: Transactions.tx_id\n",
      "UNIQUE constraint failed: Tx_Ins.tx_id, Tx_Ins.out_index, Tx_Ins.spent_by\n",
      "UNIQUE constraint failed: Tx_Outs.created_by, Tx_Outs.out_index\n",
      "UNIQUE constraint failed: Tx_Outs.created_by, Tx_Outs.out_index\n",
      "connection with database made.\n",
      "SELECT key FROM Keys\n",
      "WHERE name ='BLOCKCYPHER_API_KEY' ;\n",
      "counter 0; confirmation 0 for tx c607c08a7aac67ae930416b93cdb7c62062758276f4e051f823a4892cdbac9a9 at 2020-11-25 16:33:25.763984\n",
      "counter 1; confirmation 0 for tx c607c08a7aac67ae930416b93cdb7c62062758276f4e051f823a4892cdbac9a9 at 2020-11-25 16:34:55.994760\n",
      "counter 2; confirmation 0 for tx c607c08a7aac67ae930416b93cdb7c62062758276f4e051f823a4892cdbac9a9 at 2020-11-25 16:36:26.386488\n",
      "counter 3; confirmation 0 for tx c607c08a7aac67ae930416b93cdb7c62062758276f4e051f823a4892cdbac9a9 at 2020-11-25 16:39:26.772070\n",
      "counter 4; confirmation 0 for tx c607c08a7aac67ae930416b93cdb7c62062758276f4e051f823a4892cdbac9a9 at 2020-11-25 16:43:57.152085\n",
      "got 1 confirmation. Now in state 1 c607c08a7aac67ae930416b93cdb7c62062758276f4e051f823a4892cdbac9a9\n",
      "sleeping time: 544\n",
      "counter 5; confirmation 1 for tx c607c08a7aac67ae930416b93cdb7c62062758276f4e051f823a4892cdbac9a9 at 2020-11-25 16:48:27.469493\n"
     ]
    }
   ],
   "source": [
    "res = week_47_safe.open_partial_tx(\"c607c08a7aac67ae930416b93cdb7c62062758276f4e051f823a4892cdbac9a9\")"
   ]
  },
  {
   "cell_type": "markdown",
   "metadata": {},
   "source": [
    "# Successfull tx from week safe\n",
    "\n"
   ]
  },
  {
   "cell_type": "code",
   "execution_count": 5,
   "metadata": {},
   "outputs": [],
   "source": [
    "response_hex =\"01000000000101504dc498c05d58e680f35ba595899b33b1da3718643de1739211576a782e92570000000000ffffffff02d12f010000000000220020a9da521259fbab8ee1738d6fa2932b9bac77bd30667841729e72741c4c112546080f0e0000000000220020b331dd40d33b36c6ea281f31ecfde87b4a627caec1101cc14add0f0de47047af030047304402203b253081b3b22cf018326110d405b5ef2d9d1938cd72a788c68d3967ad89055e022046868043183cf0eb8ddff9ed9f6a27ad017147ead5d6c82c0cd483918e4ba7f50147522102176e0cfd845d27ce83291f431dda33738fcf2096a6f3f7c4abdeb37008ede67d21036c54304d4822810fa9e88d2ddfdb0f5f2f9e93fc3e3b60596db8bb293653661f52ae00000000\""
   ]
  },
  {
   "cell_type": "code",
   "execution_count": 7,
   "metadata": {},
   "outputs": [
    {
     "name": "stdout",
     "output_type": "stream",
     "text": [
      "prefix Nov24-of-20\n",
      "connection with database made.\n",
      "INSERT OR IGNORE INTO SHDSafeWallet         (name,public_key_list,m,n,privkey,xpriv,xpub,addr_type,testnet,segwit,parent_name ,safe_index, level1pubkeys) \n",
      "VALUES(\"Nov24-of-20_Buenos Aires Manager2v3\",\"[242181816824935352779949905339585673702570459364503992825384375679130606102141, 243939266812165980563239760114596239186104406092581261489726331066308569928747]\",2,3,\"115139476302519344463634772255798084337463636322414000002775671153459500424999\",\"None\",\"tpubDF5r1amiE2pqGWuMuKZfj7EK3sP7hYqgBqr6xx6tpDLw4x5EYYMQpsGgeoJCErrSpQYAGipEBCtpFJW7KHBeFaRZoSA3QAotgvs1Mc3VEbS\",'p2wsh',1,1,'Buenos Aires Manager2v3',201124, 'None' ) ;\n",
      "self: SHDSafeWallet xpub:tpubDF5r1amiE2pqGWuMuKZfj7EK3sP7hYqgBqr6xx6tpDLw4x5EYYMQpsGgeoJCErrSpQYAGipEBCtpFJW7KHBeFaRZoSA3QAotgvs1Mc3VEbS, pubkeys: [b\"\\x02\\x17n\\x0c\\xfd\\x84]'\\xce\\x83)\\x1fC\\x1d\\xda3s\\x8f\\xcf \\x96\\xa6\\xf3\\xf7\\xc4\\xab\\xde\\xb3p\\x08\\xed\\xe6}\", b'\\x02\\x1bP\\xbbp\\x89\\xe5\\xa2Q\\x12\\x1cp\\x19\\x03\\xcd+\\xc6Oa\\xc7\\x1a#\\xaf\\xcf$G\\xa4\\xed\\x8bY\\xa1\\x14+']\n"
     ]
    }
   ],
   "source": [
    "wrong_safe = store_safev2.get_daily_safe_wallet(201124)"
   ]
  },
  {
   "cell_type": "code",
   "execution_count": 8,
   "metadata": {},
   "outputs": [
    {
     "name": "stdout",
     "output_type": "stream",
     "text": [
      "connection with database made.\n",
      "tx tx: 30346826e0b88ba78dd2bd37bde9dd084b1ccd37624973cf1a392c19b9973a01\n",
      "version: 1\n",
      "tx_ins:\n",
      "8084da65d7c8f53ec110e02e874caabc1c3823c673179ac8e5e3d1329be52541:1\n",
      "tx_outs:\n",
      "29999:OP_0 a9da521259fbab8ee1738d6fa2932b9bac77bd30667841729e72741c4c112546\n",
      "12724:OP_0 6953113107554a0bf78aed3731f494649e6022893adad4458de7a30ec02c5ee7\n",
      "locktime: 0\n",
      "tx_ins [8084da65d7c8f53ec110e02e874caabc1c3823c673179ac8e5e3d1329be52541:1]\n",
      "connection with database made.\n",
      "SELECT Utxos.tx_id, Utxos.out_index, Utxos.amount, Addresses.path, Addresses.acc_index, Addresses.address,\n",
      " Addresses.type \n",
      "FROM Utxos INNER JOIN Addresses \n",
      "ON Utxos.address = Addresses.address\n",
      "WHERE Utxos.tx_id = '8084da65d7c8f53ec110e02e874caabc1c3823c673179ac8e5e3d1329be52541' AND Utxos.out_index = 1;\n",
      "[('8084da65d7c8f53ec110e02e874caabc1c3823c673179ac8e5e3d1329be52541', 1, 43584, 'm/1/', 0, 'tb1q974rxefr7pddf4x3r0mgknwmvt2rdf0u7a8a5w02mqyuar7ep2qsssmnvr', 5)]\n",
      "ini shm account _privkey: <ecc.PrivateKey object at 0x7fed5a797c90>\n",
      "Address trying to spend from: tb1q974rxefr7pddf4x3r0mgknwmvt2rdf0u7a8a5w02mqyuar7ep2qsssmnvr, path m/1/0\n",
      "change account index 0\n",
      "tb1q974rxefr7pddf4x3r0mgknwmvt2rdf0u7a8a5w02mqyuar7ep2qsssmnvr\n",
      "sign_input_multisig commands: [b\"0E\\x02!\\x00\\x89\\xe6\\x01f!\\xa5\\xf14hA\\xf9\\x8c\\xff\\xbc\\xbd\\xa7L\\x88X\\xf4A \\x8b\\xb0\\xad+\\xf8\\x1b,_\\x0e4\\x02 f\\xb0\\x12\\xe5\\xc0\\x04\\xc1\\x92=\\x06K\\xd1'\\x1f\\xf5\\xfc\\xe1\\xa7C/\\x9f\\xfcf\\xabf\\xf1\\xa4\\x12\\xb9|\\xfe\\xb6\\x01\", 0, b'0D\\x02 i\\x7f`J\\xee\\xdeG\\x1bIxj9\"\\xb7b\\xd2\\xf4\\x0c\\\\\\xd9M\\xb8@\\xcda\\xcb\\x9e\\x9b\\xafVh@\\x02 2\\xa2>\"\\xe8\\x92\\x1c\\xf0\\xcb;\\x9cn\\xe7aS&\\x94#\\rrz\\xd4\\x037\\xfcD\\xf8%\\x15H\\xcf/\\x01', b\"R!\\x02\\x17n\\x0c\\xfd\\x84]'\\xce\\x83)\\x1fC\\x1d\\xda3s\\x8f\\xcf \\x96\\xa6\\xf3\\xf7\\xc4\\xab\\xde\\xb3p\\x08\\xed\\xe6}!\\x02\\x1bP\\xbbp\\x89\\xe5\\xa2Q\\x12\\x1cp\\x19\\x03\\xcd+\\xc6Oa\\xc7\\x1a#\\xaf\\xcf$G\\xa4\\xed\\x8bY\\xa1\\x14+!\\x03< \\x16\\x0b\\xde\\xe1\\xaa\\xb8\\xcb\\x89\\x1b\\xc7\\xaeK)!QI\\xb26\\xd1#\\xd5\\x02\\xe7\\xf7R\\xb7\\x81'm\\xf6S\\xae\"]\n",
      "segwit commands: [b\"0E\\x02!\\x00\\x89\\xe6\\x01f!\\xa5\\xf14hA\\xf9\\x8c\\xff\\xbc\\xbd\\xa7L\\x88X\\xf4A \\x8b\\xb0\\xad+\\xf8\\x1b,_\\x0e4\\x02 f\\xb0\\x12\\xe5\\xc0\\x04\\xc1\\x92=\\x06K\\xd1'\\x1f\\xf5\\xfc\\xe1\\xa7C/\\x9f\\xfcf\\xabf\\xf1\\xa4\\x12\\xb9|\\xfe\\xb6\\x01\", 0, b'0D\\x02 i\\x7f`J\\xee\\xdeG\\x1bIxj9\"\\xb7b\\xd2\\xf4\\x0c\\\\\\xd9M\\xb8@\\xcda\\xcb\\x9e\\x9b\\xafVh@\\x02 2\\xa2>\"\\xe8\\x92\\x1c\\xf0\\xcb;\\x9cn\\xe7aS&\\x94#\\rrz\\xd4\\x037\\xfcD\\xf8%\\x15H\\xcf/\\x01', b\"R!\\x02\\x17n\\x0c\\xfd\\x84]'\\xce\\x83)\\x1fC\\x1d\\xda3s\\x8f\\xcf \\x96\\xa6\\xf3\\xf7\\xc4\\xab\\xde\\xb3p\\x08\\xed\\xe6}!\\x02\\x1bP\\xbbp\\x89\\xe5\\xa2Q\\x12\\x1cp\\x19\\x03\\xcd+\\xc6Oa\\xc7\\x1a#\\xaf\\xcf$G\\xa4\\xed\\x8bY\\xa1\\x14+!\\x03< \\x16\\x0b\\xde\\xe1\\xaa\\xb8\\xcb\\x89\\x1b\\xc7\\xaeK)!QI\\xb26\\xd1#\\xd5\\x02\\xe7\\xf7R\\xb7\\x81'm\\xf6S\\xae\"]\n",
      "script_pubkey of tx IN: OP_0 2faa336523f05ad4d4d11bf68b4ddb62d436a5fcf74fda39ead809ce8fd90a81\n",
      "\n",
      "combined script[0, b'/\\xaa3e#\\xf0Z\\xd4\\xd4\\xd1\\x1b\\xf6\\x8bM\\xdbb\\xd46\\xa5\\xfc\\xf7O\\xda9\\xea\\xd8\\t\\xce\\x8f\\xd9\\n\\x81']\n",
      "\n",
      "TRANSACTION READY!\n",
      "Run serialize().hex() to get the raw transaction.\n",
      "connection with database made.\n",
      "SELECT key FROM Keys\n",
      "WHERE name ='BLOCKCYPHER_API_KEY' ;\n",
      "TRANSACTION ID: 30346826e0b88ba78dd2bd37bde9dd084b1ccd37624973cf1a392c19b9973a01\n",
      "connection with database made.\n",
      "connection with database made.\n",
      "SELECT key FROM Keys\n",
      "WHERE name ='BLOCKCYPHER_API_KEY' ;\n",
      "counter 0; confirmation 0 for tx 30346826e0b88ba78dd2bd37bde9dd084b1ccd37624973cf1a392c19b9973a01 at 2020-11-25 20:41:23.736550\n",
      "counter 1; confirmation 0 for tx 30346826e0b88ba78dd2bd37bde9dd084b1ccd37624973cf1a392c19b9973a01 at 2020-11-25 20:42:54.019157\n",
      "counter 2; confirmation 0 for tx 30346826e0b88ba78dd2bd37bde9dd084b1ccd37624973cf1a392c19b9973a01 at 2020-11-25 20:44:24.367073\n",
      "got 1 confirmation. Now in state 1 30346826e0b88ba78dd2bd37bde9dd084b1ccd37624973cf1a392c19b9973a01\n",
      "sleeping time: 219\n",
      "counter 3; confirmation 1 for tx 30346826e0b88ba78dd2bd37bde9dd084b1ccd37624973cf1a392c19b9973a01 at 2020-11-25 20:47:24.676831\n",
      "counter 4; confirmation 1 for tx 30346826e0b88ba78dd2bd37bde9dd084b1ccd37624973cf1a392c19b9973a01 at 2020-11-25 20:58:21.941344\n"
     ]
    }
   ],
   "source": [
    "res = wrong_safe.open_partial_tx(\"30346826e0b88ba78dd2bd37bde9dd084b1ccd37624973cf1a392c19b9973a01\")"
   ]
  },
  {
   "cell_type": "code",
   "execution_count": 12,
   "metadata": {},
   "outputs": [],
   "source": [
    "full_name = \"Nov-24-of-20_Buenos Aires\"\n",
    "date_str,name = full_name.split(\"_\")\n",
    "month,day,of,year = date_str.split(\"-\")"
   ]
  },
  {
   "cell_type": "code",
   "execution_count": 16,
   "metadata": {},
   "outputs": [
    {
     "data": {
      "text/plain": [
       "'Buenos Aires'"
      ]
     },
     "execution_count": 16,
     "metadata": {},
     "output_type": "execute_result"
    }
   ],
   "source": [
    "name"
   ]
  },
  {
   "cell_type": "code",
   "execution_count": 3,
   "metadata": {},
   "outputs": [],
   "source": [
    "import datetime\n",
    "from datetime import date\n",
    "import calendar"
   ]
  },
  {
   "cell_type": "code",
   "execution_count": 20,
   "metadata": {},
   "outputs": [],
   "source": [
    "month_n = list(calendar.month_abbr).index(\"Nov\")"
   ]
  },
  {
   "cell_type": "code",
   "execution_count": 21,
   "metadata": {},
   "outputs": [
    {
     "data": {
      "text/plain": [
       "11"
      ]
     },
     "execution_count": 21,
     "metadata": {},
     "output_type": "execute_result"
    }
   ],
   "source": [
    "month_n"
   ]
  },
  {
   "cell_type": "code",
   "execution_count": 22,
   "metadata": {},
   "outputs": [],
   "source": [
    "wallet_date = datetime.date(int(\"20\"+year),list(calendar.month_abbr).index(month),int(day))"
   ]
  },
  {
   "cell_type": "code",
   "execution_count": 23,
   "metadata": {},
   "outputs": [
    {
     "data": {
      "text/plain": [
       "datetime.date(2020, 11, 24)"
      ]
     },
     "execution_count": 23,
     "metadata": {},
     "output_type": "execute_result"
    }
   ],
   "source": [
    "wallet_date"
   ]
  },
  {
   "cell_type": "code",
   "execution_count": 25,
   "metadata": {},
   "outputs": [],
   "source": [
    "delta = datetime.timedelta(days=14)"
   ]
  },
  {
   "cell_type": "code",
   "execution_count": 28,
   "metadata": {},
   "outputs": [],
   "source": [
    "today = datetime.date.today()"
   ]
  },
  {
   "cell_type": "code",
   "execution_count": 29,
   "metadata": {},
   "outputs": [],
   "source": [
    "two_weeks_ago = today - delta"
   ]
  },
  {
   "cell_type": "code",
   "execution_count": 32,
   "metadata": {},
   "outputs": [
    {
     "data": {
      "text/plain": [
       "True"
      ]
     },
     "execution_count": 32,
     "metadata": {},
     "output_type": "execute_result"
    }
   ],
   "source": [
    "wallet_date > two_weeks_ago and wallet_date < today"
   ]
  },
  {
   "cell_type": "code",
   "execution_count": 4,
   "metadata": {},
   "outputs": [
    {
     "ename": "AttributeError",
     "evalue": "type object 'datetime.date' has no attribute 'fromisocalendar'",
     "output_type": "error",
     "traceback": [
      "\u001b[0;31m---------------------------------------------------------------------------\u001b[0m",
      "\u001b[0;31mAttributeError\u001b[0m                            Traceback (most recent call last)",
      "\u001b[0;32m<ipython-input-4-7a9dee6ce365>\u001b[0m in \u001b[0;36m<module>\u001b[0;34m\u001b[0m\n\u001b[0;32m----> 1\u001b[0;31m \u001b[0mweek_date\u001b[0m \u001b[0;34m=\u001b[0m \u001b[0mdate\u001b[0m\u001b[0;34m.\u001b[0m\u001b[0mfromisocalendar\u001b[0m\u001b[0;34m(\u001b[0m\u001b[0;36m2020\u001b[0m\u001b[0;34m,\u001b[0m\u001b[0;36m1\u001b[0m\u001b[0;34m,\u001b[0m\u001b[0;36m1\u001b[0m\u001b[0;34m)\u001b[0m\u001b[0;34m\u001b[0m\u001b[0;34m\u001b[0m\u001b[0m\n\u001b[0m",
      "\u001b[0;31mAttributeError\u001b[0m: type object 'datetime.date' has no attribute 'fromisocalendar'"
     ]
    }
   ],
   "source": [
    "week_date = date.fromisocalendar(2020,1,1)"
   ]
  },
  {
   "cell_type": "code",
   "execution_count": null,
   "metadata": {},
   "outputs": [],
   "source": []
  }
 ],
 "metadata": {
  "kernelspec": {
   "display_name": "Python 3",
   "language": "python",
   "name": "python3"
  },
  "language_info": {
   "codemirror_mode": {
    "name": "ipython",
    "version": 3
   },
   "file_extension": ".py",
   "mimetype": "text/x-python",
   "name": "python",
   "nbconvert_exporter": "python",
   "pygments_lexer": "ipython3",
   "version": "3.7.7"
  }
 },
 "nbformat": 4,
 "nbformat_minor": 4
}
