{
 "cells": [
  {
   "cell_type": "code",
   "execution_count": 9,
   "metadata": {},
   "outputs": [],
   "source": [
    "from wallet import Wallet\n",
    "from accounts import SHMAccount\n",
    "from ecc import PrivateKey, S256Point"
   ]
  },
  {
   "cell_type": "markdown",
   "metadata": {},
   "source": [
    "### Wallets\n",
    "\n",
    "\n",
    "- CorporateSuperWallet is the main wallet. I AM THINKING TO MAKE MAIN WALLET A COMPANY WALLET INSTEAD, WHERE THERE IS NO PRIVATE KEYS.\n",
    "- CorporateWallet: cosigners at the top corporate level.\n",
    "- StoreWallet: responsible for only address generation for payments in each store.\n",
    "- DailySafeWallet: Multisignature single-herarchical wallet. Manageble (see balance and create transactions) by everybody but AssistantManagerWallet who only can authorize in emergency events.\n",
    "- WeeklySafeWallet: same as DailySafeWallet with the exception that no AssistantManagerWallet is part of this wallet.\n",
    "- CorporateSafeWallet: Multisignature fully-herarchical wallet. Supported on the non_hardened keys within tge year account which is a hardened derived account.\n",
    "- ManagerWallet: takes part in the DailySafeWallet and the WeeklySafeWallet.\n",
    "- AssistantManagerWallet: only a cosigner wallet. This is the most basic and simple wallet type.\n"
   ]
  },
  {
   "cell_type": "code",
   "execution_count": 10,
   "metadata": {},
   "outputs": [],
   "source": [
    "class CorporateSuperWallet(Wallet):\n",
    "    \n",
    "    def create_store_account(self, store_code):\n",
    "        \"\"\"\n",
    "        Returns the master private key of the store with index 'store_code'.\n",
    "        store_code: Integer. The code designated to the store. It is recomended that \n",
    "        this code matches that already stablished by the company.\n",
    "        \"\"\"\n",
    "        return \n",
    "    \n",
    "    def request_pubkeys_daily_safe(self,store_code, m=2,n=6):\n",
    "        \"\"\"\n",
    "        Returns the message to start requesting the public keys necessary to setup a\n",
    "        daily safe.\n",
    "        m: minumum signatures to validate transaction. Don't modify this if not necessary.\n",
    "        n: number of signatures than can sign the transaction.\n",
    "        store_code: Integer. The code designated to the store. It is recomended that \n",
    "        this code matches that already stablished by the company.\n",
    "        \"\"\"\n",
    "        #save in the database the unique_id, public keys, m, n, and the store_code.\n",
    "        return \n",
    "    \n",
    "    def create_daily_safe_wallet(self, public_key_list, m=2, n=6,addr_type=\"p2wsh\",\n",
    "                                 testnet=False, segwit=True):\n",
    "        \"\"\"\n",
    "        This is a watch-only wallet by definition. CHANGE THIS TO BE ABLE TO SIGN TX!\n",
    "        Returns a Single-Herarchical multisignature master wallet based on the public keys \n",
    "        and the master_pubkey.\n",
    "        public_key_list: the list of public keys of the keys that can sign the transaction.\n",
    "        the length of the list must be 6 according to the protocol. However, a different \n",
    "        length can be stablished.\n",
    "        m: minumum signatures to validate transaction. Don't modify this if not necessary.\n",
    "        n: number of signatures than can sign the transaction. Must match with \n",
    "        public_key_list's length-1.\n",
    "        \"\"\"\n",
    "        \n",
    "        path = \"m/44H/0H/1H\"\n",
    "        daily_safes_acc = self.get_child_from_path(path)\n",
    "        print(daily_safes_acc)\n",
    "        shm_account = SHMAccount(m,n, str(daily_safes_acc.xtended_public_key), public_key_list, _privkey=None,\n",
    "                                 addr_type=addr_type,testnet=testnet, segwit=segwit)\n",
    "        return shm_account\n",
    "    \n",
    "    def create_weekly_safe_wallet(self,master_pubkey, public_key_list, m=2, n=5,addr_type=\"p2wsh\",\n",
    "                                 testnet=False, segwit=True):\n",
    "        \"\"\"\n",
    "        This is a watch-only wallet by definition. CHANGE THIS TO BE ABLE TO SIGN TX!\n",
    "        Returns a Single-Herarchical multisignature master wallet based on the public keys \n",
    "        and the master_pubkey.\n",
    "        public_key_list: the list of public keys of the keys that can sign the transaction.\n",
    "        the length of the list must be 6 according to the protocol. However, a different \n",
    "        length can be stablished.\n",
    "        m: minumum signatures to validate transaction. Don't modify this if not necessary.\n",
    "        n: number of signatures than can sign the transaction. Must match with \n",
    "        public_key_list's length-1.\n",
    "        \"\"\"\n",
    "        path = \"m/44H/0H/2H\"\n",
    "        weekly_safes_acc = self.get_child_from_path(path)\n",
    "        shm_account = SHMAccount(m,n, weekly_safes_acc.xtended_public_key, public_key_list, _privkey=None,\n",
    "                                 addr_type=addr_type,testnet=testnet, segwit=segwit)\n",
    "        return shm_account\n",
    "    \n",
    "    def create_corporate_safe(self, index):\n",
    "        return \n",
    "    \n",
    "    def get_store_deposit_account(self, store_index):\n",
    "        return"
   ]
  },
  {
   "cell_type": "code",
   "execution_count": 11,
   "metadata": {},
   "outputs": [],
   "source": [
    "class StoreWallet(Wallet):\n",
    "    \n",
    "     def create_daily_safe(self, date_index, public_key_list,m=2,n=6):\n",
    "        \"\"\"\n",
    "        returns a multisignature account with the public keys and the index specified.\n",
    "        date_index: Integer. Must follow YYMMDD format.\n",
    "        public_key_list: the list of public keys of the keys that can sign the transaction.\n",
    "        the length of the list must be 6 according to the protocol. However, a different \n",
    "        length can be stablished.\n",
    "        m: minumum signatures to validate transaction. Don't modify this if not necessary.\n",
    "        n: number of signatures than can sign the transaction. Must match with \n",
    "        public_key_list's length.\n",
    "        \"\"\"\n",
    "        return \n",
    "    "
   ]
  },
  {
   "cell_type": "code",
   "execution_count": 12,
   "metadata": {},
   "outputs": [],
   "source": [
    "\n",
    "class ManagerWallet(Wallet):\n",
    "    \n",
    "    def get_daily_safe_pubkey(self):\n",
    "        path = \"m/44H/0H/1H\"\n",
    "        daily_safes_acc = self.get_child_from_path(path)\n",
    "        return daily_safes_acc.private_key_obj.point.sec()\n",
    "    \n",
    "    def accept_daily_safe_wallet(self,invite):\n",
    "        \"\"\"\n",
    "        accepts the invitation from a SuperCorporateWallet to participate in a daily-safe wallet.\n",
    "        The acceptance must be through a private key that matches one of the public keys that are\n",
    "        part of the SHM wallet passed in the invite.\n",
    "        invite: SHMAccount object. The wallet that we are going to be part of.\n",
    "        \"\"\"\n",
    "        path = \"m/44H/0H/1H\"\n",
    "        daily_safes_acc = self.get_child_from_path(path)\n",
    "        print(daily_safes_acc.private_key)\n",
    "        shm_account = SHMAccount(invite.m,invite.n, str(invite.xtended_pubkey), invite.public_keys, \n",
    "                                 daily_safes_acc.private_key_obj,invite.addr_type,invite.testnet)\n",
    "        return shm_account\n",
    "        "
   ]
  },
  {
   "cell_type": "code",
   "execution_count": 13,
   "metadata": {},
   "outputs": [
    {
     "name": "stdout",
     "output_type": "stream",
     "text": [
      "8418572761394767459444418608530371567217744336876557229650655736270882421023962287566834689847418048023007033142570964655978481626857402470209587761075589\n",
      "6018716354834777059445516500463325153454936853151215624488541646839939367247233986759821493097378851875115552924255831805062990606698886137563075847103799\n"
     ]
    }
   ],
   "source": [
    "words = \"engine over neglect science fatigue dawn axis parent mind man escape era goose border invest slab relax bind desert hurry useless lonely frozen morning\"\n",
    "manager1 = ManagerWallet.recover_from_words(words, 256, \"RobertPauslon\",True)\n",
    "\n",
    "words = \"client sudden sunset borrow pupil rely sand girl prefer movie bachelor guilt giraffe glove much strong dizzy switch ill silent goddess crumble goat power\"\n",
    "manager2 = ManagerWallet.recover_from_words(words,entropy=256,passphrase=\"RobertPaulson\",testnet=True)\n",
    "\n",
    "\n",
    "public_keys = [ manager1.get_daily_safe_pubkey(), manager2.get_daily_safe_pubkey(), PrivateKey(int.from_bytes(b\"Ashley Serna\",\"little\")).point.sec()]\n"
   ]
  },
  {
   "cell_type": "code",
   "execution_count": 14,
   "metadata": {},
   "outputs": [
    {
     "name": "stdout",
     "output_type": "stream",
     "text": [
      "Copy these words for future recovery:\n",
      "b'negative dismiss slim picture fabric talent fame visa false paddle next master'\n",
      "32048263970739981554936285883322134056056760691485212235389444113905510988145655726599211088417825072703644871538578172184925077653699304833529896954908\n"
     ]
    }
   ],
   "source": [
    "corp_wallet=CorporateSuperWallet.generate_random(testnet=True)"
   ]
  },
  {
   "cell_type": "code",
   "execution_count": 15,
   "metadata": {},
   "outputs": [
    {
     "name": "stdout",
     "output_type": "stream",
     "text": [
      "tprv8g16nqC1XUVfP6QqqhDMVhG9S2uoD3yFzCF3w5bboq5iCDmjXjcqDjApjGkmJexS1beLm6TKGrmvYzN28FLxRTkUSqm6SCpzptoJTPAamDa\n"
     ]
    }
   ],
   "source": [
    "invite = corp_wallet.create_daily_safe_wallet(public_keys,n=4,testnet=True)"
   ]
  },
  {
   "cell_type": "code",
   "execution_count": 16,
   "metadata": {},
   "outputs": [
    {
     "name": "stdout",
     "output_type": "stream",
     "text": [
      "b'\\xd3\\xcdG\\xa0\\xa1\\xbf\\x86V\\x879\\xa2\\x05Q3o\\xb7(\\x92Z\\x19\\xc8bzf\\xf7\\x9e\\xd4\\xfb\\xc9\\xf5\\xbdP'\n"
     ]
    },
    {
     "data": {
      "text/plain": [
       "Single-Herarchical Multisignature account: master_pubkey tpubDCh8wFEFfrBLGZSdjLswu6vG14RjNPAAZVqqDbduE6t72i2WA8SRQDnguQ3g9dxeAkTVbwohVD5yR6h3Z62u56jDFqzePfp4h3UvcnTJKiG"
      ]
     },
     "execution_count": 16,
     "metadata": {},
     "output_type": "execute_result"
    }
   ],
   "source": [
    "manager1.accept_daily_safe_wallet(invite)"
   ]
  },
  {
   "cell_type": "code",
   "execution_count": 17,
   "metadata": {},
   "outputs": [
    {
     "name": "stdout",
     "output_type": "stream",
     "text": [
      "b\"\\xfe\\x8e\\xa2X\\xe1\\xe0\\x9b\\xef\\xd2s\\x1f;\\xd5\\xf3g\\x88\\xfd\\x97\\x13C/\\xe3H\\xdf\\xb8E\\xcc[$H\\x1f'\"\n"
     ]
    },
    {
     "data": {
      "text/plain": [
       "Single-Herarchical Multisignature account: master_pubkey tpubDCh8wFEFfrBLGZSdjLswu6vG14RjNPAAZVqqDbduE6t72i2WA8SRQDnguQ3g9dxeAkTVbwohVD5yR6h3Z62u56jDFqzePfp4h3UvcnTJKiG"
      ]
     },
     "execution_count": 17,
     "metadata": {},
     "output_type": "execute_result"
    }
   ],
   "source": [
    "manager2.accept_daily_safe_wallet(invite)"
   ]
  },
  {
   "cell_type": "code",
   "execution_count": null,
   "metadata": {},
   "outputs": [],
   "source": [
    "manager1."
   ]
  }
 ],
 "metadata": {
  "kernelspec": {
   "display_name": "Python 3",
   "language": "python",
   "name": "python3"
  },
  "language_info": {
   "codemirror_mode": {
    "name": "ipython",
    "version": 3
   },
   "file_extension": ".py",
   "mimetype": "text/x-python",
   "name": "python",
   "nbconvert_exporter": "python",
   "pygments_lexer": "ipython3",
   "version": "3.7.7"
  }
 },
 "nbformat": 4,
 "nbformat_minor": 4
}
