{
 "cells": [
  {
   "cell_type": "code",
   "execution_count": 87,
   "metadata": {},
   "outputs": [
    {
     "name": "stdout",
     "output_type": "stream",
     "text": [
      "['shallow', 'tuna', 'cruel', 'attend', 'improve', 'clip', 'legal', 'shield', 'push', 'kick', 'little', 'bitter', 'practice', 'toward', 'wide', 'topple', 'virus', 'insect', 'tuna', 'crystal', 'gesture', 'artwork', 'small', 'split']\n"
     ]
    }
   ],
   "source": [
    "from os import urandom\n",
    "import hashlib\n",
    "\n",
    "ENT = 256\n",
    "format_string = \"{0:0\"+str(ENT)+\"b}\"\n",
    "ENTsie = ENT//8\n",
    "\n",
    "CSsize = ENT//32\n",
    "\n",
    "MS = (ENT+CSsize)//11\n",
    "\n",
    "random_number = urandom(ENTsie)\n",
    "\n",
    "CS = hashlib.sha256(random_number).digest()\n",
    "\n",
    "#This is a string binary representation\n",
    "pre_binary_seed =  format_string.format(int.from_bytes(random_number,\"big\"),16) + bin(int.from_bytes(CS,\"big\"))[2:CSsize+2]\n",
    "\n",
    "binary_seed_list = [pre_binary_seed[i*11:(i+1)*11] for i in range(MS) ]\n",
    "\n",
    "words = []\n",
    "with open(\"english_word.txt\", \"r\", encoding=\"utf-8\") as f:\n",
    "    for w in f.readlines():\n",
    "        words.append(w.strip())\n",
    "\n",
    "mnemonic_words = []\n",
    "for i in range(MS):\n",
    "    mnemonic_words.append(words[int(binary_seed_list[i],2)])\n",
    "    \n",
    "binary_seed_list\n",
    "print(mnemonic_words)"
   ]
  },
  {
   "cell_type": "code",
   "execution_count": 88,
   "metadata": {},
   "outputs": [
    {
     "data": {
      "text/plain": [
       "24"
      ]
     },
     "execution_count": 88,
     "metadata": {},
     "output_type": "execute_result"
    }
   ],
   "source": [
    "len(mnemonic_words)"
   ]
  },
  {
   "cell_type": "code",
   "execution_count": 61,
   "metadata": {},
   "outputs": [],
   "source": [
    "cs = bin(int.from_bytes(random_number,\"big\"))"
   ]
  },
  {
   "cell_type": "code",
   "execution_count": 53,
   "metadata": {},
   "outputs": [
    {
     "data": {
      "text/plain": [
       "127"
      ]
     },
     "execution_count": 53,
     "metadata": {},
     "output_type": "execute_result"
    }
   ],
   "source": [
    "len(bin(int.from_bytes(random_number,\"big\"))[2:])"
   ]
  },
  {
   "cell_type": "code",
   "execution_count": 52,
   "metadata": {},
   "outputs": [
    {
     "data": {
      "text/plain": [
       "'1000'"
      ]
     },
     "execution_count": 52,
     "metadata": {},
     "output_type": "execute_result"
    }
   ],
   "source": [
    "bin(int.from_bytes(CS,\"big\"))[2:CSsize+2]"
   ]
  },
  {
   "cell_type": "code",
   "execution_count": 55,
   "metadata": {},
   "outputs": [
    {
     "data": {
      "text/plain": [
       "'b1011011000010111101100011010001001110000000000000100111101110101101100101010010000101011111111010010001110100011001000111001110'"
      ]
     },
     "execution_count": 55,
     "metadata": {},
     "output_type": "execute_result"
    }
   ],
   "source": [
    "bin(int.from_bytes(random_number,\"big\"))[1:]"
   ]
  },
  {
   "cell_type": "code",
   "execution_count": 68,
   "metadata": {},
   "outputs": [
    {
     "ename": "ValueError",
     "evalue": "Single '}' encountered in format string",
     "output_type": "error",
     "traceback": [
      "\u001b[0;31m---------------------------------------------------------------------------\u001b[0m",
      "\u001b[0;31mValueError\u001b[0m                                Traceback (most recent call last)",
      "\u001b[0;32m<ipython-input-68-12ac0c84721a>\u001b[0m in \u001b[0;36m<module>\u001b[0;34m\u001b[0m\n\u001b[0;32m----> 1\u001b[0;31m \u001b[0;34m\"{0:0\"\u001b[0m\u001b[0;34m+\u001b[0m\u001b[0mstr\u001b[0m\u001b[0;34m(\u001b[0m\u001b[0mENT\u001b[0m\u001b[0;34m)\u001b[0m\u001b[0;34m+\u001b[0m\u001b[0;34m\"b}\"\u001b[0m\u001b[0;34m.\u001b[0m\u001b[0mformat\u001b[0m\u001b[0;34m(\u001b[0m\u001b[0mint\u001b[0m\u001b[0;34m.\u001b[0m\u001b[0mfrom_bytes\u001b[0m\u001b[0;34m(\u001b[0m\u001b[0mrandom_number\u001b[0m\u001b[0;34m,\u001b[0m\u001b[0;34m\"big\"\u001b[0m\u001b[0;34m)\u001b[0m\u001b[0;34m,\u001b[0m\u001b[0;36m16\u001b[0m\u001b[0;34m)\u001b[0m\u001b[0;34m\u001b[0m\u001b[0;34m\u001b[0m\u001b[0m\n\u001b[0m",
      "\u001b[0;31mValueError\u001b[0m: Single '}' encountered in format string"
     ]
    }
   ],
   "source": [
    "\"{0:0\"+str(ENT)+\"b}\".format(int.from_bytes(random_number,\"big\"),16)"
   ]
  },
  {
   "cell_type": "code",
   "execution_count": 69,
   "metadata": {},
   "outputs": [],
   "source": [
    "strung = \"{0:0\"+str(ENT)+\"b}\""
   ]
  },
  {
   "cell_type": "code",
   "execution_count": 71,
   "metadata": {},
   "outputs": [
    {
     "data": {
      "text/plain": [
       "'00101001001000011100101111101101101011100100001111011010000100011110110001101011110100000010110100011111110010110011011010100010'"
      ]
     },
     "execution_count": 71,
     "metadata": {},
     "output_type": "execute_result"
    }
   ],
   "source": [
    "strung.format(int.from_bytes(random_number,\"big\"),16)"
   ]
  },
  {
   "cell_type": "code",
   "execution_count": null,
   "metadata": {},
   "outputs": [],
   "source": []
  }
 ],
 "metadata": {
  "kernelspec": {
   "display_name": "Python 3",
   "language": "python",
   "name": "python3"
  },
  "language_info": {
   "codemirror_mode": {
    "name": "ipython",
    "version": 3
   },
   "file_extension": ".py",
   "mimetype": "text/x-python",
   "name": "python",
   "nbconvert_exporter": "python",
   "pygments_lexer": "ipython3",
   "version": "3.7.4"
  }
 },
 "nbformat": 4,
 "nbformat_minor": 4
}
