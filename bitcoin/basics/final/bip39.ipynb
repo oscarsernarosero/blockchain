{
 "cells": [
  {
   "cell_type": "code",
   "execution_count": 179,
   "metadata": {},
   "outputs": [
    {
     "name": "stdout",
     "output_type": "stream",
     "text": [
      "b'antenna type flush across work dignity giggle lock giant session cruise together'\n",
      "['antenna', 'type', 'flush', 'across', 'work', 'dignity', 'giggle', 'lock', 'giant', 'session', 'cruise', 'together']\n",
      "0x1c1e4cee40cd2bfdfb2ea136523177ae4e60a3d64fa0c3f7e99e897fd6418c6ce008da4231d35a9a0e6a01d3dc64911a5bb71b747721ceec46fe6744a231c191\n"
     ]
    }
   ],
   "source": [
    "from os import urandom\n",
    "import hashlib\n",
    "import unicodedata\n",
    "import hmac\n",
    "\n",
    "passphrase = \"\"\n",
    "salt = unicodedata.normalize(\"NFKD\", \"\").encode(\"utf-8\")\n",
    "ENT = 128\n",
    "format_string = \"{0:0\"+str(ENT)+\"b}\"\n",
    "ENTsie = ENT//8\n",
    "\n",
    "CSsize = ENT//32\n",
    "\n",
    "MS = (ENT+CSsize)//11\n",
    "\n",
    "###################  TEST  ####################\n",
    "random_number = urandom(ENTsie)\n",
    "#random_number = b\"\\x00\"*16\n",
    "###############################################\n",
    "\n",
    "CS = hashlib.sha256(random_number).digest()\n",
    "CSstring = \"{0:0256b}\".format(int.from_bytes(CS,\"big\"),16)[:CSsize]\n",
    "\n",
    "#This is a string binary representation\n",
    "pre_binary_seed =  format_string.format(int.from_bytes(random_number,\"big\"),16) + CSstring\n",
    "\n",
    "\n",
    "binary_seed_list = [pre_binary_seed[i*11:(i+1)*11] for i in range(MS) ]\n",
    "\n",
    "words = []\n",
    "with open(\"english_word.txt\", \"r\", encoding=\"utf-8\") as f:\n",
    "    for w in f.readlines():\n",
    "        words.append(w.strip())\n",
    "\n",
    "mnemonic_words = []\n",
    "for i in range(MS):\n",
    "    mnemonic_words.append(words[int(binary_seed_list[i],2)])\n",
    "    \n",
    "\n",
    "salt = (unicodedata.normalize(\"NFKD\",\"mnemonic\" + passphrase)).encode(\"utf-8\")\n",
    "\n",
    "\n",
    "mnemonic = \" \".join(mnemonic_words)\n",
    "mnemonic = unicodedata.normalize(\"NFKD\", mnemonic).encode(\"utf-8\")\n",
    "print(mnemonic)\n",
    "    \n",
    "bin_seed = hashlib.pbkdf2_hmac(\"sha512\", mnemonic, salt, 2048)\n",
    " \n",
    "print(mnemonic_words)\n",
    "print(hex(int.from_bytes(bin_seed[:64],\"big\")))\n"
   ]
  },
  {
   "cell_type": "code",
   "execution_count": 277,
   "metadata": {},
   "outputs": [],
   "source": [
    "from os import urandom\n",
    "import hashlib\n",
    "import unicodedata\n",
    "import hmac\n",
    "\n",
    "class Mnemonic:\n",
    "    \n",
    "    def __init__(self,entropy = 128, words=None, random_number=None, passphrase=\"\", seed=None):\n",
    "        self.entropy = entropy\n",
    "        self.words = words\n",
    "        self.random_number = random_number\n",
    "        self.passphrase = passphrase\n",
    "        self.seed= seed\n",
    "        self.MS = None\n",
    "        \n",
    "    def __repr__(self):\n",
    "        return self.words.decode(\"utf-8\") \n",
    "    \n",
    "    @classmethod\n",
    "    def generate_random(self,entropy = 128,  passphrase=\"\"):\n",
    "        \n",
    "        ENT = entropy\n",
    "        \n",
    "        ENTsie = ENT//8\n",
    "     \n",
    "\n",
    "        random_number = urandom(ENTsie)\n",
    "        \n",
    "        return self.generate_from_number(number = random_number, entropy=entropy, passphrase = passphrase)\n",
    "      \n",
    "        \n",
    "    @classmethod\n",
    "    def generate_from_number(self,number = None, entropy = 128,  passphrase=\"\"):\n",
    "        \n",
    "        ENT = entropy\n",
    "\n",
    "        CSsize = ENT//32\n",
    "\n",
    "        MS = (ENT+CSsize)//11\n",
    "        \n",
    "        return self.get_seed(ENT = entropy, random_number = number, passphrase = passphrase,MS=MS)\n",
    "    \n",
    "    @classmethod\n",
    "    def recover_from_words(self,mnemonic_list = None, entropy = 128,  passphrase=\"\"):\n",
    "        \n",
    "        return self.get_seed(mnemonic_list = mnemonic_list, passphrase = passphrase,MS=MS)\n",
    "      \n",
    "        \n",
    "    @classmethod\n",
    "    def get_seed(cls,ENT = 128, mnemonic_list=None, random_number=None,passphrase=\"\",MS=None):\n",
    "        \n",
    "        words = []\n",
    "        with open(\"english_word.txt\", \"r\", encoding=\"utf-8\") as f:\n",
    "            for w in f.readlines():\n",
    "                words.append(w.strip())\n",
    "\n",
    "        if random_number is not None:\n",
    "\n",
    "            if ENT not in [128,160,192,224,256]:\n",
    "                return \"not a valid entropy.\"                \n",
    "            if isinstance(random_number,str):\n",
    "                size = len(random_number)//2\n",
    "                random_number = int(random_number,16).to_bytes(size,\"big\")\n",
    "            elif isinstance(random_number,int):\n",
    "                random_number.to_bytes(ENT//8,\"big\")\n",
    "            elif isinstance(random_number,bytes):\n",
    "                if len(random_number)*8 != ENT:\n",
    "                    return \"Length of random number must match entropy\"\n",
    "            else:\n",
    "                return f\"NOT a valid format for random number. Must be hex_string, int, or bytes. Not {type(random_number)}\"\n",
    "\n",
    "\n",
    "            CS = hashlib.sha256(random_number).digest()\n",
    "            CSstring = \"{0:0256b}\".format(int.from_bytes(CS,\"big\"),16)[:CSsize]\n",
    "\n",
    "            #This is a string binary representation\n",
    "            format_string = \"{0:0\"+str(ENT)+\"b}\"\n",
    "            pre_binary_seed =  format_string.format(int.from_bytes(random_number,\"big\"),16) + CSstring\n",
    "\n",
    "            binary_seed_list = [pre_binary_seed[i*11:(i+1)*11] for i in range(MS) ]\n",
    "\n",
    "            mnemonic_words = []\n",
    "            for i in range(MS):\n",
    "                mnemonic_words.append(words[int(binary_seed_list[i],2)])\n",
    "\n",
    "\n",
    "        elif mnemonic_list is not None:\n",
    "            if len(mnemonic_list) not in [12,15,18,21,24]:\n",
    "                return \"Not a valid amount of words. Must be 12, 15, 18, 21, or 24 word list.\"\n",
    "\n",
    "            random_number_list = [\"{0:016b}\".format(words.index(x))[-11:] for x in mnemonic_list]\n",
    "            random_number = \"\".join(random_number_list)\n",
    "            size = len(random_number)//2\n",
    "            random_number = int(random_number[:-(size//32)],2).to_bytes(size,\"big\")\n",
    "            mnemonic_words = mnemonic_list\n",
    "\n",
    "        salt = (unicodedata.normalize(\"NFKD\",\"mnemonic\" + passphrase)).encode(\"utf-8\")\n",
    "\n",
    "        mnemonic = \" \".join(mnemonic_words)\n",
    "        mnemonic = unicodedata.normalize(\"NFKD\", mnemonic).encode(\"utf-8\")\n",
    "\n",
    "        seed = hashlib.pbkdf2_hmac(\"sha512\", mnemonic, salt, 2048)\n",
    "\n",
    "        return cls( entropy = ENT, words=mnemonic, random_number=random_number, \n",
    "                   passphrase=passphrase,seed=seed)\n",
    "\n",
    "\n"
   ]
  },
  {
   "cell_type": "code",
   "execution_count": 278,
   "metadata": {},
   "outputs": [
    {
     "data": {
      "text/plain": [
       "255"
      ]
     },
     "execution_count": 278,
     "metadata": {},
     "output_type": "execute_result"
    }
   ],
   "source": [
    "int(\"ff\",16)"
   ]
  },
  {
   "cell_type": "code",
   "execution_count": 279,
   "metadata": {},
   "outputs": [],
   "source": [
    "test = Mnemonic.generate_random(128)"
   ]
  },
  {
   "cell_type": "code",
   "execution_count": 280,
   "metadata": {},
   "outputs": [
    {
     "data": {
      "text/plain": [
       "b'album because claim eternal great speak wash limb tattoo physical grain similar'"
      ]
     },
     "execution_count": 280,
     "metadata": {},
     "output_type": "execute_result"
    }
   ],
   "source": [
    "test.words"
   ]
  },
  {
   "cell_type": "code",
   "execution_count": 281,
   "metadata": {},
   "outputs": [
    {
     "data": {
      "text/plain": [
       "album because claim eternal great speak wash limb tattoo physical grain similar"
      ]
     },
     "execution_count": 281,
     "metadata": {},
     "output_type": "execute_result"
    }
   ],
   "source": [
    "test"
   ]
  },
  {
   "cell_type": "code",
   "execution_count": 282,
   "metadata": {},
   "outputs": [
    {
     "data": {
      "text/plain": [
       "'0xe9a48c9ea84f86dccb154ad7eec9f6829add5a0aee41108dd75020ac1b654345ecb788534f7c15fb0564575d6fc7d9e175f87bfbcf3d180ae1ec1cd57b6e586'"
      ]
     },
     "execution_count": 282,
     "metadata": {},
     "output_type": "execute_result"
    }
   ],
   "source": [
    "hex(int.from_bytes(test.seed,\"big\"))"
   ]
  },
  {
   "cell_type": "markdown",
   "metadata": {},
   "source": [
    "swear law nasty tell slice rail quarter desk into swing enrich pulse\n",
    "\n",
    "'0x6a3b6e666d5b15c2590edbcb093aafb75fbbee5aa092fa54dabf48d195ce2140e193a0242c09358d6538949ddd73ab3c3f5d04520a3af1aa3439ef03c34203f8'"
   ]
  },
  {
   "cell_type": "code",
   "execution_count": 283,
   "metadata": {},
   "outputs": [],
   "source": [
    "test2 = Mnemonic.recover_from_words([\"swear\", \"law\" ,\"nasty\" ,\"tell\", \"slice\" ,\"rail\" ,\"quarter\", \"desk\" ,\"into\", \"swing\", \"enrich\", \"pulse\"])"
   ]
  },
  {
   "cell_type": "code",
   "execution_count": 284,
   "metadata": {},
   "outputs": [
    {
     "data": {
      "text/plain": [
       "'0x6a3b6e666d5b15c2590edbcb093aafb75fbbee5aa092fa54dabf48d195ce2140e193a0242c09358d6538949ddd73ab3c3f5d04520a3af1aa3439ef03c34203f8'"
      ]
     },
     "execution_count": 284,
     "metadata": {},
     "output_type": "execute_result"
    }
   ],
   "source": [
    "hex(int.from_bytes(test2.seed,\"big\"))"
   ]
  },
  {
   "cell_type": "code",
   "execution_count": null,
   "metadata": {},
   "outputs": [],
   "source": []
  }
 ],
 "metadata": {
  "kernelspec": {
   "display_name": "Python 3",
   "language": "python",
   "name": "python3"
  },
  "language_info": {
   "codemirror_mode": {
    "name": "ipython",
    "version": 3
   },
   "file_extension": ".py",
   "mimetype": "text/x-python",
   "name": "python",
   "nbconvert_exporter": "python",
   "pygments_lexer": "ipython3",
   "version": "3.7.4"
  }
 },
 "nbformat": 4,
 "nbformat_minor": 4
}
