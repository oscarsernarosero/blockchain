{
 "cells": [
  {
   "cell_type": "code",
   "execution_count": 1,
   "metadata": {},
   "outputs": [],
   "source": [
    "from accounts import Account, MasterAccount\n",
    "from bip32 import Xtended_privkey, Xtended_pubkey\n",
    "from bip39 import Mnemonic\n"
   ]
  },
  {
   "cell_type": "code",
   "execution_count": 2,
   "metadata": {},
   "outputs": [
    {
     "name": "stdout",
     "output_type": "stream",
     "text": [
      "Copy these words for future recovery:\n",
      "b'transfer gold prevent mushroom eternal found sing action foam tissue power bitter season security fade donate faith away slice box spot fashion episode ensure'\n",
      "4933960591150646406868321461809681407901764142345244379015983801176516746423481472248937308553508371455470606969891426716528703436588950684463136235666946\n"
     ]
    }
   ],
   "source": [
    "randomMaster = MasterAccount.generate_random(256,\"Serna\",True)"
   ]
  },
  {
   "cell_type": "code",
   "execution_count": 3,
   "metadata": {},
   "outputs": [
    {
     "name": "stdout",
     "output_type": "stream",
     "text": [
      "4933960591150646406868321461809681407901764142345244379015983801176516746423481472248937308553508371455470606969891426716528703436588950684463136235666946\n"
     ]
    },
    {
     "data": {
      "text/plain": [
       "tprv8ZgxMBicQKsPd6x1rHnvDSJf2YXV1xNqEVR7HRcrfPyqZHHwPxu2JAR4GoFHViVJ8AwvVY84dmyKeABW71227tbpwhvMgiyv8R8peYh4n8X"
      ]
     },
     "execution_count": 3,
     "metadata": {},
     "output_type": "execute_result"
    }
   ],
   "source": [
    "words = \"transfer gold prevent mushroom eternal found sing action foam tissue power bitter season security fade donate faith away slice box spot fashion episode ensure\"\n",
    "recoveryMaster = MasterAccount.recover_from_words(words, 256, \"Serna\",True)\n",
    "recoveryMaster\n"
   ]
  },
  {
   "cell_type": "code",
   "execution_count": 4,
   "metadata": {},
   "outputs": [
    {
     "data": {
      "text/plain": [
       "tprv8ZgxMBicQKsPd6x1rHnvDSJf2YXV1xNqEVR7HRcrfPyqZHHwPxu2JAR4GoFHViVJ8AwvVY84dmyKeABW71227tbpwhvMgiyv8R8peYh4n8X"
      ]
     },
     "execution_count": 4,
     "metadata": {},
     "output_type": "execute_result"
    }
   ],
   "source": [
    "randomMaster"
   ]
  },
  {
   "cell_type": "code",
   "execution_count": 7,
   "metadata": {},
   "outputs": [],
   "source": [
    "from database import WalletDB\n",
    "class Wallet(MasterAccount):\n",
    "    \n",
    "    def __init__(self, depth, fingerprint, index, chain_code, private_key, db_user=\"neo4j\",db_password=\"wallet\", testnet = False):\n",
    "    \n",
    "        self.db = WalletDB( \"neo4j://localhost:7687\" ,db_user ,db_password )\n",
    "        super().__init__( depth, fingerprint, index, chain_code, private_key,testnet)\n",
    "    \n",
    "        #default_path = \"m/0H/0H/\"\n",
    "    \n",
    "    @classmethod\n",
    "    def get_i(self, index):\n",
    "        if index is None:\n",
    "            print(f\"get i: {index}\")\n",
    "            i = int.from_bytes(urandom(4),\"big\")\n",
    "            i = i & 0x7fffffff\n",
    "            if i < (2**31-1):print(\"true\")\n",
    "        else:\n",
    "            if index <= (2**31-1):\n",
    "                i = index\n",
    "            else:\n",
    "                raise Exception (f\"index must be less than {2**31-1} \")\n",
    "        return i"
   ]
  },
  {
   "cell_type": "code",
   "execution_count": 8,
   "metadata": {},
   "outputs": [
    {
     "name": "stdout",
     "output_type": "stream",
     "text": [
      "4933960591150646406868321461809681407901764142345244379015983801176516746423481472248937308553508371455470606969891426716528703436588950684463136235666946\n"
     ]
    },
    {
     "data": {
      "text/plain": [
       "tprv8ZgxMBicQKsPd6x1rHnvDSJf2YXV1xNqEVR7HRcrfPyqZHHwPxu2JAR4GoFHViVJ8AwvVY84dmyKeABW71227tbpwhvMgiyv8R8peYh4n8X"
      ]
     },
     "execution_count": 8,
     "metadata": {},
     "output_type": "execute_result"
    }
   ],
   "source": [
    "recoveryMaster = Wallet.recover_from_words(words, 256, \"Serna\",True)\n",
    "recoveryMaster"
   ]
  },
  {
   "cell_type": "code",
   "execution_count": null,
   "metadata": {},
   "outputs": [],
   "source": []
  }
 ],
 "metadata": {
  "kernelspec": {
   "display_name": "Python 3",
   "language": "python",
   "name": "python3"
  },
  "language_info": {
   "codemirror_mode": {
    "name": "ipython",
    "version": 3
   },
   "file_extension": ".py",
   "mimetype": "text/x-python",
   "name": "python",
   "nbconvert_exporter": "python",
   "pygments_lexer": "ipython3",
   "version": "3.7.3"
  }
 },
 "nbformat": 4,
 "nbformat_minor": 4
}
