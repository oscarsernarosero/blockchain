{
 "cells": [
  {
   "cell_type": "code",
   "execution_count": 577,
   "metadata": {},
   "outputs": [],
   "source": [
    "from binascii import hexlify\n",
    "from binascii import unhexlify\n",
    "from hashlib import sha256\n",
    "from hashlib import sha512\n",
    "import hmac\n",
    "from ecc import PrivateKey, S256Point, Signature\n",
    "from helper import encode_base58_checksum, decode_base58, decode_base58_extended, hash160\n",
    "from io import BytesIO, StringIO\n",
    "\n",
    "N = 0xfffffffffffffffffffffffffffffffebaaedce6af48a03bbfd25e8cd0364141"
   ]
  },
  {
   "cell_type": "code",
   "execution_count": 578,
   "metadata": {},
   "outputs": [
    {
     "data": {
      "text/plain": [
       "'\\nxtended_private_key = extended_privkey(master_priv_key, chain_code, 0)\\nxtended_private_key = encode_base58_checksum(xtended_private_key)\\nxtended_private_key\\n'"
      ]
     },
     "execution_count": 578,
     "metadata": {},
     "output_type": "execute_result"
    }
   ],
   "source": [
    "def extended_privkey(depth,finger_print,_index,chain_code,privkey, testnet=False):\n",
    "    if testnet:\n",
    "        version= 0x04358394.to_bytes(4,\"big\")\n",
    "    else:\n",
    "        version= 0x0488ade4.to_bytes(4,\"big\")\n",
    "    depth=depth.to_bytes(1,\"big\")\n",
    "    fingerprint =finger_print\n",
    "    index = _index.to_bytes(4,\"big\")\n",
    "    return version+depth+fingerprint+index+chain_code+b'\\x00'+privkey\n",
    "\n",
    "def deserialize_xprvk(s):\n",
    "    version = s.read(4)\n",
    "    depth = s.read(1)\n",
    "    fingerprint = s.read(4)\n",
    "    index= s.read(4)\n",
    "    chain_code = s.read(32)\n",
    "    s.read(1)\n",
    "    privkey = s.read(32)\n",
    "    return [version,depth, fingerprint,index,chain_code,privkey]\n",
    "\"\"\"\n",
    "xtended_private_key = extended_privkey(master_priv_key, chain_code, 0)\n",
    "xtended_private_key = encode_base58_checksum(xtended_private_key)\n",
    "xtended_private_key\n",
    "\"\"\""
   ]
  },
  {
   "cell_type": "code",
   "execution_count": 579,
   "metadata": {},
   "outputs": [
    {
     "data": {
      "text/plain": [
       "[b'\\x04\\x88\\xad\\xe4',\n",
       " b'\\x00',\n",
       " b'\\x00\\x00\\x00\\x00',\n",
       " b'\\x00\\x00\\x00\\x00',\n",
       " b'`I\\x9f\\x80\\x1b\\x89m\\x83\\x17\\x9aCt\\xae\\xb7\\x82*\\xae\\xac\\xea\\xa0\\xdb\\x1f\\x85\\xee>\\x90LM\\xef\\xbd\\x96\\x89',\n",
       " b\"K\\x03\\xd6\\xfc4\\x04U\\xb3c\\xf5\\x10 \\xad>\\xcc\\xa4\\xf0\\x85\\x02\\x80\\xcfClp\\xc7'\\x92?m\\xb4l>\"]"
      ]
     },
     "execution_count": 579,
     "metadata": {},
     "output_type": "execute_result"
    }
   ],
   "source": [
    "xtprvk = 'xprv9s21ZrQH143K31xYSDQpPDxsXRTUcvj2iNHm5NUtrGiGG5e2DtALGdso3pGz6ssrdK4PFmM8NSpSBHNqPqm55Qn3LqFtT2emdEXVYsCzC2U'\n",
    "decoded =deserialize_xprvk( BytesIO(decode_base58_extended(xtprvk)))\n",
    "decoded"
   ]
  },
  {
   "cell_type": "code",
   "execution_count": 580,
   "metadata": {},
   "outputs": [
    {
     "name": "stdout",
     "output_type": "stream",
     "text": [
      "0x488ade4\n",
      "0x0\n",
      "0x0\n",
      "0x0\n",
      "0x60499f801b896d83179a4374aeb7822aaeaceaa0db1f85ee3e904c4defbd9689\n",
      "0x4b03d6fc340455b363f51020ad3ecca4f0850280cf436c70c727923f6db46c3e\n"
     ]
    }
   ],
   "source": [
    "for x in decoded:\n",
    "    print(hex(int.from_bytes(x,\"big\")))"
   ]
  },
  {
   "cell_type": "code",
   "execution_count": 581,
   "metadata": {},
   "outputs": [],
   "source": [
    "master_priv_key = decoded[-1]\n",
    "chain_code = decoded[-2]"
   ]
  },
  {
   "cell_type": "code",
   "execution_count": 582,
   "metadata": {},
   "outputs": [
    {
     "name": "stdout",
     "output_type": "stream",
     "text": [
      "0xbd16bee5\n"
     ]
    }
   ],
   "source": [
    "pub_key = PrivateKey(int.from_bytes(master_priv_key,\"big\")).point.sec()\n",
    "finger_print = hash160(pub_key)[:4]\n",
    "print(hex(int.from_bytes(finger_print,\"big\")))"
   ]
  },
  {
   "cell_type": "code",
   "execution_count": 583,
   "metadata": {},
   "outputs": [],
   "source": [
    "i=0"
   ]
  },
  {
   "cell_type": "code",
   "execution_count": 584,
   "metadata": {},
   "outputs": [
    {
     "data": {
      "text/plain": [
       "b'\\x03\\xcb\\xca\\xa9\\xc9\\x8c\\x87z&\\x97}\\x00\\x82\\\\\\x95j#\\x8e\\x8d\\xdd\\xfb\\xd3\"\\xcc\\xe4\\xf7K\\x0b[\\xd6\\xac\\xe4\\xa7\\x00\\x00\\x00\\x00'"
      ]
     },
     "execution_count": 584,
     "metadata": {},
     "output_type": "execute_result"
    }
   ],
   "source": [
    "msg=pub_key + i.to_bytes(4,\"big\")\n",
    "msg"
   ]
  },
  {
   "cell_type": "code",
   "execution_count": 585,
   "metadata": {},
   "outputs": [],
   "source": [
    "I= hmac.new(\n",
    "            key = chain_code,\n",
    "            msg=msg ,\n",
    "            digestmod=sha512).digest()\n"
   ]
  },
  {
   "cell_type": "code",
   "execution_count": 586,
   "metadata": {},
   "outputs": [],
   "source": [
    "I_L, I_R = I[:32], I[32:]"
   ]
  },
  {
   "cell_type": "code",
   "execution_count": 587,
   "metadata": {},
   "outputs": [
    {
     "data": {
      "text/plain": [
       "'0xabe74a98f6c7eabee0428f53798f0ab8aa1bd37873999041703c742f15ac7e1e'"
      ]
     },
     "execution_count": 587,
     "metadata": {},
     "output_type": "execute_result"
    }
   ],
   "source": [
    "child_privkey_int = (int.from_bytes(I_L,\"big\") + int.from_bytes(master_priv_key,\"big\"))%N\n",
    "hex(child_privkey_int)"
   ]
  },
  {
   "cell_type": "code",
   "execution_count": 588,
   "metadata": {},
   "outputs": [],
   "source": [
    "child_privkey = PrivateKey(child_privkey_int).wif(compressed= True)"
   ]
  },
  {
   "cell_type": "code",
   "execution_count": 589,
   "metadata": {},
   "outputs": [],
   "source": [
    "child_chain_code = I_R"
   ]
  },
  {
   "cell_type": "code",
   "execution_count": 590,
   "metadata": {},
   "outputs": [
    {
     "data": {
      "text/plain": [
       "'L2ysLrR6KMSAtx7uPqmYpoTeiRzydXBattRXjXz5GDFPrdfPzKbj'"
      ]
     },
     "execution_count": 590,
     "metadata": {},
     "output_type": "execute_result"
    }
   ],
   "source": [
    "child_privkey"
   ]
  },
  {
   "cell_type": "code",
   "execution_count": 591,
   "metadata": {},
   "outputs": [
    {
     "data": {
      "text/plain": [
       "'0xf0909affaa7ee7abe5dd4e100598d4dc53cd709d5a5c2cac40e7412f232f7c9c'"
      ]
     },
     "execution_count": 591,
     "metadata": {},
     "output_type": "execute_result"
    }
   ],
   "source": [
    "hex(int.from_bytes(child_chain_code,\"big\"))"
   ]
  },
  {
   "cell_type": "code",
   "execution_count": 592,
   "metadata": {},
   "outputs": [
    {
     "data": {
      "text/plain": [
       "'0x2fc9e5af0ac8d9b3cecfe2a888e2117ba3d089d8585886c9c826b6b22a98d12ea'"
      ]
     },
     "execution_count": 592,
     "metadata": {},
     "output_type": "execute_result"
    }
   ],
   "source": [
    "hex(int.from_bytes(PrivateKey(child_privkey_int).point.sec(),\"big\"))"
   ]
  },
  {
   "cell_type": "code",
   "execution_count": 593,
   "metadata": {},
   "outputs": [
    {
     "data": {
      "text/plain": [
       "'xprv9vHkqa6EV4sPZHYqZznhT2NPtPCjKuDKGY38FBWLvgaDx45zo9WQRUT3dKYnjwih2yJD9mkrocEZXo1ex8G81dwSM1fwqWpWkeS3v86pgKt'"
      ]
     },
     "execution_count": 593,
     "metadata": {},
     "output_type": "execute_result"
    }
   ],
   "source": [
    "xtended_private_key = extended_privkey(1,finger_print,0,child_chain_code,child_privkey_int.to_bytes(32,\"big\"))\n",
    "xtended_private_key = encode_base58_checksum(xtended_private_key)\n",
    "xtended_private_key"
   ]
  },
  {
   "cell_type": "code",
   "execution_count": 594,
   "metadata": {},
   "outputs": [
    {
     "data": {
      "text/plain": [
       "(b'\\xbd\\x16\\xbe\\xe5',)"
      ]
     },
     "execution_count": 594,
     "metadata": {},
     "output_type": "execute_result"
    }
   ],
   "source": [
    " b'\\xbd\\x16\\xbe\\xe5',"
   ]
  },
  {
   "cell_type": "code",
   "execution_count": null,
   "metadata": {},
   "outputs": [],
   "source": []
  }
 ],
 "metadata": {
  "kernelspec": {
   "display_name": "Python 3",
   "language": "python",
   "name": "python3"
  },
  "language_info": {
   "codemirror_mode": {
    "name": "ipython",
    "version": 3
   },
   "file_extension": ".py",
   "mimetype": "text/x-python",
   "name": "python",
   "nbconvert_exporter": "python",
   "pygments_lexer": "ipython3",
   "version": "3.7.4"
  }
 },
 "nbformat": 4,
 "nbformat_minor": 4
}
