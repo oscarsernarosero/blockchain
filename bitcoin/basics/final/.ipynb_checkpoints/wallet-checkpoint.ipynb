{
 "cells": [
  {
   "cell_type": "code",
   "execution_count": 1,
   "metadata": {},
   "outputs": [],
   "source": [
    "from accounts import MasterAccount, Account, MultSigAccount\n",
    "from transactions import Transaction, MultiSigTransaction\n",
    "from os import urandom\n",
    "from database import WalletDB\n",
    "from blockcypher import get_address_details"
   ]
  },
  {
   "cell_type": "code",
   "execution_count": 2,
   "metadata": {},
   "outputs": [],
   "source": [
    "class Wallet(MasterAccount):\n",
    "    \n",
    "    def __init__(self, depth, fingerprint, index, chain_code, private_key, db_user=\"neo4j\",db_password=\"wallet\", testnet = False):\n",
    "    \n",
    "        self.db = WalletDB( \"neo4j://localhost:7687\" ,db_user ,db_password )\n",
    "        super().__init__( depth, fingerprint, index, chain_code, private_key,testnet)\n",
    "    \n",
    "        #default_path = \"m/0H/0H/\"\n",
    "    \n",
    "    @classmethod\n",
    "    def get_i(self, index):\n",
    "        if index is None:\n",
    "            print(f\"get i: {index}\")\n",
    "            i = int.from_bytes(urandom(4),\"big\")\n",
    "            i = i & 0x7fffffff\n",
    "            if i < (2**31-1):print(\"true\")\n",
    "        else:\n",
    "            if index <= (2**31-1):\n",
    "                i = index\n",
    "            else:\n",
    "                raise Exception (f\"index must be less than {2**31-1} \")\n",
    "        return i\n",
    "\n",
    "    #@classmethod\n",
    "    def create_receiving_address(self, addr_type = \"p2pkh\",index=None):\n",
    "        receiving_path = \"m/0H/2H/\"\n",
    "        i = self.get_i(index)\n",
    "        path = receiving_path + str(i)\n",
    "        print(f\"Path: {path}\")\n",
    "        receiving_xtended_acc = self.get_child_from_path(path)\n",
    "        account = Account(int.from_bytes(receiving_xtended_acc.private_key,\"big\"),addr_type, self.testnet )\n",
    "        self.db.new_address(account.address,i,False)\n",
    "        return account\n",
    "\n",
    "    #@classmethod\n",
    "    def create_change_address(self,addr_type = \"p2wpkh\", index=None):\n",
    "        change_path = \"m/0H/1H/\"\n",
    "        i = self.get_i(index)\n",
    "        path = change_path + str(i)\n",
    "        print(f\"Path: {path}\")\n",
    "        change_xtended_acc = self.get_child_from_path(path)\n",
    "        account = Account(int.from_bytes(change_xtended_acc.private_key,\"big\"),addr_type, self.testnet )\n",
    "        self.db.new_address(account.address,i,True)\n",
    "        return account\n",
    "    \n",
    "    def get_utxos(self):\n",
    "        return self.db.look_for_coins()\n",
    "        \n",
    "    def get_balance(self):\n",
    "        coins = self.get_utxos()\n",
    "        balance = 0\n",
    "        for coin in coins:\n",
    "            balance += coin[\"coin.amount\"]\n",
    "        return balance\n",
    "\n",
    "    def update_balance(self):\n",
    "        addresses = self.db.get_all_addresses()\n",
    "        \n",
    "        if self.testnet: coin_symbol = \"btc-testnet\"\n",
    "        else: coin_symbol = \"btc\"\n",
    "            \n",
    "        for address in addresses:\n",
    "            \n",
    "            addr_info = get_address_details(address[\"addr.address\"], coin_symbol = coin_symbol, unspent_only=True)\n",
    "            \n",
    "            if addr_info[\"unconfirmed_n_tx\"] > 0:\n",
    "                for utxo in addr_info[\"unconfirmed_txrefs\"]:\n",
    "                    if not self.db.exists_utxo( utxo[\"tx_hash\"], utxo[\"tx_output_n\"], False):\n",
    "                        print(\"new unconfirmed UTXO\")\n",
    "                        self.db.new_utxo(utxo[\"address\"],utxo[\"tx_hash\"],utxo[\"tx_output_n\"],utxo[\"value\"],False)\n",
    "            \n",
    "            if addr_info[\"n_tx\"] - addr_info[\"unconfirmed_n_tx\"] > 0 :\n",
    "                for utxo in addr_info[\"txrefs\"]:\n",
    "                    if not self.db.exists_utxo( utxo[\"tx_hash\"], utxo[\"tx_output_n\"], True):\n",
    "                        print(\"new confirmed UTXO\")\n",
    "                        self.db.new_utxo(addr_info[\"address\"],utxo[\"tx_hash\"],utxo[\"tx_output_n\"],utxo[\"value\"],True)\n",
    "      \n",
    "        return self.get_balance()\n",
    "    \n",
    "    #@classmethod\n",
    "    #def create_multisig_account(m,public_key_list,account,addr_type=\"p2sh\", testnet = False, segwit=True):\n",
    "    #    n = len(public_key_list)\n",
    "    #    return MultiSigTransaction(m, n, int.from_bytes(account.private_key,\"big\"), public_key_list, addr_type, testnet, segwit)\n",
    "\n",
    "    #@classmethod\n",
    "    def send(self, to_address_amount_list, segwit=True):\n",
    "        \"\"\"\n",
    "        to_address can be a single address or a list.\n",
    "        amount can be an integer or a list of integers.\n",
    "        If they are lists, they must be ordered in the same way. address 1 will e sent amount 1, \n",
    "        adrress 2 will be sent amount2.. adress n will be sent amount n.\n",
    "        \"\"\"\n",
    "        total_amount = 0\n",
    "        for output in to_address_amount_list:\n",
    "            total_amount += output[1]\n",
    "            \n",
    "        balance = self.get_balance()\n",
    "        if total_amount>balance:\n",
    "            raise Exception(f\"Not enough funds in wallet for this transaction.\\nOnly {balance} satoshis available\")\n",
    "            \n",
    "        all_utxos = self.get_utxos()\n",
    "        utxos = []\n",
    "        utxo_total = 0\n",
    "        for utxo in all_utxos:\n",
    "            utxos.append(utxo)\n",
    "            utxo_total += utxo[\"coin.amount\"]\n",
    "            if utxo_total>total_amount: break\n",
    "        change_account = self.create_change_address()\n",
    "          \n",
    "        tx = Transaction.create_from_master( utxos,to_address_amount_list, self,change_account,\n",
    "                           fee=None, segwit=segwit)\n",
    "        self.db.new_tx(hex(tx.transaction.id),[x[\"coin.local_index\"] for x in utxos], \n",
    "                       [str(x[0])+\":\"+str(x[1]) for x in to_address_amount_list])\n",
    "        \n",
    "        return tx\n",
    "        \n",
    "    \n",
    "    "
   ]
  },
  {
   "cell_type": "code",
   "execution_count": 3,
   "metadata": {},
   "outputs": [
    {
     "data": {
      "text/plain": [
       "tprv8ZgxMBicQKsPfQJYjuFAso9x6STzmUdMh5U8CQqqQUTgtQHBHCq4C7FseeeZg15L16UeSwbrLwJRTXNPQsJQwqvbBA11sn4M6c3jR1LwAQP"
      ]
     },
     "execution_count": 3,
     "metadata": {},
     "output_type": "execute_result"
    }
   ],
   "source": [
    "words = \"engine over neglect science fatigue dawn axis parent mind man escape era goose border invest slab relax bind desert hurry useless lonely frozen morning\"\n",
    "my_wallet = Wallet.recover_from_words(words, 256, \"RobertPauslon\",True)\n",
    "my_wallet"
   ]
  },
  {
   "cell_type": "code",
   "execution_count": 16,
   "metadata": {},
   "outputs": [
    {
     "name": "stdout",
     "output_type": "stream",
     "text": [
      "before: None\n",
      "get i: None\n",
      "true\n",
      "Path: m/0H/1H/1920255512\n",
      "<Record a=<Path start=<Node id=1 labels={'address'} properties={'address': 'tb1q33psda8sztpq3lc27jyqy5mx57c606x2w70n5h', 'type': 'change', 'acc_index': 1920255512, 'created': 1586288905624}> end=<Node id=1 labels={'address'} properties={'address': 'tb1q33psda8sztpq3lc27jyqy5mx57c606x2w70n5h', 'type': 'change', 'acc_index': 1920255512, 'created': 1586288905624}> size=0>>\n"
     ]
    }
   ],
   "source": [
    "change_addr = my_wallet.create_change_address()"
   ]
  },
  {
   "cell_type": "code",
   "execution_count": 17,
   "metadata": {},
   "outputs": [
    {
     "name": "stdout",
     "output_type": "stream",
     "text": [
      "before: None\n",
      "get i: None\n",
      "true\n",
      "Path: m/0H/2H/1091795145\n",
      "<Record a=<Path start=<Node id=17 labels={'address'} properties={'address': 'n4nzNicx9sYzH6kHa6cVVVSD8nbS7jHFfd', 'type': 'recipient', 'acc_index': 1091795145, 'created': 1586288909972}> end=<Node id=17 labels={'address'} properties={'address': 'n4nzNicx9sYzH6kHa6cVVVSD8nbS7jHFfd', 'type': 'recipient', 'acc_index': 1091795145, 'created': 1586288909972}> size=0>>\n"
     ]
    }
   ],
   "source": [
    "receiving_addr = my_wallet.create_receiving_address()"
   ]
  },
  {
   "cell_type": "code",
   "execution_count": 18,
   "metadata": {},
   "outputs": [
    {
     "data": {
      "text/plain": [
       "'tb1q33psda8sztpq3lc27jyqy5mx57c606x2w70n5h'"
      ]
     },
     "execution_count": 18,
     "metadata": {},
     "output_type": "execute_result"
    }
   ],
   "source": [
    "change_addr.address"
   ]
  },
  {
   "cell_type": "code",
   "execution_count": 19,
   "metadata": {},
   "outputs": [
    {
     "data": {
      "text/plain": [
       "'n4nzNicx9sYzH6kHa6cVVVSD8nbS7jHFfd'"
      ]
     },
     "execution_count": 19,
     "metadata": {},
     "output_type": "execute_result"
    }
   ],
   "source": [
    "receiving_addr.address\n"
   ]
  },
  {
   "cell_type": "code",
   "execution_count": 4,
   "metadata": {},
   "outputs": [
    {
     "name": "stdout",
     "output_type": "stream",
     "text": [
      "<Record p=<Path start=<Node id=6 labels={'utxo'} properties={'transaction_id': '865bb2159bf4303e62cc6db1a55cdd5faf7cf553dddaac9436e79e2f58127900', 'out_index': 1, 'amount': 1000000, 'address': 'tb1q33psda8sztpq3lc27jyqy5mx57c606x2w70n5h', 'spent': False, 'local_index': 2, 'confirmed': False}> end=<Node id=1 labels={'address'} properties={'address': 'tb1q33psda8sztpq3lc27jyqy5mx57c606x2w70n5h', 'type': 'change', 'acc_index': 1920255512, 'created': 1586288905624}> size=1>>\n",
      "<Record p=<Path start=<Node id=7 labels={'utxo'} properties={'transaction_id': '0715c2c52bb1da89d4fc9df846b1eeac03df3c9155b8ded50889955dcb8d9f55', 'out_index': 1, 'amount': 10000, 'address': 'tb1q33psda8sztpq3lc27jyqy5mx57c606x2w70n5h', 'spent': False, 'local_index': 3, 'confirmed': False}> end=<Node id=1 labels={'address'} properties={'address': 'tb1q33psda8sztpq3lc27jyqy5mx57c606x2w70n5h', 'type': 'change', 'acc_index': 1920255512, 'created': 1586288905624}> size=1>>\n",
      "<Record p=<Path start=<Node id=8 labels={'utxo'} properties={'transaction_id': '9e7515d296dbe01873a7e262ce947f7d0e7e54634f62a5e08a5ee68ea52863fa', 'out_index': 0, 'amount': 1000000, 'address': 'n4nzNicx9sYzH6kHa6cVVVSD8nbS7jHFfd', 'spent': False, 'local_index': 4, 'confirmed': False}> end=<Node id=17 labels={'address'} properties={'address': 'n4nzNicx9sYzH6kHa6cVVVSD8nbS7jHFfd', 'type': 'recipient', 'acc_index': 1091795145, 'created': 1586288909972}> size=1>>\n"
     ]
    },
    {
     "data": {
      "text/plain": [
       "2082000"
      ]
     },
     "execution_count": 4,
     "metadata": {},
     "output_type": "execute_result"
    }
   ],
   "source": [
    "my_wallet.update_balance()"
   ]
  },
  {
   "cell_type": "code",
   "execution_count": 7,
   "metadata": {},
   "outputs": [
    {
     "data": {
      "text/plain": [
       "[{'coin.transaction_id': 'a6ceadf7f2fc57cbb7f0f648fb6e9d69fd9c67f8ddff3f5f6bcd34d3e362e2a5',\n",
       "  'coin.out_index': 0,\n",
       "  'coin.address': 'tb1q33psda8sztpq3lc27jyqy5mx57c606x2w70n5h',\n",
       "  'coin.amount': 22000},\n",
       " {'coin.transaction_id': '7e466d74ee32e8fe611c11ac86b9b7c39996ff9476ea09875a06f02ecab42ada',\n",
       "  'coin.out_index': 1,\n",
       "  'coin.address': 'n4nzNicx9sYzH6kHa6cVVVSD8nbS7jHFfd',\n",
       "  'coin.amount': 50000},\n",
       " {'coin.transaction_id': '865bb2159bf4303e62cc6db1a55cdd5faf7cf553dddaac9436e79e2f58127900',\n",
       "  'coin.out_index': 1,\n",
       "  'coin.address': 'tb1q33psda8sztpq3lc27jyqy5mx57c606x2w70n5h',\n",
       "  'coin.amount': 1000000},\n",
       " {'coin.transaction_id': '0715c2c52bb1da89d4fc9df846b1eeac03df3c9155b8ded50889955dcb8d9f55',\n",
       "  'coin.out_index': 1,\n",
       "  'coin.address': 'tb1q33psda8sztpq3lc27jyqy5mx57c606x2w70n5h',\n",
       "  'coin.amount': 10000},\n",
       " {'coin.transaction_id': '9e7515d296dbe01873a7e262ce947f7d0e7e54634f62a5e08a5ee68ea52863fa',\n",
       "  'coin.out_index': 0,\n",
       "  'coin.address': 'n4nzNicx9sYzH6kHa6cVVVSD8nbS7jHFfd',\n",
       "  'coin.amount': 1000000}]"
      ]
     },
     "execution_count": 7,
     "metadata": {},
     "output_type": "execute_result"
    }
   ],
   "source": [
    "my_wallet.get_utxos()"
   ]
  },
  {
   "cell_type": "code",
   "execution_count": 25,
   "metadata": {},
   "outputs": [],
   "source": [
    "\n",
    "ddd = get_address_details('n4nzNicx9sYzH6kHa6cVVVSD8nbS7jHFfd', coin_symbol = \"btc-testnet\", unspent_only=True)"
   ]
  },
  {
   "cell_type": "code",
   "execution_count": 26,
   "metadata": {},
   "outputs": [
    {
     "data": {
      "text/plain": [
       "{'address': 'n4nzNicx9sYzH6kHa6cVVVSD8nbS7jHFfd',\n",
       " 'total_received': 50000,\n",
       " 'total_sent': 0,\n",
       " 'balance': 50000,\n",
       " 'unconfirmed_balance': 0,\n",
       " 'final_balance': 50000,\n",
       " 'n_tx': 1,\n",
       " 'unconfirmed_n_tx': 0,\n",
       " 'final_n_tx': 1,\n",
       " 'txrefs': [{'tx_hash': '7e466d74ee32e8fe611c11ac86b9b7c39996ff9476ea09875a06f02ecab42ada',\n",
       "   'block_height': 1696602,\n",
       "   'tx_input_n': -1,\n",
       "   'tx_output_n': 1,\n",
       "   'value': 50000,\n",
       "   'ref_balance': 50000,\n",
       "   'spent': False,\n",
       "   'confirmations': 2,\n",
       "   'confirmed': datetime.datetime(2020, 4, 7, 21, 47, 41, tzinfo=tzutc()),\n",
       "   'double_spend': False}],\n",
       " 'tx_url': 'https://api.blockcypher.com/v1/btc/test3/txs/',\n",
       " 'unconfirmed_txrefs': []}"
      ]
     },
     "execution_count": 26,
     "metadata": {},
     "output_type": "execute_result"
    }
   ],
   "source": [
    "ddd"
   ]
  },
  {
   "cell_type": "code",
   "execution_count": 27,
   "metadata": {},
   "outputs": [
    {
     "ename": "KeyError",
     "evalue": "'address'",
     "output_type": "error",
     "traceback": [
      "\u001b[0;31m---------------------------------------------------------------------------\u001b[0m",
      "\u001b[0;31mKeyError\u001b[0m                                  Traceback (most recent call last)",
      "\u001b[0;32m<ipython-input-27-8cf57787ff8c>\u001b[0m in \u001b[0;36m<module>\u001b[0;34m\u001b[0m\n\u001b[0;32m----> 1\u001b[0;31m \u001b[0mddd\u001b[0m\u001b[0;34m[\u001b[0m\u001b[0;34m\"txrefs\"\u001b[0m\u001b[0;34m]\u001b[0m\u001b[0;34m[\u001b[0m\u001b[0;36m0\u001b[0m\u001b[0;34m]\u001b[0m\u001b[0;34m[\u001b[0m\u001b[0;34m\"address\"\u001b[0m\u001b[0;34m]\u001b[0m\u001b[0;34m\u001b[0m\u001b[0;34m\u001b[0m\u001b[0m\n\u001b[0m",
      "\u001b[0;31mKeyError\u001b[0m: 'address'"
     ]
    }
   ],
   "source": [
    "ddd[\"txrefs\"][0][\"address\"]"
   ]
  },
  {
   "cell_type": "code",
   "execution_count": 28,
   "metadata": {},
   "outputs": [
    {
     "data": {
      "text/plain": [
       "50000"
      ]
     },
     "execution_count": 28,
     "metadata": {},
     "output_type": "execute_result"
    }
   ],
   "source": [
    "ddd[\"txrefs\"][0][\"value\"]"
   ]
  },
  {
   "cell_type": "code",
   "execution_count": 29,
   "metadata": {},
   "outputs": [
    {
     "data": {
      "text/plain": [
       "'7e466d74ee32e8fe611c11ac86b9b7c39996ff9476ea09875a06f02ecab42ada'"
      ]
     },
     "execution_count": 29,
     "metadata": {},
     "output_type": "execute_result"
    }
   ],
   "source": [
    "ddd[\"txrefs\"][0][\"tx_hash\"]"
   ]
  },
  {
   "cell_type": "code",
   "execution_count": 30,
   "metadata": {},
   "outputs": [
    {
     "data": {
      "text/plain": [
       "1"
      ]
     },
     "execution_count": 30,
     "metadata": {},
     "output_type": "execute_result"
    }
   ],
   "source": [
    "ddd[\"txrefs\"][0][\"tx_output_n\"]"
   ]
  },
  {
   "cell_type": "code",
   "execution_count": 31,
   "metadata": {},
   "outputs": [
    {
     "data": {
      "text/plain": [
       "0"
      ]
     },
     "execution_count": 31,
     "metadata": {},
     "output_type": "execute_result"
    }
   ],
   "source": [
    "ddd[\"unconfirmed_n_tx\"]"
   ]
  },
  {
   "cell_type": "code",
   "execution_count": 38,
   "metadata": {},
   "outputs": [],
   "source": [
    "ddd2 = ddd[\"txrefs\"]"
   ]
  },
  {
   "cell_type": "code",
   "execution_count": 40,
   "metadata": {},
   "outputs": [
    {
     "data": {
      "text/plain": [
       "{'tx_hash': '7e466d74ee32e8fe611c11ac86b9b7c39996ff9476ea09875a06f02ecab42ada',\n",
       " 'block_height': 1696602,\n",
       " 'tx_input_n': -1,\n",
       " 'tx_output_n': 1,\n",
       " 'value': 50000,\n",
       " 'ref_balance': 50000,\n",
       " 'spent': False,\n",
       " 'confirmations': 2,\n",
       " 'confirmed': datetime.datetime(2020, 4, 7, 21, 47, 41, tzinfo=tzutc()),\n",
       " 'double_spend': False}"
      ]
     },
     "execution_count": 40,
     "metadata": {},
     "output_type": "execute_result"
    }
   ],
   "source": [
    "ddd2[0]"
   ]
  },
  {
   "cell_type": "code",
   "execution_count": 5,
   "metadata": {},
   "outputs": [],
   "source": [
    "x = [{'coin.amount': 22000, 'coin.confirmed': True}]"
   ]
  },
  {
   "cell_type": "code",
   "execution_count": 6,
   "metadata": {},
   "outputs": [
    {
     "data": {
      "text/plain": [
       "{'coin.amount': 22000, 'coin.confirmed': True}"
      ]
     },
     "execution_count": 6,
     "metadata": {},
     "output_type": "execute_result"
    }
   ],
   "source": [
    "x[0]"
   ]
  },
  {
   "cell_type": "code",
   "execution_count": 4,
   "metadata": {},
   "outputs": [
    {
     "name": "stdout",
     "output_type": "stream",
     "text": [
      "get i: None\n",
      "true\n",
      "Path: m/0H/1H/6825622\n",
      "<Record a=<Path start=<Node id=10 labels={'address'} properties={'address': 'tb1qf703v8x60sxgag3zz8xxg770axr2nm63f8tjqc', 'type': 'change', 'acc_index': 6825622, 'created': 1586399418999}> end=<Node id=10 labels={'address'} properties={'address': 'tb1qf703v8x60sxgag3zz8xxg770axr2nm63f8tjqc', 'type': 'change', 'acc_index': 6825622, 'created': 1586399418999}> size=0>>\n",
      "size of transaction without signatures: 574\n",
      "fee: 17220\n",
      "change 564780\n",
      "total 2082000, diff: 0\n",
      "Address trying to spend from: tb1q33psda8sztpq3lc27jyqy5mx57c606x2w70n5h\n",
      "tb1q33psda8sztpq3lc27jyqy5mx57c606x2w70n5h\n",
      "\n",
      "ABOUT TO SIGN INPUT\n",
      "\n",
      "SIGNING INPUT Segwit: \n",
      "Witness:\n",
      "[b\"0D\\x02 F\\xe4=\\xde\\x11\\x7f]\\xc72\\xf9\\x9d\\x84\\xc6\\x8b\\xf2 \\xd2\\x07\\xe6\\x0e3+=\\x88\\xe6\\xb2\\xceg\\x13\\xef\\xef'\\x02 s\\x83\\x93HFh\\xc6J\\x9ab`a2\\xefv\\xfc\\xbf\\x01\\xb4XX+y\\x8aB+\\xcb\\xe9\\xaen(B\\x01\", b'\\x02\\x1ebg\\x15d\\x9d\\x11\\xae5\\x0b\\xa9\\x82\\xa1\\xf3\\x8d\\x19\\xe2`<Kt\\xd0C<\\x19\\x11\\xed\\x0f@z%\\xdc'] \n",
      "script_pubkey of tx IN: OP_0 8c4306f4f012c208ff0af488025366a7b1a7e8ca\n",
      "\n",
      "combined script[0, b'\\x8cC\\x06\\xf4\\xf0\\x12\\xc2\\x08\\xff\\n\\xf4\\x88\\x02Sf\\xa7\\xb1\\xa7\\xe8\\xca']\n",
      "\n",
      "Address trying to spend from: n4nzNicx9sYzH6kHa6cVVVSD8nbS7jHFfd\n",
      "n4nzNicx9sYzH6kHa6cVVVSD8nbS7jHFfd\n",
      "\n",
      "ABOUT TO SIGN INPUT\n",
      "\n",
      "SIGNING INPUT not segwit: \n",
      "SCRIPT SIG:\n",
      "3045022100b1d7355018b086355e6f3d1c48ae7434b2f4673bcc74cb87255df386d62db7b90220642aad65c2b1d06f8c25b402ebfbdf7249f8135f9bfd285f9ba704fb4691367a01 03c4f459d7fc4629543aa13b34f9123edecea3bd8d3769678e9902919e5dc44ec6 \n",
      "script_pubkey of tx IN: OP_DUP OP_HASH160 ff5348f9e2a71bf6bdd17dab47d94ae89f3443bf OP_EQUALVERIFY OP_CHECKSIG\n",
      "\n",
      "combined script[b'0E\\x02!\\x00\\xb1\\xd75P\\x18\\xb0\\x865^o=\\x1cH\\xaet4\\xb2\\xf4g;\\xcct\\xcb\\x87%]\\xf3\\x86\\xd6-\\xb7\\xb9\\x02 d*\\xade\\xc2\\xb1\\xd0o\\x8c%\\xb4\\x02\\xeb\\xfb\\xdfrI\\xf8\\x13_\\x9b\\xfd(_\\x9b\\xa7\\x04\\xfbF\\x916z\\x01', b'\\x03\\xc4\\xf4Y\\xd7\\xfcF)T:\\xa1;4\\xf9\\x12>\\xde\\xce\\xa3\\xbd\\x8d7ig\\x8e\\x99\\x02\\x91\\x9e]\\xc4N\\xc6', 118, 169, b'\\xffSH\\xf9\\xe2\\xa7\\x1b\\xf6\\xbd\\xd1}\\xabG\\xd9J\\xe8\\x9f4C\\xbf', 136, 172]\n",
      "\n",
      "Address trying to spend from: tb1q33psda8sztpq3lc27jyqy5mx57c606x2w70n5h\n",
      "tb1q33psda8sztpq3lc27jyqy5mx57c606x2w70n5h\n",
      "\n",
      "ABOUT TO SIGN INPUT\n",
      "\n",
      "SIGNING INPUT Segwit: \n",
      "Witness:\n",
      "[b'0E\\x02!\\x00\\xa2\\xc1\\xd4\\xef\\x07\\xad\\x96\\xb7)\\xa0z\\x87\\x014Z\\xd6t\\xdf\\x01\\x0b\\xd9\\xf0\\x96\\xefbI\\xfbh\\x9d\\x96\\x1d\\xca\\x02 \\x15P\\x7fi+t\\x9ep\\x88\\xa98{Ry\\x18a\\xc6\\xcf\\xd2\\xa1\\xf7i\\x1a\\xb6\\x9b\\\\\\x96\\xfd\\xfd\\xb2\\x87C\\x01', b'\\x02\\x1ebg\\x15d\\x9d\\x11\\xae5\\x0b\\xa9\\x82\\xa1\\xf3\\x8d\\x19\\xe2`<Kt\\xd0C<\\x19\\x11\\xed\\x0f@z%\\xdc'] \n",
      "script_pubkey of tx IN: OP_0 8c4306f4f012c208ff0af488025366a7b1a7e8ca\n",
      "\n",
      "combined script[0, b'\\x8cC\\x06\\xf4\\xf0\\x12\\xc2\\x08\\xff\\n\\xf4\\x88\\x02Sf\\xa7\\xb1\\xa7\\xe8\\xca']\n",
      "\n",
      "Address trying to spend from: tb1q33psda8sztpq3lc27jyqy5mx57c606x2w70n5h\n",
      "tb1q33psda8sztpq3lc27jyqy5mx57c606x2w70n5h\n",
      "\n",
      "ABOUT TO SIGN INPUT\n",
      "\n",
      "SIGNING INPUT Segwit: \n",
      "Witness:\n",
      "[b'0D\\x02 \\x7f\\xff3\\xd1\\xfe\\xd0\\xaf~R\\x98\\x1b\\xd4T\\xf0\\xbc.\\x8e\\xf9\\xdc\\x8c\\xe3\\xe0+G7\\x7f\\xf5\\xde\\xe9N\\x13\\xa9\\x02 \\x19\\x13 4\\xfb\\xcd,\\xeb\\x1a\\x8b\\x12\\x88\\x0fIW\\xef9\\xef1\\x19\\x9dRx\\xe7\\xb5\\t\\xc5\\n5L\\xd3\\xbe\\x01', b'\\x02\\x1ebg\\x15d\\x9d\\x11\\xae5\\x0b\\xa9\\x82\\xa1\\xf3\\x8d\\x19\\xe2`<Kt\\xd0C<\\x19\\x11\\xed\\x0f@z%\\xdc'] \n",
      "script_pubkey of tx IN: OP_0 8c4306f4f012c208ff0af488025366a7b1a7e8ca\n",
      "\n",
      "combined script[0, b'\\x8cC\\x06\\xf4\\xf0\\x12\\xc2\\x08\\xff\\n\\xf4\\x88\\x02Sf\\xa7\\xb1\\xa7\\xe8\\xca']\n",
      "\n",
      "Address trying to spend from: n4nzNicx9sYzH6kHa6cVVVSD8nbS7jHFfd\n",
      "n4nzNicx9sYzH6kHa6cVVVSD8nbS7jHFfd\n",
      "\n",
      "ABOUT TO SIGN INPUT\n",
      "\n",
      "SIGNING INPUT not segwit: \n",
      "SCRIPT SIG:\n",
      "3045022100b64cf66827b924c30b27e26c6b4582deb2f5787b61f8e6394b1ab06a40120028022047b6f3cfb3aed32db226310c7aedf08945fdb58ef92af7d7fe0096c92314a17601 03c4f459d7fc4629543aa13b34f9123edecea3bd8d3769678e9902919e5dc44ec6 \n",
      "script_pubkey of tx IN: OP_DUP OP_HASH160 ff5348f9e2a71bf6bdd17dab47d94ae89f3443bf OP_EQUALVERIFY OP_CHECKSIG\n",
      "\n",
      "combined script[b\"0E\\x02!\\x00\\xb6L\\xf6h'\\xb9$\\xc3\\x0b'\\xe2lkE\\x82\\xde\\xb2\\xf5x{a\\xf8\\xe69K\\x1a\\xb0j@\\x12\\x00(\\x02 G\\xb6\\xf3\\xcf\\xb3\\xae\\xd3-\\xb2&1\\x0cz\\xed\\xf0\\x89E\\xfd\\xb5\\x8e\\xf9*\\xf7\\xd7\\xfe\\x00\\x96\\xc9#\\x14\\xa1v\\x01\", b'\\x03\\xc4\\xf4Y\\xd7\\xfcF)T:\\xa1;4\\xf9\\x12>\\xde\\xce\\xa3\\xbd\\x8d7ig\\x8e\\x99\\x02\\x91\\x9e]\\xc4N\\xc6', 118, 169, b'\\xffSH\\xf9\\xe2\\xa7\\x1b\\xf6\\xbd\\xd1}\\xabG\\xd9J\\xe8\\x9f4C\\xbf', 136, 172]\n",
      "\n",
      "None\n"
     ]
    }
   ],
   "source": [
    "my_tx = my_wallet.send([(\"mo3WWB4PoSHrudEBik1nUqfn1uZEPNYEc8\",1500000)])"
   ]
  },
  {
   "cell_type": "code",
   "execution_count": 5,
   "metadata": {},
   "outputs": [
    {
     "ename": "TypeError",
     "evalue": "object of type 'NoneType' has no len()",
     "output_type": "error",
     "traceback": [
      "\u001b[0;31m---------------------------------------------------------------------------\u001b[0m",
      "\u001b[0;31mTypeError\u001b[0m                                 Traceback (most recent call last)",
      "\u001b[0;32m<ipython-input-5-87e66ff73a88>\u001b[0m in \u001b[0;36m<module>\u001b[0;34m\u001b[0m\n\u001b[0;32m----> 1\u001b[0;31m \u001b[0mmy_tx\u001b[0m\u001b[0;34m.\u001b[0m\u001b[0mtransaction\u001b[0m\u001b[0;34m.\u001b[0m\u001b[0mserialize\u001b[0m\u001b[0;34m(\u001b[0m\u001b[0;34m)\u001b[0m\u001b[0;34m.\u001b[0m\u001b[0mhex\u001b[0m\u001b[0;34m(\u001b[0m\u001b[0;34m)\u001b[0m\u001b[0;34m\u001b[0m\u001b[0;34m\u001b[0m\u001b[0m\n\u001b[0m",
      "\u001b[0;32m~/Documents/US/Rice U/blockchain/bitcoin/basics/final/tx.py\u001b[0m in \u001b[0;36mserialize\u001b[0;34m(self)\u001b[0m\n\u001b[1;32m    184\u001b[0m     \u001b[0;32mdef\u001b[0m \u001b[0mserialize\u001b[0m\u001b[0;34m(\u001b[0m\u001b[0mself\u001b[0m\u001b[0;34m)\u001b[0m\u001b[0;34m:\u001b[0m\u001b[0;34m\u001b[0m\u001b[0;34m\u001b[0m\u001b[0m\n\u001b[1;32m    185\u001b[0m         \u001b[0;32mif\u001b[0m \u001b[0mself\u001b[0m\u001b[0;34m.\u001b[0m\u001b[0msegwit\u001b[0m\u001b[0;34m:\u001b[0m\u001b[0;34m\u001b[0m\u001b[0;34m\u001b[0m\u001b[0m\n\u001b[0;32m--> 186\u001b[0;31m             \u001b[0;32mreturn\u001b[0m \u001b[0mself\u001b[0m\u001b[0;34m.\u001b[0m\u001b[0mserialize_segwit\u001b[0m\u001b[0;34m(\u001b[0m\u001b[0;34m)\u001b[0m\u001b[0;34m\u001b[0m\u001b[0;34m\u001b[0m\u001b[0m\n\u001b[0m\u001b[1;32m    187\u001b[0m         \u001b[0;32melse\u001b[0m\u001b[0;34m:\u001b[0m\u001b[0;34m\u001b[0m\u001b[0;34m\u001b[0m\u001b[0m\n\u001b[1;32m    188\u001b[0m             \u001b[0;32mreturn\u001b[0m \u001b[0mself\u001b[0m\u001b[0;34m.\u001b[0m\u001b[0mserialize_legacy\u001b[0m\u001b[0;34m(\u001b[0m\u001b[0;34m)\u001b[0m\u001b[0;34m\u001b[0m\u001b[0;34m\u001b[0m\u001b[0m\n",
      "\u001b[0;32m~/Documents/US/Rice U/blockchain/bitcoin/basics/final/tx.py\u001b[0m in \u001b[0;36mserialize_segwit\u001b[0;34m(self)\u001b[0m\n\u001b[1;32m    210\u001b[0m         \u001b[0;32mfor\u001b[0m \u001b[0mtx_in\u001b[0m \u001b[0;32min\u001b[0m \u001b[0mself\u001b[0m\u001b[0;34m.\u001b[0m\u001b[0mtx_ins\u001b[0m\u001b[0;34m:\u001b[0m  \u001b[0;31m# <3>\u001b[0m\u001b[0;34m\u001b[0m\u001b[0;34m\u001b[0m\u001b[0m\n\u001b[1;32m    211\u001b[0m             \u001b[0;32mif\u001b[0m \u001b[0mtx_in\u001b[0m\u001b[0;34m.\u001b[0m\u001b[0mwitness\u001b[0m \u001b[0;32mis\u001b[0m \u001b[0;32mNone\u001b[0m\u001b[0;34m:\u001b[0m \u001b[0;32mpass\u001b[0m\u001b[0;34m\u001b[0m\u001b[0;34m\u001b[0m\u001b[0m\n\u001b[0;32m--> 212\u001b[0;31m             \u001b[0mresult\u001b[0m \u001b[0;34m+=\u001b[0m \u001b[0mint_to_little_endian\u001b[0m\u001b[0;34m(\u001b[0m\u001b[0mlen\u001b[0m\u001b[0;34m(\u001b[0m\u001b[0mtx_in\u001b[0m\u001b[0;34m.\u001b[0m\u001b[0mwitness\u001b[0m\u001b[0;34m)\u001b[0m\u001b[0;34m,\u001b[0m \u001b[0;36m1\u001b[0m\u001b[0;34m)\u001b[0m\u001b[0;34m\u001b[0m\u001b[0;34m\u001b[0m\u001b[0m\n\u001b[0m\u001b[1;32m    213\u001b[0m             \u001b[0;32mfor\u001b[0m \u001b[0mitem\u001b[0m \u001b[0;32min\u001b[0m \u001b[0mtx_in\u001b[0m\u001b[0;34m.\u001b[0m\u001b[0mwitness\u001b[0m\u001b[0;34m:\u001b[0m\u001b[0;34m\u001b[0m\u001b[0;34m\u001b[0m\u001b[0m\n\u001b[1;32m    214\u001b[0m                 \u001b[0;32mif\u001b[0m \u001b[0mtype\u001b[0m\u001b[0;34m(\u001b[0m\u001b[0mitem\u001b[0m\u001b[0;34m)\u001b[0m \u001b[0;34m==\u001b[0m \u001b[0mint\u001b[0m\u001b[0;34m:\u001b[0m\u001b[0;34m\u001b[0m\u001b[0;34m\u001b[0m\u001b[0m\n",
      "\u001b[0;31mTypeError\u001b[0m: object of type 'NoneType' has no len()"
     ]
    }
   ],
   "source": [
    "my_tx.transaction.serialize().hex()"
   ]
  },
  {
   "cell_type": "code",
   "execution_count": 5,
   "metadata": {},
   "outputs": [
    {
     "data": {
      "text/plain": [
       "'01000000000105a5e262e3d334cd6b5f3fffddf8679cfd699d6efb48f6f0b7cb57fcf2f7adcea60000000000ffffffffda2ab4ca2ef0065a8709ea7694ff9699c3b7b986ac111c61fee832ee746d467e010000006b483045022100966bf022480688c8267ab22fcdf6d50a011124c3e850bea0bd1e76d65704b8b402201c6503b5e333277304c03c57e1935eeb4432133467104bcf3cf0b73e89177de4012103c4f459d7fc4629543aa13b34f9123edecea3bd8d3769678e9902919e5dc44ec6ffffffff007912582f9ee73694acdadd53f57caf5fdd5ca5b16dcc623e30f49b15b25b860100000000ffffffff559f8dcb5d958908d5deb855913cdf03aceeb146f89dfcd489dab12bc5c215070100000000fffffffffa6328a58ee65e8ae0a5624f63547e0e7d7f94ce62e2a77318e0db96d215759e000000006b483045022100a8dd4cf53249eb41a9c458cf59cb062b54b3c675aed3b9732970d03945792b4402202a46df94e76dcd270d68330be4421fe5621022d9cabf20edcea68d8ad14e23c9012103c4f459d7fc4629543aa13b34f9123edecea3bd8d3769678e9902919e5dc44ec6ffffffff0260e31600000000001976a91452903efc1004de01883ba3687be2a8ea4f6b1b1988ac009d0800000000001600142746b83b0f43361beb700ea0095c0fbfc35bb9c902473044022051737f7cf31de7a4ff54c9d8028aef977a19ba956866a31eba9c316b4364aafc02206052489546ddab8eea1fa6724d6d027aea001b718f75cb714b5207f0f03148ff0121021e626715649d11ae350ba982a1f38d19e2603c4b74d0433c1911ed0f407a25dc010002483045022100f004b00daecd1e9f41fefb994cfb3ff529cf894489bab0d534c78040c8159bed0220112f68d45ee20641ecc7ba0524d9cb4144c55b042b564c551cb1c33e2358d9b90121021e626715649d11ae350ba982a1f38d19e2603c4b74d0433c1911ed0f407a25dc02483045022100f29c6db5c183d2bb2fb8e2427135f34a6931458f798250b600a145e93b02a258022068fad973e2184cfe51a4ab62b425cff9227e362eb2a78a674d08fb130a91a5130121021e626715649d11ae350ba982a1f38d19e2603c4b74d0433c1911ed0f407a25dc010000000000'"
      ]
     },
     "execution_count": 5,
     "metadata": {},
     "output_type": "execute_result"
    }
   ],
   "source": [
    "\"01000000000105a5e262e3d334cd6b5f3fffddf8679cfd699d6efb48f6f0b7cb57fcf2f7adcea60000000000ffffffffda2ab4ca2ef0065a8709ea7694ff9699c3b7b986ac111c61fee832ee746d467e010000006b483045022100966bf022480688c8267ab22fcdf6d50a011124c3e850bea0bd1e76d65704b8b402201c6503b5e333277304c03c57e1935eeb4432133467104bcf3cf0b73e89177de4012103c4f459d7fc4629543aa13b34f9123edecea3bd8d3769678e9902919e5dc44ec6ffffffff007912582f9ee73694acdadd53f57caf5fdd5ca5b16dcc623e30f49b15b25b860100000000ffffffff559f8dcb5d958908d5deb855913cdf03aceeb146f89dfcd489dab12bc5c215070100000000fffffffffa6328a58ee65e8ae0a5624f63547e0e7d7f94ce62e2a77318e0db96d215759e000000006b483045022100a8dd4cf53249eb41a9c458cf59cb062b54b3c675aed3b9732970d03945792b4402202a46df94e76dcd270d68330be4421fe5621022d9cabf20edcea68d8ad14e23c9012103c4f459d7fc4629543aa13b34f9123edecea3bd8d3769678e9902919e5dc44ec6ffffffff0260e31600000000001976a91452903efc1004de01883ba3687be2a8ea4f6b1b1988ac009d0800000000001600142746b83b0f43361beb700ea0095c0fbfc35bb9c902473044022051737f7cf31de7a4ff54c9d8028aef977a19ba956866a31eba9c316b4364aafc02206052489546ddab8eea1fa6724d6d027aea001b718f75cb714b5207f0f03148ff0121021e626715649d11ae350ba982a1f38d19e2603c4b74d0433c1911ed0f407a25dc010002483045022100f004b00daecd1e9f41fefb994cfb3ff529cf894489bab0d534c78040c8159bed0220112f68d45ee20641ecc7ba0524d9cb4144c55b042b564c551cb1c33e2358d9b90121021e626715649d11ae350ba982a1f38d19e2603c4b74d0433c1911ed0f407a25dc02483045022100f29c6db5c183d2bb2fb8e2427135f34a6931458f798250b600a145e93b02a258022068fad973e2184cfe51a4ab62b425cff9227e362eb2a78a674d08fb130a91a5130121021e626715649d11ae350ba982a1f38d19e2603c4b74d0433c1911ed0f407a25dc010000000000\""
   ]
  },
  {
   "cell_type": "code",
   "execution_count": 7,
   "metadata": {},
   "outputs": [
    {
     "name": "stdout",
     "output_type": "stream",
     "text": [
      "1642\n"
     ]
    }
   ],
   "source": [
    "h = \"01000000000105a5e262e3d334cd6b5f3fffddf8679cfd699d6efb48f6f0b7cb57fcf2f7adcea60000000000ffffffffda2ab4ca2ef0065a8709ea7694ff9699c3b7b986ac111c61fee832ee746d467e010000006a47304402205c8a836394939ad20118192741e42b96f9e7e7c6feb0b7282524a4de56bc46a902205d7e5dad81e23f1ad02b57d5e5bf401242aa93916718edf6f802c8a5a4f90be5012103c4f459d7fc4629543aa13b34f9123edecea3bd8d3769678e9902919e5dc44ec6ffffffff007912582f9ee73694acdadd53f57caf5fdd5ca5b16dcc623e30f49b15b25b860100000000ffffffff559f8dcb5d958908d5deb855913cdf03aceeb146f89dfcd489dab12bc5c215070100000000fffffffffa6328a58ee65e8ae0a5624f63547e0e7d7f94ce62e2a77318e0db96d215759e000000006a47304402204d0661bce9f27569242b19820f56e41c23aaea041a38bb3e16f0b533d09378c1022057e5eb275ef76d8ae177f8c116f1fcd8c99ab6859de56d5c00d4e3236f8275a8012103c4f459d7fc4629543aa13b34f9123edecea3bd8d3769678e9902919e5dc44ec6ffffffff0260e31600000000001976a91452903efc1004de01883ba3687be2a8ea4f6b1b1988ac38a1080000000000160014526f86a1cdea0d9fa95bc1b957145d2cd25b7c4b02473044022018ea187847b02cf4e7588b1c10f268d0f9fc5920fc7c873bf920716da6b398a0022023415b33d4d4b7ea92cc837ec5e62a7ecf2eaeacb13be83b061ee2f65789a4ae0121021e626715649d11ae350ba982a1f38d19e2603c4b74d0433c1911ed0f407a25dc010002483045022100d9d30263e94994a1e08c44e03931b85bff8ba08844005832c9d8cb25fd3a956a02207981e2c47ea1950cc5e12d9344b92837585435a0c141a98c35181ff07ef1ef770121021e626715649d11ae350ba982a1f38d19e2603c4b74d0433c1911ed0f407a25dc024830450221009bf81a8b61b2d78fc28a7ce953696cfd2ece01a9c1580306d1e97f2be23a4e560220518de4920a053eaf9c1eec1bf028638d89761c645d6f9f1a9ead4a5732afca470121021e626715649d11ae350ba982a1f38d19e2603c4b74d0433c1911ed0f407a25dc010000000000\"\n",
    "print(len(h))\n"
   ]
  },
  {
   "cell_type": "code",
   "execution_count": 12,
   "metadata": {},
   "outputs": [],
   "source": [
    "from blockcypher import pushtx"
   ]
  },
  {
   "cell_type": "code",
   "execution_count": 13,
   "metadata": {},
   "outputs": [
    {
     "ename": "AssertionError",
     "evalue": "api_key required",
     "output_type": "error",
     "traceback": [
      "\u001b[0;31m---------------------------------------------------------------------------\u001b[0m",
      "\u001b[0;31mAssertionError\u001b[0m                            Traceback (most recent call last)",
      "\u001b[0;32m<ipython-input-13-c1197acd96b6>\u001b[0m in \u001b[0;36m<module>\u001b[0;34m\u001b[0m\n\u001b[0;32m----> 1\u001b[0;31m \u001b[0mrespond\u001b[0m \u001b[0;34m=\u001b[0m \u001b[0mpushtx\u001b[0m\u001b[0;34m(\u001b[0m\u001b[0mmy_tx\u001b[0m\u001b[0;34m.\u001b[0m\u001b[0mtransaction\u001b[0m\u001b[0;34m.\u001b[0m\u001b[0mserialize\u001b[0m\u001b[0;34m(\u001b[0m\u001b[0;34m)\u001b[0m\u001b[0;34m.\u001b[0m\u001b[0mhex\u001b[0m\u001b[0;34m(\u001b[0m\u001b[0;34m)\u001b[0m\u001b[0;34m,\u001b[0m\u001b[0;34m\"btc-testnet\"\u001b[0m\u001b[0;34m)\u001b[0m\u001b[0;34m\u001b[0m\u001b[0;34m\u001b[0m\u001b[0m\n\u001b[0m",
      "\u001b[0;32m/anaconda3/envs/mlenv/lib/python3.7/site-packages/blockcypher/api.py\u001b[0m in \u001b[0;36mpushtx\u001b[0;34m(tx_hex, coin_symbol, api_key)\u001b[0m\n\u001b[1;32m   1044\u001b[0m \u001b[0;34m\u001b[0m\u001b[0m\n\u001b[1;32m   1045\u001b[0m     \u001b[0;32massert\u001b[0m \u001b[0mis_valid_coin_symbol\u001b[0m\u001b[0;34m(\u001b[0m\u001b[0mcoin_symbol\u001b[0m\u001b[0;34m)\u001b[0m\u001b[0;34m\u001b[0m\u001b[0;34m\u001b[0m\u001b[0m\n\u001b[0;32m-> 1046\u001b[0;31m     \u001b[0;32massert\u001b[0m \u001b[0mapi_key\u001b[0m\u001b[0;34m,\u001b[0m \u001b[0;34m'api_key required'\u001b[0m\u001b[0;34m\u001b[0m\u001b[0;34m\u001b[0m\u001b[0m\n\u001b[0m\u001b[1;32m   1047\u001b[0m \u001b[0;34m\u001b[0m\u001b[0m\n\u001b[1;32m   1048\u001b[0m     \u001b[0murl\u001b[0m \u001b[0;34m=\u001b[0m \u001b[0m_get_pushtx_url\u001b[0m\u001b[0;34m(\u001b[0m\u001b[0mcoin_symbol\u001b[0m\u001b[0;34m=\u001b[0m\u001b[0mcoin_symbol\u001b[0m\u001b[0;34m)\u001b[0m\u001b[0;34m\u001b[0m\u001b[0;34m\u001b[0m\u001b[0m\n",
      "\u001b[0;31mAssertionError\u001b[0m: api_key required"
     ]
    }
   ],
   "source": [
    "respond = pushtx(my_tx.transaction.serialize().hex(),\"btc-testnet\")"
   ]
  },
  {
   "cell_type": "code",
   "execution_count": 6,
   "metadata": {},
   "outputs": [],
   "source": []
  },
  {
   "cell_type": "code",
   "execution_count": 6,
   "metadata": {},
   "outputs": [
    {
     "data": {
      "text/plain": [
       "{'block_hash': '000000007ac30c35c4ec77d282bf020defd6921dfa8f94b3d17e395fa09d1b2a',\n",
       " 'block_height': 1696602,\n",
       " 'block_index': 159,\n",
       " 'hash': 'a6ceadf7f2fc57cbb7f0f648fb6e9d69fd9c67f8ddff3f5f6bcd34d3e362e2a5',\n",
       " 'addresses': ['2MvqVHzh7Y3bBumN39GQMQTJfmx6oj8imub',\n",
       "  'tb1q33psda8sztpq3lc27jyqy5mx57c606x2w70n5h',\n",
       "  'tb1qjvujtj6dt93qw5u5fagmnxqvl3kxywzjyxad23'],\n",
       " 'total': 7220122765,\n",
       " 'fees': 164,\n",
       " 'size': 136,\n",
       " 'preference': 'low',\n",
       " 'relayed_by': '207.180.208.196:18333',\n",
       " 'confirmed': datetime.datetime(2020, 4, 7, 21, 47, 41, tzinfo=tzutc()),\n",
       " 'received': datetime.datetime(2020, 4, 7, 21, 30, 2, 419000, tzinfo=tzutc()),\n",
       " 'ver': 2,\n",
       " 'lock_time': 1696601,\n",
       " 'double_spend': False,\n",
       " 'vin_sz': 1,\n",
       " 'vout_sz': 2,\n",
       " 'confirmations': 140,\n",
       " 'confidence': 1,\n",
       " 'inputs': [{'prev_hash': '026859c93f8321570bfaecb71a9587d2390411fc79300afb7057d172d0d9f7dd',\n",
       "   'output_index': 1,\n",
       "   'script': '16001450f2f86012ca89da76e8ce5dc3dbc19052e9cd2f',\n",
       "   'output_value': 7220122929,\n",
       "   'sequence': 4294967294,\n",
       "   'addresses': ['2MvqVHzh7Y3bBumN39GQMQTJfmx6oj8imub'],\n",
       "   'script_type': 'pay-to-script-hash',\n",
       "   'age': 1696601}],\n",
       " 'outputs': [{'value': 22000,\n",
       "   'script': '00148c4306f4f012c208ff0af488025366a7b1a7e8ca',\n",
       "   'addresses': ['tb1q33psda8sztpq3lc27jyqy5mx57c606x2w70n5h'],\n",
       "   'script_type': 'pay-to-witness-pubkey-hash'},\n",
       "  {'value': 7220100765,\n",
       "   'script': '0014933925cb4d59620753944f51b9980cfc6c623852',\n",
       "   'spent_by': 'e5c4e95f16124af4af3e53e5c0405ee67162656a790af907f818d3f733eb3bfa',\n",
       "   'addresses': ['tb1qjvujtj6dt93qw5u5fagmnxqvl3kxywzjyxad23'],\n",
       "   'script_type': 'pay-to-witness-pubkey-hash'}]}"
      ]
     },
     "execution_count": 6,
     "metadata": {},
     "output_type": "execute_result"
    }
   ],
   "source": [
    "from blockcypher import get_transaction_details\n",
    "pretx = get_transaction_details('a6ceadf7f2fc57cbb7f0f648fb6e9d69fd9c67f8ddff3f5f6bcd34d3e362e2a5',coin_symbol='btc-testnet')\n",
    "pretx  "
   ]
  },
  {
   "cell_type": "code",
   "execution_count": 7,
   "metadata": {},
   "outputs": [
    {
     "data": {
      "text/plain": [
       "22000"
      ]
     },
     "execution_count": 7,
     "metadata": {},
     "output_type": "execute_result"
    }
   ],
   "source": [
    "pretx[\"outputs\"][0][\"value\"]"
   ]
  },
  {
   "cell_type": "code",
   "execution_count": 29,
   "metadata": {},
   "outputs": [
    {
     "name": "stdout",
     "output_type": "stream",
     "text": [
      "16\n",
      "<_io.BytesIO object at 0x10b730e30>\n",
      "length script: 22\n",
      "current_byte : 0\n",
      "op_code : 0\n",
      "current_byte : 20\n"
     ]
    }
   ],
   "source": [
    "from script import Script\n",
    "from io import BytesIO, StringIO\n",
    "from helper import encode_varint\n",
    "script_strig = \"00148c4306f4f012c208ff0af488025366a7b1a7e8ca\"\n",
    "length = hex(int.from_bytes(encode_varint(len(script_strig)//2),\"big\"))[2:]\n",
    "print(length)\n",
    "pubscript = Script.parse(BytesIO(bytes.fromhex(length+\"00148c4306f4f012c208ff0af488025366a7b1a7e8ca\")))"
   ]
  },
  {
   "cell_type": "code",
   "execution_count": 30,
   "metadata": {},
   "outputs": [
    {
     "data": {
      "text/plain": [
       "OP_0 8c4306f4f012c208ff0af488025366a7b1a7e8ca"
      ]
     },
     "execution_count": 30,
     "metadata": {},
     "output_type": "execute_result"
    }
   ],
   "source": [
    "pubscript"
   ]
  },
  {
   "cell_type": "code",
   "execution_count": null,
   "metadata": {},
   "outputs": [],
   "source": []
  }
 ],
 "metadata": {
  "kernelspec": {
   "display_name": "Python 3",
   "language": "python",
   "name": "python3"
  },
  "language_info": {
   "codemirror_mode": {
    "name": "ipython",
    "version": 3
   },
   "file_extension": ".py",
   "mimetype": "text/x-python",
   "name": "python",
   "nbconvert_exporter": "python",
   "pygments_lexer": "ipython3",
   "version": "3.7.4"
  }
 },
 "nbformat": 4,
 "nbformat_minor": 4
}
