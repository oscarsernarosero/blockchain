{
 "cells": [
  {
   "cell_type": "code",
   "execution_count": 5,
   "metadata": {},
   "outputs": [],
   "source": [
    "from accounts import MasterAccount, Account, MultSigAccount\n",
    "from transactions import Transaction, MultiSigTransaction\n",
    "from os import urandom\n",
    "from database import WalletDB\n",
    "from blockcypher import get_address_details\n",
    "from bip39 import Mnemonic"
   ]
  },
  {
   "cell_type": "code",
   "execution_count": 6,
   "metadata": {},
   "outputs": [],
   "source": [
    "class Wallet(MasterAccount):\n",
    "    \n",
    "    def __init__(self, depth, fingerprint, index, chain_code, private_key, db_user=\"neo4j\",db_password=\"wallet\", testnet = False):\n",
    "    \n",
    "        self.db = WalletDB( \"neo4j://localhost:7687\" ,db_user ,db_password )\n",
    "        super().__init__( depth, fingerprint, index, chain_code, private_key,testnet)\n",
    "        if not self.db.exist_wallet(self.get_xtended_key()):\n",
    "            self.db.new_wallet(self.get_xtended_key())\n",
    "        \n",
    "    \n",
    "        #default_path = \"m/0H/0H/\"\n",
    "  \n",
    "    @classmethod\n",
    "    def get_i(self, index):\n",
    "        if index is None:\n",
    "            print(f\"get i: {index}\")\n",
    "            i = int.from_bytes(urandom(4),\"big\")\n",
    "            i = i & 0x7fffffff\n",
    "            if i < (2**31-1):print(\"true\")\n",
    "        else:\n",
    "            if index <= (2**31-1):\n",
    "                i = index\n",
    "            else:\n",
    "                raise Exception (f\"index must be less than {2**31-1} \")\n",
    "        return i\n",
    "\n",
    "    #@classmethod\n",
    "    def create_receiving_address(self, addr_type = \"p2pkh\",index=None):\n",
    "        receiving_path = \"m/0H/2H/\"\n",
    "        i = self.get_i(index)\n",
    "        path = receiving_path + str(i)\n",
    "        print(f\"Path: {path}\")\n",
    "        receiving_xtended_acc = self.get_child_from_path(path)\n",
    "        account = Account(int.from_bytes(receiving_xtended_acc.private_key,\"big\"),addr_type, self.testnet )\n",
    "        self.db.new_address(account.address,i,False, self.get_xtended_key())\n",
    "        return account\n",
    "\n",
    "    #@classmethod\n",
    "    def create_change_address(self,addr_type = \"p2wpkh\", index=None):\n",
    "        change_path = \"m/0H/1H/\"\n",
    "        i = self.get_i(index)\n",
    "        path = change_path + str(i)\n",
    "        print(f\"Path: {path}\")\n",
    "        change_xtended_acc = self.get_child_from_path(path)\n",
    "        account = Account(int.from_bytes(change_xtended_acc.private_key,\"big\"),addr_type, self.testnet )\n",
    "        self.db.new_address(account.address,i,True, self.get_xtended_key())\n",
    "        return account\n",
    "    \n",
    "    def get_utxos(self):\n",
    "        return self.db.look_for_coins(self.get_xtended_key())\n",
    "        \n",
    "    def get_balance(self):\n",
    "        coins = self.get_utxos()\n",
    "        balance = 0\n",
    "        for coin in coins:\n",
    "            balance += coin[\"coin.amount\"]\n",
    "        return balance\n",
    "\n",
    "    def update_balance(self):\n",
    "        addresses = self.db.get_all_addresses()\n",
    "        \n",
    "        if self.testnet: coin_symbol = \"btc-testnet\"\n",
    "        else: coin_symbol = \"btc\"\n",
    "            \n",
    "        for address in addresses:\n",
    "            \n",
    "            addr_info = get_address_details(address[\"addr.address\"], coin_symbol = coin_symbol, unspent_only=True)\n",
    "            \n",
    "            if addr_info[\"unconfirmed_n_tx\"] > 0:\n",
    "                for utxo in addr_info[\"unconfirmed_txrefs\"]:\n",
    "                    if not self.db.exist_utxo( utxo[\"tx_hash\"], utxo[\"tx_output_n\"], False):\n",
    "                        print(\"new unconfirmed UTXO\")\n",
    "                        self.db.new_utxo(utxo[\"address\"],utxo[\"tx_hash\"],utxo[\"tx_output_n\"],utxo[\"value\"],False)\n",
    "            \n",
    "            if addr_info[\"n_tx\"] - addr_info[\"unconfirmed_n_tx\"] > 0 :\n",
    "                for utxo in addr_info[\"txrefs\"]:\n",
    "                    if not self.db.exist_utxo( utxo[\"tx_hash\"], utxo[\"tx_output_n\"], True):\n",
    "                        print(\"new confirmed UTXO\")\n",
    "                        self.db.new_utxo(addr_info[\"address\"],utxo[\"tx_hash\"],utxo[\"tx_output_n\"],utxo[\"value\"],True)\n",
    "      \n",
    "        return self.get_balance()\n",
    "    \n",
    "    #@classmethod\n",
    "    #def create_multisig_account(m,public_key_list,account,addr_type=\"p2sh\", testnet = False, segwit=True):\n",
    "    #    n = len(public_key_list)\n",
    "    #    return MultiSigTransaction(m, n, int.from_bytes(account.private_key,\"big\"), public_key_list, addr_type, testnet, segwit)\n",
    "\n",
    "    #@classmethod\n",
    "    def send(self, to_address_amount_list, segwit=True):\n",
    "        \"\"\"\n",
    "        to_address can be a single address or a list.\n",
    "        amount can be an integer or a list of integers.\n",
    "        If they are lists, they must be ordered in the same way. address 1 will e sent amount 1, \n",
    "        adrress 2 will be sent amount2.. adress n will be sent amount n.\n",
    "        \"\"\"\n",
    "        total_amount = 0\n",
    "        for output in to_address_amount_list:\n",
    "            total_amount += output[1]\n",
    "            \n",
    "        balance = self.get_balance()\n",
    "        if total_amount>balance:\n",
    "            raise Exception(f\"Not enough funds in wallet for this transaction.\\nOnly {balance} satoshis available\")\n",
    "            \n",
    "        all_utxos = self.get_utxos()\n",
    "        utxos = []\n",
    "        utxo_total = 0\n",
    "        for utxo in all_utxos:\n",
    "            utxos.append(utxo)\n",
    "            utxo_total += utxo[\"coin.amount\"]\n",
    "            if utxo_total>total_amount: break\n",
    "        change_account = self.create_change_address()\n",
    "          \n",
    "        tx = Transaction.create_from_master( utxos,to_address_amount_list, self,change_account,\n",
    "                           fee=None, segwit=segwit)\n",
    "        print(tx.transaction.id())\n",
    "        self.db.new_tx(tx.transaction.id(),[x[\"coin.local_index\"] for x in utxos], \n",
    "                       #[str(x[0])+\":\"+str(x[1]) for x in to_address_amount_list]\n",
    "                       [str(x) for x in tx.transaction.tx_outs]\n",
    "                      )\n",
    "        \n",
    "        self.db.update_utxo(tx.transaction.id())\n",
    "        \n",
    "        return tx\n",
    "        \n",
    "    \n",
    "    "
   ]
  },
  {
   "cell_type": "code",
   "execution_count": 7,
   "metadata": {},
   "outputs": [
    {
     "name": "stdout",
     "output_type": "stream",
     "text": [
      "8418572761394767459444418608530371567217744336876557229650655736270882421023962287566834689847418048023007033142570964655978481626857402470209587761075589\n"
     ]
    },
    {
     "data": {
      "text/plain": [
       "tprv8ZgxMBicQKsPfQJYjuFAso9x6STzmUdMh5U8CQqqQUTgtQHBHCq4C7FseeeZg15L16UeSwbrLwJRTXNPQsJQwqvbBA11sn4M6c3jR1LwAQP"
      ]
     },
     "execution_count": 7,
     "metadata": {},
     "output_type": "execute_result"
    }
   ],
   "source": [
    "words = \"engine over neglect science fatigue dawn axis parent mind man escape era goose border invest slab relax bind desert hurry useless lonely frozen morning\"\n",
    "my_wallet = Wallet.recover_from_words(words, 256, \"RobertPauslon\",True)\n",
    "my_wallet"
   ]
  },
  {
   "cell_type": "code",
   "execution_count": 8,
   "metadata": {},
   "outputs": [
    {
     "data": {
      "text/plain": [
       "1636480"
      ]
     },
     "execution_count": 8,
     "metadata": {},
     "output_type": "execute_result"
    }
   ],
   "source": [
    "my_wallet.update_balance()"
   ]
  },
  {
   "cell_type": "code",
   "execution_count": 5,
   "metadata": {},
   "outputs": [],
   "source": [
    "\"1636480\""
   ]
  },
  {
   "cell_type": "code",
   "execution_count": 5,
   "metadata": {},
   "outputs": [
    {
     "data": {
      "text/plain": [
       "[{'coin.transaction_id': 'ed151c48ab59cd5c0f3391a2a7a93266de107b4c28313981470ef45d0e5706f3',\n",
       "  'coin.out_index': 1,\n",
       "  'coin.address': 'tb1qrfctdu8s8ur3pxresualsym87yzrjk2gekss6h',\n",
       "  'coin.amount': 564480,\n",
       "  'coin.local_index': 5,\n",
       "  'address.acc_index': 2075555818,\n",
       "  'address.type': 'change'},\n",
       " {'coin.transaction_id': '5af82dce283969f559cac2709a16e1ed560132fc3a5f284a2fd485f2d07647e5',\n",
       "  'coin.out_index': 1,\n",
       "  'coin.address': 'myr1uCzNKbuLdjS5fAoK1JxsSFNDjPpcx5',\n",
       "  'coin.amount': 1000000,\n",
       "  'coin.local_index': 6,\n",
       "  'address.acc_index': 1120136756,\n",
       "  'address.type': 'recipient'},\n",
       " {'coin.transaction_id': '5b6f47b80a2c73e4e304eb23047db01995cffbd6477b87afbb8f749f0ffd1a23',\n",
       "  'coin.out_index': 0,\n",
       "  'coin.address': 'ms8Lo8ZKUX7hKrU3RW7U2iE6sGkggMUKF2',\n",
       "  'coin.amount': 20000,\n",
       "  'coin.local_index': 7,\n",
       "  'address.acc_index': 650646505,\n",
       "  'address.type': 'recipient'},\n",
       " {'coin.transaction_id': '84c8bf727f923d56a5cc311db94afca0b17d9f1b45580e7bb6fef7bf1c48188b',\n",
       "  'coin.out_index': 0,\n",
       "  'coin.address': 'mtmT6nNoC3AwKxvU92sC5v66PSVdKXFpd3',\n",
       "  'coin.amount': 50000,\n",
       "  'coin.local_index': 8,\n",
       "  'address.acc_index': 31684749,\n",
       "  'address.type': 'recipient'},\n",
       " {'coin.transaction_id': 'e45d5baafa966c428d3e07cd4b1a7e11b15ea4364b4530e04bbaafd2cb88803b',\n",
       "  'coin.out_index': 1,\n",
       "  'coin.address': 'n4ciCcbpJuJhdvrDF8n4fBQAJgVHDTcdve',\n",
       "  'coin.amount': 2000,\n",
       "  'coin.local_index': 9,\n",
       "  'address.acc_index': 1709117567,\n",
       "  'address.type': 'recipient'}]"
      ]
     },
     "execution_count": 5,
     "metadata": {},
     "output_type": "execute_result"
    }
   ],
   "source": [
    "my_wallet.get_utxos()"
   ]
  },
  {
   "cell_type": "code",
   "execution_count": 4,
   "metadata": {
    "collapsed": true,
    "jupyter": {
     "outputs_hidden": true
    }
   },
   "outputs": [
    {
     "name": "stdout",
     "output_type": "stream",
     "text": [
      "get i: None\n",
      "true\n",
      "Path: m/0H/1H/2075555818\n",
      "<Record a=<Path start=<Node id=24 labels={'address'} properties={'address': 'tb1qrfctdu8s8ur3pxresualsym87yzrjk2gekss6h', 'type': 'change', 'acc_index': 2075555818, 'created': 1586399738082}> end=<Node id=24 labels={'address'} properties={'address': 'tb1qrfctdu8s8ur3pxresualsym87yzrjk2gekss6h', 'type': 'change', 'acc_index': 2075555818, 'created': 1586399738082}> size=0>>\n",
      "size of transaction without signatures: 584\n",
      "fee: 17520\n",
      "change 564480\n",
      "total 2082000, diff: 0\n",
      "Address trying to spend from: tb1q33psda8sztpq3lc27jyqy5mx57c606x2w70n5h\n",
      "tb1q33psda8sztpq3lc27jyqy5mx57c606x2w70n5h\n",
      "\n",
      "ABOUT TO SIGN INPUT\n",
      "\n",
      "SIGNING INPUT Segwit: \n",
      "Witness:\n",
      "[b'0D\\x02 `D\\xcd\\x17\\xa2\\xe8P\\x0c\\x1a\\xfd\\xfed\\x9c\\x00\\xd1C\\xf8\\x04\\xb3\\x86\\\\ b~\\xaayf\\xc9r\\x82\\xd1o\\x02 ~Hd\\xa1_m\\x84I\\xb2\\x90\\x0f\\x8dN\\xd3R\\xe4\\xf2\\xf67+\\x91\\x86\\xed\\xa0-\\xa8G\\x84r\\x9b\\xae\\xfe\\x01', b'\\x02\\x1ebg\\x15d\\x9d\\x11\\xae5\\x0b\\xa9\\x82\\xa1\\xf3\\x8d\\x19\\xe2`<Kt\\xd0C<\\x19\\x11\\xed\\x0f@z%\\xdc'] \n",
      "script_pubkey of tx IN: OP_0 8c4306f4f012c208ff0af488025366a7b1a7e8ca\n",
      "\n",
      "combined script[0, b'\\x8cC\\x06\\xf4\\xf0\\x12\\xc2\\x08\\xff\\n\\xf4\\x88\\x02Sf\\xa7\\xb1\\xa7\\xe8\\xca']\n",
      "\n",
      "Address trying to spend from: n4nzNicx9sYzH6kHa6cVVVSD8nbS7jHFfd\n",
      "n4nzNicx9sYzH6kHa6cVVVSD8nbS7jHFfd\n",
      "\n",
      "ABOUT TO SIGN INPUT\n",
      "\n",
      "SIGNING INPUT not segwit: \n",
      "SCRIPT SIG:\n",
      "30440220665d3d2a16cf8906e86c43f53b3e06835a5c5e1c538c247f53debb86369f3905022077b69c464536e9f44b39373530ba41f3618a24304150b3369cf99fd9645c994701 03c4f459d7fc4629543aa13b34f9123edecea3bd8d3769678e9902919e5dc44ec6 \n",
      "script_pubkey of tx IN: OP_DUP OP_HASH160 ff5348f9e2a71bf6bdd17dab47d94ae89f3443bf OP_EQUALVERIFY OP_CHECKSIG\n",
      "\n",
      "combined script[b'0D\\x02 f]=*\\x16\\xcf\\x89\\x06\\xe8lC\\xf5;>\\x06\\x83Z\\\\^\\x1cS\\x8c$\\x7fS\\xde\\xbb\\x866\\x9f9\\x05\\x02 w\\xb6\\x9cFE6\\xe9\\xf4K9750\\xbaA\\xf3a\\x8a$0AP\\xb36\\x9c\\xf9\\x9f\\xd9d\\\\\\x99G\\x01', b'\\x03\\xc4\\xf4Y\\xd7\\xfcF)T:\\xa1;4\\xf9\\x12>\\xde\\xce\\xa3\\xbd\\x8d7ig\\x8e\\x99\\x02\\x91\\x9e]\\xc4N\\xc6', 118, 169, b'\\xffSH\\xf9\\xe2\\xa7\\x1b\\xf6\\xbd\\xd1}\\xabG\\xd9J\\xe8\\x9f4C\\xbf', 136, 172]\n",
      "\n",
      "Address trying to spend from: tb1q33psda8sztpq3lc27jyqy5mx57c606x2w70n5h\n",
      "tb1q33psda8sztpq3lc27jyqy5mx57c606x2w70n5h\n",
      "\n",
      "ABOUT TO SIGN INPUT\n",
      "\n",
      "SIGNING INPUT Segwit: \n",
      "Witness:\n",
      "[b'0D\\x02 a\\xae*g\\x8e\\xbe\\x13\\x88n\\xf8\\x07\\x9e9\\xa4\\xd1\\xd5\\xb1\\x1d\\xe6\\x94\\x02\\xc4\\xb2i\\xbc\\x9eRb.Ku\\xb6\\x02 G\\xa3S\\x05L\\x17\\xcd\\xf4/;\\x1c?\\xc4\\xd3\\x99e\\xdb\\x15\\x0b\\t\\xee\\xc5\\xd0\\xcc\\x95\\xdf?\\xc6bj\\xf1\\x9f\\x01', b'\\x02\\x1ebg\\x15d\\x9d\\x11\\xae5\\x0b\\xa9\\x82\\xa1\\xf3\\x8d\\x19\\xe2`<Kt\\xd0C<\\x19\\x11\\xed\\x0f@z%\\xdc'] \n",
      "script_pubkey of tx IN: OP_0 8c4306f4f012c208ff0af488025366a7b1a7e8ca\n",
      "\n",
      "combined script[0, b'\\x8cC\\x06\\xf4\\xf0\\x12\\xc2\\x08\\xff\\n\\xf4\\x88\\x02Sf\\xa7\\xb1\\xa7\\xe8\\xca']\n",
      "\n",
      "Address trying to spend from: tb1q33psda8sztpq3lc27jyqy5mx57c606x2w70n5h\n",
      "tb1q33psda8sztpq3lc27jyqy5mx57c606x2w70n5h\n",
      "\n",
      "ABOUT TO SIGN INPUT\n",
      "\n",
      "SIGNING INPUT Segwit: \n",
      "Witness:\n",
      "[b'0E\\x02!\\x00\\x960\\xb0\\xd5\\x84uVzDY\\xf7o\\x81\\x16\\xe9\\x97\\x85\\x9f\\xb9\\x8e\\xcd\\x06\\xd1Z14P\\x05\\x01\\xa7=\\xe4\\x02 \\x05b\\xd9\\xdc\\xc7\\xedA\\x82!9\\xc8o\\xd5\\x06\\x0c{\\xdcS\\xa5q=\\xaa\\xc6\\xb7\\xd3ez)\\x1eW\\xd9\\xb0\\x01', b'\\x02\\x1ebg\\x15d\\x9d\\x11\\xae5\\x0b\\xa9\\x82\\xa1\\xf3\\x8d\\x19\\xe2`<Kt\\xd0C<\\x19\\x11\\xed\\x0f@z%\\xdc'] \n",
      "script_pubkey of tx IN: OP_0 8c4306f4f012c208ff0af488025366a7b1a7e8ca\n",
      "\n",
      "combined script[0, b'\\x8cC\\x06\\xf4\\xf0\\x12\\xc2\\x08\\xff\\n\\xf4\\x88\\x02Sf\\xa7\\xb1\\xa7\\xe8\\xca']\n",
      "\n",
      "Address trying to spend from: n4nzNicx9sYzH6kHa6cVVVSD8nbS7jHFfd\n",
      "n4nzNicx9sYzH6kHa6cVVVSD8nbS7jHFfd\n",
      "\n",
      "ABOUT TO SIGN INPUT\n",
      "\n",
      "SIGNING INPUT not segwit: \n",
      "SCRIPT SIG:\n",
      "3045022100a2db1ad4fb5d6edab31fb1216f9c5c6f92edf94fcf2e07124a1c300a930fc32a02202003a3ee0603379027ef92cb1ef20962f52e3bd2f0b3f824db870c67cba63e4601 03c4f459d7fc4629543aa13b34f9123edecea3bd8d3769678e9902919e5dc44ec6 \n",
      "script_pubkey of tx IN: OP_DUP OP_HASH160 ff5348f9e2a71bf6bdd17dab47d94ae89f3443bf OP_EQUALVERIFY OP_CHECKSIG\n",
      "\n",
      "combined script[b\"0E\\x02!\\x00\\xa2\\xdb\\x1a\\xd4\\xfb]n\\xda\\xb3\\x1f\\xb1!o\\x9c\\\\o\\x92\\xed\\xf9O\\xcf.\\x07\\x12J\\x1c0\\n\\x93\\x0f\\xc3*\\x02  \\x03\\xa3\\xee\\x06\\x037\\x90'\\xef\\x92\\xcb\\x1e\\xf2\\tb\\xf5.;\\xd2\\xf0\\xb3\\xf8$\\xdb\\x87\\x0cg\\xcb\\xa6>F\\x01\", b'\\x03\\xc4\\xf4Y\\xd7\\xfcF)T:\\xa1;4\\xf9\\x12>\\xde\\xce\\xa3\\xbd\\x8d7ig\\x8e\\x99\\x02\\x91\\x9e]\\xc4N\\xc6', 118, 169, b'\\xffSH\\xf9\\xe2\\xa7\\x1b\\xf6\\xbd\\xd1}\\xabG\\xd9J\\xe8\\x9f4C\\xbf', 136, 172]\n",
      "\n",
      "None\n"
     ]
    }
   ],
   "source": [
    "my_tx = my_wallet.send([(\"mo3WWB4PoSHrudEBik1nUqfn1uZEPNYEc8\",1500000)])"
   ]
  },
  {
   "cell_type": "code",
   "execution_count": 5,
   "metadata": {
    "collapsed": true,
    "jupyter": {
     "outputs_hidden": true
    }
   },
   "outputs": [
    {
     "data": {
      "text/plain": [
       "'01000000000105a5e262e3d334cd6b5f3fffddf8679cfd699d6efb48f6f0b7cb57fcf2f7adcea60000000000ffffffffda2ab4ca2ef0065a8709ea7694ff9699c3b7b986ac111c61fee832ee746d467e010000006a4730440220665d3d2a16cf8906e86c43f53b3e06835a5c5e1c538c247f53debb86369f3905022077b69c464536e9f44b39373530ba41f3618a24304150b3369cf99fd9645c9947012103c4f459d7fc4629543aa13b34f9123edecea3bd8d3769678e9902919e5dc44ec6ffffffff007912582f9ee73694acdadd53f57caf5fdd5ca5b16dcc623e30f49b15b25b860100000000ffffffff559f8dcb5d958908d5deb855913cdf03aceeb146f89dfcd489dab12bc5c215070100000000fffffffffa6328a58ee65e8ae0a5624f63547e0e7d7f94ce62e2a77318e0db96d215759e000000006b483045022100a2db1ad4fb5d6edab31fb1216f9c5c6f92edf94fcf2e07124a1c300a930fc32a02202003a3ee0603379027ef92cb1ef20962f52e3bd2f0b3f824db870c67cba63e46012103c4f459d7fc4629543aa13b34f9123edecea3bd8d3769678e9902919e5dc44ec6ffffffff0260e31600000000001976a91452903efc1004de01883ba3687be2a8ea4f6b1b1988ac009d0800000000001600141a70b6f0f03f07109879873bf81367f1043959480247304402206044cd17a2e8500c1afdfe649c00d143f804b3865c20627eaa7966c97282d16f02207e4864a15f6d8449b2900f8d4ed352e4f2f6372b9186eda02da84784729baefe0121021e626715649d11ae350ba982a1f38d19e2603c4b74d0433c1911ed0f407a25dc0002473044022061ae2a678ebe13886ef8079e39a4d1d5b11de69402c4b269bc9e52622e4b75b6022047a353054c17cdf42f3b1c3fc4d39965db150b09eec5d0cc95df3fc6626af19f0121021e626715649d11ae350ba982a1f38d19e2603c4b74d0433c1911ed0f407a25dc024830450221009630b0d58475567a4459f76f8116e997859fb98ecd06d15a3134500501a73de402200562d9dcc7ed41822139c86fd5060c7bdc53a5713daac6b7d3657a291e57d9b00121021e626715649d11ae350ba982a1f38d19e2603c4b74d0433c1911ed0f407a25dc0000000000'"
      ]
     },
     "execution_count": 5,
     "metadata": {},
     "output_type": "execute_result"
    }
   ],
   "source": [
    "my_tx.transaction.serialize().hex()"
   ]
  },
  {
   "cell_type": "code",
   "execution_count": 6,
   "metadata": {},
   "outputs": [
    {
     "name": "stdout",
     "output_type": "stream",
     "text": [
      "get i: None\n",
      "true\n",
      "Path: m/0H/2H/198451525\n",
      "<Record a=<Path start=<Node id=22 labels={'address'} properties={'address': 'n1P8UFvu4WNGPiQBnRxNtBsEfC5KzU4QLb', 'type': 'recipient', 'acc_index': 198451525, 'created': 1586464637210}> end=<Node id=22 labels={'address'} properties={'address': 'n1P8UFvu4WNGPiQBnRxNtBsEfC5KzU4QLb', 'type': 'recipient', 'acc_index': 198451525, 'created': 1586464637210}> size=0>>\n"
     ]
    }
   ],
   "source": [
    "add = my_wallet.create_receiving_address()"
   ]
  },
  {
   "cell_type": "code",
   "execution_count": 12,
   "metadata": {},
   "outputs": [
    {
     "name": "stdout",
     "output_type": "stream",
     "text": [
      "get i: None\n",
      "true\n",
      "Path: m/0H/2H/1120136756\n",
      "<Record a=<Path start=<Node id=9 labels={'address'} properties={'address': 'myr1uCzNKbuLdjS5fAoK1JxsSFNDjPpcx5', 'type': 'recipient', 'acc_index': 1120136756, 'created': 1586404468564}> end=<Node id=9 labels={'address'} properties={'address': 'myr1uCzNKbuLdjS5fAoK1JxsSFNDjPpcx5', 'type': 'recipient', 'acc_index': 1120136756, 'created': 1586404468564}> size=0>>\n"
     ]
    },
    {
     "data": {
      "text/plain": [
       "'myr1uCzNKbuLdjS5fAoK1JxsSFNDjPpcx5'"
      ]
     },
     "execution_count": 12,
     "metadata": {},
     "output_type": "execute_result"
    }
   ],
   "source": [
    "address2=my_wallet.create_receiving_address()\n",
    "address2.address"
   ]
  },
  {
   "cell_type": "code",
   "execution_count": 13,
   "metadata": {},
   "outputs": [
    {
     "name": "stdout",
     "output_type": "stream",
     "text": [
      "get i: None\n",
      "true\n",
      "Path: m/0H/2H/650646505\n",
      "<Record a=<Path start=<Node id=11 labels={'address'} properties={'address': 'ms8Lo8ZKUX7hKrU3RW7U2iE6sGkggMUKF2', 'type': 'recipient', 'acc_index': 650646505, 'created': 1586404479627}> end=<Node id=11 labels={'address'} properties={'address': 'ms8Lo8ZKUX7hKrU3RW7U2iE6sGkggMUKF2', 'type': 'recipient', 'acc_index': 650646505, 'created': 1586404479627}> size=0>>\n"
     ]
    },
    {
     "data": {
      "text/plain": [
       "'ms8Lo8ZKUX7hKrU3RW7U2iE6sGkggMUKF2'"
      ]
     },
     "execution_count": 13,
     "metadata": {},
     "output_type": "execute_result"
    }
   ],
   "source": [
    "address3=my_wallet.create_receiving_address()\n",
    "address3.address"
   ]
  },
  {
   "cell_type": "code",
   "execution_count": 14,
   "metadata": {},
   "outputs": [
    {
     "name": "stdout",
     "output_type": "stream",
     "text": [
      "get i: None\n",
      "true\n",
      "Path: m/0H/2H/31684749\n",
      "<Record a=<Path start=<Node id=13 labels={'address'} properties={'address': 'mtmT6nNoC3AwKxvU92sC5v66PSVdKXFpd3', 'type': 'recipient', 'acc_index': 31684749, 'created': 1586404482808}> end=<Node id=13 labels={'address'} properties={'address': 'mtmT6nNoC3AwKxvU92sC5v66PSVdKXFpd3', 'type': 'recipient', 'acc_index': 31684749, 'created': 1586404482808}> size=0>>\n"
     ]
    },
    {
     "data": {
      "text/plain": [
       "'mtmT6nNoC3AwKxvU92sC5v66PSVdKXFpd3'"
      ]
     },
     "execution_count": 14,
     "metadata": {},
     "output_type": "execute_result"
    }
   ],
   "source": [
    "address4=my_wallet.create_receiving_address()\n",
    "address4.address"
   ]
  },
  {
   "cell_type": "code",
   "execution_count": 15,
   "metadata": {},
   "outputs": [
    {
     "name": "stdout",
     "output_type": "stream",
     "text": [
      "get i: None\n",
      "true\n",
      "Path: m/0H/2H/1709117567\n",
      "<Record a=<Path start=<Node id=14 labels={'address'} properties={'address': 'n4ciCcbpJuJhdvrDF8n4fBQAJgVHDTcdve', 'type': 'recipient', 'acc_index': 1709117567, 'created': 1586404485672}> end=<Node id=14 labels={'address'} properties={'address': 'n4ciCcbpJuJhdvrDF8n4fBQAJgVHDTcdve', 'type': 'recipient', 'acc_index': 1709117567, 'created': 1586404485672}> size=0>>\n"
     ]
    },
    {
     "data": {
      "text/plain": [
       "'n4ciCcbpJuJhdvrDF8n4fBQAJgVHDTcdve'"
      ]
     },
     "execution_count": 15,
     "metadata": {},
     "output_type": "execute_result"
    }
   ],
   "source": [
    "address5=my_wallet.create_receiving_address()\n",
    "address5.address"
   ]
  },
  {
   "cell_type": "code",
   "execution_count": 10,
   "metadata": {},
   "outputs": [
    {
     "name": "stdout",
     "output_type": "stream",
     "text": [
      "6018716354834777059445516500463325153454936853151215624488541646839939367247233986759821493097378851875115552924255831805062990606698886137563075847103799\n"
     ]
    },
    {
     "data": {
      "text/plain": [
       "tprv8ZgxMBicQKsPdZiXgX96dFgvdso3ote8qGxbfb6KS961itG11jwLpAFEnhrpaKnqUn8XsjyEyvFEkhwSZfiqwJkhMgPDruDUh7hUTntjSHb"
      ]
     },
     "execution_count": 10,
     "metadata": {},
     "output_type": "execute_result"
    }
   ],
   "source": [
    "words = \"client sudden sunset borrow pupil rely sand girl prefer movie bachelor guilt giraffe glove much strong dizzy switch ill silent goddess crumble goat power\"\n",
    "mywallet2 = Wallet.recover_from_words(words,entropy=256,passphrase=\"RobertPaulson\",testnet=True)\n",
    "mywallet2\n"
   ]
  },
  {
   "cell_type": "code",
   "execution_count": 12,
   "metadata": {},
   "outputs": [
    {
     "name": "stdout",
     "output_type": "stream",
     "text": [
      "get i: None\n",
      "true\n",
      "Path: m/0H/2H/839389126\n",
      "<Record a=<Path start=<Node id=40 labels={'address'} properties={'address': 'mucD4dKRnaCzmFBeFh8GDYdJb4KRhEbyBk', 'type': 'recipient', 'acc_index': 839389126, 'created': 1586485454634}> end=<Node id=38 labels={'wallet'} properties={'xprv': 'tprv8ZgxMBicQKsPdZiXgX96dFgvdso3ote8qGxbfb6KS961itG11jwLpAFEnhrpaKnqUn8XsjyEyvFEkhwSZfiqwJkhMgPDruDUh7hUTntjSHb'}> size=1>>\n"
     ]
    },
    {
     "data": {
      "text/plain": [
       "Private Key Hex: be3ca4cb02a3db5ead56c6eaa9ac8cdd9f4c00db16ef4d90c561662151bee618"
      ]
     },
     "execution_count": 12,
     "metadata": {},
     "output_type": "execute_result"
    }
   ],
   "source": [
    "mywallet2.create_receiving_address()"
   ]
  },
  {
   "cell_type": "code",
   "execution_count": 13,
   "metadata": {},
   "outputs": [
    {
     "name": "stdout",
     "output_type": "stream",
     "text": [
      "get i: None\n",
      "true\n",
      "Path: m/0H/2H/1544325828\n",
      "<Record a=<Path start=<Node id=12 labels={'address'} properties={'address': 'moY84CDzW5EmpKCK5GUg8VpqiKyUW1wbMA', 'type': 'recipient', 'acc_index': 1544325828, 'created': 1586485518978}> end=<Node id=38 labels={'wallet'} properties={'xprv': 'tprv8ZgxMBicQKsPdZiXgX96dFgvdso3ote8qGxbfb6KS961itG11jwLpAFEnhrpaKnqUn8XsjyEyvFEkhwSZfiqwJkhMgPDruDUh7hUTntjSHb'}> size=1>>\n"
     ]
    },
    {
     "data": {
      "text/plain": [
       "Private Key Hex: 3d3a25dcfdccfcbeb0de1f5f144e8b0b8340754502b9a1faeb5bfcb3bf89a1d8"
      ]
     },
     "execution_count": 13,
     "metadata": {},
     "output_type": "execute_result"
    }
   ],
   "source": [
    "mywallet2.create_receiving_address()"
   ]
  },
  {
   "cell_type": "code",
   "execution_count": 14,
   "metadata": {},
   "outputs": [
    {
     "name": "stdout",
     "output_type": "stream",
     "text": [
      "get i: None\n",
      "true\n",
      "Path: m/0H/1H/1440964919\n",
      "<Record a=<Path start=<Node id=21 labels={'address'} properties={'address': 'tb1qh03fg9kw8x6rn3a9623pygmcm6n7ae7j0j705l', 'type': 'change', 'acc_index': 1440964919, 'created': 1586485766249}> end=<Node id=34 labels={'wallet'} properties={'xprv': 'tprv8ZgxMBicQKsPfQJYjuFAso9x6STzmUdMh5U8CQqqQUTgtQHBHCq4C7FseeeZg15L16UeSwbrLwJRTXNPQsJQwqvbBA11sn4M6c3jR1LwAQP'}> size=1>>\n",
      "size of transaction without signatures: 240\n",
      "fee: 7200\n",
      "change 157280\n",
      "total 564480, diff: 0\n",
      "Address trying to spend from: tb1qrfctdu8s8ur3pxresualsym87yzrjk2gekss6h\n",
      "tb1qrfctdu8s8ur3pxresualsym87yzrjk2gekss6h\n",
      "\n",
      "ABOUT TO SIGN INPUT\n",
      "\n",
      "SIGNING INPUT Segwit: \n",
      "Witness:\n",
      "[b'0D\\x02 Hn\\x8b\\x0c\\xff_\\xaci\\x0b\\x01I&\\x89XPA\\xbby\\xd4\\xc25\\xd9\\xf3[\\x9aS\\xf1W\\r\\xb1\\xb3\\xfa\\x02 d\\xbeAD\\x0b3}\\xdb\\x97\\xf3\\xb2C\\xbeo^st\\x08\\xde\\x97\\x8a\\xd13\\xdc}\\x07\\xe8\\x07lx\\xa3\\x9a\\x01', b'\\x02x\\x10\\x97htv\\x85\\xa8@\\xae\\xd7l\\x8c\\xf0~\\x17+y\\xebT\\n\\x00,@\\xedj\\x84\\xbe\\xb1\\x9b\\xf2Z'] \n",
      "script_pubkey of tx IN: OP_0 1a70b6f0f03f07109879873bf81367f104395948\n",
      "\n",
      "combined script[0, b'\\x1ap\\xb6\\xf0\\xf0?\\x07\\x10\\x98y\\x87;\\xf8\\x13g\\xf1\\x049YH']\n",
      "\n"
     ]
    },
    {
     "ename": "TypeError",
     "evalue": "'int' object is not callable",
     "output_type": "error",
     "traceback": [
      "\u001b[0;31m---------------------------------------------------------------------------\u001b[0m",
      "\u001b[0;31mTypeError\u001b[0m                                 Traceback (most recent call last)",
      "\u001b[0;32m<ipython-input-14-bea73b8a76a1>\u001b[0m in \u001b[0;36m<module>\u001b[0;34m\u001b[0m\n\u001b[0;32m----> 1\u001b[0;31m \u001b[0mmy_wallet\u001b[0m\u001b[0;34m.\u001b[0m\u001b[0msend\u001b[0m\u001b[0;34m(\u001b[0m\u001b[0;34m[\u001b[0m\u001b[0;34m(\u001b[0m\u001b[0;34m\"moY84CDzW5EmpKCK5GUg8VpqiKyUW1wbMA\"\u001b[0m\u001b[0;34m,\u001b[0m\u001b[0;36m400000\u001b[0m\u001b[0;34m)\u001b[0m\u001b[0;34m]\u001b[0m\u001b[0;34m)\u001b[0m\u001b[0;34m\u001b[0m\u001b[0;34m\u001b[0m\u001b[0m\n\u001b[0m",
      "\u001b[0;32m<ipython-input-6-4d37479d026c>\u001b[0m in \u001b[0;36msend\u001b[0;34m(self, to_address_amount_list, segwit)\u001b[0m\n\u001b[1;32m    113\u001b[0m         tx = Transaction.create_from_master( utxos,to_address_amount_list, self,change_account,\n\u001b[1;32m    114\u001b[0m                            fee=None, segwit=segwit)\n\u001b[0;32m--> 115\u001b[0;31m         self.db.new_tx(tx.transaction.id(),[x[\"coin.local_index\"] for x in utxos], \n\u001b[0m\u001b[1;32m    116\u001b[0m                        \u001b[0;31m#[str(x[0])+\":\"+str(x[1]) for x in to_address_amount_list]\u001b[0m\u001b[0;34m\u001b[0m\u001b[0;34m\u001b[0m\u001b[0;34m\u001b[0m\u001b[0m\n\u001b[1;32m    117\u001b[0m                        \u001b[0;34m[\u001b[0m\u001b[0mstr\u001b[0m\u001b[0;34m(\u001b[0m\u001b[0mx\u001b[0m\u001b[0;34m)\u001b[0m \u001b[0;32mfor\u001b[0m \u001b[0mx\u001b[0m \u001b[0;32min\u001b[0m \u001b[0mtx\u001b[0m\u001b[0;34m.\u001b[0m\u001b[0mtransaction\u001b[0m\u001b[0;34m.\u001b[0m\u001b[0mtx_outs\u001b[0m\u001b[0;34m]\u001b[0m\u001b[0;34m\u001b[0m\u001b[0;34m\u001b[0m\u001b[0m\n",
      "\u001b[0;31mTypeError\u001b[0m: 'int' object is not callable"
     ]
    }
   ],
   "source": [
    "my_wallet.send([(\"moY84CDzW5EmpKCK5GUg8VpqiKyUW1wbMA\",200000)])"
   ]
  },
  {
   "cell_type": "code",
   "execution_count": null,
   "metadata": {},
   "outputs": [],
   "source": []
  }
 ],
 "metadata": {
  "kernelspec": {
   "display_name": "Python 3",
   "language": "python",
   "name": "python3"
  },
  "language_info": {
   "codemirror_mode": {
    "name": "ipython",
    "version": 3
   },
   "file_extension": ".py",
   "mimetype": "text/x-python",
   "name": "python",
   "nbconvert_exporter": "python",
   "pygments_lexer": "ipython3",
   "version": "3.7.4"
  }
 },
 "nbformat": 4,
 "nbformat_minor": 4
}
