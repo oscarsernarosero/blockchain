{
 "cells": [
  {
   "cell_type": "code",
   "execution_count": 6,
   "metadata": {},
   "outputs": [],
   "source": [
    "from accounts import MasterAccount, Account, MultSigAccount\n",
    "from transactions import Transaction, MultiSigTransaction\n",
    "from os import urandom"
   ]
  },
  {
   "cell_type": "code",
   "execution_count": 7,
   "metadata": {},
   "outputs": [
    {
     "name": "stdout",
     "output_type": "stream",
     "text": [
      "Copy these words for future recovery:\n",
      "b'illness broccoli unique wall trend dose clip champion direct finish apology what romance tiny wool champion quit siren farm vendor usual interest swap civil'\n"
     ]
    }
   ],
   "source": [
    "my_account = MasterAccount.generate_random(256,\"RobertPauslon\",True)"
   ]
  },
  {
   "cell_type": "code",
   "execution_count": 8,
   "metadata": {},
   "outputs": [
    {
     "data": {
      "text/plain": [
       "tprv8ZgxMBicQKsPeo1SeW9fSvJ4Nzng2qsnn5LVgrKH7G3P2Dzi5V7bQz8wah4Nh8tog3US1pXqEqa3Kn5rNycwWkWKkqouEmMpD74HJbk5J9m"
      ]
     },
     "execution_count": 8,
     "metadata": {},
     "output_type": "execute_result"
    }
   ],
   "source": [
    "my_account"
   ]
  },
  {
   "cell_type": "code",
   "execution_count": null,
   "metadata": {},
   "outputs": [],
   "source": []
  },
  {
   "cell_type": "code",
   "execution_count": 63,
   "metadata": {},
   "outputs": [],
   "source": [
    "class Wallet(MasterAccount):\n",
    "    \n",
    "    default_path = \"m/0H/0H/\"\n",
    "    \n",
    "    @classmethod\n",
    "    def get_i(self, index):\n",
    "        print(f\"before: {index}\")\n",
    "        if not index:\n",
    "            print(f\"get i: {index}\")\n",
    "            i = int.from_bytes(urandom(4),\"big\")\n",
    "            i = i & 0x7fffffff\n",
    "            if i < (2**31-1):print(\"true\")\n",
    "        else:\n",
    "            if index <= (2**31-1):\n",
    "                i = index\n",
    "            else:\n",
    "                raise Exception (f\"index must be less than {2**31-1} \")\n",
    "        return i\n",
    "\n",
    "    #@classmethod\n",
    "    def create_receiving_address(self, addr_type = \"p2pkh\",index=None):\n",
    "        receiving_path = \"m/0H/2H/\"\n",
    "        i = self.get_i(index)\n",
    "        path = receiving_path + str(i)\n",
    "        print(f\"Path: {path}\")\n",
    "        receiving_xtended_acc = self.get_child_from_path(path)\n",
    "        return Account(int.from_bytes(receiving_xtended_acc.private_key,\"big\"),addr_type, self.testnet )\n",
    "\n",
    "    #@classmethod\n",
    "    def create_change_address(self,addr_type = \"p2wpkh\", index=None):\n",
    "        change_path = \"m/0H/1H/\"\n",
    "        i = self.get_i(index)\n",
    "        path = change_path + str(i)\n",
    "        print(f\"Path: {path}\")\n",
    "        change_xtended_acc = self.get_child_from_path(path)\n",
    "        return Account(int.from_bytes(change_xtended_acc.private_key,\"big\"),addr_type, self.testnet )\n",
    "\n",
    "    #@classmethod\n",
    "    #def create_multisig_account(m,public_key_list,account,addr_type=\"p2sh\", testnet = False, segwit=True):\n",
    "    #    n = len(public_key_list)\n",
    "    #    return MultiSigTransaction(m, n, int.from_bytes(account.private_key,\"big\"), public_key_list, addr_type, testnet, segwit)\n",
    "\n",
    "    #@classmethod\n",
    "    def send(self, input_id_list, to_address, amount):\n",
    "        \"\"\"\n",
    "        to_address can be a single address or a list.\n",
    "        amount can be an integer or a list of integers.\n",
    "        If they are lists, they must be ordered in the same way. address 1 will e sent amount 1, \n",
    "        adrress 2 will be sent amount2.. adress n will be sent amount n.\n",
    "        \"\"\"\n",
    "        raise NotImplementedError\n",
    "        \n",
    "    \n",
    "    "
   ]
  },
  {
   "cell_type": "code",
   "execution_count": 56,
   "metadata": {},
   "outputs": [
    {
     "data": {
      "text/plain": [
       "tprv8ZgxMBicQKsPfQJYjuFAso9x6STzmUdMh5U8CQqqQUTgtQHBHCq4C7FseeeZg15L16UeSwbrLwJRTXNPQsJQwqvbBA11sn4M6c3jR1LwAQP"
      ]
     },
     "execution_count": 56,
     "metadata": {},
     "output_type": "execute_result"
    }
   ],
   "source": [
    "words = \"engine over neglect science fatigue dawn axis parent mind man escape era goose border invest slab relax bind desert hurry useless lonely frozen morning\"\n",
    "my_wallet = Wallet.recover_from_words(words, 256, \"RobertPauslon\",True)\n",
    "my_wallet"
   ]
  },
  {
   "cell_type": "code",
   "execution_count": 57,
   "metadata": {},
   "outputs": [
    {
     "name": "stdout",
     "output_type": "stream",
     "text": [
      "before: None\n",
      "get i: None\n",
      "true\n",
      "Path: m/0H/1H/657786173\n"
     ]
    }
   ],
   "source": [
    "change_addr = my_wallet.create_change_address()"
   ]
  },
  {
   "cell_type": "code",
   "execution_count": 60,
   "metadata": {},
   "outputs": [
    {
     "data": {
      "text/plain": [
       "'mhBmvx16ThCdhhC8p6i8NBsj4CswJ7LAt9'"
      ]
     },
     "execution_count": 60,
     "metadata": {},
     "output_type": "execute_result"
    }
   ],
   "source": [
    "receiving_addr.address"
   ]
  },
  {
   "cell_type": "code",
   "execution_count": 59,
   "metadata": {},
   "outputs": [
    {
     "name": "stdout",
     "output_type": "stream",
     "text": [
      "before: None\n",
      "get i: None\n",
      "true\n",
      "Path: m/0H/2H/1743110358\n"
     ]
    }
   ],
   "source": [
    "receiving_addr = my_wallet.create_receiving_address()"
   ]
  },
  {
   "cell_type": "code",
   "execution_count": 62,
   "metadata": {},
   "outputs": [
    {
     "data": {
      "text/plain": [
       "'tb1qyt76fwu0k9ljahf0lfdet6dv7elm2qa8ph4myk'"
      ]
     },
     "execution_count": 62,
     "metadata": {},
     "output_type": "execute_result"
    }
   ],
   "source": [
    "change_addr.address"
   ]
  },
  {
   "cell_type": "code",
   "execution_count": null,
   "metadata": {},
   "outputs": [],
   "source": [
    "my_wallet.xtended_public_key\n"
   ]
  },
  {
   "cell_type": "code",
   "execution_count": 41,
   "metadata": {},
   "outputs": [],
   "source": [
    "from blockcypher import get_address_details\n",
    "ddd = get_address_details('mmrUpegoxABoC9NQ46VaFtZbWxvQDpicQG', coin_symbol = \"btc-testnet\", unspent_only=True)"
   ]
  },
  {
   "cell_type": "code",
   "execution_count": null,
   "metadata": {},
   "outputs": [],
   "source": [
    "import blockcypher"
   ]
  },
  {
   "cell_type": "code",
   "execution_count": 42,
   "metadata": {},
   "outputs": [
    {
     "data": {
      "text/plain": [
       "{'address': 'mmrUpegoxABoC9NQ46VaFtZbWxvQDpicQG',\n",
       " 'total_received': 0,\n",
       " 'total_sent': 0,\n",
       " 'balance': 0,\n",
       " 'unconfirmed_balance': 0,\n",
       " 'final_balance': 0,\n",
       " 'n_tx': 0,\n",
       " 'unconfirmed_n_tx': 0,\n",
       " 'final_n_tx': 0,\n",
       " 'tx_url': 'https://api.blockcypher.com/v1/btc/test3/txs/',\n",
       " 'txrefs': [],\n",
       " 'unconfirmed_txrefs': []}"
      ]
     },
     "execution_count": 42,
     "metadata": {},
     "output_type": "execute_result"
    }
   ],
   "source": [
    "ddd"
   ]
  },
  {
   "cell_type": "code",
   "execution_count": 39,
   "metadata": {},
   "outputs": [
    {
     "name": "stdout",
     "output_type": "stream",
     "text": [
      "before: 1\n",
      "Path: m/0H/2H/1\n"
     ]
    }
   ],
   "source": [
    "hasnt_done_shit = my_wallet.create_receiving_address(my_wallet, addr_type = \"p2pkh\", testnet = True, index=1)"
   ]
  },
  {
   "cell_type": "code",
   "execution_count": 40,
   "metadata": {},
   "outputs": [
    {
     "data": {
      "text/plain": [
       "'mmrUpegoxABoC9NQ46VaFtZbWxvQDpicQG'"
      ]
     },
     "execution_count": 40,
     "metadata": {},
     "output_type": "execute_result"
    }
   ],
   "source": [
    "hasnt_done_shit.address"
   ]
  },
  {
   "cell_type": "code",
   "execution_count": null,
   "metadata": {},
   "outputs": [],
   "source": []
  }
 ],
 "metadata": {
  "kernelspec": {
   "display_name": "Python 3",
   "language": "python",
   "name": "python3"
  },
  "language_info": {
   "codemirror_mode": {
    "name": "ipython",
    "version": 3
   },
   "file_extension": ".py",
   "mimetype": "text/x-python",
   "name": "python",
   "nbconvert_exporter": "python",
   "pygments_lexer": "ipython3",
   "version": "3.7.4"
  }
 },
 "nbformat": 4,
 "nbformat_minor": 4
}
