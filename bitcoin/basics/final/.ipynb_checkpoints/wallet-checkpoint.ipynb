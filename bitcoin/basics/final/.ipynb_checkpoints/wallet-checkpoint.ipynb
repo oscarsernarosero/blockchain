{
 "cells": [
  {
   "cell_type": "code",
   "execution_count": 1,
   "metadata": {},
   "outputs": [],
   "source": [
    "from accounts import MasterAccount, Account, MultSigAccount\n",
    "from transactions import Transaction, MultiSigTransaction\n",
    "from os import urandom\n",
    "from database import WalletDB\n",
    "from blockcypher import get_address_details"
   ]
  },
  {
   "cell_type": "code",
   "execution_count": 5,
   "metadata": {},
   "outputs": [],
   "source": [
    "class Wallet(MasterAccount):\n",
    "    \n",
    "    def __init__(self, depth, fingerprint, index, chain_code, private_key, db_user=\"neo4j\",db_password=\"wallet\", testnet = False):\n",
    "    \n",
    "        self.db = WalletDB( \"neo4j://localhost:7687\" ,db_user ,db_password )\n",
    "        super().__init__( depth, fingerprint, index, chain_code, private_key,testnet)\n",
    "    \n",
    "        #default_path = \"m/0H/0H/\"\n",
    "    \n",
    "    @classmethod\n",
    "    def get_i(self, index):\n",
    "        if not index:\n",
    "            print(f\"get i: {index}\")\n",
    "            i = int.from_bytes(urandom(4),\"big\")\n",
    "            i = i & 0x7fffffff\n",
    "            if i < (2**31-1):print(\"true\")\n",
    "        else:\n",
    "            if index <= (2**31-1):\n",
    "                i = index\n",
    "            else:\n",
    "                raise Exception (f\"index must be less than {2**31-1} \")\n",
    "        return i\n",
    "\n",
    "    #@classmethod\n",
    "    def create_receiving_address(self, addr_type = \"p2pkh\",index=None):\n",
    "        receiving_path = \"m/0H/2H/\"\n",
    "        i = self.get_i(index)\n",
    "        path = receiving_path + str(i)\n",
    "        print(f\"Path: {path}\")\n",
    "        receiving_xtended_acc = self.get_child_from_path(path)\n",
    "        account = Account(int.from_bytes(receiving_xtended_acc.private_key,\"big\"),addr_type, self.testnet )\n",
    "        self.db.new_address(account.address,i,False)\n",
    "        return account\n",
    "\n",
    "    #@classmethod\n",
    "    def create_change_address(self,addr_type = \"p2wpkh\", index=None):\n",
    "        change_path = \"m/0H/1H/\"\n",
    "        i = self.get_i(index)\n",
    "        path = change_path + str(i)\n",
    "        print(f\"Path: {path}\")\n",
    "        change_xtended_acc = self.get_child_from_path(path)\n",
    "        account = Account(int.from_bytes(change_xtended_acc.private_key,\"big\"),addr_type, self.testnet )\n",
    "        self.db.new_address(account.address,i,True)\n",
    "        return account\n",
    "    \n",
    "    def get_utxos(self):\n",
    "        return self.db.look_for_coins()\n",
    "        \n",
    "    def get_balance(self):\n",
    "        coins = self.get_utxos()\n",
    "        balance = 0\n",
    "        for coin in coins:\n",
    "            balance += coin[\"coin.amount\"]\n",
    "        return balance\n",
    "\n",
    "    def update_balance(self):\n",
    "        addresses = self.db.get_all_addresses()\n",
    "        \n",
    "        if self.testnet: coin_symbol = \"btc-testnet\"\n",
    "        else: coin_symbol = \"btc\"\n",
    "            \n",
    "        for address in addresses:\n",
    "            \n",
    "            addr_info = get_address_details(address[\"addr.address\"], coin_symbol = coin_symbol, unspent_only=True)\n",
    "            \n",
    "            if addr_info[\"unconfirmed_n_tx\"] > 0:\n",
    "                for utxo in addr_info[\"unconfirmed_txrefs\"]:\n",
    "                    if not self.db.exists_utxo( utxo[\"tx_hash\"], utxo[\"tx_output_n\"], False):\n",
    "                        print(\"new unconfirmed UTXO\")\n",
    "                        self.db.new_utxo(utxo[\"address\"],utxo[\"tx_hash\"],utxo[\"tx_output_n\"],utxo[\"value\"],False)\n",
    "            \n",
    "            if addr_info[\"n_tx\"] - addr_info[\"unconfirmed_n_tx\"] > 0 :\n",
    "                for utxo in addr_info[\"txrefs\"]:\n",
    "                    if not self.db.exists_utxo( utxo[\"tx_hash\"], utxo[\"tx_output_n\"], True):\n",
    "                        print(\"new confirmed UTXO\")\n",
    "                        self.db.new_utxo(addr_info[\"address\"],utxo[\"tx_hash\"],utxo[\"tx_output_n\"],utxo[\"value\"],True)\n",
    "      \n",
    "        return self.get_balance()\n",
    "    \n",
    "    #@classmethod\n",
    "    #def create_multisig_account(m,public_key_list,account,addr_type=\"p2sh\", testnet = False, segwit=True):\n",
    "    #    n = len(public_key_list)\n",
    "    #    return MultiSigTransaction(m, n, int.from_bytes(account.private_key,\"big\"), public_key_list, addr_type, testnet, segwit)\n",
    "\n",
    "    #@classmethod\n",
    "    def send(self, input_id_list, to_address, amount):\n",
    "        \"\"\"\n",
    "        to_address can be a single address or a list.\n",
    "        amount can be an integer or a list of integers.\n",
    "        If they are lists, they must be ordered in the same way. address 1 will e sent amount 1, \n",
    "        adrress 2 will be sent amount2.. adress n will be sent amount n.\n",
    "        \"\"\"\n",
    "        raise NotImplementedError\n",
    "        \n",
    "    \n",
    "    "
   ]
  },
  {
   "cell_type": "code",
   "execution_count": 3,
   "metadata": {},
   "outputs": [
    {
     "data": {
      "text/plain": [
       "tprv8ZgxMBicQKsPfQJYjuFAso9x6STzmUdMh5U8CQqqQUTgtQHBHCq4C7FseeeZg15L16UeSwbrLwJRTXNPQsJQwqvbBA11sn4M6c3jR1LwAQP"
      ]
     },
     "execution_count": 3,
     "metadata": {},
     "output_type": "execute_result"
    }
   ],
   "source": [
    "words = \"engine over neglect science fatigue dawn axis parent mind man escape era goose border invest slab relax bind desert hurry useless lonely frozen morning\"\n",
    "my_wallet = Wallet.recover_from_words(words, 256, \"RobertPauslon\",True)\n",
    "my_wallet"
   ]
  },
  {
   "cell_type": "code",
   "execution_count": 16,
   "metadata": {},
   "outputs": [
    {
     "name": "stdout",
     "output_type": "stream",
     "text": [
      "before: None\n",
      "get i: None\n",
      "true\n",
      "Path: m/0H/1H/1920255512\n",
      "<Record a=<Path start=<Node id=1 labels={'address'} properties={'address': 'tb1q33psda8sztpq3lc27jyqy5mx57c606x2w70n5h', 'type': 'change', 'acc_index': 1920255512, 'created': 1586288905624}> end=<Node id=1 labels={'address'} properties={'address': 'tb1q33psda8sztpq3lc27jyqy5mx57c606x2w70n5h', 'type': 'change', 'acc_index': 1920255512, 'created': 1586288905624}> size=0>>\n"
     ]
    }
   ],
   "source": [
    "change_addr = my_wallet.create_change_address()"
   ]
  },
  {
   "cell_type": "code",
   "execution_count": 17,
   "metadata": {},
   "outputs": [
    {
     "name": "stdout",
     "output_type": "stream",
     "text": [
      "before: None\n",
      "get i: None\n",
      "true\n",
      "Path: m/0H/2H/1091795145\n",
      "<Record a=<Path start=<Node id=17 labels={'address'} properties={'address': 'n4nzNicx9sYzH6kHa6cVVVSD8nbS7jHFfd', 'type': 'recipient', 'acc_index': 1091795145, 'created': 1586288909972}> end=<Node id=17 labels={'address'} properties={'address': 'n4nzNicx9sYzH6kHa6cVVVSD8nbS7jHFfd', 'type': 'recipient', 'acc_index': 1091795145, 'created': 1586288909972}> size=0>>\n"
     ]
    }
   ],
   "source": [
    "receiving_addr = my_wallet.create_receiving_address()"
   ]
  },
  {
   "cell_type": "code",
   "execution_count": 18,
   "metadata": {},
   "outputs": [
    {
     "data": {
      "text/plain": [
       "'tb1q33psda8sztpq3lc27jyqy5mx57c606x2w70n5h'"
      ]
     },
     "execution_count": 18,
     "metadata": {},
     "output_type": "execute_result"
    }
   ],
   "source": [
    "change_addr.address"
   ]
  },
  {
   "cell_type": "code",
   "execution_count": 19,
   "metadata": {},
   "outputs": [
    {
     "data": {
      "text/plain": [
       "'n4nzNicx9sYzH6kHa6cVVVSD8nbS7jHFfd'"
      ]
     },
     "execution_count": 19,
     "metadata": {},
     "output_type": "execute_result"
    }
   ],
   "source": [
    "receiving_addr.address\n"
   ]
  },
  {
   "cell_type": "code",
   "execution_count": 4,
   "metadata": {},
   "outputs": [
    {
     "name": "stdout",
     "output_type": "stream",
     "text": [
      "<Record p=<Path start=<Node id=6 labels={'utxo'} properties={'transaction_id': '865bb2159bf4303e62cc6db1a55cdd5faf7cf553dddaac9436e79e2f58127900', 'out_index': 1, 'amount': 1000000, 'address': 'tb1q33psda8sztpq3lc27jyqy5mx57c606x2w70n5h', 'spent': False, 'local_index': 2, 'confirmed': False}> end=<Node id=1 labels={'address'} properties={'address': 'tb1q33psda8sztpq3lc27jyqy5mx57c606x2w70n5h', 'type': 'change', 'acc_index': 1920255512, 'created': 1586288905624}> size=1>>\n",
      "<Record p=<Path start=<Node id=7 labels={'utxo'} properties={'transaction_id': '0715c2c52bb1da89d4fc9df846b1eeac03df3c9155b8ded50889955dcb8d9f55', 'out_index': 1, 'amount': 10000, 'address': 'tb1q33psda8sztpq3lc27jyqy5mx57c606x2w70n5h', 'spent': False, 'local_index': 3, 'confirmed': False}> end=<Node id=1 labels={'address'} properties={'address': 'tb1q33psda8sztpq3lc27jyqy5mx57c606x2w70n5h', 'type': 'change', 'acc_index': 1920255512, 'created': 1586288905624}> size=1>>\n",
      "<Record p=<Path start=<Node id=8 labels={'utxo'} properties={'transaction_id': '9e7515d296dbe01873a7e262ce947f7d0e7e54634f62a5e08a5ee68ea52863fa', 'out_index': 0, 'amount': 1000000, 'address': 'n4nzNicx9sYzH6kHa6cVVVSD8nbS7jHFfd', 'spent': False, 'local_index': 4, 'confirmed': False}> end=<Node id=17 labels={'address'} properties={'address': 'n4nzNicx9sYzH6kHa6cVVVSD8nbS7jHFfd', 'type': 'recipient', 'acc_index': 1091795145, 'created': 1586288909972}> size=1>>\n"
     ]
    },
    {
     "data": {
      "text/plain": [
       "2082000"
      ]
     },
     "execution_count": 4,
     "metadata": {},
     "output_type": "execute_result"
    }
   ],
   "source": [
    "my_wallet.update_balance()"
   ]
  },
  {
   "cell_type": "code",
   "execution_count": 19,
   "metadata": {},
   "outputs": [
    {
     "ename": "NameError",
     "evalue": "name 'receiving_addr' is not defined",
     "output_type": "error",
     "traceback": [
      "\u001b[0;31m---------------------------------------------------------------------------\u001b[0m",
      "\u001b[0;31mNameError\u001b[0m                                 Traceback (most recent call last)",
      "\u001b[0;32m<ipython-input-19-575e510cbf85>\u001b[0m in \u001b[0;36m<module>\u001b[0;34m\u001b[0m\n\u001b[0;32m----> 1\u001b[0;31m \u001b[0mtype\u001b[0m\u001b[0;34m(\u001b[0m\u001b[0mreceiving_addr\u001b[0m\u001b[0;34m.\u001b[0m\u001b[0maddress\u001b[0m\u001b[0;34m)\u001b[0m\u001b[0;34m\u001b[0m\u001b[0;34m\u001b[0m\u001b[0m\n\u001b[0m",
      "\u001b[0;31mNameError\u001b[0m: name 'receiving_addr' is not defined"
     ]
    }
   ],
   "source": [
    "type(receiving_addr.address)"
   ]
  },
  {
   "cell_type": "code",
   "execution_count": 25,
   "metadata": {},
   "outputs": [],
   "source": [
    "\n",
    "ddd = get_address_details('n4nzNicx9sYzH6kHa6cVVVSD8nbS7jHFfd', coin_symbol = \"btc-testnet\", unspent_only=True)"
   ]
  },
  {
   "cell_type": "code",
   "execution_count": 26,
   "metadata": {},
   "outputs": [
    {
     "data": {
      "text/plain": [
       "{'address': 'n4nzNicx9sYzH6kHa6cVVVSD8nbS7jHFfd',\n",
       " 'total_received': 50000,\n",
       " 'total_sent': 0,\n",
       " 'balance': 50000,\n",
       " 'unconfirmed_balance': 0,\n",
       " 'final_balance': 50000,\n",
       " 'n_tx': 1,\n",
       " 'unconfirmed_n_tx': 0,\n",
       " 'final_n_tx': 1,\n",
       " 'txrefs': [{'tx_hash': '7e466d74ee32e8fe611c11ac86b9b7c39996ff9476ea09875a06f02ecab42ada',\n",
       "   'block_height': 1696602,\n",
       "   'tx_input_n': -1,\n",
       "   'tx_output_n': 1,\n",
       "   'value': 50000,\n",
       "   'ref_balance': 50000,\n",
       "   'spent': False,\n",
       "   'confirmations': 2,\n",
       "   'confirmed': datetime.datetime(2020, 4, 7, 21, 47, 41, tzinfo=tzutc()),\n",
       "   'double_spend': False}],\n",
       " 'tx_url': 'https://api.blockcypher.com/v1/btc/test3/txs/',\n",
       " 'unconfirmed_txrefs': []}"
      ]
     },
     "execution_count": 26,
     "metadata": {},
     "output_type": "execute_result"
    }
   ],
   "source": [
    "ddd"
   ]
  },
  {
   "cell_type": "code",
   "execution_count": 27,
   "metadata": {},
   "outputs": [
    {
     "ename": "KeyError",
     "evalue": "'address'",
     "output_type": "error",
     "traceback": [
      "\u001b[0;31m---------------------------------------------------------------------------\u001b[0m",
      "\u001b[0;31mKeyError\u001b[0m                                  Traceback (most recent call last)",
      "\u001b[0;32m<ipython-input-27-8cf57787ff8c>\u001b[0m in \u001b[0;36m<module>\u001b[0;34m\u001b[0m\n\u001b[0;32m----> 1\u001b[0;31m \u001b[0mddd\u001b[0m\u001b[0;34m[\u001b[0m\u001b[0;34m\"txrefs\"\u001b[0m\u001b[0;34m]\u001b[0m\u001b[0;34m[\u001b[0m\u001b[0;36m0\u001b[0m\u001b[0;34m]\u001b[0m\u001b[0;34m[\u001b[0m\u001b[0;34m\"address\"\u001b[0m\u001b[0;34m]\u001b[0m\u001b[0;34m\u001b[0m\u001b[0;34m\u001b[0m\u001b[0m\n\u001b[0m",
      "\u001b[0;31mKeyError\u001b[0m: 'address'"
     ]
    }
   ],
   "source": [
    "ddd[\"txrefs\"][0][\"address\"]"
   ]
  },
  {
   "cell_type": "code",
   "execution_count": 28,
   "metadata": {},
   "outputs": [
    {
     "data": {
      "text/plain": [
       "50000"
      ]
     },
     "execution_count": 28,
     "metadata": {},
     "output_type": "execute_result"
    }
   ],
   "source": [
    "ddd[\"txrefs\"][0][\"value\"]"
   ]
  },
  {
   "cell_type": "code",
   "execution_count": 29,
   "metadata": {},
   "outputs": [
    {
     "data": {
      "text/plain": [
       "'7e466d74ee32e8fe611c11ac86b9b7c39996ff9476ea09875a06f02ecab42ada'"
      ]
     },
     "execution_count": 29,
     "metadata": {},
     "output_type": "execute_result"
    }
   ],
   "source": [
    "ddd[\"txrefs\"][0][\"tx_hash\"]"
   ]
  },
  {
   "cell_type": "code",
   "execution_count": 30,
   "metadata": {},
   "outputs": [
    {
     "data": {
      "text/plain": [
       "1"
      ]
     },
     "execution_count": 30,
     "metadata": {},
     "output_type": "execute_result"
    }
   ],
   "source": [
    "ddd[\"txrefs\"][0][\"tx_output_n\"]"
   ]
  },
  {
   "cell_type": "code",
   "execution_count": 31,
   "metadata": {},
   "outputs": [
    {
     "data": {
      "text/plain": [
       "0"
      ]
     },
     "execution_count": 31,
     "metadata": {},
     "output_type": "execute_result"
    }
   ],
   "source": [
    "ddd[\"unconfirmed_n_tx\"]"
   ]
  },
  {
   "cell_type": "code",
   "execution_count": 38,
   "metadata": {},
   "outputs": [],
   "source": [
    "ddd2 = ddd[\"txrefs\"]"
   ]
  },
  {
   "cell_type": "code",
   "execution_count": 40,
   "metadata": {},
   "outputs": [
    {
     "data": {
      "text/plain": [
       "{'tx_hash': '7e466d74ee32e8fe611c11ac86b9b7c39996ff9476ea09875a06f02ecab42ada',\n",
       " 'block_height': 1696602,\n",
       " 'tx_input_n': -1,\n",
       " 'tx_output_n': 1,\n",
       " 'value': 50000,\n",
       " 'ref_balance': 50000,\n",
       " 'spent': False,\n",
       " 'confirmations': 2,\n",
       " 'confirmed': datetime.datetime(2020, 4, 7, 21, 47, 41, tzinfo=tzutc()),\n",
       " 'double_spend': False}"
      ]
     },
     "execution_count": 40,
     "metadata": {},
     "output_type": "execute_result"
    }
   ],
   "source": [
    "ddd2[0]"
   ]
  },
  {
   "cell_type": "code",
   "execution_count": 5,
   "metadata": {},
   "outputs": [],
   "source": [
    "x = [{'coin.amount': 22000, 'coin.confirmed': True}]"
   ]
  },
  {
   "cell_type": "code",
   "execution_count": 6,
   "metadata": {},
   "outputs": [
    {
     "data": {
      "text/plain": [
       "{'coin.amount': 22000, 'coin.confirmed': True}"
      ]
     },
     "execution_count": 6,
     "metadata": {},
     "output_type": "execute_result"
    }
   ],
   "source": [
    "x[0]"
   ]
  },
  {
   "cell_type": "code",
   "execution_count": null,
   "metadata": {},
   "outputs": [],
   "source": []
  }
 ],
 "metadata": {
  "kernelspec": {
   "display_name": "Python 3",
   "language": "python",
   "name": "python3"
  },
  "language_info": {
   "codemirror_mode": {
    "name": "ipython",
    "version": 3
   },
   "file_extension": ".py",
   "mimetype": "text/x-python",
   "name": "python",
   "nbconvert_exporter": "python",
   "pygments_lexer": "ipython3",
   "version": "3.7.4"
  }
 },
 "nbformat": 4,
 "nbformat_minor": 4
}
