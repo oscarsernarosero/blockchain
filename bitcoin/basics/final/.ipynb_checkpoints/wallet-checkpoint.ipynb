{
 "cells": [
  {
   "cell_type": "code",
   "execution_count": 8,
   "metadata": {},
   "outputs": [],
   "source": [
    "from accounts import MasterAccount, Account, MultSigAccount\n",
    "from transactions import Transaction, MultiSigTransaction\n",
    "from os import urandom\n",
    "from database import WalletDB\n",
    "from blockcypher import get_address_details\n",
    "#from bip39 import Mnemonic\n",
    "from blockcypher import pushtx\n",
    "from dotenv import load_dotenv\n",
    "import os"
   ]
  },
  {
   "cell_type": "code",
   "execution_count": 27,
   "metadata": {},
   "outputs": [],
   "source": [
    "class Wallet(MasterAccount):\n",
    "    \n",
    "    def __init__(self, depth, fingerprint, index, chain_code, private_key, db_user=\"neo4j\",db_password=\"wallet\", testnet = False):\n",
    "    \n",
    "        load_dotenv()\n",
    "        BLOCKCYPHER_API_KEY = os.getenv('BLOCKCYPHER_API_KEY')\n",
    "        \n",
    "        \n",
    "        self.db = WalletDB( \"neo4j://localhost:7687\" ,db_user ,db_password )\n",
    "        super().__init__( depth, fingerprint, index, chain_code, private_key,testnet)\n",
    "        \n",
    "        if not self.db.exist_wallet(self.get_xtended_key()):\n",
    "            self.db.new_wallet(self.get_xtended_key())\n",
    "        \n",
    "    \n",
    "        #default_path = \"m/0H/0H/\"\n",
    "  \n",
    "    @classmethod\n",
    "    def get_i(self, index):\n",
    "        if index is None:\n",
    "            print(f\"get i: {index}\")\n",
    "            i = int.from_bytes(urandom(4),\"big\")\n",
    "            i = i & 0x7fffffff\n",
    "            if i < (2**31-1):print(\"true\")\n",
    "        else:\n",
    "            if index <= (2**31-1):\n",
    "                i = index\n",
    "            else:\n",
    "                raise Exception (f\"index must be less than {2**31-1} \")\n",
    "        return i\n",
    "\n",
    "    #@classmethod\n",
    "    def create_receiving_address(self, addr_type = \"p2pkh\",index=None):\n",
    "        receiving_path = \"m/0H/2H/\"\n",
    "        i = self.get_i(index)\n",
    "        path = receiving_path + str(i)\n",
    "        print(f\"Path: {path}\")\n",
    "        receiving_xtended_acc = self.get_child_from_path(path)\n",
    "        account = Account(int.from_bytes(receiving_xtended_acc.private_key,\"big\"),addr_type, self.testnet )\n",
    "        self.db.new_address(account.address,i,False, self.get_xtended_key())\n",
    "        return account\n",
    "\n",
    "    #@classmethod\n",
    "    def create_change_address(self,addr_type = \"p2wpkh\", index=None):\n",
    "        change_path = \"m/0H/1H/\"\n",
    "        i = self.get_i(index)\n",
    "        path = change_path + str(i)\n",
    "        print(f\"Path: {path}\")\n",
    "        change_xtended_acc = self.get_child_from_path(path)\n",
    "        account = Account(int.from_bytes(change_xtended_acc.private_key,\"big\"),addr_type, self.testnet )\n",
    "        self.db.new_address(account.address,i,True, self.get_xtended_key())\n",
    "        return account\n",
    "    \n",
    "    def get_utxos(self):\n",
    "        return self.db.look_for_coins(self.get_xtended_key())\n",
    "        \n",
    "    def get_balance(self):\n",
    "        coins = self.get_utxos()\n",
    "        balance = 0\n",
    "        for coin in coins:\n",
    "            balance += coin[\"coin.amount\"]\n",
    "        return balance\n",
    "\n",
    "    def update_balance(self):\n",
    "        addresses = self.db.get_all_addresses(self.get_xtended_key())\n",
    "        \n",
    "        if self.testnet: coin_symbol = \"btc-testnet\"\n",
    "        else: coin_symbol = \"btc\"\n",
    "            \n",
    "        for address in addresses:\n",
    "            \n",
    "            addr_info = get_address_details(address[\"addr.address\"], coin_symbol = coin_symbol, unspent_only=True)\n",
    "            \n",
    "            if addr_info[\"unconfirmed_n_tx\"] > 0:\n",
    "                for utxo in addr_info[\"unconfirmed_txrefs\"]:\n",
    "                    if not self.db.exist_utxo( utxo[\"tx_hash\"], utxo[\"tx_output_n\"], False):\n",
    "                        print(\"new unconfirmed UTXO\")\n",
    "                        self.db.new_utxo(utxo[\"address\"],utxo[\"tx_hash\"],utxo[\"tx_output_n\"],utxo[\"value\"],False)\n",
    "            \n",
    "            if addr_info[\"n_tx\"] - addr_info[\"unconfirmed_n_tx\"] > 0 :\n",
    "                for utxo in addr_info[\"txrefs\"]:\n",
    "                    if not self.db.exist_utxo( utxo[\"tx_hash\"], utxo[\"tx_output_n\"], True):\n",
    "                        print(\"new confirmed UTXO\")\n",
    "                        self.db.new_utxo(addr_info[\"address\"],utxo[\"tx_hash\"],utxo[\"tx_output_n\"],utxo[\"value\"],True)\n",
    "      \n",
    "        return self.get_balance()\n",
    "    \n",
    "    #@classmethod\n",
    "    #def create_multisig_account(m,public_key_list,account,addr_type=\"p2sh\", testnet = False, segwit=True):\n",
    "    #    n = len(public_key_list)\n",
    "    #    return MultiSigTransaction(m, n, int.from_bytes(account.private_key,\"big\"), public_key_list, addr_type, testnet, segwit)\n",
    "\n",
    "    #@classmethod\n",
    "    def send(self, to_address_amount_list, segwit=True):\n",
    "        \"\"\"\n",
    "        to_address can be a single address or a list.\n",
    "        amount can be an integer or a list of integers.\n",
    "        If they are lists, they must be ordered in the same way. address 1 will e sent amount 1, \n",
    "        adrress 2 will be sent amount2.. adress n will be sent amount n.\n",
    "        \"\"\"\n",
    "        total_amount = 0\n",
    "        for output in to_address_amount_list:\n",
    "            total_amount += output[1]\n",
    "            \n",
    "        balance = self.get_balance()\n",
    "        if total_amount>balance:\n",
    "            raise Exception(f\"Not enough funds in wallet for this transaction.\\nOnly {balance} satoshis available\")\n",
    "            \n",
    "        all_utxos = self.get_utxos()\n",
    "        utxos = []\n",
    "        utxo_total = 0\n",
    "        for utxo in all_utxos:\n",
    "            if utxo[\"coin.amount\"] > total_amount*1.1:\n",
    "                utxos = [utxo]\n",
    "                break\n",
    "                \n",
    "        if len(utxos)==0:    \n",
    "            for utxo in all_utxos:\n",
    "                utxos.append(utxo)\n",
    "                utxo_total += utxo[\"coin.amount\"]\n",
    "                if utxo_total>total_amount: break\n",
    "        change_account = self.create_change_address()\n",
    "          \n",
    "        tx = Transaction.create_from_master( utxos,to_address_amount_list, self,change_account,\n",
    "                           fee=None, segwit=segwit)\n",
    "        print(f\"TRANSACTION ID: {tx.transaction.id()}\")\n",
    "        self.db.new_tx(tx.transaction.id(),[x[\"coin.local_index\"] for x in utxos], \n",
    "                       #[str(x[0])+\":\"+str(x[1]) for x in to_address_amount_list]\n",
    "                       [str(x) for x in tx.transaction.tx_outs]\n",
    "                      )\n",
    "        if self.testnet: symbol = \"btc-testnet\"\n",
    "        else: symbol= \"btc\"\n",
    "        \n",
    "        push = pushtx(tx_hex= tx.transaction.serialize().hex(), coin_symbol=symbol,api_key=BLOCKCYPHER_API_KEY)\n",
    "        #print(push)\n",
    "        \n",
    "        self.db.update_utxo(tx.transaction.id())\n",
    "        \n",
    "        return tx,push\n",
    "        \n",
    "    \n",
    "    "
   ]
  },
  {
   "cell_type": "code",
   "execution_count": 28,
   "metadata": {},
   "outputs": [
    {
     "name": "stdout",
     "output_type": "stream",
     "text": [
      "8418572761394767459444418608530371567217744336876557229650655736270882421023962287566834689847418048023007033142570964655978481626857402470209587761075589\n"
     ]
    },
    {
     "data": {
      "text/plain": [
       "tprv8ZgxMBicQKsPfQJYjuFAso9x6STzmUdMh5U8CQqqQUTgtQHBHCq4C7FseeeZg15L16UeSwbrLwJRTXNPQsJQwqvbBA11sn4M6c3jR1LwAQP"
      ]
     },
     "execution_count": 28,
     "metadata": {},
     "output_type": "execute_result"
    }
   ],
   "source": [
    "words = \"engine over neglect science fatigue dawn axis parent mind man escape era goose border invest slab relax bind desert hurry useless lonely frozen morning\"\n",
    "my_wallet = Wallet.recover_from_words(words, 256, \"RobertPauslon\",True)\n",
    "my_wallet"
   ]
  },
  {
   "cell_type": "code",
   "execution_count": 16,
   "metadata": {},
   "outputs": [
    {
     "data": {
      "text/plain": [
       "1214340"
      ]
     },
     "execution_count": 16,
     "metadata": {},
     "output_type": "execute_result"
    }
   ],
   "source": [
    "my_wallet.update_balance()"
   ]
  },
  {
   "cell_type": "code",
   "execution_count": 4,
   "metadata": {},
   "outputs": [
    {
     "data": {
      "text/plain": [
       "'857060'"
      ]
     },
     "execution_count": 4,
     "metadata": {},
     "output_type": "execute_result"
    }
   ],
   "source": [
    "\"857060\""
   ]
  },
  {
   "cell_type": "code",
   "execution_count": 5,
   "metadata": {},
   "outputs": [
    {
     "data": {
      "text/plain": [
       "[{'coin.transaction_id': 'ed151c48ab59cd5c0f3391a2a7a93266de107b4c28313981470ef45d0e5706f3',\n",
       "  'coin.out_index': 1,\n",
       "  'coin.address': 'tb1qrfctdu8s8ur3pxresualsym87yzrjk2gekss6h',\n",
       "  'coin.amount': 564480,\n",
       "  'coin.local_index': 5,\n",
       "  'address.acc_index': 2075555818,\n",
       "  'address.type': 'change'},\n",
       " {'coin.transaction_id': '5af82dce283969f559cac2709a16e1ed560132fc3a5f284a2fd485f2d07647e5',\n",
       "  'coin.out_index': 1,\n",
       "  'coin.address': 'myr1uCzNKbuLdjS5fAoK1JxsSFNDjPpcx5',\n",
       "  'coin.amount': 1000000,\n",
       "  'coin.local_index': 6,\n",
       "  'address.acc_index': 1120136756,\n",
       "  'address.type': 'recipient'},\n",
       " {'coin.transaction_id': '5b6f47b80a2c73e4e304eb23047db01995cffbd6477b87afbb8f749f0ffd1a23',\n",
       "  'coin.out_index': 0,\n",
       "  'coin.address': 'ms8Lo8ZKUX7hKrU3RW7U2iE6sGkggMUKF2',\n",
       "  'coin.amount': 20000,\n",
       "  'coin.local_index': 7,\n",
       "  'address.acc_index': 650646505,\n",
       "  'address.type': 'recipient'},\n",
       " {'coin.transaction_id': '84c8bf727f923d56a5cc311db94afca0b17d9f1b45580e7bb6fef7bf1c48188b',\n",
       "  'coin.out_index': 0,\n",
       "  'coin.address': 'mtmT6nNoC3AwKxvU92sC5v66PSVdKXFpd3',\n",
       "  'coin.amount': 50000,\n",
       "  'coin.local_index': 8,\n",
       "  'address.acc_index': 31684749,\n",
       "  'address.type': 'recipient'},\n",
       " {'coin.transaction_id': 'e45d5baafa966c428d3e07cd4b1a7e11b15ea4364b4530e04bbaafd2cb88803b',\n",
       "  'coin.out_index': 1,\n",
       "  'coin.address': 'n4ciCcbpJuJhdvrDF8n4fBQAJgVHDTcdve',\n",
       "  'coin.amount': 2000,\n",
       "  'coin.local_index': 9,\n",
       "  'address.acc_index': 1709117567,\n",
       "  'address.type': 'recipient'}]"
      ]
     },
     "execution_count": 5,
     "metadata": {},
     "output_type": "execute_result"
    }
   ],
   "source": [
    "my_wallet.get_utxos()"
   ]
  },
  {
   "cell_type": "code",
   "execution_count": 4,
   "metadata": {
    "collapsed": true,
    "jupyter": {
     "outputs_hidden": true
    }
   },
   "outputs": [
    {
     "name": "stdout",
     "output_type": "stream",
     "text": [
      "get i: None\n",
      "true\n",
      "Path: m/0H/1H/2075555818\n",
      "<Record a=<Path start=<Node id=24 labels={'address'} properties={'address': 'tb1qrfctdu8s8ur3pxresualsym87yzrjk2gekss6h', 'type': 'change', 'acc_index': 2075555818, 'created': 1586399738082}> end=<Node id=24 labels={'address'} properties={'address': 'tb1qrfctdu8s8ur3pxresualsym87yzrjk2gekss6h', 'type': 'change', 'acc_index': 2075555818, 'created': 1586399738082}> size=0>>\n",
      "size of transaction without signatures: 584\n",
      "fee: 17520\n",
      "change 564480\n",
      "total 2082000, diff: 0\n",
      "Address trying to spend from: tb1q33psda8sztpq3lc27jyqy5mx57c606x2w70n5h\n",
      "tb1q33psda8sztpq3lc27jyqy5mx57c606x2w70n5h\n",
      "\n",
      "ABOUT TO SIGN INPUT\n",
      "\n",
      "SIGNING INPUT Segwit: \n",
      "Witness:\n",
      "[b'0D\\x02 `D\\xcd\\x17\\xa2\\xe8P\\x0c\\x1a\\xfd\\xfed\\x9c\\x00\\xd1C\\xf8\\x04\\xb3\\x86\\\\ b~\\xaayf\\xc9r\\x82\\xd1o\\x02 ~Hd\\xa1_m\\x84I\\xb2\\x90\\x0f\\x8dN\\xd3R\\xe4\\xf2\\xf67+\\x91\\x86\\xed\\xa0-\\xa8G\\x84r\\x9b\\xae\\xfe\\x01', b'\\x02\\x1ebg\\x15d\\x9d\\x11\\xae5\\x0b\\xa9\\x82\\xa1\\xf3\\x8d\\x19\\xe2`<Kt\\xd0C<\\x19\\x11\\xed\\x0f@z%\\xdc'] \n",
      "script_pubkey of tx IN: OP_0 8c4306f4f012c208ff0af488025366a7b1a7e8ca\n",
      "\n",
      "combined script[0, b'\\x8cC\\x06\\xf4\\xf0\\x12\\xc2\\x08\\xff\\n\\xf4\\x88\\x02Sf\\xa7\\xb1\\xa7\\xe8\\xca']\n",
      "\n",
      "Address trying to spend from: n4nzNicx9sYzH6kHa6cVVVSD8nbS7jHFfd\n",
      "n4nzNicx9sYzH6kHa6cVVVSD8nbS7jHFfd\n",
      "\n",
      "ABOUT TO SIGN INPUT\n",
      "\n",
      "SIGNING INPUT not segwit: \n",
      "SCRIPT SIG:\n",
      "30440220665d3d2a16cf8906e86c43f53b3e06835a5c5e1c538c247f53debb86369f3905022077b69c464536e9f44b39373530ba41f3618a24304150b3369cf99fd9645c994701 03c4f459d7fc4629543aa13b34f9123edecea3bd8d3769678e9902919e5dc44ec6 \n",
      "script_pubkey of tx IN: OP_DUP OP_HASH160 ff5348f9e2a71bf6bdd17dab47d94ae89f3443bf OP_EQUALVERIFY OP_CHECKSIG\n",
      "\n",
      "combined script[b'0D\\x02 f]=*\\x16\\xcf\\x89\\x06\\xe8lC\\xf5;>\\x06\\x83Z\\\\^\\x1cS\\x8c$\\x7fS\\xde\\xbb\\x866\\x9f9\\x05\\x02 w\\xb6\\x9cFE6\\xe9\\xf4K9750\\xbaA\\xf3a\\x8a$0AP\\xb36\\x9c\\xf9\\x9f\\xd9d\\\\\\x99G\\x01', b'\\x03\\xc4\\xf4Y\\xd7\\xfcF)T:\\xa1;4\\xf9\\x12>\\xde\\xce\\xa3\\xbd\\x8d7ig\\x8e\\x99\\x02\\x91\\x9e]\\xc4N\\xc6', 118, 169, b'\\xffSH\\xf9\\xe2\\xa7\\x1b\\xf6\\xbd\\xd1}\\xabG\\xd9J\\xe8\\x9f4C\\xbf', 136, 172]\n",
      "\n",
      "Address trying to spend from: tb1q33psda8sztpq3lc27jyqy5mx57c606x2w70n5h\n",
      "tb1q33psda8sztpq3lc27jyqy5mx57c606x2w70n5h\n",
      "\n",
      "ABOUT TO SIGN INPUT\n",
      "\n",
      "SIGNING INPUT Segwit: \n",
      "Witness:\n",
      "[b'0D\\x02 a\\xae*g\\x8e\\xbe\\x13\\x88n\\xf8\\x07\\x9e9\\xa4\\xd1\\xd5\\xb1\\x1d\\xe6\\x94\\x02\\xc4\\xb2i\\xbc\\x9eRb.Ku\\xb6\\x02 G\\xa3S\\x05L\\x17\\xcd\\xf4/;\\x1c?\\xc4\\xd3\\x99e\\xdb\\x15\\x0b\\t\\xee\\xc5\\xd0\\xcc\\x95\\xdf?\\xc6bj\\xf1\\x9f\\x01', b'\\x02\\x1ebg\\x15d\\x9d\\x11\\xae5\\x0b\\xa9\\x82\\xa1\\xf3\\x8d\\x19\\xe2`<Kt\\xd0C<\\x19\\x11\\xed\\x0f@z%\\xdc'] \n",
      "script_pubkey of tx IN: OP_0 8c4306f4f012c208ff0af488025366a7b1a7e8ca\n",
      "\n",
      "combined script[0, b'\\x8cC\\x06\\xf4\\xf0\\x12\\xc2\\x08\\xff\\n\\xf4\\x88\\x02Sf\\xa7\\xb1\\xa7\\xe8\\xca']\n",
      "\n",
      "Address trying to spend from: tb1q33psda8sztpq3lc27jyqy5mx57c606x2w70n5h\n",
      "tb1q33psda8sztpq3lc27jyqy5mx57c606x2w70n5h\n",
      "\n",
      "ABOUT TO SIGN INPUT\n",
      "\n",
      "SIGNING INPUT Segwit: \n",
      "Witness:\n",
      "[b'0E\\x02!\\x00\\x960\\xb0\\xd5\\x84uVzDY\\xf7o\\x81\\x16\\xe9\\x97\\x85\\x9f\\xb9\\x8e\\xcd\\x06\\xd1Z14P\\x05\\x01\\xa7=\\xe4\\x02 \\x05b\\xd9\\xdc\\xc7\\xedA\\x82!9\\xc8o\\xd5\\x06\\x0c{\\xdcS\\xa5q=\\xaa\\xc6\\xb7\\xd3ez)\\x1eW\\xd9\\xb0\\x01', b'\\x02\\x1ebg\\x15d\\x9d\\x11\\xae5\\x0b\\xa9\\x82\\xa1\\xf3\\x8d\\x19\\xe2`<Kt\\xd0C<\\x19\\x11\\xed\\x0f@z%\\xdc'] \n",
      "script_pubkey of tx IN: OP_0 8c4306f4f012c208ff0af488025366a7b1a7e8ca\n",
      "\n",
      "combined script[0, b'\\x8cC\\x06\\xf4\\xf0\\x12\\xc2\\x08\\xff\\n\\xf4\\x88\\x02Sf\\xa7\\xb1\\xa7\\xe8\\xca']\n",
      "\n",
      "Address trying to spend from: n4nzNicx9sYzH6kHa6cVVVSD8nbS7jHFfd\n",
      "n4nzNicx9sYzH6kHa6cVVVSD8nbS7jHFfd\n",
      "\n",
      "ABOUT TO SIGN INPUT\n",
      "\n",
      "SIGNING INPUT not segwit: \n",
      "SCRIPT SIG:\n",
      "3045022100a2db1ad4fb5d6edab31fb1216f9c5c6f92edf94fcf2e07124a1c300a930fc32a02202003a3ee0603379027ef92cb1ef20962f52e3bd2f0b3f824db870c67cba63e4601 03c4f459d7fc4629543aa13b34f9123edecea3bd8d3769678e9902919e5dc44ec6 \n",
      "script_pubkey of tx IN: OP_DUP OP_HASH160 ff5348f9e2a71bf6bdd17dab47d94ae89f3443bf OP_EQUALVERIFY OP_CHECKSIG\n",
      "\n",
      "combined script[b\"0E\\x02!\\x00\\xa2\\xdb\\x1a\\xd4\\xfb]n\\xda\\xb3\\x1f\\xb1!o\\x9c\\\\o\\x92\\xed\\xf9O\\xcf.\\x07\\x12J\\x1c0\\n\\x93\\x0f\\xc3*\\x02  \\x03\\xa3\\xee\\x06\\x037\\x90'\\xef\\x92\\xcb\\x1e\\xf2\\tb\\xf5.;\\xd2\\xf0\\xb3\\xf8$\\xdb\\x87\\x0cg\\xcb\\xa6>F\\x01\", b'\\x03\\xc4\\xf4Y\\xd7\\xfcF)T:\\xa1;4\\xf9\\x12>\\xde\\xce\\xa3\\xbd\\x8d7ig\\x8e\\x99\\x02\\x91\\x9e]\\xc4N\\xc6', 118, 169, b'\\xffSH\\xf9\\xe2\\xa7\\x1b\\xf6\\xbd\\xd1}\\xabG\\xd9J\\xe8\\x9f4C\\xbf', 136, 172]\n",
      "\n",
      "None\n"
     ]
    }
   ],
   "source": [
    "my_tx = my_wallet.send([(\"mo3WWB4PoSHrudEBik1nUqfn1uZEPNYEc8\",1500000)])"
   ]
  },
  {
   "cell_type": "code",
   "execution_count": 5,
   "metadata": {
    "collapsed": true,
    "jupyter": {
     "outputs_hidden": true
    }
   },
   "outputs": [
    {
     "data": {
      "text/plain": [
       "'01000000000105a5e262e3d334cd6b5f3fffddf8679cfd699d6efb48f6f0b7cb57fcf2f7adcea60000000000ffffffffda2ab4ca2ef0065a8709ea7694ff9699c3b7b986ac111c61fee832ee746d467e010000006a4730440220665d3d2a16cf8906e86c43f53b3e06835a5c5e1c538c247f53debb86369f3905022077b69c464536e9f44b39373530ba41f3618a24304150b3369cf99fd9645c9947012103c4f459d7fc4629543aa13b34f9123edecea3bd8d3769678e9902919e5dc44ec6ffffffff007912582f9ee73694acdadd53f57caf5fdd5ca5b16dcc623e30f49b15b25b860100000000ffffffff559f8dcb5d958908d5deb855913cdf03aceeb146f89dfcd489dab12bc5c215070100000000fffffffffa6328a58ee65e8ae0a5624f63547e0e7d7f94ce62e2a77318e0db96d215759e000000006b483045022100a2db1ad4fb5d6edab31fb1216f9c5c6f92edf94fcf2e07124a1c300a930fc32a02202003a3ee0603379027ef92cb1ef20962f52e3bd2f0b3f824db870c67cba63e46012103c4f459d7fc4629543aa13b34f9123edecea3bd8d3769678e9902919e5dc44ec6ffffffff0260e31600000000001976a91452903efc1004de01883ba3687be2a8ea4f6b1b1988ac009d0800000000001600141a70b6f0f03f07109879873bf81367f1043959480247304402206044cd17a2e8500c1afdfe649c00d143f804b3865c20627eaa7966c97282d16f02207e4864a15f6d8449b2900f8d4ed352e4f2f6372b9186eda02da84784729baefe0121021e626715649d11ae350ba982a1f38d19e2603c4b74d0433c1911ed0f407a25dc0002473044022061ae2a678ebe13886ef8079e39a4d1d5b11de69402c4b269bc9e52622e4b75b6022047a353054c17cdf42f3b1c3fc4d39965db150b09eec5d0cc95df3fc6626af19f0121021e626715649d11ae350ba982a1f38d19e2603c4b74d0433c1911ed0f407a25dc024830450221009630b0d58475567a4459f76f8116e997859fb98ecd06d15a3134500501a73de402200562d9dcc7ed41822139c86fd5060c7bdc53a5713daac6b7d3657a291e57d9b00121021e626715649d11ae350ba982a1f38d19e2603c4b74d0433c1911ed0f407a25dc0000000000'"
      ]
     },
     "execution_count": 5,
     "metadata": {},
     "output_type": "execute_result"
    }
   ],
   "source": [
    "my_tx.transaction.serialize().hex()"
   ]
  },
  {
   "cell_type": "code",
   "execution_count": 6,
   "metadata": {},
   "outputs": [
    {
     "name": "stdout",
     "output_type": "stream",
     "text": [
      "get i: None\n",
      "true\n",
      "Path: m/0H/2H/198451525\n",
      "<Record a=<Path start=<Node id=22 labels={'address'} properties={'address': 'n1P8UFvu4WNGPiQBnRxNtBsEfC5KzU4QLb', 'type': 'recipient', 'acc_index': 198451525, 'created': 1586464637210}> end=<Node id=22 labels={'address'} properties={'address': 'n1P8UFvu4WNGPiQBnRxNtBsEfC5KzU4QLb', 'type': 'recipient', 'acc_index': 198451525, 'created': 1586464637210}> size=0>>\n"
     ]
    }
   ],
   "source": [
    "add = my_wallet.create_receiving_address()"
   ]
  },
  {
   "cell_type": "code",
   "execution_count": 12,
   "metadata": {},
   "outputs": [
    {
     "name": "stdout",
     "output_type": "stream",
     "text": [
      "get i: None\n",
      "true\n",
      "Path: m/0H/2H/1120136756\n",
      "<Record a=<Path start=<Node id=9 labels={'address'} properties={'address': 'myr1uCzNKbuLdjS5fAoK1JxsSFNDjPpcx5', 'type': 'recipient', 'acc_index': 1120136756, 'created': 1586404468564}> end=<Node id=9 labels={'address'} properties={'address': 'myr1uCzNKbuLdjS5fAoK1JxsSFNDjPpcx5', 'type': 'recipient', 'acc_index': 1120136756, 'created': 1586404468564}> size=0>>\n"
     ]
    },
    {
     "data": {
      "text/plain": [
       "'myr1uCzNKbuLdjS5fAoK1JxsSFNDjPpcx5'"
      ]
     },
     "execution_count": 12,
     "metadata": {},
     "output_type": "execute_result"
    }
   ],
   "source": [
    "address2=my_wallet.create_receiving_address()\n",
    "address2.address"
   ]
  },
  {
   "cell_type": "code",
   "execution_count": 13,
   "metadata": {},
   "outputs": [
    {
     "name": "stdout",
     "output_type": "stream",
     "text": [
      "get i: None\n",
      "true\n",
      "Path: m/0H/2H/650646505\n",
      "<Record a=<Path start=<Node id=11 labels={'address'} properties={'address': 'ms8Lo8ZKUX7hKrU3RW7U2iE6sGkggMUKF2', 'type': 'recipient', 'acc_index': 650646505, 'created': 1586404479627}> end=<Node id=11 labels={'address'} properties={'address': 'ms8Lo8ZKUX7hKrU3RW7U2iE6sGkggMUKF2', 'type': 'recipient', 'acc_index': 650646505, 'created': 1586404479627}> size=0>>\n"
     ]
    },
    {
     "data": {
      "text/plain": [
       "'ms8Lo8ZKUX7hKrU3RW7U2iE6sGkggMUKF2'"
      ]
     },
     "execution_count": 13,
     "metadata": {},
     "output_type": "execute_result"
    }
   ],
   "source": [
    "address3=my_wallet.create_receiving_address()\n",
    "address3.address"
   ]
  },
  {
   "cell_type": "code",
   "execution_count": 14,
   "metadata": {},
   "outputs": [
    {
     "name": "stdout",
     "output_type": "stream",
     "text": [
      "get i: None\n",
      "true\n",
      "Path: m/0H/2H/31684749\n",
      "<Record a=<Path start=<Node id=13 labels={'address'} properties={'address': 'mtmT6nNoC3AwKxvU92sC5v66PSVdKXFpd3', 'type': 'recipient', 'acc_index': 31684749, 'created': 1586404482808}> end=<Node id=13 labels={'address'} properties={'address': 'mtmT6nNoC3AwKxvU92sC5v66PSVdKXFpd3', 'type': 'recipient', 'acc_index': 31684749, 'created': 1586404482808}> size=0>>\n"
     ]
    },
    {
     "data": {
      "text/plain": [
       "'mtmT6nNoC3AwKxvU92sC5v66PSVdKXFpd3'"
      ]
     },
     "execution_count": 14,
     "metadata": {},
     "output_type": "execute_result"
    }
   ],
   "source": [
    "address4=my_wallet.create_receiving_address()\n",
    "address4.address"
   ]
  },
  {
   "cell_type": "code",
   "execution_count": 15,
   "metadata": {},
   "outputs": [
    {
     "name": "stdout",
     "output_type": "stream",
     "text": [
      "get i: None\n",
      "true\n",
      "Path: m/0H/2H/1709117567\n",
      "<Record a=<Path start=<Node id=14 labels={'address'} properties={'address': 'n4ciCcbpJuJhdvrDF8n4fBQAJgVHDTcdve', 'type': 'recipient', 'acc_index': 1709117567, 'created': 1586404485672}> end=<Node id=14 labels={'address'} properties={'address': 'n4ciCcbpJuJhdvrDF8n4fBQAJgVHDTcdve', 'type': 'recipient', 'acc_index': 1709117567, 'created': 1586404485672}> size=0>>\n"
     ]
    },
    {
     "data": {
      "text/plain": [
       "'n4ciCcbpJuJhdvrDF8n4fBQAJgVHDTcdve'"
      ]
     },
     "execution_count": 15,
     "metadata": {},
     "output_type": "execute_result"
    }
   ],
   "source": [
    "address5=my_wallet.create_receiving_address()\n",
    "address5.address"
   ]
  },
  {
   "cell_type": "code",
   "execution_count": 11,
   "metadata": {},
   "outputs": [
    {
     "name": "stdout",
     "output_type": "stream",
     "text": [
      "6018716354834777059445516500463325153454936853151215624488541646839939367247233986759821493097378851875115552924255831805062990606698886137563075847103799\n"
     ]
    },
    {
     "data": {
      "text/plain": [
       "tprv8ZgxMBicQKsPdZiXgX96dFgvdso3ote8qGxbfb6KS961itG11jwLpAFEnhrpaKnqUn8XsjyEyvFEkhwSZfiqwJkhMgPDruDUh7hUTntjSHb"
      ]
     },
     "execution_count": 11,
     "metadata": {},
     "output_type": "execute_result"
    }
   ],
   "source": [
    "words = \"client sudden sunset borrow pupil rely sand girl prefer movie bachelor guilt giraffe glove much strong dizzy switch ill silent goddess crumble goat power\"\n",
    "mywallet2 = Wallet.recover_from_words(words,entropy=256,passphrase=\"RobertPaulson\",testnet=True)\n",
    "mywallet2\n"
   ]
  },
  {
   "cell_type": "code",
   "execution_count": 12,
   "metadata": {},
   "outputs": [
    {
     "name": "stdout",
     "output_type": "stream",
     "text": [
      "get i: None\n",
      "true\n",
      "Path: m/0H/2H/2030716689\n",
      "<Record a=<Path start=<Node id=25 labels={'address'} properties={'address': 'mocc7fvLz4ggT5kVfLSJsiXfFByoXYBCqi', 'type': 'recipient', 'acc_index': 2030716689, 'created': 1586490860048}> end=<Node id=38 labels={'wallet'} properties={'xprv': 'tprv8ZgxMBicQKsPdZiXgX96dFgvdso3ote8qGxbfb6KS961itG11jwLpAFEnhrpaKnqUn8XsjyEyvFEkhwSZfiqwJkhMgPDruDUh7hUTntjSHb'}> size=1>>\n"
     ]
    },
    {
     "data": {
      "text/plain": [
       "Private Key Hex: ef14abc531a457eec55028301f5936e048f7921534828e985fcc8ca267c5d648"
      ]
     },
     "execution_count": 12,
     "metadata": {},
     "output_type": "execute_result"
    }
   ],
   "source": [
    "mywallet2.create_receiving_address()"
   ]
  },
  {
   "cell_type": "code",
   "execution_count": 13,
   "metadata": {},
   "outputs": [
    {
     "name": "stdout",
     "output_type": "stream",
     "text": [
      "get i: None\n",
      "true\n",
      "Path: m/0H/2H/1544325828\n",
      "<Record a=<Path start=<Node id=12 labels={'address'} properties={'address': 'moY84CDzW5EmpKCK5GUg8VpqiKyUW1wbMA', 'type': 'recipient', 'acc_index': 1544325828, 'created': 1586485518978}> end=<Node id=38 labels={'wallet'} properties={'xprv': 'tprv8ZgxMBicQKsPdZiXgX96dFgvdso3ote8qGxbfb6KS961itG11jwLpAFEnhrpaKnqUn8XsjyEyvFEkhwSZfiqwJkhMgPDruDUh7hUTntjSHb'}> size=1>>\n"
     ]
    },
    {
     "data": {
      "text/plain": [
       "Private Key Hex: 3d3a25dcfdccfcbeb0de1f5f144e8b0b8340754502b9a1faeb5bfcb3bf89a1d8"
      ]
     },
     "execution_count": 13,
     "metadata": {},
     "output_type": "execute_result"
    }
   ],
   "source": [
    "mywallet2.create_receiving_address()"
   ]
  },
  {
   "cell_type": "code",
   "execution_count": 5,
   "metadata": {},
   "outputs": [
    {
     "name": "stdout",
     "output_type": "stream",
     "text": [
      "get i: None\n",
      "true\n",
      "Path: m/0H/1H/54556859\n",
      "<Record a=<Path start=<Node id=31 labels={'address'} properties={'address': 'tb1qt3f852j7rudy56pwf3p5s5s8svcedn8lnkadnn', 'type': 'change', 'acc_index': 54556859, 'created': 1586486283642}> end=<Node id=34 labels={'wallet'} properties={'xprv': 'tprv8ZgxMBicQKsPfQJYjuFAso9x6STzmUdMh5U8CQqqQUTgtQHBHCq4C7FseeeZg15L16UeSwbrLwJRTXNPQsJQwqvbBA11sn4M6c3jR1LwAQP'}> size=1>>\n",
      "size of transaction without signatures: 498\n",
      "fee: 14940\n",
      "change 857060\n",
      "total 1072000, diff: 0\n",
      "Address trying to spend from: ms8Lo8ZKUX7hKrU3RW7U2iE6sGkggMUKF2\n",
      "ms8Lo8ZKUX7hKrU3RW7U2iE6sGkggMUKF2\n",
      "\n",
      "ABOUT TO SIGN INPUT\n",
      "\n",
      "SIGNING INPUT not segwit: \n",
      "SCRIPT SIG:\n",
      "3045022100a1f088a3f3f7cf22fbceb356b105cd9d6ffd9614fcaa7bf2cb69f4ab021c462c02205eccf7c6f02d81d101beceda4096484fc751d206dc5699720ddca648927c7c3301 03a8a9d6b82d3ff26e50a730b47e2716eda4b4e553e4c34c42a57d11e1a69c816e \n",
      "script_pubkey of tx IN: OP_DUP OP_HASH160 7f5ab9b6f384dbf297c0bcf74e1ee820bc02d19d OP_EQUALVERIFY OP_CHECKSIG\n",
      "\n",
      "combined script[b'0E\\x02!\\x00\\xa1\\xf0\\x88\\xa3\\xf3\\xf7\\xcf\"\\xfb\\xce\\xb3V\\xb1\\x05\\xcd\\x9do\\xfd\\x96\\x14\\xfc\\xaa{\\xf2\\xcbi\\xf4\\xab\\x02\\x1cF,\\x02 ^\\xcc\\xf7\\xc6\\xf0-\\x81\\xd1\\x01\\xbe\\xce\\xda@\\x96HO\\xc7Q\\xd2\\x06\\xdcV\\x99r\\r\\xdc\\xa6H\\x92||3\\x01', b\"\\x03\\xa8\\xa9\\xd6\\xb8-?\\xf2nP\\xa70\\xb4~'\\x16\\xed\\xa4\\xb4\\xe5S\\xe4\\xc3LB\\xa5}\\x11\\xe1\\xa6\\x9c\\x81n\", 118, 169, b'\\x7fZ\\xb9\\xb6\\xf3\\x84\\xdb\\xf2\\x97\\xc0\\xbc\\xf7N\\x1e\\xe8 \\xbc\\x02\\xd1\\x9d', 136, 172]\n",
      "\n",
      "Address trying to spend from: n4ciCcbpJuJhdvrDF8n4fBQAJgVHDTcdve\n",
      "n4ciCcbpJuJhdvrDF8n4fBQAJgVHDTcdve\n",
      "\n",
      "ABOUT TO SIGN INPUT\n",
      "\n",
      "SIGNING INPUT not segwit: \n",
      "SCRIPT SIG:\n",
      "30450221008683941381dac2da5be75c7d9c65063634af1528ffb9331ed1f73b52861e03820220281072000566a60753ebd5f0af832be73bb3825b44ce58e442a1d3e45ec87edc01 02868ddcd03f6b246db94c0ef80ca349ad68c7176c3eeb8e1587eb3b7928b2e926 \n",
      "script_pubkey of tx IN: OP_DUP OP_HASH160 fd619fb7eba95dcc627d1c77878f7ca6b139b335 OP_EQUALVERIFY OP_CHECKSIG\n",
      "\n",
      "combined script[b'0E\\x02!\\x00\\x86\\x83\\x94\\x13\\x81\\xda\\xc2\\xda[\\xe7\\\\}\\x9ce\\x0664\\xaf\\x15(\\xff\\xb93\\x1e\\xd1\\xf7;R\\x86\\x1e\\x03\\x82\\x02 (\\x10r\\x00\\x05f\\xa6\\x07S\\xeb\\xd5\\xf0\\xaf\\x83+\\xe7;\\xb3\\x82[D\\xceX\\xe4B\\xa1\\xd3\\xe4^\\xc8~\\xdc\\x01', b'\\x02\\x86\\x8d\\xdc\\xd0?k$m\\xb9L\\x0e\\xf8\\x0c\\xa3I\\xadh\\xc7\\x17l>\\xeb\\x8e\\x15\\x87\\xeb;y(\\xb2\\xe9&', 118, 169, b'\\xfda\\x9f\\xb7\\xeb\\xa9]\\xccb}\\x1cw\\x87\\x8f|\\xa6\\xb19\\xb35', 136, 172]\n",
      "\n",
      "Address trying to spend from: mtmT6nNoC3AwKxvU92sC5v66PSVdKXFpd3\n",
      "mtmT6nNoC3AwKxvU92sC5v66PSVdKXFpd3\n",
      "\n",
      "ABOUT TO SIGN INPUT\n",
      "\n",
      "SIGNING INPUT not segwit: \n",
      "SCRIPT SIG:\n",
      "3044022048e71f0a4909822b274e8700f5e582fcd783189abb2963f4932465f6bade1dee02206a7611c5cd8a1eae68a6f7befecd70761f27a38676d69d74cd492e1368da121901 034c44a96e34cb349ee1a177a1458b2e19e42c16c1837f8895a4683995bc7eea4e \n",
      "script_pubkey of tx IN: OP_DUP OP_HASH160 91578121b41c6de4c9ccfd50f7487d3248a0adca OP_EQUALVERIFY OP_CHECKSIG\n",
      "\n",
      "combined script[b\"0D\\x02 H\\xe7\\x1f\\nI\\t\\x82+'N\\x87\\x00\\xf5\\xe5\\x82\\xfc\\xd7\\x83\\x18\\x9a\\xbb)c\\xf4\\x93$e\\xf6\\xba\\xde\\x1d\\xee\\x02 jv\\x11\\xc5\\xcd\\x8a\\x1e\\xaeh\\xa6\\xf7\\xbe\\xfe\\xcdpv\\x1f'\\xa3\\x86v\\xd6\\x9dt\\xcdI.\\x13h\\xda\\x12\\x19\\x01\", b'\\x03LD\\xa9n4\\xcb4\\x9e\\xe1\\xa1w\\xa1E\\x8b.\\x19\\xe4,\\x16\\xc1\\x83\\x7f\\x88\\x95\\xa4h9\\x95\\xbc~\\xeaN', 118, 169, b'\\x91W\\x81!\\xb4\\x1cm\\xe4\\xc9\\xcc\\xfdP\\xf7H}2H\\xa0\\xad\\xca', 136, 172]\n",
      "\n",
      "Address trying to spend from: myr1uCzNKbuLdjS5fAoK1JxsSFNDjPpcx5\n",
      "myr1uCzNKbuLdjS5fAoK1JxsSFNDjPpcx5\n",
      "\n",
      "ABOUT TO SIGN INPUT\n",
      "\n",
      "SIGNING INPUT not segwit: \n",
      "SCRIPT SIG:\n",
      "304402207483537043b9894082a42a79b9c110973e06ee1e29d09b313cd8c1df5cf4b8d502202da1e9a19a0af51859b1d0b107ddfca773e2233af8a05bcd8396d6fc2c213ab701 020070de6ae500dfbe1387d608c68c53576b4d0a8193ab83f8be7f607690c796f7 \n",
      "script_pubkey of tx IN: OP_DUP OP_HASH160 c90d2d7717174bc87c6f6d59d813005a922241f1 OP_EQUALVERIFY OP_CHECKSIG\n",
      "\n",
      "combined script[b'0D\\x02 t\\x83SpC\\xb9\\x89@\\x82\\xa4*y\\xb9\\xc1\\x10\\x97>\\x06\\xee\\x1e)\\xd0\\x9b1<\\xd8\\xc1\\xdf\\\\\\xf4\\xb8\\xd5\\x02 -\\xa1\\xe9\\xa1\\x9a\\n\\xf5\\x18Y\\xb1\\xd0\\xb1\\x07\\xdd\\xfc\\xa7s\\xe2#:\\xf8\\xa0[\\xcd\\x83\\x96\\xd6\\xfc,!:\\xb7\\x01', b'\\x02\\x00p\\xdej\\xe5\\x00\\xdf\\xbe\\x13\\x87\\xd6\\x08\\xc6\\x8cSWkM\\n\\x81\\x93\\xab\\x83\\xf8\\xbe\\x7f`v\\x90\\xc7\\x96\\xf7', 118, 169, b'\\xc9\\r-w\\x17\\x17K\\xc8|omY\\xd8\\x13\\x00Z\\x92\"A\\xf1', 136, 172]\n",
      "\n",
      "781cedb14da14db74ac819fa4ac62abe722ebe8c3458b63335227c626372b6d0\n",
      "None\n",
      "[{'p': <Path start=<Node id=16 labels={'utxo'} properties={'transaction_id': '5b6f47b80a2c73e4e304eb23047db01995cffbd6477b87afbb8f749f0ffd1a23', 'out_index': 0, 'amount': 20000, 'address': 'ms8Lo8ZKUX7hKrU3RW7U2iE6sGkggMUKF2', 'spent': True, 'local_index': 7, 'confirmed': True}> end=<Node id=32 labels={'TxOut'} properties={'outputs': ['200000:OP_DUP OP_HASH160 57f99201a7d0a9bb34444ac801569c63c3b4884c OP_EQUALVERIFY OP_CHECKSIG', '857060:OP_0 5c527a2a5e1f1a4a682e4c43485207833196ccff'], 'id': '781cedb14da14db74ac819fa4ac62abe722ebe8c3458b63335227c626372b6d0', 'confirmations': 0, 'created': 1586486294611, 'inputs': [7, 9, 8, 6]}> size=1>}, {'p': <Path start=<Node id=20 labels={'utxo'} properties={'transaction_id': 'e45d5baafa966c428d3e07cd4b1a7e11b15ea4364b4530e04bbaafd2cb88803b', 'out_index': 1, 'amount': 2000, 'address': 'n4ciCcbpJuJhdvrDF8n4fBQAJgVHDTcdve', 'spent': True, 'local_index': 9, 'confirmed': True}> end=<Node id=32 labels={'TxOut'} properties={'outputs': ['200000:OP_DUP OP_HASH160 57f99201a7d0a9bb34444ac801569c63c3b4884c OP_EQUALVERIFY OP_CHECKSIG', '857060:OP_0 5c527a2a5e1f1a4a682e4c43485207833196ccff'], 'id': '781cedb14da14db74ac819fa4ac62abe722ebe8c3458b63335227c626372b6d0', 'confirmations': 0, 'created': 1586486294611, 'inputs': [7, 9, 8, 6]}> size=1>}, {'p': <Path start=<Node id=18 labels={'utxo'} properties={'transaction_id': '84c8bf727f923d56a5cc311db94afca0b17d9f1b45580e7bb6fef7bf1c48188b', 'out_index': 0, 'amount': 50000, 'address': 'mtmT6nNoC3AwKxvU92sC5v66PSVdKXFpd3', 'spent': True, 'local_index': 8, 'confirmed': True}> end=<Node id=32 labels={'TxOut'} properties={'outputs': ['200000:OP_DUP OP_HASH160 57f99201a7d0a9bb34444ac801569c63c3b4884c OP_EQUALVERIFY OP_CHECKSIG', '857060:OP_0 5c527a2a5e1f1a4a682e4c43485207833196ccff'], 'id': '781cedb14da14db74ac819fa4ac62abe722ebe8c3458b63335227c626372b6d0', 'confirmations': 0, 'created': 1586486294611, 'inputs': [7, 9, 8, 6]}> size=1>}, {'p': <Path start=<Node id=15 labels={'utxo'} properties={'transaction_id': '5af82dce283969f559cac2709a16e1ed560132fc3a5f284a2fd485f2d07647e5', 'out_index': 1, 'amount': 1000000, 'address': 'myr1uCzNKbuLdjS5fAoK1JxsSFNDjPpcx5', 'spent': True, 'local_index': 6, 'confirmed': True}> end=<Node id=32 labels={'TxOut'} properties={'outputs': ['200000:OP_DUP OP_HASH160 57f99201a7d0a9bb34444ac801569c63c3b4884c OP_EQUALVERIFY OP_CHECKSIG', '857060:OP_0 5c527a2a5e1f1a4a682e4c43485207833196ccff'], 'id': '781cedb14da14db74ac819fa4ac62abe722ebe8c3458b63335227c626372b6d0', 'confirmations': 0, 'created': 1586486294611, 'inputs': [7, 9, 8, 6]}> size=1>}]\n"
     ]
    }
   ],
   "source": [
    "my_tx = my_wallet.send([(\"moY84CDzW5EmpKCK5GUg8VpqiKyUW1wbMA\",200000)])"
   ]
  },
  {
   "cell_type": "code",
   "execution_count": 6,
   "metadata": {},
   "outputs": [
    {
     "data": {
      "text/plain": [
       "'01000000000104231afd0f9f748fbbaf877b47d6fbcf9519b07d0423eb04e3e4732c0ab8476f5b000000006b483045022100a1f088a3f3f7cf22fbceb356b105cd9d6ffd9614fcaa7bf2cb69f4ab021c462c02205eccf7c6f02d81d101beceda4096484fc751d206dc5699720ddca648927c7c33012103a8a9d6b82d3ff26e50a730b47e2716eda4b4e553e4c34c42a57d11e1a69c816effffffff3b8088cbd2afba4be030454b36a45eb1117e1a4bcd073e8d426c96faaa5b5de4010000006b4830450221008683941381dac2da5be75c7d9c65063634af1528ffb9331ed1f73b52861e03820220281072000566a60753ebd5f0af832be73bb3825b44ce58e442a1d3e45ec87edc012102868ddcd03f6b246db94c0ef80ca349ad68c7176c3eeb8e1587eb3b7928b2e926ffffffff8b18481cbff7feb67b0e58451b9f7db1a0fc4ab91d31cca5563d927f72bfc884000000006a473044022048e71f0a4909822b274e8700f5e582fcd783189abb2963f4932465f6bade1dee02206a7611c5cd8a1eae68a6f7befecd70761f27a38676d69d74cd492e1368da12190121034c44a96e34cb349ee1a177a1458b2e19e42c16c1837f8895a4683995bc7eea4effffffffe54776d0f285d42f4a285f3afc320156ede1169a70c2ca59f5693928ce2df85a010000006a47304402207483537043b9894082a42a79b9c110973e06ee1e29d09b313cd8c1df5cf4b8d502202da1e9a19a0af51859b1d0b107ddfca773e2233af8a05bcd8396d6fc2c213ab70121020070de6ae500dfbe1387d608c68c53576b4d0a8193ab83f8be7f607690c796f7ffffffff02400d0300000000001976a91457f99201a7d0a9bb34444ac801569c63c3b4884c88ace4130d00000000001600145c527a2a5e1f1a4a682e4c43485207833196ccff0000000000000000'"
      ]
     },
     "execution_count": 6,
     "metadata": {},
     "output_type": "execute_result"
    }
   ],
   "source": [
    "my_tx.transaction.serialize().hex()"
   ]
  },
  {
   "cell_type": "code",
   "execution_count": 5,
   "metadata": {},
   "outputs": [
    {
     "name": "stdout",
     "output_type": "stream",
     "text": [
      "get i: None\n",
      "true\n",
      "Path: m/0H/1H/320043551\n",
      "<Record a=<Path start=<Node id=37 labels={'address'} properties={'address': 'tb1qncg7k3tl77sq5ftedas8vm8dh0fvgde0d9j962', 'type': 'change', 'acc_index': 320043551, 'created': 1586487127667}> end=<Node id=34 labels={'wallet'} properties={'xprv': 'tprv8ZgxMBicQKsPfQJYjuFAso9x6STzmUdMh5U8CQqqQUTgtQHBHCq4C7FseeeZg15L16UeSwbrLwJRTXNPQsJQwqvbBA11sn4M6c3jR1LwAQP'}> size=1>>\n",
      "size of transaction without signatures: 240\n",
      "fee: 7200\n",
      "change 649860\n",
      "total 857060, diff: 0\n",
      "Address trying to spend from: tb1qt3f852j7rudy56pwf3p5s5s8svcedn8lnkadnn\n",
      "tb1qt3f852j7rudy56pwf3p5s5s8svcedn8lnkadnn\n",
      "\n",
      "ABOUT TO SIGN INPUT\n",
      "\n",
      "SIGNING INPUT Segwit: \n",
      "Witness:\n",
      "[b'0E\\x02!\\x00\\xd8\\xb0\\xb6\\xfe\\x922a\\xec\\xfe\\xe6\\x01\\x11\\xa37xtf\\xef\\x8aT\\x9c\\xf9\\xbf\\x12_\\xfc\\x82\\xd0\\xa3\\xb4\\xba\\x9b\\x02 \\x16*\\x95x9\\x86\\xc2\\x8c\\xf2FM\\xe3\\x922\\x8c\\xe3\\xea\\xc7\\xa1i\\xfb\\xda\\xdb\\xd0\\x14\\xfd\\xed\\xb5\\x98`\\x82^\\x01', b'\\x03\\x8b6\\xf5O\\xed\\x01\\xe2\\x13\\xe4:\\x11V\\xca\\x97\\xdf9\\xe8#0@d\\xa61@\\xb0\\xb3\\x0f\\xf0\\x947D\\x17'] \n",
      "script_pubkey of tx IN: OP_0 5c527a2a5e1f1a4a682e4c43485207833196ccff\n",
      "\n",
      "combined script[0, b'\\\\Rz*^\\x1f\\x1aJh.LCHR\\x07\\x831\\x96\\xcc\\xff']\n",
      "\n",
      "300d92fef1910d96dc414156ee73c8e878936fd0a303bf80804543cf5ac3cdee\n",
      "None\n",
      "[{'p': <Path start=<Node id=35 labels={'utxo'} properties={'transaction_id': '781cedb14da14db74ac819fa4ac62abe722ebe8c3458b63335227c626372b6d0', 'out_index': 1, 'amount': 857060, 'address': 'tb1qt3f852j7rudy56pwf3p5s5s8svcedn8lnkadnn', 'spent': True, 'local_index': 11, 'confirmed': True}> end=<Node id=39 labels={'TxOut'} properties={'outputs': ['200000:OP_DUP OP_HASH160 9a902b3d4f491183aa9def94453ccf6e91507a93 OP_EQUALVERIFY OP_CHECKSIG', '649860:OP_0 9e11eb457ff7a00a25796f60766cedbbd2c4372f'], 'id': '300d92fef1910d96dc414156ee73c8e878936fd0a303bf80804543cf5ac3cdee', 'confirmations': 0, 'created': 1586487130459, 'inputs': [11]}> size=1>}]\n"
     ]
    }
   ],
   "source": [
    "my_tx2 = my_wallet.send([(\"mucD4dKRnaCzmFBeFh8GDYdJb4KRhEbyBk\",200000)])"
   ]
  },
  {
   "cell_type": "code",
   "execution_count": 6,
   "metadata": {},
   "outputs": [
    {
     "data": {
      "text/plain": [
       "'01000000000101d0b67263627c223533b658348cbe2e72be2ac64afa19c84ab74da14db1ed1c780100000000ffffffff02400d0300000000001976a9149a902b3d4f491183aa9def94453ccf6e91507a9388ac84ea0900000000001600149e11eb457ff7a00a25796f60766cedbbd2c4372f02483045022100d8b0b6fe923261ecfee60111a337787466ef8a549cf9bf125ffc82d0a3b4ba9b0220162a95783986c28cf2464de392328ce3eac7a169fbdadbd014fdedb59860825e0121038b36f54fed01e213e43a1156ca97df39e823304064a63140b0b30ff09437441700000000'"
      ]
     },
     "execution_count": 6,
     "metadata": {},
     "output_type": "execute_result"
    }
   ],
   "source": [
    "my_tx2.transaction.serialize().hex()"
   ]
  },
  {
   "cell_type": "code",
   "execution_count": 9,
   "metadata": {},
   "outputs": [
    {
     "name": "stdout",
     "output_type": "stream",
     "text": [
      "new unconfirmed UTXO\n",
      "<Record p=<Path start=<Node id=23 labels={'utxo'} properties={'transaction_id': '300d92fef1910d96dc414156ee73c8e878936fd0a303bf80804543cf5ac3cdee', 'out_index': 0, 'amount': 200000, 'address': 'mucD4dKRnaCzmFBeFh8GDYdJb4KRhEbyBk', 'spent': False, 'local_index': 12, 'confirmed': False}> end=<Node id=40 labels={'address'} properties={'address': 'mucD4dKRnaCzmFBeFh8GDYdJb4KRhEbyBk', 'type': 'recipient', 'acc_index': 839389126, 'created': 1586485454634}> size=1>>\n"
     ]
    },
    {
     "data": {
      "text/plain": [
       "400000"
      ]
     },
     "execution_count": 9,
     "metadata": {},
     "output_type": "execute_result"
    }
   ],
   "source": [
    "mywallet2.update_balance()"
   ]
  },
  {
   "cell_type": "code",
   "execution_count": 29,
   "metadata": {},
   "outputs": [
    {
     "name": "stdout",
     "output_type": "stream",
     "text": [
      "get i: None\n",
      "true\n",
      "Path: m/0H/1H/1187776120\n",
      "<Record a=<Path start=<Node id=29 labels={'address'} properties={'address': 'tb1qje5fsgd4gp866zak3frdxpyluf05zu3rvkg4j6', 'type': 'change', 'acc_index': 1187776120, 'created': 1586491589477}> end=<Node id=34 labels={'wallet'} properties={'xprv': 'tprv8ZgxMBicQKsPfQJYjuFAso9x6STzmUdMh5U8CQqqQUTgtQHBHCq4C7FseeeZg15L16UeSwbrLwJRTXNPQsJQwqvbBA11sn4M6c3jR1LwAQP'}> size=1>>\n",
      "size of transaction without signatures: 240\n",
      "fee: 5040\n",
      "change 444820\n",
      "total 649860, diff: 0\n",
      "Address trying to spend from: tb1qncg7k3tl77sq5ftedas8vm8dh0fvgde0d9j962\n",
      "tb1qncg7k3tl77sq5ftedas8vm8dh0fvgde0d9j962\n",
      "\n",
      "ABOUT TO SIGN INPUT\n",
      "\n",
      "SIGNING INPUT Segwit: \n",
      "Witness:\n",
      "[b'0E\\x02!\\x00\\x83\\x87\\x89|\\xd8\\xa8\\xb3\\xb5S\\xdf`\\xc6\\nJgf\\x1eq\\n\\xc5Wl\\x9c\\xfaA\\xd8\\x92\\x8a\\xbb\\xf9\\xdah\\x02 ~\\xdd/\\x08\\xef\\x1a\\x82y\\xd2\\x97\"\\x92\\xe0_\\x9dn\\xf5\\x9bN\\xe2a\\xcb:.F\\xd9\\xc4&o/<T\\x01', b'\\x02d\\xc9\\x00\\xf76\\x19\\x84\\xb8\\xedR=\\xd9S:\\x03\\x8b\\xc7\\xb8\\x84\\xd3)\\x8awG\\xf3\\xfc\\xc7\\xe4\\x98[\\x1e\\x95'] \n",
      "script_pubkey of tx IN: OP_0 9e11eb457ff7a00a25796f60766cedbbd2c4372f\n",
      "\n",
      "combined script[0, b'\\x9e\\x11\\xebE\\x7f\\xf7\\xa0\\n%yo`vl\\xed\\xbb\\xd2\\xc47/']\n",
      "\n",
      "73f1aa13e0d8b56c393f540e16fe395f3b7563a7022b9f299ecf7164dc33dc52\n",
      "None\n",
      "{'tx': {'block_height': -1, 'block_index': -1, 'hash': '73f1aa13e0d8b56c393f540e16fe395f3b7563a7022b9f299ecf7164dc33dc52', 'addresses': ['tb1qncg7k3tl77sq5ftedas8vm8dh0fvgde0d9j962', 'mocc7fvLz4ggT5kVfLSJsiXfFByoXYBCqi', 'tb1qje5fsgd4gp866zak3frdxpyluf05zu3rvkg4j6'], 'total': 644820, 'fees': 5040, 'size': 116, 'preference': 'medium', 'relayed_by': '45.32.199.25', 'received': '2020-04-10T04:06:32.550386564Z', 'ver': 1, 'double_spend': False, 'vin_sz': 1, 'vout_sz': 2, 'confirmations': 0, 'inputs': [{'prev_hash': '300d92fef1910d96dc414156ee73c8e878936fd0a303bf80804543cf5ac3cdee', 'output_index': 1, 'output_value': 649860, 'sequence': 4294967295, 'addresses': ['tb1qncg7k3tl77sq5ftedas8vm8dh0fvgde0d9j962'], 'script_type': 'pay-to-witness-pubkey-hash', 'age': 1696941, 'witness': ['30450221008387897cd8a8b3b553df60c60a4a67661e710ac5576c9cfa41d8928abbf9da6802207edd2f08ef1a8279d2972292e05f9d6ef59b4ee261cb3a2e46d9c4266f2f3c5401', '0264c900f7361984b8ed523dd9533a038bc7b884d3298a7747f3fcc7e4985b1e95']}], 'outputs': [{'value': 200000, 'script': '76a91458d2a84f2308ca6eb38c7f28f017b6afe210990588ac', 'addresses': ['mocc7fvLz4ggT5kVfLSJsiXfFByoXYBCqi'], 'script_type': 'pay-to-pubkey-hash'}, {'value': 444820, 'script': '001496689821b5404fad0bb68a46d3049fe25f417223', 'addresses': ['tb1qje5fsgd4gp866zak3frdxpyluf05zu3rvkg4j6'], 'script_type': 'pay-to-witness-pubkey-hash'}]}}\n",
      "[{'p': <Path start=<Node id=26 labels={'utxo'} properties={'transaction_id': '300d92fef1910d96dc414156ee73c8e878936fd0a303bf80804543cf5ac3cdee', 'out_index': 1, 'amount': 649860, 'address': 'tb1qncg7k3tl77sq5ftedas8vm8dh0fvgde0d9j962', 'spent': True, 'local_index': 13, 'confirmed': True}> end=<Node id=41 labels={'TxOut'} properties={'outputs': ['200000:OP_DUP OP_HASH160 58d2a84f2308ca6eb38c7f28f017b6afe2109905 OP_EQUALVERIFY OP_CHECKSIG', '444820:OP_0 96689821b5404fad0bb68a46d3049fe25f417223'], 'id': '73f1aa13e0d8b56c393f540e16fe395f3b7563a7022b9f299ecf7164dc33dc52', 'confirmations': 0, 'created': 1586491592291, 'inputs': [13]}> size=1>}]\n"
     ]
    }
   ],
   "source": [
    "my_tx = my_wallet.send([(\"mocc7fvLz4ggT5kVfLSJsiXfFByoXYBCqi\",200000)])"
   ]
  },
  {
   "cell_type": "code",
   "execution_count": 30,
   "metadata": {},
   "outputs": [],
   "source": [
    "push = {'tx': {'block_height': -1, 'block_index': -1, 'hash': '73f1aa13e0d8b56c393f540e16fe395f3b7563a7022b9f299ecf7164dc33dc52', 'addresses': ['tb1qncg7k3tl77sq5ftedas8vm8dh0fvgde0d9j962', 'mocc7fvLz4ggT5kVfLSJsiXfFByoXYBCqi', 'tb1qje5fsgd4gp866zak3frdxpyluf05zu3rvkg4j6'], 'total': 644820, 'fees': 5040, 'size': 116, 'preference': 'medium', 'relayed_by': '45.32.199.25', 'received': '2020-04-10T04:06:32.550386564Z', 'ver': 1, 'double_spend': False, 'vin_sz': 1, 'vout_sz': 2, 'confirmations': 0, 'inputs': [{'prev_hash': '300d92fef1910d96dc414156ee73c8e878936fd0a303bf80804543cf5ac3cdee', 'output_index': 1, 'output_value': 649860, 'sequence': 4294967295, 'addresses': ['tb1qncg7k3tl77sq5ftedas8vm8dh0fvgde0d9j962'], 'script_type': 'pay-to-witness-pubkey-hash', 'age': 1696941, 'witness': ['30450221008387897cd8a8b3b553df60c60a4a67661e710ac5576c9cfa41d8928abbf9da6802207edd2f08ef1a8279d2972292e05f9d6ef59b4ee261cb3a2e46d9c4266f2f3c5401', '0264c900f7361984b8ed523dd9533a038bc7b884d3298a7747f3fcc7e4985b1e95']}], 'outputs': [{'value': 200000, 'script': '76a91458d2a84f2308ca6eb38c7f28f017b6afe210990588ac', 'addresses': ['mocc7fvLz4ggT5kVfLSJsiXfFByoXYBCqi'], 'script_type': 'pay-to-pubkey-hash'}, {'value': 444820, 'script': '001496689821b5404fad0bb68a46d3049fe25f417223', 'addresses': ['tb1qje5fsgd4gp866zak3frdxpyluf05zu3rvkg4j6'], 'script_type': 'pay-to-witness-pubkey-hash'}]}}"
   ]
  },
  {
   "cell_type": "code",
   "execution_count": 31,
   "metadata": {},
   "outputs": [
    {
     "data": {
      "text/plain": [
       "{'tx': {'block_height': -1,\n",
       "  'block_index': -1,\n",
       "  'hash': '73f1aa13e0d8b56c393f540e16fe395f3b7563a7022b9f299ecf7164dc33dc52',\n",
       "  'addresses': ['tb1qncg7k3tl77sq5ftedas8vm8dh0fvgde0d9j962',\n",
       "   'mocc7fvLz4ggT5kVfLSJsiXfFByoXYBCqi',\n",
       "   'tb1qje5fsgd4gp866zak3frdxpyluf05zu3rvkg4j6'],\n",
       "  'total': 644820,\n",
       "  'fees': 5040,\n",
       "  'size': 116,\n",
       "  'preference': 'medium',\n",
       "  'relayed_by': '45.32.199.25',\n",
       "  'received': '2020-04-10T04:06:32.550386564Z',\n",
       "  'ver': 1,\n",
       "  'double_spend': False,\n",
       "  'vin_sz': 1,\n",
       "  'vout_sz': 2,\n",
       "  'confirmations': 0,\n",
       "  'inputs': [{'prev_hash': '300d92fef1910d96dc414156ee73c8e878936fd0a303bf80804543cf5ac3cdee',\n",
       "    'output_index': 1,\n",
       "    'output_value': 649860,\n",
       "    'sequence': 4294967295,\n",
       "    'addresses': ['tb1qncg7k3tl77sq5ftedas8vm8dh0fvgde0d9j962'],\n",
       "    'script_type': 'pay-to-witness-pubkey-hash',\n",
       "    'age': 1696941,\n",
       "    'witness': ['30450221008387897cd8a8b3b553df60c60a4a67661e710ac5576c9cfa41d8928abbf9da6802207edd2f08ef1a8279d2972292e05f9d6ef59b4ee261cb3a2e46d9c4266f2f3c5401',\n",
       "     '0264c900f7361984b8ed523dd9533a038bc7b884d3298a7747f3fcc7e4985b1e95']}],\n",
       "  'outputs': [{'value': 200000,\n",
       "    'script': '76a91458d2a84f2308ca6eb38c7f28f017b6afe210990588ac',\n",
       "    'addresses': ['mocc7fvLz4ggT5kVfLSJsiXfFByoXYBCqi'],\n",
       "    'script_type': 'pay-to-pubkey-hash'},\n",
       "   {'value': 444820,\n",
       "    'script': '001496689821b5404fad0bb68a46d3049fe25f417223',\n",
       "    'addresses': ['tb1qje5fsgd4gp866zak3frdxpyluf05zu3rvkg4j6'],\n",
       "    'script_type': 'pay-to-witness-pubkey-hash'}]}}"
      ]
     },
     "execution_count": 31,
     "metadata": {},
     "output_type": "execute_result"
    }
   ],
   "source": [
    "push"
   ]
  },
  {
   "cell_type": "code",
   "execution_count": null,
   "metadata": {},
   "outputs": [],
   "source": []
  }
 ],
 "metadata": {
  "kernelspec": {
   "display_name": "Python 3",
   "language": "python",
   "name": "python3"
  },
  "language_info": {
   "codemirror_mode": {
    "name": "ipython",
    "version": 3
   },
   "file_extension": ".py",
   "mimetype": "text/x-python",
   "name": "python",
   "nbconvert_exporter": "python",
   "pygments_lexer": "ipython3",
   "version": "3.7.4"
  }
 },
 "nbformat": 4,
 "nbformat_minor": 4
}
