{
 "cells": [
  {
   "cell_type": "code",
   "execution_count": 1,
   "metadata": {},
   "outputs": [],
   "source": [
    "from importlib import reload\n",
    "from helper import run\n",
    "import ecc\n",
    "import helper\n",
    "import tx\n",
    "import script"
   ]
  },
  {
   "cell_type": "code",
   "execution_count": 2,
   "metadata": {},
   "outputs": [],
   "source": [
    "from ecc import PrivateKey, S256Point\n",
    "from helper import decode_base58, SIGHASH_ALL, h160_to_p2pkh_address, hash160\n",
    "from script import p2pkh_script, Script\n",
    "from tx import TxIn, TxOut, Tx, TxFetcher\n",
    "from urllib.request import Request, urlopen\n",
    "import json"
   ]
  },
  {
   "cell_type": "code",
   "execution_count": 3,
   "metadata": {},
   "outputs": [
    {
     "name": "stdout",
     "output_type": "stream",
     "text": [
      "mo3WWB4PoSHrudEBik1nUqfn1uZEPNYEc8\n"
     ]
    }
   ],
   "source": [
    "privkey_1 = PrivateKey(int.from_bytes(b\"Oscar Eduardo Serna Rosero\",\"big\"))\n",
    "my_address_1 = privkey_1.point.address(testnet=True)\n",
    "print(my_address_1)"
   ]
  },
  {
   "cell_type": "code",
   "execution_count": 4,
   "metadata": {},
   "outputs": [
    {
     "name": "stdout",
     "output_type": "stream",
     "text": [
      "mwuCRN8bMLWN9ETs29U8KseDkau72M9byF\n"
     ]
    }
   ],
   "source": [
    "privkey_2 = PrivateKey(int.from_bytes(b\"Oscar Eduardo Serna Rosero\",\"little\"))\n",
    "my_address_2 = privkey_2.point.address(testnet=True)\n",
    "print(my_address_2)"
   ]
  },
  {
   "cell_type": "markdown",
   "metadata": {},
   "source": [
    "# Let's try to create a multisignature address that needs both signatures from privkey_1 and privkey_2"
   ]
  },
  {
   "cell_type": "code",
   "execution_count": 5,
   "metadata": {},
   "outputs": [],
   "source": [
    "m=2\n",
    "op_m = 82\n",
    "n=2\n",
    "op_n=82\n",
    "length_pubkey=33\n",
    "pubkey1=privkey_1.point.sec()\n",
    "pubkey2=privkey_2.point.sec()"
   ]
  },
  {
   "cell_type": "code",
   "execution_count": 6,
   "metadata": {},
   "outputs": [
    {
     "data": {
      "text/plain": [
       "'03e07f96e5ba598431c0c994493a4ae988c9854c171d5d4bb140db0a27a4c853e4'"
      ]
     },
     "execution_count": 6,
     "metadata": {},
     "output_type": "execute_result"
    }
   ],
   "source": [
    "pubkey1.hex()"
   ]
  },
  {
   "cell_type": "code",
   "execution_count": 7,
   "metadata": {},
   "outputs": [
    {
     "data": {
      "text/plain": [
       "'031b63f964d8c65d1d1136dcfe5033dedea88c2d411934ea48c9708410be84e5ee'"
      ]
     },
     "execution_count": 7,
     "metadata": {},
     "output_type": "execute_result"
    }
   ],
   "source": [
    "pubkey2.hex()"
   ]
  },
  {
   "cell_type": "code",
   "execution_count": 8,
   "metadata": {},
   "outputs": [
    {
     "data": {
      "text/plain": [
       "OP_2 03e07f96e5ba598431c0c994493a4ae988c9854c171d5d4bb140db0a27a4c853e4 031b63f964d8c65d1d1136dcfe5033dedea88c2d411934ea48c9708410be84e5ee OP_2 OP_CHECKMULTISIG"
      ]
     },
     "execution_count": 8,
     "metadata": {},
     "output_type": "execute_result"
    }
   ],
   "source": [
    "#redeem_script = Script([op_m, length_pubkey, pubkey1, length_pubkey, pubkey2, op_n, 174])#174:OP_CHECKMULTISIG\n",
    "redeem_script = Script([op_m, pubkey1, pubkey2, op_n, 174])#174:OP_CHECKMULTISIG\n",
    "redeem_script"
   ]
  },
  {
   "cell_type": "code",
   "execution_count": 9,
   "metadata": {},
   "outputs": [
    {
     "data": {
      "text/plain": [
       "'522103e07f96e5ba598431c0c994493a4ae988c9854c171d5d4bb140db0a27a4c853e421031b63f964d8c65d1d1136dcfe5033dedea88c2d411934ea48c9708410be84e5ee52ae'"
      ]
     },
     "execution_count": 9,
     "metadata": {},
     "output_type": "execute_result"
    }
   ],
   "source": [
    "serialized_redeem = redeem_script.raw_serialize()\n",
    "serialized_redeem.hex()"
   ]
  },
  {
   "cell_type": "code",
   "execution_count": 10,
   "metadata": {},
   "outputs": [
    {
     "data": {
      "text/plain": [
       "'my7YMFfcujKi8uPaSFEfULfNUdpHx3bXJw'"
      ]
     },
     "execution_count": 10,
     "metadata": {},
     "output_type": "execute_result"
    }
   ],
   "source": [
    "multi_sig_addr = h160_to_p2pkh_address(hash160(serialized_redeem), testnet=True)\n",
    "multi_sig_addr"
   ]
  },
  {
   "cell_type": "markdown",
   "metadata": {},
   "source": [
    "# Now let's try to send some BTCs to this address"
   ]
  },
  {
   "cell_type": "code",
   "execution_count": 19,
   "metadata": {},
   "outputs": [
    {
     "name": "stdout",
     "output_type": "stream",
     "text": [
      "1000000:OP_HASH160 c104b576f5436309587aefa3ddddd5c295b90480 OP_EQUAL\n",
      "1000000:OP_DUP OP_HASH160 52903efc1004de01883ba3687be2a8ea4f6b1b19 OP_EQUALVERIFY OP_CHECKSIG\n",
      "tx: 02971382a72fc23c087723ed35686fdac019ae75f8084b7c9f51a07c56d00951\n",
      "version: 1\n",
      "tx_ins:\n",
      "0581629ea49735dcdb06fd94e7b187bc0af71934119d466ab762df7665e00fef:1\n",
      "fcb130e47a883b6bc3b2ac11af9cc0b3dde92f05a7110b68d91f6877d7b1e38e:0\n",
      "tx_outs:\n",
      "2594462:OP_DUP OP_HASH160 52903efc1004de01883ba3687be2a8ea4f6b1b19 OP_EQUALVERIFY OP_CHECKSIG\n",
      "locktime: 0\n",
      "index 1: 0\n",
      "02971382a72fc23c087723ed35686fdac019ae75f8084b7c9f51a07c56d00951:0\n",
      "tx: aad3e57da3c8cb3d7f5d52df5a7c2179085120381049bb3c1eabef0b052c035d\n",
      "version: 1\n",
      "tx_ins:\n",
      "02971382a72fc23c087723ed35686fdac019ae75f8084b7c9f51a07c56d00951:0\n",
      "tx_outs:\n",
      "1000000:OP_HASH160 c104b576f5436309587aefa3ddddd5c295b90480 OP_EQUAL\n",
      "1000000:OP_DUP OP_HASH160 52903efc1004de01883ba3687be2a8ea4f6b1b19 OP_EQUALVERIFY OP_CHECKSIG\n",
      "locktime: 0\n",
      "True\n",
      "fee: 896\n",
      "change 2593566\n",
      "01000000015109d0567ca0519f7c4b08f875ae19c0da6f6835ed2377083cc22fa782139702000000006b4830450221009ec3a3b876bc5ad96d2b5361b73c0de905d1dcb404c7bbf487228d762843360a02207cb864025eb4732889d57fde308110f8e123a2e6088b58cba440e83662f50593012103e07f96e5ba598431c0c994493a4ae988c9854c171d5d4bb140db0a27a4c853e4ffffffff0240420f000000000017a914c104b576f5436309587aefa3ddddd5c295b90480871e932700000000001976a91452903efc1004de01883ba3687be2a8ea4f6b1b1988ac00000000\n"
     ]
    }
   ],
   "source": [
    "from script import p2sh_script\n",
    "# Let's build the tx:\n",
    "tx_outs =[]\n",
    "tx_ins =[]\n",
    "\n",
    "change = int(0.01 * 100000000)# we are going to fix this later\n",
    "amountTx= int(0.01 * 100000000)\n",
    "\n",
    "#It will send 0.01 to the multisig address\n",
    "output = TxOut(amountTx, p2sh_script(decode_base58(multi_sig_addr)))\n",
    "print(output)\n",
    "tx_outs.append(output)\n",
    "\n",
    "change_output = TxOut(change, p2pkh_script(decode_base58(my_address_1)))\n",
    "print(change_output)\n",
    "tx_outs.append(change_output)\n",
    "\n",
    "prev1_tx_id = \"02971382a72fc23c087723ed35686fdac019ae75f8084b7c9f51a07c56d00951\"\n",
    "prev_tx1 = TxFetcher.fetch(prev1_tx_id, testnet=True)\n",
    "print(prev_tx1)\n",
    "\n",
    "def get_index(outs_list):\n",
    "    for index,out in enumerate(outs_list):\n",
    "        if out.script_pubkey.cmds[2] == decode_base58(my_address_1):\n",
    "            return index\n",
    "    return \"output index not found\"\n",
    "    \n",
    "prev1_index= get_index(prev_tx1.tx_outs)\n",
    "#prev1_index=0\n",
    "print(f\"index 1: {prev1_index}\")\n",
    "\n",
    "tx_in1 = TxIn(bytes.fromhex(prev1_tx_id),prev1_index)\n",
    "print(tx_in1)\n",
    "tx_ins.append(tx_in1)\n",
    "\n",
    "my_tx = Tx(1, tx_ins, tx_outs, 0, testnet=True)\n",
    "print(my_tx)\n",
    "\n",
    "# sign the inputs in the transaction object using the private key\n",
    "for tx_input in range(len(tx_ins)):\n",
    "    print(my_tx.sign_input(tx_input, privkey_1))\n",
    "# print the transaction's serialization in hex\n",
    "\n",
    "#Let's calculate the fee and the change:\n",
    "tx_size = len(my_tx.serialize().hex())\n",
    "fee_per_byte = 2\n",
    "fee = tx_size * fee_per_byte\n",
    "print(f\"fee: {fee}\")\n",
    "\n",
    "change = prev_tx1.tx_outs[prev1_index].amount - fee\n",
    "print(f\"change {change}\")\n",
    "\n",
    "#Let's modify the amount in the change_output:\n",
    "tx_outs[-1].amount = change\n",
    "\n",
    "print(my_tx.serialize().hex())\n",
    "\n",
    "#for tx_input in range(len(tx_ins)):\n",
    " #   print(my_tx.verify_input(tx_input))\n",
    "\n",
    "\n"
   ]
  },
  {
   "cell_type": "code",
   "execution_count": 20,
   "metadata": {},
   "outputs": [
    {
     "data": {
      "text/plain": [
       "False"
      ]
     },
     "execution_count": 20,
     "metadata": {},
     "output_type": "execute_result"
    }
   ],
   "source": [
    "my_tx.verify_input(0)"
   ]
  },
  {
   "cell_type": "code",
   "execution_count": null,
   "metadata": {},
   "outputs": [],
   "source": []
  }
 ],
 "metadata": {
  "kernelspec": {
   "display_name": "Python 3",
   "language": "python",
   "name": "python3"
  },
  "language_info": {
   "codemirror_mode": {
    "name": "ipython",
    "version": 3
   },
   "file_extension": ".py",
   "mimetype": "text/x-python",
   "name": "python",
   "nbconvert_exporter": "python",
   "pygments_lexer": "ipython3",
   "version": "3.7.3"
  }
 },
 "nbformat": 4,
 "nbformat_minor": 4
}
