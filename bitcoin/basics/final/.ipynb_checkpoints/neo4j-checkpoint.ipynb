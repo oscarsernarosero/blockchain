{
 "cells": [
  {
   "cell_type": "code",
   "execution_count": 99,
   "metadata": {},
   "outputs": [],
   "source": [
    "from neo4j import GraphDatabase"
   ]
  },
  {
   "cell_type": "code",
   "execution_count": 111,
   "metadata": {},
   "outputs": [],
   "source": [
    "class WalletDB(object):\n",
    "\n",
    "    def __init__(self, uri, user, password):\n",
    "        self._driver = GraphDatabase.driver(uri, auth=(user, password), encrypted=False)#REVISE LATER FOR ENCRYPTION!!!\n",
    "\n",
    "    def close(self):\n",
    "        self._driver.close()\n",
    "        \n",
    "    @staticmethod\n",
    "    def _new_address(tx, address,i,change_addr):\n",
    "        if change_addr: addr_type = \"change\"\n",
    "        else: addr_type = \"recipient\"\n",
    "        result = tx.run(\"CREATE a = (:address {address:$address, acc_index:$index, type:$kind, created:timestamp()}) \"\n",
    "                        \"RETURN a \", address=address, index = i, kind = addr_type)\n",
    "        return result.single()\n",
    "    \n",
    "    @staticmethod\n",
    "    def _new_utxo(tx, address,tx_id,out_index):\n",
    "        local_index = tx.run( \"MATCH (u:utxo) RETURN COUNT (u) \").single()[0] \n",
    "        result = tx.run(\"MATCH (n:address {address : $address}) \"\n",
    "                        \"CREATE p = (:utxo {address:$address, transaction_id:$tx_id, out_index:$out_index, local_index:$local_index, spent:false})-[:BELONGS]->(n) \"\n",
    "                        \"RETURN p \", address=address, tx_id = tx_id, out_index = out_index, local_index=local_index)\n",
    "        return result.single()\n",
    "    \n",
    "    \n",
    "    @staticmethod\n",
    "    def _new_tx(tx,tx_id,inputs, outputs):\n",
    "        result = tx.run(\"CREATE (n:TxOut {id:$tx_id, inputs:$inputs , outputs:$outputs, confirmations:0, created:timestamp()}) \"\n",
    "                        \"WITH n \"\n",
    "                        \"UNWIND n.inputs AS ins \"\n",
    "                        \"MATCH coins = (:utxo {local_index:ins}) \"\n",
    "                        \"FOREACH ( coin IN nodes(coins) | CREATE (coin)<-[:SPENT]-(n) ) \",\n",
    "                        tx_id=tx_id, inputs = inputs, outputs = outputs)\n",
    "        return result.single()\n",
    "    \n",
    "    \n",
    "    @staticmethod\n",
    "    def _update_confirmations(tx,tx_id,n_confirmations):\n",
    "        result = tx.run(\"MATCH (n:TxOut {id:$tx_id}) \"\n",
    "                        \"SET n.confirmations=$n_confirmations \"\n",
    "                        \"RETURN n \", tx_id=tx_id, n_confirmations = n_confirmations)\n",
    "        return result.single()\n",
    "    \n",
    "    \n",
    "    @staticmethod\n",
    "    def _update_utxo(tx,tx_id):\n",
    "        result = tx.run(\"MATCH p = (u)<-[:SPENT]-(:TxOut {id:$tx_id}) \"\n",
    "                        \"SET u.spent=true \"\n",
    "                        \"RETURN p \", tx_id=tx_id)\n",
    "        return result.single()\n",
    "    \n",
    "\n",
    "\n",
    "    \n",
    "    def new_address(self, address,i,change_addr):\n",
    "        with self._driver.session() as session:\n",
    "            result = session.write_transaction(self._new_address, address,i,change_addr)\n",
    "            print(result)\n",
    "            \n",
    "    def new_utxo(self, address,tx_id,out_index):\n",
    "        with self._driver.session() as session:\n",
    "            result = session.write_transaction(self._new_utxo, address,tx_id,out_index)\n",
    "            print(result)\n",
    "            \n",
    "    def new_tx(self, tx_id,utxo_local_index_list, outputs):\n",
    "        with self._driver.session() as session:\n",
    "            result = session.write_transaction(self._new_tx, tx_id,utxo_local_index_list, outputs)\n",
    "            print(result)\n",
    "            \n",
    "    def update_confirmations(self, tx_id,n_confirmations):\n",
    "        with self._driver.session() as session:\n",
    "            result = session.write_transaction(self._update_confirmations, tx_id,n_confirmations)\n",
    "            print(result)\n",
    "            \n",
    "    def update_utxo(self, tx_id):\n",
    "        with self._driver.session() as session:\n",
    "            result = session.write_transaction(self._update_utxo, tx_id)\n",
    "            print(result)\n",
    "      "
   ]
  },
  {
   "cell_type": "code",
   "execution_count": 112,
   "metadata": {},
   "outputs": [],
   "source": [
    "db = WalletDB( \"neo4j://localhost:7687\" , \"neo4j\" , \"wallet\" )\n"
   ]
  },
  {
   "cell_type": "code",
   "execution_count": 102,
   "metadata": {},
   "outputs": [
    {
     "name": "stdout",
     "output_type": "stream",
     "text": [
      "<Record a=<Path start=<Node id=13 labels={'address'} properties={'address': 'test_address1', 'type': 'recipient', 'acc_index': 0, 'created': 1586242324389}> end=<Node id=13 labels={'address'} properties={'address': 'test_address1', 'type': 'recipient', 'acc_index': 0, 'created': 1586242324389}> size=0>>\n",
      "<Record a=<Path start=<Node id=14 labels={'address'} properties={'address': 'test_address2', 'type': 'recipient', 'acc_index': 777, 'created': 1586242324409}> end=<Node id=14 labels={'address'} properties={'address': 'test_address2', 'type': 'recipient', 'acc_index': 777, 'created': 1586242324409}> size=0>>\n",
      "<Record a=<Path start=<Node id=15 labels={'address'} properties={'address': 'test_address3', 'type': 'recipient', 'acc_index': 22222, 'created': 1586242324416}> end=<Node id=15 labels={'address'} properties={'address': 'test_address3', 'type': 'recipient', 'acc_index': 22222, 'created': 1586242324416}> size=0>>\n",
      "<Record a=<Path start=<Node id=7 labels={'address'} properties={'address': 'test_address4', 'type': 'change', 'acc_index': 92747, 'created': 1586242324423}> end=<Node id=7 labels={'address'} properties={'address': 'test_address4', 'type': 'change', 'acc_index': 92747, 'created': 1586242324423}> size=0>>\n",
      "<Record a=<Path start=<Node id=8 labels={'address'} properties={'address': 'test_address5', 'type': 'change', 'acc_index': 99199191, 'created': 1586242324431}> end=<Node id=8 labels={'address'} properties={'address': 'test_address5', 'type': 'change', 'acc_index': 99199191, 'created': 1586242324431}> size=0>>\n",
      "<Record a=<Path start=<Node id=0 labels={'address'} properties={'address': 'test_address6', 'type': 'change', 'acc_index': 625, 'created': 1586242324437}> end=<Node id=0 labels={'address'} properties={'address': 'test_address6', 'type': 'change', 'acc_index': 625, 'created': 1586242324437}> size=0>>\n"
     ]
    }
   ],
   "source": [
    "db.register_new_address(\"test_address1\",0,False)\n",
    "db.register_new_address(\"test_address2\",777,False)\n",
    "db.register_new_address(\"test_address3\",22222,False)\n",
    "db.register_new_address(\"test_address4\",92747,True)\n",
    "db.register_new_address(\"test_address5\",99199191,True)\n",
    "db.register_new_address(\"test_address6\",625,True)"
   ]
  },
  {
   "cell_type": "code",
   "execution_count": 103,
   "metadata": {},
   "outputs": [
    {
     "name": "stdout",
     "output_type": "stream",
     "text": [
      "<Record p=<Path start=<Node id=1 labels={'utxo'} properties={'transaction_id': 1000, 'out_index': 2, 'local_index': 0, 'address': 'test_address1', 'spent': False}> end=<Node id=13 labels={'address'} properties={'address': 'test_address1', 'type': 'recipient', 'created': 1586242324389, 'acc_index': 0}> size=1>>\n",
      "<Record p=<Path start=<Node id=3 labels={'utxo'} properties={'transaction_id': 1001, 'out_index': 2, 'local_index': 1, 'address': 'test_address2', 'spent': False}> end=<Node id=14 labels={'address'} properties={'address': 'test_address2', 'type': 'recipient', 'created': 1586242324409, 'acc_index': 777}> size=1>>\n",
      "<Record p=<Path start=<Node id=5 labels={'utxo'} properties={'transaction_id': 1002, 'out_index': 2, 'local_index': 2, 'address': 'test_address3', 'spent': False}> end=<Node id=15 labels={'address'} properties={'address': 'test_address3', 'type': 'recipient', 'created': 1586242324416, 'acc_index': 22222}> size=1>>\n",
      "<Record p=<Path start=<Node id=6 labels={'utxo'} properties={'transaction_id': 1004, 'out_index': 2, 'local_index': 3, 'address': 'test_address4', 'spent': False}> end=<Node id=7 labels={'address'} properties={'address': 'test_address4', 'type': 'change', 'created': 1586242324423, 'acc_index': 92747}> size=1>>\n"
     ]
    }
   ],
   "source": [
    "db.register_new_utxo(\"test_address1\",1000,2)\n",
    "db.register_new_utxo(\"test_address2\",1001,2)\n",
    "db.register_new_utxo(\"test_address3\",1002,2)\n",
    "db.register_new_utxo(\"test_address4\",1004,2)"
   ]
  },
  {
   "cell_type": "code",
   "execution_count": 104,
   "metadata": {},
   "outputs": [
    {
     "name": "stdout",
     "output_type": "stream",
     "text": [
      "2222\n",
      "[0, 1, 2]\n",
      "['ouptut1', 'output2']\n",
      "None\n"
     ]
    }
   ],
   "source": [
    "db.register_new_tx(2222,[0,1,2], [\"ouptut1\",\"output2\"])"
   ]
  },
  {
   "cell_type": "code",
   "execution_count": 110,
   "metadata": {},
   "outputs": [
    {
     "name": "stdout",
     "output_type": "stream",
     "text": [
      "<Record n=<Node id=9 labels={'TxOut'} properties={'outputs': ['ouptut1', 'output2'], 'id': 2222, 'confirmations': 7, 'created': 1586242324506, 'inputs': [0, 1, 2]}>>\n"
     ]
    }
   ],
   "source": [
    "db.update_confirmations(2222,7)"
   ]
  },
  {
   "cell_type": "code",
   "execution_count": 113,
   "metadata": {},
   "outputs": [
    {
     "name": "stdout",
     "output_type": "stream",
     "text": [
      "<Record p=<Path start=<Node id=5 labels={'utxo'} properties={'transaction_id': 1002, 'out_index': 2, 'local_index': 2, 'address': 'test_address3', 'spent': True}> end=<Node id=9 labels={'TxOut'} properties={'outputs': ['ouptut1', 'output2'], 'id': 2222, 'confirmations': 7, 'created': 1586242324506, 'inputs': [0, 1, 2]}> size=1>>\n"
     ]
    },
    {
     "name": "stderr",
     "output_type": "stream",
     "text": [
      "/anaconda3/envs/mlenv/lib/python3.7/site-packages/neo4j/__init__.py:990: UserWarning: Expected a result with a single record, but this result contains 3\n",
      "  warn(\"Expected a result with a single record, but this result contains %d\" % size)\n"
     ]
    }
   ],
   "source": [
    "db.update_utxo(2222)"
   ]
  },
  {
   "cell_type": "code",
   "execution_count": null,
   "metadata": {},
   "outputs": [],
   "source": []
  }
 ],
 "metadata": {
  "kernelspec": {
   "display_name": "Python 3",
   "language": "python",
   "name": "python3"
  },
  "language_info": {
   "codemirror_mode": {
    "name": "ipython",
    "version": 3
   },
   "file_extension": ".py",
   "mimetype": "text/x-python",
   "name": "python",
   "nbconvert_exporter": "python",
   "pygments_lexer": "ipython3",
   "version": "3.7.4"
  }
 },
 "nbformat": 4,
 "nbformat_minor": 4
}
