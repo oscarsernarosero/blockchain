{
 "cells": [
  {
   "cell_type": "code",
   "execution_count": 1,
   "metadata": {},
   "outputs": [],
   "source": [
    "import wallet"
   ]
  },
  {
   "cell_type": "code",
   "execution_count": 2,
   "metadata": {},
   "outputs": [],
   "source": [
    "\n",
    "account1 = wallet.Account.from_phrase(b\"Oscar Eduardo Serna Rosero\",\"big\")"
   ]
  },
  {
   "cell_type": "code",
   "execution_count": 3,
   "metadata": {},
   "outputs": [
    {
     "data": {
      "text/plain": [
       "'mo3WWB4PoSHrudEBik1nUqfn1uZEPNYEc8'"
      ]
     },
     "execution_count": 3,
     "metadata": {},
     "output_type": "execute_result"
    }
   ],
   "source": [
    "account1.testnet_address"
   ]
  },
  {
   "cell_type": "code",
   "execution_count": 4,
   "metadata": {},
   "outputs": [
    {
     "data": {
      "text/plain": [
       "Private Key Hex: 0000000000004f73636172204564756172646f205365726e6120526f7365726f"
      ]
     },
     "execution_count": 4,
     "metadata": {},
     "output_type": "execute_result"
    }
   ],
   "source": [
    "account1"
   ]
  },
  {
   "cell_type": "code",
   "execution_count": 5,
   "metadata": {},
   "outputs": [],
   "source": [
    "account2 = wallet.Account(0x0000000000004f73636172204564756172646f205365726e6120526f7365726f)"
   ]
  },
  {
   "cell_type": "code",
   "execution_count": 6,
   "metadata": {},
   "outputs": [
    {
     "data": {
      "text/plain": [
       "'mo3WWB4PoSHrudEBik1nUqfn1uZEPNYEc8'"
      ]
     },
     "execution_count": 6,
     "metadata": {},
     "output_type": "execute_result"
    }
   ],
   "source": [
    "account2.testnet_address"
   ]
  },
  {
   "cell_type": "code",
   "execution_count": 7,
   "metadata": {},
   "outputs": [],
   "source": [
    "multisig_acc = wallet.MultSigAccount.from_phrases(2,2,[(b\"Oscar Eduardo Serna Rosero\",\"big\"), (b\"Oscar Eduardo Serna Rosero\",\"little\")])"
   ]
  },
  {
   "cell_type": "code",
   "execution_count": 8,
   "metadata": {},
   "outputs": [
    {
     "data": {
      "text/plain": [
       "'2NAqp3V17G4iBekEwWuYkgzoEyWiULhYZLs'"
      ]
     },
     "execution_count": 8,
     "metadata": {},
     "output_type": "execute_result"
    }
   ],
   "source": [
    "multisig_acc.testnet_address"
   ]
  },
  {
   "cell_type": "code",
   "execution_count": 9,
   "metadata": {},
   "outputs": [
    {
     "data": {
      "text/plain": [
       "OP_2 03e07f96e5ba598431c0c994493a4ae988c9854c171d5d4bb140db0a27a4c853e4 031b63f964d8c65d1d1136dcfe5033dedea88c2d411934ea48c9708410be84e5ee OP_2 OP_CHECKMULTISIG"
      ]
     },
     "execution_count": 9,
     "metadata": {},
     "output_type": "execute_result"
    }
   ],
   "source": [
    "multisig_acc.redeem_script"
   ]
  },
  {
   "cell_type": "code",
   "execution_count": 11,
   "metadata": {},
   "outputs": [
    {
     "name": "stdout",
     "output_type": "stream",
     "text": [
      "tx: b75a821e5f70c4fd248cc5c9307cf56f04ce8e3c6cf5acd91f3b4c8d1e5cf587\n",
      "version: 1\n",
      "tx_ins:\n",
      "2f9c289966440d088978f9c674a0e596d47db5a91d6d5fc4df7ed38aee0a2d18:0\n",
      "67d3baf44adefc13c8635f51e45e6c1de6fa47cf18f4afbdc05ab0c95bd898e5:1\n",
      "tx_outs:\n",
      "1000000:OP_HASH160 c104b576f5436309587aefa3ddddd5c295b90480 OP_EQUAL\n",
      "locktime: 0\n",
      "OP_DUP OP_HASH160 52903efc1004de01883ba3687be2a8ea4f6b1b19 OP_EQUALVERIFY OP_CHECKSIG\n",
      "\n",
      "combined script[b'0D\\x02 L\\x13Z\\xdc*\\xbe-\\xd3Q,.U8D\\xe0\\xc7%\\xb0\\xbf\\xce\\xcc\\x95\\x1e\\xf7\\x9f\\x9d\\xc5b\\x928\\xed\\xfc\\x02 {4\\x07f\\xf0\\xdc\\x97a\\x08\\xa8\\x8b)O\\xb2fq=\\x119k\\xa7\\x95<z\\x88\\x9c\\x1b\\xab\\xc6uS\\x08\\x01', b\"\\x03\\xe0\\x7f\\x96\\xe5\\xbaY\\x841\\xc0\\xc9\\x94I:J\\xe9\\x88\\xc9\\x85L\\x17\\x1d]K\\xb1@\\xdb\\n'\\xa4\\xc8S\\xe4\", 118, 169, b'R\\x90>\\xfc\\x10\\x04\\xde\\x01\\x88;\\xa3h{\\xe2\\xa8\\xeaOk\\x1b\\x19', 136, 172]\n",
      "\n",
      "True\n",
      "OP_DUP OP_HASH160 52903efc1004de01883ba3687be2a8ea4f6b1b19 OP_EQUALVERIFY OP_CHECKSIG\n",
      "\n",
      "combined script[b'0D\\x02 \\x02\\x98\\xf3?\\x8a]\\xb7I}\\xf0\\x08q\\xb5(\\xd1\\xae\\xa8\\xde\\xf5\\xf0\\x11e\\x9b`\\xb5]\\x1f\\x97\\xf3#\\xa1\\xfb\\x02 \\x0e5\\xdf[O0\\x9du\\xee\\xc0O\\xa9\\x9d\\x92\\x98\\xb0Qot\\x94\\xb8\\xca\\xc4\\xf0\\x0b\\xf9\\xbc*\\xf7\\x11\\x8d\\xad\\x01', b\"\\x03\\xe0\\x7f\\x96\\xe5\\xbaY\\x841\\xc0\\xc9\\x94I:J\\xe9\\x88\\xc9\\x85L\\x17\\x1d]K\\xb1@\\xdb\\n'\\xa4\\xc8S\\xe4\", 118, 169, b'R\\x90>\\xfc\\x10\\x04\\xde\\x01\\x88;\\xa3h{\\xe2\\xa8\\xeaOk\\x1b\\x19', 136, 172]\n",
      "\n",
      "True\n",
      "fee: 5376\n",
      "change 566504\n",
      "total 1571880, diff: 0\n",
      "OP_DUP OP_HASH160 52903efc1004de01883ba3687be2a8ea4f6b1b19 OP_EQUALVERIFY OP_CHECKSIG\n",
      "\n",
      "combined script[b'0E\\x02!\\x00\\xc7\\xdeP:\\xd4\\xe7v\\x01\\xf4\\xa5\\x06\\x91\\xba\\xc2M\\x19\\xcd\\x80\\xc47\\xfa\\xb2\\xf2\\x89\\x0f\\x18{\\x06%p}\\xcc\\x02 l[\\\\\\x19\\xdcz\\xd4(\\xc8\\xcf,(\\\\\\xc5#7\\xc2\\x90%y\\xc5\\xaa>\\xf7\\xfd\\xd2Q\\x08\\xc3p}R\\x01', b\"\\x03\\xe0\\x7f\\x96\\xe5\\xbaY\\x841\\xc0\\xc9\\x94I:J\\xe9\\x88\\xc9\\x85L\\x17\\x1d]K\\xb1@\\xdb\\n'\\xa4\\xc8S\\xe4\", 118, 169, b'R\\x90>\\xfc\\x10\\x04\\xde\\x01\\x88;\\xa3h{\\xe2\\xa8\\xeaOk\\x1b\\x19', 136, 172]\n",
      "\n",
      "OP_DUP OP_HASH160 52903efc1004de01883ba3687be2a8ea4f6b1b19 OP_EQUALVERIFY OP_CHECKSIG\n",
      "\n",
      "combined script[b'0E\\x02!\\x00\\x82$\\xae^el\\xe3&u \\x8b\\x9c\\xc0\\xfc\\xfd\\xb3l\\x88\\xae\"\\xc8\\xaf\\n\\x80\\xa5n4\\x7f\\xf6\\x14\\xbbD\\x02 \\x10\\xd9\\xa2$zU\\xceNe\\x8c-\\xbec0\\x7f\\x92\\xc7sI\\x81!4\\xeed\\x08Q\\xbe9p\\x0e\\xc5\\x1d\\x01', b\"\\x03\\xe0\\x7f\\x96\\xe5\\xbaY\\x841\\xc0\\xc9\\x94I:J\\xe9\\x88\\xc9\\x85L\\x17\\x1d]K\\xb1@\\xdb\\n'\\xa4\\xc8S\\xe4\", 118, 169, b'R\\x90>\\xfc\\x10\\x04\\xde\\x01\\x88;\\xa3h{\\xe2\\xa8\\xeaOk\\x1b\\x19', 136, 172]\n",
      "\n"
     ]
    }
   ],
   "source": [
    "prev_tx_id_list = [\"2f9c289966440d088978f9c674a0e596d47db5a91d6d5fc4df7ed38aee0a2d18\",\n",
    "                  \"67d3baf44adefc13c8635f51e45e6c1de6fa47cf18f4afbdc05ab0c95bd898e5\"]\n",
    "my_tx = wallet.Build_TX.build_tx(prev_tx_id_list, [(multisig_acc.testnet_address, 1000000)], account1, True)"
   ]
  },
  {
   "cell_type": "code",
   "execution_count": 12,
   "metadata": {},
   "outputs": [
    {
     "data": {
      "text/plain": [
       "'0100000002182d0aee8ad37edfc45f6d1da9b57dd496e5a074c6f97889080d446699289c2f000000006b483045022100c7de503ad4e77601f4a50691bac24d19cd80c437fab2f2890f187b0625707dcc02206c5b5c19dc7ad428c8cf2c285cc52337c2902579c5aa3ef7fdd25108c3707d52012103e07f96e5ba598431c0c994493a4ae988c9854c171d5d4bb140db0a27a4c853e4ffffffffe598d85bc9b05ac0bdaff418cf47fae61d6c5ee4515f63c813fcde4af4bad367010000006b4830450221008224ae5e656ce32675208b9cc0fcfdb36c88ae22c8af0a80a56e347ff614bb44022010d9a2247a55ce4e658c2dbe63307f92c77349812134ee640851be39700ec51d012103e07f96e5ba598431c0c994493a4ae988c9854c171d5d4bb140db0a27a4c853e4ffffffff01e8a408000000000017a914c104b576f5436309587aefa3ddddd5c295b904808700000000'"
      ]
     },
     "execution_count": 12,
     "metadata": {},
     "output_type": "execute_result"
    }
   ],
   "source": [
    "my_tx"
   ]
  },
  {
   "cell_type": "code",
   "execution_count": null,
   "metadata": {},
   "outputs": [],
   "source": []
  }
 ],
 "metadata": {
  "kernelspec": {
   "display_name": "Python 3",
   "language": "python",
   "name": "python3"
  },
  "language_info": {
   "codemirror_mode": {
    "name": "ipython",
    "version": 3
   },
   "file_extension": ".py",
   "mimetype": "text/x-python",
   "name": "python",
   "nbconvert_exporter": "python",
   "pygments_lexer": "ipython3",
   "version": "3.7.3"
  }
 },
 "nbformat": 4,
 "nbformat_minor": 4
}
