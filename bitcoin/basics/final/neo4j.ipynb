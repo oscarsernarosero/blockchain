{
 "cells": [
  {
   "cell_type": "code",
   "execution_count": 137,
   "metadata": {},
   "outputs": [],
   "source": [
    "from neo4j import GraphDatabase"
   ]
  },
  {
   "cell_type": "code",
   "execution_count": 166,
   "metadata": {},
   "outputs": [],
   "source": [
    "class WalletDB(object):\n",
    "\n",
    "    def __init__(self, uri, user, password):\n",
    "        self._driver = GraphDatabase.driver(uri, auth=(user, password), encrypted=False)#REVISE LATER FOR ENCRYPTION!!!\n",
    "\n",
    "    def close(self):\n",
    "        self._driver.close()\n",
    "        \n",
    "        \n",
    "    @staticmethod\n",
    "    def _new_address(tx, address,i,change_addr):\n",
    "        if change_addr: addr_type = \"change\"\n",
    "        else: addr_type = \"recipient\"\n",
    "        result = tx.run(\"CREATE a = (:address {address:$address, acc_index:$index, type:$kind, created:timestamp()}) \"\n",
    "                        \"RETURN a \", address=address, index = i, kind = addr_type)\n",
    "        return result.single()\n",
    "    \n",
    "    \n",
    "    @staticmethod\n",
    "    def _new_utxo(tx, address,tx_id,out_index):\n",
    "        local_index = tx.run( \"MATCH (u:utxo) RETURN COUNT (u) \").single()[0] \n",
    "        result = tx.run(\"MATCH (n:address {address : $address}) \"\n",
    "                        \"CREATE p = (:utxo {address:$address, transaction_id:$tx_id, out_index:$out_index, local_index:$local_index, spent:false})-[:BELONGS]->(n) \"\n",
    "                        \"RETURN p \", address=address, tx_id = tx_id, out_index = out_index, local_index=local_index)\n",
    "        return result.single()\n",
    "    \n",
    "    \n",
    "    @staticmethod\n",
    "    def _new_tx(tx,tx_id,inputs, outputs):\n",
    "        result = tx.run(\"CREATE (n:TxOut {id:$tx_id, inputs:$inputs , outputs:$outputs, confirmations:0, created:timestamp()}) \"\n",
    "                        \"WITH n \"\n",
    "                        \"UNWIND n.inputs AS ins \"\n",
    "                        \"MATCH coins = (:utxo {local_index:ins}) \"\n",
    "                        \"FOREACH ( coin IN nodes(coins) | CREATE (coin)<-[:SPENT]-(n) ) \",\n",
    "                        tx_id=tx_id, inputs = inputs, outputs = outputs)\n",
    "        return result.single()\n",
    "    \n",
    "    \n",
    "    @staticmethod\n",
    "    def _update_confirmations(tx,tx_id,n_confirmations):\n",
    "        result = tx.run(\"MATCH (n:TxOut {id:$tx_id}) \"\n",
    "                        \"SET n.confirmations=$n_confirmations \"\n",
    "                        \"RETURN n \", tx_id=tx_id, n_confirmations = n_confirmations)\n",
    "        return result.single()\n",
    "    \n",
    "    \n",
    "    @staticmethod\n",
    "    def _update_utxo(tx,tx_id):\n",
    "        result = tx.run(\"MATCH p = (u)<-[:SPENT]-(:TxOut {id:$tx_id}) \"\n",
    "                        \"SET u.spent=true \"\n",
    "                        \"RETURN p \", tx_id=tx_id)\n",
    "        return result.consume()\n",
    "    \n",
    "    \n",
    "    @staticmethod\n",
    "    def _clean_addresses(tx):\n",
    "        result = tx.run(\"MATCH (a: address) \"\n",
    "                        \"WHERE NOT (a)--() AND (timestamp() - a.created )>2592000000 \"\n",
    "                        \"DELETE a \")\n",
    "        return result.single()\n",
    "\n",
    "    \n",
    "    @staticmethod\n",
    "    def _look_for_coins(tx):\n",
    "        result = tx.run(\"MATCH (coin:utxo {spent:false}) \"\n",
    "                        \"RETURN coin.transaction_id, coin.out_index, coin.address \")\n",
    "        return result.data()\n",
    "    \n",
    "    @staticmethod\n",
    "    def _get_unused_addresses(tx):\n",
    "        result = tx.run(\"MATCH (unused_address:address) \"\n",
    "                        \"WHERE NOT (unused_address)--() \"\n",
    "                        \"RETURN  unused_address.address, unused_address.acc_index, unused_address.type \")\n",
    "        return result.data()\n",
    "\n",
    "\n",
    "\n",
    "    \n",
    "    def new_address(self, address,i,change_addr):\n",
    "        with self._driver.session() as session:\n",
    "            result = session.write_transaction(self._new_address, address,i,change_addr)\n",
    "            print(result)\n",
    "            \n",
    "    def new_utxo(self, address,tx_id,out_index):\n",
    "        with self._driver.session() as session:\n",
    "            result = session.write_transaction(self._new_utxo, address,tx_id,out_index)\n",
    "            print(result)\n",
    "            \n",
    "    def new_tx(self, tx_id,utxo_local_index_list, outputs):\n",
    "        with self._driver.session() as session:\n",
    "            result = session.write_transaction(self._new_tx, tx_id,utxo_local_index_list, outputs)\n",
    "            print(result)\n",
    "            \n",
    "    def update_confirmations(self, tx_id,n_confirmations):\n",
    "        with self._driver.session() as session:\n",
    "            result = session.write_transaction(self._update_confirmations, tx_id,n_confirmations)\n",
    "            print(result)\n",
    "            \n",
    "    def update_utxo(self, tx_id):\n",
    "        with self._driver.session() as session:\n",
    "            result = session.write_transaction(self._update_utxo, tx_id)\n",
    "            print(result)\n",
    "        \n",
    "    def clean_addresses(self):\n",
    "        with self._driver.session() as session:\n",
    "            result = session.write_transaction(self._clean_addresses)\n",
    "            print(result)\n",
    "            \n",
    "    def look_for_coins(self):\n",
    "        with self._driver.session() as session:\n",
    "            result = session.write_transaction(self._look_for_coins)\n",
    "            return result\n",
    "        \n",
    "    def get_unused_addresses(self):\n",
    "        with self._driver.session() as session:\n",
    "            result = session.write_transaction(self._get_unused_addresses)\n",
    "            return result\n",
    "            \n",
    "      "
   ]
  },
  {
   "cell_type": "code",
   "execution_count": 167,
   "metadata": {},
   "outputs": [],
   "source": [
    "db = WalletDB( \"neo4j://localhost:7687\" , \"neo4j\" , \"wallet\" )\n"
   ]
  },
  {
   "cell_type": "code",
   "execution_count": 140,
   "metadata": {},
   "outputs": [
    {
     "name": "stdout",
     "output_type": "stream",
     "text": [
      "<Record a=<Path start=<Node id=14 labels={'address'} properties={'address': 'test_address1', 'type': 'recipient', 'acc_index': 0, 'created': 1586244466132}> end=<Node id=14 labels={'address'} properties={'address': 'test_address1', 'type': 'recipient', 'acc_index': 0, 'created': 1586244466132}> size=0>>\n",
      "<Record a=<Path start=<Node id=15 labels={'address'} properties={'address': 'test_address2', 'type': 'recipient', 'acc_index': 777, 'created': 1586244466145}> end=<Node id=15 labels={'address'} properties={'address': 'test_address2', 'type': 'recipient', 'acc_index': 777, 'created': 1586244466145}> size=0>>\n",
      "<Record a=<Path start=<Node id=0 labels={'address'} properties={'address': 'test_address3', 'type': 'recipient', 'acc_index': 22222, 'created': 1586244466152}> end=<Node id=0 labels={'address'} properties={'address': 'test_address3', 'type': 'recipient', 'acc_index': 22222, 'created': 1586244466152}> size=0>>\n",
      "<Record a=<Path start=<Node id=8 labels={'address'} properties={'address': 'test_address4', 'type': 'change', 'acc_index': 92747, 'created': 1586244466161}> end=<Node id=8 labels={'address'} properties={'address': 'test_address4', 'type': 'change', 'acc_index': 92747, 'created': 1586244466161}> size=0>>\n",
      "<Record a=<Path start=<Node id=2 labels={'address'} properties={'address': 'test_address5', 'type': 'change', 'acc_index': 99199191, 'created': 1586244466169}> end=<Node id=2 labels={'address'} properties={'address': 'test_address5', 'type': 'change', 'acc_index': 99199191, 'created': 1586244466169}> size=0>>\n",
      "<Record a=<Path start=<Node id=3 labels={'address'} properties={'address': 'test_address6', 'type': 'change', 'acc_index': 666, 'created': 1586244466181}> end=<Node id=3 labels={'address'} properties={'address': 'test_address6', 'type': 'change', 'acc_index': 666, 'created': 1586244466181}> size=0>>\n",
      "<Record a=<Path start=<Node id=5 labels={'address'} properties={'address': 'test_address7', 'type': 'change', 'acc_index': 625, 'created': 1586244466188}> end=<Node id=5 labels={'address'} properties={'address': 'test_address7', 'type': 'change', 'acc_index': 625, 'created': 1586244466188}> size=0>>\n"
     ]
    }
   ],
   "source": [
    "db.new_address(\"test_address1\",0,False)\n",
    "db.new_address(\"test_address2\",777,False)\n",
    "db.new_address(\"test_address3\",22222,False)\n",
    "db.new_address(\"test_address4\",92747,True)\n",
    "db.new_address(\"test_address5\",99199191,True)\n",
    "db.new_address(\"test_address6\",666,True)\n",
    "db.new_address(\"test_address7\",625,True)"
   ]
  },
  {
   "cell_type": "code",
   "execution_count": 141,
   "metadata": {},
   "outputs": [
    {
     "name": "stdout",
     "output_type": "stream",
     "text": [
      "<Record p=<Path start=<Node id=6 labels={'utxo'} properties={'transaction_id': 1000, 'out_index': 2, 'local_index': 0, 'address': 'test_address1', 'spent': False}> end=<Node id=14 labels={'address'} properties={'address': 'test_address1', 'type': 'recipient', 'created': 1586244466132, 'acc_index': 0}> size=1>>\n",
      "<Record p=<Path start=<Node id=7 labels={'utxo'} properties={'transaction_id': 1001, 'out_index': 0, 'local_index': 1, 'address': 'test_address2', 'spent': False}> end=<Node id=15 labels={'address'} properties={'address': 'test_address2', 'type': 'recipient', 'created': 1586244466145, 'acc_index': 777}> size=1>>\n",
      "<Record p=<Path start=<Node id=9 labels={'utxo'} properties={'transaction_id': 1002, 'out_index': 1, 'local_index': 2, 'address': 'test_address3', 'spent': False}> end=<Node id=0 labels={'address'} properties={'address': 'test_address3', 'type': 'recipient', 'created': 1586244466152, 'acc_index': 22222}> size=1>>\n",
      "<Record p=<Path start=<Node id=10 labels={'utxo'} properties={'transaction_id': 1003, 'out_index': 8, 'local_index': 3, 'address': 'test_address4', 'spent': False}> end=<Node id=8 labels={'address'} properties={'address': 'test_address4', 'type': 'change', 'created': 1586244466161, 'acc_index': 92747}> size=1>>\n",
      "<Record p=<Path start=<Node id=11 labels={'utxo'} properties={'transaction_id': 1004, 'out_index': 5, 'local_index': 4, 'address': 'test_address5', 'spent': False}> end=<Node id=2 labels={'address'} properties={'address': 'test_address5', 'type': 'change', 'created': 1586244466169, 'acc_index': 99199191}> size=1>>\n"
     ]
    }
   ],
   "source": [
    "db.new_utxo(\"test_address1\",1000,2)\n",
    "db.new_utxo(\"test_address2\",1001,0)\n",
    "db.new_utxo(\"test_address3\",1002,1)\n",
    "db.new_utxo(\"test_address4\",1003,8)\n",
    "db.new_utxo(\"test_address5\",1004,5)"
   ]
  },
  {
   "cell_type": "code",
   "execution_count": 142,
   "metadata": {},
   "outputs": [
    {
     "name": "stdout",
     "output_type": "stream",
     "text": [
      "None\n"
     ]
    }
   ],
   "source": [
    "db.new_tx(2222,[0,1], [\"ouptut1\",\"output2\"])"
   ]
  },
  {
   "cell_type": "code",
   "execution_count": 143,
   "metadata": {},
   "outputs": [
    {
     "name": "stdout",
     "output_type": "stream",
     "text": [
      "<Record n=<Node id=12 labels={'TxOut'} properties={'outputs': ['ouptut1', 'output2'], 'id': 2222, 'confirmations': 7, 'created': 1586244466250, 'inputs': [0, 1]}>>\n"
     ]
    }
   ],
   "source": [
    "db.update_confirmations(2222,7)"
   ]
  },
  {
   "cell_type": "code",
   "execution_count": 144,
   "metadata": {},
   "outputs": [
    {
     "name": "stdout",
     "output_type": "stream",
     "text": [
      "<neo4j.BoltStatementResultSummary object at 0x114dffe90>\n"
     ]
    }
   ],
   "source": [
    "up = db.update_utxo(2222)"
   ]
  },
  {
   "cell_type": "code",
   "execution_count": 145,
   "metadata": {},
   "outputs": [
    {
     "name": "stdout",
     "output_type": "stream",
     "text": [
      "None\n"
     ]
    }
   ],
   "source": [
    "db.clean_addresses()"
   ]
  },
  {
   "cell_type": "code",
   "execution_count": 161,
   "metadata": {},
   "outputs": [],
   "source": [
    "add = db.look_for_coins()"
   ]
  },
  {
   "cell_type": "code",
   "execution_count": 162,
   "metadata": {},
   "outputs": [
    {
     "data": {
      "text/plain": [
       "[{'coin.transaction_id': 1002,\n",
       "  'coin.out_index': 1,\n",
       "  'coin.address': 'test_address3'},\n",
       " {'coin.transaction_id': 1003,\n",
       "  'coin.out_index': 8,\n",
       "  'coin.address': 'test_address4'},\n",
       " {'coin.transaction_id': 1004,\n",
       "  'coin.out_index': 5,\n",
       "  'coin.address': 'test_address5'}]"
      ]
     },
     "execution_count": 162,
     "metadata": {},
     "output_type": "execute_result"
    }
   ],
   "source": [
    "add"
   ]
  },
  {
   "cell_type": "code",
   "execution_count": 168,
   "metadata": {},
   "outputs": [
    {
     "data": {
      "text/plain": [
       "[{'unused_address.address': 'test_address6',\n",
       "  'unused_address.acc_index': 666,\n",
       "  'unused_address.type': 'change'},\n",
       " {'unused_address.address': 'test_address7',\n",
       "  'unused_address.acc_index': 625,\n",
       "  'unused_address.type': 'change'}]"
      ]
     },
     "execution_count": 168,
     "metadata": {},
     "output_type": "execute_result"
    }
   ],
   "source": [
    "unused_add = db.get_unused_addresses()\n",
    "unused_add"
   ]
  },
  {
   "cell_type": "code",
   "execution_count": null,
   "metadata": {},
   "outputs": [],
   "source": []
  },
  {
   "cell_type": "code",
   "execution_count": null,
   "metadata": {},
   "outputs": [],
   "source": []
  }
 ],
 "metadata": {
  "kernelspec": {
   "display_name": "Python 3",
   "language": "python",
   "name": "python3"
  },
  "language_info": {
   "codemirror_mode": {
    "name": "ipython",
    "version": 3
   },
   "file_extension": ".py",
   "mimetype": "text/x-python",
   "name": "python",
   "nbconvert_exporter": "python",
   "pygments_lexer": "ipython3",
   "version": "3.7.4"
  }
 },
 "nbformat": 4,
 "nbformat_minor": 4
}
