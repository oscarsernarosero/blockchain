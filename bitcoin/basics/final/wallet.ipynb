{
 "cells": [
  {
   "cell_type": "code",
   "execution_count": 1,
   "metadata": {},
   "outputs": [],
   "source": [
    "from accounts import MasterAccount, Account, MultSigAccount\n",
    "from transactions import Transaction, MultiSigTransaction\n",
    "from os import urandom\n",
    "from database import WalletDB\n",
    "from blockcypher import get_address_details\n",
    "from blockcypher import pushtx\n",
    "from dotenv import load_dotenv\n",
    "import os\n",
    "\n",
    "import schedule \n",
    "import time "
   ]
  },
  {
   "cell_type": "code",
   "execution_count": 7,
   "metadata": {},
   "outputs": [],
   "source": [
    "class Wallet(MasterAccount):\n",
    "    \n",
    "    def __init__(self, depth, fingerprint, index, chain_code, private_key, db_user=\"neo4j\",db_password=\"wallet\", testnet = False):\n",
    "    \n",
    "        load_dotenv()\n",
    "        BLOCKCYPHER_API_KEY = os.getenv('BLOCKCYPHER_API_KEY')\n",
    "        \n",
    "        \n",
    "        self.db = WalletDB( \"neo4j://localhost:7687\" ,db_user ,db_password )\n",
    "        super().__init__( depth, fingerprint, index, chain_code, private_key,testnet)\n",
    "        \n",
    "        if not self.db.exist_wallet(self.get_xtended_key()):\n",
    "            self.db.new_wallet(self.get_xtended_key())\n",
    "        \n",
    "        self.start_schedule()\n",
    "        \n",
    "    @classmethod\n",
    "    def start_schedule(self):\n",
    "        \"\"\"\n",
    "        This method starts the process of the scheduled tasks that are in charge of cleaning the database, \n",
    "        updating the balace automatically every hour, and update confirmations on new transactions sent or\n",
    "        received.\n",
    "        \"\"\"\n",
    "        schedule.every().day.do(self.clean_addresses)\n",
    "        schedule.every().hour.do(self.update_balance)\n",
    "        #pendind: to update confirmations of incoming and outcoming transactions.\n",
    "        \n",
    "    \n",
    "    #@classmethod\n",
    "    def clean_addresses(self):\n",
    "        print(\"cleaning addresses...\")\n",
    "        self.db.clean_addresses()\n",
    "        \n",
    "    def close_db(self):\n",
    "        self.db.close()\n",
    "    \n",
    "    @classmethod\n",
    "    def get_i(self, index):\n",
    "        if index is None:\n",
    "            print(f\"get i: {index}\")\n",
    "            i = int.from_bytes(urandom(4),\"big\")\n",
    "            i = i & 0x7fffffff\n",
    "            if i < (2**31-1):print(\"true\")\n",
    "        else:\n",
    "            if index <= (2**31-1):\n",
    "                i = index\n",
    "            else:\n",
    "                raise Exception (f\"index must be less than {2**31-1} \")\n",
    "        return i\n",
    "    \n",
    "    #@classmethod\n",
    "    def get_unused_addresses_list(self, change_addresses=False, range_of_days=None, last_day_range=None):\n",
    "        \n",
    "        unused_addresses = self.db.get_unused_addresses(xprv = self.get_xtended_key(), \n",
    "                                                        days_range = range_of_days, \n",
    "                                                        max_days = last_day_range)\n",
    "        \n",
    "        if change_addresses:\n",
    "            unused_addresses_filtered =  [x for x in unused_addresses if x[\"unused_address.type\"]==\"change\"]\n",
    "        else:\n",
    "            unused_addresses_filtered =  [x for x in unused_addresses if x[\"unused_address.type\"]==\"recipient\"]\n",
    "        \n",
    "        return unused_addresses_filtered\n",
    "        \n",
    "    #@classmethod\n",
    "    def create_receiving_address(self, addr_type = \"p2pkh\",index=None):\n",
    "        receiving_path = \"m/0H/2H/\"\n",
    "        i = self.get_i(index)\n",
    "        path = receiving_path + str(i)\n",
    "        print(f\"Path: {path}\")\n",
    "        receiving_xtended_acc = self.get_child_from_path(path)\n",
    "        account = Account(int.from_bytes(receiving_xtended_acc.private_key,\"big\"),addr_type, self.testnet )\n",
    "        self.db.new_address(account.address,i,False, self.get_xtended_key())\n",
    "        return account\n",
    "\n",
    "    #@classmethod\n",
    "    def create_change_address(self,addr_type = \"p2wpkh\", index=None):\n",
    "        change_path = \"m/0H/1H/\"\n",
    "        i = self.get_i(index)\n",
    "        path = change_path + str(i)\n",
    "        print(f\"Path: {path}\")\n",
    "        change_xtended_acc = self.get_child_from_path(path)\n",
    "        account = Account(int.from_bytes(change_xtended_acc.private_key,\"big\"),addr_type, self.testnet )\n",
    "        self.db.new_address(account.address,i,True, self.get_xtended_key())\n",
    "        return account\n",
    "    \n",
    "    def get_utxos(self):\n",
    "        return self.db.look_for_coins(self.get_xtended_key())\n",
    "        \n",
    "    def get_balance(self):\n",
    "        coins = self.get_utxos()\n",
    "        balance = 0\n",
    "        for coin in coins:\n",
    "            balance += coin[\"coin.amount\"]\n",
    "        return balance\n",
    "\n",
    "    def update_balance(self):\n",
    "        addresses = self.db.get_all_addresses(self.get_xtended_key())\n",
    "        \n",
    "        if self.testnet: coin_symbol = \"btc-testnet\"\n",
    "        else: coin_symbol = \"btc\"\n",
    "            \n",
    "        for address in addresses:\n",
    "            \n",
    "            addr_info = get_address_details(address[\"addr.address\"], coin_symbol = coin_symbol, unspent_only=True)\n",
    "            \n",
    "            if addr_info[\"unconfirmed_n_tx\"] > 0:\n",
    "                for utxo in addr_info[\"unconfirmed_txrefs\"]:\n",
    "                    if not self.db.exist_utxo( utxo[\"tx_hash\"], utxo[\"tx_output_n\"], False):\n",
    "                        print(\"new unconfirmed UTXO\")\n",
    "                        self.db.new_utxo(utxo[\"address\"],utxo[\"tx_hash\"],utxo[\"tx_output_n\"],utxo[\"value\"],False)\n",
    "            \n",
    "            if addr_info[\"n_tx\"] - addr_info[\"unconfirmed_n_tx\"] > 0 :\n",
    "                for utxo in addr_info[\"txrefs\"]:\n",
    "                    if not self.db.exist_utxo( utxo[\"tx_hash\"], utxo[\"tx_output_n\"], True):\n",
    "                        print(\"new confirmed UTXO\")\n",
    "                        self.db.new_utxo(addr_info[\"address\"],utxo[\"tx_hash\"],utxo[\"tx_output_n\"],utxo[\"value\"],True)\n",
    "      \n",
    "        return self.get_balance()\n",
    "    \n",
    "    #@classmethod\n",
    "    #def create_multisig_account(m,public_key_list,account,addr_type=\"p2sh\", testnet = False, segwit=True):\n",
    "    #    n = len(public_key_list)\n",
    "    #    return MultiSigTransaction(m, n, int.from_bytes(account.private_key,\"big\"), public_key_list, addr_type, testnet, segwit)\n",
    "\n",
    "    #@classmethod\n",
    "    def send(self, to_address_amount_list, segwit=True):\n",
    "        \"\"\"\n",
    "        to_address can be a single address or a list.\n",
    "        amount can be an integer or a list of integers.\n",
    "        If they are lists, they must be ordered in the same way. address 1 will e sent amount 1, \n",
    "        adrress 2 will be sent amount2.. adress n will be sent amount n.\n",
    "        \"\"\"\n",
    "        total_amount = 0\n",
    "        for output in to_address_amount_list:\n",
    "            total_amount += output[1]\n",
    "            \n",
    "        balance = self.get_balance()\n",
    "        if total_amount>balance:\n",
    "            raise Exception(f\"Not enough funds in wallet for this transaction.\\nOnly {balance} satoshis available\")\n",
    "            \n",
    "        all_utxos = self.get_utxos()\n",
    "        utxos = []\n",
    "        utxo_total = 0\n",
    "        for utxo in all_utxos:\n",
    "            if utxo[\"coin.amount\"] > total_amount*1.1:\n",
    "                utxos = [utxo]\n",
    "                break\n",
    "                \n",
    "        if len(utxos)==0:    \n",
    "            for utxo in all_utxos:\n",
    "                utxos.append(utxo)\n",
    "                utxo_total += utxo[\"coin.amount\"]\n",
    "                if utxo_total>total_amount: break\n",
    "        change_account = self.create_change_address()\n",
    "          \n",
    "        tx = Transaction.create_from_master( utxos,to_address_amount_list, self,change_account,\n",
    "                           fee=None, segwit=segwit)\n",
    "        \n",
    "        print(f\"TRANSACTION ID: {tx.transaction.id()}\")\n",
    "        \n",
    "        #saving in db\n",
    "        self.db.new_tx(tx.transaction.id(),[x[\"coin.local_index\"] for x in utxos], \n",
    "                       #[str(x[0])+\":\"+str(x[1]) for x in to_address_amount_list]\n",
    "                       [str(x) for x in tx.transaction.tx_outs]\n",
    "                      )\n",
    "        if self.testnet: symbol = \"btc-testnet\"\n",
    "        else: symbol= \"btc\"\n",
    "        \n",
    "        push = pushtx(tx_hex= tx.transaction.serialize().hex(), coin_symbol=symbol,api_key=BLOCKCYPHER_API_KEY)\n",
    "        \n",
    "        self.db.update_utxo(tx.transaction.id())\n",
    "        \n",
    "        return tx,push\n",
    "        \n",
    "    \n",
    "    "
   ]
  },
  {
   "cell_type": "code",
   "execution_count": 8,
   "metadata": {},
   "outputs": [
    {
     "name": "stdout",
     "output_type": "stream",
     "text": [
      "8418572761394767459444418608530371567217744336876557229650655736270882421023962287566834689847418048023007033142570964655978481626857402470209587761075589\n"
     ]
    },
    {
     "data": {
      "text/plain": [
       "tprv8ZgxMBicQKsPfQJYjuFAso9x6STzmUdMh5U8CQqqQUTgtQHBHCq4C7FseeeZg15L16UeSwbrLwJRTXNPQsJQwqvbBA11sn4M6c3jR1LwAQP"
      ]
     },
     "execution_count": 8,
     "metadata": {},
     "output_type": "execute_result"
    }
   ],
   "source": [
    "words = \"engine over neglect science fatigue dawn axis parent mind man escape era goose border invest slab relax bind desert hurry useless lonely frozen morning\"\n",
    "my_wallet = Wallet.recover_from_words(words, 256, \"RobertPauslon\",True)\n",
    "my_wallet"
   ]
  },
  {
   "cell_type": "code",
   "execution_count": 10,
   "metadata": {},
   "outputs": [
    {
     "data": {
      "text/plain": [
       "[{'unused_address.address': 'muNHLmzC8CZ4nmZVy448xoYS84hmeXJXFG',\n",
       "  'unused_address.acc_index': 1148426926,\n",
       "  'unused_address.type': 'recipient'},\n",
       " {'unused_address.address': 'n1P8UFvu4WNGPiQBnRxNtBsEfC5KzU4QLb',\n",
       "  'unused_address.acc_index': 198451525,\n",
       "  'unused_address.type': 'recipient'}]"
      ]
     },
     "execution_count": 10,
     "metadata": {},
     "output_type": "execute_result"
    }
   ],
   "source": [
    "unused_addresses = my_wallet.get_unused_addresses_list()\n",
    "unused_addresses"
   ]
  },
  {
   "cell_type": "code",
   "execution_count": 6,
   "metadata": {},
   "outputs": [
    {
     "data": {
      "text/plain": [
       "[{'unused_address.address': 'muNHLmzC8CZ4nmZVy448xoYS84hmeXJXFG',\n",
       "  'unused_address.acc_index': 1148426926,\n",
       "  'unused_address.type': 'recipient'},\n",
       " {'unused_address.address': 'n1P8UFvu4WNGPiQBnRxNtBsEfC5KzU4QLb',\n",
       "  'unused_address.acc_index': 198451525,\n",
       "  'unused_address.type': 'recipient'}]"
      ]
     },
     "execution_count": 6,
     "metadata": {},
     "output_type": "execute_result"
    }
   ],
   "source": [
    "unused_receiving_addresses = [x for x in unused_addresses if x[\"unused_address.type\"]==\"recipient\"]\n",
    "unused_receiving_addresses"
   ]
  },
  {
   "cell_type": "code",
   "execution_count": 4,
   "metadata": {},
   "outputs": [
    {
     "name": "stdout",
     "output_type": "stream",
     "text": [
      "new confirmed UTXO\n",
      "<Record p=<Path start=<Node id=1056724 labels={'utxo'} properties={'transaction_id': '73f1aa13e0d8b56c393f540e16fe395f3b7563a7022b9f299ecf7164dc33dc52', 'out_index': 1, 'amount': 444820, 'address': 'tb1qje5fsgd4gp866zak3frdxpyluf05zu3rvkg4j6', 'spent': False, 'local_index': 15, 'confirmed': True}> end=<Node id=29 labels={'address'} properties={'address': 'tb1qje5fsgd4gp866zak3frdxpyluf05zu3rvkg4j6', 'type': 'change', 'acc_index': 1187776120, 'created': 1586491589477}> size=1>>\n"
     ]
    },
    {
     "data": {
      "text/plain": [
       "1009300"
      ]
     },
     "execution_count": 4,
     "metadata": {},
     "output_type": "execute_result"
    }
   ],
   "source": [
    "my_wallet.update_balance()"
   ]
  },
  {
   "cell_type": "code",
   "execution_count": 4,
   "metadata": {},
   "outputs": [
    {
     "data": {
      "text/plain": [
       "'857060'"
      ]
     },
     "execution_count": 4,
     "metadata": {},
     "output_type": "execute_result"
    }
   ],
   "source": [
    "\"857060\""
   ]
  },
  {
   "cell_type": "code",
   "execution_count": 5,
   "metadata": {},
   "outputs": [],
   "source": [
    "words = \"client sudden sunset borrow pupil rely sand girl prefer movie bachelor guilt giraffe glove much strong dizzy switch ill silent goddess crumble goat power\"\n",
    "mywallet2 = Wallet.recover_from_words(words,entropy=256,passphrase=\"RobertPaulson\",testnet=True)\n",
    "mywallet2"
   ]
  },
  {
   "cell_type": "code",
   "execution_count": 6,
   "metadata": {},
   "outputs": [
    {
     "data": {
      "text/plain": [
       "600000"
      ]
     },
     "execution_count": 6,
     "metadata": {},
     "output_type": "execute_result"
    }
   ],
   "source": [
    "mywallet2.update_balance()"
   ]
  },
  {
   "cell_type": "code",
   "execution_count": 12,
   "metadata": {},
   "outputs": [
    {
     "name": "stdout",
     "output_type": "stream",
     "text": [
      "get i: None\n",
      "true\n",
      "Path: m/0H/2H/2030716689\n",
      "<Record a=<Path start=<Node id=25 labels={'address'} properties={'address': 'mocc7fvLz4ggT5kVfLSJsiXfFByoXYBCqi', 'type': 'recipient', 'acc_index': 2030716689, 'created': 1586490860048}> end=<Node id=38 labels={'wallet'} properties={'xprv': 'tprv8ZgxMBicQKsPdZiXgX96dFgvdso3ote8qGxbfb6KS961itG11jwLpAFEnhrpaKnqUn8XsjyEyvFEkhwSZfiqwJkhMgPDruDUh7hUTntjSHb'}> size=1>>\n"
     ]
    },
    {
     "data": {
      "text/plain": [
       "Private Key Hex: ef14abc531a457eec55028301f5936e048f7921534828e985fcc8ca267c5d648"
      ]
     },
     "execution_count": 12,
     "metadata": {},
     "output_type": "execute_result"
    }
   ],
   "source": [
    "mywallet2.create_receiving_address()"
   ]
  },
  {
   "cell_type": "code",
   "execution_count": 13,
   "metadata": {},
   "outputs": [
    {
     "name": "stdout",
     "output_type": "stream",
     "text": [
      "get i: None\n",
      "true\n",
      "Path: m/0H/2H/1544325828\n",
      "<Record a=<Path start=<Node id=12 labels={'address'} properties={'address': 'moY84CDzW5EmpKCK5GUg8VpqiKyUW1wbMA', 'type': 'recipient', 'acc_index': 1544325828, 'created': 1586485518978}> end=<Node id=38 labels={'wallet'} properties={'xprv': 'tprv8ZgxMBicQKsPdZiXgX96dFgvdso3ote8qGxbfb6KS961itG11jwLpAFEnhrpaKnqUn8XsjyEyvFEkhwSZfiqwJkhMgPDruDUh7hUTntjSHb'}> size=1>>\n"
     ]
    },
    {
     "data": {
      "text/plain": [
       "Private Key Hex: 3d3a25dcfdccfcbeb0de1f5f144e8b0b8340754502b9a1faeb5bfcb3bf89a1d8"
      ]
     },
     "execution_count": 13,
     "metadata": {},
     "output_type": "execute_result"
    }
   ],
   "source": [
    "mywallet2.create_receiving_address()"
   ]
  },
  {
   "cell_type": "code",
   "execution_count": 5,
   "metadata": {},
   "outputs": [
    {
     "name": "stdout",
     "output_type": "stream",
     "text": [
      "get i: None\n",
      "true\n",
      "Path: m/0H/1H/54556859\n",
      "<Record a=<Path start=<Node id=31 labels={'address'} properties={'address': 'tb1qt3f852j7rudy56pwf3p5s5s8svcedn8lnkadnn', 'type': 'change', 'acc_index': 54556859, 'created': 1586486283642}> end=<Node id=34 labels={'wallet'} properties={'xprv': 'tprv8ZgxMBicQKsPfQJYjuFAso9x6STzmUdMh5U8CQqqQUTgtQHBHCq4C7FseeeZg15L16UeSwbrLwJRTXNPQsJQwqvbBA11sn4M6c3jR1LwAQP'}> size=1>>\n",
      "size of transaction without signatures: 498\n",
      "fee: 14940\n",
      "change 857060\n",
      "total 1072000, diff: 0\n",
      "Address trying to spend from: ms8Lo8ZKUX7hKrU3RW7U2iE6sGkggMUKF2\n",
      "ms8Lo8ZKUX7hKrU3RW7U2iE6sGkggMUKF2\n",
      "\n",
      "ABOUT TO SIGN INPUT\n",
      "\n",
      "SIGNING INPUT not segwit: \n",
      "SCRIPT SIG:\n",
      "3045022100a1f088a3f3f7cf22fbceb356b105cd9d6ffd9614fcaa7bf2cb69f4ab021c462c02205eccf7c6f02d81d101beceda4096484fc751d206dc5699720ddca648927c7c3301 03a8a9d6b82d3ff26e50a730b47e2716eda4b4e553e4c34c42a57d11e1a69c816e \n",
      "script_pubkey of tx IN: OP_DUP OP_HASH160 7f5ab9b6f384dbf297c0bcf74e1ee820bc02d19d OP_EQUALVERIFY OP_CHECKSIG\n",
      "\n",
      "combined script[b'0E\\x02!\\x00\\xa1\\xf0\\x88\\xa3\\xf3\\xf7\\xcf\"\\xfb\\xce\\xb3V\\xb1\\x05\\xcd\\x9do\\xfd\\x96\\x14\\xfc\\xaa{\\xf2\\xcbi\\xf4\\xab\\x02\\x1cF,\\x02 ^\\xcc\\xf7\\xc6\\xf0-\\x81\\xd1\\x01\\xbe\\xce\\xda@\\x96HO\\xc7Q\\xd2\\x06\\xdcV\\x99r\\r\\xdc\\xa6H\\x92||3\\x01', b\"\\x03\\xa8\\xa9\\xd6\\xb8-?\\xf2nP\\xa70\\xb4~'\\x16\\xed\\xa4\\xb4\\xe5S\\xe4\\xc3LB\\xa5}\\x11\\xe1\\xa6\\x9c\\x81n\", 118, 169, b'\\x7fZ\\xb9\\xb6\\xf3\\x84\\xdb\\xf2\\x97\\xc0\\xbc\\xf7N\\x1e\\xe8 \\xbc\\x02\\xd1\\x9d', 136, 172]\n",
      "\n",
      "Address trying to spend from: n4ciCcbpJuJhdvrDF8n4fBQAJgVHDTcdve\n",
      "n4ciCcbpJuJhdvrDF8n4fBQAJgVHDTcdve\n",
      "\n",
      "ABOUT TO SIGN INPUT\n",
      "\n",
      "SIGNING INPUT not segwit: \n",
      "SCRIPT SIG:\n",
      "30450221008683941381dac2da5be75c7d9c65063634af1528ffb9331ed1f73b52861e03820220281072000566a60753ebd5f0af832be73bb3825b44ce58e442a1d3e45ec87edc01 02868ddcd03f6b246db94c0ef80ca349ad68c7176c3eeb8e1587eb3b7928b2e926 \n",
      "script_pubkey of tx IN: OP_DUP OP_HASH160 fd619fb7eba95dcc627d1c77878f7ca6b139b335 OP_EQUALVERIFY OP_CHECKSIG\n",
      "\n",
      "combined script[b'0E\\x02!\\x00\\x86\\x83\\x94\\x13\\x81\\xda\\xc2\\xda[\\xe7\\\\}\\x9ce\\x0664\\xaf\\x15(\\xff\\xb93\\x1e\\xd1\\xf7;R\\x86\\x1e\\x03\\x82\\x02 (\\x10r\\x00\\x05f\\xa6\\x07S\\xeb\\xd5\\xf0\\xaf\\x83+\\xe7;\\xb3\\x82[D\\xceX\\xe4B\\xa1\\xd3\\xe4^\\xc8~\\xdc\\x01', b'\\x02\\x86\\x8d\\xdc\\xd0?k$m\\xb9L\\x0e\\xf8\\x0c\\xa3I\\xadh\\xc7\\x17l>\\xeb\\x8e\\x15\\x87\\xeb;y(\\xb2\\xe9&', 118, 169, b'\\xfda\\x9f\\xb7\\xeb\\xa9]\\xccb}\\x1cw\\x87\\x8f|\\xa6\\xb19\\xb35', 136, 172]\n",
      "\n",
      "Address trying to spend from: mtmT6nNoC3AwKxvU92sC5v66PSVdKXFpd3\n",
      "mtmT6nNoC3AwKxvU92sC5v66PSVdKXFpd3\n",
      "\n",
      "ABOUT TO SIGN INPUT\n",
      "\n",
      "SIGNING INPUT not segwit: \n",
      "SCRIPT SIG:\n",
      "3044022048e71f0a4909822b274e8700f5e582fcd783189abb2963f4932465f6bade1dee02206a7611c5cd8a1eae68a6f7befecd70761f27a38676d69d74cd492e1368da121901 034c44a96e34cb349ee1a177a1458b2e19e42c16c1837f8895a4683995bc7eea4e \n",
      "script_pubkey of tx IN: OP_DUP OP_HASH160 91578121b41c6de4c9ccfd50f7487d3248a0adca OP_EQUALVERIFY OP_CHECKSIG\n",
      "\n",
      "combined script[b\"0D\\x02 H\\xe7\\x1f\\nI\\t\\x82+'N\\x87\\x00\\xf5\\xe5\\x82\\xfc\\xd7\\x83\\x18\\x9a\\xbb)c\\xf4\\x93$e\\xf6\\xba\\xde\\x1d\\xee\\x02 jv\\x11\\xc5\\xcd\\x8a\\x1e\\xaeh\\xa6\\xf7\\xbe\\xfe\\xcdpv\\x1f'\\xa3\\x86v\\xd6\\x9dt\\xcdI.\\x13h\\xda\\x12\\x19\\x01\", b'\\x03LD\\xa9n4\\xcb4\\x9e\\xe1\\xa1w\\xa1E\\x8b.\\x19\\xe4,\\x16\\xc1\\x83\\x7f\\x88\\x95\\xa4h9\\x95\\xbc~\\xeaN', 118, 169, b'\\x91W\\x81!\\xb4\\x1cm\\xe4\\xc9\\xcc\\xfdP\\xf7H}2H\\xa0\\xad\\xca', 136, 172]\n",
      "\n",
      "Address trying to spend from: myr1uCzNKbuLdjS5fAoK1JxsSFNDjPpcx5\n",
      "myr1uCzNKbuLdjS5fAoK1JxsSFNDjPpcx5\n",
      "\n",
      "ABOUT TO SIGN INPUT\n",
      "\n",
      "SIGNING INPUT not segwit: \n",
      "SCRIPT SIG:\n",
      "304402207483537043b9894082a42a79b9c110973e06ee1e29d09b313cd8c1df5cf4b8d502202da1e9a19a0af51859b1d0b107ddfca773e2233af8a05bcd8396d6fc2c213ab701 020070de6ae500dfbe1387d608c68c53576b4d0a8193ab83f8be7f607690c796f7 \n",
      "script_pubkey of tx IN: OP_DUP OP_HASH160 c90d2d7717174bc87c6f6d59d813005a922241f1 OP_EQUALVERIFY OP_CHECKSIG\n",
      "\n",
      "combined script[b'0D\\x02 t\\x83SpC\\xb9\\x89@\\x82\\xa4*y\\xb9\\xc1\\x10\\x97>\\x06\\xee\\x1e)\\xd0\\x9b1<\\xd8\\xc1\\xdf\\\\\\xf4\\xb8\\xd5\\x02 -\\xa1\\xe9\\xa1\\x9a\\n\\xf5\\x18Y\\xb1\\xd0\\xb1\\x07\\xdd\\xfc\\xa7s\\xe2#:\\xf8\\xa0[\\xcd\\x83\\x96\\xd6\\xfc,!:\\xb7\\x01', b'\\x02\\x00p\\xdej\\xe5\\x00\\xdf\\xbe\\x13\\x87\\xd6\\x08\\xc6\\x8cSWkM\\n\\x81\\x93\\xab\\x83\\xf8\\xbe\\x7f`v\\x90\\xc7\\x96\\xf7', 118, 169, b'\\xc9\\r-w\\x17\\x17K\\xc8|omY\\xd8\\x13\\x00Z\\x92\"A\\xf1', 136, 172]\n",
      "\n",
      "781cedb14da14db74ac819fa4ac62abe722ebe8c3458b63335227c626372b6d0\n",
      "None\n",
      "[{'p': <Path start=<Node id=16 labels={'utxo'} properties={'transaction_id': '5b6f47b80a2c73e4e304eb23047db01995cffbd6477b87afbb8f749f0ffd1a23', 'out_index': 0, 'amount': 20000, 'address': 'ms8Lo8ZKUX7hKrU3RW7U2iE6sGkggMUKF2', 'spent': True, 'local_index': 7, 'confirmed': True}> end=<Node id=32 labels={'TxOut'} properties={'outputs': ['200000:OP_DUP OP_HASH160 57f99201a7d0a9bb34444ac801569c63c3b4884c OP_EQUALVERIFY OP_CHECKSIG', '857060:OP_0 5c527a2a5e1f1a4a682e4c43485207833196ccff'], 'id': '781cedb14da14db74ac819fa4ac62abe722ebe8c3458b63335227c626372b6d0', 'confirmations': 0, 'created': 1586486294611, 'inputs': [7, 9, 8, 6]}> size=1>}, {'p': <Path start=<Node id=20 labels={'utxo'} properties={'transaction_id': 'e45d5baafa966c428d3e07cd4b1a7e11b15ea4364b4530e04bbaafd2cb88803b', 'out_index': 1, 'amount': 2000, 'address': 'n4ciCcbpJuJhdvrDF8n4fBQAJgVHDTcdve', 'spent': True, 'local_index': 9, 'confirmed': True}> end=<Node id=32 labels={'TxOut'} properties={'outputs': ['200000:OP_DUP OP_HASH160 57f99201a7d0a9bb34444ac801569c63c3b4884c OP_EQUALVERIFY OP_CHECKSIG', '857060:OP_0 5c527a2a5e1f1a4a682e4c43485207833196ccff'], 'id': '781cedb14da14db74ac819fa4ac62abe722ebe8c3458b63335227c626372b6d0', 'confirmations': 0, 'created': 1586486294611, 'inputs': [7, 9, 8, 6]}> size=1>}, {'p': <Path start=<Node id=18 labels={'utxo'} properties={'transaction_id': '84c8bf727f923d56a5cc311db94afca0b17d9f1b45580e7bb6fef7bf1c48188b', 'out_index': 0, 'amount': 50000, 'address': 'mtmT6nNoC3AwKxvU92sC5v66PSVdKXFpd3', 'spent': True, 'local_index': 8, 'confirmed': True}> end=<Node id=32 labels={'TxOut'} properties={'outputs': ['200000:OP_DUP OP_HASH160 57f99201a7d0a9bb34444ac801569c63c3b4884c OP_EQUALVERIFY OP_CHECKSIG', '857060:OP_0 5c527a2a5e1f1a4a682e4c43485207833196ccff'], 'id': '781cedb14da14db74ac819fa4ac62abe722ebe8c3458b63335227c626372b6d0', 'confirmations': 0, 'created': 1586486294611, 'inputs': [7, 9, 8, 6]}> size=1>}, {'p': <Path start=<Node id=15 labels={'utxo'} properties={'transaction_id': '5af82dce283969f559cac2709a16e1ed560132fc3a5f284a2fd485f2d07647e5', 'out_index': 1, 'amount': 1000000, 'address': 'myr1uCzNKbuLdjS5fAoK1JxsSFNDjPpcx5', 'spent': True, 'local_index': 6, 'confirmed': True}> end=<Node id=32 labels={'TxOut'} properties={'outputs': ['200000:OP_DUP OP_HASH160 57f99201a7d0a9bb34444ac801569c63c3b4884c OP_EQUALVERIFY OP_CHECKSIG', '857060:OP_0 5c527a2a5e1f1a4a682e4c43485207833196ccff'], 'id': '781cedb14da14db74ac819fa4ac62abe722ebe8c3458b63335227c626372b6d0', 'confirmations': 0, 'created': 1586486294611, 'inputs': [7, 9, 8, 6]}> size=1>}]\n"
     ]
    }
   ],
   "source": [
    "my_tx = my_wallet.send([(\"moY84CDzW5EmpKCK5GUg8VpqiKyUW1wbMA\",200000)])"
   ]
  },
  {
   "cell_type": "code",
   "execution_count": 6,
   "metadata": {},
   "outputs": [
    {
     "data": {
      "text/plain": [
       "'01000000000104231afd0f9f748fbbaf877b47d6fbcf9519b07d0423eb04e3e4732c0ab8476f5b000000006b483045022100a1f088a3f3f7cf22fbceb356b105cd9d6ffd9614fcaa7bf2cb69f4ab021c462c02205eccf7c6f02d81d101beceda4096484fc751d206dc5699720ddca648927c7c33012103a8a9d6b82d3ff26e50a730b47e2716eda4b4e553e4c34c42a57d11e1a69c816effffffff3b8088cbd2afba4be030454b36a45eb1117e1a4bcd073e8d426c96faaa5b5de4010000006b4830450221008683941381dac2da5be75c7d9c65063634af1528ffb9331ed1f73b52861e03820220281072000566a60753ebd5f0af832be73bb3825b44ce58e442a1d3e45ec87edc012102868ddcd03f6b246db94c0ef80ca349ad68c7176c3eeb8e1587eb3b7928b2e926ffffffff8b18481cbff7feb67b0e58451b9f7db1a0fc4ab91d31cca5563d927f72bfc884000000006a473044022048e71f0a4909822b274e8700f5e582fcd783189abb2963f4932465f6bade1dee02206a7611c5cd8a1eae68a6f7befecd70761f27a38676d69d74cd492e1368da12190121034c44a96e34cb349ee1a177a1458b2e19e42c16c1837f8895a4683995bc7eea4effffffffe54776d0f285d42f4a285f3afc320156ede1169a70c2ca59f5693928ce2df85a010000006a47304402207483537043b9894082a42a79b9c110973e06ee1e29d09b313cd8c1df5cf4b8d502202da1e9a19a0af51859b1d0b107ddfca773e2233af8a05bcd8396d6fc2c213ab70121020070de6ae500dfbe1387d608c68c53576b4d0a8193ab83f8be7f607690c796f7ffffffff02400d0300000000001976a91457f99201a7d0a9bb34444ac801569c63c3b4884c88ace4130d00000000001600145c527a2a5e1f1a4a682e4c43485207833196ccff0000000000000000'"
      ]
     },
     "execution_count": 6,
     "metadata": {},
     "output_type": "execute_result"
    }
   ],
   "source": [
    "my_tx.transaction.serialize().hex()"
   ]
  },
  {
   "cell_type": "code",
   "execution_count": 5,
   "metadata": {},
   "outputs": [
    {
     "name": "stdout",
     "output_type": "stream",
     "text": [
      "get i: None\n",
      "true\n",
      "Path: m/0H/1H/320043551\n",
      "<Record a=<Path start=<Node id=37 labels={'address'} properties={'address': 'tb1qncg7k3tl77sq5ftedas8vm8dh0fvgde0d9j962', 'type': 'change', 'acc_index': 320043551, 'created': 1586487127667}> end=<Node id=34 labels={'wallet'} properties={'xprv': 'tprv8ZgxMBicQKsPfQJYjuFAso9x6STzmUdMh5U8CQqqQUTgtQHBHCq4C7FseeeZg15L16UeSwbrLwJRTXNPQsJQwqvbBA11sn4M6c3jR1LwAQP'}> size=1>>\n",
      "size of transaction without signatures: 240\n",
      "fee: 7200\n",
      "change 649860\n",
      "total 857060, diff: 0\n",
      "Address trying to spend from: tb1qt3f852j7rudy56pwf3p5s5s8svcedn8lnkadnn\n",
      "tb1qt3f852j7rudy56pwf3p5s5s8svcedn8lnkadnn\n",
      "\n",
      "ABOUT TO SIGN INPUT\n",
      "\n",
      "SIGNING INPUT Segwit: \n",
      "Witness:\n",
      "[b'0E\\x02!\\x00\\xd8\\xb0\\xb6\\xfe\\x922a\\xec\\xfe\\xe6\\x01\\x11\\xa37xtf\\xef\\x8aT\\x9c\\xf9\\xbf\\x12_\\xfc\\x82\\xd0\\xa3\\xb4\\xba\\x9b\\x02 \\x16*\\x95x9\\x86\\xc2\\x8c\\xf2FM\\xe3\\x922\\x8c\\xe3\\xea\\xc7\\xa1i\\xfb\\xda\\xdb\\xd0\\x14\\xfd\\xed\\xb5\\x98`\\x82^\\x01', b'\\x03\\x8b6\\xf5O\\xed\\x01\\xe2\\x13\\xe4:\\x11V\\xca\\x97\\xdf9\\xe8#0@d\\xa61@\\xb0\\xb3\\x0f\\xf0\\x947D\\x17'] \n",
      "script_pubkey of tx IN: OP_0 5c527a2a5e1f1a4a682e4c43485207833196ccff\n",
      "\n",
      "combined script[0, b'\\\\Rz*^\\x1f\\x1aJh.LCHR\\x07\\x831\\x96\\xcc\\xff']\n",
      "\n",
      "300d92fef1910d96dc414156ee73c8e878936fd0a303bf80804543cf5ac3cdee\n",
      "None\n",
      "[{'p': <Path start=<Node id=35 labels={'utxo'} properties={'transaction_id': '781cedb14da14db74ac819fa4ac62abe722ebe8c3458b63335227c626372b6d0', 'out_index': 1, 'amount': 857060, 'address': 'tb1qt3f852j7rudy56pwf3p5s5s8svcedn8lnkadnn', 'spent': True, 'local_index': 11, 'confirmed': True}> end=<Node id=39 labels={'TxOut'} properties={'outputs': ['200000:OP_DUP OP_HASH160 9a902b3d4f491183aa9def94453ccf6e91507a93 OP_EQUALVERIFY OP_CHECKSIG', '649860:OP_0 9e11eb457ff7a00a25796f60766cedbbd2c4372f'], 'id': '300d92fef1910d96dc414156ee73c8e878936fd0a303bf80804543cf5ac3cdee', 'confirmations': 0, 'created': 1586487130459, 'inputs': [11]}> size=1>}]\n"
     ]
    }
   ],
   "source": [
    "my_tx2 = my_wallet.send([(\"mucD4dKRnaCzmFBeFh8GDYdJb4KRhEbyBk\",200000)])"
   ]
  },
  {
   "cell_type": "code",
   "execution_count": 6,
   "metadata": {},
   "outputs": [
    {
     "data": {
      "text/plain": [
       "'01000000000101d0b67263627c223533b658348cbe2e72be2ac64afa19c84ab74da14db1ed1c780100000000ffffffff02400d0300000000001976a9149a902b3d4f491183aa9def94453ccf6e91507a9388ac84ea0900000000001600149e11eb457ff7a00a25796f60766cedbbd2c4372f02483045022100d8b0b6fe923261ecfee60111a337787466ef8a549cf9bf125ffc82d0a3b4ba9b0220162a95783986c28cf2464de392328ce3eac7a169fbdadbd014fdedb59860825e0121038b36f54fed01e213e43a1156ca97df39e823304064a63140b0b30ff09437441700000000'"
      ]
     },
     "execution_count": 6,
     "metadata": {},
     "output_type": "execute_result"
    }
   ],
   "source": [
    "my_tx2.transaction.serialize().hex()"
   ]
  },
  {
   "cell_type": "code",
   "execution_count": 34,
   "metadata": {},
   "outputs": [
    {
     "data": {
      "text/plain": [
       "600000"
      ]
     },
     "execution_count": 34,
     "metadata": {},
     "output_type": "execute_result"
    }
   ],
   "source": [
    "mywallet2.update_balance()"
   ]
  },
  {
   "cell_type": "code",
   "execution_count": 29,
   "metadata": {},
   "outputs": [
    {
     "name": "stdout",
     "output_type": "stream",
     "text": [
      "get i: None\n",
      "true\n",
      "Path: m/0H/1H/1187776120\n",
      "<Record a=<Path start=<Node id=29 labels={'address'} properties={'address': 'tb1qje5fsgd4gp866zak3frdxpyluf05zu3rvkg4j6', 'type': 'change', 'acc_index': 1187776120, 'created': 1586491589477}> end=<Node id=34 labels={'wallet'} properties={'xprv': 'tprv8ZgxMBicQKsPfQJYjuFAso9x6STzmUdMh5U8CQqqQUTgtQHBHCq4C7FseeeZg15L16UeSwbrLwJRTXNPQsJQwqvbBA11sn4M6c3jR1LwAQP'}> size=1>>\n",
      "size of transaction without signatures: 240\n",
      "fee: 5040\n",
      "change 444820\n",
      "total 649860, diff: 0\n",
      "Address trying to spend from: tb1qncg7k3tl77sq5ftedas8vm8dh0fvgde0d9j962\n",
      "tb1qncg7k3tl77sq5ftedas8vm8dh0fvgde0d9j962\n",
      "\n",
      "ABOUT TO SIGN INPUT\n",
      "\n",
      "SIGNING INPUT Segwit: \n",
      "Witness:\n",
      "[b'0E\\x02!\\x00\\x83\\x87\\x89|\\xd8\\xa8\\xb3\\xb5S\\xdf`\\xc6\\nJgf\\x1eq\\n\\xc5Wl\\x9c\\xfaA\\xd8\\x92\\x8a\\xbb\\xf9\\xdah\\x02 ~\\xdd/\\x08\\xef\\x1a\\x82y\\xd2\\x97\"\\x92\\xe0_\\x9dn\\xf5\\x9bN\\xe2a\\xcb:.F\\xd9\\xc4&o/<T\\x01', b'\\x02d\\xc9\\x00\\xf76\\x19\\x84\\xb8\\xedR=\\xd9S:\\x03\\x8b\\xc7\\xb8\\x84\\xd3)\\x8awG\\xf3\\xfc\\xc7\\xe4\\x98[\\x1e\\x95'] \n",
      "script_pubkey of tx IN: OP_0 9e11eb457ff7a00a25796f60766cedbbd2c4372f\n",
      "\n",
      "combined script[0, b'\\x9e\\x11\\xebE\\x7f\\xf7\\xa0\\n%yo`vl\\xed\\xbb\\xd2\\xc47/']\n",
      "\n",
      "73f1aa13e0d8b56c393f540e16fe395f3b7563a7022b9f299ecf7164dc33dc52\n",
      "None\n",
      "{'tx': {'block_height': -1, 'block_index': -1, 'hash': '73f1aa13e0d8b56c393f540e16fe395f3b7563a7022b9f299ecf7164dc33dc52', 'addresses': ['tb1qncg7k3tl77sq5ftedas8vm8dh0fvgde0d9j962', 'mocc7fvLz4ggT5kVfLSJsiXfFByoXYBCqi', 'tb1qje5fsgd4gp866zak3frdxpyluf05zu3rvkg4j6'], 'total': 644820, 'fees': 5040, 'size': 116, 'preference': 'medium', 'relayed_by': '45.32.199.25', 'received': '2020-04-10T04:06:32.550386564Z', 'ver': 1, 'double_spend': False, 'vin_sz': 1, 'vout_sz': 2, 'confirmations': 0, 'inputs': [{'prev_hash': '300d92fef1910d96dc414156ee73c8e878936fd0a303bf80804543cf5ac3cdee', 'output_index': 1, 'output_value': 649860, 'sequence': 4294967295, 'addresses': ['tb1qncg7k3tl77sq5ftedas8vm8dh0fvgde0d9j962'], 'script_type': 'pay-to-witness-pubkey-hash', 'age': 1696941, 'witness': ['30450221008387897cd8a8b3b553df60c60a4a67661e710ac5576c9cfa41d8928abbf9da6802207edd2f08ef1a8279d2972292e05f9d6ef59b4ee261cb3a2e46d9c4266f2f3c5401', '0264c900f7361984b8ed523dd9533a038bc7b884d3298a7747f3fcc7e4985b1e95']}], 'outputs': [{'value': 200000, 'script': '76a91458d2a84f2308ca6eb38c7f28f017b6afe210990588ac', 'addresses': ['mocc7fvLz4ggT5kVfLSJsiXfFByoXYBCqi'], 'script_type': 'pay-to-pubkey-hash'}, {'value': 444820, 'script': '001496689821b5404fad0bb68a46d3049fe25f417223', 'addresses': ['tb1qje5fsgd4gp866zak3frdxpyluf05zu3rvkg4j6'], 'script_type': 'pay-to-witness-pubkey-hash'}]}}\n",
      "[{'p': <Path start=<Node id=26 labels={'utxo'} properties={'transaction_id': '300d92fef1910d96dc414156ee73c8e878936fd0a303bf80804543cf5ac3cdee', 'out_index': 1, 'amount': 649860, 'address': 'tb1qncg7k3tl77sq5ftedas8vm8dh0fvgde0d9j962', 'spent': True, 'local_index': 13, 'confirmed': True}> end=<Node id=41 labels={'TxOut'} properties={'outputs': ['200000:OP_DUP OP_HASH160 58d2a84f2308ca6eb38c7f28f017b6afe2109905 OP_EQUALVERIFY OP_CHECKSIG', '444820:OP_0 96689821b5404fad0bb68a46d3049fe25f417223'], 'id': '73f1aa13e0d8b56c393f540e16fe395f3b7563a7022b9f299ecf7164dc33dc52', 'confirmations': 0, 'created': 1586491592291, 'inputs': [13]}> size=1>}]\n"
     ]
    }
   ],
   "source": [
    "my_tx = my_wallet.send([(\"mocc7fvLz4ggT5kVfLSJsiXfFByoXYBCqi\",200000)])"
   ]
  },
  {
   "cell_type": "code",
   "execution_count": 30,
   "metadata": {},
   "outputs": [],
   "source": [
    "push = {'tx': {'block_height': -1, 'block_index': -1, 'hash': '73f1aa13e0d8b56c393f540e16fe395f3b7563a7022b9f299ecf7164dc33dc52', 'addresses': ['tb1qncg7k3tl77sq5ftedas8vm8dh0fvgde0d9j962', 'mocc7fvLz4ggT5kVfLSJsiXfFByoXYBCqi', 'tb1qje5fsgd4gp866zak3frdxpyluf05zu3rvkg4j6'], 'total': 644820, 'fees': 5040, 'size': 116, 'preference': 'medium', 'relayed_by': '45.32.199.25', 'received': '2020-04-10T04:06:32.550386564Z', 'ver': 1, 'double_spend': False, 'vin_sz': 1, 'vout_sz': 2, 'confirmations': 0, 'inputs': [{'prev_hash': '300d92fef1910d96dc414156ee73c8e878936fd0a303bf80804543cf5ac3cdee', 'output_index': 1, 'output_value': 649860, 'sequence': 4294967295, 'addresses': ['tb1qncg7k3tl77sq5ftedas8vm8dh0fvgde0d9j962'], 'script_type': 'pay-to-witness-pubkey-hash', 'age': 1696941, 'witness': ['30450221008387897cd8a8b3b553df60c60a4a67661e710ac5576c9cfa41d8928abbf9da6802207edd2f08ef1a8279d2972292e05f9d6ef59b4ee261cb3a2e46d9c4266f2f3c5401', '0264c900f7361984b8ed523dd9533a038bc7b884d3298a7747f3fcc7e4985b1e95']}], 'outputs': [{'value': 200000, 'script': '76a91458d2a84f2308ca6eb38c7f28f017b6afe210990588ac', 'addresses': ['mocc7fvLz4ggT5kVfLSJsiXfFByoXYBCqi'], 'script_type': 'pay-to-pubkey-hash'}, {'value': 444820, 'script': '001496689821b5404fad0bb68a46d3049fe25f417223', 'addresses': ['tb1qje5fsgd4gp866zak3frdxpyluf05zu3rvkg4j6'], 'script_type': 'pay-to-witness-pubkey-hash'}]}}"
   ]
  },
  {
   "cell_type": "code",
   "execution_count": 31,
   "metadata": {},
   "outputs": [
    {
     "data": {
      "text/plain": [
       "{'tx': {'block_height': -1,\n",
       "  'block_index': -1,\n",
       "  'hash': '73f1aa13e0d8b56c393f540e16fe395f3b7563a7022b9f299ecf7164dc33dc52',\n",
       "  'addresses': ['tb1qncg7k3tl77sq5ftedas8vm8dh0fvgde0d9j962',\n",
       "   'mocc7fvLz4ggT5kVfLSJsiXfFByoXYBCqi',\n",
       "   'tb1qje5fsgd4gp866zak3frdxpyluf05zu3rvkg4j6'],\n",
       "  'total': 644820,\n",
       "  'fees': 5040,\n",
       "  'size': 116,\n",
       "  'preference': 'medium',\n",
       "  'relayed_by': '45.32.199.25',\n",
       "  'received': '2020-04-10T04:06:32.550386564Z',\n",
       "  'ver': 1,\n",
       "  'double_spend': False,\n",
       "  'vin_sz': 1,\n",
       "  'vout_sz': 2,\n",
       "  'confirmations': 0,\n",
       "  'inputs': [{'prev_hash': '300d92fef1910d96dc414156ee73c8e878936fd0a303bf80804543cf5ac3cdee',\n",
       "    'output_index': 1,\n",
       "    'output_value': 649860,\n",
       "    'sequence': 4294967295,\n",
       "    'addresses': ['tb1qncg7k3tl77sq5ftedas8vm8dh0fvgde0d9j962'],\n",
       "    'script_type': 'pay-to-witness-pubkey-hash',\n",
       "    'age': 1696941,\n",
       "    'witness': ['30450221008387897cd8a8b3b553df60c60a4a67661e710ac5576c9cfa41d8928abbf9da6802207edd2f08ef1a8279d2972292e05f9d6ef59b4ee261cb3a2e46d9c4266f2f3c5401',\n",
       "     '0264c900f7361984b8ed523dd9533a038bc7b884d3298a7747f3fcc7e4985b1e95']}],\n",
       "  'outputs': [{'value': 200000,\n",
       "    'script': '76a91458d2a84f2308ca6eb38c7f28f017b6afe210990588ac',\n",
       "    'addresses': ['mocc7fvLz4ggT5kVfLSJsiXfFByoXYBCqi'],\n",
       "    'script_type': 'pay-to-pubkey-hash'},\n",
       "   {'value': 444820,\n",
       "    'script': '001496689821b5404fad0bb68a46d3049fe25f417223',\n",
       "    'addresses': ['tb1qje5fsgd4gp866zak3frdxpyluf05zu3rvkg4j6'],\n",
       "    'script_type': 'pay-to-witness-pubkey-hash'}]}}"
      ]
     },
     "execution_count": 31,
     "metadata": {},
     "output_type": "execute_result"
    }
   ],
   "source": [
    "push"
   ]
  },
  {
   "cell_type": "code",
   "execution_count": 40,
   "metadata": {},
   "outputs": [],
   "source": [
    "my_wallet.close_db()"
   ]
  },
  {
   "cell_type": "code",
   "execution_count": 8,
   "metadata": {},
   "outputs": [],
   "source": [
    "import schedule \n",
    "import time "
   ]
  },
  {
   "cell_type": "code",
   "execution_count": null,
   "metadata": {},
   "outputs": [],
   "source": []
  }
 ],
 "metadata": {
  "kernelspec": {
   "display_name": "Python 3",
   "language": "python",
   "name": "python3"
  },
  "language_info": {
   "codemirror_mode": {
    "name": "ipython",
    "version": 3
   },
   "file_extension": ".py",
   "mimetype": "text/x-python",
   "name": "python",
   "nbconvert_exporter": "python",
   "pygments_lexer": "ipython3",
   "version": "3.7.4"
  }
 },
 "nbformat": 4,
 "nbformat_minor": 4
}
