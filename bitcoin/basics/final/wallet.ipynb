{
 "cells": [
  {
   "cell_type": "code",
   "execution_count": 1,
   "metadata": {},
   "outputs": [],
   "source": [
    "from wallet import Wallet"
   ]
  },
  {
   "cell_type": "code",
   "execution_count": 2,
   "metadata": {},
   "outputs": [
    {
     "name": "stdout",
     "output_type": "stream",
     "text": [
      "8418572761394767459444418608530371567217744336876557229650655736270882421023962287566834689847418048023007033142570964655978481626857402470209587761075589\n"
     ]
    },
    {
     "data": {
      "text/plain": [
       "tprv8ZgxMBicQKsPfQJYjuFAso9x6STzmUdMh5U8CQqqQUTgtQHBHCq4C7FseeeZg15L16UeSwbrLwJRTXNPQsJQwqvbBA11sn4M6c3jR1LwAQP"
      ]
     },
     "execution_count": 2,
     "metadata": {},
     "output_type": "execute_result"
    }
   ],
   "source": [
    "words = \"engine over neglect science fatigue dawn axis parent mind man escape era goose border invest slab relax bind desert hurry useless lonely frozen morning\"\n",
    "my_wallet = Wallet.recover_from_words(words, 256, \"RobertPauslon\",True)\n",
    "my_wallet"
   ]
  },
  {
   "cell_type": "code",
   "execution_count": 3,
   "metadata": {},
   "outputs": [
    {
     "name": "stdout",
     "output_type": "stream",
     "text": [
      "connection with database made.\n"
     ]
    },
    {
     "data": {
      "text/plain": [
       "True"
      ]
     },
     "execution_count": 3,
     "metadata": {},
     "output_type": "execute_result"
    }
   ],
   "source": [
    "my_wallet.start_conn()"
   ]
  },
  {
   "cell_type": "code",
   "execution_count": 11,
   "metadata": {},
   "outputs": [
    {
     "data": {
      "text/plain": [
       "[('mtisLv9ha6yFM9S1TExprJgncVMrtFP9V2',\n",
       "  1000000,\n",
       "  'ce8989c24a699924ecf8281b0b88f1f04de9a98ada0d24fd24f053a2ece21b5e',\n",
       "  1,\n",
       "  1591923311,\n",
       "  1,\n",
       "  0),\n",
       " ('tb1qs6z6lc44jhgksaw5ssfgzg6d22tfux5tcua6ag',\n",
       "  22000,\n",
       "  '71ae64055a84d489aa9f92bb53ad1d76dd846cbafc614a16893c1adf5023c6eb',\n",
       "  1,\n",
       "  1591923311,\n",
       "  0,\n",
       "  0),\n",
       " ('2NFmfYxGvJUamqKT9xWt4tZEg3hmERqAd42',\n",
       "  500000,\n",
       "  'fb879418a9f754cc4d050c37fcb2af4e0b8e65a7abc7213828f0d507cd1c24e2',\n",
       "  1,\n",
       "  1591925688,\n",
       "  1,\n",
       "  1),\n",
       " ('tb1qckdu2t8ttl82gul3h2agtzsvc0lcf0j5v8w55v',\n",
       "  994086,\n",
       "  '00508e440dc876e769e0dd3e2f61f8e7d33ce90a2e8f023c9aa9f0b8e48c4888',\n",
       "  1,\n",
       "  1591956947,\n",
       "  0,\n",
       "  1)]"
      ]
     },
     "execution_count": 11,
     "metadata": {},
     "output_type": "execute_result"
    }
   ],
   "source": [
    "#my_wallet.db.conn.cursor().execute(f\"DELETE FROM Addresses WHERE wallet = '{my_wallet.xtended_key}'\")\n",
    "#my_wallet.db.conn.commit()\n",
    "x = my_wallet.db.conn.cursor().execute(\"SELECT * FROM Utxos\")\n",
    "x.fetchall()\n",
    "#tb1q0ewvhwq73le4v26tuqja8gxs6dh5pefc927jtg"
   ]
  },
  {
   "cell_type": "code",
   "execution_count": 9,
   "metadata": {},
   "outputs": [
    {
     "name": "stdout",
     "output_type": "stream",
     "text": [
      "<wallet_database_sqlite3.Sqlite3Wallet object at 0x7fdc31828d30> OK.\n",
      "Deposit address's Path: m/44H/0H/0H/0\n",
      "INSERT INTO Addresses (address, path, acc_index, change_addr, created, type, wallet)\n",
      " VALUES(\"tb1q0ewvhwq73le4v26tuqja8gxs6dh5pefc927jtg\", \"m/44H/0H/0H/\", 0, 0, 1592005855, 4, \"tprv8ZgxMBicQKsPfQJYjuFAso9x6STzmUdMh5U8CQqqQUTgtQHBHCq4C7FseeeZg15L16UeSwbrLwJRTXNPQsJQwqvbBA11sn4M6c3jR1LwAQP\") ;\n"
     ]
    }
   ],
   "source": [
    "p2wpkh_0 = my_wallet.create_receiving_address(addr_type = \"P2WPKH\")"
   ]
  },
  {
   "cell_type": "code",
   "execution_count": 12,
   "metadata": {},
   "outputs": [
    {
     "data": {
      "text/plain": [
       "[('tb1qnsdffcc6kwg9s5kn8mwnlr6pmuy0pdpqyury7j', 1, 'm/44H/0H/1H/', 0)]"
      ]
     },
     "execution_count": 12,
     "metadata": {},
     "output_type": "execute_result"
    }
   ],
   "source": [
    "unused_addresses = my_wallet.get_unused_addresses_list(change_addresses=True)\n",
    "unused_addresses"
   ]
  },
  {
   "cell_type": "code",
   "execution_count": 10,
   "metadata": {},
   "outputs": [],
   "source": [
    "change = my_wallet.get_a_change_address()"
   ]
  },
  {
   "cell_type": "code",
   "execution_count": 11,
   "metadata": {},
   "outputs": [
    {
     "data": {
      "text/plain": [
       "'tb1qnsdffcc6kwg9s5kn8mwnlr6pmuy0pdpqyury7j'"
      ]
     },
     "execution_count": 11,
     "metadata": {},
     "output_type": "execute_result"
    }
   ],
   "source": [
    "change.address"
   ]
  },
  {
   "cell_type": "code",
   "execution_count": 16,
   "metadata": {},
   "outputs": [
    {
     "name": "stdout",
     "output_type": "stream",
     "text": [
      "consulting blockchain for address ('tb1q0ewvhwq73le4v26tuqja8gxs6dh5pefc927jtg',)\n",
      "res for ('tb1q0ewvhwq73le4v26tuqja8gxs6dh5pefc927jtg',):\n",
      "{'address': 'tb1q0ewvhwq73le4v26tuqja8gxs6dh5pefc927jtg', 'total_received': 0, 'total_sent': 0, 'balance': 0, 'unconfirmed_balance': 100000, 'final_balance': 100000, 'n_tx': 0, 'unconfirmed_n_tx': 1, 'final_n_tx': 1, 'unconfirmed_txrefs': [{'address': 'tb1q0ewvhwq73le4v26tuqja8gxs6dh5pefc927jtg', 'tx_hash': '5324623d891ff225b41570d09320770c30d9291a0193cda09504a115fb661d1c', 'tx_input_n': -1, 'tx_output_n': 0, 'value': 100000, 'spent': False, 'received': datetime.datetime(2020, 6, 13, 0, 0, 8, 535000, tzinfo=tzutc()), 'confirmations': 0, 'double_spend': False, 'preference': 'low'}], 'tx_url': 'https://api.blockcypher.com/v1/btc/test3/txs/', 'txrefs': []}\n",
      "got unconfirmed transactions.\n",
      "new unconfirmed UTXO\n",
      "SELECT Utxos.tx_id, Utxos.out_index, Utxos.amount, Addresses.path, Addresses.acc_index, Addresses.address,\n",
      " Addresses.type \n",
      "FROM Utxos INNER JOIN Addresses \n",
      "ON Utxos.address = Addresses.address\n",
      "WHERE Utxos.spent = 0 AND Addresses.wallet = 'tprv8ZgxMBicQKsPfQJYjuFAso9x6STzmUdMh5U8CQqqQUTgtQHBHCq4C7FseeeZg15L16UeSwbrLwJRTXNPQsJQwqvbBA11sn4M6c3jR1LwAQP';\n",
      "[('5324623d891ff225b41570d09320770c30d9291a0193cda09504a115fb661d1c', 0, 100000, 'm/44H/0H/0H/', 0, 'tb1q0ewvhwq73le4v26tuqja8gxs6dh5pefc927jtg', 4)]\n",
      "('5324623d891ff225b41570d09320770c30d9291a0193cda09504a115fb661d1c', 0, 100000, 'm/44H/0H/0H/', 0, 'tb1q0ewvhwq73le4v26tuqja8gxs6dh5pefc927jtg', 4)\n"
     ]
    },
    {
     "data": {
      "text/plain": [
       "100000"
      ]
     },
     "execution_count": 16,
     "metadata": {},
     "output_type": "execute_result"
    }
   ],
   "source": [
    "my_wallet.update_balance()"
   ]
  },
  {
   "cell_type": "code",
   "execution_count": 17,
   "metadata": {},
   "outputs": [
    {
     "name": "stdout",
     "output_type": "stream",
     "text": [
      "SELECT Utxos.tx_id, Utxos.out_index, Utxos.amount, Addresses.path, Addresses.acc_index, Addresses.address,\n",
      " Addresses.type \n",
      "FROM Utxos INNER JOIN Addresses \n",
      "ON Utxos.address = Addresses.address\n",
      "WHERE Utxos.spent = 0 AND Addresses.wallet = 'tprv8ZgxMBicQKsPfQJYjuFAso9x6STzmUdMh5U8CQqqQUTgtQHBHCq4C7FseeeZg15L16UeSwbrLwJRTXNPQsJQwqvbBA11sn4M6c3jR1LwAQP';\n",
      "[('5324623d891ff225b41570d09320770c30d9291a0193cda09504a115fb661d1c', 0, 100000, 'm/44H/0H/0H/', 0, 'tb1q0ewvhwq73le4v26tuqja8gxs6dh5pefc927jtg', 4)]\n",
      "('5324623d891ff225b41570d09320770c30d9291a0193cda09504a115fb661d1c', 0, 100000, 'm/44H/0H/0H/', 0, 'tb1q0ewvhwq73le4v26tuqja8gxs6dh5pefc927jtg', 4)\n"
     ]
    },
    {
     "data": {
      "text/plain": [
       "100000"
      ]
     },
     "execution_count": 17,
     "metadata": {},
     "output_type": "execute_result"
    }
   ],
   "source": [
    "my_wallet.get_balance()"
   ]
  },
  {
   "cell_type": "code",
   "execution_count": 21,
   "metadata": {},
   "outputs": [
    {
     "data": {
      "text/plain": [
       "'tb1q90lk8nksw3qnr6wl4vq4j8vw7dq4g7mmeezmhf'"
      ]
     },
     "execution_count": 21,
     "metadata": {},
     "output_type": "execute_result"
    }
   ],
   "source": [
    "to = \"b'tb1q90lk8nksw3qnr6wl4vq4j8vw7dq4g7mmeezmhf'\"\n",
    "address = to\n",
    "address = address.replace(\"\\n\",\"\")\n",
    "address = address.strip(\" \")\n",
    "address = address.strip(\"'\")\n",
    "starts = address.rfind(\"'\")\n",
    "address = address[starts+1:] \n",
    "to = address\n",
    "to"
   ]
  },
  {
   "cell_type": "code",
   "execution_count": 22,
   "metadata": {},
   "outputs": [
    {
     "name": "stdout",
     "output_type": "stream",
     "text": [
      "From wallet.send(): [('tb1q90lk8nksw3qnr6wl4vq4j8vw7dq4g7mmeezmhf', 7000)]\n",
      "SELECT Utxos.tx_id, Utxos.out_index, Utxos.amount, Addresses.path, Addresses.acc_index, Addresses.address,\n",
      " Addresses.type \n",
      "FROM Utxos INNER JOIN Addresses \n",
      "ON Utxos.address = Addresses.address\n",
      "WHERE Utxos.spent = 0 AND Addresses.wallet = 'tprv8ZgxMBicQKsPfQJYjuFAso9x6STzmUdMh5U8CQqqQUTgtQHBHCq4C7FseeeZg15L16UeSwbrLwJRTXNPQsJQwqvbBA11sn4M6c3jR1LwAQP';\n",
      "[('5324623d891ff225b41570d09320770c30d9291a0193cda09504a115fb661d1c', 0, 100000, 'm/44H/0H/0H/', 0, 'tb1q0ewvhwq73le4v26tuqja8gxs6dh5pefc927jtg', 4)]\n",
      "('5324623d891ff225b41570d09320770c30d9291a0193cda09504a115fb661d1c', 0, 100000, 'm/44H/0H/0H/', 0, 'tb1q0ewvhwq73le4v26tuqja8gxs6dh5pefc927jtg', 4)\n",
      "SELECT Utxos.tx_id, Utxos.out_index, Utxos.amount, Addresses.path, Addresses.acc_index, Addresses.address,\n",
      " Addresses.type \n",
      "FROM Utxos INNER JOIN Addresses \n",
      "ON Utxos.address = Addresses.address\n",
      "WHERE Utxos.spent = 0 AND Addresses.wallet = 'tprv8ZgxMBicQKsPfQJYjuFAso9x6STzmUdMh5U8CQqqQUTgtQHBHCq4C7FseeeZg15L16UeSwbrLwJRTXNPQsJQwqvbBA11sn4M6c3jR1LwAQP';\n",
      "<wallet_database_sqlite3.Sqlite3Wallet object at 0x7fdc31828d30> OK.\n",
      "Change address's Path: m/44H/0H/1H/0\n",
      "INSERT INTO Addresses (address, path, acc_index, change_addr, created, type, wallet)\n",
      " VALUES(\"tb1qnsdffcc6kwg9s5kn8mwnlr6pmuy0pdpqyury7j\", \"m/44H/0H/1H/\", 0, 1, 1592006827, 4, \"tprv8ZgxMBicQKsPfQJYjuFAso9x6STzmUdMh5U8CQqqQUTgtQHBHCq4C7FseeeZg15L16UeSwbrLwJRTXNPQsJQwqvbBA11sn4M6c3jR1LwAQP\") ;\n",
      "utxo_list: [('5324623d891ff225b41570d09320770c30d9291a0193cda09504a115fb661d1c', 0, 100000, 'm/44H/0H/0H/', 0, 'tb1q0ewvhwq73le4v26tuqja8gxs6dh5pefc927jtg', 4)]\n",
      "size of transaction without signatures: 234\n",
      "fee: 4914\n",
      "change 88086\n",
      "total 100000, diff: 0\n",
      "Address trying to spend from: tb1q0ewvhwq73le4v26tuqja8gxs6dh5pefc927jtg, path m/44H/0H/0H/0\n",
      "tb1q0ewvhwq73le4v26tuqja8gxs6dh5pefc927jtg\n",
      "\n",
      "ABOUT TO SIGN INPUT\n",
      "\n",
      "SIGNING INPUT Segwit: \n",
      "Witness:\n",
      "[b'0D\\x02 t\\xc9\\xb6\\x80\\xb9\\xfaz\\xe4E\\xab\\xb4\\x8a+\\xd0\\xae9\\x94\\x9f\\xfa&\\xa3=\\x9b|\\xae\\xf9Hi\\xe2\\xd6\\x9c\\xe0\\x02 :I\\xf6Y\\xe7B)\\xa1\\xa6TF\\x99]\\n@\\xaa\\x1e\\x08\\x96\\xe25\\x7fgC\\x99TN\\xef\\x12\\xe7\\x8b\\x9a\\x01', b'\\x02Z;\\xc1\\xa21Tw\\x02\\x10\\x9f\\xbd\\xce\\xa0[\\xc8\\x0e\\x14D\\x85\\x17\\x9fS\\x97\\x85\\xd1\\x18W\\x96d\\x80\\xc0A'] \n",
      "script_pubkey of tx IN: OP_0 7e5ccbb81e8ff3562b4be025d3a0d0d36f40e538\n",
      "\n",
      "combined script[0, b'~\\\\\\xcb\\xb8\\x1e\\x8f\\xf3V+K\\xe0%\\xd3\\xa0\\xd0\\xd3o@\\xe58']\n",
      "\n",
      "TRANSACTION ID: de14fbd1f89df79e4de29df6890af3db9d7c4511173e4f9e70f100d6cb17655a\n",
      "unrecognized token: \"5324623d891ff225b41570d09320770c30d9291a0193cda09504a115fb661d1c\"\n"
     ]
    },
    {
     "ename": "AttributeError",
     "evalue": "'Sqlite3Wallet' object has no attribute 'update_utxo'",
     "output_type": "error",
     "traceback": [
      "\u001b[0;31m---------------------------------------------------------------------------\u001b[0m",
      "\u001b[0;31mAttributeError\u001b[0m                            Traceback (most recent call last)",
      "\u001b[0;32m<ipython-input-22-2a3c8788f7ee>\u001b[0m in \u001b[0;36m<module>\u001b[0;34m\u001b[0m\n\u001b[0;32m----> 1\u001b[0;31m \u001b[0mmy_wallet\u001b[0m\u001b[0;34m.\u001b[0m\u001b[0msend\u001b[0m\u001b[0;34m(\u001b[0m\u001b[0;34m[\u001b[0m\u001b[0;34m(\u001b[0m\u001b[0mto\u001b[0m\u001b[0;34m,\u001b[0m\u001b[0;36m7000\u001b[0m\u001b[0;34m)\u001b[0m\u001b[0;34m]\u001b[0m\u001b[0;34m)\u001b[0m\u001b[0;34m\u001b[0m\u001b[0;34m\u001b[0m\u001b[0m\n\u001b[0m",
      "\u001b[0;32m~/Documents/US/Rice U/blockchain/bitcoin/basics/final/wallet.py\u001b[0m in \u001b[0;36msend\u001b[0;34m(self, to_address_amount_list, segwit)\u001b[0m\n\u001b[1;32m    242\u001b[0m                       )\n\u001b[1;32m    243\u001b[0m \u001b[0;34m\u001b[0m\u001b[0m\n\u001b[0;32m--> 244\u001b[0;31m         \u001b[0mself\u001b[0m\u001b[0;34m.\u001b[0m\u001b[0mdb\u001b[0m\u001b[0;34m.\u001b[0m\u001b[0mupdate_utxo\u001b[0m\u001b[0;34m(\u001b[0m\u001b[0mtx\u001b[0m\u001b[0;34m.\u001b[0m\u001b[0mtransaction\u001b[0m\u001b[0;34m.\u001b[0m\u001b[0mid\u001b[0m\u001b[0;34m(\u001b[0m\u001b[0;34m)\u001b[0m\u001b[0;34m)\u001b[0m\u001b[0;34m\u001b[0m\u001b[0;34m\u001b[0m\u001b[0m\n\u001b[0m\u001b[1;32m    245\u001b[0m \u001b[0;34m\u001b[0m\u001b[0m\n\u001b[1;32m    246\u001b[0m         \u001b[0;32mreturn\u001b[0m \u001b[0mtx\u001b[0m\u001b[0;34m,\u001b[0m\u001b[0mpush\u001b[0m\u001b[0;34m\u001b[0m\u001b[0;34m\u001b[0m\u001b[0m\n",
      "\u001b[0;31mAttributeError\u001b[0m: 'Sqlite3Wallet' object has no attribute 'update_utxo'"
     ]
    }
   ],
   "source": [
    "my_wallet.send([(to,7000)])"
   ]
  },
  {
   "cell_type": "code",
   "execution_count": 24,
   "metadata": {},
   "outputs": [],
   "source": [
    "my_wallet.db.conn.cursor().execute(f\"UPDATE Utxos SET spent = 1 WHERE tx_id = '71ae64055a84d489aa9f92bb53ad1d76dd846cbafc614a16893c1adf5023c6eb' AND out_index = 1\")\n",
    "my_wallet.db.conn.commit()"
   ]
  },
  {
   "cell_type": "code",
   "execution_count": 69,
   "metadata": {},
   "outputs": [],
   "source": []
  },
  {
   "cell_type": "code",
   "execution_count": 69,
   "metadata": {},
   "outputs": [],
   "source": []
  },
  {
   "cell_type": "code",
   "execution_count": 69,
   "metadata": {},
   "outputs": [
    {
     "name": "stdout",
     "output_type": "stream",
     "text": [
      "6018716354834777059445516500463325153454936853151215624488541646839939367247233986759821493097378851875115552924255831805062990606698886137563075847103799\n"
     ]
    },
    {
     "data": {
      "text/plain": [
       "tprv8ZgxMBicQKsPdZiXgX96dFgvdso3ote8qGxbfb6KS961itG11jwLpAFEnhrpaKnqUn8XsjyEyvFEkhwSZfiqwJkhMgPDruDUh7hUTntjSHb"
      ]
     },
     "execution_count": 69,
     "metadata": {},
     "output_type": "execute_result"
    }
   ],
   "source": [
    "words = \"client sudden sunset borrow pupil rely sand girl prefer movie bachelor guilt giraffe glove much strong dizzy switch ill silent goddess crumble goat power\"\n",
    "mywallet2 = Wallet.recover_from_words(words,entropy=256,passphrase=\"RobertPaulson\",testnet=True)\n",
    "mywallet2"
   ]
  },
  {
   "cell_type": "code",
   "execution_count": 60,
   "metadata": {},
   "outputs": [
    {
     "name": "stdout",
     "output_type": "stream",
     "text": [
      "new confirmed UTXO\n",
      "<Record p=<Path start=<Node id=59 labels={'utxo'} properties={'transaction_id': '95339633e30b20336b586b1b569f5241b5cfd22a15c6636b20c184d91849d92d', 'out_index': 0, 'amount': 999, 'address': 'mocc7fvLz4ggT5kVfLSJsiXfFByoXYBCqi', 'spent': False, 'local_index': 18, 'confirmed': True}> end=<Node id=25 labels={'address'} properties={'address': 'mocc7fvLz4ggT5kVfLSJsiXfFByoXYBCqi', 'type': 'recipient', 'acc_index': 2030716689, 'created': 1586490860048}> size=1>>\n",
      "new confirmed UTXO\n",
      "<Record p=<Path start=<Node id=60 labels={'utxo'} properties={'transaction_id': 'f48f3e0517ea0adcb1344f807e7ea17c1a46f907e160ca0e49dfeeb102b3ee58', 'out_index': 0, 'amount': 1700, 'address': 'mocc7fvLz4ggT5kVfLSJsiXfFByoXYBCqi', 'spent': False, 'local_index': 19, 'confirmed': True}> end=<Node id=25 labels={'address'} properties={'address': 'mocc7fvLz4ggT5kVfLSJsiXfFByoXYBCqi', 'type': 'recipient', 'acc_index': 2030716689, 'created': 1586490860048}> size=1>>\n"
     ]
    },
    {
     "data": {
      "text/plain": [
       "602699"
      ]
     },
     "execution_count": 60,
     "metadata": {},
     "output_type": "execute_result"
    }
   ],
   "source": [
    "mywallet2.update_balance()"
   ]
  },
  {
   "cell_type": "code",
   "execution_count": 12,
   "metadata": {},
   "outputs": [
    {
     "name": "stdout",
     "output_type": "stream",
     "text": [
      "get i: None\n",
      "true\n",
      "Path: m/0H/2H/2030716689\n",
      "<Record a=<Path start=<Node id=25 labels={'address'} properties={'address': 'mocc7fvLz4ggT5kVfLSJsiXfFByoXYBCqi', 'type': 'recipient', 'acc_index': 2030716689, 'created': 1586490860048}> end=<Node id=38 labels={'wallet'} properties={'xprv': 'tprv8ZgxMBicQKsPdZiXgX96dFgvdso3ote8qGxbfb6KS961itG11jwLpAFEnhrpaKnqUn8XsjyEyvFEkhwSZfiqwJkhMgPDruDUh7hUTntjSHb'}> size=1>>\n"
     ]
    },
    {
     "data": {
      "text/plain": [
       "Private Key Hex: ef14abc531a457eec55028301f5936e048f7921534828e985fcc8ca267c5d648"
      ]
     },
     "execution_count": 12,
     "metadata": {},
     "output_type": "execute_result"
    }
   ],
   "source": [
    "mywallet2.create_receiving_address()"
   ]
  },
  {
   "cell_type": "code",
   "execution_count": 13,
   "metadata": {},
   "outputs": [
    {
     "name": "stdout",
     "output_type": "stream",
     "text": [
      "get i: None\n",
      "true\n",
      "Path: m/0H/2H/1544325828\n",
      "<Record a=<Path start=<Node id=12 labels={'address'} properties={'address': 'moY84CDzW5EmpKCK5GUg8VpqiKyUW1wbMA', 'type': 'recipient', 'acc_index': 1544325828, 'created': 1586485518978}> end=<Node id=38 labels={'wallet'} properties={'xprv': 'tprv8ZgxMBicQKsPdZiXgX96dFgvdso3ote8qGxbfb6KS961itG11jwLpAFEnhrpaKnqUn8XsjyEyvFEkhwSZfiqwJkhMgPDruDUh7hUTntjSHb'}> size=1>>\n"
     ]
    },
    {
     "data": {
      "text/plain": [
       "Private Key Hex: 3d3a25dcfdccfcbeb0de1f5f144e8b0b8340754502b9a1faeb5bfcb3bf89a1d8"
      ]
     },
     "execution_count": 13,
     "metadata": {},
     "output_type": "execute_result"
    }
   ],
   "source": [
    "mywallet2.create_receiving_address()"
   ]
  },
  {
   "cell_type": "code",
   "execution_count": 65,
   "metadata": {},
   "outputs": [
    {
     "name": "stdout",
     "output_type": "stream",
     "text": [
      "get i: None\n",
      "true\n",
      "Path: m/0H/1H/1755340894\n",
      "<Record a=<Path start=<Node id=84 labels={'address'} properties={'address': 'tb1q2ufg6h5tax0tq7ehy6l9zwyyahy70yjj5fysq6', 'type': 'change', 'acc_index': 1755340894, 'created': 1590821620004}> end=<Node id=34 labels={'wallet'} properties={'xprv': 'tprv8ZgxMBicQKsPfQJYjuFAso9x6STzmUdMh5U8CQqqQUTgtQHBHCq4C7FseeeZg15L16UeSwbrLwJRTXNPQsJQwqvbBA11sn4M6c3jR1LwAQP'}> size=1>>\n",
      "size of transaction without signatures: 240\n",
      "fee: 5040\n",
      "change 353401\n",
      "total 558441, diff: 0\n",
      "Address trying to spend from: tb1qpsp2zhty5m2s96rmcd45yhrn5cujddg7up93kw\n",
      "tb1qpsp2zhty5m2s96rmcd45yhrn5cujddg7up93kw\n",
      "\n",
      "ABOUT TO SIGN INPUT\n",
      "\n",
      "SIGNING INPUT Segwit: \n",
      "Witness:\n",
      "[b'0E\\x02!\\x00\\xa3\\xa8J4\\x18\\xbb;\\xe2\\xd3\\xdd\\xbc!\\x83\\x99\\x14d\\xad+\\xac\\x92I\\xe3_\\xce&\\xd9\\xdf3\\xf3!}.\\x02 d\\x9e\\xa9o\\x03\\x04\\xa6\\x04M\\xb8\\x93?c\\xb9\\xc9\\xd8x\\x1f\\xca\\x98\\x07\\x8a\\xa6\\x17\\x0b\\x19\"\\xd8\\x8f\\x92ee\\x01', b'\\x03\\x89\\x85Y\\xa2h\\xf85\\xb2n@\\xac\\x87@iX\\x9b\\xfb\\x138F\\xb6\\x0e\\x82\\x0e\\x9a2\\xf3\\x06\\xfe\\x0e\\xb3 '] \n",
      "script_pubkey of tx IN: OP_0 0c02a15d64a6d502e87bc36b425c73a63926b51e\n",
      "\n",
      "combined script[0, b'\\x0c\\x02\\xa1]d\\xa6\\xd5\\x02\\xe8{\\xc3kB\\\\s\\xa69&\\xb5\\x1e']\n",
      "\n",
      "TRANSACTION ID: 85d87f477f9fee09f053b54144a31cfbf90889eaa4f036791c4e41e6dfe77b96\n",
      "None\n",
      "[{'p': <Path start=<Node id=55 labels={'utxo'} properties={'transaction_id': '95339633e30b20336b586b1b569f5241b5cfd22a15c6636b20c184d91849d92d', 'out_index': 1, 'amount': 558441, 'address': 'tb1qpsp2zhty5m2s96rmcd45yhrn5cujddg7up93kw', 'spent': True, 'local_index': 16, 'confirmed': True}> end=<Node id=87 labels={'TxOut'} properties={'outputs': ['200000:OP_DUP OP_HASH160 97edeab9f764e7e9130c0cd90c644468805bbd21 OP_EQUALVERIFY OP_CHECKSIG', '353401:OP_0 57128d5e8be99eb07b3726be513884edc9e79252'], 'id': '85d87f477f9fee09f053b54144a31cfbf90889eaa4f036791c4e41e6dfe77b96', 'confirmations': 0, 'created': 1590821623555, 'inputs': [16]}> size=1>}]\n"
     ]
    }
   ],
   "source": [
    "my_tx = my_wallet.send([(\"muNHLmzC8CZ4nmZVy448xoYS84hmeXJXFG\",200000)])"
   ]
  },
  {
   "cell_type": "code",
   "execution_count": 6,
   "metadata": {},
   "outputs": [
    {
     "data": {
      "text/plain": [
       "'01000000000104231afd0f9f748fbbaf877b47d6fbcf9519b07d0423eb04e3e4732c0ab8476f5b000000006b483045022100a1f088a3f3f7cf22fbceb356b105cd9d6ffd9614fcaa7bf2cb69f4ab021c462c02205eccf7c6f02d81d101beceda4096484fc751d206dc5699720ddca648927c7c33012103a8a9d6b82d3ff26e50a730b47e2716eda4b4e553e4c34c42a57d11e1a69c816effffffff3b8088cbd2afba4be030454b36a45eb1117e1a4bcd073e8d426c96faaa5b5de4010000006b4830450221008683941381dac2da5be75c7d9c65063634af1528ffb9331ed1f73b52861e03820220281072000566a60753ebd5f0af832be73bb3825b44ce58e442a1d3e45ec87edc012102868ddcd03f6b246db94c0ef80ca349ad68c7176c3eeb8e1587eb3b7928b2e926ffffffff8b18481cbff7feb67b0e58451b9f7db1a0fc4ab91d31cca5563d927f72bfc884000000006a473044022048e71f0a4909822b274e8700f5e582fcd783189abb2963f4932465f6bade1dee02206a7611c5cd8a1eae68a6f7befecd70761f27a38676d69d74cd492e1368da12190121034c44a96e34cb349ee1a177a1458b2e19e42c16c1837f8895a4683995bc7eea4effffffffe54776d0f285d42f4a285f3afc320156ede1169a70c2ca59f5693928ce2df85a010000006a47304402207483537043b9894082a42a79b9c110973e06ee1e29d09b313cd8c1df5cf4b8d502202da1e9a19a0af51859b1d0b107ddfca773e2233af8a05bcd8396d6fc2c213ab70121020070de6ae500dfbe1387d608c68c53576b4d0a8193ab83f8be7f607690c796f7ffffffff02400d0300000000001976a91457f99201a7d0a9bb34444ac801569c63c3b4884c88ace4130d00000000001600145c527a2a5e1f1a4a682e4c43485207833196ccff0000000000000000'"
      ]
     },
     "execution_count": 6,
     "metadata": {},
     "output_type": "execute_result"
    }
   ],
   "source": [
    "my_tx.transaction.serialize().hex()"
   ]
  },
  {
   "cell_type": "code",
   "execution_count": 5,
   "metadata": {},
   "outputs": [
    {
     "name": "stdout",
     "output_type": "stream",
     "text": [
      "get i: None\n",
      "true\n",
      "Path: m/0H/1H/320043551\n",
      "<Record a=<Path start=<Node id=37 labels={'address'} properties={'address': 'tb1qncg7k3tl77sq5ftedas8vm8dh0fvgde0d9j962', 'type': 'change', 'acc_index': 320043551, 'created': 1586487127667}> end=<Node id=34 labels={'wallet'} properties={'xprv': 'tprv8ZgxMBicQKsPfQJYjuFAso9x6STzmUdMh5U8CQqqQUTgtQHBHCq4C7FseeeZg15L16UeSwbrLwJRTXNPQsJQwqvbBA11sn4M6c3jR1LwAQP'}> size=1>>\n",
      "size of transaction without signatures: 240\n",
      "fee: 7200\n",
      "change 649860\n",
      "total 857060, diff: 0\n",
      "Address trying to spend from: tb1qt3f852j7rudy56pwf3p5s5s8svcedn8lnkadnn\n",
      "tb1qt3f852j7rudy56pwf3p5s5s8svcedn8lnkadnn\n",
      "\n",
      "ABOUT TO SIGN INPUT\n",
      "\n",
      "SIGNING INPUT Segwit: \n",
      "Witness:\n",
      "[b'0E\\x02!\\x00\\xd8\\xb0\\xb6\\xfe\\x922a\\xec\\xfe\\xe6\\x01\\x11\\xa37xtf\\xef\\x8aT\\x9c\\xf9\\xbf\\x12_\\xfc\\x82\\xd0\\xa3\\xb4\\xba\\x9b\\x02 \\x16*\\x95x9\\x86\\xc2\\x8c\\xf2FM\\xe3\\x922\\x8c\\xe3\\xea\\xc7\\xa1i\\xfb\\xda\\xdb\\xd0\\x14\\xfd\\xed\\xb5\\x98`\\x82^\\x01', b'\\x03\\x8b6\\xf5O\\xed\\x01\\xe2\\x13\\xe4:\\x11V\\xca\\x97\\xdf9\\xe8#0@d\\xa61@\\xb0\\xb3\\x0f\\xf0\\x947D\\x17'] \n",
      "script_pubkey of tx IN: OP_0 5c527a2a5e1f1a4a682e4c43485207833196ccff\n",
      "\n",
      "combined script[0, b'\\\\Rz*^\\x1f\\x1aJh.LCHR\\x07\\x831\\x96\\xcc\\xff']\n",
      "\n",
      "300d92fef1910d96dc414156ee73c8e878936fd0a303bf80804543cf5ac3cdee\n",
      "None\n",
      "[{'p': <Path start=<Node id=35 labels={'utxo'} properties={'transaction_id': '781cedb14da14db74ac819fa4ac62abe722ebe8c3458b63335227c626372b6d0', 'out_index': 1, 'amount': 857060, 'address': 'tb1qt3f852j7rudy56pwf3p5s5s8svcedn8lnkadnn', 'spent': True, 'local_index': 11, 'confirmed': True}> end=<Node id=39 labels={'TxOut'} properties={'outputs': ['200000:OP_DUP OP_HASH160 9a902b3d4f491183aa9def94453ccf6e91507a93 OP_EQUALVERIFY OP_CHECKSIG', '649860:OP_0 9e11eb457ff7a00a25796f60766cedbbd2c4372f'], 'id': '300d92fef1910d96dc414156ee73c8e878936fd0a303bf80804543cf5ac3cdee', 'confirmations': 0, 'created': 1586487130459, 'inputs': [11]}> size=1>}]\n"
     ]
    }
   ],
   "source": [
    "my_tx2 = my_wallet.send([(\"mucD4dKRnaCzmFBeFh8GDYdJb4KRhEbyBk\",200000)])"
   ]
  },
  {
   "cell_type": "code",
   "execution_count": 6,
   "metadata": {},
   "outputs": [
    {
     "data": {
      "text/plain": [
       "'01000000000101d0b67263627c223533b658348cbe2e72be2ac64afa19c84ab74da14db1ed1c780100000000ffffffff02400d0300000000001976a9149a902b3d4f491183aa9def94453ccf6e91507a9388ac84ea0900000000001600149e11eb457ff7a00a25796f60766cedbbd2c4372f02483045022100d8b0b6fe923261ecfee60111a337787466ef8a549cf9bf125ffc82d0a3b4ba9b0220162a95783986c28cf2464de392328ce3eac7a169fbdadbd014fdedb59860825e0121038b36f54fed01e213e43a1156ca97df39e823304064a63140b0b30ff09437441700000000'"
      ]
     },
     "execution_count": 6,
     "metadata": {},
     "output_type": "execute_result"
    }
   ],
   "source": [
    "my_tx2.transaction.serialize().hex()"
   ]
  },
  {
   "cell_type": "code",
   "execution_count": 34,
   "metadata": {},
   "outputs": [
    {
     "data": {
      "text/plain": [
       "600000"
      ]
     },
     "execution_count": 34,
     "metadata": {},
     "output_type": "execute_result"
    }
   ],
   "source": [
    "mywallet2.update_balance()"
   ]
  },
  {
   "cell_type": "code",
   "execution_count": 29,
   "metadata": {},
   "outputs": [
    {
     "name": "stdout",
     "output_type": "stream",
     "text": [
      "get i: None\n",
      "true\n",
      "Path: m/0H/1H/1187776120\n",
      "<Record a=<Path start=<Node id=29 labels={'address'} properties={'address': 'tb1qje5fsgd4gp866zak3frdxpyluf05zu3rvkg4j6', 'type': 'change', 'acc_index': 1187776120, 'created': 1586491589477}> end=<Node id=34 labels={'wallet'} properties={'xprv': 'tprv8ZgxMBicQKsPfQJYjuFAso9x6STzmUdMh5U8CQqqQUTgtQHBHCq4C7FseeeZg15L16UeSwbrLwJRTXNPQsJQwqvbBA11sn4M6c3jR1LwAQP'}> size=1>>\n",
      "size of transaction without signatures: 240\n",
      "fee: 5040\n",
      "change 444820\n",
      "total 649860, diff: 0\n",
      "Address trying to spend from: tb1qncg7k3tl77sq5ftedas8vm8dh0fvgde0d9j962\n",
      "tb1qncg7k3tl77sq5ftedas8vm8dh0fvgde0d9j962\n",
      "\n",
      "ABOUT TO SIGN INPUT\n",
      "\n",
      "SIGNING INPUT Segwit: \n",
      "Witness:\n",
      "[b'0E\\x02!\\x00\\x83\\x87\\x89|\\xd8\\xa8\\xb3\\xb5S\\xdf`\\xc6\\nJgf\\x1eq\\n\\xc5Wl\\x9c\\xfaA\\xd8\\x92\\x8a\\xbb\\xf9\\xdah\\x02 ~\\xdd/\\x08\\xef\\x1a\\x82y\\xd2\\x97\"\\x92\\xe0_\\x9dn\\xf5\\x9bN\\xe2a\\xcb:.F\\xd9\\xc4&o/<T\\x01', b'\\x02d\\xc9\\x00\\xf76\\x19\\x84\\xb8\\xedR=\\xd9S:\\x03\\x8b\\xc7\\xb8\\x84\\xd3)\\x8awG\\xf3\\xfc\\xc7\\xe4\\x98[\\x1e\\x95'] \n",
      "script_pubkey of tx IN: OP_0 9e11eb457ff7a00a25796f60766cedbbd2c4372f\n",
      "\n",
      "combined script[0, b'\\x9e\\x11\\xebE\\x7f\\xf7\\xa0\\n%yo`vl\\xed\\xbb\\xd2\\xc47/']\n",
      "\n",
      "73f1aa13e0d8b56c393f540e16fe395f3b7563a7022b9f299ecf7164dc33dc52\n",
      "None\n",
      "{'tx': {'block_height': -1, 'block_index': -1, 'hash': '73f1aa13e0d8b56c393f540e16fe395f3b7563a7022b9f299ecf7164dc33dc52', 'addresses': ['tb1qncg7k3tl77sq5ftedas8vm8dh0fvgde0d9j962', 'mocc7fvLz4ggT5kVfLSJsiXfFByoXYBCqi', 'tb1qje5fsgd4gp866zak3frdxpyluf05zu3rvkg4j6'], 'total': 644820, 'fees': 5040, 'size': 116, 'preference': 'medium', 'relayed_by': '45.32.199.25', 'received': '2020-04-10T04:06:32.550386564Z', 'ver': 1, 'double_spend': False, 'vin_sz': 1, 'vout_sz': 2, 'confirmations': 0, 'inputs': [{'prev_hash': '300d92fef1910d96dc414156ee73c8e878936fd0a303bf80804543cf5ac3cdee', 'output_index': 1, 'output_value': 649860, 'sequence': 4294967295, 'addresses': ['tb1qncg7k3tl77sq5ftedas8vm8dh0fvgde0d9j962'], 'script_type': 'pay-to-witness-pubkey-hash', 'age': 1696941, 'witness': ['30450221008387897cd8a8b3b553df60c60a4a67661e710ac5576c9cfa41d8928abbf9da6802207edd2f08ef1a8279d2972292e05f9d6ef59b4ee261cb3a2e46d9c4266f2f3c5401', '0264c900f7361984b8ed523dd9533a038bc7b884d3298a7747f3fcc7e4985b1e95']}], 'outputs': [{'value': 200000, 'script': '76a91458d2a84f2308ca6eb38c7f28f017b6afe210990588ac', 'addresses': ['mocc7fvLz4ggT5kVfLSJsiXfFByoXYBCqi'], 'script_type': 'pay-to-pubkey-hash'}, {'value': 444820, 'script': '001496689821b5404fad0bb68a46d3049fe25f417223', 'addresses': ['tb1qje5fsgd4gp866zak3frdxpyluf05zu3rvkg4j6'], 'script_type': 'pay-to-witness-pubkey-hash'}]}}\n",
      "[{'p': <Path start=<Node id=26 labels={'utxo'} properties={'transaction_id': '300d92fef1910d96dc414156ee73c8e878936fd0a303bf80804543cf5ac3cdee', 'out_index': 1, 'amount': 649860, 'address': 'tb1qncg7k3tl77sq5ftedas8vm8dh0fvgde0d9j962', 'spent': True, 'local_index': 13, 'confirmed': True}> end=<Node id=41 labels={'TxOut'} properties={'outputs': ['200000:OP_DUP OP_HASH160 58d2a84f2308ca6eb38c7f28f017b6afe2109905 OP_EQUALVERIFY OP_CHECKSIG', '444820:OP_0 96689821b5404fad0bb68a46d3049fe25f417223'], 'id': '73f1aa13e0d8b56c393f540e16fe395f3b7563a7022b9f299ecf7164dc33dc52', 'confirmations': 0, 'created': 1586491592291, 'inputs': [13]}> size=1>}]\n"
     ]
    }
   ],
   "source": [
    "my_tx = my_wallet.send([(\"mocc7fvLz4ggT5kVfLSJsiXfFByoXYBCqi\",200000)])"
   ]
  },
  {
   "cell_type": "code",
   "execution_count": 30,
   "metadata": {},
   "outputs": [],
   "source": [
    "push = {'tx': {'block_height': -1, 'block_index': -1, 'hash': '73f1aa13e0d8b56c393f540e16fe395f3b7563a7022b9f299ecf7164dc33dc52', 'addresses': ['tb1qncg7k3tl77sq5ftedas8vm8dh0fvgde0d9j962', 'mocc7fvLz4ggT5kVfLSJsiXfFByoXYBCqi', 'tb1qje5fsgd4gp866zak3frdxpyluf05zu3rvkg4j6'], 'total': 644820, 'fees': 5040, 'size': 116, 'preference': 'medium', 'relayed_by': '45.32.199.25', 'received': '2020-04-10T04:06:32.550386564Z', 'ver': 1, 'double_spend': False, 'vin_sz': 1, 'vout_sz': 2, 'confirmations': 0, 'inputs': [{'prev_hash': '300d92fef1910d96dc414156ee73c8e878936fd0a303bf80804543cf5ac3cdee', 'output_index': 1, 'output_value': 649860, 'sequence': 4294967295, 'addresses': ['tb1qncg7k3tl77sq5ftedas8vm8dh0fvgde0d9j962'], 'script_type': 'pay-to-witness-pubkey-hash', 'age': 1696941, 'witness': ['30450221008387897cd8a8b3b553df60c60a4a67661e710ac5576c9cfa41d8928abbf9da6802207edd2f08ef1a8279d2972292e05f9d6ef59b4ee261cb3a2e46d9c4266f2f3c5401', '0264c900f7361984b8ed523dd9533a038bc7b884d3298a7747f3fcc7e4985b1e95']}], 'outputs': [{'value': 200000, 'script': '76a91458d2a84f2308ca6eb38c7f28f017b6afe210990588ac', 'addresses': ['mocc7fvLz4ggT5kVfLSJsiXfFByoXYBCqi'], 'script_type': 'pay-to-pubkey-hash'}, {'value': 444820, 'script': '001496689821b5404fad0bb68a46d3049fe25f417223', 'addresses': ['tb1qje5fsgd4gp866zak3frdxpyluf05zu3rvkg4j6'], 'script_type': 'pay-to-witness-pubkey-hash'}]}}"
   ]
  },
  {
   "cell_type": "code",
   "execution_count": 31,
   "metadata": {},
   "outputs": [
    {
     "data": {
      "text/plain": [
       "{'tx': {'block_height': -1,\n",
       "  'block_index': -1,\n",
       "  'hash': '73f1aa13e0d8b56c393f540e16fe395f3b7563a7022b9f299ecf7164dc33dc52',\n",
       "  'addresses': ['tb1qncg7k3tl77sq5ftedas8vm8dh0fvgde0d9j962',\n",
       "   'mocc7fvLz4ggT5kVfLSJsiXfFByoXYBCqi',\n",
       "   'tb1qje5fsgd4gp866zak3frdxpyluf05zu3rvkg4j6'],\n",
       "  'total': 644820,\n",
       "  'fees': 5040,\n",
       "  'size': 116,\n",
       "  'preference': 'medium',\n",
       "  'relayed_by': '45.32.199.25',\n",
       "  'received': '2020-04-10T04:06:32.550386564Z',\n",
       "  'ver': 1,\n",
       "  'double_spend': False,\n",
       "  'vin_sz': 1,\n",
       "  'vout_sz': 2,\n",
       "  'confirmations': 0,\n",
       "  'inputs': [{'prev_hash': '300d92fef1910d96dc414156ee73c8e878936fd0a303bf80804543cf5ac3cdee',\n",
       "    'output_index': 1,\n",
       "    'output_value': 649860,\n",
       "    'sequence': 4294967295,\n",
       "    'addresses': ['tb1qncg7k3tl77sq5ftedas8vm8dh0fvgde0d9j962'],\n",
       "    'script_type': 'pay-to-witness-pubkey-hash',\n",
       "    'age': 1696941,\n",
       "    'witness': ['30450221008387897cd8a8b3b553df60c60a4a67661e710ac5576c9cfa41d8928abbf9da6802207edd2f08ef1a8279d2972292e05f9d6ef59b4ee261cb3a2e46d9c4266f2f3c5401',\n",
       "     '0264c900f7361984b8ed523dd9533a038bc7b884d3298a7747f3fcc7e4985b1e95']}],\n",
       "  'outputs': [{'value': 200000,\n",
       "    'script': '76a91458d2a84f2308ca6eb38c7f28f017b6afe210990588ac',\n",
       "    'addresses': ['mocc7fvLz4ggT5kVfLSJsiXfFByoXYBCqi'],\n",
       "    'script_type': 'pay-to-pubkey-hash'},\n",
       "   {'value': 444820,\n",
       "    'script': '001496689821b5404fad0bb68a46d3049fe25f417223',\n",
       "    'addresses': ['tb1qje5fsgd4gp866zak3frdxpyluf05zu3rvkg4j6'],\n",
       "    'script_type': 'pay-to-witness-pubkey-hash'}]}}"
      ]
     },
     "execution_count": 31,
     "metadata": {},
     "output_type": "execute_result"
    }
   ],
   "source": [
    "push"
   ]
  },
  {
   "cell_type": "code",
   "execution_count": 40,
   "metadata": {},
   "outputs": [],
   "source": [
    "my_wallet.close_db()"
   ]
  },
  {
   "cell_type": "code",
   "execution_count": 8,
   "metadata": {},
   "outputs": [],
   "source": [
    "import schedule \n",
    "import time "
   ]
  },
  {
   "cell_type": "code",
   "execution_count": 41,
   "metadata": {},
   "outputs": [],
   "source": [
    "load_dotenv()\n",
    "BLOCKCYPHER_API_KEY = os.getenv('BLOCKCYPHER_API_KEY')\n",
    "\n",
    "addr_info = get_addresses_details([\"tb1qje5fsgd4gp866zak3frdxpyluf05zu3rvkg4j6\",\"tb1qt3f852j7rudy56pwf3p5s5s8svcedn8lnkadnn\",\n",
    "                                  \"mocc7fvLz4ggT5kVfLSJsiXfFByoXYBCqi\",\"moY84CDzW5EmpKCK5GUg8VpqiKyUW1wbMA\"], \n",
    "                                coin_symbol = \"btc-testnet\", unspent_only=True)"
   ]
  },
  {
   "cell_type": "code",
   "execution_count": 42,
   "metadata": {},
   "outputs": [
    {
     "data": {
      "text/plain": [
       "[{'address': 'mocc7fvLz4ggT5kVfLSJsiXfFByoXYBCqi',\n",
       "  'total_received': 202699,\n",
       "  'total_sent': 0,\n",
       "  'balance': 202699,\n",
       "  'unconfirmed_balance': 0,\n",
       "  'final_balance': 202699,\n",
       "  'n_tx': 3,\n",
       "  'unconfirmed_n_tx': 0,\n",
       "  'final_n_tx': 3,\n",
       "  'txrefs': [{'tx_hash': '95339633e30b20336b586b1b569f5241b5cfd22a15c6636b20c184d91849d92d',\n",
       "    'block_height': 1746770,\n",
       "    'tx_input_n': -1,\n",
       "    'tx_output_n': 0,\n",
       "    'value': 999,\n",
       "    'ref_balance': 202699,\n",
       "    'spent': False,\n",
       "    'confirmations': 78,\n",
       "    'confirmed': datetime.datetime(2020, 5, 28, 19, 35, 39, tzinfo=tzutc()),\n",
       "    'double_spend': False},\n",
       "   {'tx_hash': 'f48f3e0517ea0adcb1344f807e7ea17c1a46f907e160ca0e49dfeeb102b3ee58',\n",
       "    'block_height': 1746763,\n",
       "    'tx_input_n': -1,\n",
       "    'tx_output_n': 0,\n",
       "    'value': 1700,\n",
       "    'ref_balance': 201700,\n",
       "    'spent': False,\n",
       "    'confirmations': 85,\n",
       "    'confirmed': datetime.datetime(2020, 5, 28, 17, 15, 25, tzinfo=tzutc()),\n",
       "    'double_spend': False},\n",
       "   {'tx_hash': '73f1aa13e0d8b56c393f540e16fe395f3b7563a7022b9f299ecf7164dc33dc52',\n",
       "    'block_height': 1696947,\n",
       "    'tx_input_n': -1,\n",
       "    'tx_output_n': 0,\n",
       "    'value': 200000,\n",
       "    'ref_balance': 200000,\n",
       "    'spent': False,\n",
       "    'confirmations': 49901,\n",
       "    'confirmed': datetime.datetime(2020, 4, 10, 4, 7, 12, tzinfo=tzutc()),\n",
       "    'double_spend': False}],\n",
       "  'tx_url': 'https://api.blockcypher.com/v1/btc/test3/txs/',\n",
       "  'unconfirmed_txrefs': []},\n",
       " {'address': 'tb1qje5fsgd4gp866zak3frdxpyluf05zu3rvkg4j6',\n",
       "  'total_received': 0,\n",
       "  'total_sent': 0,\n",
       "  'balance': 0,\n",
       "  'unconfirmed_balance': 0,\n",
       "  'final_balance': 0,\n",
       "  'n_tx': 0,\n",
       "  'unconfirmed_n_tx': 0,\n",
       "  'final_n_tx': 0,\n",
       "  'tx_url': 'https://api.blockcypher.com/v1/btc/test3/txs/',\n",
       "  'txrefs': [],\n",
       "  'unconfirmed_txrefs': []},\n",
       " {'address': 'moY84CDzW5EmpKCK5GUg8VpqiKyUW1wbMA',\n",
       "  'total_received': 200000,\n",
       "  'total_sent': 0,\n",
       "  'balance': 200000,\n",
       "  'unconfirmed_balance': 0,\n",
       "  'final_balance': 200000,\n",
       "  'n_tx': 1,\n",
       "  'unconfirmed_n_tx': 0,\n",
       "  'final_n_tx': 1,\n",
       "  'txrefs': [{'tx_hash': '781cedb14da14db74ac819fa4ac62abe722ebe8c3458b63335227c626372b6d0',\n",
       "    'block_height': 1696939,\n",
       "    'tx_input_n': -1,\n",
       "    'tx_output_n': 0,\n",
       "    'value': 200000,\n",
       "    'ref_balance': 200000,\n",
       "    'spent': False,\n",
       "    'confirmations': 49909,\n",
       "    'confirmed': datetime.datetime(2020, 4, 10, 2, 50, 18, tzinfo=tzutc()),\n",
       "    'double_spend': False}],\n",
       "  'tx_url': 'https://api.blockcypher.com/v1/btc/test3/txs/',\n",
       "  'unconfirmed_txrefs': []},\n",
       " {'address': 'tb1qt3f852j7rudy56pwf3p5s5s8svcedn8lnkadnn',\n",
       "  'total_received': 0,\n",
       "  'total_sent': 0,\n",
       "  'balance': 0,\n",
       "  'unconfirmed_balance': 0,\n",
       "  'final_balance': 0,\n",
       "  'n_tx': 0,\n",
       "  'unconfirmed_n_tx': 0,\n",
       "  'final_n_tx': 0,\n",
       "  'tx_url': 'https://api.blockcypher.com/v1/btc/test3/txs/',\n",
       "  'txrefs': [],\n",
       "  'unconfirmed_txrefs': []}]"
      ]
     },
     "execution_count": 42,
     "metadata": {},
     "output_type": "execute_result"
    }
   ],
   "source": [
    "addr_info"
   ]
  },
  {
   "cell_type": "code",
   "execution_count": 58,
   "metadata": {},
   "outputs": [
    {
     "data": {
      "text/plain": [
       "9434.47"
      ]
     },
     "execution_count": 58,
     "metadata": {},
     "output_type": "execute_result"
    }
   ],
   "source": [
    "from urllib.request import Request, urlopen\n",
    "import json\n",
    "import os\n",
    "\n",
    "def read_json(url):\n",
    "    request = Request(url)\n",
    "    response = urlopen(request)\n",
    "    data = response.read()\n",
    "    url2 = json.loads(data)\n",
    "    return url2\n",
    "\n",
    "api_key = os.getenv(\"CC_API\")\n",
    "url = f\"https://min-api.cryptocompare.com/data/price?fsym=BTC&tsyms=USD\"\n",
    "raw_data = read_json(url)\n",
    "raw_data[\"USD\"]"
   ]
  },
  {
   "cell_type": "code",
   "execution_count": 67,
   "metadata": {},
   "outputs": [],
   "source": [
    "import pyperclip"
   ]
  },
  {
   "cell_type": "code",
   "execution_count": 68,
   "metadata": {},
   "outputs": [],
   "source": [
    "pyperclip.copy(\"This is a copy test.\")"
   ]
  },
  {
   "cell_type": "code",
   "execution_count": 2,
   "metadata": {},
   "outputs": [
    {
     "name": "stderr",
     "output_type": "stream",
     "text": [
      "[INFO   ] [Logger      ] Record log in /Users/oscareduardosernarosero/.kivy/logs/kivy_20-06-01_30.txt\n",
      "[INFO   ] [Kivy        ] v1.11.1\n",
      "[INFO   ] [Kivy        ] Installed at \"/Users/oscareduardosernarosero/anaconda3/lib/python3.7/site-packages/kivy/__init__.py\"\n",
      "[INFO   ] [Python      ] v3.7.3 (default, Mar 27 2019, 16:54:48) \n",
      "[Clang 4.0.1 (tags/RELEASE_401/final)]\n",
      "[INFO   ] [Python      ] Interpreter at \"/Users/oscareduardosernarosero/anaconda3/bin/python\"\n",
      "[INFO   ] [Factory     ] 184 symbols loaded\n",
      "[INFO   ] [Image       ] Providers: img_tex, img_imageio, img_dds, img_sdl2, img_pil, img_gif (img_ffpyplayer ignored)\n"
     ]
    }
   ],
   "source": [
    "from kivy_garden.zbarcam import ZBarCam"
   ]
  },
  {
   "cell_type": "code",
   "execution_count": 22,
   "metadata": {},
   "outputs": [
    {
     "data": {
      "text/plain": [
       "[['a', '1', 0], ['b', '2', 1], ['c', '3', 2]]"
      ]
     },
     "execution_count": 22,
     "metadata": {},
     "output_type": "execute_result"
    }
   ],
   "source": [
    "txs = [\"a:1\",\"b:2\",\"c:3\"]\n",
    "outs = [str(x).split(\":\")+[i] for i,x in enumerate(txs)]\n",
    "outs"
   ]
  },
  {
   "cell_type": "code",
   "execution_count": 30,
   "metadata": {},
   "outputs": [
    {
     "name": "stdout",
     "output_type": "stream",
     "text": [
      " b'ab\n",
      "cd' \n",
      "1\n"
     ]
    },
    {
     "data": {
      "text/plain": [
       "'abcd'"
      ]
     },
     "execution_count": 30,
     "metadata": {},
     "output_type": "execute_result"
    }
   ],
   "source": [
    "text = \" b'ab\\ncd' \"\n",
    "print(text)\n",
    "text = text.replace(\"\\n\",\"\")\n",
    "text = text.strip(\" \")\n",
    "text = text.strip(\"'\")\n",
    "starts = text.rfind(\"'\")\n",
    "print(starts)\n",
    "text = text[starts+1:]\n",
    "text"
   ]
  },
  {
   "cell_type": "code",
   "execution_count": 26,
   "metadata": {},
   "outputs": [
    {
     "data": {
      "text/plain": [
       "'a b c d'"
      ]
     },
     "execution_count": 26,
     "metadata": {},
     "output_type": "execute_result"
    }
   ],
   "source": [
    "txt"
   ]
  },
  {
   "cell_type": "code",
   "execution_count": null,
   "metadata": {},
   "outputs": [],
   "source": []
  }
 ],
 "metadata": {
  "kernelspec": {
   "display_name": "Python 3",
   "language": "python",
   "name": "python3"
  },
  "language_info": {
   "codemirror_mode": {
    "name": "ipython",
    "version": 3
   },
   "file_extension": ".py",
   "mimetype": "text/x-python",
   "name": "python",
   "nbconvert_exporter": "python",
   "pygments_lexer": "ipython3",
   "version": "3.7.3"
  }
 },
 "nbformat": 4,
 "nbformat_minor": 4
}
