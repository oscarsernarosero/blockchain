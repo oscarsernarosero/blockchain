{
 "cells": [
  {
   "cell_type": "code",
   "execution_count": 107,
   "metadata": {},
   "outputs": [],
   "source": [
    "from binascii import hexlify\n",
    "from binascii import unhexlify\n",
    "from hashlib import sha256\n",
    "from hashlib import sha512\n",
    "import hmac\n",
    "from ecc import PrivateKey, S256Point, Signature\n",
    "from helper import encode_base58_checksum, decode_base58, decode_base58_extended\n",
    "from io import BytesIO, StringIO\n",
    "\n",
    "N = 0xfffffffffffffffffffffffffffffffebaaedce6af48a03bbfd25e8cd0364141"
   ]
  },
  {
   "cell_type": "code",
   "execution_count": 108,
   "metadata": {},
   "outputs": [],
   "source": [
    "bip39_output = 0x72f98262a11e83345546b291a7244b850bc1f69975510c33463dd087868cc8289cf3c1a76d6cb87fc8ee447c89eed756a9311a2414970d65bb62e0b3012c0583"
   ]
  },
  {
   "cell_type": "code",
   "execution_count": 109,
   "metadata": {},
   "outputs": [
    {
     "data": {
      "text/plain": [
       "'72f98262a11e83345546b291a7244b850bc1f69975510c33463dd087868cc828'"
      ]
     },
     "execution_count": 109,
     "metadata": {},
     "output_type": "execute_result"
    }
   ],
   "source": [
    "master_priv_key = bip39_output.to_bytes(64,\"big\") [:32]\n",
    "master_priv_key.hex()"
   ]
  },
  {
   "cell_type": "code",
   "execution_count": 110,
   "metadata": {},
   "outputs": [
    {
     "data": {
      "text/plain": [
       "'9cf3c1a76d6cb87fc8ee447c89eed756a9311a2414970d65bb62e0b3012c0583'"
      ]
     },
     "execution_count": 110,
     "metadata": {},
     "output_type": "execute_result"
    }
   ],
   "source": [
    "chain_code = bip39_output.to_bytes(64,\"big\")[32:]\n",
    "chain_code.hex()"
   ]
  },
  {
   "cell_type": "code",
   "execution_count": 111,
   "metadata": {},
   "outputs": [
    {
     "data": {
      "text/plain": [
       "'xprv9s21ZrQH143K3czKtJzXTjafD4G61LSYzUNx3PdAiMmfp9vbatMf6GXv9nuHfMy5Lgc8igBdEfDYGSHeub79KzPb2EVmH3Lin4tePwpXUjo'"
      ]
     },
     "execution_count": 111,
     "metadata": {},
     "output_type": "execute_result"
    }
   ],
   "source": [
    "def extended_privkey(privkey,chain_code, _index, testnet=False):\n",
    "    if testnet:\n",
    "        version= 0x04358394.to_bytes(4,\"big\")\n",
    "    else:\n",
    "        version= 0x0488ade4.to_bytes(4,\"big\")\n",
    "    depth=0x00.to_bytes(1,\"big\")\n",
    "    fingerprint =0x00.to_bytes(4,\"big\")\n",
    "    index = _index.to_bytes(4,\"big\")\n",
    "    return version+depth+fingerprint+index+chain_code+b'\\x00'+privkey\n",
    "\n",
    "def deserialize_xprvk(s):\n",
    "    version = s.read(4)\n",
    "    depth = s.read(1)\n",
    "    fingerprint = s.read(4)\n",
    "    index= s.read(4)\n",
    "    chain_code = s.read(32)\n",
    "    s.read(1)\n",
    "    privkey = s.read(32)\n",
    "    return [version,depth, fingerprint,index,chain_code,privkey]\n",
    "\n",
    "xtended_private_key = extended_privkey(master_priv_key, chain_code, 0)\n",
    "xtended_private_key = encode_base58_checksum(xtended_private_key)\n",
    "xtended_private_key"
   ]
  },
  {
   "cell_type": "code",
   "execution_count": 112,
   "metadata": {},
   "outputs": [
    {
     "data": {
      "text/plain": [
       "[b'\\x04\\x88\\xad\\xe4',\n",
       " b'\\x00',\n",
       " b'\\x00\\x00\\x00\\x00',\n",
       " b'\\x00\\x00\\x00\\x00',\n",
       " b'\\x10\\xe8\\\\\\x06\\x82o\\xdc\\xd0\\x06\\xc2D\\xfflD \\x00D\\xc1A\\x8b\\xdd\\x82\\xcc\\x08\\x8c3\\xe4\\x8a\\xe7\\xb4\\xc2\\xca',\n",
       " b'\\xf2\\x14\\xc0\\xaf\\xd9\\xb3\\x11TO\\xdbhl\\xaeQ\\x00\\xf1\\xac\\n\\xc8\\xab\\xa2\\xb6\\xc5W\\x19\\xbaA\\xac-O-\\x12']"
      ]
     },
     "execution_count": 112,
     "metadata": {},
     "output_type": "execute_result"
    }
   ],
   "source": [
    "xtprvk = 'xprv9s21ZrQH143K2E7weJFDreP9A8dFkx18swFoAJ6DBdsVuSPoFBLzekLca8vEG1i6ikCcvzZb79joaEZAjeM8Nz1DZ549aCnv3YFXy33mLoW'\n",
    "decoded =deserialize_xprvk( BytesIO(decode_base58_extended(xtprvk)))\n",
    "decoded"
   ]
  },
  {
   "cell_type": "code",
   "execution_count": 113,
   "metadata": {},
   "outputs": [
    {
     "name": "stdout",
     "output_type": "stream",
     "text": [
      "0x488ade4\n",
      "0x0\n",
      "0x0\n",
      "0x0\n",
      "0x10e85c06826fdcd006c244ff6c44200044c1418bdd82cc088c33e48ae7b4c2ca\n",
      "0xf214c0afd9b311544fdb686cae5100f1ac0ac8aba2b6c55719ba41ac2d4f2d12\n"
     ]
    }
   ],
   "source": [
    "for x in decoded:\n",
    "    print(hex(int.from_bytes(x,\"big\")))"
   ]
  },
  {
   "cell_type": "code",
   "execution_count": 114,
   "metadata": {},
   "outputs": [],
   "source": [
    "master_priv_key = decoded[-1]\n",
    "chain_code = decoded[-2]"
   ]
  },
  {
   "cell_type": "code",
   "execution_count": 115,
   "metadata": {},
   "outputs": [],
   "source": [
    "def str_i(i):\n",
    "    i_str = hex(i)[2:]\n",
    "    while len(i_str)<8:\n",
    "        i_str=\"0\"+i_str\n",
    "    return i_str\n",
    "    "
   ]
  },
  {
   "cell_type": "code",
   "execution_count": 116,
   "metadata": {},
   "outputs": [],
   "source": [
    "pub_key = PrivateKey(int.from_bytes(master_priv_key,\"big\")).point.sec()"
   ]
  },
  {
   "cell_type": "code",
   "execution_count": 117,
   "metadata": {},
   "outputs": [
    {
     "data": {
      "text/plain": [
       "b'0241adae83bb61ff28aaf29a09773b69fec5bcd4a49fbaadfdafbe86a5b031436000000000'"
      ]
     },
     "execution_count": 117,
     "metadata": {},
     "output_type": "execute_result"
    }
   ],
   "source": [
    "msg=(\"0\" + hex(int.from_bytes(pub_key,\"big\"))[2:] + str_i(0)).encode() \n",
    "msg"
   ]
  },
  {
   "cell_type": "code",
   "execution_count": 118,
   "metadata": {},
   "outputs": [],
   "source": [
    "I= hmac.new(\n",
    "            key = hex(int.from_bytes(chain_code,\"big\"))[2:].encode() ,\n",
    "            msg=msg ,\n",
    "            digestmod=sha512).digest()\n"
   ]
  },
  {
   "cell_type": "code",
   "execution_count": 119,
   "metadata": {},
   "outputs": [],
   "source": [
    "I_L, I_R = I[:32], I[32:]"
   ]
  },
  {
   "cell_type": "code",
   "execution_count": 120,
   "metadata": {},
   "outputs": [],
   "source": [
    "child_privkey_int = (int.from_bytes(I_L,\"big\") + int.from_bytes(master_priv_key,\"big\"))%N"
   ]
  },
  {
   "cell_type": "code",
   "execution_count": 121,
   "metadata": {},
   "outputs": [],
   "source": [
    "child_pubkey_int = (int.from_bytes(I_L,\"big\") + int.from_bytes(pub_key,\"big\"))%N"
   ]
  },
  {
   "cell_type": "code",
   "execution_count": 122,
   "metadata": {},
   "outputs": [],
   "source": [
    "child_privkey = PrivateKey(child_privkey_int).wif(compressed= True)"
   ]
  },
  {
   "cell_type": "code",
   "execution_count": 123,
   "metadata": {},
   "outputs": [],
   "source": [
    "child_chain_code = I_R"
   ]
  },
  {
   "cell_type": "code",
   "execution_count": 124,
   "metadata": {},
   "outputs": [
    {
     "data": {
      "text/plain": [
       "'L29Rc5PyDkbUr2z1VcL2DuAhTQkNo3qwF7ENgRotS86ADUkiXPJF'"
      ]
     },
     "execution_count": 124,
     "metadata": {},
     "output_type": "execute_result"
    }
   ],
   "source": [
    "child_privkey"
   ]
  },
  {
   "cell_type": "code",
   "execution_count": 125,
   "metadata": {},
   "outputs": [
    {
     "data": {
      "text/plain": [
       "'0xb3a05798ada17da7a4a7571b47f84a06ef9a0296c46975f455d8d4e37a7386b5'"
      ]
     },
     "execution_count": 125,
     "metadata": {},
     "output_type": "execute_result"
    }
   ],
   "source": [
    "hex(int.from_bytes(child_chain_code,\"big\"))"
   ]
  },
  {
   "cell_type": "code",
   "execution_count": 126,
   "metadata": {},
   "outputs": [
    {
     "data": {
      "text/plain": [
       "'0x2f3dde9a80dbbe0d32f99b87e4eb21f0e332035ae8d9b210e58465c60eef1eabe'"
      ]
     },
     "execution_count": 126,
     "metadata": {},
     "output_type": "execute_result"
    }
   ],
   "source": [
    "hex(int.from_bytes(PrivateKey(child_privkey_int).point.sec(),\"big\"))"
   ]
  },
  {
   "cell_type": "code",
   "execution_count": 127,
   "metadata": {},
   "outputs": [
    {
     "data": {
      "text/plain": [
       "'0xe2945e1e15ce4e4985777261ad6b1b96519d3e08245071f238d6b5696cf8940a'"
      ]
     },
     "execution_count": 127,
     "metadata": {},
     "output_type": "execute_result"
    }
   ],
   "source": [
    "hex(child_pubkey_int)"
   ]
  },
  {
   "cell_type": "code",
   "execution_count": null,
   "metadata": {},
   "outputs": [],
   "source": []
  }
 ],
 "metadata": {
  "kernelspec": {
   "display_name": "Python 3",
   "language": "python",
   "name": "python3"
  },
  "language_info": {
   "codemirror_mode": {
    "name": "ipython",
    "version": 3
   },
   "file_extension": ".py",
   "mimetype": "text/x-python",
   "name": "python",
   "nbconvert_exporter": "python",
   "pygments_lexer": "ipython3",
   "version": "3.7.4"
  }
 },
 "nbformat": 4,
 "nbformat_minor": 4
}
