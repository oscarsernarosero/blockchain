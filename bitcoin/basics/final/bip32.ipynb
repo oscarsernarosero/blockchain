{
 "cells": [
  {
   "cell_type": "code",
   "execution_count": 235,
   "metadata": {},
   "outputs": [],
   "source": [
    "from binascii import hexlify\n",
    "from binascii import unhexlify\n",
    "from hashlib import sha256\n",
    "from hashlib import sha512\n",
    "import hmac\n",
    "from ecc import PrivateKey, S256Point, Signature\n",
    "from helper import encode_base58_checksum, decode_base58, decode_base58_extended, hash160\n",
    "from io import BytesIO, StringIO\n",
    "\n",
    "N = 0xfffffffffffffffffffffffffffffffebaaedce6af48a03bbfd25e8cd0364141"
   ]
  },
  {
   "cell_type": "code",
   "execution_count": 236,
   "metadata": {},
   "outputs": [],
   "source": [
    "def extended_privkey(depth,finger_print,_index,chain_code,privkey, testnet=False):\n",
    "    if testnet:\n",
    "        version= 0x04358394.to_bytes(4,\"big\")\n",
    "    else:\n",
    "        version= 0x0488ade4.to_bytes(4,\"big\")\n",
    "    depth=depth.to_bytes(1,\"big\")\n",
    "    fingerprint =finger_print\n",
    "    index = _index.to_bytes(4,\"big\")\n",
    "    return version+depth+fingerprint+index+chain_code+b'\\x00'+privkey\n",
    "\n",
    "def deserialize_xprvk(s):\n",
    "    version = s.read(4)\n",
    "    depth = s.read(1)\n",
    "    fingerprint = s.read(4)\n",
    "    index= s.read(4)\n",
    "    chain_code = s.read(32)\n",
    "    s.read(1)\n",
    "    privkey = s.read(32)\n",
    "    return [version,depth, fingerprint,index,chain_code,privkey]\n"
   ]
  },
  {
   "cell_type": "code",
   "execution_count": 237,
   "metadata": {},
   "outputs": [],
   "source": [
    "xtprvk = 'xprv9s21ZrQH143K31xYSDQpPDxsXRTUcvj2iNHm5NUtrGiGG5e2DtALGdso3pGz6ssrdK4PFmM8NSpSBHNqPqm55Qn3LqFtT2emdEXVYsCzC2U'\n",
    "decoded =deserialize_xprvk( BytesIO(decode_base58_extended(xtprvk)))\n"
   ]
  },
  {
   "cell_type": "code",
   "execution_count": 238,
   "metadata": {},
   "outputs": [
    {
     "name": "stdout",
     "output_type": "stream",
     "text": [
      "0x488ade4\n",
      "0x0\n",
      "0x0\n",
      "0x0\n",
      "0x60499f801b896d83179a4374aeb7822aaeaceaa0db1f85ee3e904c4defbd9689\n",
      "0x4b03d6fc340455b363f51020ad3ecca4f0850280cf436c70c727923f6db46c3e\n"
     ]
    }
   ],
   "source": [
    "for x in decoded:\n",
    "    print(hex(int.from_bytes(x,\"big\")))"
   ]
  },
  {
   "cell_type": "code",
   "execution_count": 239,
   "metadata": {},
   "outputs": [],
   "source": [
    "master_priv_key = decoded[-1]\n",
    "chain_code = decoded[-2]"
   ]
  },
  {
   "cell_type": "code",
   "execution_count": 240,
   "metadata": {},
   "outputs": [
    {
     "name": "stdout",
     "output_type": "stream",
     "text": [
      "0xbd16bee5\n"
     ]
    }
   ],
   "source": [
    "pub_key = PrivateKey(int.from_bytes(master_priv_key,\"big\")).point.sec()\n",
    "finger_print = hash160(pub_key)[:4]\n",
    "print(hex(int.from_bytes(finger_print,\"big\")))"
   ]
  },
  {
   "cell_type": "code",
   "execution_count": 241,
   "metadata": {},
   "outputs": [],
   "source": [
    "i=0"
   ]
  },
  {
   "cell_type": "code",
   "execution_count": 242,
   "metadata": {},
   "outputs": [
    {
     "name": "stdout",
     "output_type": "stream",
     "text": [
      "I: b'`\\xe3s\\x9c\\xc2\\xc3\\x95\\x0b|M\\x7f2\\xccP>\\x13\\xb9\\x96\\xd0\\xf7\\xa4V#\\xd0\\xa9\\x14\\xe1\\xef\\xa7\\xf8\\x11\\xe0\\xf0\\x90\\x9a\\xff\\xaa~\\xe7\\xab\\xe5\\xddN\\x10\\x05\\x98\\xd4\\xdcS\\xcdp\\x9dZ\\\\,\\xac@\\xe7A/#/|\\x9c'\n"
     ]
    }
   ],
   "source": [
    "if i >= 2**31: hardened=True\n",
    "else: hardened=False\n",
    "    \n",
    "if hardened:\n",
    "    I= hmac.new(\n",
    "                key = chain_code,\n",
    "                msg=b'\\x00' + master_priv_key + i.to_bytes(4,\"big\") ,\n",
    "                digestmod=sha512).digest()\n",
    "\n",
    "    \n",
    "else:\n",
    "    \n",
    "    I= hmac.new(\n",
    "                key = chain_code,\n",
    "                msg=pub_key + i.to_bytes(4,\"big\") ,\n",
    "                digestmod=sha512).digest()\n",
    "    \n",
    "print(f\"I: {I}\")"
   ]
  },
  {
   "cell_type": "code",
   "execution_count": 243,
   "metadata": {},
   "outputs": [],
   "source": [
    "I_L, I_R = I[:32], I[32:]"
   ]
  },
  {
   "cell_type": "code",
   "execution_count": 244,
   "metadata": {},
   "outputs": [
    {
     "data": {
      "text/plain": [
       "'0xabe74a98f6c7eabee0428f53798f0ab8aa1bd37873999041703c742f15ac7e1e'"
      ]
     },
     "execution_count": 244,
     "metadata": {},
     "output_type": "execute_result"
    }
   ],
   "source": [
    "child_privkey_int = (int.from_bytes(I_L,\"big\") + int.from_bytes(master_priv_key,\"big\"))%N\n",
    "hex(child_privkey_int)"
   ]
  },
  {
   "cell_type": "code",
   "execution_count": 245,
   "metadata": {},
   "outputs": [],
   "source": [
    "child_privkey = PrivateKey(child_privkey_int).wif(compressed= True)"
   ]
  },
  {
   "cell_type": "code",
   "execution_count": 246,
   "metadata": {},
   "outputs": [],
   "source": [
    "child_chain_code = I_R"
   ]
  },
  {
   "cell_type": "code",
   "execution_count": 247,
   "metadata": {},
   "outputs": [
    {
     "data": {
      "text/plain": [
       "'L2ysLrR6KMSAtx7uPqmYpoTeiRzydXBattRXjXz5GDFPrdfPzKbj'"
      ]
     },
     "execution_count": 247,
     "metadata": {},
     "output_type": "execute_result"
    }
   ],
   "source": [
    "child_privkey"
   ]
  },
  {
   "cell_type": "code",
   "execution_count": 248,
   "metadata": {},
   "outputs": [
    {
     "data": {
      "text/plain": [
       "'0xf0909affaa7ee7abe5dd4e100598d4dc53cd709d5a5c2cac40e7412f232f7c9c'"
      ]
     },
     "execution_count": 248,
     "metadata": {},
     "output_type": "execute_result"
    }
   ],
   "source": [
    "hex(int.from_bytes(child_chain_code,\"big\"))"
   ]
  },
  {
   "cell_type": "code",
   "execution_count": 249,
   "metadata": {},
   "outputs": [
    {
     "data": {
      "text/plain": [
       "'0x2fc9e5af0ac8d9b3cecfe2a888e2117ba3d089d8585886c9c826b6b22a98d12ea'"
      ]
     },
     "execution_count": 249,
     "metadata": {},
     "output_type": "execute_result"
    }
   ],
   "source": [
    "hex(int.from_bytes(PrivateKey(child_privkey_int).point.sec(),\"big\"))"
   ]
  },
  {
   "cell_type": "code",
   "execution_count": 250,
   "metadata": {},
   "outputs": [
    {
     "data": {
      "text/plain": [
       "'xprv9vHkqa6EV4sPZHYqZznhT2NPtPCjKuDKGY38FBWLvgaDx45zo9WQRUT3dKYnjwih2yJD9mkrocEZXo1ex8G81dwSM1fwqWpWkeS3v86pgKt'"
      ]
     },
     "execution_count": 250,
     "metadata": {},
     "output_type": "execute_result"
    }
   ],
   "source": [
    "xtended_private_key = extended_privkey(1,finger_print,0,child_chain_code,child_privkey_int.to_bytes(32,\"big\"))\n",
    "xtended_private_key = encode_base58_checksum(xtended_private_key)\n",
    "xtended_private_key"
   ]
  },
  {
   "cell_type": "code",
   "execution_count": 251,
   "metadata": {},
   "outputs": [
    {
     "data": {
      "text/plain": [
       "(b'\\xbd\\x16\\xbe\\xe5',)"
      ]
     },
     "execution_count": 251,
     "metadata": {},
     "output_type": "execute_result"
    }
   ],
   "source": [
    " b'\\xbd\\x16\\xbe\\xe5',"
   ]
  },
  {
   "cell_type": "code",
   "execution_count": 389,
   "metadata": {},
   "outputs": [],
   "source": [
    "class Xtended_privkey:\n",
    "    \n",
    "    def __init__(self, depth, fingerprint, index, chain_code, private_key, testnet = False):\n",
    "        \"\"\"\n",
    "        All data must be bytes\n",
    "        \"\"\"\n",
    "        self.testnet = testnet\n",
    "        self.version = None\n",
    "        self.depth = depth\n",
    "        self.fingerprint = fingerprint\n",
    "        self.index = index\n",
    "        self.chain_code = chain_code\n",
    "        self.private_key = private_key\n",
    "        self.private_key_wif = PrivateKey(child_privkey_int).wif()\n",
    "        self.xtended_key = None\n",
    "        \n",
    "    def __repr__(cls):\n",
    "        return cls.get_xtended_key()\n",
    "    \n",
    "    \n",
    "    def get_child_xtended_key(self, i):\n",
    "       \n",
    "        pub_key = PrivateKey(int.from_bytes(self.private_key,\"big\")).point.sec()\n",
    "       \n",
    "        child_fingerprint = hash160(pub_key)[:4]\n",
    "     \n",
    "        if i >= 2**31: \n",
    "            hardened=True\n",
    "            msg=b'\\x00' + self.private_key + i.to_bytes(4,\"big\")\n",
    "        else: \n",
    "            hardened=False\n",
    "            msg=pub_key + i.to_bytes(4,\"big\") \n",
    "\n",
    "        I= hmac.new(\n",
    "                    key = self.chain_code,\n",
    "                    msg=msg,\n",
    "                    digestmod=sha512).digest()\n",
    "        \n",
    "        I_L, I_R = I[:32], I[32:]\n",
    "        \n",
    "        child_privkey_int = (int.from_bytes(I_L,\"big\") + int.from_bytes(self.private_key,\"big\"))%N\n",
    "        child_chain_code = I_R\n",
    "        \n",
    "        child_depth = (int.from_bytes(self.depth,\"big\")+1).to_bytes(1,\"big\")\n",
    "        \n",
    "        return Xtended_privkey(child_depth, child_fingerprint, i.to_bytes(4,\"big\"), \n",
    "                   child_chain_code, child_privkey_int.to_bytes(32,\"big\"),testnet = self.testnet)\n",
    "        \n",
    "        \n",
    "        \n",
    "    def get_child_from_path(self,path_string):\n",
    "        child = self\n",
    "        start = False\n",
    "        begin = 0\n",
    "        hardened = False\n",
    "        for index,char in enumerate(path_string):\n",
    "            \n",
    "            if char == 'm' and index==0:\n",
    "                continue\n",
    "            elif char == '/':\n",
    "                if start:\n",
    "                    if hardened:\n",
    "                        index = int(path_string[begin:index-1])+2**31\n",
    "                        hardened = False\n",
    "                    else:\n",
    "                        index = int(path_string[begin:index])\n",
    "                    child = child.get_child_xtended_key(index)\n",
    "                    start = False\n",
    "                continue\n",
    "            elif char == \"H\" or char == \"h\":\n",
    "                hardened = True\n",
    "                continue\n",
    "                \n",
    "            elif not start:\n",
    "                begin = index\n",
    "                start = True\n",
    "                \n",
    "        index = int(path_string[begin:])\n",
    "        child = child.get_child_xtended_key(int(char))\n",
    "        return child\n",
    "    \n",
    "    \n",
    "    def get_xtended_key(self):\n",
    "        if self.testnet:\n",
    "            version= 0x04358394.to_bytes(4,\"big\")\n",
    "        else:\n",
    "            version= 0x0488ade4.to_bytes(4,\"big\")\n",
    "        \n",
    "        pre_ser = version+self.depth+self.fingerprint+self.index+self.chain_code+b'\\x00'+self.private_key\n",
    "        return encode_base58_checksum(pre_ser)\n",
    "    \n",
    "    \n",
    "    @classmethod\n",
    "    def from_bip39_seed(cls, seed_int, testnet = False):\n",
    "        I= hmac.new(\n",
    "                    key = b\"Bitcoin seed\",\n",
    "                    msg=seed_int.to_bytes(64,\"big\"),\n",
    "                    digestmod=sha512).digest()\n",
    "        return cls(depth=b'\\x00', fingerprint=b'\\x00'*4, index=b'\\x00'*4, \n",
    "                   chain_code = I[32:], private_key=I[:32], testnet=testnet)\n",
    "        \n",
    "    \n",
    "    @classmethod\n",
    "    def parse(cls,xpk_string):\n",
    "        testnet = None\n",
    "        s = BytesIO(decode_base58_extended(xpk_string))\n",
    "        version = s.read(4)\n",
    "        if version == \"04358394\": \n",
    "            testnet = True\n",
    "        elif version == \"0488ade4\": \n",
    "                testnet = False\n",
    "        depth = s.read(1)\n",
    "        fingerprint = s.read(4)\n",
    "        index= s.read(4)\n",
    "        chain_code = s.read(32)\n",
    "        s.read(1)\n",
    "        privkey = s.read(32)\n",
    "        return cls(depth=depth, fingerprint=fingerprint, index=index, \n",
    "                   chain_code = chain_code, private_key=privkey, testnet=testnet)\n"
   ]
  },
  {
   "cell_type": "code",
   "execution_count": 390,
   "metadata": {},
   "outputs": [],
   "source": [
    "string = \"xprv9s21ZrQH143K3QTDL4LXw2F7HEK3wJUD2nW2nRk4stbPy6cq3jPPqjiChkVvvNKmPGJxWUtg6LnF5kejMRNNU3TGtRBeJgk33yuGBxrMPHi\"\n",
    "master = Xtended_privkey.parse(string)"
   ]
  },
  {
   "cell_type": "code",
   "execution_count": 391,
   "metadata": {},
   "outputs": [
    {
     "data": {
      "text/plain": [
       "xprv9s21ZrQH143K3QTDL4LXw2F7HEK3wJUD2nW2nRk4stbPy6cq3jPPqjiChkVvvNKmPGJxWUtg6LnF5kejMRNNU3TGtRBeJgk33yuGBxrMPHi"
      ]
     },
     "execution_count": 391,
     "metadata": {},
     "output_type": "execute_result"
    }
   ],
   "source": [
    "master"
   ]
  },
  {
   "cell_type": "code",
   "execution_count": 392,
   "metadata": {},
   "outputs": [],
   "source": [
    "child = master.get_child_xtended_key(2**31)"
   ]
  },
  {
   "cell_type": "code",
   "execution_count": 393,
   "metadata": {},
   "outputs": [
    {
     "data": {
      "text/plain": [
       "xprv9uHRZZhk6KAJC1avXpDAp4MDc3sQKNxDiPvvkX8Br5ngLNv1TxvUxt4cV1rGL5hj6KCesnDYUhd7oWgT11eZG7XnxHrnYeSvkzY7d2bhkJ7"
      ]
     },
     "execution_count": 393,
     "metadata": {},
     "output_type": "execute_result"
    }
   ],
   "source": [
    "child"
   ]
  },
  {
   "cell_type": "code",
   "execution_count": 395,
   "metadata": {},
   "outputs": [],
   "source": [
    "test = master.get_child_from_path(\"m/0H/1\")"
   ]
  },
  {
   "cell_type": "code",
   "execution_count": 396,
   "metadata": {},
   "outputs": [
    {
     "data": {
      "text/plain": [
       "xprv9wTYmMFdV23N2TdNG573QoEsfRrWKQgWeibmLntzniatZvR9BmLnvSxqu53Kw1UmYPxLgboyZQaXwTCg8MSY3H2EU4pWcQDnRnrVA1xe8fs"
      ]
     },
     "execution_count": 396,
     "metadata": {},
     "output_type": "execute_result"
    }
   ],
   "source": [
    "test"
   ]
  },
  {
   "cell_type": "code",
   "execution_count": null,
   "metadata": {},
   "outputs": [],
   "source": []
  }
 ],
 "metadata": {
  "kernelspec": {
   "display_name": "Python 3",
   "language": "python",
   "name": "python3"
  },
  "language_info": {
   "codemirror_mode": {
    "name": "ipython",
    "version": 3
   },
   "file_extension": ".py",
   "mimetype": "text/x-python",
   "name": "python",
   "nbconvert_exporter": "python",
   "pygments_lexer": "ipython3",
   "version": "3.7.4"
  }
 },
 "nbformat": 4,
 "nbformat_minor": 4
}
