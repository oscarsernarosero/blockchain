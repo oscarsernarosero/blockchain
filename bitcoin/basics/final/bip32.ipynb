{
 "cells": [
  {
   "cell_type": "code",
   "execution_count": 20,
   "metadata": {},
   "outputs": [],
   "source": [
    "from binascii import hexlify\n",
    "from binascii import unhexlify\n",
    "from hashlib import sha256\n",
    "from hashlib import sha512\n",
    "import hmac\n",
    "from ecc import PrivateKey, S256Point, Signature\n",
    "from helper import encode_base58_checksum, decode_base58, decode_base58_extended, hash160\n",
    "from io import BytesIO, StringIO\n",
    "\n",
    "N = 0xfffffffffffffffffffffffffffffffebaaedce6af48a03bbfd25e8cd0364141"
   ]
  },
  {
   "cell_type": "code",
   "execution_count": 21,
   "metadata": {},
   "outputs": [],
   "source": [
    "def extended_privkey(depth,finger_print,_index,chain_code,privkey, testnet=False):\n",
    "    if testnet:\n",
    "        version= 0x04358394.to_bytes(4,\"big\")\n",
    "    else:\n",
    "        version= 0x0488ade4.to_bytes(4,\"big\")\n",
    "    depth=depth.to_bytes(1,\"big\")\n",
    "    fingerprint =finger_print\n",
    "    index = _index.to_bytes(4,\"big\")\n",
    "    return version+depth+fingerprint+index+chain_code+b'\\x00'+privkey\n",
    "\n",
    "def deserialize_xprvk(s):\n",
    "    version = s.read(4)\n",
    "    depth = s.read(1)\n",
    "    fingerprint = s.read(4)\n",
    "    index= s.read(4)\n",
    "    chain_code = s.read(32)\n",
    "    s.read(1)\n",
    "    privkey = s.read(32)\n",
    "    return [version,depth, fingerprint,index,chain_code,privkey]\n"
   ]
  },
  {
   "cell_type": "code",
   "execution_count": 22,
   "metadata": {},
   "outputs": [],
   "source": [
    "xtprvk = 'xprv9s21ZrQH143K31xYSDQpPDxsXRTUcvj2iNHm5NUtrGiGG5e2DtALGdso3pGz6ssrdK4PFmM8NSpSBHNqPqm55Qn3LqFtT2emdEXVYsCzC2U'\n",
    "decoded =deserialize_xprvk( BytesIO(decode_base58_extended(xtprvk)))\n"
   ]
  },
  {
   "cell_type": "code",
   "execution_count": 23,
   "metadata": {},
   "outputs": [
    {
     "name": "stdout",
     "output_type": "stream",
     "text": [
      "0x488ade4\n",
      "0x0\n",
      "0x0\n",
      "0x0\n",
      "0x60499f801b896d83179a4374aeb7822aaeaceaa0db1f85ee3e904c4defbd9689\n",
      "0x4b03d6fc340455b363f51020ad3ecca4f0850280cf436c70c727923f6db46c3e\n"
     ]
    }
   ],
   "source": [
    "for x in decoded:\n",
    "    print(hex(int.from_bytes(x,\"big\")))"
   ]
  },
  {
   "cell_type": "code",
   "execution_count": 24,
   "metadata": {},
   "outputs": [],
   "source": [
    "master_priv_key = decoded[-1]\n",
    "chain_code = decoded[-2]"
   ]
  },
  {
   "cell_type": "code",
   "execution_count": 25,
   "metadata": {},
   "outputs": [
    {
     "name": "stdout",
     "output_type": "stream",
     "text": [
      "0xbd16bee5\n"
     ]
    }
   ],
   "source": [
    "pub_key = PrivateKey(int.from_bytes(master_priv_key,\"big\")).point.sec()\n",
    "finger_print = hash160(pub_key)[:4]\n",
    "print(hex(int.from_bytes(finger_print,\"big\")))"
   ]
  },
  {
   "cell_type": "code",
   "execution_count": 26,
   "metadata": {},
   "outputs": [],
   "source": [
    "i=0"
   ]
  },
  {
   "cell_type": "code",
   "execution_count": 27,
   "metadata": {},
   "outputs": [
    {
     "name": "stdout",
     "output_type": "stream",
     "text": [
      "I: b'`\\xe3s\\x9c\\xc2\\xc3\\x95\\x0b|M\\x7f2\\xccP>\\x13\\xb9\\x96\\xd0\\xf7\\xa4V#\\xd0\\xa9\\x14\\xe1\\xef\\xa7\\xf8\\x11\\xe0\\xf0\\x90\\x9a\\xff\\xaa~\\xe7\\xab\\xe5\\xddN\\x10\\x05\\x98\\xd4\\xdcS\\xcdp\\x9dZ\\\\,\\xac@\\xe7A/#/|\\x9c'\n"
     ]
    }
   ],
   "source": [
    "if i >= 2**31: hardened=True\n",
    "else: hardened=False\n",
    "    \n",
    "if hardened:\n",
    "    I= hmac.new(\n",
    "                key = chain_code,\n",
    "                msg=b'\\x00' + master_priv_key + i.to_bytes(4,\"big\") ,\n",
    "                digestmod=sha512).digest()\n",
    "\n",
    "    \n",
    "else:\n",
    "    \n",
    "    I= hmac.new(\n",
    "                key = chain_code,\n",
    "                msg=pub_key + i.to_bytes(4,\"big\") ,\n",
    "                digestmod=sha512).digest()\n",
    "    \n",
    "print(f\"I: {I}\")"
   ]
  },
  {
   "cell_type": "code",
   "execution_count": 28,
   "metadata": {},
   "outputs": [],
   "source": [
    "I_L, I_R = I[:32], I[32:]"
   ]
  },
  {
   "cell_type": "code",
   "execution_count": 29,
   "metadata": {},
   "outputs": [
    {
     "data": {
      "text/plain": [
       "'0xabe74a98f6c7eabee0428f53798f0ab8aa1bd37873999041703c742f15ac7e1e'"
      ]
     },
     "execution_count": 29,
     "metadata": {},
     "output_type": "execute_result"
    }
   ],
   "source": [
    "child_privkey_int = (int.from_bytes(I_L,\"big\") + int.from_bytes(master_priv_key,\"big\"))%N\n",
    "hex(child_privkey_int)"
   ]
  },
  {
   "cell_type": "code",
   "execution_count": 30,
   "metadata": {},
   "outputs": [],
   "source": [
    "child_privkey = PrivateKey(child_privkey_int).wif(compressed= True)"
   ]
  },
  {
   "cell_type": "code",
   "execution_count": 31,
   "metadata": {},
   "outputs": [],
   "source": [
    "child_chain_code = I_R"
   ]
  },
  {
   "cell_type": "code",
   "execution_count": 32,
   "metadata": {},
   "outputs": [
    {
     "data": {
      "text/plain": [
       "'L2ysLrR6KMSAtx7uPqmYpoTeiRzydXBattRXjXz5GDFPrdfPzKbj'"
      ]
     },
     "execution_count": 32,
     "metadata": {},
     "output_type": "execute_result"
    }
   ],
   "source": [
    "child_privkey"
   ]
  },
  {
   "cell_type": "code",
   "execution_count": 33,
   "metadata": {},
   "outputs": [
    {
     "data": {
      "text/plain": [
       "'0xf0909affaa7ee7abe5dd4e100598d4dc53cd709d5a5c2cac40e7412f232f7c9c'"
      ]
     },
     "execution_count": 33,
     "metadata": {},
     "output_type": "execute_result"
    }
   ],
   "source": [
    "hex(int.from_bytes(child_chain_code,\"big\"))"
   ]
  },
  {
   "cell_type": "code",
   "execution_count": 34,
   "metadata": {},
   "outputs": [
    {
     "data": {
      "text/plain": [
       "'0x2fc9e5af0ac8d9b3cecfe2a888e2117ba3d089d8585886c9c826b6b22a98d12ea'"
      ]
     },
     "execution_count": 34,
     "metadata": {},
     "output_type": "execute_result"
    }
   ],
   "source": [
    "hex(int.from_bytes(PrivateKey(child_privkey_int).point.sec(),\"big\"))"
   ]
  },
  {
   "cell_type": "code",
   "execution_count": 35,
   "metadata": {},
   "outputs": [
    {
     "data": {
      "text/plain": [
       "'xprv9vHkqa6EV4sPZHYqZznhT2NPtPCjKuDKGY38FBWLvgaDx45zo9WQRUT3dKYnjwih2yJD9mkrocEZXo1ex8G81dwSM1fwqWpWkeS3v86pgKt'"
      ]
     },
     "execution_count": 35,
     "metadata": {},
     "output_type": "execute_result"
    }
   ],
   "source": [
    "xtended_private_key = extended_privkey(1,finger_print,0,child_chain_code,child_privkey_int.to_bytes(32,\"big\"))\n",
    "xtended_private_key = encode_base58_checksum(xtended_private_key)\n",
    "xtended_private_key"
   ]
  },
  {
   "cell_type": "code",
   "execution_count": 36,
   "metadata": {},
   "outputs": [
    {
     "data": {
      "text/plain": [
       "(b'\\xbd\\x16\\xbe\\xe5',)"
      ]
     },
     "execution_count": 36,
     "metadata": {},
     "output_type": "execute_result"
    }
   ],
   "source": [
    " b'\\xbd\\x16\\xbe\\xe5',"
   ]
  },
  {
   "cell_type": "code",
   "execution_count": 37,
   "metadata": {},
   "outputs": [],
   "source": [
    "class Xtended_privkey:\n",
    "    \n",
    "    def __init__(self, depth, fingerprint, index, chain_code, private_key, testnet = False):\n",
    "        \"\"\"\n",
    "        All data must be bytes\n",
    "        \"\"\"\n",
    "        self.testnet = testnet\n",
    "        self.version = None\n",
    "        self.depth = depth\n",
    "        self.fingerprint = fingerprint\n",
    "        self.index = index\n",
    "        self.chain_code = chain_code\n",
    "        self.private_key = private_key\n",
    "        self.private_key_wif = PrivateKey(child_privkey_int).wif()\n",
    "        self.xtended_key = self.get_xtended_key()\n",
    "        self.xtended_public_key = self.extended_public_key()\n",
    "        \n",
    "        \n",
    "    def __repr__(cls):\n",
    "        return cls.get_xtended_key()\n",
    "    \n",
    "    \n",
    "    def get_child_xtended_key(self, i):\n",
    "       \n",
    "        pub_key = PrivateKey(int.from_bytes(self.private_key,\"big\")).point.sec()\n",
    "       \n",
    "        child_fingerprint = hash160(pub_key)[:4]\n",
    "     \n",
    "        if i >= 2**31: \n",
    "            hardened=True\n",
    "            msg=b'\\x00' + self.private_key + i.to_bytes(4,\"big\")\n",
    "        else: \n",
    "            hardened=False\n",
    "            msg=pub_key + i.to_bytes(4,\"big\") \n",
    "\n",
    "        I= hmac.new(\n",
    "                    key = self.chain_code,\n",
    "                    msg=msg,\n",
    "                    digestmod=sha512).digest()\n",
    "        \n",
    "        I_L, I_R = I[:32], I[32:]\n",
    "        \n",
    "        #Check if I_L is grater than N\n",
    "        if int.from_bytes(I_L,\"big\")>=N : return self.get_child_xtended_key(self,i+1)\n",
    "        \n",
    "        \n",
    "        child_privkey_int = (int.from_bytes(I_L,\"big\") + int.from_bytes(self.private_key,\"big\"))%N\n",
    "        \n",
    "        #check if public key is on the curve\n",
    "        if PrivateKey(child_privkey_int).point.sec() is None:\n",
    "            return self.get_child_xtended_key(self,i+1)\n",
    "        #check if private key is 0\n",
    "        if child_privkey_int==0 :\n",
    "            return self.get_child_xtended_key(self,i+1)\n",
    "                           \n",
    "        child_chain_code = I_R\n",
    "        \n",
    "        child_depth = (int.from_bytes(self.depth,\"big\")+1).to_bytes(1,\"big\")\n",
    "        \n",
    "        self.extended_public_key()\n",
    "        return Xtended_privkey(child_depth, child_fingerprint, i.to_bytes(4,\"big\"), \n",
    "                   child_chain_code, child_privkey_int.to_bytes(32,\"big\"),testnet = self.testnet)\n",
    "        \n",
    "        \n",
    "        \n",
    "    def get_child_from_path(self,path_string):\n",
    "        child = self\n",
    "        start = False\n",
    "        begin = 0\n",
    "        hardened = False\n",
    "        for index,char in enumerate(path_string):\n",
    "            \n",
    "            if char == 'm' and index==0:\n",
    "                continue\n",
    "            elif char == '/':\n",
    "                if start:\n",
    "                    if hardened:\n",
    "                        index = int(path_string[begin:index-1])+2**31\n",
    "                        hardened = False\n",
    "                    else:\n",
    "                        index = int(path_string[begin:index])\n",
    "                    child = child.get_child_xtended_key(index)\n",
    "                    start = False\n",
    "                continue\n",
    "            elif char == \"H\" or char == \"h\":\n",
    "                hardened = True\n",
    "                continue\n",
    "                \n",
    "            elif not start:\n",
    "                begin = index\n",
    "                start = True\n",
    "                \n",
    "        if hardened:\n",
    "            index = int(path_string[begin:-1])+2**31\n",
    "            hardened = False\n",
    "        else:\n",
    "            index = int(path_string[begin:])\n",
    "        child = child.get_child_xtended_key(int(index))\n",
    "        return child\n",
    "    \n",
    "    \n",
    "    def get_xtended_key(self):\n",
    "        if self.testnet:\n",
    "            version= 0x04358394.to_bytes(4,\"big\")\n",
    "        else:\n",
    "            version= 0x0488ade4.to_bytes(4,\"big\")\n",
    "        \n",
    "        pre_ser = version+self.depth+self.fingerprint+self.index+self.chain_code+b'\\x00'+self.private_key\n",
    "        return encode_base58_checksum(pre_ser)\n",
    "    \n",
    "    #@classmethod\n",
    "    def get_xtended_public_key(self):\n",
    "        return self.extended_public_key()\n",
    "        \n",
    "        \n",
    "    def extended_public_key(self):\n",
    "        pub_key =  PrivateKey(int.from_bytes(self.private_key,\"big\")).point.sec()\n",
    "        x_pub_key = Xtended_pubkey(self.depth, self.fingerprint, self.index, \n",
    "                   self.chain_code, pub_key,testnet = self.testnet)\n",
    "        self.xtended_public_key = x_pub_key\n",
    "        return x_pub_key\n",
    "        \n",
    "    \n",
    "    \n",
    "    @classmethod\n",
    "    def from_bip39_seed(cls, seed_int, testnet = False):\n",
    "        I= hmac.new(\n",
    "                    key = b\"Bitcoin seed\",\n",
    "                    msg=seed_int.to_bytes(64,\"big\"),\n",
    "                    digestmod=sha512).digest()\n",
    "        return cls(depth=b'\\x00', fingerprint=b'\\x00'*4, index=b'\\x00'*4, \n",
    "                   chain_code = I[32:], private_key=I[:32], testnet=testnet)\n",
    "        \n",
    "    \n",
    "    @classmethod\n",
    "    def parse(cls,xpk_string):\n",
    "        testnet = None\n",
    "        s = BytesIO(decode_base58_extended(xpk_string))\n",
    "        version = s.read(4)\n",
    "        if version == b\"\\x04\\x35\\x83\\x94\": \n",
    "            testnet = True\n",
    "        elif version == b\"\\x04\\x88\\xad\\xe4\": \n",
    "                testnet = False\n",
    "        depth = s.read(1)\n",
    "        fingerprint = s.read(4)\n",
    "        index= s.read(4)\n",
    "        chain_code = s.read(32)\n",
    "        s.read(1)\n",
    "        privkey = s.read(32)\n",
    "        return cls(depth=depth, fingerprint=fingerprint, index=index, \n",
    "                   chain_code = chain_code, private_key=privkey, testnet=testnet)\n"
   ]
  },
  {
   "cell_type": "code",
   "execution_count": 38,
   "metadata": {},
   "outputs": [
    {
     "ename": "NameError",
     "evalue": "name 'Xtended_pubkey' is not defined",
     "output_type": "error",
     "traceback": [
      "\u001b[0;31m---------------------------------------------------------------------------\u001b[0m",
      "\u001b[0;31mNameError\u001b[0m                                 Traceback (most recent call last)",
      "\u001b[0;32m<ipython-input-38-0a0a17e29202>\u001b[0m in \u001b[0;36m<module>\u001b[0;34m\u001b[0m\n\u001b[1;32m      1\u001b[0m \u001b[0mstring\u001b[0m \u001b[0;34m=\u001b[0m \u001b[0;34m\"xprv9s21ZrQH143K3QTDL4LXw2F7HEK3wJUD2nW2nRk4stbPy6cq3jPPqjiChkVvvNKmPGJxWUtg6LnF5kejMRNNU3TGtRBeJgk33yuGBxrMPHi\"\u001b[0m\u001b[0;34m\u001b[0m\u001b[0;34m\u001b[0m\u001b[0m\n\u001b[0;32m----> 2\u001b[0;31m \u001b[0mmaster\u001b[0m \u001b[0;34m=\u001b[0m \u001b[0mXtended_privkey\u001b[0m\u001b[0;34m.\u001b[0m\u001b[0mparse\u001b[0m\u001b[0;34m(\u001b[0m\u001b[0mstring\u001b[0m\u001b[0;34m)\u001b[0m\u001b[0;34m\u001b[0m\u001b[0;34m\u001b[0m\u001b[0m\n\u001b[0m",
      "\u001b[0;32m<ipython-input-37-c22de18067dc>\u001b[0m in \u001b[0;36mparse\u001b[0;34m(cls, xpk_string)\u001b[0m\n\u001b[1;32m    149\u001b[0m         \u001b[0mprivkey\u001b[0m \u001b[0;34m=\u001b[0m \u001b[0ms\u001b[0m\u001b[0;34m.\u001b[0m\u001b[0mread\u001b[0m\u001b[0;34m(\u001b[0m\u001b[0;36m32\u001b[0m\u001b[0;34m)\u001b[0m\u001b[0;34m\u001b[0m\u001b[0;34m\u001b[0m\u001b[0m\n\u001b[1;32m    150\u001b[0m         return cls(depth=depth, fingerprint=fingerprint, index=index, \n\u001b[0;32m--> 151\u001b[0;31m                    chain_code = chain_code, private_key=privkey, testnet=testnet)\n\u001b[0m",
      "\u001b[0;32m<ipython-input-37-c22de18067dc>\u001b[0m in \u001b[0;36m__init__\u001b[0;34m(self, depth, fingerprint, index, chain_code, private_key, testnet)\u001b[0m\n\u001b[1;32m     14\u001b[0m         \u001b[0mself\u001b[0m\u001b[0;34m.\u001b[0m\u001b[0mprivate_key_wif\u001b[0m \u001b[0;34m=\u001b[0m \u001b[0mPrivateKey\u001b[0m\u001b[0;34m(\u001b[0m\u001b[0mchild_privkey_int\u001b[0m\u001b[0;34m)\u001b[0m\u001b[0;34m.\u001b[0m\u001b[0mwif\u001b[0m\u001b[0;34m(\u001b[0m\u001b[0;34m)\u001b[0m\u001b[0;34m\u001b[0m\u001b[0;34m\u001b[0m\u001b[0m\n\u001b[1;32m     15\u001b[0m         \u001b[0mself\u001b[0m\u001b[0;34m.\u001b[0m\u001b[0mxtended_key\u001b[0m \u001b[0;34m=\u001b[0m \u001b[0mself\u001b[0m\u001b[0;34m.\u001b[0m\u001b[0mget_xtended_key\u001b[0m\u001b[0;34m(\u001b[0m\u001b[0;34m)\u001b[0m\u001b[0;34m\u001b[0m\u001b[0;34m\u001b[0m\u001b[0m\n\u001b[0;32m---> 16\u001b[0;31m         \u001b[0mself\u001b[0m\u001b[0;34m.\u001b[0m\u001b[0mxtended_public_key\u001b[0m \u001b[0;34m=\u001b[0m \u001b[0mself\u001b[0m\u001b[0;34m.\u001b[0m\u001b[0mextended_public_key\u001b[0m\u001b[0;34m(\u001b[0m\u001b[0;34m)\u001b[0m\u001b[0;34m\u001b[0m\u001b[0;34m\u001b[0m\u001b[0m\n\u001b[0m\u001b[1;32m     17\u001b[0m \u001b[0;34m\u001b[0m\u001b[0m\n\u001b[1;32m     18\u001b[0m \u001b[0;34m\u001b[0m\u001b[0m\n",
      "\u001b[0;32m<ipython-input-37-c22de18067dc>\u001b[0m in \u001b[0;36mextended_public_key\u001b[0;34m(self)\u001b[0m\n\u001b[1;32m    116\u001b[0m     \u001b[0;32mdef\u001b[0m \u001b[0mextended_public_key\u001b[0m\u001b[0;34m(\u001b[0m\u001b[0mself\u001b[0m\u001b[0;34m)\u001b[0m\u001b[0;34m:\u001b[0m\u001b[0;34m\u001b[0m\u001b[0;34m\u001b[0m\u001b[0m\n\u001b[1;32m    117\u001b[0m         \u001b[0mpub_key\u001b[0m \u001b[0;34m=\u001b[0m  \u001b[0mPrivateKey\u001b[0m\u001b[0;34m(\u001b[0m\u001b[0mint\u001b[0m\u001b[0;34m.\u001b[0m\u001b[0mfrom_bytes\u001b[0m\u001b[0;34m(\u001b[0m\u001b[0mself\u001b[0m\u001b[0;34m.\u001b[0m\u001b[0mprivate_key\u001b[0m\u001b[0;34m,\u001b[0m\u001b[0;34m\"big\"\u001b[0m\u001b[0;34m)\u001b[0m\u001b[0;34m)\u001b[0m\u001b[0;34m.\u001b[0m\u001b[0mpoint\u001b[0m\u001b[0;34m.\u001b[0m\u001b[0msec\u001b[0m\u001b[0;34m(\u001b[0m\u001b[0;34m)\u001b[0m\u001b[0;34m\u001b[0m\u001b[0;34m\u001b[0m\u001b[0m\n\u001b[0;32m--> 118\u001b[0;31m         x_pub_key = Xtended_pubkey(self.depth, self.fingerprint, self.index, \n\u001b[0m\u001b[1;32m    119\u001b[0m                    self.chain_code, pub_key,testnet = self.testnet)\n\u001b[1;32m    120\u001b[0m         \u001b[0mself\u001b[0m\u001b[0;34m.\u001b[0m\u001b[0mxtended_public_key\u001b[0m \u001b[0;34m=\u001b[0m \u001b[0mx_pub_key\u001b[0m\u001b[0;34m\u001b[0m\u001b[0;34m\u001b[0m\u001b[0m\n",
      "\u001b[0;31mNameError\u001b[0m: name 'Xtended_pubkey' is not defined"
     ]
    }
   ],
   "source": [
    "string = \"xprv9s21ZrQH143K3QTDL4LXw2F7HEK3wJUD2nW2nRk4stbPy6cq3jPPqjiChkVvvNKmPGJxWUtg6LnF5kejMRNNU3TGtRBeJgk33yuGBxrMPHi\"\n",
    "master = Xtended_privkey.parse(string)"
   ]
  },
  {
   "cell_type": "code",
   "execution_count": null,
   "metadata": {},
   "outputs": [],
   "source": [
    "master"
   ]
  },
  {
   "cell_type": "code",
   "execution_count": null,
   "metadata": {},
   "outputs": [],
   "source": [
    "master.xtended_public_key"
   ]
  },
  {
   "cell_type": "code",
   "execution_count": null,
   "metadata": {},
   "outputs": [],
   "source": [
    "child = master.get_child_xtended_key(2**31)"
   ]
  },
  {
   "cell_type": "code",
   "execution_count": null,
   "metadata": {},
   "outputs": [],
   "source": [
    "child"
   ]
  },
  {
   "cell_type": "code",
   "execution_count": null,
   "metadata": {},
   "outputs": [],
   "source": [
    "test = master.get_child_from_path(\"m/0H/1\")"
   ]
  },
  {
   "cell_type": "code",
   "execution_count": null,
   "metadata": {},
   "outputs": [],
   "source": [
    "test.get_xtended_public_key()"
   ]
  },
  {
   "cell_type": "code",
   "execution_count": null,
   "metadata": {},
   "outputs": [],
   "source": [
    "test.xtended_key"
   ]
  },
  {
   "cell_type": "code",
   "execution_count": null,
   "metadata": {},
   "outputs": [],
   "source": [
    "#-- TO DO --:\n",
    "#test the private key being 0 or grater than N\n"
   ]
  },
  {
   "cell_type": "code",
   "execution_count": 39,
   "metadata": {},
   "outputs": [],
   "source": [
    "class Xtended_pubkey:\n",
    "    \n",
    "    def __init__(self, depth, fingerprint, index, chain_code, public_key, testnet = False):\n",
    "        \"\"\"\n",
    "        All data must be bytes\n",
    "        \"\"\"\n",
    "        self.testnet = testnet\n",
    "        self.version = None\n",
    "        self.depth = depth\n",
    "        self.fingerprint = fingerprint\n",
    "        self.index = index\n",
    "        self.chain_code = chain_code\n",
    "        self.public_key = public_key\n",
    "        self.xtended_key = None\n",
    "        \n",
    "        \n",
    "    def __repr__(cls):\n",
    "        return cls.get_xtended_key()\n",
    "    \n",
    "    \n",
    "    def get_child_xtended_key(self, i):\n",
    "       \n",
    "        child_fingerprint = hash160(self.public_key)[:4]\n",
    "     \n",
    "        if i >= 2**31: \n",
    "            hardened=True\n",
    "            raise Exception (\"Extended public keys not possible for hardened keys\")\n",
    "        else: \n",
    "            hardened=False\n",
    "            msg=self.public_key + i.to_bytes(4,\"big\") \n",
    "\n",
    "        I= hmac.new(\n",
    "                    key = self.chain_code,\n",
    "                    msg=msg,\n",
    "                    digestmod=sha512).digest()\n",
    "        \n",
    "        I_L, I_R = I[:32], I[32:]\n",
    "        \n",
    "        #Check if I_L is grater than N\n",
    "        if int.from_bytes(I_L,\"big\")>=N : \n",
    "            return self.get_child_xtended_key(self,i+1)\n",
    "        \n",
    "        child_public_key = (PrivateKey(int.from_bytes(I_L,\"big\")).point + S256Point.parse(self.public_key)).sec()\n",
    "        \n",
    "        #check if public key is on the curve\n",
    "        if child_public_key is None:\n",
    "            return self.get_child_xtended_key(self,i+1)\n",
    "                           \n",
    "        child_chain_code = I_R\n",
    "        \n",
    "        child_depth = (int.from_bytes(self.depth,\"big\")+1).to_bytes(1,\"big\")\n",
    "        \n",
    "        return Xtended_pubkey(child_depth, child_fingerprint, i.to_bytes(4,\"big\"), \n",
    "                   child_chain_code, child_public_key,testnet = self.testnet)\n",
    "        \n",
    "        \n",
    "        \n",
    "    def get_child_from_path(self,path_string):\n",
    "        child = self\n",
    "        start = False\n",
    "        begin = 0\n",
    "        hardened = False\n",
    "        for index,char in enumerate(path_string):\n",
    "            \n",
    "            if char == 'm' and index==0:\n",
    "                continue\n",
    "            elif char == '/':\n",
    "                if start:\n",
    "                    if hardened:\n",
    "                        index = int(path_string[begin:index-1])+2**31\n",
    "                        hardened = False\n",
    "                    else:\n",
    "                        index = int(path_string[begin:index])\n",
    "                        \n",
    "                    #######Child creation happens here #######\n",
    "                    child = child.get_child_xtended_key(index)\n",
    "                    start = False\n",
    "                    \n",
    "                continue\n",
    "            elif char == \"H\" or char == \"h\":\n",
    "                hardened = True\n",
    "                continue\n",
    "                \n",
    "            elif not start:\n",
    "                begin = index\n",
    "                start = True\n",
    "                \n",
    "        #Last child created     \n",
    "        if hardened:\n",
    "            index = int(path_string[begin:-1])+2**31\n",
    "            hardened = False\n",
    "        else:\n",
    "            index = int(path_string[begin:])\n",
    "        child = child.get_child_xtended_key(int(index))\n",
    "        return child\n",
    "    \n",
    "    \n",
    "    def get_xtended_key(self):\n",
    "        if self.testnet:\n",
    "            version= 0x043587cf.to_bytes(4,\"big\")\n",
    "        else:\n",
    "            version= 0x0488b21e.to_bytes(4,\"big\")\n",
    "        \n",
    "        pre_ser = version+self.depth+self.fingerprint+self.index+self.chain_code+self.public_key\n",
    "        return encode_base58_checksum(pre_ser)\n",
    "        \n",
    "    \n",
    "    @classmethod\n",
    "    def parse(cls,xpk_string):\n",
    "        testnet = None\n",
    "        s = BytesIO(decode_base58_extended(xpk_string))\n",
    "        version = s.read(4)\n",
    "        if version == b'\\x04\\x35\\x87\\xcf': \n",
    "            testnet = True\n",
    "        elif version == b'\\x04\\x88\\xb2\\x1e': \n",
    "                testnet = False\n",
    "        depth = s.read(1)\n",
    "        fingerprint = s.read(4)\n",
    "        index= s.read(4)\n",
    "        chain_code = s.read(32)\n",
    "        pubkey = s.read(33)\n",
    "        return cls(depth=depth, fingerprint=fingerprint, index=index, \n",
    "                   chain_code = chain_code, public_key=pubkey, testnet=testnet)\n"
   ]
  },
  {
   "cell_type": "code",
   "execution_count": 40,
   "metadata": {},
   "outputs": [],
   "source": [
    "xpb = \"xpub661MyMwAqRbcFW31YEwpkMuc5THy2PSt5bDMsktWQcFF8syAmRUapSCGu8ED9W6oDMSgv6Zz8idoc4a6mr8BDzTJY47LJhkJ8UB7WEGuduB\""
   ]
  },
  {
   "cell_type": "code",
   "execution_count": 41,
   "metadata": {},
   "outputs": [],
   "source": [
    "test1 = Xtended_pubkey.parse(xpb)"
   ]
  },
  {
   "cell_type": "code",
   "execution_count": 42,
   "metadata": {},
   "outputs": [
    {
     "data": {
      "text/plain": [
       "xpub661MyMwAqRbcFW31YEwpkMuc5THy2PSt5bDMsktWQcFF8syAmRUapSCGu8ED9W6oDMSgv6Zz8idoc4a6mr8BDzTJY47LJhkJ8UB7WEGuduB"
      ]
     },
     "execution_count": 42,
     "metadata": {},
     "output_type": "execute_result"
    }
   ],
   "source": [
    "test1"
   ]
  },
  {
   "cell_type": "code",
   "execution_count": 43,
   "metadata": {},
   "outputs": [],
   "source": [
    "child = test1.get_child_from_path(\"m/0\")"
   ]
  },
  {
   "cell_type": "code",
   "execution_count": 44,
   "metadata": {},
   "outputs": [
    {
     "data": {
      "text/plain": [
       "xpub69H7F5d8KSRgmmdJg2KhpAK8SR3DjMwAdkxj3ZuxV27CprR9LgpeyGmXUbC6wb7ERfvrnKZjXoUmmDznezpbZb7ap6r1D3tgFxHmwMkQTPH"
      ]
     },
     "execution_count": 44,
     "metadata": {},
     "output_type": "execute_result"
    }
   ],
   "source": [
    "child"
   ]
  },
  {
   "cell_type": "code",
   "execution_count": 45,
   "metadata": {},
   "outputs": [],
   "source": [
    "#from https://en.bitcoin.it/wiki/BIP_0032\n",
    "\n",
    "test_vector = {\n",
    "    \"xprv9s21ZrQH143K3QTDL4LXw2F7HEK3wJUD2nW2nRk4stbPy6cq3jPPqjiChkVvvNKmPGJxWUtg6LnF5kejMRNNU3TGtRBeJgk33yuGBxrMPHi\":\n",
    "    [\n",
    "        {\"m/0H\":\n",
    "         [\n",
    "             \"xpub68Gmy5EdvgibQVfPdqkBBCHxA5htiqg55crXYuXoQRKfDBFA1WEjWgP6LHhwBZeNK1VTsfTFUHCdrfp1bgwQ9xv5ski8PX9rL2dZXvgGDnw\",\n",
    "             \"xprv9uHRZZhk6KAJC1avXpDAp4MDc3sQKNxDiPvvkX8Br5ngLNv1TxvUxt4cV1rGL5hj6KCesnDYUhd7oWgT11eZG7XnxHrnYeSvkzY7d2bhkJ7\"\n",
    "         ]\n",
    "        },\n",
    "        {\"m/0H/1\":\n",
    "         [\n",
    "             \"xpub6ASuArnXKPbfEwhqN6e3mwBcDTgzisQN1wXN9BJcM47sSikHjJf3UFHKkNAWbWMiGj7Wf5uMash7SyYq527Hqck2AxYysAA7xmALppuCkwQ\",\n",
    "             \"xprv9wTYmMFdV23N2TdNG573QoEsfRrWKQgWeibmLntzniatZvR9BmLnvSxqu53Kw1UmYPxLgboyZQaXwTCg8MSY3H2EU4pWcQDnRnrVA1xe8fs\"\n",
    "         ]\n",
    "        },\n",
    "        {\"m/0H/1/2H\":\n",
    "         [\n",
    "             \"xpub6D4BDPcP2GT577Vvch3R8wDkScZWzQzMMUm3PWbmWvVJrZwQY4VUNgqFJPMM3No2dFDFGTsxxpG5uJh7n7epu4trkrX7x7DogT5Uv6fcLW5\",\n",
    "             \"xprv9z4pot5VBttmtdRTWfWQmoH1taj2axGVzFqSb8C9xaxKymcFzXBDptWmT7FwuEzG3ryjH4ktypQSAewRiNMjANTtpgP4mLTj34bhnZX7UiM\"\n",
    "         ]\n",
    "        },\n",
    "        {\"m/0H/1/2H/2\":\n",
    "         [\n",
    "             \"xpub6FHa3pjLCk84BayeJxFW2SP4XRrFd1JYnxeLeU8EqN3vDfZmbqBqaGJAyiLjTAwm6ZLRQUMv1ZACTj37sR62cfN7fe5JnJ7dh8zL4fiyLHV\",\n",
    "             \"xprvA2JDeKCSNNZky6uBCviVfJSKyQ1mDYahRjijr5idH2WwLsEd4Hsb2Tyh8RfQMuPh7f7RtyzTtdrbdqqsunu5Mm3wDvUAKRHSC34sJ7in334\"\n",
    "         ]\n",
    "        },\n",
    "        {\"m/0H/1/2H/2/1000000000\":\n",
    "         [\n",
    "             \"xpub6H1LXWLaKsWFhvm6RVpEL9P4KfRZSW7abD2ttkWP3SSQvnyA8FSVqNTEcYFgJS2UaFcxupHiYkro49S8yGasTvXEYBVPamhGW6cFJodrTHy\",\n",
    "             \"xprvA41z7zogVVwxVSgdKUHDy1SKmdb533PjDz7J6N6mV6uS3ze1ai8FHa8kmHScGpWmj4WggLyQjgPie1rFSruoUihUZREPSL39UNdE3BBDu76\"\n",
    "         ]\n",
    "        }\n",
    "    ],\n",
    "    \n",
    "    \"xprv9s21ZrQH143K31xYSDQpPDxsXRTUcvj2iNHm5NUtrGiGG5e2DtALGdso3pGz6ssrdK4PFmM8NSpSBHNqPqm55Qn3LqFtT2emdEXVYsCzC2U\":\n",
    "    [\n",
    "        {\"m/0\":\n",
    "         [\n",
    "             \"xpub69H7F5d8KSRgmmdJg2KhpAK8SR3DjMwAdkxj3ZuxV27CprR9LgpeyGmXUbC6wb7ERfvrnKZjXoUmmDznezpbZb7ap6r1D3tgFxHmwMkQTPH\",\n",
    "             \"xprv9vHkqa6EV4sPZHYqZznhT2NPtPCjKuDKGY38FBWLvgaDx45zo9WQRUT3dKYnjwih2yJD9mkrocEZXo1ex8G81dwSM1fwqWpWkeS3v86pgKt\"\n",
    "         ]\n",
    "        },\n",
    "        {\"m/0/2147483647H\":\n",
    "         [\n",
    "             \"xpub6ASAVgeehLbnwdqV6UKMHVzgqAG8Gr6riv3Fxxpj8ksbH9ebxaEyBLZ85ySDhKiLDBrQSARLq1uNRts8RuJiHjaDMBU4Zn9h8LZNnBC5y4a\",\n",
    "             \"xprv9wSp6B7kry3Vj9m1zSnLvN3xH8RdsPP1Mh7fAaR7aRLcQMKTR2vidYEeEg2mUCTAwCd6vnxVrcjfy2kRgVsFawNzmjuHc2YmYRmagcEPdU9\"\n",
    "         ]\n",
    "        },\n",
    "        {\"m/0/2147483647H/1\":\n",
    "         [\n",
    "             \"xpub6DF8uhdarytz3FWdA8TvFSvvAh8dP3283MY7p2V4SeE2wyWmG5mg5EwVvmdMVCQcoNJxGoWaU9DCWh89LojfZ537wTfunKau47EL2dhHKon\",\n",
    "             \"xprv9zFnWC6h2cLgpmSA46vutJzBcfJ8yaJGg8cX1e5StJh45BBciYTRXSd25UEPVuesF9yog62tGAQtHjXajPPdbRCHuWS6T8XA2ECKADdw4Ef\"\n",
    "         ]\n",
    "        },\n",
    "        {\"m/0/2147483647H/1/2147483646H\":\n",
    "         [\n",
    "             \"xpub6ERApfZwUNrhLCkDtcHTcxd75RbzS1ed54G1LkBUHQVHQKqhMkhgbmJbZRkrgZw4koxb5JaHWkY4ALHY2grBGRjaDMzQLcgJvLJuZZvRcEL\",\n",
    "             \"xprvA1RpRA33e1JQ7ifknakTFpgNXPmW2YvmhqLQYMmrj4xJXXWYpDPS3xz7iAxn8L39njGVyuoseXzU6rcxFLJ8HFsTjSyQbLYnMpCqE2VbFWc\"\n",
    "         ]\n",
    "        },\n",
    "        {\"m/0/2147483647H/1/2147483646H/2\":\n",
    "         [\n",
    "             \"xpub6FnCn6nSzZAw5Tw7cgR9bi15UV96gLZhjDstkXXxvCLsUXBGXPdSnLFbdpq8p9HmGsApME5hQTZ3emM2rnY5agb9rXpVGyy3bdW6EEgAtqt\",\n",
    "             \"xprvA2nrNbFZABcdryreWet9Ea4LvTJcGsqrMzxHx98MMrotbir7yrKCEXw7nadnHM8Dq38EGfSh6dqA9QWTyefMLEcBYJUuekgW4BYPJcr9E7j\"\n",
    "         ]\n",
    "        }\n",
    "    ],\n",
    "    \n",
    "    \"xprv9s21ZrQH143K25QhxbucbDDuQ4naNntJRi4KUfWT7xo4EKsHt2QJDu7KXp1A3u7Bi1j8ph3EGsZ9Xvz9dGuVrtHHs7pXeTzjuxBrCmmhgC6\":\n",
    "    [\n",
    "        {\"m/0H\":\n",
    "         [\n",
    "             \"xpub68NZiKmJWnxxS6aaHmn81bvJeTESw724CRDs6HbuccFQN9Ku14VQrADWgqbhhTHBaohPX4CjNLf9fq9MYo6oDaPPLPxSb7gwQN3ih19Zm4Y\",\n",
    "             \"xprv9uPDJpEQgRQfDcW7BkF7eTya6RPxXeJCqCJGHuCJ4GiRVLzkTXBAJMu2qaMWPrS7AANYqdq6vcBcBUdJCVVFceUvJFjaPdGZ2y9WACViL4L\"\n",
    "         ]\n",
    "        \n",
    "        }\n",
    "    ]\n",
    "    \n",
    "    \n",
    "}"
   ]
  },
  {
   "cell_type": "code",
   "execution_count": 46,
   "metadata": {},
   "outputs": [
    {
     "name": "stdout",
     "output_type": "stream",
     "text": [
      "TESING MASTER EXTENDED PRIVATE KEY \n",
      "xprv9s21ZrQH143K3QTDL4LXw2F7HEK3wJUD2nW2nRk4stbPy6cq3jPPqjiChkVvvNKmPGJxWUtg6LnF5kejMRNNU3TGtRBeJgk33yuGBxrMPHi\n",
      "xtended private and public key in vector for path m/0H... OK\n",
      "xtended private and public key in vector for path m/0H/1... OK\n",
      "xtended private and public key in vector for path m/0H/1/2H... OK\n",
      "xtended private and public key in vector for path m/0H/1/2H/2... OK\n",
      "xtended private and public key in vector for path m/0H/1/2H/2/1000000000... OK\n",
      "TESING MASTER EXTENDED PRIVATE KEY \n",
      "xprv9s21ZrQH143K31xYSDQpPDxsXRTUcvj2iNHm5NUtrGiGG5e2DtALGdso3pGz6ssrdK4PFmM8NSpSBHNqPqm55Qn3LqFtT2emdEXVYsCzC2U\n",
      "xtended private and public key in vector for path m/0... OK\n",
      "xtended private and public key in vector for path m/0/2147483647H... OK\n",
      "xtended private and public key in vector for path m/0/2147483647H/1... OK\n",
      "xtended private and public key in vector for path m/0/2147483647H/1/2147483646H... OK\n",
      "xtended private and public key in vector for path m/0/2147483647H/1/2147483646H/2... OK\n",
      "TESING MASTER EXTENDED PRIVATE KEY \n",
      "xprv9s21ZrQH143K25QhxbucbDDuQ4naNntJRi4KUfWT7xo4EKsHt2QJDu7KXp1A3u7Bi1j8ph3EGsZ9Xvz9dGuVrtHHs7pXeTzjuxBrCmmhgC6\n",
      "xtended private and public key in vector for path m/0H... OK\n",
      "\n",
      "TEST PASSED SUCCESSFULLY\n"
     ]
    }
   ],
   "source": [
    "for key_string, derived in test_vector.items():\n",
    "    \n",
    "    master = Xtended_privkey.parse(key_string)\n",
    "    print(f\"TESING MASTER EXTENDED PRIVATE KEY \\n{key_string}\")\n",
    "    for dictionary in derived:\n",
    "        for path, xtended_keys in dictionary.items():\n",
    "            child = master.get_child_from_path(path)\n",
    "            assert str(child.xtended_public_key) == xtended_keys[0] , f\"{child.xtended_public_key} NOT EQUAL {xtended_keys[0]}\"\n",
    "            assert str(child.xtended_key == xtended_keys[1]) , f\"{child.xtended_key} NOT EQUAL {xtended_keys[1]}\"\n",
    "            print(f\"xtended private and public key in vector for path {path}... OK\")\n",
    "            \n",
    "print(\"\\nTEST PASSED SUCCESSFULLY\")  "
   ]
  },
  {
   "cell_type": "code",
   "execution_count": null,
   "metadata": {},
   "outputs": [],
   "source": []
  }
 ],
 "metadata": {
  "kernelspec": {
   "display_name": "Python 3",
   "language": "python",
   "name": "python3"
  },
  "language_info": {
   "codemirror_mode": {
    "name": "ipython",
    "version": 3
   },
   "file_extension": ".py",
   "mimetype": "text/x-python",
   "name": "python",
   "nbconvert_exporter": "python",
   "pygments_lexer": "ipython3",
   "version": "3.7.3"
  }
 },
 "nbformat": 4,
 "nbformat_minor": 4
}
