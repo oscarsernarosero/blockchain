{
 "cells": [
  {
   "cell_type": "code",
   "execution_count": 7,
   "metadata": {},
   "outputs": [],
   "source": [
    "import sqlite3\n",
    "from sqlite3 import Error"
   ]
  },
  {
   "cell_type": "code",
   "execution_count": 8,
   "metadata": {},
   "outputs": [],
   "source": [
    "def create_connection(db_file):\n",
    "    \"\"\" create a database connection to a SQLite database \"\"\"\n",
    "    conn = None\n",
    "    try:\n",
    "        conn = sqlite3.connect(db_file)\n",
    "        return conn\n",
    "        \n",
    "    except Error as e:\n",
    "        print(e)\n",
    "    \n",
    "    #finally:\n",
    "        #if conn:\n",
    "            #conn.close()\n",
    "\n",
    "\n",
    "\n",
    "db = create_connection(r\"database/wallet_db.db\")"
   ]
  },
  {
   "cell_type": "code",
   "execution_count": 9,
   "metadata": {},
   "outputs": [],
   "source": [
    "def execute_w_res(conn, query):\n",
    "    try:\n",
    "        c = conn.cursor()\n",
    "        result = c.execute(query)\n",
    "        return result.fetchall()\n",
    "    except Error as e:\n",
    "        print(e)\n",
    "        return None\n",
    "\n",
    "def execute(conn, query):\n",
    "    try:\n",
    "        c = conn.cursor()\n",
    "        c.execute(query)\n",
    "        return True\n",
    "    except Error as e:\n",
    "        print(e)\n",
    "        return None"
   ]
  },
  {
   "cell_type": "code",
   "execution_count": 66,
   "metadata": {},
   "outputs": [],
   "source": [
    "def create_wallet_table(conn):\n",
    "    query1 =  f\"CREATE TABLE IF NOT EXISTS Wallets ( xprv text NOT NULL PRIMARY KEY,\\n \"\n",
    "    query2 = f\"name text UNIQUE, words text NOT NULL) WITHOUT ROWID;\"\n",
    "    query = query1+query2\n",
    "    #print(query)\n",
    "    return execute(conn, query)\n",
    "\n",
    "def create_address_table(conn):\n",
    "    query1 =f\"CREATE TABLE IF NOT EXISTS Addresses ( address text NOT NULL PRIMARY KEY,\\nacc_index INT NOT NULL,\"\n",
    "    query2 = \"\\npath text NOT NULL,\\nchange_addr INT NOT NULL,\\ncreated INT NOT NULL,\\nwallet text NOT NULL,\\nFOREIGN KEY (wallet) \"\n",
    "    query3 = \"\\nREFERENCES Wallets(xprv) ) WITHOUT ROWID ;\"\n",
    "    query = query1 + query2 + query3\n",
    "    #print(query)\n",
    "    return execute(conn, query)\n",
    "\n",
    "def create_utxo_table(conn):\n",
    "    query1 =f\"CREATE TABLE IF NOT EXISTS Utxos ( address text NOT NULL,\\namount INT NOT NULL,\\ntx_id text NOT NULL,\"\n",
    "    query2 = \"\\nout_index INT NOT NULL,\\ncreated INT NOT NULL,\\nspent INT NOT NULL,\\nconfirmed INT NOT NULL, \"\n",
    "    query3 = \"\\nPRIMARY KEY (tx_id, out_index)\\nFOREIGN KEY (address)\\nREFERENCES Addresses(address) );\"\n",
    "    query = query1 + query2 + query3\n",
    "    #print(query)\n",
    "    return execute(conn, query)\n",
    "\n",
    "def create_transaction_table(conn):\n",
    "    query1 =f\"CREATE TABLE IF NOT EXISTS Transactions ( tx_id text NOT NULL PRIMARY KEY,\\nlock_time INT,\\nversion INT,\\n\"\n",
    "    query2 = \"\\nn_confirmations INT NOT NULL,\\ncreated INT NOT NULL)  WITHOUT ROWID ;\"\n",
    "    query = query1 + query2\n",
    "    #print(query)\n",
    "    return execute(conn, query)\n",
    "\n",
    "def create_tx_in_table(conn):\n",
    "    query1 =f\"CREATE TABLE IF NOT EXISTS Tx_Ins ( tx_id text NOT NULL, out_index INT NOT NULL,\\nspent_by text NOT NULL,\\n\"\n",
    "    query2 = \"FOREIGN KEY (tx_id,out_index)\\nREFERENCES Utxo(tx_id,out_index) \\n \"\n",
    "    query3 = \"FOREIGN KEY (spent_by)\\nREFERENCES Transactions(tx_id) )  WITHOUT ROWID ;\"\n",
    "    query = query1 + query2 + query3\n",
    "    #print(query)\n",
    "    return execute(conn, query)\n",
    "\n",
    "def create_tx_out_table(conn):\n",
    "    query1 =f\"CREATE TABLE IF NOT EXISTS Tx_Outs ( out_index INT NOT NULL,\\n amount INT NOT NULL,\\ncreated_by text NOT NULL,\\n\"\n",
    "    query2 = \"script_pubkey text NOT NULL, \\n PRIMARY KEY (created_by, out_index)\\n\"\n",
    "    query3 = \"FOREIGN KEY (created_by)\\nREFERENCES Transactions(tx_id) )  WITHOUT ROWID ;\"\n",
    "    query = query1 + query2 + query3\n",
    "    #print(query)\n",
    "    return execute(conn, query)\n",
    "\n",
    "def create_tables(conn):\n",
    "    create_wallet_table(conn)\n",
    "    create_address_table(conn)\n",
    "    create_utxo_table(conn)\n",
    "    create_transaction_table(conn)\n",
    "    create_tx_in_table(conn)\n",
    "    create_tx_out_table(conn)\n",
    "    return True\n",
    "\n",
    "\n",
    "def new_wallet(conn, xprv, words, name = None ):\n",
    "    \"\"\"\n",
    "    Creates a new wallet in the database.\n",
    "    conn: conn: internal database driver transaction.\n",
    "    xprv: String; extended private key of the wallet.\n",
    "    words: String; The mnemonic phrase of the wallet.\n",
    "    name: String Optional. This is an alias for the wallet if user prefers it.\n",
    "    \"\"\"\n",
    "    query1 = \"INSERT INTO Wallets (xprv, words, name)\\n \"\n",
    "    query2 = f\"VALUES('{xprv}', '{words}', '{name}') ;\"\n",
    "    query = query1+query2\n",
    "    #print(query)\n",
    "    return execute(conn, query)\n",
    "\n",
    "def new_address(conn, address, path, acc_index, change_addr, created, wallet):\n",
    "    \"\"\"\n",
    "    Creates a new address in the database.\n",
    "    conn: internal database driver transaction.\n",
    "    address: String; the address to create.\n",
    "    path: String; the path in wich the address is created until the account level. i.e. \"m/44'/0'/0'/\"\n",
    "    as a standard, it must start with m and end with /\n",
    "    acc_index: int; account index. This would be the last part of the path.\n",
    "    change_addr: int, 0=False, 1=True; if the address is a \"change adrress\" then 1 (True). Otherwise 0 (False).\n",
    "    created: int; timestamp.\n",
    "    wallet: String; the xtended private key of the wallet.\n",
    "    \"\"\"\n",
    "    query1 = \"INSERT INTO Addresses (address, path, acc_index, change_addr, created, wallet)\\n \"\n",
    "    query2 = f'VALUES(\"{address}\", \"{path}\", {acc_index}, {change_addr}, {created}, \"{wallet}\") ;'\n",
    "    query = query1+query2\n",
    "    #print(query)\n",
    "    return execute(conn, query)\n",
    "\n",
    "def new_utxo(conn, address, amount, tx_id, out_index, created, spent=0, confirmed=0):\n",
    "    \"\"\"\n",
    "    Creates new utxo in the database.\n",
    "    conn: internal database driver transaction.\n",
    "    address: the base58 representation of the address that holds the utxo.\n",
    "    tx_id: String, the tx id or hash of the transaction the generated the utxo.\n",
    "    out_index: Int, the index of the output in the transaction that generated the utxo.\n",
    "    amount: Int, the amount of SATOSHIS that the utxo holds.\n",
    "    created: timestamp\n",
    "    spent: Int, 0=False, 1=True; if the utxo has been spent by a transaction then 1 (True).\n",
    "    confirmed: Int, 0=False, 1=True; if the transaction has less than 6 confirmations then 0 (False).\n",
    "    \"\"\"\n",
    "    query1 = \"INSERT INTO Utxos (address, amount, tx_id, out_index, created, spent, confirmed)\\n \"\n",
    "    query2 = f\"VALUES('{address}', {amount}, '{tx_id}', {out_index}, {created}, {spent}, {confirmed});\"\n",
    "    query = query1+query2\n",
    "    #print(query)\n",
    "    return execute(conn, query)\n",
    "\n",
    "def new_tx(conn, tx_id, tx_ins, tx_outs, created n_confirmations = 0, lock_time=0, version=1 ):\n",
    "    \"\"\"\n",
    "    tx_id: String. transaction id.\n",
    "    tx_ins: List of touples: [ (prev_tx_id, index), ... ]\n",
    "    tx_outs: List of touples: [ (out_index, amount, script_pubkey), ... ]\n",
    "    created: int; timestamp.\n",
    "    n_confirmations: int; number of confirmations in the blockchain.\n",
    "    lock_time: Int: transaction locktime.\n",
    "    version: Int: version.\n",
    "    \"\"\"\n",
    "    query1 = \"INSERT INTO Transactions ( tx_id, created, n_confirmations, lock_time, version)\\n \"\n",
    "    query2 = f\"VALUES('{tx_id}', {created}, {n_confirmations}, {lock_time}, {version});\"\n",
    "    query = query1+query2\n",
    "    execute(conn, query)\n",
    "    \n",
    "    for tx_in in tx_ins:\n",
    "        query3 = \"INSERT INTO Tx_Ins ( tx_id, out_index, spent_by)\\n \"\n",
    "        query4 = f\"VALUES( '{tx_in[0]}', {tx_in[1]}, '{tx_id}');\"\n",
    "        query = query3+query4\n",
    "        execute(conn, query)\n",
    "        \n",
    "    for tx_out in tx_outs:\n",
    "        query5 = \"INSERT INTO Tx_Outs ( out_index, amount, script_pubkey, created_by)\\n \"\n",
    "        query6 = f\"VALUES( {tx_out[0]}, {tx_out[1]}, '{tx_out[2]}', '{tx_id}');\"\n",
    "        query = query5+query6\n",
    "        execute(conn, query)\n",
    "    \n",
    "    return True\n",
    "\n",
    "\n",
    "def update_confirmations(conn, tx_id, n_confirmations):\n",
    "    \"\"\"\n",
    "    Updates the number of confirmations for a transaction to later confirm the transaction was broadcasted.\n",
    "    conn: internal database driver transaction.\n",
    "    tx_id: String, the id or hash of the transaction being broadcasted.\n",
    "    n_confirmations: Int, the number of confirmations.\n",
    "    \"\"\"\n",
    "    query = f\"UPDATE Transactions \\nSET n_confirmations = {n_confirmations} WHERE tx_id = '{tx_id}'\"\n",
    "    return execute(conn, query)\n",
    "        \n",
    "\n",
    "def spend_utxo(conn, tx_id, out_index):\n",
    "    query = f\"UPDATE Utxos \\nSET spent = 1 \\nWHERE tx_id = '{tx_id}' AND out_index = {out_index} \"\n",
    "    return execute(conn, query)\n",
    "    \n",
    "def spend_utxo(conn, tx_id, out_index):\n",
    "    \"\"\"\n",
    "    Updates the state of an exisiting utxo to \"spent=True\" once the transaction was broadcasted successfully and confirmed.\n",
    "    conn: internal database driver transaction.\n",
    "    tx_id: String, the id or hash of the transaction that created the utxo (previous transaction).\n",
    "    out_index: index of the utxo in the previous transaction.\n",
    "    \"\"\"\n",
    "    query = f\"UPDATE Utxos \\nSET spent = 1 \\nWHERE tx_id = '{tx_id}' AND out_index = {out_index} \"\n",
    "    return execute(conn, query)\n",
    "\n",
    "def clean_addresses(conn):\n",
    "    \"\"\"\n",
    "    Not necessary in this implementation.\n",
    "    \"\"\"\n",
    "    pass\n",
    "\n",
    "def look_for_coins(conn, wallet):\n",
    "    \"\"\"\n",
    "    Searches the database for utxos that haven't been spent for the specific wallet.\n",
    "    conn: internal database driver transaction.\n",
    "    wallet: String, The wallet extended private key.\n",
    "    Returns: List of touples [(tx_id, out_index, amount)]\n",
    "    \"\"\"\n",
    "    query1 = f\"SELECT tx_id, out_index, amount\\n FROM Utxos INNER JOIN Addresses \\n\"\n",
    "    query2 = f\"ON Utxos.address = Addresses.address\\nWHERE Utxos.spent = 0 AND Addresses.wallet = '{wallet}';\"\n",
    "    query = query1 + query2\n",
    "    return execute_w_res(conn, query)\n",
    "    \n",
    "def get_unused_addresses(conn,wallet, days_range=None, max_days=None):\n",
    "    \"\"\"\n",
    "    Searches the database for addresses that haven't been used in the specific wallet.\n",
    "    tx: internal database driver transaction.\n",
    "    xprv: String, The wallet extended private key.\n",
    "    max_days: how far away should the app look for the unused address in the pass. The limit is 30 since the app deletes \n",
    "    unused addresses after a month of creation.\n",
    "    days_range: number of days for the range in which to look for the address. The range will start\n",
    "    in day_range days before the max_days day (starting_day = (max_days - days_range)).\n",
    "\n",
    "    days_range and max_days should be either both specified or neither specified. If they are not, both values will be\n",
    "    automatically set to 30 making the search to happen from now to the last 30 days. If only one of them is specified, \n",
    "    the function will throw an exception.\n",
    "    \"\"\"\n",
    "    if days_range is None and max_days is None:\n",
    "        query1 = f\"SELECT address \\nFROM Addresses WHERE\\nNOT EXISTS(\\nSELECT 1 \\n FROM Utxos\"\n",
    "        query2 = f\"\\nWHERE Utxos.address = Addresses.address) \\nAND\\n Addresses.wallet = '{wallet}';\"\n",
    "        query = query1 + query2\n",
    "        #print(query)\n",
    "        return execute_w_res(conn, query)\n",
    "    \n",
    "    elif (days_range is None or max_days is None) and (days_range != max_days):\n",
    "        raise Exception(\"Arguments days_range and max_days must be either both specified or neither one specified.\")\n",
    "            \n",
    "    else:\n",
    "        MILSEC_PER_DAY = 86400000\n",
    "        finish_day = max_days * MILSEC_PER_DAY\n",
    "        start_day = finish_day - days_range*MILSEC_PER_DAY\n",
    "        now = 0#SOLVE THIS!!!!\n",
    "        query1 = f\"SELECT address \\nFROM Addresses WHERE\\nNOT EXISTS(\\nSELECT 1 \\n FROM Utxos\"\n",
    "        query2 = f\"\\nWHERE Utxos.address = Addresses.address) \\nAND\\n Addresses.wallet = '{wallet}'\"\n",
    "        query3 = f\"\\nAND\\n ({now} - Addresses.created) > {start_day} AND ({now} - Addresses.created) < {finish_day} ';\"\n",
    "        query = query1 + query2 + query3\n",
    "        #print(query)\n",
    "        return execute_w_res(conn, query)\n",
    "    \n",
    "def get_all_addresses(conn,wallet):\n",
    "    \"\"\"\n",
    "    Returns all the addresses in the database for the specific wallet.\n",
    "    conn: internal database driver transaction.\n",
    "    wallet: String, The wallet extended private key.\n",
    "    \"\"\"\n",
    "    query = f\"SELECT address \\nFROM Addresses WHERE wallet = '{wallet}'; \"\n",
    "    return execute_w_res(conn, query)\n",
    "\n",
    "def exist_utxo(conn, tx_id, out_index, confirmed):\n",
    "    \"\"\"\n",
    "    Returns True if the utxo already exists in the database. False if it doesn't. It also updates\n",
    "    the \"confirmed\" property of the utxo if necessary.\n",
    "    tx: internal database driver transaction.\n",
    "    tx_id: String, the tx id or hash of the transaction the generated the utxo.\n",
    "    out_index: Int, the index of the output in the transaction that generated the utxo.\n",
    "    confirmed: Int/Boolean 0=False, 1=True; the current state of confirmation of the transaction in the actual blockchain.\n",
    "    \"\"\"\n",
    "    query = f\"SELECT * FROM Utxos WHERE  tx_id = '{tx_id}' AND out_index = {out_index}\"\n",
    "    result = execute_w_res(conn, query)\n",
    "    if len(result)>0:\n",
    "        if result[0][6] != confirmed:\n",
    "            query = f\"UPDATE Utxos \\nSET confirmed = {confirmed} WHERE tx_id = '{tx_id}' AND out_index = {out_index} \"\n",
    "            result = execute_w_res(conn, query)\n",
    "            \n",
    "    return True\n",
    "\n",
    "def does_table_exist(conn, table):\n",
    "    query = f\"SELECT name FROM sqlite_master WHERE type='table' AND name='{table}';\"\n",
    "    return execute_w_res(conn, query)\n",
    "\n",
    "#def create_address(conn, address,i,change_addr,wallet_xprv):\n",
    "    "
   ]
  },
  {
   "cell_type": "code",
   "execution_count": 40,
   "metadata": {},
   "outputs": [
    {
     "name": "stdout",
     "output_type": "stream",
     "text": [
      "CREATE TABLE IF NOT EXISTS Addresses ( address text NOT NULL PRIMARY KEY,\n",
      "acc_index INT NOT NULL,\n",
      "path text NOT NULL,\n",
      "change_addr INT NOT NULL,\n",
      "created INT NOT NULL,\n",
      "wallet text NOT NULL,\n",
      "FOREIGN KEY (wallet) \n",
      "REFERENCES Wallets(xprv) ) WITHOUT ROWID ;\n",
      "CREATE TABLE IF NOT EXISTS Utxos ( address text NOT NULL,\n",
      "amount INT NOT NULL,\n",
      "tx_id text NOT NULL,\n",
      "out_index INT NOT NULL,\n",
      "created INT NOT NULL,\n",
      "spent INT NOT NULL,\n",
      "confirmed INT NOT NULL, \n",
      "PRIMARY KEY (tx_id, out_index)\n",
      "FOREIGN KEY (address)\n",
      "REFERENCES Addresses(address) );\n",
      "CREATE TABLE IF NOT EXISTS Transactions ( tx_id text NOT NULL PRIMARY KEY,\n",
      "lock_time INT,\n",
      "version INT,\n",
      "\n",
      "confirmations INT NOT NULL,\n",
      "created INT NOT NULL)  WITHOUT ROWID ;\n",
      "CREATE TABLE IF NOT EXISTS Tx_Ins ( tx_id text NOT NULL, out_index INT NOT NULL,\n",
      "spent_by text NOT NULL,\n",
      "FOREIGN KEY (tx_id,out_index)\n",
      "REFERENCES Utxo(tx_id,out_index) \n",
      " FOREIGN KEY (spent_by)\n",
      "REFERENCES Transactions(tx_id) )  WITHOUT ROWID ;\n",
      "PRIMARY KEY missing on table Tx_Ins\n",
      "CREATE TABLE IF NOT EXISTS Tx_Outs ( out_index INT NOT NULL,\n",
      " amount INT NOT NULL,\n",
      "created_by text NOT NULL,\n",
      "script_pubkey text NOT NULL, \n",
      " PRIMARY KEY (created_by, out_index)\n",
      "FOREIGN KEY (created_by)\n",
      "REFERENCES Transactions(tx_id) )  WITHOUT ROWID ;\n"
     ]
    },
    {
     "data": {
      "text/plain": [
       "True"
      ]
     },
     "execution_count": 40,
     "metadata": {},
     "output_type": "execute_result"
    }
   ],
   "source": [
    "res = create_tables(db)\n",
    "res"
   ]
  },
  {
   "cell_type": "code",
   "execution_count": 17,
   "metadata": {},
   "outputs": [
    {
     "name": "stdout",
     "output_type": "stream",
     "text": [
      "CREATE TABLE IF NOT EXISTS Addresses ( address text PRIMARY KEY,\n",
      "acc_index INT NOT NULL UNIQUE,\n",
      "change_addr INT NOT NULL,\n",
      "created INT NOT NULL,\n",
      "wallet text NOT NULL,\n",
      "FOREIGN KEY (wallet) \n",
      "REFERENCES Wallets(xprv) ) WITHOUT ROWID ;\n"
     ]
    }
   ],
   "source": [
    "res = create_address_table(db)"
   ]
  },
  {
   "cell_type": "code",
   "execution_count": 18,
   "metadata": {},
   "outputs": [
    {
     "data": {
      "text/plain": [
       "True"
      ]
     },
     "execution_count": 18,
     "metadata": {},
     "output_type": "execute_result"
    }
   ],
   "source": [
    "res"
   ]
  },
  {
   "cell_type": "code",
   "execution_count": 29,
   "metadata": {},
   "outputs": [],
   "source": [
    "res = does_table_exist(db,\"Wallets\")"
   ]
  },
  {
   "cell_type": "code",
   "execution_count": 30,
   "metadata": {},
   "outputs": [
    {
     "data": {
      "text/plain": [
       "[]"
      ]
     },
     "execution_count": 30,
     "metadata": {},
     "output_type": "execute_result"
    }
   ],
   "source": [
    "res"
   ]
  },
  {
   "cell_type": "code",
   "execution_count": 25,
   "metadata": {},
   "outputs": [],
   "source": [
    "f = db.cursor().execute(\"DROP TABLE Addresses\")"
   ]
  },
  {
   "cell_type": "code",
   "execution_count": 6,
   "metadata": {},
   "outputs": [],
   "source": [
    "db.close()"
   ]
  },
  {
   "cell_type": "code",
   "execution_count": 43,
   "metadata": {},
   "outputs": [
    {
     "name": "stdout",
     "output_type": "stream",
     "text": [
      "INSERT INTO Wallets (xprv, words, name)\n",
      " VALUES('tprv8ZgxMBicQKsPfQJYjuFAso9x6STzmUdMh5U8CQqqQUTgtQHBHCq4C7FseeeZg15L16UeSwbrLwJRTXNPQsJQwqvbBA11sn4M6c3jR1LwAQP', 'engine over neglect science fatigue dawn axis parent mind man escape era goose border invest slab relax bind desert hurry useless lonely frozen morning', 'None') ;\n"
     ]
    }
   ],
   "source": [
    "xprv =\"tprv8ZgxMBicQKsPfQJYjuFAso9x6STzmUdMh5U8CQqqQUTgtQHBHCq4C7FseeeZg15L16UeSwbrLwJRTXNPQsJQwqvbBA11sn4M6c3jR1LwAQP\"\n",
    "words = \"engine over neglect science fatigue dawn axis parent mind man escape era goose border invest slab relax bind desert hurry useless lonely frozen morning\"\n",
    "res = new_wallet(db, xprv, words)"
   ]
  },
  {
   "cell_type": "code",
   "execution_count": 44,
   "metadata": {},
   "outputs": [
    {
     "data": {
      "text/plain": [
       "True"
      ]
     },
     "execution_count": 44,
     "metadata": {},
     "output_type": "execute_result"
    }
   ],
   "source": [
    "res"
   ]
  },
  {
   "cell_type": "code",
   "execution_count": 46,
   "metadata": {},
   "outputs": [
    {
     "data": {
      "text/plain": [
       "True"
      ]
     },
     "execution_count": 46,
     "metadata": {},
     "output_type": "execute_result"
    }
   ],
   "source": [
    "res = new_address(db, \"first_address\", \"m/0'/0'/\", 0, 0, 111111111, xprv)\n",
    "res"
   ]
  },
  {
   "cell_type": "code",
   "execution_count": 47,
   "metadata": {},
   "outputs": [
    {
     "data": {
      "text/plain": [
       "True"
      ]
     },
     "execution_count": 47,
     "metadata": {},
     "output_type": "execute_result"
    }
   ],
   "source": [
    "res = new_utxo(db, \"first_address\", 22222, \"transaction_0\", 0, 111111112, confirmed=6)\n",
    "res"
   ]
  },
  {
   "cell_type": "code",
   "execution_count": 50,
   "metadata": {},
   "outputs": [],
   "source": [
    "utxos = look_for_coins(db, xprv)"
   ]
  },
  {
   "cell_type": "code",
   "execution_count": 51,
   "metadata": {},
   "outputs": [
    {
     "data": {
      "text/plain": [
       "[('transaction_0', 0, 22222)]"
      ]
     },
     "execution_count": 51,
     "metadata": {},
     "output_type": "execute_result"
    }
   ],
   "source": [
    "utxos"
   ]
  },
  {
   "cell_type": "code",
   "execution_count": 56,
   "metadata": {},
   "outputs": [
    {
     "data": {
      "text/plain": [
       "[]"
      ]
     },
     "execution_count": 56,
     "metadata": {},
     "output_type": "execute_result"
    }
   ],
   "source": [
    "unused_addresses = get_unused_addresses(db,xprv)\n",
    "unused_addresses"
   ]
  },
  {
   "cell_type": "code",
   "execution_count": 57,
   "metadata": {},
   "outputs": [
    {
     "data": {
      "text/plain": [
       "True"
      ]
     },
     "execution_count": 57,
     "metadata": {},
     "output_type": "execute_result"
    }
   ],
   "source": [
    "res = new_address(db, \"second_address\", \"m/0'/0'/\", 1, 1, 111111111, xprv)\n",
    "res"
   ]
  },
  {
   "cell_type": "code",
   "execution_count": 65,
   "metadata": {},
   "outputs": [
    {
     "name": "stdout",
     "output_type": "stream",
     "text": [
      "SELECT address \n",
      "FROM Addresses WHERE\n",
      "NOT EXISTS(\n",
      "SELECT 1 \n",
      " FROM Utxos\n",
      "WHERE Utxos.address = Addresses.address) \n",
      "AND\n",
      " Addresses.wallet = 'tprv8ZgxMBicQKsPfQJYjuFAso9x6STzmUdMh5U8CQqqQUTgtQHBHCq4C7FseeeZg15L16UeSwbrLwJRTXNPQsJQwqvbBA11sn4M6c3jR1LwAQP';\n"
     ]
    },
    {
     "data": {
      "text/plain": [
       "[('second_address',)]"
      ]
     },
     "execution_count": 65,
     "metadata": {},
     "output_type": "execute_result"
    }
   ],
   "source": [
    "unused_addresses = get_unused_addresses(db,xprv)\n",
    "unused_addresses"
   ]
  },
  {
   "cell_type": "code",
   "execution_count": 59,
   "metadata": {},
   "outputs": [],
   "source": [
    "f = db.cursor().execute(\"SELECT * FROM Addresses\")"
   ]
  },
  {
   "cell_type": "code",
   "execution_count": 61,
   "metadata": {},
   "outputs": [
    {
     "data": {
      "text/plain": [
       "[('first_address',\n",
       "  0,\n",
       "  \"m/0'/0'/\",\n",
       "  0,\n",
       "  111111111,\n",
       "  'tprv8ZgxMBicQKsPfQJYjuFAso9x6STzmUdMh5U8CQqqQUTgtQHBHCq4C7FseeeZg15L16UeSwbrLwJRTXNPQsJQwqvbBA11sn4M6c3jR1LwAQP'),\n",
       " ('second_address',\n",
       "  1,\n",
       "  \"m/0'/0'/\",\n",
       "  1,\n",
       "  111111111,\n",
       "  'tprv8ZgxMBicQKsPfQJYjuFAso9x6STzmUdMh5U8CQqqQUTgtQHBHCq4C7FseeeZg15L16UeSwbrLwJRTXNPQsJQwqvbBA11sn4M6c3jR1LwAQP')]"
      ]
     },
     "execution_count": 61,
     "metadata": {},
     "output_type": "execute_result"
    }
   ],
   "source": [
    "f.fetchall()"
   ]
  },
  {
   "cell_type": "code",
   "execution_count": null,
   "metadata": {},
   "outputs": [],
   "source": []
  }
 ],
 "metadata": {
  "kernelspec": {
   "display_name": "Python 3",
   "language": "python",
   "name": "python3"
  },
  "language_info": {
   "codemirror_mode": {
    "name": "ipython",
    "version": 3
   },
   "file_extension": ".py",
   "mimetype": "text/x-python",
   "name": "python",
   "nbconvert_exporter": "python",
   "pygments_lexer": "ipython3",
   "version": "3.7.3"
  }
 },
 "nbformat": 4,
 "nbformat_minor": 2
}
