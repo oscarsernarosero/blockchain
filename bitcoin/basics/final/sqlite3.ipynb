{
 "cells": [
  {
   "cell_type": "code",
   "execution_count": 1,
   "metadata": {},
   "outputs": [],
   "source": [
    "from wallet_database_sqlite3 import Sqlite3Wallet"
   ]
  },
  {
   "cell_type": "code",
   "execution_count": 2,
   "metadata": {},
   "outputs": [
    {
     "name": "stdout",
     "output_type": "stream",
     "text": [
      "connection with database made.\n"
     ]
    }
   ],
   "source": [
    "db = Sqlite3Wallet()"
   ]
  },
  {
   "cell_type": "code",
   "execution_count": 3,
   "metadata": {},
   "outputs": [
    {
     "data": {
      "text/plain": [
       "<sqlite3.Connection at 0x7fa4941502d0>"
      ]
     },
     "execution_count": 3,
     "metadata": {},
     "output_type": "execute_result"
    }
   ],
   "source": [
    "db.conn"
   ]
  },
  {
   "cell_type": "code",
   "execution_count": 4,
   "metadata": {},
   "outputs": [
    {
     "name": "stdout",
     "output_type": "stream",
     "text": [
      "database is locked\n",
      "database is locked\n"
     ]
    },
    {
     "data": {
      "text/plain": [
       "True"
      ]
     },
     "execution_count": 4,
     "metadata": {},
     "output_type": "execute_result"
    }
   ],
   "source": [
    "#db.erase_database()"
   ]
  },
  {
   "cell_type": "code",
   "execution_count": 6,
   "metadata": {},
   "outputs": [
    {
     "data": {
      "text/plain": [
       "True"
      ]
     },
     "execution_count": 6,
     "metadata": {},
     "output_type": "execute_result"
    }
   ],
   "source": [
    "res = db.create_tables()\n",
    "res"
   ]
  },
  {
   "cell_type": "code",
   "execution_count": 4,
   "metadata": {},
   "outputs": [
    {
     "data": {
      "text/plain": [
       "[('Wallets',)]"
      ]
     },
     "execution_count": 4,
     "metadata": {},
     "output_type": "execute_result"
    }
   ],
   "source": [
    "res = db.does_table_exist(\"Wallets\")\n",
    "res"
   ]
  },
  {
   "cell_type": "code",
   "execution_count": 9,
   "metadata": {},
   "outputs": [
    {
     "name": "stdout",
     "output_type": "stream",
     "text": [
      "SELECT first_name, last_name, phone, position, xpub FROM Contacts\n",
      "\n"
     ]
    },
    {
     "data": {
      "text/plain": [
       "['perez pepito']"
      ]
     },
     "execution_count": 9,
     "metadata": {},
     "output_type": "execute_result"
    }
   ],
   "source": [
    "#f = db.cursor().execute(\"DROP TABLE Addresses\")\n",
    "#db.create_contact_table()\n",
    "contact_list_raw = db.get_all_contacts()\n",
    "contact_list_raw\n",
    "contact_list  = [x[1]+\" \"+x[0] for x in contact_list_raw if x[1].startswith(\"o\") or x[0].startswith(\"\")]\n",
    "contact_list"
   ]
  },
  {
   "cell_type": "code",
   "execution_count": 8,
   "metadata": {},
   "outputs": [],
   "source": [
    "#db.close()"
   ]
  },
  {
   "cell_type": "code",
   "execution_count": 3,
   "metadata": {},
   "outputs": [
    {
     "name": "stdout",
     "output_type": "stream",
     "text": [
      "INSERT INTO Wallets (xprv, words, name)\n",
      " VALUES('tprv8ZgxMBicQKsPfQJYjuFAso9x6STzmUdMh5U8CQqqQUTgtQHBHCq4C7FseeeZg15L16UeSwbrLwJRTXNPQsJQwqvbBA11sn4M6c3jR1LwAQP', \"engine over neglect science fatigue dawn axis parent mind man escape era goose border invest slab relax bind desert hurry useless lonely frozen morning\", 'from jupyter notebook') ;\n"
     ]
    }
   ],
   "source": [
    "xprv =\"tprv8ZgxMBicQKsPfQJYjuFAso9x6STzmUdMh5U8CQqqQUTgtQHBHCq4C7FseeeZg15L16UeSwbrLwJRTXNPQsJQwqvbBA11sn4M6c3jR1LwAQP\"\n",
    "words = 'b\"engine over neglect science fatigue dawn axis parent mind man escape era goose border invest slab relax bind desert hurry useless lonely frozen morning\"'[1:]\n",
    "res = db.new_wallet(xprv, words, \"from jupyter notebook\")"
   ]
  },
  {
   "cell_type": "code",
   "execution_count": 4,
   "metadata": {},
   "outputs": [
    {
     "data": {
      "text/plain": [
       "True"
      ]
     },
     "execution_count": 4,
     "metadata": {},
     "output_type": "execute_result"
    }
   ],
   "source": [
    "res"
   ]
  },
  {
   "cell_type": "code",
   "execution_count": 5,
   "metadata": {},
   "outputs": [
    {
     "data": {
      "text/plain": [
       "True"
      ]
     },
     "execution_count": 5,
     "metadata": {},
     "output_type": "execute_result"
    }
   ],
   "source": [
    "res = db.new_address(\"first_address\", \"m/0H/0H/\", 0, 0, xprv)\n",
    "res"
   ]
  },
  {
   "cell_type": "code",
   "execution_count": 12,
   "metadata": {},
   "outputs": [
    {
     "data": {
      "text/plain": [
       "True"
      ]
     },
     "execution_count": 12,
     "metadata": {},
     "output_type": "execute_result"
    }
   ],
   "source": [
    "res = db.new_utxo(\"first_address\", 22222, \"transaction_0\", 0, confirmed=6)\n",
    "res"
   ]
  },
  {
   "cell_type": "code",
   "execution_count": 13,
   "metadata": {},
   "outputs": [],
   "source": [
    "utxos = db.look_for_coins(xprv)"
   ]
  },
  {
   "cell_type": "code",
   "execution_count": 14,
   "metadata": {},
   "outputs": [
    {
     "data": {
      "text/plain": [
       "[('transaction_0', 0, 22222)]"
      ]
     },
     "execution_count": 14,
     "metadata": {},
     "output_type": "execute_result"
    }
   ],
   "source": [
    "utxos"
   ]
  },
  {
   "cell_type": "code",
   "execution_count": 15,
   "metadata": {},
   "outputs": [
    {
     "data": {
      "text/plain": [
       "[]"
      ]
     },
     "execution_count": 15,
     "metadata": {},
     "output_type": "execute_result"
    }
   ],
   "source": [
    "unused_addresses = db.get_unused_addresses(xprv)\n",
    "unused_addresses"
   ]
  },
  {
   "cell_type": "code",
   "execution_count": 6,
   "metadata": {},
   "outputs": [
    {
     "data": {
      "text/plain": [
       "True"
      ]
     },
     "execution_count": 6,
     "metadata": {},
     "output_type": "execute_result"
    }
   ],
   "source": [
    "res = db.new_address(\"second_address\", \"m/0H/0H/\", 1, 0, xprv)\n",
    "res"
   ]
  },
  {
   "cell_type": "code",
   "execution_count": 11,
   "metadata": {},
   "outputs": [
    {
     "data": {
      "text/plain": [
       "True"
      ]
     },
     "execution_count": 11,
     "metadata": {},
     "output_type": "execute_result"
    }
   ],
   "source": [
    "res = db.new_address(\"Thirteenth_address\", \"m/0H/0H/\", 13, 0, xprv)\n",
    "res"
   ]
  },
  {
   "cell_type": "code",
   "execution_count": 17,
   "metadata": {},
   "outputs": [
    {
     "name": "stdout",
     "output_type": "stream",
     "text": [
      "SELECT address \n",
      "FROM Addresses WHERE\n",
      "NOT EXISTS(\n",
      "SELECT 1 \n",
      " FROM Utxos\n",
      "WHERE Utxos.address = Addresses.address) \n",
      "AND\n",
      " Addresses.wallet = 'tprv8ZgxMBicQKsPfQJYjuFAso9x6STzmUdMh5U8CQqqQUTgtQHBHCq4C7FseeeZg15L16UeSwbrLwJRTXNPQsJQwqvbBA11sn4M6c3jR1LwAQP'\n",
      "AND\n",
      " (1591753283 - Addresses.created) > 0 AND (1591753283 - Addresses.created) < 172800 ;\n"
     ]
    },
    {
     "data": {
      "text/plain": [
       "[('second_address',)]"
      ]
     },
     "execution_count": 17,
     "metadata": {},
     "output_type": "execute_result"
    }
   ],
   "source": [
    "unused_addresses = db.get_unused_addresses(xprv, 2,2)\n",
    "unused_addresses"
   ]
  },
  {
   "cell_type": "code",
   "execution_count": 18,
   "metadata": {},
   "outputs": [
    {
     "data": {
      "text/plain": [
       "[('first_address',), ('second_address',)]"
      ]
     },
     "execution_count": 18,
     "metadata": {},
     "output_type": "execute_result"
    }
   ],
   "source": [
    "db.get_all_addresses(xprv)"
   ]
  },
  {
   "cell_type": "code",
   "execution_count": 18,
   "metadata": {},
   "outputs": [],
   "source": [
    "f = db.conn.cursor().execute(\"SELECT * FROM Addresses\")"
   ]
  },
  {
   "cell_type": "code",
   "execution_count": 19,
   "metadata": {},
   "outputs": [
    {
     "data": {
      "text/plain": [
       "[('first_address',\n",
       "  0,\n",
       "  \"m/0'/0'/\",\n",
       "  0,\n",
       "  1591752001,\n",
       "  'tprv8ZgxMBicQKsPfQJYjuFAso9x6STzmUdMh5U8CQqqQUTgtQHBHCq4C7FseeeZg15L16UeSwbrLwJRTXNPQsJQwqvbBA11sn4M6c3jR1LwAQP'),\n",
       " ('second_address',\n",
       "  1,\n",
       "  \"m/0'/0'/\",\n",
       "  1,\n",
       "  1591752006,\n",
       "  'tprv8ZgxMBicQKsPfQJYjuFAso9x6STzmUdMh5U8CQqqQUTgtQHBHCq4C7FseeeZg15L16UeSwbrLwJRTXNPQsJQwqvbBA11sn4M6c3jR1LwAQP')]"
      ]
     },
     "execution_count": 19,
     "metadata": {},
     "output_type": "execute_result"
    }
   ],
   "source": [
    "f.fetchall()"
   ]
  },
  {
   "cell_type": "code",
   "execution_count": 20,
   "metadata": {},
   "outputs": [
    {
     "data": {
      "text/plain": [
       "True"
      ]
     },
     "execution_count": 20,
     "metadata": {},
     "output_type": "execute_result"
    }
   ],
   "source": [
    "db.new_tx(\"tx_n1\",[(\"transaction_0\",0)],[(1000,\"script_public_key of my first transaction\")])"
   ]
  },
  {
   "cell_type": "code",
   "execution_count": 21,
   "metadata": {},
   "outputs": [
    {
     "data": {
      "text/plain": [
       "[('tx_n1', 0, 1, 0, 1591752025)]"
      ]
     },
     "execution_count": 21,
     "metadata": {},
     "output_type": "execute_result"
    }
   ],
   "source": [
    "g = db.conn.cursor().execute(\"SELECT * FROM Transactions\")\n",
    "g.fetchall()"
   ]
  },
  {
   "cell_type": "code",
   "execution_count": 22,
   "metadata": {},
   "outputs": [
    {
     "data": {
      "text/plain": [
       "[('transaction_0', 0, 'tx_n1')]"
      ]
     },
     "execution_count": 22,
     "metadata": {},
     "output_type": "execute_result"
    }
   ],
   "source": [
    "h = db.conn.cursor().execute(\"SELECT * FROM Tx_Ins\")\n",
    "h.fetchall()"
   ]
  },
  {
   "cell_type": "code",
   "execution_count": 3,
   "metadata": {},
   "outputs": [
    {
     "data": {
      "text/plain": [
       "[(0,\n",
       "  1000,\n",
       "  '00508e440dc876e769e0dd3e2f61f8e7d33ce90a2e8f023c9aa9f0b8e48c4888',\n",
       "  'This is a test ScriptPubKey')]"
      ]
     },
     "execution_count": 3,
     "metadata": {},
     "output_type": "execute_result"
    }
   ],
   "source": [
    "i = db.conn.cursor().execute(\"SELECT * FROM Tx_Outs\")\n",
    "i.fetchall()"
   ]
  },
  {
   "cell_type": "code",
   "execution_count": null,
   "metadata": {},
   "outputs": [],
   "source": []
  },
  {
   "cell_type": "code",
   "execution_count": 24,
   "metadata": {},
   "outputs": [
    {
     "data": {
      "text/plain": [
       "<sqlite3.Cursor at 0x7f89eae0f6c0>"
      ]
     },
     "execution_count": 24,
     "metadata": {},
     "output_type": "execute_result"
    }
   ],
   "source": [
    "db.conn.cursor().execute(\"DROP TABLE Wallets\")"
   ]
  },
  {
   "cell_type": "code",
   "execution_count": 25,
   "metadata": {},
   "outputs": [
    {
     "data": {
      "text/plain": [
       "[('Addresses',)]"
      ]
     },
     "execution_count": 25,
     "metadata": {},
     "output_type": "execute_result"
    }
   ],
   "source": [
    "db.does_table_exist(\"Addresses\")"
   ]
  },
  {
   "cell_type": "code",
   "execution_count": 4,
   "metadata": {},
   "outputs": [],
   "source": [
    "db.close_database()"
   ]
  },
  {
   "cell_type": "code",
   "execution_count": 28,
   "metadata": {},
   "outputs": [],
   "source": [
    "account = \"m/0H/1H/\"\n",
    "g = db.conn.cursor().execute(f\"SELECT MAX(acc_index) FROM Addresses WHERE wallet='{xprv}' AND path='{account}';\")\n",
    "j = g.fetchall()[0][0]\n",
    "j"
   ]
  },
  {
   "cell_type": "code",
   "execution_count": 29,
   "metadata": {},
   "outputs": [
    {
     "name": "stdout",
     "output_type": "stream",
     "text": [
      "yes\n"
     ]
    }
   ],
   "source": [
    "if j is None:\n",
    "    print(\"yes\")"
   ]
  },
  {
   "cell_type": "code",
   "execution_count": 8,
   "metadata": {},
   "outputs": [
    {
     "data": {
      "text/plain": [
       "[('ce8989c24a699924ecf8281b0b88f1f04de9a98ada0d24fd24f053a2ece21b5e',\n",
       "  1,\n",
       "  1000000),\n",
       " ('71ae64055a84d489aa9f92bb53ad1d76dd846cbafc614a16893c1adf5023c6eb',\n",
       "  1,\n",
       "  22000)]"
      ]
     },
     "execution_count": 8,
     "metadata": {},
     "output_type": "execute_result"
    }
   ],
   "source": [
    "wallet = \"tprv8ZgxMBicQKsPcv5EhtDXAeg624gwoQpnB55T1qaUPbgzjUrziZ9VkM2es6MsMBe7tRpvnoGWb9RFoKjhpkovSepJiMFX5NWBVtcpWcd96pp\"\n",
    "query1 = f\"SELECT tx_id, out_index, amount\\n FROM Utxos INNER JOIN Addresses \\n\"\n",
    "#query1 = f\"SELECT tx_id, out_index, amount\\n FROM Utxos;\"\n",
    "query2 = f\"ON Utxos.address = Addresses.address\\nWHERE Utxos.spent = 0 AND Addresses.wallet = '{wallet}';\"\n",
    "#query2 = f\"ON Utxos.address = Addresses.address\\nWHERE Utxos.spent = 1;\"\n",
    "query = query1 + query2\n",
    "i = db.conn.cursor().execute(query)\n",
    "i.fetchall()"
   ]
  },
  {
   "cell_type": "code",
   "execution_count": 13,
   "metadata": {},
   "outputs": [],
   "source": [
    "query= \"UPDATE Utxos SET spent = 1 WHERE tx_id = 'fb879418a9f754cc4d050c37fcb2af4e0b8e65a7abc7213828f0d507cd1c24e2' AND out_index = 1\"\n",
    "i = db.conn.cursor().execute(query)"
   ]
  },
  {
   "cell_type": "code",
   "execution_count": 14,
   "metadata": {},
   "outputs": [
    {
     "data": {
      "text/plain": [
       "[(1,)]"
      ]
     },
     "execution_count": 14,
     "metadata": {},
     "output_type": "execute_result"
    }
   ],
   "source": [
    "query= \"SELECT spent FROM Utxos WHERE tx_id = 'fb879418a9f754cc4d050c37fcb2af4e0b8e65a7abc7213828f0d507cd1c24e2' AND out_index = 1\"\n",
    "i = db.conn.cursor().execute(query)\n",
    "i.fetchall()"
   ]
  },
  {
   "cell_type": "code",
   "execution_count": 15,
   "metadata": {},
   "outputs": [],
   "source": [
    "db.conn.commit()\n"
   ]
  },
  {
   "cell_type": "code",
   "execution_count": 10,
   "metadata": {},
   "outputs": [
    {
     "name": "stdout",
     "output_type": "stream",
     "text": [
      "connection with database made.\n"
     ]
    },
    {
     "data": {
      "text/plain": [
       "<wallet_database_sqlite3.Sqlite3Environment at 0x7fe63b995400>"
      ]
     },
     "execution_count": 10,
     "metadata": {},
     "output_type": "execute_result"
    }
   ],
   "source": [
    "from wallet_database_sqlite3 import Sqlite3Environment\n",
    "\n",
    "\n",
    "env = Sqlite3Environment()\n",
    "env"
   ]
  },
  {
   "cell_type": "code",
   "execution_count": 11,
   "metadata": {},
   "outputs": [
    {
     "name": "stdout",
     "output_type": "stream",
     "text": [
      "INSERT INTO Keys (name, key)\n",
      "VALUES('BLOCKCYPHER_API_KEY', 'd3e470c810b6440ca60e57f1f60939c6') ;\n",
      "INSERT INTO Keys (name, key)\n",
      "VALUES('CC_API', 'e57bbc8169583b0ebfba6e517836f199eab4ffa74a752d54fcfd2cd0cc385641') ;\n"
     ]
    },
    {
     "data": {
      "text/plain": [
       "True"
      ]
     },
     "execution_count": 11,
     "metadata": {},
     "output_type": "execute_result"
    }
   ],
   "source": [
    "env.new_key(\"BLOCKCYPHER_API_KEY\",\"d3e470c810b6440ca60e57f1f60939c6\")\n",
    "env.new_key(\"CC_API\",\"e57bbc8169583b0ebfba6e517836f199eab4ffa74a752d54fcfd2cd0cc385641\")"
   ]
  },
  {
   "cell_type": "code",
   "execution_count": 12,
   "metadata": {},
   "outputs": [
    {
     "data": {
      "text/plain": [
       "[('BLOCKCYPHER_API_KEY', 'd3e470c810b6440ca60e57f1f60939c6'),\n",
       " ('CC_API',\n",
       "  'e57bbc8169583b0ebfba6e517836f199eab4ffa74a752d54fcfd2cd0cc385641')]"
      ]
     },
     "execution_count": 12,
     "metadata": {},
     "output_type": "execute_result"
    }
   ],
   "source": [
    "i = env.conn.cursor().execute(\"SELECT * FROM Keys\")\n",
    "i.fetchall()"
   ]
  },
  {
   "cell_type": "code",
   "execution_count": 19,
   "metadata": {},
   "outputs": [
    {
     "data": {
      "text/plain": [
       "[('',\n",
       "  '[242181816824935352779949905339585673702570459364503992825384375679130606102141, 243939266812165980563239760114596239186104406092581261489726331066308569928747, 290372254706026096153481489592931453085780088683353495329679236536122868177482, 376644786442849392304182314585976636972636060283971456632342867625859504056500, 461222389963770672910023206337944803706847222730930779040024025202330161562314]',\n",
       "  2,\n",
       "  6,\n",
       "  'None',\n",
       "  'tprv8ghfWd73PvMPqRazzw1m6Vxq6TUzVmbuiyfQ4frvAXgM8kPidJ7QWDWPRmwF9J3da2EhRnLJjiwwFKYAo4bW8p82JRntd8MtKydwTpDoiGj',\n",
       "  'tpubDDPhf39HYJ34itcntagMVucwfUzvf6npJHGBMBuDaoUjyEeVFgvzgi8FbuQnRdMzMDd81kiqs7zcsGQRFC3B75QQQbVbtUM5cqnr7gWuqdf',\n",
       "  'p2wsh',\n",
       "  1,\n",
       "  1,\n",
       "  'None',\n",
       "  -1),\n",
       " ('200823',\n",
       "  '[461222389963770672910023206337944803706847222730930779040024025202330161562314, 242181816824935352779949905339585673702570459364503992825384375679130606102141, 34904519403285236524485843581086005758991025139939414745136436266219764179988]',\n",
       "  2,\n",
       "  4,\n",
       "  'None',\n",
       "  'tprv8oQnacENnx7rqx3EYSQVzSHB5MAFiqywxobYU9o2DAtDqx6ij5bEwSaAGsVbQhfat3dat7sQ3tcLLBYjnGbY51Yn3rWjiyRGnW9QUiv3QSz',\n",
       "  'tpubDL6pj2GcwKoXjR52S656PqwHeNgBtBArY7CKkfqKdSgcgSMVMUQq7wC2SyYca1vcmhLsSyJWXCy44w6eqqqpoSkByPaUrhe4XpABNwJYuSZ',\n",
       "  'p2wsh',\n",
       "  1,\n",
       "  1,\n",
       "  'test1_master_wallet',\n",
       "  200823),\n",
       " ('200824',\n",
       "  '[461222389963770672910023206337944803706847222730930779040024025202330161562314, 242181816824935352779949905339585673702570459364503992825384375679130606102141, 34904519403285236524485843581086005758991025139939414745136436266219764179988]',\n",
       "  2,\n",
       "  4,\n",
       "  'None',\n",
       "  'tprv8oQnacENnx7rtGLHALR3qJ5cAA3Vxq6iJpwL3VaM3Th6eLgVYPbKKYSakJ7sNZHGxgpXuyRQdma5LsMK6qnXCgR9U1iLeFD44owPkU9iNNV',\n",
       "  'tpubDL6pj2GcwKoXmjN53z5eEhjijBZS8AHct8Y7L1ceTjVVUpwGAnQuW34SvTFNaPWReUhkopbjQhgRphKeroKEuxBMntMHQrfm3RZ3JcVAUcP',\n",
       "  'p2wsh',\n",
       "  1,\n",
       "  1,\n",
       "  'test1_master_wallet',\n",
       "  200824),\n",
       " ('200824_manager1_daily_safe',\n",
       "  '[461222389963770672910023206337944803706847222730930779040024025202330161562314, 242181816824935352779949905339585673702570459364503992825384375679130606102141, 34904519403285236524485843581086005758991025139939414745136436266219764179988]',\n",
       "  2,\n",
       "  4,\n",
       "  '95800709053964933282561433899801232546169819566735397106442210103505108450640',\n",
       "  'None',\n",
       "  'tpubDEyD6owPkJdVhbDvQwT8gQeofPzydpPh3njNUK4sQXN9JaShCtdeikKDZKBpVmrbG59Pz3E1Hp5rsd8DeffnMXZQhXHVSb4tjwM3z86dgdD',\n",
       "  'p2wsh',\n",
       "  1,\n",
       "  1,\n",
       "  'manager1_daily_safe',\n",
       "  200824),\n",
       " ('200824_test1_master_wallet',\n",
       "  '[461222389963770672910023206337944803706847222730930779040024025202330161562314, 242181816824935352779949905339585673702570459364503992825384375679130606102141, 34904519403285236524485843581086005758991025139939414745136436266219764179988]',\n",
       "  2,\n",
       "  4,\n",
       "  'None',\n",
       "  'tprv8oQnacENnx7rtGLHALR3qJ5cAA3Vxq6iJpwL3VaM3Th6eLgVYPbKKYSakJ7sNZHGxgpXuyRQdma5LsMK6qnXCgR9U1iLeFD44owPkU9iNNV',\n",
       "  'tpubDL6pj2GcwKoXmjN53z5eEhjijBZS8AHct8Y7L1ceTjVVUpwGAnQuW34SvTFNaPWReUhkopbjQhgRphKeroKEuxBMntMHQrfm3RZ3JcVAUcP',\n",
       "  'p2wsh',\n",
       "  1,\n",
       "  1,\n",
       "  'test1_master_wallet',\n",
       "  200824),\n",
       " ('200825_manager1_daily_safe',\n",
       "  '[461222389963770672910023206337944803706847222730930779040024025202330161562314, 242181816824935352779949905339585673702570459364503992825384375679130606102141, 34904519403285236524485843581086005758991025139939414745136436266219764179988]',\n",
       "  2,\n",
       "  4,\n",
       "  '95800709053964933282561433899801232546169819566735397106442210103505108450640',\n",
       "  'None',\n",
       "  'tpubDEyD6owPkJdVjtsVvpYcwtSMgj7aRveTWy5xZ68Lmt5rAKgRvfFbMryBVEgiykgQ1zJ9Ac65wncMebCYdEi5zkeMzPMwA2A7k1T7UVyAYAN',\n",
       "  'p2wsh',\n",
       "  1,\n",
       "  1,\n",
       "  'manager1_daily_safe',\n",
       "  200825),\n",
       " ('200825_manager2_daily_safe',\n",
       "  '[461222389963770672910023206337944803706847222730930779040024025202330161562314, 242181816824935352779949905339585673702570459364503992825384375679130606102141, 34904519403285236524485843581086005758991025139939414745136436266219764179988]',\n",
       "  2,\n",
       "  4,\n",
       "  '115139476302519344463634772255798084337463636322414000002775671153459500424999',\n",
       "  'None',\n",
       "  'tpubDEyD6owPkJdVjtsVvpYcwtSMgj7aRveTWy5xZ68Lmt5rAKgRvfFbMryBVEgiykgQ1zJ9Ac65wncMebCYdEi5zkeMzPMwA2A7k1T7UVyAYAN',\n",
       "  'p2wsh',\n",
       "  1,\n",
       "  1,\n",
       "  'manager2_daily_safe',\n",
       "  200825),\n",
       " ('200825_manager_daily_safe',\n",
       "  '[461222389963770672910023206337944803706847222730930779040024025202330161562314, 242181816824935352779949905339585673702570459364503992825384375679130606102141, 34904519403285236524485843581086005758991025139939414745136436266219764179988]',\n",
       "  2,\n",
       "  4,\n",
       "  '115139476302519344463634772255798084337463636322414000002775671153459500424999',\n",
       "  'None',\n",
       "  'tpubDEyD6owPkJdVjtsVvpYcwtSMgj7aRveTWy5xZ68Lmt5rAKgRvfFbMryBVEgiykgQ1zJ9Ac65wncMebCYdEi5zkeMzPMwA2A7k1T7UVyAYAN',\n",
       "  'p2wsh',\n",
       "  1,\n",
       "  1,\n",
       "  'manager_daily_safe',\n",
       "  200825),\n",
       " ('200825_test1_master_wallet',\n",
       "  '[461222389963770672910023206337944803706847222730930779040024025202330161562314, 242181816824935352779949905339585673702570459364503992825384375679130606102141, 34904519403285236524485843581086005758991025139939414745136436266219764179988]',\n",
       "  2,\n",
       "  4,\n",
       "  'None',\n",
       "  'tprv8iHAxPu9bvwprRqi3At2YUnF7hbeGbTYwfVBGa63McHTKqRfJGS1BNMKK68RCqmYyZPnZViDeKo1yVcPanhY5kyeWQrG1MXzaNmivL5MkoL',\n",
       "  'tpubDEyD6owPkJdVjtsVvpYcwtSMgj7aRveTWy5xZ68Lmt5rAKgRvfFbMryBVEgiykgQ1zJ9Ac65wncMebCYdEi5zkeMzPMwA2A7k1T7UVyAYAN',\n",
       "  'p2wsh',\n",
       "  1,\n",
       "  1,\n",
       "  'test1_master_wallet',\n",
       "  200825),\n",
       " ('200826_manager1_daily_safe',\n",
       "  '[461222389963770672910023206337944803706847222730930779040024025202330161562314, 242181816824935352779949905339585673702570459364503992825384375679130606102141, 34904519403285236524485843581086005758991025139939414745136436266219764179988]',\n",
       "  2,\n",
       "  4,\n",
       "  '95800709053964933282561433899801232546169819566735397106442210103505108450640',\n",
       "  'None',\n",
       "  'tpubDEyD6owPkJdVoKA1HixMqvP6swdXThw77buybDk7yicWbVLhWFz1DX6GKua3FAGMEBE4T4r9d19zTukTF6Gz3E91W7i2ME8t62KanZTpDEc',\n",
       "  'p2wsh',\n",
       "  1,\n",
       "  1,\n",
       "  'manager1_daily_safe',\n",
       "  200826),\n",
       " ('200826_manager_daily_safe',\n",
       "  '[461222389963770672910023206337944803706847222730930779040024025202330161562314, 242181816824935352779949905339585673702570459364503992825384375679130606102141, 34904519403285236524485843581086005758991025139939414745136436266219764179988]',\n",
       "  2,\n",
       "  4,\n",
       "  '115139476302519344463634772255798084337463636322414000002775671153459500424999',\n",
       "  'None',\n",
       "  'tpubDEyD6owPkJdVoKA1HixMqvP6swdXThw77buybDk7yicWbVLhWFz1DX6GKua3FAGMEBE4T4r9d19zTukTF6Gz3E91W7i2ME8t62KanZTpDEc',\n",
       "  'p2wsh',\n",
       "  1,\n",
       "  1,\n",
       "  'manager_daily_safe',\n",
       "  200826),\n",
       " ('200826_test1_master_wallet',\n",
       "  '[461222389963770672910023206337944803706847222730930779040024025202330161562314, 242181816824935352779949905339585673702570459364503992825384375679130606102141, 34904519403285236524485843581086005758991025139939414745136436266219764179988]',\n",
       "  2,\n",
       "  4,\n",
       "  'None',\n",
       "  'tprv8iHAxPu9bvwpur8DQ5HmSWizJv7bJNkCYJKCJhhpZSp7m15vssAR32UQ9n8pzZP8sxBLVT9zbCTpA9cXvLyPMjqR8zh6xE6G1NcF6agYW6P',\n",
       "  'tpubDEyD6owPkJdVoKA1HixMqvP6swdXThw77buybDk7yicWbVLhWFz1DX6GKua3FAGMEBE4T4r9d19zTukTF6Gz3E91W7i2ME8t62KanZTpDEc',\n",
       "  'p2wsh',\n",
       "  1,\n",
       "  1,\n",
       "  'test1_master_wallet',\n",
       "  200826),\n",
       " ('200827_manager1_daily_safe',\n",
       "  '[461222389963770672910023206337944803706847222730930779040024025202330161562314, 242181816824935352779949905339585673702570459364503992825384375679130606102141, 349045194032852365244858435810860057589910251399394147451364362662197641799889]',\n",
       "  2,\n",
       "  4,\n",
       "  '95800709053964933282561433899801232546169819566735397106442210103505108450640',\n",
       "  'None',\n",
       "  'tpubDEyD6owPkJdVpxZKTGv7k2FEszzKE1GsgLmJ3WWj5ibZeUXQUF4iEZjP8Q4eX8aiQoScEcu8b8WMWNpqkWnbwMhZVsrtLza3eHehefNvwrZ',\n",
       "  'p2wsh',\n",
       "  1,\n",
       "  1,\n",
       "  'manager1_daily_safe',\n",
       "  200827),\n",
       " ('200827_manager_daily_safe',\n",
       "  '[461222389963770672910023206337944803706847222730930779040024025202330161562314, 242181816824935352779949905339585673702570459364503992825384375679130606102141, 349045194032852365244858435810860057589910251399394147451364362662197641799889]',\n",
       "  2,\n",
       "  4,\n",
       "  '115139476302519344463634772255798084337463636322414000002775671153459500424999',\n",
       "  'None',\n",
       "  'tpubDEyD6owPkJdVpxZKTGv7k2FEszzKE1GsgLmJ3WWj5ibZeUXQUF4iEZjP8Q4eX8aiQoScEcu8b8WMWNpqkWnbwMhZVsrtLza3eHehefNvwrZ',\n",
       "  'p2wsh',\n",
       "  1,\n",
       "  1,\n",
       "  'manager_daily_safe',\n",
       "  200827),\n",
       " ('200827_test1_master_wallet',\n",
       "  '[461222389963770672910023206337944803706847222730930779040024025202330161562314, 242181816824935352779949905339585673702570459364503992825384375679130606102141, 349045194032852365244858435810860057589910251399394147451364362662197641799889]',\n",
       "  2,\n",
       "  4,\n",
       "  'None',\n",
       "  'tprv8iHAxPu9bvwpwVXXZdFXLcb8JyUP4g5y73AWkzURfSoAozGdqrF8457WxGfX5oHoDRdChWGNS259giKbcmDTHuSwRUuR8N3cBvHgHHRMgSC',\n",
       "  'tpubDEyD6owPkJdVpxZKTGv7k2FEszzKE1GsgLmJ3WWj5ibZeUXQUF4iEZjP8Q4eX8aiQoScEcu8b8WMWNpqkWnbwMhZVsrtLza3eHehefNvwrZ',\n",
       "  'p2wsh',\n",
       "  1,\n",
       "  1,\n",
       "  'test1_master_wallet',\n",
       "  200827),\n",
       " ('201116_manager1_daily_safe',\n",
       "  '[461222389963770672910023206337944803706847222730930779040024025202330161562314, 242181816824935352779949905339585673702570459364503992825384375679130606102141, 34904519403285236524485843581086005758991025139939414745136436266219764179988]',\n",
       "  2,\n",
       "  4,\n",
       "  '95800709053964933282561433899801232546169819566735397106442210103505108450640',\n",
       "  'None',\n",
       "  'tpubDEyD6owPkJdiYbgePkygMdAS9Mz3swrMVbyoEcsoKz46edayFuUX8Q1t6XB4zw7sasvr7kKC6wSvsa1D4e7bqLioCmB74Lv8uYDpAMrzrHh',\n",
       "  'p2wsh',\n",
       "  1,\n",
       "  1,\n",
       "  'manager1_daily_safe',\n",
       "  201116),\n",
       " ('Montereys',\n",
       "  '[242181816824935352779949905339585673702570459364503992825384375679130606102141, 243939266812165980563239760114596239186104406092581261489726331066308569928747, 290372254706026096153481489592931453085780088683353495329679236536122868177482, 376644786442849392304182314585976636972636060283971456632342867625859504056500]',\n",
       "  2,\n",
       "  5,\n",
       "  'None',\n",
       "  'tprv8ghfWd73PvMPqRazzw1m6Vxq6TUzVmbuiyfQ4frvAXgM8kPidJ7QWDWPRmwF9J3da2EhRnLJjiwwFKYAo4bW8p82JRntd8MtKydwTpDoiGj',\n",
       "  'tpubDDPhf39HYJ34itcntagMVucwfUzvf6npJHGBMBuDaoUjyEeVFgvzgi8FbuQnRdMzMDd81kiqs7zcsGQRFC3B75QQQbVbtUM5cqnr7gWuqdf',\n",
       "  'p2wsh',\n",
       "  1,\n",
       "  1,\n",
       "  'My wallet #2',\n",
       "  -1),\n",
       " ('Nov15-of-20_Montereys',\n",
       "  '[242181816824935352779949905339585673702570459364503992825384375679130606102141, 243939266812165980563239760114596239186104406092581261489726331066308569928747, 290372254706026096153481489592931453085780088683353495329679236536122868177482, 376644786442849392304182314585976636972636060283971456632342867625859504056500]',\n",
       "  2,\n",
       "  5,\n",
       "  'None',\n",
       "  'tprv8iPosAjU5f99zLgAxW1VXDL9XhD8dZQJ8WbPoUYZ8vqiTXvmgqa12iXfrjDiZTRAybLxqhALdffNdcUofm9pEu9Q4mb3AYqpZ3Pt5F6RaAq',\n",
       "  'tpubDF5r1amiE2ppsohxr9g5vczG6ij4ntbChpCB5zarZCe7J2BYKEPbDD9Y2rjNCUixr5HAnV2gtNJmxEc19mNFbmsMyj7VHBQfknU2JGfECMk',\n",
       "  'p2wsh',\n",
       "  1,\n",
       "  1,\n",
       "  'Montereys',\n",
       "  201115),\n",
       " ('Nov16-of-20_Montereys',\n",
       "  '[242181816824935352779949905339585673702570459364503992825384375679130606102141, 243939266812165980563239760114596239186104406092581261489726331066308569928747, 290372254706026096153481489592931453085780088683353495329679236536122868177482, 376644786442849392304182314585976636972636060283971456632342867625859504056500]',\n",
       "  2,\n",
       "  5,\n",
       "  'None',\n",
       "  'tprv8iPosAjU5f9A3MUokfYFzGu36CUCaUVhApUmU18uFFF7fR8RupVCpC1j7ZgiesYZDURnKWyR6RPPUceJY6tpzMPk6hzPbpQWvDPrdHg42tD',\n",
       "  'tpubDF5r1amiE2ppvpWbeKCrPgZ9fDz8jogbk85YkXBCfX3WVuPCYDJnzgdbHhzr7veh3Y9qkaw34eFnurHoXf4GKxd47UUHepUH4WHDEHg6ihk',\n",
       "  'p2wsh',\n",
       "  1,\n",
       "  1,\n",
       "  'Montereys',\n",
       "  201116),\n",
       " ('Nov16-of-20_test1_master_wallet',\n",
       "  '[461222389963770672910023206337944803706847222730930779040024025202330161562314, 242181816824935352779949905339585673702570459364503992825384375679130606102141, 349045194032852365244858435810860057589910251399394147451364362662197641799889]',\n",
       "  2,\n",
       "  4,\n",
       "  'None',\n",
       "  'tprv8iHAxPu9bvx3f8erW7K5xDWKaLU7icfSvJP1x6qVuiFhp9LCdWevwuQ1vP2Fu7AoFxf9xGVKnWZqdpKY8pssGpJZPTtYQSXnAv8kZy5if16',\n",
       "  'tpubDEyD6owPkJdiYbgePkygMdAS9Mz3swrMVbyoEcsoKz46edayFuUX8Q1t6XB4zw7sasvr7kKC6wSvsa1D4e7bqLioCmB74Lv8uYDpAMrzrHh',\n",
       "  'p2wsh',\n",
       "  1,\n",
       "  1,\n",
       "  'test1_master_wallet',\n",
       "  201116),\n",
       " ('manager1_daily_safe',\n",
       "  '[461222389963770672910023206337944803706847222730930779040024025202330161562314, 242181816824935352779949905339585673702570459364503992825384375679130606102141, 34904519403285236524485843581086005758991025139939414745136436266219764179988]',\n",
       "  2,\n",
       "  4,\n",
       "  '95800709053964933282561433899801232546169819566735397106442210103505108450640',\n",
       "  'None',\n",
       "  'tpubDCBZYgsRn5TTzp1ZqkxkpmP6T6fnqUVpUjghF1uzFb1DFNLi4bxrGnA15c4fLY14bbpZnT1uhNqZPmZHY2yNNFfGJTSAxHZgVj6yDUGSThv',\n",
       "  'p2wsh',\n",
       "  1,\n",
       "  1,\n",
       "  'None',\n",
       "  -1),\n",
       " ('manager2_daily_safe',\n",
       "  '[461222389963770672910023206337944803706847222730930779040024025202330161562314, 242181816824935352779949905339585673702570459364503992825384375679130606102141, 34904519403285236524485843581086005758991025139939414745136436266219764179988]',\n",
       "  2,\n",
       "  4,\n",
       "  '115139476302519344463634772255798084337463636322414000002775671153459500424999',\n",
       "  'None',\n",
       "  'tpubDCBZYgsRn5TTzp1ZqkxkpmP6T6fnqUVpUjghF1uzFb1DFNLi4bxrGnA15c4fLY14bbpZnT1uhNqZPmZHY2yNNFfGJTSAxHZgVj6yDUGSThv',\n",
       "  'p2wsh',\n",
       "  1,\n",
       "  1,\n",
       "  'None',\n",
       "  -1),\n",
       " ('manager_daily_safe',\n",
       "  '[461222389963770672910023206337944803706847222730930779040024025202330161562314, 242181816824935352779949905339585673702570459364503992825384375679130606102141, 34904519403285236524485843581086005758991025139939414745136436266219764179988]',\n",
       "  2,\n",
       "  4,\n",
       "  '115139476302519344463634772255798084337463636322414000002775671153459500424999',\n",
       "  'None',\n",
       "  'tpubDCBZYgsRn5TTzp1ZqkxkpmP6T6fnqUVpUjghF1uzFb1DFNLi4bxrGnA15c4fLY14bbpZnT1uhNqZPmZHY2yNNFfGJTSAxHZgVj6yDUGSThv',\n",
       "  'p2wsh',\n",
       "  1,\n",
       "  1,\n",
       "  'None',\n",
       "  -1),\n",
       " ('test1_master_wallet',\n",
       "  '[461222389963770672910023206337944803706847222730930779040024025202330161562314, 242181816824935352779949905339585673702570459364503992825384375679130606102141, 349045194032852365244858435810860057589910251399394147451364362662197641799889]',\n",
       "  2,\n",
       "  4,\n",
       "  'None',\n",
       "  'tprv8fVXQGqBdhmo7Lymx7JARMiyt59rg9JuuS5uxVsgqKCpQt5wSD9G6HY8uVQs5CPNV5i6qt1vWes78DmmbrKa1gncZXpaL3m71GT3RsRcWda',\n",
       "  'tpubDCBZYgsRn5TTzp1ZqkxkpmP6T6fnqUVpUjghF1uzFb1DFNLi4bxrGnA15c4fLY14bbpZnT1uhNqZPmZHY2yNNFfGJTSAxHZgVj6yDUGSThv',\n",
       "  'p2wsh',\n",
       "  1,\n",
       "  1,\n",
       "  'None',\n",
       "  -1),\n",
       " ('week-47-of-20_Montereys',\n",
       "  '[242181816824935352779949905339585673702570459364503992825384375679130606102141, 243939266812165980563239760114596239186104406092581261489726331066308569928747, 290372254706026096153481489592931453085780088683353495329679236536122868177482, 376644786442849392304182314585976636972636060283971456632342867625859504056500]',\n",
       "  2,\n",
       "  5,\n",
       "  'None',\n",
       "  'tprv8iPosAjU5cYLB4CcsCfkqx7W1i4jt6uzoNTU92L7UneDFEp3GzjMXkTJfNGyg6GSiVFHBYa48RW4bsKwp7G3h1KQoAYHBp4pWJgh4PaMH9A',\n",
       "  'tpubDF5r1amiDzE14XEQkrLMFMmcajag3S6uNg4FRYNQu4Sc5j4ouPYwiF5AqVYeT922EpF6A9aBQ8Lkt7b3CU6fvFMpAk53KnPLoSNP97LfxRZ',\n",
       "  'p2wsh',\n",
       "  1,\n",
       "  1,\n",
       "  'Montereys',\n",
       "  2047)]"
      ]
     },
     "execution_count": 19,
     "metadata": {},
     "output_type": "execute_result"
    }
   ],
   "source": [
    "query= \"SELECT * FROM SHDSafeWallet\"\n",
    "i = db.conn.cursor().execute(query)\n",
    "i.fetchall()"
   ]
  },
  {
   "cell_type": "code",
   "execution_count": 13,
   "metadata": {},
   "outputs": [
    {
     "data": {
      "text/plain": [
       "[('5324623d891ff225b41570d09320770c30d9291a0193cda09504a115fb661d1c', 0)]"
      ]
     },
     "execution_count": 13,
     "metadata": {},
     "output_type": "execute_result"
    }
   ],
   "source": [
    "query= \"SELECT tx_id,out_index FROM Tx_Ins WHERE spent_by = 'de14fbd1f89df79e4de29df6890af3db9d7c4511173e4f9e70f100d6cb17655a'\"\n",
    "i = db.conn.cursor().execute(query)\n",
    "i.fetchall()"
   ]
  },
  {
   "cell_type": "code",
   "execution_count": 15,
   "metadata": {},
   "outputs": [
    {
     "data": {
      "text/plain": [
       "[(1,)]"
      ]
     },
     "execution_count": 15,
     "metadata": {},
     "output_type": "execute_result"
    }
   ],
   "source": [
    "query1 = \"SELECT spent FROM Utxos WHERE tx_id = (\"\n",
    "query2 = \"SELECT tx_id FROM Tx_Ins WHERE spent_by = 'de14fbd1f89df79e4de29df6890af3db9d7c4511173e4f9e70f100d6cb17655a') \"\n",
    "query3 = \"AND out_index = (SELECT out_index FROM Tx_Ins WHERE spent_by = 'de14fbd1f89df79e4de29df6890af3db9d7c4511173e4f9e70f100d6cb17655a')\"\n",
    "\n",
    "query = query1 + query2 + query3\n",
    "i = db.conn.cursor().execute(query)\n",
    "i.fetchall()"
   ]
  },
  {
   "cell_type": "code",
   "execution_count": null,
   "metadata": {},
   "outputs": [],
   "source": [
    "query1 = \"UPDATE Utxos SET spent = 0 WHERE (\"\n",
    "query2 = \"SELECT tx_id,out_index FROM Tx_Ins WHERE spent_by = 'de14fbd1f89df79e4de29df6890af3db9d7c4511173e4f9e70f100d6cb17655a')\"\n",
    "query = query1 + query2\n",
    "i = db.conn.cursor().execute(query)\n",
    "i.fetchall()"
   ]
  },
  {
   "cell_type": "code",
   "execution_count": 14,
   "metadata": {},
   "outputs": [],
   "source": [
    "query = \"ALTER TABLE Contacts ADD COLUMN safe_pubkey text\"\n",
    "w = db.conn.cursor().execute(query)"
   ]
  },
  {
   "cell_type": "code",
   "execution_count": 15,
   "metadata": {},
   "outputs": [],
   "source": [
    "db.conn.commit()\n"
   ]
  },
  {
   "cell_type": "code",
   "execution_count": 3,
   "metadata": {},
   "outputs": [
    {
     "data": {
      "text/plain": [
       "(('address', None, None, None, None, None, None),\n",
       " ('acc_index', None, None, None, None, None, None),\n",
       " ('path', None, None, None, None, None, None),\n",
       " ('change_addr', None, None, None, None, None, None),\n",
       " ('created', None, None, None, None, None, None),\n",
       " ('wallet', None, None, None, None, None, None),\n",
       " ('type', None, None, None, None, None, None),\n",
       " ('safe_index', None, None, None, None, None, None))"
      ]
     },
     "execution_count": 3,
     "metadata": {},
     "output_type": "execute_result"
    }
   ],
   "source": [
    "query = \"SELECT * \\nFROM addresses\"\n",
    "w = db.conn.cursor().execute(query)\n",
    "w.description"
   ]
  },
  {
   "cell_type": "code",
   "execution_count": 20,
   "metadata": {},
   "outputs": [],
   "source": [
    "query = \"ALTER TABLE SHDSafeWallet ADD COLUMN level1pubkeys text\"\n",
    "w = db.conn.cursor().execute(query)\n",
    "db.conn.commit()"
   ]
  },
  {
   "cell_type": "code",
   "execution_count": 11,
   "metadata": {},
   "outputs": [
    {
     "data": {
      "text/plain": [
       "(('xprv', None, None, None, None, None, None),\n",
       " ('name', None, None, None, None, None, None),\n",
       " ('words', None, None, None, None, None, None),\n",
       " ('child', None, None, None, None, None, None))"
      ]
     },
     "execution_count": 11,
     "metadata": {},
     "output_type": "execute_result"
    }
   ],
   "source": [
    "query = \"SELECT * FROM wallets WHERE 1=0\"\n",
    "w = db.conn.cursor().execute(query)\n",
    "w.description"
   ]
  },
  {
   "cell_type": "code",
   "execution_count": 3,
   "metadata": {},
   "outputs": [],
   "source": [
    "w = db.create_SHDSafeWallet_table()"
   ]
  },
  {
   "cell_type": "code",
   "execution_count": 4,
   "metadata": {},
   "outputs": [],
   "source": [
    "db.conn.commit()"
   ]
  },
  {
   "cell_type": "code",
   "execution_count": 4,
   "metadata": {},
   "outputs": [
    {
     "data": {
      "text/plain": [
       "[('test1_master_wallet',\n",
       "  '[461222389963770672910023206337944803706847222730930779040024025202330161562314, 242181816824935352779949905339585673702570459364503992825384375679130606102141, 349045194032852365244858435810860057589910251399394147451364362662197641799889]',\n",
       "  2,\n",
       "  4,\n",
       "  'None',\n",
       "  'tprv8fVXQGqBdhmo7Lymx7JARMiyt59rg9JuuS5uxVsgqKCpQt5wSD9G6HY8uVQs5CPNV5i6qt1vWes78DmmbrKa1gncZXpaL3m71GT3RsRcWda',\n",
       "  'tpubDCBZYgsRn5TTzp1ZqkxkpmP6T6fnqUVpUjghF1uzFb1DFNLi4bxrGnA15c4fLY14bbpZnT1uhNqZPmZHY2yNNFfGJTSAxHZgVj6yDUGSThv',\n",
       "  'p2wsh',\n",
       "  1,\n",
       "  1,\n",
       "  'None',\n",
       "  -1)]"
      ]
     },
     "execution_count": 4,
     "metadata": {},
     "output_type": "execute_result"
    }
   ],
   "source": [
    "query = \"SELECT * FROM SHDSafeWallet\"\n",
    "w = db.conn.cursor().execute(query)\n",
    "w.fetchall()"
   ]
  },
  {
   "cell_type": "code",
   "execution_count": 4,
   "metadata": {},
   "outputs": [
    {
     "data": {
      "text/plain": [
       "[('7b11ce3edff6f0d7426c5bc76538854faa80a53d1039b5cf1c379420abdbdf49',\n",
       "  0,\n",
       "  1,\n",
       "  0,\n",
       "  1598472061)]"
      ]
     },
     "execution_count": 4,
     "metadata": {},
     "output_type": "execute_result"
    }
   ],
   "source": [
    "query = \"SELECT * FROM Transactions WHERE tx_id = '7b11ce3edff6f0d7426c5bc76538854faa80a53d1039b5cf1c379420abdbdf49' \"\n",
    "w = db.conn.cursor().execute(query)\n",
    "w.fetchall()"
   ]
  },
  {
   "cell_type": "code",
   "execution_count": 5,
   "metadata": {},
   "outputs": [
    {
     "data": {
      "text/plain": [
       "(('tx_id', None, None, None, None, None, None),\n",
       " ('lock_time', None, None, None, None, None, None),\n",
       " ('version', None, None, None, None, None, None),\n",
       " ('n_confirmations', None, None, None, None, None, None),\n",
       " ('created', None, None, None, None, None, None))"
      ]
     },
     "execution_count": 5,
     "metadata": {},
     "output_type": "execute_result"
    }
   ],
   "source": [
    "w.description"
   ]
  },
  {
   "cell_type": "code",
   "execution_count": 4,
   "metadata": {},
   "outputs": [],
   "source": [
    "w = db.create_HDMWallet_table()\n",
    "db.conn.commit()"
   ]
  },
  {
   "cell_type": "code",
   "execution_count": 7,
   "metadata": {},
   "outputs": [
    {
     "data": {
      "text/plain": [
       "[(0,\n",
       "  1000,\n",
       "  '00508e440dc876e769e0dd3e2f61f8e7d33ce90a2e8f023c9aa9f0b8e48c4888',\n",
       "  'This is a test ScriptPubKey'),\n",
       " (0,\n",
       "  21300,\n",
       "  '3263618890ceb9f3b7a18b493b7821707e55a1acde2700aa3e917fa3af2ea165',\n",
       "  'OP_0 ef6232e84397e91a7e22b17cb97f5cec89d088bd'),\n",
       " (1,\n",
       "  73786,\n",
       "  '3263618890ceb9f3b7a18b493b7821707e55a1acde2700aa3e917fa3af2ea165',\n",
       "  'OP_0 2368d4f87d9ab5510116bf1b1c6ee8cfe4d1c8b3'),\n",
       " (0,\n",
       "  2345,\n",
       "  '4896821137baece4df4b858ff244ebe3b7aad68663f9ffd1223ebcf385b77a45',\n",
       "  'OP_0 73e624baac78eba72c25a0909318f988506295e581f8f6236a32d02fbdb08fbe'),\n",
       " (1,\n",
       "  986323,\n",
       "  '4896821137baece4df4b858ff244ebe3b7aad68663f9ffd1223ebcf385b77a45',\n",
       "  'OP_0 e1bee14017102bcbd87ea64e0e3fb1716c38d831'),\n",
       " (0,\n",
       "  33300,\n",
       "  '4cc1d0bf1c1d7276609e9539b6208856c468019efc8f3ccd57b43517bc12917a',\n",
       "  'OP_0 ef6232e84397e91a7e22b17cb97f5cec89d088bd'),\n",
       " (1,\n",
       "  174,\n",
       "  '4cc1d0bf1c1d7276609e9539b6208856c468019efc8f3ccd57b43517bc12917a',\n",
       "  'OP_0 847ba3d304bfaf3edb8d21f2b468782c7d0291e1'),\n",
       " (0,\n",
       "  50000,\n",
       "  '568e5a300ad56625fcd2480d81b69ddb1c5876183b3e1f6d9128ceba1c36a2a3',\n",
       "  'OP_0 b0f39fbc966a606fe7a3cffbfb562c2f77ec0553'),\n",
       " (1,\n",
       "  45086,\n",
       "  '568e5a300ad56625fcd2480d81b69ddb1c5876183b3e1f6d9128ceba1c36a2a3',\n",
       "  'OP_0 05b01c566b16cd11fa906cda6eac85d2b1a9e6f5'),\n",
       " (0,\n",
       "  1324,\n",
       "  '57d30e39913070b2b846a8e09c342f4857b4a2d940b578bc614b1685e4987f72',\n",
       "  'OP_0 7cc497558f1d74e584b41212631f310a0c52bcb03f1ec46d465a05f7b611f7c0'),\n",
       " (1,\n",
       "  46216,\n",
       "  '57d30e39913070b2b846a8e09c342f4857b4a2d940b578bc614b1685e4987f72',\n",
       "  'OP_0 d3309a8f27bda348c5f78e3fed37233c891927a1'),\n",
       " (0,\n",
       "  10000,\n",
       "  '5d54883400096d4c3db02cf9772c63e7fe1fd30415b73f8088991b52f2534cc7',\n",
       "  'OP_0 1ff848c6a8caed54698bbd0ae9557403bf529520'),\n",
       " (1,\n",
       "  85086,\n",
       "  '5d54883400096d4c3db02cf9772c63e7fe1fd30415b73f8088991b52f2534cc7',\n",
       "  'OP_0 2ba99fc3bd87d275f4091b7e03d75280ecca37fc'),\n",
       " (0,\n",
       "  9758,\n",
       "  '64d65b07431a0563b247f6ca8124a319d9af2296a3b8fcd3faa958dbedab3b73',\n",
       "  'OP_DUP OP_HASH160 344a0f48ca150ec2b903817660b9b68b13a67026 OP_EQUALVERIFY OP_CHECKSIG'),\n",
       " (0,\n",
       "  1000,\n",
       "  '6db848cc4028201d380642754bfee700fb75ed750cbc47cff48e88b4135520e9',\n",
       "  'OP_0 d2053c7151d07ef0f7986b6cd69194fdc1ee3fe3'),\n",
       " (1,\n",
       "  8950,\n",
       "  '6db848cc4028201d380642754bfee700fb75ed750cbc47cff48e88b4135520e9',\n",
       "  'OP_0 fc1ced6ce68289fe5da94d636bb273e6dd351e45'),\n",
       " (0,\n",
       "  9000,\n",
       "  '71944a1be5b9e74a478bfd2592f876e03e2a4fbdc5a98e0d26d9dd037b7e700f',\n",
       "  'OP_0 ef6232e84397e91a7e22b17cb97f5cec89d088bd'),\n",
       " (1,\n",
       "  31172,\n",
       "  '71944a1be5b9e74a478bfd2592f876e03e2a4fbdc5a98e0d26d9dd037b7e700f',\n",
       "  'OP_0 fc1ced6ce68289fe5da94d636bb273e6dd351e45'),\n",
       " (0,\n",
       "  97096,\n",
       "  '7b11ce3edff6f0d7426c5bc76538854faa80a53d1039b5cf1c379420abdbdf49',\n",
       "  'OP_DUP OP_HASH160 344a0f48ca150ec2b903817660b9b68b13a67026 OP_EQUALVERIFY OP_CHECKSIG'),\n",
       " (0,\n",
       "  2222,\n",
       "  '95473d60f52346594b7a953c808d7905bd0a22c06bf6744a14027df721128a3a',\n",
       "  'OP_0 2bff63ced0744131e9dfab01591d8ef341547b7b'),\n",
       " (1,\n",
       "  14864,\n",
       "  '95473d60f52346594b7a953c808d7905bd0a22c06bf6744a14027df721128a3a',\n",
       "  'OP_0 96bb313e1cd007c27eadbe7dcef389dc6168bc16'),\n",
       " (0,\n",
       "  1111,\n",
       "  '9da25fa461bb634d169e2937934e9d2f39e30dd083f3f439f6b187413dad1b74',\n",
       "  'OP_0 e7cc497558f1d74e584b41212631f310a0c52bcb03f1ec46d465a05f7b611f7c'),\n",
       " (1,\n",
       "  2421,\n",
       "  '9da25fa461bb634d169e2937934e9d2f39e30dd083f3f439f6b187413dad1b74',\n",
       "  'OP_0 2f345b3d4db0865368525550f463b936765a673a'),\n",
       " (0,\n",
       "  50000,\n",
       "  'bda4d6507ff268d75ce79cc70b53e9451f657acc4bd918a276577fffbc70d554',\n",
       "  'OP_DUP OP_HASH160 344a0f48ca150ec2b903817660b9b68b13a67026 OP_EQUALVERIFY OP_CHECKSIG'),\n",
       " (1,\n",
       "  49193,\n",
       "  'bda4d6507ff268d75ce79cc70b53e9451f657acc4bd918a276577fffbc70d554',\n",
       "  'OP_0 468802f2ea2f3525c9d57bea4a9db02d7aabd22b35a5795f42133c11974bfd71'),\n",
       " (0,\n",
       "  4444,\n",
       "  'd0f07b17882c016581e4e61a0dab888c42f0f2255ebb902aa16ec9ae8614a7dc',\n",
       "  'OP_0 73e624baac78eba72c25a0909318f988506295e581f8f6236a32d02fbdb08fbe'),\n",
       " (1,\n",
       "  138,\n",
       "  'd0f07b17882c016581e4e61a0dab888c42f0f2255ebb902aa16ec9ae8614a7dc',\n",
       "  'OP_0 29d4e1412df72ffdb44a1d621a594e3d003f5104'),\n",
       " (0,\n",
       "  50000,\n",
       "  'd4a11095338e4e4e7e7a3a1c61a5ec63aa7de230155ab6c34dcd8e6a5c51fb14',\n",
       "  'OP_DUP OP_HASH160 344a0f48ca150ec2b903817660b9b68b13a67026 OP_EQUALVERIFY OP_CHECKSIG'),\n",
       " (1,\n",
       "  46772,\n",
       "  'd4a11095338e4e4e7e7a3a1c61a5ec63aa7de230155ab6c34dcd8e6a5c51fb14',\n",
       "  'OP_0 7bae3396daa75a499dd9815167837a317dacb250e2ac28d1015c9404e6cdaaff'),\n",
       " (0,\n",
       "  7000,\n",
       "  'de14fbd1f89df79e4de29df6890af3db9d7c4511173e4f9e70f100d6cb17655a',\n",
       "  'OP_0 2bff63ced0744131e9dfab01591d8ef341547b7b'),\n",
       " (1,\n",
       "  88086,\n",
       "  'de14fbd1f89df79e4de29df6890af3db9d7c4511173e4f9e70f100d6cb17655a',\n",
       "  'OP_0 9c1a94e31ab3905852d33edd3f8f41df08f0b420'),\n",
       " (0,\n",
       "  12300,\n",
       "  'efcaeb21574c8c43bfe674ac0e493718f69b2ce51601cf994509abd9125e8248',\n",
       "  'OP_0 3f5486b0401abd51794380e39c8dbff33082b222'),\n",
       " (1,\n",
       "  52958,\n",
       "  'efcaeb21574c8c43bfe674ac0e493718f69b2ce51601cf994509abd9125e8248',\n",
       "  'OP_0 06f3ed1e0139c25dcada12d96a05c5fb016b1a25'),\n",
       " (0,\n",
       "  99758,\n",
       "  'f75b3bb2621422e7d36ade514a0e22eda012d4f6be863a58a484fab380dc4c05',\n",
       "  'OP_DUP OP_HASH160 344a0f48ca150ec2b903817660b9b68b13a67026 OP_EQUALVERIFY OP_CHECKSIG'),\n",
       " (0,\n",
       "  10000,\n",
       "  'ffac4dd0cf580305db11dd206efb003d3337d4b7939d66168161f7851e0161d9',\n",
       "  'OP_0 eeffd695fa335c6deb99b323afbb5dafe0db5cd3'),\n",
       " (1,\n",
       "  70172,\n",
       "  'ffac4dd0cf580305db11dd206efb003d3337d4b7939d66168161f7851e0161d9',\n",
       "  'OP_0 b049fb613114b2c82071b456d249a6c7383bdc27')]"
      ]
     },
     "execution_count": 7,
     "metadata": {},
     "output_type": "execute_result"
    }
   ],
   "source": [
    "query = \"SELECT * FROM Tx_Outs\"\n",
    "w = db.conn.cursor().execute(query)\n",
    "w.fetchall()"
   ]
  },
  {
   "cell_type": "code",
   "execution_count": 4,
   "metadata": {},
   "outputs": [
    {
     "data": {
      "text/plain": [
       "True"
      ]
     },
     "execution_count": 4,
     "metadata": {},
     "output_type": "execute_result"
    }
   ],
   "source": [
    "db.create_partial_transaction_table()\n",
    "db.create_partial_tx_in_table()\n",
    "db.create_partial_tx_out_table()"
   ]
  },
  {
   "cell_type": "code",
   "execution_count": null,
   "metadata": {},
   "outputs": [],
   "source": []
  }
 ],
 "metadata": {
  "kernelspec": {
   "display_name": "Python 3",
   "language": "python",
   "name": "python3"
  },
  "language_info": {
   "codemirror_mode": {
    "name": "ipython",
    "version": 3
   },
   "file_extension": ".py",
   "mimetype": "text/x-python",
   "name": "python",
   "nbconvert_exporter": "python",
   "pygments_lexer": "ipython3",
   "version": "3.7.7"
  }
 },
 "nbformat": 4,
 "nbformat_minor": 4
}
