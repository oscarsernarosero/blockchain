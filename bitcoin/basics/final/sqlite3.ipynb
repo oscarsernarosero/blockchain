{
 "cells": [
  {
   "cell_type": "code",
   "execution_count": 1,
   "metadata": {},
   "outputs": [],
   "source": [
    "from wallet_database_sqlite3 import Sqlite3Wallet"
   ]
  },
  {
   "cell_type": "code",
   "execution_count": 2,
   "metadata": {},
   "outputs": [
    {
     "name": "stdout",
     "output_type": "stream",
     "text": [
      "connection with database made.\n"
     ]
    }
   ],
   "source": [
    "db = Sqlite3Wallet()"
   ]
  },
  {
   "cell_type": "code",
   "execution_count": 3,
   "metadata": {},
   "outputs": [
    {
     "data": {
      "text/plain": [
       "<sqlite3.Connection at 0x7fa4941502d0>"
      ]
     },
     "execution_count": 3,
     "metadata": {},
     "output_type": "execute_result"
    }
   ],
   "source": [
    "db.conn"
   ]
  },
  {
   "cell_type": "code",
   "execution_count": 4,
   "metadata": {},
   "outputs": [
    {
     "name": "stdout",
     "output_type": "stream",
     "text": [
      "database is locked\n",
      "database is locked\n"
     ]
    },
    {
     "data": {
      "text/plain": [
       "True"
      ]
     },
     "execution_count": 4,
     "metadata": {},
     "output_type": "execute_result"
    }
   ],
   "source": [
    "#db.erase_database()"
   ]
  },
  {
   "cell_type": "code",
   "execution_count": 3,
   "metadata": {},
   "outputs": [
    {
     "name": "stdout",
     "output_type": "stream",
     "text": [
      "CREATE TABLE IF NOT EXISTS CorporateAccount ( acc_index INT NOT NULL, account_name text NOT NULL, \n",
      "        wallet_name text NOT NULL,\n",
      "PRIMARY KEY (acc_index, wallet_name) ) WITHOUT ROWID;\n"
     ]
    },
    {
     "data": {
      "text/plain": [
       "True"
      ]
     },
     "execution_count": 3,
     "metadata": {},
     "output_type": "execute_result"
    }
   ],
   "source": [
    "#res = db.create_tables()\n",
    "#res\n",
    "db.create_CorporateAccount_table()"
   ]
  },
  {
   "cell_type": "code",
   "execution_count": 6,
   "metadata": {},
   "outputs": [
    {
     "data": {
      "text/plain": [
       "[('CorporateAccount',)]"
      ]
     },
     "execution_count": 6,
     "metadata": {},
     "output_type": "execute_result"
    }
   ],
   "source": [
    "res = db.does_table_exist(\"CorporateAccount\")\n",
    "res"
   ]
  },
  {
   "cell_type": "code",
   "execution_count": 9,
   "metadata": {},
   "outputs": [
    {
     "name": "stdout",
     "output_type": "stream",
     "text": [
      "SELECT first_name, last_name, phone, position, xpub FROM Contacts\n",
      "\n"
     ]
    },
    {
     "data": {
      "text/plain": [
       "['perez pepito']"
      ]
     },
     "execution_count": 9,
     "metadata": {},
     "output_type": "execute_result"
    }
   ],
   "source": [
    "#f = db.cursor().execute(\"DROP TABLE Addresses\")\n",
    "#db.create_contact_table()\n",
    "contact_list_raw = db.get_all_contacts()\n",
    "contact_list_raw\n",
    "contact_list  = [x[1]+\" \"+x[0] for x in contact_list_raw if x[1].startswith(\"o\") or x[0].startswith(\"\")]\n",
    "contact_list"
   ]
  },
  {
   "cell_type": "code",
   "execution_count": 8,
   "metadata": {},
   "outputs": [],
   "source": [
    "#db.close()"
   ]
  },
  {
   "cell_type": "code",
   "execution_count": 3,
   "metadata": {},
   "outputs": [
    {
     "name": "stdout",
     "output_type": "stream",
     "text": [
      "INSERT INTO Wallets (xprv, words, name)\n",
      " VALUES('tprv8ZgxMBicQKsPfQJYjuFAso9x6STzmUdMh5U8CQqqQUTgtQHBHCq4C7FseeeZg15L16UeSwbrLwJRTXNPQsJQwqvbBA11sn4M6c3jR1LwAQP', \"engine over neglect science fatigue dawn axis parent mind man escape era goose border invest slab relax bind desert hurry useless lonely frozen morning\", 'from jupyter notebook') ;\n"
     ]
    }
   ],
   "source": [
    "xprv =\"tprv8ZgxMBicQKsPfQJYjuFAso9x6STzmUdMh5U8CQqqQUTgtQHBHCq4C7FseeeZg15L16UeSwbrLwJRTXNPQsJQwqvbBA11sn4M6c3jR1LwAQP\"\n",
    "words = 'b\"engine over neglect science fatigue dawn axis parent mind man escape era goose border invest slab relax bind desert hurry useless lonely frozen morning\"'[1:]\n",
    "res = db.new_wallet(xprv, words, \"from jupyter notebook\")"
   ]
  },
  {
   "cell_type": "code",
   "execution_count": 4,
   "metadata": {},
   "outputs": [
    {
     "data": {
      "text/plain": [
       "True"
      ]
     },
     "execution_count": 4,
     "metadata": {},
     "output_type": "execute_result"
    }
   ],
   "source": [
    "res"
   ]
  },
  {
   "cell_type": "code",
   "execution_count": 5,
   "metadata": {},
   "outputs": [
    {
     "data": {
      "text/plain": [
       "True"
      ]
     },
     "execution_count": 5,
     "metadata": {},
     "output_type": "execute_result"
    }
   ],
   "source": [
    "res = db.new_address(\"first_address\", \"m/0H/0H/\", 0, 0, xprv)\n",
    "res"
   ]
  },
  {
   "cell_type": "code",
   "execution_count": 12,
   "metadata": {},
   "outputs": [
    {
     "data": {
      "text/plain": [
       "True"
      ]
     },
     "execution_count": 12,
     "metadata": {},
     "output_type": "execute_result"
    }
   ],
   "source": [
    "res = db.new_utxo(\"first_address\", 22222, \"transaction_0\", 0, confirmed=6)\n",
    "res"
   ]
  },
  {
   "cell_type": "code",
   "execution_count": 13,
   "metadata": {},
   "outputs": [],
   "source": [
    "utxos = db.look_for_coins(xprv)"
   ]
  },
  {
   "cell_type": "code",
   "execution_count": 14,
   "metadata": {},
   "outputs": [
    {
     "data": {
      "text/plain": [
       "[('transaction_0', 0, 22222)]"
      ]
     },
     "execution_count": 14,
     "metadata": {},
     "output_type": "execute_result"
    }
   ],
   "source": [
    "utxos"
   ]
  },
  {
   "cell_type": "code",
   "execution_count": 15,
   "metadata": {},
   "outputs": [
    {
     "data": {
      "text/plain": [
       "[]"
      ]
     },
     "execution_count": 15,
     "metadata": {},
     "output_type": "execute_result"
    }
   ],
   "source": [
    "unused_addresses = db.get_unused_addresses(xprv)\n",
    "unused_addresses"
   ]
  },
  {
   "cell_type": "code",
   "execution_count": 6,
   "metadata": {},
   "outputs": [
    {
     "data": {
      "text/plain": [
       "True"
      ]
     },
     "execution_count": 6,
     "metadata": {},
     "output_type": "execute_result"
    }
   ],
   "source": [
    "res = db.new_address(\"second_address\", \"m/0H/0H/\", 1, 0, xprv)\n",
    "res"
   ]
  },
  {
   "cell_type": "code",
   "execution_count": 11,
   "metadata": {},
   "outputs": [
    {
     "data": {
      "text/plain": [
       "True"
      ]
     },
     "execution_count": 11,
     "metadata": {},
     "output_type": "execute_result"
    }
   ],
   "source": [
    "res = db.new_address(\"Thirteenth_address\", \"m/0H/0H/\", 13, 0, xprv)\n",
    "res"
   ]
  },
  {
   "cell_type": "code",
   "execution_count": 17,
   "metadata": {},
   "outputs": [
    {
     "name": "stdout",
     "output_type": "stream",
     "text": [
      "SELECT address \n",
      "FROM Addresses WHERE\n",
      "NOT EXISTS(\n",
      "SELECT 1 \n",
      " FROM Utxos\n",
      "WHERE Utxos.address = Addresses.address) \n",
      "AND\n",
      " Addresses.wallet = 'tprv8ZgxMBicQKsPfQJYjuFAso9x6STzmUdMh5U8CQqqQUTgtQHBHCq4C7FseeeZg15L16UeSwbrLwJRTXNPQsJQwqvbBA11sn4M6c3jR1LwAQP'\n",
      "AND\n",
      " (1591753283 - Addresses.created) > 0 AND (1591753283 - Addresses.created) < 172800 ;\n"
     ]
    },
    {
     "data": {
      "text/plain": [
       "[('second_address',)]"
      ]
     },
     "execution_count": 17,
     "metadata": {},
     "output_type": "execute_result"
    }
   ],
   "source": [
    "unused_addresses = db.get_unused_addresses(xprv, 2,2)\n",
    "unused_addresses"
   ]
  },
  {
   "cell_type": "code",
   "execution_count": 18,
   "metadata": {},
   "outputs": [
    {
     "data": {
      "text/plain": [
       "[('first_address',), ('second_address',)]"
      ]
     },
     "execution_count": 18,
     "metadata": {},
     "output_type": "execute_result"
    }
   ],
   "source": [
    "db.get_all_addresses(xprv)"
   ]
  },
  {
   "cell_type": "code",
   "execution_count": 3,
   "metadata": {},
   "outputs": [],
   "source": [
    "f = db.conn.cursor().execute(\"SELECT * FROM CorporateAccount\")"
   ]
  },
  {
   "cell_type": "code",
   "execution_count": 4,
   "metadata": {},
   "outputs": [
    {
     "data": {
      "text/plain": [
       "[(2, 'DEVELOPERS', 'My wallet #2')]"
      ]
     },
     "execution_count": 4,
     "metadata": {},
     "output_type": "execute_result"
    }
   ],
   "source": [
    "f.fetchall()\n",
    "#f.description"
   ]
  },
  {
   "cell_type": "code",
   "execution_count": 20,
   "metadata": {},
   "outputs": [
    {
     "data": {
      "text/plain": [
       "True"
      ]
     },
     "execution_count": 20,
     "metadata": {},
     "output_type": "execute_result"
    }
   ],
   "source": [
    "db.new_tx(\"tx_n1\",[(\"transaction_0\",0)],[(1000,\"script_public_key of my first transaction\")])"
   ]
  },
  {
   "cell_type": "code",
   "execution_count": 21,
   "metadata": {},
   "outputs": [
    {
     "data": {
      "text/plain": [
       "[('tx_n1', 0, 1, 0, 1591752025)]"
      ]
     },
     "execution_count": 21,
     "metadata": {},
     "output_type": "execute_result"
    }
   ],
   "source": [
    "g = db.conn.cursor().execute(\"SELECT * FROM Transactions\")\n",
    "g.fetchall()"
   ]
  },
  {
   "cell_type": "code",
   "execution_count": 22,
   "metadata": {},
   "outputs": [
    {
     "data": {
      "text/plain": [
       "[('transaction_0', 0, 'tx_n1')]"
      ]
     },
     "execution_count": 22,
     "metadata": {},
     "output_type": "execute_result"
    }
   ],
   "source": [
    "h = db.conn.cursor().execute(\"SELECT * FROM Tx_Ins\")\n",
    "h.fetchall()"
   ]
  },
  {
   "cell_type": "code",
   "execution_count": 3,
   "metadata": {},
   "outputs": [
    {
     "data": {
      "text/plain": [
       "[(0,\n",
       "  1000,\n",
       "  '00508e440dc876e769e0dd3e2f61f8e7d33ce90a2e8f023c9aa9f0b8e48c4888',\n",
       "  'This is a test ScriptPubKey')]"
      ]
     },
     "execution_count": 3,
     "metadata": {},
     "output_type": "execute_result"
    }
   ],
   "source": [
    "i = db.conn.cursor().execute(\"SELECT * FROM Tx_Outs\")\n",
    "i.fetchall()"
   ]
  },
  {
   "cell_type": "code",
   "execution_count": null,
   "metadata": {},
   "outputs": [],
   "source": []
  },
  {
   "cell_type": "code",
   "execution_count": 24,
   "metadata": {},
   "outputs": [
    {
     "data": {
      "text/plain": [
       "<sqlite3.Cursor at 0x7f89eae0f6c0>"
      ]
     },
     "execution_count": 24,
     "metadata": {},
     "output_type": "execute_result"
    }
   ],
   "source": [
    "db.conn.cursor().execute(\"DROP TABLE Wallets\")"
   ]
  },
  {
   "cell_type": "code",
   "execution_count": 25,
   "metadata": {},
   "outputs": [
    {
     "data": {
      "text/plain": [
       "[('Addresses',)]"
      ]
     },
     "execution_count": 25,
     "metadata": {},
     "output_type": "execute_result"
    }
   ],
   "source": [
    "db.does_table_exist(\"Addresses\")"
   ]
  },
  {
   "cell_type": "code",
   "execution_count": 4,
   "metadata": {},
   "outputs": [],
   "source": [
    "db.close_database()"
   ]
  },
  {
   "cell_type": "code",
   "execution_count": 28,
   "metadata": {},
   "outputs": [],
   "source": [
    "account = \"m/0H/1H/\"\n",
    "g = db.conn.cursor().execute(f\"SELECT MAX(acc_index) FROM Addresses WHERE wallet='{xprv}' AND path='{account}';\")\n",
    "j = g.fetchall()[0][0]\n",
    "j"
   ]
  },
  {
   "cell_type": "code",
   "execution_count": 29,
   "metadata": {},
   "outputs": [
    {
     "name": "stdout",
     "output_type": "stream",
     "text": [
      "yes\n"
     ]
    }
   ],
   "source": [
    "if j is None:\n",
    "    print(\"yes\")"
   ]
  },
  {
   "cell_type": "code",
   "execution_count": 8,
   "metadata": {},
   "outputs": [
    {
     "data": {
      "text/plain": [
       "[('ce8989c24a699924ecf8281b0b88f1f04de9a98ada0d24fd24f053a2ece21b5e',\n",
       "  1,\n",
       "  1000000),\n",
       " ('71ae64055a84d489aa9f92bb53ad1d76dd846cbafc614a16893c1adf5023c6eb',\n",
       "  1,\n",
       "  22000)]"
      ]
     },
     "execution_count": 8,
     "metadata": {},
     "output_type": "execute_result"
    }
   ],
   "source": [
    "wallet = \"tprv8ZgxMBicQKsPcv5EhtDXAeg624gwoQpnB55T1qaUPbgzjUrziZ9VkM2es6MsMBe7tRpvnoGWb9RFoKjhpkovSepJiMFX5NWBVtcpWcd96pp\"\n",
    "query1 = f\"SELECT tx_id, out_index, amount\\n FROM Utxos INNER JOIN Addresses \\n\"\n",
    "#query1 = f\"SELECT tx_id, out_index, amount\\n FROM Utxos;\"\n",
    "query2 = f\"ON Utxos.address = Addresses.address\\nWHERE Utxos.spent = 0 AND Addresses.wallet = '{wallet}';\"\n",
    "#query2 = f\"ON Utxos.address = Addresses.address\\nWHERE Utxos.spent = 1;\"\n",
    "query = query1 + query2\n",
    "i = db.conn.cursor().execute(query)\n",
    "i.fetchall()"
   ]
  },
  {
   "cell_type": "code",
   "execution_count": 13,
   "metadata": {},
   "outputs": [],
   "source": [
    "query= \"UPDATE Utxos SET spent = 1 WHERE tx_id = 'fb879418a9f754cc4d050c37fcb2af4e0b8e65a7abc7213828f0d507cd1c24e2' AND out_index = 1\"\n",
    "i = db.conn.cursor().execute(query)"
   ]
  },
  {
   "cell_type": "code",
   "execution_count": 14,
   "metadata": {},
   "outputs": [
    {
     "data": {
      "text/plain": [
       "[(1,)]"
      ]
     },
     "execution_count": 14,
     "metadata": {},
     "output_type": "execute_result"
    }
   ],
   "source": [
    "query= \"SELECT spent FROM Utxos WHERE tx_id = 'fb879418a9f754cc4d050c37fcb2af4e0b8e65a7abc7213828f0d507cd1c24e2' AND out_index = 1\"\n",
    "i = db.conn.cursor().execute(query)\n",
    "i.fetchall()"
   ]
  },
  {
   "cell_type": "code",
   "execution_count": 15,
   "metadata": {},
   "outputs": [],
   "source": [
    "db.conn.commit()\n"
   ]
  },
  {
   "cell_type": "code",
   "execution_count": 10,
   "metadata": {},
   "outputs": [
    {
     "name": "stdout",
     "output_type": "stream",
     "text": [
      "connection with database made.\n"
     ]
    },
    {
     "data": {
      "text/plain": [
       "<wallet_database_sqlite3.Sqlite3Environment at 0x7fe63b995400>"
      ]
     },
     "execution_count": 10,
     "metadata": {},
     "output_type": "execute_result"
    }
   ],
   "source": [
    "from wallet_database_sqlite3 import Sqlite3Environment\n",
    "\n",
    "\n",
    "env = Sqlite3Environment()\n",
    "env"
   ]
  },
  {
   "cell_type": "code",
   "execution_count": 11,
   "metadata": {},
   "outputs": [
    {
     "name": "stdout",
     "output_type": "stream",
     "text": [
      "INSERT INTO Keys (name, key)\n",
      "VALUES('BLOCKCYPHER_API_KEY', 'd3e470c810b6440ca60e57f1f60939c6') ;\n",
      "INSERT INTO Keys (name, key)\n",
      "VALUES('CC_API', 'e57bbc8169583b0ebfba6e517836f199eab4ffa74a752d54fcfd2cd0cc385641') ;\n"
     ]
    },
    {
     "data": {
      "text/plain": [
       "True"
      ]
     },
     "execution_count": 11,
     "metadata": {},
     "output_type": "execute_result"
    }
   ],
   "source": [
    "env.new_key(\"BLOCKCYPHER_API_KEY\",\"d3e470c810b6440ca60e57f1f60939c6\")\n",
    "env.new_key(\"CC_API\",\"e57bbc8169583b0ebfba6e517836f199eab4ffa74a752d54fcfd2cd0cc385641\")"
   ]
  },
  {
   "cell_type": "code",
   "execution_count": 12,
   "metadata": {},
   "outputs": [
    {
     "data": {
      "text/plain": [
       "[('BLOCKCYPHER_API_KEY', 'd3e470c810b6440ca60e57f1f60939c6'),\n",
       " ('CC_API',\n",
       "  'e57bbc8169583b0ebfba6e517836f199eab4ffa74a752d54fcfd2cd0cc385641')]"
      ]
     },
     "execution_count": 12,
     "metadata": {},
     "output_type": "execute_result"
    }
   ],
   "source": [
    "i = env.conn.cursor().execute(\"SELECT * FROM Keys\")\n",
    "i.fetchall()"
   ]
  },
  {
   "cell_type": "code",
   "execution_count": 19,
   "metadata": {},
   "outputs": [
    {
     "data": {
      "text/plain": [
       "[('',\n",
       "  '[242181816824935352779949905339585673702570459364503992825384375679130606102141, 243939266812165980563239760114596239186104406092581261489726331066308569928747, 290372254706026096153481489592931453085780088683353495329679236536122868177482, 376644786442849392304182314585976636972636060283971456632342867625859504056500, 461222389963770672910023206337944803706847222730930779040024025202330161562314]',\n",
       "  2,\n",
       "  6,\n",
       "  'None',\n",
       "  'tprv8ghfWd73PvMPqRazzw1m6Vxq6TUzVmbuiyfQ4frvAXgM8kPidJ7QWDWPRmwF9J3da2EhRnLJjiwwFKYAo4bW8p82JRntd8MtKydwTpDoiGj',\n",
       "  'tpubDDPhf39HYJ34itcntagMVucwfUzvf6npJHGBMBuDaoUjyEeVFgvzgi8FbuQnRdMzMDd81kiqs7zcsGQRFC3B75QQQbVbtUM5cqnr7gWuqdf',\n",
       "  'p2wsh',\n",
       "  1,\n",
       "  1,\n",
       "  'None',\n",
       "  -1),\n",
       " ('200823',\n",
       "  '[461222389963770672910023206337944803706847222730930779040024025202330161562314, 242181816824935352779949905339585673702570459364503992825384375679130606102141, 34904519403285236524485843581086005758991025139939414745136436266219764179988]',\n",
       "  2,\n",
       "  4,\n",
       "  'None',\n",
       "  'tprv8oQnacENnx7rqx3EYSQVzSHB5MAFiqywxobYU9o2DAtDqx6ij5bEwSaAGsVbQhfat3dat7sQ3tcLLBYjnGbY51Yn3rWjiyRGnW9QUiv3QSz',\n",
       "  'tpubDL6pj2GcwKoXjR52S656PqwHeNgBtBArY7CKkfqKdSgcgSMVMUQq7wC2SyYca1vcmhLsSyJWXCy44w6eqqqpoSkByPaUrhe4XpABNwJYuSZ',\n",
       "  'p2wsh',\n",
       "  1,\n",
       "  1,\n",
       "  'test1_master_wallet',\n",
       "  200823),\n",
       " ('200824',\n",
       "  '[461222389963770672910023206337944803706847222730930779040024025202330161562314, 242181816824935352779949905339585673702570459364503992825384375679130606102141, 34904519403285236524485843581086005758991025139939414745136436266219764179988]',\n",
       "  2,\n",
       "  4,\n",
       "  'None',\n",
       "  'tprv8oQnacENnx7rtGLHALR3qJ5cAA3Vxq6iJpwL3VaM3Th6eLgVYPbKKYSakJ7sNZHGxgpXuyRQdma5LsMK6qnXCgR9U1iLeFD44owPkU9iNNV',\n",
       "  'tpubDL6pj2GcwKoXmjN53z5eEhjijBZS8AHct8Y7L1ceTjVVUpwGAnQuW34SvTFNaPWReUhkopbjQhgRphKeroKEuxBMntMHQrfm3RZ3JcVAUcP',\n",
       "  'p2wsh',\n",
       "  1,\n",
       "  1,\n",
       "  'test1_master_wallet',\n",
       "  200824),\n",
       " ('200824_manager1_daily_safe',\n",
       "  '[461222389963770672910023206337944803706847222730930779040024025202330161562314, 242181816824935352779949905339585673702570459364503992825384375679130606102141, 34904519403285236524485843581086005758991025139939414745136436266219764179988]',\n",
       "  2,\n",
       "  4,\n",
       "  '95800709053964933282561433899801232546169819566735397106442210103505108450640',\n",
       "  'None',\n",
       "  'tpubDEyD6owPkJdVhbDvQwT8gQeofPzydpPh3njNUK4sQXN9JaShCtdeikKDZKBpVmrbG59Pz3E1Hp5rsd8DeffnMXZQhXHVSb4tjwM3z86dgdD',\n",
       "  'p2wsh',\n",
       "  1,\n",
       "  1,\n",
       "  'manager1_daily_safe',\n",
       "  200824),\n",
       " ('200824_test1_master_wallet',\n",
       "  '[461222389963770672910023206337944803706847222730930779040024025202330161562314, 242181816824935352779949905339585673702570459364503992825384375679130606102141, 34904519403285236524485843581086005758991025139939414745136436266219764179988]',\n",
       "  2,\n",
       "  4,\n",
       "  'None',\n",
       "  'tprv8oQnacENnx7rtGLHALR3qJ5cAA3Vxq6iJpwL3VaM3Th6eLgVYPbKKYSakJ7sNZHGxgpXuyRQdma5LsMK6qnXCgR9U1iLeFD44owPkU9iNNV',\n",
       "  'tpubDL6pj2GcwKoXmjN53z5eEhjijBZS8AHct8Y7L1ceTjVVUpwGAnQuW34SvTFNaPWReUhkopbjQhgRphKeroKEuxBMntMHQrfm3RZ3JcVAUcP',\n",
       "  'p2wsh',\n",
       "  1,\n",
       "  1,\n",
       "  'test1_master_wallet',\n",
       "  200824),\n",
       " ('200825_manager1_daily_safe',\n",
       "  '[461222389963770672910023206337944803706847222730930779040024025202330161562314, 242181816824935352779949905339585673702570459364503992825384375679130606102141, 34904519403285236524485843581086005758991025139939414745136436266219764179988]',\n",
       "  2,\n",
       "  4,\n",
       "  '95800709053964933282561433899801232546169819566735397106442210103505108450640',\n",
       "  'None',\n",
       "  'tpubDEyD6owPkJdVjtsVvpYcwtSMgj7aRveTWy5xZ68Lmt5rAKgRvfFbMryBVEgiykgQ1zJ9Ac65wncMebCYdEi5zkeMzPMwA2A7k1T7UVyAYAN',\n",
       "  'p2wsh',\n",
       "  1,\n",
       "  1,\n",
       "  'manager1_daily_safe',\n",
       "  200825),\n",
       " ('200825_manager2_daily_safe',\n",
       "  '[461222389963770672910023206337944803706847222730930779040024025202330161562314, 242181816824935352779949905339585673702570459364503992825384375679130606102141, 34904519403285236524485843581086005758991025139939414745136436266219764179988]',\n",
       "  2,\n",
       "  4,\n",
       "  '115139476302519344463634772255798084337463636322414000002775671153459500424999',\n",
       "  'None',\n",
       "  'tpubDEyD6owPkJdVjtsVvpYcwtSMgj7aRveTWy5xZ68Lmt5rAKgRvfFbMryBVEgiykgQ1zJ9Ac65wncMebCYdEi5zkeMzPMwA2A7k1T7UVyAYAN',\n",
       "  'p2wsh',\n",
       "  1,\n",
       "  1,\n",
       "  'manager2_daily_safe',\n",
       "  200825),\n",
       " ('200825_manager_daily_safe',\n",
       "  '[461222389963770672910023206337944803706847222730930779040024025202330161562314, 242181816824935352779949905339585673702570459364503992825384375679130606102141, 34904519403285236524485843581086005758991025139939414745136436266219764179988]',\n",
       "  2,\n",
       "  4,\n",
       "  '115139476302519344463634772255798084337463636322414000002775671153459500424999',\n",
       "  'None',\n",
       "  'tpubDEyD6owPkJdVjtsVvpYcwtSMgj7aRveTWy5xZ68Lmt5rAKgRvfFbMryBVEgiykgQ1zJ9Ac65wncMebCYdEi5zkeMzPMwA2A7k1T7UVyAYAN',\n",
       "  'p2wsh',\n",
       "  1,\n",
       "  1,\n",
       "  'manager_daily_safe',\n",
       "  200825),\n",
       " ('200825_test1_master_wallet',\n",
       "  '[461222389963770672910023206337944803706847222730930779040024025202330161562314, 242181816824935352779949905339585673702570459364503992825384375679130606102141, 34904519403285236524485843581086005758991025139939414745136436266219764179988]',\n",
       "  2,\n",
       "  4,\n",
       "  'None',\n",
       "  'tprv8iHAxPu9bvwprRqi3At2YUnF7hbeGbTYwfVBGa63McHTKqRfJGS1BNMKK68RCqmYyZPnZViDeKo1yVcPanhY5kyeWQrG1MXzaNmivL5MkoL',\n",
       "  'tpubDEyD6owPkJdVjtsVvpYcwtSMgj7aRveTWy5xZ68Lmt5rAKgRvfFbMryBVEgiykgQ1zJ9Ac65wncMebCYdEi5zkeMzPMwA2A7k1T7UVyAYAN',\n",
       "  'p2wsh',\n",
       "  1,\n",
       "  1,\n",
       "  'test1_master_wallet',\n",
       "  200825),\n",
       " ('200826_manager1_daily_safe',\n",
       "  '[461222389963770672910023206337944803706847222730930779040024025202330161562314, 242181816824935352779949905339585673702570459364503992825384375679130606102141, 34904519403285236524485843581086005758991025139939414745136436266219764179988]',\n",
       "  2,\n",
       "  4,\n",
       "  '95800709053964933282561433899801232546169819566735397106442210103505108450640',\n",
       "  'None',\n",
       "  'tpubDEyD6owPkJdVoKA1HixMqvP6swdXThw77buybDk7yicWbVLhWFz1DX6GKua3FAGMEBE4T4r9d19zTukTF6Gz3E91W7i2ME8t62KanZTpDEc',\n",
       "  'p2wsh',\n",
       "  1,\n",
       "  1,\n",
       "  'manager1_daily_safe',\n",
       "  200826),\n",
       " ('200826_manager_daily_safe',\n",
       "  '[461222389963770672910023206337944803706847222730930779040024025202330161562314, 242181816824935352779949905339585673702570459364503992825384375679130606102141, 34904519403285236524485843581086005758991025139939414745136436266219764179988]',\n",
       "  2,\n",
       "  4,\n",
       "  '115139476302519344463634772255798084337463636322414000002775671153459500424999',\n",
       "  'None',\n",
       "  'tpubDEyD6owPkJdVoKA1HixMqvP6swdXThw77buybDk7yicWbVLhWFz1DX6GKua3FAGMEBE4T4r9d19zTukTF6Gz3E91W7i2ME8t62KanZTpDEc',\n",
       "  'p2wsh',\n",
       "  1,\n",
       "  1,\n",
       "  'manager_daily_safe',\n",
       "  200826),\n",
       " ('200826_test1_master_wallet',\n",
       "  '[461222389963770672910023206337944803706847222730930779040024025202330161562314, 242181816824935352779949905339585673702570459364503992825384375679130606102141, 34904519403285236524485843581086005758991025139939414745136436266219764179988]',\n",
       "  2,\n",
       "  4,\n",
       "  'None',\n",
       "  'tprv8iHAxPu9bvwpur8DQ5HmSWizJv7bJNkCYJKCJhhpZSp7m15vssAR32UQ9n8pzZP8sxBLVT9zbCTpA9cXvLyPMjqR8zh6xE6G1NcF6agYW6P',\n",
       "  'tpubDEyD6owPkJdVoKA1HixMqvP6swdXThw77buybDk7yicWbVLhWFz1DX6GKua3FAGMEBE4T4r9d19zTukTF6Gz3E91W7i2ME8t62KanZTpDEc',\n",
       "  'p2wsh',\n",
       "  1,\n",
       "  1,\n",
       "  'test1_master_wallet',\n",
       "  200826),\n",
       " ('200827_manager1_daily_safe',\n",
       "  '[461222389963770672910023206337944803706847222730930779040024025202330161562314, 242181816824935352779949905339585673702570459364503992825384375679130606102141, 349045194032852365244858435810860057589910251399394147451364362662197641799889]',\n",
       "  2,\n",
       "  4,\n",
       "  '95800709053964933282561433899801232546169819566735397106442210103505108450640',\n",
       "  'None',\n",
       "  'tpubDEyD6owPkJdVpxZKTGv7k2FEszzKE1GsgLmJ3WWj5ibZeUXQUF4iEZjP8Q4eX8aiQoScEcu8b8WMWNpqkWnbwMhZVsrtLza3eHehefNvwrZ',\n",
       "  'p2wsh',\n",
       "  1,\n",
       "  1,\n",
       "  'manager1_daily_safe',\n",
       "  200827),\n",
       " ('200827_manager_daily_safe',\n",
       "  '[461222389963770672910023206337944803706847222730930779040024025202330161562314, 242181816824935352779949905339585673702570459364503992825384375679130606102141, 349045194032852365244858435810860057589910251399394147451364362662197641799889]',\n",
       "  2,\n",
       "  4,\n",
       "  '115139476302519344463634772255798084337463636322414000002775671153459500424999',\n",
       "  'None',\n",
       "  'tpubDEyD6owPkJdVpxZKTGv7k2FEszzKE1GsgLmJ3WWj5ibZeUXQUF4iEZjP8Q4eX8aiQoScEcu8b8WMWNpqkWnbwMhZVsrtLza3eHehefNvwrZ',\n",
       "  'p2wsh',\n",
       "  1,\n",
       "  1,\n",
       "  'manager_daily_safe',\n",
       "  200827),\n",
       " ('200827_test1_master_wallet',\n",
       "  '[461222389963770672910023206337944803706847222730930779040024025202330161562314, 242181816824935352779949905339585673702570459364503992825384375679130606102141, 349045194032852365244858435810860057589910251399394147451364362662197641799889]',\n",
       "  2,\n",
       "  4,\n",
       "  'None',\n",
       "  'tprv8iHAxPu9bvwpwVXXZdFXLcb8JyUP4g5y73AWkzURfSoAozGdqrF8457WxGfX5oHoDRdChWGNS259giKbcmDTHuSwRUuR8N3cBvHgHHRMgSC',\n",
       "  'tpubDEyD6owPkJdVpxZKTGv7k2FEszzKE1GsgLmJ3WWj5ibZeUXQUF4iEZjP8Q4eX8aiQoScEcu8b8WMWNpqkWnbwMhZVsrtLza3eHehefNvwrZ',\n",
       "  'p2wsh',\n",
       "  1,\n",
       "  1,\n",
       "  'test1_master_wallet',\n",
       "  200827),\n",
       " ('201116_manager1_daily_safe',\n",
       "  '[461222389963770672910023206337944803706847222730930779040024025202330161562314, 242181816824935352779949905339585673702570459364503992825384375679130606102141, 34904519403285236524485843581086005758991025139939414745136436266219764179988]',\n",
       "  2,\n",
       "  4,\n",
       "  '95800709053964933282561433899801232546169819566735397106442210103505108450640',\n",
       "  'None',\n",
       "  'tpubDEyD6owPkJdiYbgePkygMdAS9Mz3swrMVbyoEcsoKz46edayFuUX8Q1t6XB4zw7sasvr7kKC6wSvsa1D4e7bqLioCmB74Lv8uYDpAMrzrHh',\n",
       "  'p2wsh',\n",
       "  1,\n",
       "  1,\n",
       "  'manager1_daily_safe',\n",
       "  201116),\n",
       " ('Montereys',\n",
       "  '[242181816824935352779949905339585673702570459364503992825384375679130606102141, 243939266812165980563239760114596239186104406092581261489726331066308569928747, 290372254706026096153481489592931453085780088683353495329679236536122868177482, 376644786442849392304182314585976636972636060283971456632342867625859504056500]',\n",
       "  2,\n",
       "  5,\n",
       "  'None',\n",
       "  'tprv8ghfWd73PvMPqRazzw1m6Vxq6TUzVmbuiyfQ4frvAXgM8kPidJ7QWDWPRmwF9J3da2EhRnLJjiwwFKYAo4bW8p82JRntd8MtKydwTpDoiGj',\n",
       "  'tpubDDPhf39HYJ34itcntagMVucwfUzvf6npJHGBMBuDaoUjyEeVFgvzgi8FbuQnRdMzMDd81kiqs7zcsGQRFC3B75QQQbVbtUM5cqnr7gWuqdf',\n",
       "  'p2wsh',\n",
       "  1,\n",
       "  1,\n",
       "  'My wallet #2',\n",
       "  -1),\n",
       " ('Nov15-of-20_Montereys',\n",
       "  '[242181816824935352779949905339585673702570459364503992825384375679130606102141, 243939266812165980563239760114596239186104406092581261489726331066308569928747, 290372254706026096153481489592931453085780088683353495329679236536122868177482, 376644786442849392304182314585976636972636060283971456632342867625859504056500]',\n",
       "  2,\n",
       "  5,\n",
       "  'None',\n",
       "  'tprv8iPosAjU5f99zLgAxW1VXDL9XhD8dZQJ8WbPoUYZ8vqiTXvmgqa12iXfrjDiZTRAybLxqhALdffNdcUofm9pEu9Q4mb3AYqpZ3Pt5F6RaAq',\n",
       "  'tpubDF5r1amiE2ppsohxr9g5vczG6ij4ntbChpCB5zarZCe7J2BYKEPbDD9Y2rjNCUixr5HAnV2gtNJmxEc19mNFbmsMyj7VHBQfknU2JGfECMk',\n",
       "  'p2wsh',\n",
       "  1,\n",
       "  1,\n",
       "  'Montereys',\n",
       "  201115),\n",
       " ('Nov16-of-20_Montereys',\n",
       "  '[242181816824935352779949905339585673702570459364503992825384375679130606102141, 243939266812165980563239760114596239186104406092581261489726331066308569928747, 290372254706026096153481489592931453085780088683353495329679236536122868177482, 376644786442849392304182314585976636972636060283971456632342867625859504056500]',\n",
       "  2,\n",
       "  5,\n",
       "  'None',\n",
       "  'tprv8iPosAjU5f9A3MUokfYFzGu36CUCaUVhApUmU18uFFF7fR8RupVCpC1j7ZgiesYZDURnKWyR6RPPUceJY6tpzMPk6hzPbpQWvDPrdHg42tD',\n",
       "  'tpubDF5r1amiE2ppvpWbeKCrPgZ9fDz8jogbk85YkXBCfX3WVuPCYDJnzgdbHhzr7veh3Y9qkaw34eFnurHoXf4GKxd47UUHepUH4WHDEHg6ihk',\n",
       "  'p2wsh',\n",
       "  1,\n",
       "  1,\n",
       "  'Montereys',\n",
       "  201116),\n",
       " ('Nov16-of-20_test1_master_wallet',\n",
       "  '[461222389963770672910023206337944803706847222730930779040024025202330161562314, 242181816824935352779949905339585673702570459364503992825384375679130606102141, 349045194032852365244858435810860057589910251399394147451364362662197641799889]',\n",
       "  2,\n",
       "  4,\n",
       "  'None',\n",
       "  'tprv8iHAxPu9bvx3f8erW7K5xDWKaLU7icfSvJP1x6qVuiFhp9LCdWevwuQ1vP2Fu7AoFxf9xGVKnWZqdpKY8pssGpJZPTtYQSXnAv8kZy5if16',\n",
       "  'tpubDEyD6owPkJdiYbgePkygMdAS9Mz3swrMVbyoEcsoKz46edayFuUX8Q1t6XB4zw7sasvr7kKC6wSvsa1D4e7bqLioCmB74Lv8uYDpAMrzrHh',\n",
       "  'p2wsh',\n",
       "  1,\n",
       "  1,\n",
       "  'test1_master_wallet',\n",
       "  201116),\n",
       " ('manager1_daily_safe',\n",
       "  '[461222389963770672910023206337944803706847222730930779040024025202330161562314, 242181816824935352779949905339585673702570459364503992825384375679130606102141, 34904519403285236524485843581086005758991025139939414745136436266219764179988]',\n",
       "  2,\n",
       "  4,\n",
       "  '95800709053964933282561433899801232546169819566735397106442210103505108450640',\n",
       "  'None',\n",
       "  'tpubDCBZYgsRn5TTzp1ZqkxkpmP6T6fnqUVpUjghF1uzFb1DFNLi4bxrGnA15c4fLY14bbpZnT1uhNqZPmZHY2yNNFfGJTSAxHZgVj6yDUGSThv',\n",
       "  'p2wsh',\n",
       "  1,\n",
       "  1,\n",
       "  'None',\n",
       "  -1),\n",
       " ('manager2_daily_safe',\n",
       "  '[461222389963770672910023206337944803706847222730930779040024025202330161562314, 242181816824935352779949905339585673702570459364503992825384375679130606102141, 34904519403285236524485843581086005758991025139939414745136436266219764179988]',\n",
       "  2,\n",
       "  4,\n",
       "  '115139476302519344463634772255798084337463636322414000002775671153459500424999',\n",
       "  'None',\n",
       "  'tpubDCBZYgsRn5TTzp1ZqkxkpmP6T6fnqUVpUjghF1uzFb1DFNLi4bxrGnA15c4fLY14bbpZnT1uhNqZPmZHY2yNNFfGJTSAxHZgVj6yDUGSThv',\n",
       "  'p2wsh',\n",
       "  1,\n",
       "  1,\n",
       "  'None',\n",
       "  -1),\n",
       " ('manager_daily_safe',\n",
       "  '[461222389963770672910023206337944803706847222730930779040024025202330161562314, 242181816824935352779949905339585673702570459364503992825384375679130606102141, 34904519403285236524485843581086005758991025139939414745136436266219764179988]',\n",
       "  2,\n",
       "  4,\n",
       "  '115139476302519344463634772255798084337463636322414000002775671153459500424999',\n",
       "  'None',\n",
       "  'tpubDCBZYgsRn5TTzp1ZqkxkpmP6T6fnqUVpUjghF1uzFb1DFNLi4bxrGnA15c4fLY14bbpZnT1uhNqZPmZHY2yNNFfGJTSAxHZgVj6yDUGSThv',\n",
       "  'p2wsh',\n",
       "  1,\n",
       "  1,\n",
       "  'None',\n",
       "  -1),\n",
       " ('test1_master_wallet',\n",
       "  '[461222389963770672910023206337944803706847222730930779040024025202330161562314, 242181816824935352779949905339585673702570459364503992825384375679130606102141, 349045194032852365244858435810860057589910251399394147451364362662197641799889]',\n",
       "  2,\n",
       "  4,\n",
       "  'None',\n",
       "  'tprv8fVXQGqBdhmo7Lymx7JARMiyt59rg9JuuS5uxVsgqKCpQt5wSD9G6HY8uVQs5CPNV5i6qt1vWes78DmmbrKa1gncZXpaL3m71GT3RsRcWda',\n",
       "  'tpubDCBZYgsRn5TTzp1ZqkxkpmP6T6fnqUVpUjghF1uzFb1DFNLi4bxrGnA15c4fLY14bbpZnT1uhNqZPmZHY2yNNFfGJTSAxHZgVj6yDUGSThv',\n",
       "  'p2wsh',\n",
       "  1,\n",
       "  1,\n",
       "  'None',\n",
       "  -1),\n",
       " ('week-47-of-20_Montereys',\n",
       "  '[242181816824935352779949905339585673702570459364503992825384375679130606102141, 243939266812165980563239760114596239186104406092581261489726331066308569928747, 290372254706026096153481489592931453085780088683353495329679236536122868177482, 376644786442849392304182314585976636972636060283971456632342867625859504056500]',\n",
       "  2,\n",
       "  5,\n",
       "  'None',\n",
       "  'tprv8iPosAjU5cYLB4CcsCfkqx7W1i4jt6uzoNTU92L7UneDFEp3GzjMXkTJfNGyg6GSiVFHBYa48RW4bsKwp7G3h1KQoAYHBp4pWJgh4PaMH9A',\n",
       "  'tpubDF5r1amiDzE14XEQkrLMFMmcajag3S6uNg4FRYNQu4Sc5j4ouPYwiF5AqVYeT922EpF6A9aBQ8Lkt7b3CU6fvFMpAk53KnPLoSNP97LfxRZ',\n",
       "  'p2wsh',\n",
       "  1,\n",
       "  1,\n",
       "  'Montereys',\n",
       "  2047)]"
      ]
     },
     "execution_count": 19,
     "metadata": {},
     "output_type": "execute_result"
    }
   ],
   "source": [
    "query= \"SELECT * FROM SHDSafeWallet\"\n",
    "i = db.conn.cursor().execute(query)\n",
    "i.fetchall()"
   ]
  },
  {
   "cell_type": "code",
   "execution_count": 13,
   "metadata": {},
   "outputs": [
    {
     "data": {
      "text/plain": [
       "[('5324623d891ff225b41570d09320770c30d9291a0193cda09504a115fb661d1c', 0)]"
      ]
     },
     "execution_count": 13,
     "metadata": {},
     "output_type": "execute_result"
    }
   ],
   "source": [
    "query= \"SELECT tx_id,out_index FROM Tx_Ins WHERE spent_by = 'de14fbd1f89df79e4de29df6890af3db9d7c4511173e4f9e70f100d6cb17655a'\"\n",
    "i = db.conn.cursor().execute(query)\n",
    "i.fetchall()"
   ]
  },
  {
   "cell_type": "code",
   "execution_count": 15,
   "metadata": {},
   "outputs": [
    {
     "data": {
      "text/plain": [
       "[(1,)]"
      ]
     },
     "execution_count": 15,
     "metadata": {},
     "output_type": "execute_result"
    }
   ],
   "source": [
    "query1 = \"SELECT spent FROM Utxos WHERE tx_id = (\"\n",
    "query2 = \"SELECT tx_id FROM Tx_Ins WHERE spent_by = 'de14fbd1f89df79e4de29df6890af3db9d7c4511173e4f9e70f100d6cb17655a') \"\n",
    "query3 = \"AND out_index = (SELECT out_index FROM Tx_Ins WHERE spent_by = 'de14fbd1f89df79e4de29df6890af3db9d7c4511173e4f9e70f100d6cb17655a')\"\n",
    "\n",
    "query = query1 + query2 + query3\n",
    "i = db.conn.cursor().execute(query)\n",
    "i.fetchall()"
   ]
  },
  {
   "cell_type": "code",
   "execution_count": null,
   "metadata": {},
   "outputs": [],
   "source": [
    "query1 = \"UPDATE Utxos SET spent = 0 WHERE (\"\n",
    "query2 = \"SELECT tx_id,out_index FROM Tx_Ins WHERE spent_by = 'de14fbd1f89df79e4de29df6890af3db9d7c4511173e4f9e70f100d6cb17655a')\"\n",
    "query = query1 + query2\n",
    "i = db.conn.cursor().execute(query)\n",
    "i.fetchall()"
   ]
  },
  {
   "cell_type": "code",
   "execution_count": 14,
   "metadata": {},
   "outputs": [],
   "source": [
    "query = \"ALTER TABLE Contacts ADD COLUMN safe_pubkey text\"\n",
    "w = db.conn.cursor().execute(query)"
   ]
  },
  {
   "cell_type": "code",
   "execution_count": 15,
   "metadata": {},
   "outputs": [],
   "source": [
    "db.conn.commit()\n"
   ]
  },
  {
   "cell_type": "code",
   "execution_count": 3,
   "metadata": {},
   "outputs": [
    {
     "data": {
      "text/plain": [
       "(('address', None, None, None, None, None, None),\n",
       " ('acc_index', None, None, None, None, None, None),\n",
       " ('path', None, None, None, None, None, None),\n",
       " ('change_addr', None, None, None, None, None, None),\n",
       " ('created', None, None, None, None, None, None),\n",
       " ('wallet', None, None, None, None, None, None),\n",
       " ('type', None, None, None, None, None, None),\n",
       " ('safe_index', None, None, None, None, None, None))"
      ]
     },
     "execution_count": 3,
     "metadata": {},
     "output_type": "execute_result"
    }
   ],
   "source": [
    "query = \"SELECT * \\nFROM addresses\"\n",
    "w = db.conn.cursor().execute(query)\n",
    "w.description"
   ]
  },
  {
   "cell_type": "code",
   "execution_count": 20,
   "metadata": {},
   "outputs": [],
   "source": [
    "query = \"ALTER TABLE SHDSafeWallet ADD COLUMN level1pubkeys text\"\n",
    "w = db.conn.cursor().execute(query)\n",
    "db.conn.commit()"
   ]
  },
  {
   "cell_type": "code",
   "execution_count": 11,
   "metadata": {},
   "outputs": [
    {
     "data": {
      "text/plain": [
       "(('xprv', None, None, None, None, None, None),\n",
       " ('name', None, None, None, None, None, None),\n",
       " ('words', None, None, None, None, None, None),\n",
       " ('child', None, None, None, None, None, None))"
      ]
     },
     "execution_count": 11,
     "metadata": {},
     "output_type": "execute_result"
    }
   ],
   "source": [
    "query = \"SELECT * FROM wallets WHERE 1=0\"\n",
    "w = db.conn.cursor().execute(query)\n",
    "w.description"
   ]
  },
  {
   "cell_type": "code",
   "execution_count": 3,
   "metadata": {},
   "outputs": [],
   "source": [
    "w = db.create_SHDSafeWallet_table()"
   ]
  },
  {
   "cell_type": "code",
   "execution_count": 4,
   "metadata": {},
   "outputs": [],
   "source": [
    "db.conn.commit()"
   ]
  },
  {
   "cell_type": "code",
   "execution_count": 25,
   "metadata": {},
   "outputs": [],
   "source": [
    "query1 = f\"SELECT * FROM Partial_Tx_Ins\\n\"\n",
    "query2 = f\"WHERE spent_by ='01adcbc8a57d1fca226fd2502b784350670bd7345ba8cd385da7f3f6b53d99c0' ;\"\n",
    "w = db.conn.cursor().execute(query1 + query2)\n",
    "y = w.fetchall()"
   ]
  },
  {
   "cell_type": "code",
   "execution_count": 27,
   "metadata": {},
   "outputs": [
    {
     "data": {
      "text/plain": [
       "[('e43843e9eff42b4a2a74241bf44a959d6283963110d20dc83fbd224a408b8734', 1)]"
      ]
     },
     "execution_count": 27,
     "metadata": {},
     "output_type": "execute_result"
    }
   ],
   "source": [
    "tx_ins = [(x[0],x[1]) for x in y]\n",
    "tx_ins"
   ]
  },
  {
   "cell_type": "code",
   "execution_count": 20,
   "metadata": {},
   "outputs": [
    {
     "data": {
      "text/plain": [
       "[('tb1q9w5elsaaslf8taqfrdlq846jsrkv5dlucqvt0r',\n",
       "  85086,\n",
       "  '5d54883400096d4c3db02cf9772c63e7fe1fd30415b73f8088991b52f2534cc7',\n",
       "  1,\n",
       "  1592351480,\n",
       "  0,\n",
       "  0)]"
      ]
     },
     "execution_count": 20,
     "metadata": {},
     "output_type": "execute_result"
    }
   ],
   "source": [
    "tx_id = \"ffac4dd0cf580305db11dd206efb003d3337d4b7939d66168161f7851e0161d9\"\n",
    "query = f\"SELECT * FROM Utxos WHERE tx_id = (SELECT tx_id FROM Tx_Ins WHERE spent_by = '{tx_id}') AND out_index = (SELECT out_index FROM Tx_Ins WHERE spent_by = '{tx_id}')\"\n",
    "#query = f\"SELECT tx_id FROM Tx_Ins WHERE spent_by = '{tx_id}'\"\n",
    "#\n",
    "\n",
    "w = db.conn.cursor().execute(query)\n",
    "w.fetchall()"
   ]
  },
  {
   "cell_type": "code",
   "execution_count": 5,
   "metadata": {},
   "outputs": [
    {
     "data": {
      "text/plain": [
       "(('tx_id', None, None, None, None, None, None),\n",
       " ('lock_time', None, None, None, None, None, None),\n",
       " ('version', None, None, None, None, None, None),\n",
       " ('n_confirmations', None, None, None, None, None, None),\n",
       " ('created', None, None, None, None, None, None))"
      ]
     },
     "execution_count": 5,
     "metadata": {},
     "output_type": "execute_result"
    }
   ],
   "source": [
    "w.description"
   ]
  },
  {
   "cell_type": "code",
   "execution_count": 4,
   "metadata": {},
   "outputs": [],
   "source": [
    "w = db.create_HDMWallet_table()\n",
    "db.conn.commit()"
   ]
  },
  {
   "cell_type": "code",
   "execution_count": 10,
   "metadata": {},
   "outputs": [],
   "source": [
    "query1 = \"\"\"INSERT INTO PartialTransactions (tx_id,created,n_confirmations,lock_time,version,cosigners_reply,tx_hex)\n",
    " VALUES('695e082bf8bafe95fc2e722edb44b4fcf8c3ba4ebad6c2ff40ec5431bce8e42b',1606266937,0,0,1,\"{'242181816824935352779949905339585673702570459364503992825384375679130606102141': None, '243939266812165980563239760114596239186104406092581261489726331066308569928747': None, 'tpubDF5r1amiE2pq81PKssn6aJtUebfDvnKZuwge73PHYW9g9qd4KsunL8Br9pSyCQ3dmLRHLYgiwi1zcBktqs2zzV22GFuykK5A7VKDgxJUF6N': True}\",'01000000000101f5d786509a717d9591c6e93a1d0a2b8ab72fe33b802aa7655babacb4cb434dc00100000000ffffffff02de000000000000002200205ae31f55a2d06e4810746f9f41f5f496ecee2965a085c8122ab57858e3afe0d28364010000000000220020ed28021523355e748429edbe509259cb944baa2b26cfc527d617e6c40ad7a1f104000047304402201ecc50aea87142ef1be7b660f0ca25ba900b14c951480e05e9c1eadcb53a8d2802203ebf37d88a9c42ed5e2fc4fc61b0587e56af544e962ab701be5d5bd78b0a62920169522102176e0cfd845d27ce83291f431dda33738fcf2096a6f3f7c4abdeb37008ede67d21021b50bb7089e5a251121c701903cd2bc64f61c71a23afcf2447a4ed8b59a1142b210234826fa196c5bb5369e3e4a0da8598e5f3f2e1da4b9b8bba697cfca85ca81fcf53ae00000000');\"\"\"\n",
    "w = db.conn.cursor().execute(query1)\n",
    "#w.fetchall()"
   ]
  },
  {
   "cell_type": "code",
   "execution_count": 4,
   "metadata": {},
   "outputs": [
    {
     "data": {
      "text/plain": [
       "True"
      ]
     },
     "execution_count": 4,
     "metadata": {},
     "output_type": "execute_result"
    }
   ],
   "source": [
    "db.create_partial_transaction_table()\n",
    "db.create_partial_tx_in_table()\n",
    "db.create_partial_tx_out_table"
   ]
  },
  {
   "cell_type": "code",
   "execution_count": 18,
   "metadata": {},
   "outputs": [],
   "source": [
    "x = b\"\\x02\\x1bP\\xbbp\\x89\\xe5\\xa2Q\\x12\\x1cp\\x19\\x03\\xcd+\\xc6Oa\\xc7\\x1a#\\xaf\\xcf$G\\xa4\\xed\\x8bY\\xa1\\x14+\""
   ]
  },
  {
   "cell_type": "code",
   "execution_count": 19,
   "metadata": {},
   "outputs": [
    {
     "data": {
      "text/plain": [
       "243939266812165980563239760114596239186104406092581261489726331066308569928747"
      ]
     },
     "execution_count": 19,
     "metadata": {},
     "output_type": "execute_result"
    }
   ],
   "source": [
    "int.from_bytes(x,\"big\")"
   ]
  },
  {
   "cell_type": "code",
   "execution_count": 13,
   "metadata": {},
   "outputs": [],
   "source": [
    "db.conn.commit()"
   ]
  },
  {
   "cell_type": "code",
   "execution_count": 12,
   "metadata": {},
   "outputs": [
    {
     "data": {
      "text/plain": [
       "True"
      ]
     },
     "execution_count": 12,
     "metadata": {},
     "output_type": "execute_result"
    }
   ],
   "source": [
    "db.delete_tx(\"0996ce043e38f8f21921596392aea0ed7a879639b5ba92622c100a3fa2fc8381\")"
   ]
  },
  {
   "cell_type": "code",
   "execution_count": 3,
   "metadata": {},
   "outputs": [
    {
     "name": "stdout",
     "output_type": "stream",
     "text": [
      "tx_ins: []\n"
     ]
    },
    {
     "data": {
      "text/plain": [
       "True"
      ]
     },
     "execution_count": 3,
     "metadata": {},
     "output_type": "execute_result"
    }
   ],
   "source": [
    "db.recover_utxo(\"30346826e0b88ba78dd2bd37bde9dd084b1ccd37624973cf1a392c19b9973a01\")"
   ]
  },
  {
   "cell_type": "code",
   "execution_count": 3,
   "metadata": {},
   "outputs": [
    {
     "data": {
      "text/plain": [
       "True"
      ]
     },
     "execution_count": 3,
     "metadata": {},
     "output_type": "execute_result"
    }
   ],
   "source": [
    "utxos = [('8084da65d7c8f53ec110e02e874caabc1c3823c673179ac8e5e3d1329be52541', 1)]\n",
    "db.check_utxos_are_spendable(utxos)"
   ]
  },
  {
   "cell_type": "code",
   "execution_count": 8,
   "metadata": {},
   "outputs": [],
   "source": [
    "query= \"SELECT tx_id FROM PartialTransactions\"\n",
    "i = db.conn.cursor().execute(query)\n",
    "partial_txs = i.fetchall()"
   ]
  },
  {
   "cell_type": "code",
   "execution_count": 11,
   "metadata": {},
   "outputs": [
    {
     "data": {
      "text/plain": [
       "[('30346826e0b88ba78dd2bd37bde9dd084b1ccd37624973cf1a392c19b9973a01',),\n",
       " ('49a2f89c1a9a350cf28d8511421fce8bee917a95c1f8625b7588d02961de650b',),\n",
       " ('8747ddc3e8469be4542c37d8751f16af385e8b55ba2d3fbb5addd21aa516da7d',),\n",
       " ('c607c08a7aac67ae930416b93cdb7c62062758276f4e051f823a4892cdbac9a9',)]"
      ]
     },
     "execution_count": 11,
     "metadata": {},
     "output_type": "execute_result"
    }
   ],
   "source": [
    "partial_txs"
   ]
  },
  {
   "cell_type": "code",
   "execution_count": 13,
   "metadata": {},
   "outputs": [
    {
     "name": "stdout",
     "output_type": "stream",
     "text": [
      "True\n",
      "True\n",
      "True\n",
      "True\n"
     ]
    }
   ],
   "source": [
    "for tx in partial_txs:\n",
    "    res = db.delete_partial_tx(tx[0])\n",
    "    print(res)"
   ]
  },
  {
   "cell_type": "code",
   "execution_count": 3,
   "metadata": {},
   "outputs": [],
   "source": [
    "query = f\"SELECT * FROM Addresses\"\n",
    "\n",
    "w = db.conn.cursor().execute(query)\n",
    "y = w.fetchall()"
   ]
  },
  {
   "cell_type": "code",
   "execution_count": 4,
   "metadata": {},
   "outputs": [
    {
     "data": {
      "text/plain": [
       "[('2MuprzwpsgbzTghKu4VRBT8iFHgyuzM9d31',\n",
       "  3,\n",
       "  'm/44H/0H/0H/',\n",
       "  0,\n",
       "  1592008589,\n",
       "  'tprv8ZgxMBicQKsPcv5EhtDXAeg624gwoQpnB55T1qaUPbgzjUrziZ9VkM2es6MsMBe7tRpvnoGWb9RFoKjhpkovSepJiMFX5NWBVtcpWcd96pp',\n",
       "  6,\n",
       "  None),\n",
       " ('2NFmfYxGvJUamqKT9xWt4tZEg3hmERqAd42',\n",
       "  2,\n",
       "  'm/44H/0H/0H/',\n",
       "  0,\n",
       "  1592007852,\n",
       "  'tprv8ZgxMBicQKsPcv5EhtDXAeg624gwoQpnB55T1qaUPbgzjUrziZ9VkM2es6MsMBe7tRpvnoGWb9RFoKjhpkovSepJiMFX5NWBVtcpWcd96pp',\n",
       "  6,\n",
       "  None),\n",
       " ('Multisignature account: tb1q0whr89k65adyn8wes9gk0qm6x976evjsu2kz35gptj2qfekd4tls3a0quq',\n",
       "  1,\n",
       "  'm/1/',\n",
       "  1,\n",
       "  1598552221,\n",
       "  '200827_test1_master_wallet',\n",
       "  5,\n",
       "  200827),\n",
       " ('miLX6JQUFpEayoZMmNN4RWTTZfSX8fdfu1',\n",
       "  6,\n",
       "  'm/44H/0H/0H/',\n",
       "  0,\n",
       "  1592420277,\n",
       "  'tprv8ZgxMBicQKsPcv5EhtDXAeg624gwoQpnB55T1qaUPbgzjUrziZ9VkM2es6MsMBe7tRpvnoGWb9RFoKjhpkovSepJiMFX5NWBVtcpWcd96pp',\n",
       "  2,\n",
       "  None),\n",
       " ('mjem1LPGbA4ERqxrXai4dbsBSuxYdY4d3g',\n",
       "  5,\n",
       "  'm/44H/0H/0H/',\n",
       "  0,\n",
       "  1592023131,\n",
       "  'tprv8ZgxMBicQKsPcv5EhtDXAeg624gwoQpnB55T1qaUPbgzjUrziZ9VkM2es6MsMBe7tRpvnoGWb9RFoKjhpkovSepJiMFX5NWBVtcpWcd96pp',\n",
       "  2,\n",
       "  None),\n",
       " ('mk2wmGqB7ij3vcBiobCZufyRK3VJ5CXnk3',\n",
       "  2,\n",
       "  'm/',\n",
       "  0,\n",
       "  1598637482,\n",
       "  'tprv8huKEhbYUbj1AKLqzjCww2aS7FCYhUJ5FKkarkh3jqFj7nx2CuKwxCeD9Yc6YkSpddgfh15WifYaCDWUfELninzHYiM9ayz7T1SqXQ4zqhp',\n",
       "  2,\n",
       "  0),\n",
       " ('moqjyeLSrHj1p9aK9o4tyPNX95PkGz52mu',\n",
       "  0,\n",
       "  'm/44H/0H/0H/',\n",
       "  0,\n",
       "  1592426914,\n",
       "  'tprv8ZgxMBicQKsPd8D7pksf9YB2RyqrXzssePVaWdnC75KsLE29oo1eSDFdT3b1kg9pXUfp5372CS2fTSHX4dPCy24wZkpki6rfSAYwgmZ3nhq',\n",
       "  2,\n",
       "  None),\n",
       " ('mpJ63XCovrqPrbk8SLvRwCV4zWGkFTYfFx',\n",
       "  0,\n",
       "  'm/44H/0H/0H/',\n",
       "  0,\n",
       "  1592082950,\n",
       "  'tprv8ZgxMBicQKsPcx2sm4qTAKpQXyBNgMWkN2uenrTQFi7M514tpcyviT1rSo9r4rDnxzE5mMX3RbpUtL23v5NBQUzJsVhXEKZgZd5PuRkujkB',\n",
       "  2,\n",
       "  None),\n",
       " ('mpoKjon7FCdvEKwZsiHacMG6e2LZSJZd5m',\n",
       "  0,\n",
       "  'm/',\n",
       "  0,\n",
       "  1598636794,\n",
       "  'tprv8huKEhbYUbj1AKLqzjCww2aS7FCYhUJ5FKkarkh3jqFj7nx2CuKwxCeD9Yc6YkSpddgfh15WifYaCDWUfELninzHYiM9ayz7T1SqXQ4zqhp',\n",
       "  2,\n",
       "  0),\n",
       " ('mqR1kutoq3bHrUrpeNNJjnh1fRdyyr2prQ',\n",
       "  1,\n",
       "  'm/44H/0H/0H/',\n",
       "  0,\n",
       "  1592427105,\n",
       "  'tprv8ZgxMBicQKsPd8D7pksf9YB2RyqrXzssePVaWdnC75KsLE29oo1eSDFdT3b1kg9pXUfp5372CS2fTSHX4dPCy24wZkpki6rfSAYwgmZ3nhq',\n",
       "  2,\n",
       "  None),\n",
       " ('msEqY81jTYjjcw9JKDqiehn8sBWN4U2xBp',\n",
       "  1,\n",
       "  'm/',\n",
       "  0,\n",
       "  1598637264,\n",
       "  'tprv8huKEhbYUbj1AKLqzjCww2aS7FCYhUJ5FKkarkh3jqFj7nx2CuKwxCeD9Yc6YkSpddgfh15WifYaCDWUfELninzHYiM9ayz7T1SqXQ4zqhp',\n",
       "  2,\n",
       "  0),\n",
       " ('mtbnHaJ8na5KntNoTfZc1rY9Tmcx7e8rox',\n",
       "  7,\n",
       "  'm/44H/0H/0H/',\n",
       "  0,\n",
       "  1605681873,\n",
       "  'tprv8ZgxMBicQKsPcv5EhtDXAeg624gwoQpnB55T1qaUPbgzjUrziZ9VkM2es6MsMBe7tRpvnoGWb9RFoKjhpkovSepJiMFX5NWBVtcpWcd96pp',\n",
       "  2,\n",
       "  0),\n",
       " ('mtisLv9ha6yFM9S1TExprJgncVMrtFP9V2',\n",
       "  0,\n",
       "  'm/44H/0H/0H/',\n",
       "  0,\n",
       "  1592007834,\n",
       "  'tprv8ZgxMBicQKsPcv5EhtDXAeg624gwoQpnB55T1qaUPbgzjUrziZ9VkM2es6MsMBe7tRpvnoGWb9RFoKjhpkovSepJiMFX5NWBVtcpWcd96pp',\n",
       "  2,\n",
       "  None),\n",
       " ('myXVzvBHb7s6EbuzJjoeVyXoEKHAybPYwr',\n",
       "  4,\n",
       "  'm/44H/0H/0H/',\n",
       "  0,\n",
       "  1592023126,\n",
       "  'tprv8ZgxMBicQKsPcv5EhtDXAeg624gwoQpnB55T1qaUPbgzjUrziZ9VkM2es6MsMBe7tRpvnoGWb9RFoKjhpkovSepJiMFX5NWBVtcpWcd96pp',\n",
       "  2,\n",
       "  None),\n",
       " ('tb1q0ewvhwq73le4v26tuqja8gxs6dh5pefc927jtg',\n",
       "  0,\n",
       "  'm/44H/0H/0H/',\n",
       "  0,\n",
       "  1592005855,\n",
       "  'tprv8ZgxMBicQKsPfQJYjuFAso9x6STzmUdMh5U8CQqqQUTgtQHBHCq4C7FseeeZg15L16UeSwbrLwJRTXNPQsJQwqvbBA11sn4M6c3jR1LwAQP',\n",
       "  4,\n",
       "  None),\n",
       " ('tb1q0n5ez6q4jpjxltwah53gay84ce0v2y56ryt06q8ez03jmt3wvzaszjrczk',\n",
       "  0,\n",
       "  'm/0/',\n",
       "  0,\n",
       "  1605588249,\n",
       "  'Nov15-of-20_Montereys',\n",
       "  5,\n",
       "  201115),\n",
       " ('tb1q2vnanm6q2yn7gu35jh8lwfsrsvafqujw3vkf0m3jsef6ytfzhcvs4dhvf3',\n",
       "  7,\n",
       "  'm/1/',\n",
       "  1,\n",
       "  1606259890,\n",
       "  'Nov21-of-20_Buenos Aires',\n",
       "  5,\n",
       "  201121),\n",
       " ('tb1q4pgnedjx2qku363zzl49q7fp00kku66hcjrrqm3uf30g43yvdaqsnpgc30',\n",
       "  2,\n",
       "  'm/1/',\n",
       "  1,\n",
       "  1598300201,\n",
       "  '200824',\n",
       "  5,\n",
       "  200824),\n",
       " ('tb1q6lxsdgzj2p988kyr7p72fqwtgkk56305kv7g64507wuqx78hratqnl58g8',\n",
       "  0,\n",
       "  'm/0/',\n",
       "  0,\n",
       "  1598298292,\n",
       "  '200824',\n",
       "  5,\n",
       "  200824),\n",
       " ('tb1q6vcf4re8hk35330h3cl76der8jy3jfapj3h5rx',\n",
       "  3,\n",
       "  'm/44H/0H/1H/',\n",
       "  1,\n",
       "  1597420732,\n",
       "  'tprv8ZgxMBicQKsPcx2sm4qTAKpQXyBNgMWkN2uenrTQFi7M514tpcyviT1rSo9r4rDnxzE5mMX3RbpUtL23v5NBQUzJsVhXEKZgZd5PuRkujkB',\n",
       "  4,\n",
       "  None),\n",
       " ('tb1q82qhvwv5ht67r5g68m0f3y45dfdz3r47xyq48ku4663qzcawvkns0mu0fh',\n",
       "  3,\n",
       "  'm/1/',\n",
       "  1,\n",
       "  1606250944,\n",
       "  'Nov22-of-20_Buenos Aires',\n",
       "  5,\n",
       "  201122),\n",
       " ('tb1q8kh9np5g72jnz8fenqdy8y7ayprsnafd34k5x8kdsqzvf2zfz8qq7mp9n5',\n",
       "  0,\n",
       "  'm/0/',\n",
       "  0,\n",
       "  1606286460,\n",
       "  'week-47-of-20_Buenos Aires',\n",
       "  5,\n",
       "  2047),\n",
       " ('tb1q8tjtyzpfrsayk6rw2zc8a0tlfsrf82jxrev30xna2culfvn09caqp9dam7',\n",
       "  0,\n",
       "  'm/1/',\n",
       "  1,\n",
       "  1606059251,\n",
       "  'Nov22-of-20_Buenos Aires',\n",
       "  5,\n",
       "  201122),\n",
       " ('tb1q8u9pzx94wr0cxu337tc7g8hz6tza72j7h6znsdk4j2jmxl3dpe0qgzkcj3',\n",
       "  3,\n",
       "  'm/0/',\n",
       "  0,\n",
       "  1598588685,\n",
       "  '2020_Corporate_wallet_master',\n",
       "  5,\n",
       "  20),\n",
       " ('tb1q8whhqx28gd4yamsve66slnfav7j2rnycuwwzy8k8g3ym6tvlsshstt3hfs',\n",
       "  1,\n",
       "  'm/0/',\n",
       "  0,\n",
       "  1598588027,\n",
       "  '2020_Corporate_wallet_master',\n",
       "  5,\n",
       "  20),\n",
       " ('tb1q974rxefr7pddf4x3r0mgknwmvt2rdf0u7a8a5w02mqyuar7ep2qsssmnvr',\n",
       "  0,\n",
       "  'm/1/',\n",
       "  1,\n",
       "  1606280925,\n",
       "  'Nov24-of-20_Buenos Aires',\n",
       "  5,\n",
       "  201124),\n",
       " ('tb1q982wzsfd7uhlmdz2r43p5k2w85qr75gympm7hh',\n",
       "  6,\n",
       "  'm/44H/0H/1H/',\n",
       "  1,\n",
       "  1597420418,\n",
       "  'tprv8ZgxMBicQKsPcv5EhtDXAeg624gwoQpnB55T1qaUPbgzjUrziZ9VkM2es6MsMBe7tRpvnoGWb9RFoKjhpkovSepJiMFX5NWBVtcpWcd96pp',\n",
       "  4,\n",
       "  None),\n",
       " ('tb1q9pdrduwz9pf8cexwywrkfh3ykq73x3xpnrlcpdwnp70m8gl4jxds4j3jap',\n",
       "  4,\n",
       "  'm/1/',\n",
       "  1,\n",
       "  1606251613,\n",
       "  'Nov21-of-20_Buenos Aires',\n",
       "  5,\n",
       "  201121),\n",
       " ('tb1q9u69k02dkzr9x6zj24g0gcaexem95ee6wvlnpp',\n",
       "  7,\n",
       "  'm/44H/0H/1H/',\n",
       "  1,\n",
       "  1597421867,\n",
       "  'tprv8ZgxMBicQKsPcv5EhtDXAeg624gwoQpnB55T1qaUPbgzjUrziZ9VkM2es6MsMBe7tRpvnoGWb9RFoKjhpkovSepJiMFX5NWBVtcpWcd96pp',\n",
       "  4,\n",
       "  None),\n",
       " ('tb1q9w5elsaaslf8taqfrdlq846jsrkv5dlucqvt0r',\n",
       "  0,\n",
       "  'm/44H/0H/1H/',\n",
       "  1,\n",
       "  1592351441,\n",
       "  'tprv8ZgxMBicQKsPcx2sm4qTAKpQXyBNgMWkN2uenrTQFi7M514tpcyviT1rSo9r4rDnxzE5mMX3RbpUtL23v5NBQUzJsVhXEKZgZd5PuRkujkB',\n",
       "  4,\n",
       "  None),\n",
       " ('tb1qa55qy9frx408fppfakl9pyjeew2yh23tym8u2f7kzlnvgzkh58cscccyjh',\n",
       "  9,\n",
       "  'm/1/',\n",
       "  1,\n",
       "  1606266934,\n",
       "  'Nov21-of-20_Buenos Aires',\n",
       "  5,\n",
       "  201121),\n",
       " ('tb1qaaz3w472hc8yg8c3mxjjq2krp24jy6mlmffzcgcqckmfyc63zldsgvr85w',\n",
       "  0,\n",
       "  'm/0/',\n",
       "  0,\n",
       "  1606553659,\n",
       "  'week-48-of-20_Buenos Aires',\n",
       "  5,\n",
       "  2048),\n",
       " ('tb1qakrn24j8e6alm7mnpft0ahj3qq6tjnfdnyvdn44ylelp9c8z62ds9pmh5n',\n",
       "  1,\n",
       "  'm/1/',\n",
       "  1,\n",
       "  1598307385,\n",
       "  '200824_test1_master_wallet',\n",
       "  5,\n",
       "  200824),\n",
       " ('tb1qcj6uatjjs4xkvl6ejqgnj59u4dzgxmcwkds5vdwre0yeg9gk9vzqcaasv9',\n",
       "  5,\n",
       "  'm/1/',\n",
       "  1,\n",
       "  1606257044,\n",
       "  'Nov22-of-20_Buenos Aires',\n",
       "  5,\n",
       "  201122),\n",
       " ('tb1qckdu2t8ttl82gul3h2agtzsvc0lcf0j5v8w55v',\n",
       "  4,\n",
       "  'm/44H/0H/1H/',\n",
       "  1,\n",
       "  1597419409,\n",
       "  'tprv8ZgxMBicQKsPcv5EhtDXAeg624gwoQpnB55T1qaUPbgzjUrziZ9VkM2es6MsMBe7tRpvnoGWb9RFoKjhpkovSepJiMFX5NWBVtcpWcd96pp',\n",
       "  4,\n",
       "  None),\n",
       " ('tb1qcla30cz9fxzl9dr963e794tcd3m93a8v2uatkx',\n",
       "  8,\n",
       "  'm/44H/0H/1H/',\n",
       "  1,\n",
       "  1606547011,\n",
       "  'tprv8ZgxMBicQKsPcv5EhtDXAeg624gwoQpnB55T1qaUPbgzjUrziZ9VkM2es6MsMBe7tRpvnoGWb9RFoKjhpkovSepJiMFX5NWBVtcpWcd96pp',\n",
       "  4,\n",
       "  0),\n",
       " ('tb1qd9f3zvg8249qhau2a5mnray5vj0xqg5f8tddg3vdu73saspvtmnst9xhk9',\n",
       "  1,\n",
       "  'm/1/',\n",
       "  1,\n",
       "  1606357101,\n",
       "  'Nov24-of-20_Buenos Aires',\n",
       "  5,\n",
       "  201124),\n",
       " ('tb1qdmgndhwqmlrs42mtwhdwuphzvwk5p03dcv4jp6gkd2lf26ppgnnstlvcwl',\n",
       "  0,\n",
       "  'm/1/',\n",
       "  1,\n",
       "  1606057640,\n",
       "  'Nov21-of-20_Buenos Aires',\n",
       "  5,\n",
       "  201121),\n",
       " ('tb1qdns32eklqlkzwzr54pvddw5t0m28j080j5tkstysuw26cspd3whsx9xqd5',\n",
       "  0,\n",
       "  'm/0/',\n",
       "  0,\n",
       "  1598548029,\n",
       "  '200827_test1_master_wallet',\n",
       "  5,\n",
       "  200827),\n",
       " ('tb1qerc5yqkunhc757ycm7efes2cdw6q48ek5792wp46t96n75456ems590egk',\n",
       "  1,\n",
       "  'm/1/',\n",
       "  1,\n",
       "  1606250076,\n",
       "  'Nov21-of-20_Buenos Aires',\n",
       "  5,\n",
       "  201121),\n",
       " ('tb1qexedmz9lp7k3apt6yfz4g2zx908vc9husngk9l63mmns5l0l6jtqjpgtpr',\n",
       "  5,\n",
       "  'm/0/',\n",
       "  0,\n",
       "  1598589093,\n",
       "  '2020_Corporate_wallet_master',\n",
       "  5,\n",
       "  20),\n",
       " ('tb1qg6yq9uh29u6jtjw4004y48ds94a2h53txkjhjh6zzv7pr96tl4csw2tuks',\n",
       "  3,\n",
       "  'm/1/',\n",
       "  1,\n",
       "  1598589113,\n",
       "  '2020_Corporate_wallet_master',\n",
       "  5,\n",
       "  20),\n",
       " ('tb1qgregw34jm3e7w94vfz6xsfmkx3hg873gylz770nu76vj3m8axpnser5l9x',\n",
       "  4,\n",
       "  'm/0/',\n",
       "  0,\n",
       "  1598588893,\n",
       "  '2020_Corporate_wallet_master',\n",
       "  5,\n",
       "  20),\n",
       " ('tb1qgter8rwp4m4t6hlyaqre8lt807jcamjedc9y76zyv6ywvc7mgyesjjf8nx',\n",
       "  0,\n",
       "  'm/0/',\n",
       "  0,\n",
       "  1605960261,\n",
       "  'Nov21-of-20_Buenos Aires',\n",
       "  5,\n",
       "  201121),\n",
       " ('tb1qj6anz0su6qruyl4dhe7uauufm3sk30qksu73ka',\n",
       "  0,\n",
       "  'm/44H/0H/1H/',\n",
       "  1,\n",
       "  1592007925,\n",
       "  'tprv8ZgxMBicQKsPcv5EhtDXAeg624gwoQpnB55T1qaUPbgzjUrziZ9VkM2es6MsMBe7tRpvnoGWb9RFoKjhpkovSepJiMFX5NWBVtcpWcd96pp',\n",
       "  4,\n",
       "  None),\n",
       " ('tb1qjwe2rufs4rx0aqvwz3dcg9s2gctuxs6k5ulth8psqfyk5m4cpresud3g2r',\n",
       "  2,\n",
       "  'm/1/',\n",
       "  1,\n",
       "  1598307792,\n",
       "  '200824_test1_master_wallet',\n",
       "  5,\n",
       "  200824),\n",
       " ('tb1qkpylkcf3zjevsgr3k3tdyjdxcuurhhp8teyyk2',\n",
       "  1,\n",
       "  'm/44H/0H/1H/',\n",
       "  1,\n",
       "  1597374878,\n",
       "  'tprv8ZgxMBicQKsPcx2sm4qTAKpQXyBNgMWkN2uenrTQFi7M514tpcyviT1rSo9r4rDnxzE5mMX3RbpUtL23v5NBQUzJsVhXEKZgZd5PuRkujkB',\n",
       "  4,\n",
       "  None),\n",
       " ('tb1qkvca6sxn8vmvd63gruc7el0g0d9xyl9wcygpes22m58smersg7hs30pglz',\n",
       "  0,\n",
       "  'm/1/',\n",
       "  1,\n",
       "  1606288829,\n",
       "  'week-47-of-20_Buenos Aires',\n",
       "  5,\n",
       "  2047),\n",
       " ('tb1ql4ajpghg3y93qxt66jk77hfva8an0s28pvjfurxy2vjzy6vgpq3s3eujg2',\n",
       "  0,\n",
       "  'm/0/',\n",
       "  0,\n",
       "  1598341912,\n",
       "  '200825_test1_master_wallet',\n",
       "  5,\n",
       "  200825),\n",
       " ('tb1qllaqjjkve7djj75dhu7tk4gx27fa389lgn3wrtz3hu955rmfvcmq3deun7',\n",
       "  3,\n",
       "  'm/1/',\n",
       "  1,\n",
       "  1606250712,\n",
       "  'Nov21-of-20_Buenos Aires',\n",
       "  5,\n",
       "  201121),\n",
       " ('tb1qlsww6m8xs2yluhdff43khvnnumwn28j9hvet2x',\n",
       "  2,\n",
       "  'm/44H/0H/1H/',\n",
       "  1,\n",
       "  1597374566,\n",
       "  'tprv8ZgxMBicQKsPcv5EhtDXAeg624gwoQpnB55T1qaUPbgzjUrziZ9VkM2es6MsMBe7tRpvnoGWb9RFoKjhpkovSepJiMFX5NWBVtcpWcd96pp',\n",
       "  4,\n",
       "  None),\n",
       " ('tb1qmejdnq7d77g4cflfgne6sjeq260etx2ygg38ear8c3d95t8yspgqt32ejj',\n",
       "  1,\n",
       "  'm/1/',\n",
       "  1,\n",
       "  1598588702,\n",
       "  '2020_Corporate_wallet_master',\n",
       "  5,\n",
       "  20),\n",
       " ('tb1qmmym7jluxhr2zdcmvc0k7v8cvpw9fgm8y07zca65vc2h3haxwggq5qgsc3',\n",
       "  8,\n",
       "  'm/1/',\n",
       "  1,\n",
       "  1606266283,\n",
       "  'Nov21-of-20_Buenos Aires',\n",
       "  5,\n",
       "  201121),\n",
       " ('tb1qmskktc6t40vuh3sdhr8ke3rgt5wlax5yuv68levrxhtfw8ps6v4sjm9ax9',\n",
       "  0,\n",
       "  'm/0/',\n",
       "  0,\n",
       "  1598456328,\n",
       "  '200826_test1_master_wallet',\n",
       "  5,\n",
       "  200826),\n",
       " ('tb1qnsdffcc6kwg9s5kn8mwnlr6pmuy0pdpqyury7j',\n",
       "  0,\n",
       "  'm/44H/0H/1H/',\n",
       "  1,\n",
       "  1592006827,\n",
       "  'tprv8ZgxMBicQKsPfQJYjuFAso9x6STzmUdMh5U8CQqqQUTgtQHBHCq4C7FseeeZg15L16UeSwbrLwJRTXNPQsJQwqvbBA11sn4M6c3jR1LwAQP',\n",
       "  4,\n",
       "  None),\n",
       " ('tb1qp3nqupu6avphl6rsucwx2pyaedzs0xnyfpvyz0ue8rp3n7tknw6qu0mdft',\n",
       "  2,\n",
       "  'm/0/',\n",
       "  0,\n",
       "  1598588499,\n",
       "  '2020_Corporate_wallet_master',\n",
       "  5,\n",
       "  20),\n",
       " ('tb1qpnkmt79zam3gj64f4kn97fcr2f652xw9t5hkkw',\n",
       "  8,\n",
       "  'm/44H/0H/0H/',\n",
       "  0,\n",
       "  1606055945,\n",
       "  'tprv8ZgxMBicQKsPcv5EhtDXAeg624gwoQpnB55T1qaUPbgzjUrziZ9VkM2es6MsMBe7tRpvnoGWb9RFoKjhpkovSepJiMFX5NWBVtcpWcd96pp',\n",
       "  4,\n",
       "  0),\n",
       " ('tb1qq3tsyzzz2gem9ve6jajvj5qjla0cag8sgxtf0n6fy6j6ykkkm2xsu6dqxk',\n",
       "  0,\n",
       "  'm/1/',\n",
       "  1,\n",
       "  1598588161,\n",
       "  '2020_Corporate_wallet_master',\n",
       "  5,\n",
       "  20),\n",
       " ('tb1qqa8j2l955lgxfme4nt663cvqtr6v26ujeumdxq3ld7psy367x90q0nq3mc',\n",
       "  0,\n",
       "  'm/1/',\n",
       "  1,\n",
       "  1598549518,\n",
       "  '200827_test1_master_wallet',\n",
       "  5,\n",
       "  200827),\n",
       " ('tb1qqkcpc4ntzmx3r75sdndxaty962c6neh4jr7zya',\n",
       "  1,\n",
       "  'm/44H/0H/1H/',\n",
       "  1,\n",
       "  1592008782,\n",
       "  'tprv8ZgxMBicQKsPcv5EhtDXAeg624gwoQpnB55T1qaUPbgzjUrziZ9VkM2es6MsMBe7tRpvnoGWb9RFoKjhpkovSepJiMFX5NWBVtcpWcd96pp',\n",
       "  4,\n",
       "  None),\n",
       " ('tb1qqme768sp88p9mjk6ztvk5pw9lvqkkx39lqrkcn',\n",
       "  2,\n",
       "  'm/44H/0H/1H/',\n",
       "  1,\n",
       "  1597375869,\n",
       "  'tprv8ZgxMBicQKsPcx2sm4qTAKpQXyBNgMWkN2uenrTQFi7M514tpcyviT1rSo9r4rDnxzE5mMX3RbpUtL23v5NBQUzJsVhXEKZgZd5PuRkujkB',\n",
       "  4,\n",
       "  None),\n",
       " ('tb1qre6ev7eurycqdk3cqyg22p6ljzczt9p7qpk3qgmgvt0wmh79mcsqmuypc3',\n",
       "  2,\n",
       "  'm/1/',\n",
       "  1,\n",
       "  1598588916,\n",
       "  '2020_Corporate_wallet_master',\n",
       "  5,\n",
       "  20),\n",
       " ('tb1qrur2glg85s67tms28pj6lkxpzlw6hrfnkynk78xjlmlp8cy0kr5s6np7k5',\n",
       "  0,\n",
       "  'm/0/',\n",
       "  0,\n",
       "  1605587350,\n",
       "  'Nov16-of-20_Montereys',\n",
       "  5,\n",
       "  201116),\n",
       " ('tb1qrxl4k87rp5u75pdvkxd6g9vvqg5494hjvn4nh6uht2wyd49sclhsuvtt4k',\n",
       "  5,\n",
       "  'm/1/',\n",
       "  1,\n",
       "  1606251727,\n",
       "  'Nov21-of-20_Buenos Aires',\n",
       "  5,\n",
       "  201121),\n",
       " ('tb1qs2ttef2l793njqx5eaa8evejc8vgr9nwjndrs9dat2n33mzea2tqedhsnx',\n",
       "  0,\n",
       "  'm/0/',\n",
       "  0,\n",
       "  1598587112,\n",
       "  '2020_Corporate_wallet_master',\n",
       "  5,\n",
       "  20),\n",
       " ('tb1qs3a685cyh7hnakudy8etg6rc937s9y0ph5nh7g',\n",
       "  3,\n",
       "  'm/44H/0H/1H/',\n",
       "  1,\n",
       "  1597375653,\n",
       "  'tprv8ZgxMBicQKsPcv5EhtDXAeg624gwoQpnB55T1qaUPbgzjUrziZ9VkM2es6MsMBe7tRpvnoGWb9RFoKjhpkovSepJiMFX5NWBVtcpWcd96pp',\n",
       "  4,\n",
       "  None),\n",
       " ('tb1qs6z6lc44jhgksaw5ssfgzg6d22tfux5tcua6ag',\n",
       "  1,\n",
       "  'm/44H/0H/0H/',\n",
       "  0,\n",
       "  1592007844,\n",
       "  'tprv8ZgxMBicQKsPcv5EhtDXAeg624gwoQpnB55T1qaUPbgzjUrziZ9VkM2es6MsMBe7tRpvnoGWb9RFoKjhpkovSepJiMFX5NWBVtcpWcd96pp',\n",
       "  4,\n",
       "  None),\n",
       " ('tb1qt6etdgv0nuxnw3sjg3ta2n9zcjaz7znw0lwxca2gget8u0z8u8ys7adnar',\n",
       "  6,\n",
       "  'm/1/',\n",
       "  1,\n",
       "  1606251873,\n",
       "  'Nov21-of-20_Buenos Aires',\n",
       "  5,\n",
       "  201121),\n",
       " ('tb1qtqfvwxtewta5s7z72cnax7y09kjes6w2hsah7ezj8vf2p6l5ugvqpvk8dp',\n",
       "  1,\n",
       "  'm/1/',\n",
       "  0,\n",
       "  1598299140,\n",
       "  '200824',\n",
       "  5,\n",
       "  200824),\n",
       " ('tb1qulp4jvykkaezr30q5w077afljkem7a6kg3u07cgmvkls3jnupe3qa7jy3e',\n",
       "  2,\n",
       "  'm/1/',\n",
       "  1,\n",
       "  1606249656,\n",
       "  'Nov22-of-20_Buenos Aires',\n",
       "  5,\n",
       "  201122),\n",
       " ('tb1quxlwzsqhzq4uhkr75e8qu0a3w9kr3kp36fxhyd',\n",
       "  5,\n",
       "  'm/44H/0H/1H/',\n",
       "  1,\n",
       "  1597420051,\n",
       "  'tprv8ZgxMBicQKsPcv5EhtDXAeg624gwoQpnB55T1qaUPbgzjUrziZ9VkM2es6MsMBe7tRpvnoGWb9RFoKjhpkovSepJiMFX5NWBVtcpWcd96pp',\n",
       "  4,\n",
       "  None),\n",
       " ('tb1qvd7kqnyegkn4unexuamnvpjfxarkz9ggexthewahx0w4w4962m4su7aw3g',\n",
       "  1,\n",
       "  'm/1/',\n",
       "  1,\n",
       "  1606059441,\n",
       "  'Nov22-of-20_Buenos Aires',\n",
       "  5,\n",
       "  201122),\n",
       " ('tb1qvffhaevvm634zt85m2zsyrl2yuwyw9q6heun4rcua8drnuptdhrq0f5kmg',\n",
       "  0,\n",
       "  'm/0/',\n",
       "  0,\n",
       "  1606058765,\n",
       "  'Nov22-of-20_Buenos Aires',\n",
       "  5,\n",
       "  201122),\n",
       " ('tb1qw4kftcxeqmesuwka66mxyrdk8k0evd9mdes8dxax0s6dnq0w8axs9d92d0',\n",
       "  4,\n",
       "  'm/1/',\n",
       "  1,\n",
       "  1606251017,\n",
       "  'Nov22-of-20_Buenos Aires',\n",
       "  5,\n",
       "  201122),\n",
       " ('tb1qx64e97ljs32k59gm3rcarwlseve9vsd3z6v97y835ahjrkps2hlq4vsrne',\n",
       "  0,\n",
       "  'm/0/',\n",
       "  0,\n",
       "  1598307064,\n",
       "  '200824_test1_master_wallet',\n",
       "  5,\n",
       "  200824),\n",
       " ('tb1qx9efp7sat7yjx5jqhawufpv3kyuewru36fh3txky6f5dwvc90mrq26zgrj',\n",
       "  0,\n",
       "  'm/0/',\n",
       "  0,\n",
       "  1606280668,\n",
       "  'Nov24-of-20_Buenos Aires',\n",
       "  5,\n",
       "  201124),\n",
       " ('tb1qyd5df7ran264zqgkhud3cmhgeljdrj9nkwk7x5',\n",
       "  0,\n",
       "  'm/44H/0H/1H/',\n",
       "  1,\n",
       "  1597375357,\n",
       "  'tprv8ZgxMBicQKsPd8D7pksf9YB2RyqrXzssePVaWdnC75KsLE29oo1eSDFdT3b1kg9pXUfp5372CS2fTSHX4dPCy24wZkpki6rfSAYwgmZ3nhq',\n",
       "  4,\n",
       "  None),\n",
       " ('tb1qyddvex3euj0qw67gla93vv82jl5d46af62acvlxql4w79dssnumskgs9ry',\n",
       "  0,\n",
       "  'm/1/',\n",
       "  1,\n",
       "  1598307078,\n",
       "  '200824_test1_master_wallet',\n",
       "  5,\n",
       "  200824),\n",
       " ('tb1qyq33gmkd8t9ge5qf88ev0tz4xeh39kawrdht8ds0ynne5u3esr2s56cfep',\n",
       "  2,\n",
       "  'm/1/',\n",
       "  1,\n",
       "  1606250458,\n",
       "  'Nov21-of-20_Buenos Aires',\n",
       "  5,\n",
       "  201121),\n",
       " ('tb1qyrx8wq4qrg2z98v7ek8rmctcrd0rvjqh2hjug4nnztgg78z39husf6yzek',\n",
       "  0,\n",
       "  'm/1/',\n",
       "  0,\n",
       "  1598298693,\n",
       "  '200824',\n",
       "  5,\n",
       "  200824)]"
      ]
     },
     "execution_count": 4,
     "metadata": {},
     "output_type": "execute_result"
    }
   ],
   "source": [
    "y"
   ]
  },
  {
   "cell_type": "code",
   "execution_count": 4,
   "metadata": {},
   "outputs": [
    {
     "data": {
      "text/plain": [
       "[]"
      ]
     },
     "execution_count": 4,
     "metadata": {},
     "output_type": "execute_result"
    }
   ],
   "source": [
    "query1 = \"UPDATE Utxos SET spent = 1 WHERE \"\n",
    "query2 = \"\\ntx_id = 'de14fbd1f89df79e4de29df6890af3db9d7c4511173e4f9e70f100d6cb17655a'  AND out_index = 1\"\n",
    "query = query1 + query2\n",
    "i = db.conn.cursor().execute(query)\n",
    "i.fetchall()"
   ]
  },
  {
   "cell_type": "code",
   "execution_count": null,
   "metadata": {},
   "outputs": [],
   "source": []
  }
 ],
 "metadata": {
  "kernelspec": {
   "display_name": "Python 3",
   "language": "python",
   "name": "python3"
  },
  "language_info": {
   "codemirror_mode": {
    "name": "ipython",
    "version": 3
   },
   "file_extension": ".py",
   "mimetype": "text/x-python",
   "name": "python",
   "nbconvert_exporter": "python",
   "pygments_lexer": "ipython3",
   "version": "3.8.5"
  }
 },
 "nbformat": 4,
 "nbformat_minor": 4
}
