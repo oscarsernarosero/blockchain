{
 "cells": [
  {
   "cell_type": "code",
   "execution_count": 7,
   "metadata": {},
   "outputs": [],
   "source": [
    "import sqlite3\n",
    "from sqlite3 import Error"
   ]
  },
  {
   "cell_type": "code",
   "execution_count": 8,
   "metadata": {},
   "outputs": [],
   "source": [
    "def create_connection(db_file):\n",
    "    \"\"\" create a database connection to a SQLite database \"\"\"\n",
    "    conn = None\n",
    "    try:\n",
    "        conn = sqlite3.connect(db_file)\n",
    "        return conn\n",
    "        \n",
    "    except Error as e:\n",
    "        print(e)\n",
    "    \n",
    "    #finally:\n",
    "        #if conn:\n",
    "            #conn.close()\n",
    "\n",
    "\n",
    "\n",
    "db = create_connection(r\"database/wallet_db.db\")"
   ]
  },
  {
   "cell_type": "code",
   "execution_count": 9,
   "metadata": {},
   "outputs": [],
   "source": [
    "def execute_w_res(conn, query):\n",
    "    try:\n",
    "        c = conn.cursor()\n",
    "        result = c.execute(query)\n",
    "        return result.fetchall()\n",
    "    except Error as e:\n",
    "        print(e)\n",
    "        return None\n",
    "\n",
    "def execute(conn, query):\n",
    "    try:\n",
    "        c = conn.cursor()\n",
    "        c.execute(query)\n",
    "        return True\n",
    "    except Error as e:\n",
    "        print(e)\n",
    "        return None"
   ]
  },
  {
   "cell_type": "code",
   "execution_count": 42,
   "metadata": {},
   "outputs": [],
   "source": [
    "def create_wallet_table(conn):\n",
    "    query1 =  f\"CREATE TABLE IF NOT EXISTS Wallets ( xprv text NOT NULL PRIMARY KEY,\\n \"\n",
    "    query2 = f\"name text UNIQUE, words text NOT NULL) WITHOUT ROWID;\"\n",
    "    query = query1+query2\n",
    "    #print(query)\n",
    "    return execute(conn, query)\n",
    "\n",
    "def create_address_table(conn):\n",
    "    query1 =f\"CREATE TABLE IF NOT EXISTS Addresses ( address text NOT NULL PRIMARY KEY,\\nacc_index INT NOT NULL,\"\n",
    "    query2 = \"\\npath text NOT NULL,\\nchange_addr INT NOT NULL,\\ncreated INT NOT NULL,\\nwallet text NOT NULL,\\nFOREIGN KEY (wallet) \"\n",
    "    query3 = \"\\nREFERENCES Wallets(xprv) ) WITHOUT ROWID ;\"\n",
    "    query = query1 + query2 + query3\n",
    "    print(query)\n",
    "    return execute(conn, query)\n",
    "\n",
    "def create_utxo_table(conn):\n",
    "    query1 =f\"CREATE TABLE IF NOT EXISTS Utxos ( address text NOT NULL,\\namount INT NOT NULL,\\ntx_id text NOT NULL,\"\n",
    "    query2 = \"\\nout_index INT NOT NULL,\\ncreated INT NOT NULL,\\nspent INT NOT NULL,\\nconfirmed INT NOT NULL, \"\n",
    "    query3 = \"\\nPRIMARY KEY (tx_id, out_index)\\nFOREIGN KEY (address)\\nREFERENCES Addresses(address) );\"\n",
    "    query = query1 + query2 + query3\n",
    "    print(query)\n",
    "    return execute(conn, query)\n",
    "\n",
    "def create_transaction_table(conn):\n",
    "    query1 =f\"CREATE TABLE IF NOT EXISTS Transactions ( tx_id text NOT NULL PRIMARY KEY,\\nlock_time INT,\\nversion INT,\\n\"\n",
    "    query2 = \"\\nconfirmations INT NOT NULL,\\ncreated INT NOT NULL)  WITHOUT ROWID ;\"\n",
    "    query = query1 + query2\n",
    "    print(query)\n",
    "    return execute(conn, query)\n",
    "\n",
    "def create_tx_in_table(conn):\n",
    "    query1 =f\"CREATE TABLE IF NOT EXISTS Tx_Ins ( tx_id text NOT NULL, out_index INT NOT NULL,\\nspent_by text NOT NULL,\\n\"\n",
    "    query2 = \"FOREIGN KEY (tx_id,out_index)\\nREFERENCES Utxo(tx_id,out_index) \\n \"\n",
    "    query3 = \"FOREIGN KEY (spent_by)\\nREFERENCES Transactions(tx_id) )  WITHOUT ROWID ;\"\n",
    "    query = query1 + query2 + query3\n",
    "    print(query)\n",
    "    return execute(conn, query)\n",
    "\n",
    "def create_tx_out_table(conn):\n",
    "    query1 =f\"CREATE TABLE IF NOT EXISTS Tx_Outs ( out_index INT NOT NULL,\\n amount INT NOT NULL,\\ncreated_by text NOT NULL,\\n\"\n",
    "    query2 = \"script_pubkey text NOT NULL, \\n PRIMARY KEY (created_by, out_index)\\n\"\n",
    "    query3 = \"FOREIGN KEY (created_by)\\nREFERENCES Transactions(tx_id) )  WITHOUT ROWID ;\"\n",
    "    query = query1 + query2 + query3\n",
    "    print(query)\n",
    "    return execute(conn, query)\n",
    "\n",
    "def create_tables(conn):\n",
    "    create_wallet_table(conn)\n",
    "    create_address_table(conn)\n",
    "    create_utxo_table(conn)\n",
    "    create_transaction_table(conn)\n",
    "    create_tx_in_table(conn)\n",
    "    create_tx_out_table(conn)\n",
    "    return True\n",
    "\n",
    "\n",
    "def new_wallet(conn, xprv, words, name = None ):\n",
    "    query1 = \"INSERT INTO Wallets (xprv, words, name)\\n \"\n",
    "    query2 = f\"VALUES('{xprv}', '{words}', '{name}') ;\"\n",
    "    query = query1+query2\n",
    "    print(query)\n",
    "    return execute(conn, query)\n",
    "\n",
    "def new_address(conn, address, path, acc_index, change_addr, created, wallet):\n",
    "    query1 = \"INSERT INTO Addresses (address, path, acc_index, change_addr, created, wallet)\\n \"\n",
    "    query2 = f\"VALUES({address}, {path}, {acc_index}, {change_addr}, {created}, {wallet}) ;\"\n",
    "    query = query1+query2\n",
    "    #print(query)\n",
    "    return execute(conn, query)\n",
    "\n",
    "def new_utxo(conn, address, amount, tx_id, out_index, created, spent=False, confirmed=False):\n",
    "    query1 = \"INSERT INTO Utxos (address, amount, tx_id, out_index, created, spent, confirmed)\\n \"\n",
    "    query2 = f\"VALUES({address}, {amount}, {tx_id}, {out_index}, {created}, {spent}, {confirmed});\"\n",
    "    query = query1+query2\n",
    "    #print(query)\n",
    "    return execute(conn, query)\n",
    "\n",
    "def new_tx(conn, tx_id, tx_ins, tx_outs, lock_time=None, version=1 ):\n",
    "    \"\"\"\n",
    "    tx_id: String. transaction id.\n",
    "    tx_ins: List of touples: [ (prev_tx_id, index), ... ]\n",
    "    tx_outs: List of touples: [ (out_index, amount, script_pubkey), ... ]\n",
    "    lock_time: Int: transaction locktime.\n",
    "    version: Int: version.\n",
    "    \"\"\"\n",
    "    query1 = \"INSERT INTO Transactions ( tx_id, lock_time, version)\\n \"\n",
    "    query2 = f\"VALUES({tx_id}, {lock_time}, {version});\"\n",
    "    query = query1+query2\n",
    "    execute(conn, query)\n",
    "    \n",
    "    for tx_in in tx_ins:\n",
    "        query3 = \"INSERT INTO Tx_Ins ( tx_id, out_index, spent_by)\\n \"\n",
    "        query4 = f\"VALUES( {tx_in[0]}, {tx_in[1]}, {tx_id});\"\n",
    "        query = query3+query4\n",
    "        execute(conn, query)\n",
    "        \n",
    "    for tx_out in tx_outs:\n",
    "        query5 = \"INSERT INTO Tx_Outs ( out_index, amount, script_pubkey, created_by)\\n \"\n",
    "        query6 = f\"VALUES( {tx_out[0]}, {tx_out[1]}, {tx_out[2]}, {tx_id});\"\n",
    "        query = query5+query6\n",
    "        execute(conn, query)\n",
    "    \n",
    "    return execute(conn, query)\n",
    "\n",
    "\n",
    "\n",
    "\n",
    "def does_table_exist(conn, table):\n",
    "    query = f\"SELECT name FROM sqlite_master WHERE type='table' AND name='{table}';\"\n",
    "    return execute_w_res(conn, query)\n",
    "\n",
    "#def create_address(conn, address,i,change_addr,wallet_xprv):\n",
    "    "
   ]
  },
  {
   "cell_type": "code",
   "execution_count": 40,
   "metadata": {},
   "outputs": [
    {
     "name": "stdout",
     "output_type": "stream",
     "text": [
      "CREATE TABLE IF NOT EXISTS Addresses ( address text NOT NULL PRIMARY KEY,\n",
      "acc_index INT NOT NULL,\n",
      "path text NOT NULL,\n",
      "change_addr INT NOT NULL,\n",
      "created INT NOT NULL,\n",
      "wallet text NOT NULL,\n",
      "FOREIGN KEY (wallet) \n",
      "REFERENCES Wallets(xprv) ) WITHOUT ROWID ;\n",
      "CREATE TABLE IF NOT EXISTS Utxos ( address text NOT NULL,\n",
      "amount INT NOT NULL,\n",
      "tx_id text NOT NULL,\n",
      "out_index INT NOT NULL,\n",
      "created INT NOT NULL,\n",
      "spent INT NOT NULL,\n",
      "confirmed INT NOT NULL, \n",
      "PRIMARY KEY (tx_id, out_index)\n",
      "FOREIGN KEY (address)\n",
      "REFERENCES Addresses(address) );\n",
      "CREATE TABLE IF NOT EXISTS Transactions ( tx_id text NOT NULL PRIMARY KEY,\n",
      "lock_time INT,\n",
      "version INT,\n",
      "\n",
      "confirmations INT NOT NULL,\n",
      "created INT NOT NULL)  WITHOUT ROWID ;\n",
      "CREATE TABLE IF NOT EXISTS Tx_Ins ( tx_id text NOT NULL, out_index INT NOT NULL,\n",
      "spent_by text NOT NULL,\n",
      "FOREIGN KEY (tx_id,out_index)\n",
      "REFERENCES Utxo(tx_id,out_index) \n",
      " FOREIGN KEY (spent_by)\n",
      "REFERENCES Transactions(tx_id) )  WITHOUT ROWID ;\n",
      "PRIMARY KEY missing on table Tx_Ins\n",
      "CREATE TABLE IF NOT EXISTS Tx_Outs ( out_index INT NOT NULL,\n",
      " amount INT NOT NULL,\n",
      "created_by text NOT NULL,\n",
      "script_pubkey text NOT NULL, \n",
      " PRIMARY KEY (created_by, out_index)\n",
      "FOREIGN KEY (created_by)\n",
      "REFERENCES Transactions(tx_id) )  WITHOUT ROWID ;\n"
     ]
    },
    {
     "data": {
      "text/plain": [
       "True"
      ]
     },
     "execution_count": 40,
     "metadata": {},
     "output_type": "execute_result"
    }
   ],
   "source": [
    "res = create_tables(db)\n",
    "res"
   ]
  },
  {
   "cell_type": "code",
   "execution_count": 17,
   "metadata": {},
   "outputs": [
    {
     "name": "stdout",
     "output_type": "stream",
     "text": [
      "CREATE TABLE IF NOT EXISTS Addresses ( address text PRIMARY KEY,\n",
      "acc_index INT NOT NULL UNIQUE,\n",
      "change_addr INT NOT NULL,\n",
      "created INT NOT NULL,\n",
      "wallet text NOT NULL,\n",
      "FOREIGN KEY (wallet) \n",
      "REFERENCES Wallets(xprv) ) WITHOUT ROWID ;\n"
     ]
    }
   ],
   "source": [
    "res = create_address_table(db)"
   ]
  },
  {
   "cell_type": "code",
   "execution_count": 18,
   "metadata": {},
   "outputs": [
    {
     "data": {
      "text/plain": [
       "True"
      ]
     },
     "execution_count": 18,
     "metadata": {},
     "output_type": "execute_result"
    }
   ],
   "source": [
    "res"
   ]
  },
  {
   "cell_type": "code",
   "execution_count": 29,
   "metadata": {},
   "outputs": [],
   "source": [
    "res = does_table_exist(db,\"Wallets\")"
   ]
  },
  {
   "cell_type": "code",
   "execution_count": 30,
   "metadata": {},
   "outputs": [
    {
     "data": {
      "text/plain": [
       "[]"
      ]
     },
     "execution_count": 30,
     "metadata": {},
     "output_type": "execute_result"
    }
   ],
   "source": [
    "res"
   ]
  },
  {
   "cell_type": "code",
   "execution_count": 25,
   "metadata": {},
   "outputs": [],
   "source": [
    "f = db.cursor().execute(\"DROP TABLE Addresses\")"
   ]
  },
  {
   "cell_type": "code",
   "execution_count": 6,
   "metadata": {},
   "outputs": [],
   "source": [
    "db.close()"
   ]
  },
  {
   "cell_type": "code",
   "execution_count": 43,
   "metadata": {},
   "outputs": [
    {
     "name": "stdout",
     "output_type": "stream",
     "text": [
      "INSERT INTO Wallets (xprv, words, name)\n",
      " VALUES('tprv8ZgxMBicQKsPfQJYjuFAso9x6STzmUdMh5U8CQqqQUTgtQHBHCq4C7FseeeZg15L16UeSwbrLwJRTXNPQsJQwqvbBA11sn4M6c3jR1LwAQP', 'engine over neglect science fatigue dawn axis parent mind man escape era goose border invest slab relax bind desert hurry useless lonely frozen morning', 'None') ;\n"
     ]
    }
   ],
   "source": [
    "xprv =\"tprv8ZgxMBicQKsPfQJYjuFAso9x6STzmUdMh5U8CQqqQUTgtQHBHCq4C7FseeeZg15L16UeSwbrLwJRTXNPQsJQwqvbBA11sn4M6c3jR1LwAQP\"\n",
    "words = \"engine over neglect science fatigue dawn axis parent mind man escape era goose border invest slab relax bind desert hurry useless lonely frozen morning\"\n",
    "res = new_wallet(db, xprv, words)"
   ]
  },
  {
   "cell_type": "code",
   "execution_count": 44,
   "metadata": {},
   "outputs": [
    {
     "data": {
      "text/plain": [
       "True"
      ]
     },
     "execution_count": 44,
     "metadata": {},
     "output_type": "execute_result"
    }
   ],
   "source": [
    "res"
   ]
  },
  {
   "cell_type": "code",
   "execution_count": null,
   "metadata": {},
   "outputs": [],
   "source": []
  }
 ],
 "metadata": {
  "kernelspec": {
   "display_name": "Python 3",
   "language": "python",
   "name": "python3"
  },
  "language_info": {
   "codemirror_mode": {
    "name": "ipython",
    "version": 3
   },
   "file_extension": ".py",
   "mimetype": "text/x-python",
   "name": "python",
   "nbconvert_exporter": "python",
   "pygments_lexer": "ipython3",
   "version": "3.7.3"
  }
 },
 "nbformat": 4,
 "nbformat_minor": 2
}
