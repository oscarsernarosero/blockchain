{
 "cells": [
  {
   "cell_type": "code",
   "execution_count": 1,
   "metadata": {},
   "outputs": [],
   "source": [
    "from wallet_database_sqlite3 import Sqlite3Wallet"
   ]
  },
  {
   "cell_type": "code",
   "execution_count": 2,
   "metadata": {},
   "outputs": [
    {
     "name": "stdout",
     "output_type": "stream",
     "text": [
      "connection with database made.\n"
     ]
    }
   ],
   "source": [
    "db = Sqlite3Wallet()"
   ]
  },
  {
   "cell_type": "code",
   "execution_count": 3,
   "metadata": {},
   "outputs": [
    {
     "data": {
      "text/plain": [
       "<sqlite3.Connection at 0x7f8a0594f2d0>"
      ]
     },
     "execution_count": 3,
     "metadata": {},
     "output_type": "execute_result"
    }
   ],
   "source": [
    "db.conn"
   ]
  },
  {
   "cell_type": "code",
   "execution_count": 4,
   "metadata": {},
   "outputs": [
    {
     "name": "stdout",
     "output_type": "stream",
     "text": [
      "database is locked\n",
      "database is locked\n"
     ]
    },
    {
     "data": {
      "text/plain": [
       "True"
      ]
     },
     "execution_count": 4,
     "metadata": {},
     "output_type": "execute_result"
    }
   ],
   "source": [
    "db.erase_database()"
   ]
  },
  {
   "cell_type": "code",
   "execution_count": 6,
   "metadata": {},
   "outputs": [
    {
     "data": {
      "text/plain": [
       "True"
      ]
     },
     "execution_count": 6,
     "metadata": {},
     "output_type": "execute_result"
    }
   ],
   "source": [
    "res = db.create_tables()\n",
    "res"
   ]
  },
  {
   "cell_type": "code",
   "execution_count": 4,
   "metadata": {},
   "outputs": [
    {
     "data": {
      "text/plain": [
       "[('Wallets',)]"
      ]
     },
     "execution_count": 4,
     "metadata": {},
     "output_type": "execute_result"
    }
   ],
   "source": [
    "res = db.does_table_exist(\"Wallets\")\n",
    "res"
   ]
  },
  {
   "cell_type": "code",
   "execution_count": 7,
   "metadata": {},
   "outputs": [],
   "source": [
    "#f = db.cursor().execute(\"DROP TABLE Addresses\")"
   ]
  },
  {
   "cell_type": "code",
   "execution_count": 8,
   "metadata": {},
   "outputs": [],
   "source": [
    "#db.close()"
   ]
  },
  {
   "cell_type": "code",
   "execution_count": 3,
   "metadata": {},
   "outputs": [
    {
     "name": "stdout",
     "output_type": "stream",
     "text": [
      "INSERT INTO Wallets (xprv, words, name)\n",
      " VALUES('tprv8ZgxMBicQKsPfQJYjuFAso9x6STzmUdMh5U8CQqqQUTgtQHBHCq4C7FseeeZg15L16UeSwbrLwJRTXNPQsJQwqvbBA11sn4M6c3jR1LwAQP', \"engine over neglect science fatigue dawn axis parent mind man escape era goose border invest slab relax bind desert hurry useless lonely frozen morning\", 'from jupyter notebook') ;\n"
     ]
    }
   ],
   "source": [
    "xprv =\"tprv8ZgxMBicQKsPfQJYjuFAso9x6STzmUdMh5U8CQqqQUTgtQHBHCq4C7FseeeZg15L16UeSwbrLwJRTXNPQsJQwqvbBA11sn4M6c3jR1LwAQP\"\n",
    "words = 'b\"engine over neglect science fatigue dawn axis parent mind man escape era goose border invest slab relax bind desert hurry useless lonely frozen morning\"'[1:]\n",
    "res = db.new_wallet(xprv, words, \"from jupyter notebook\")"
   ]
  },
  {
   "cell_type": "code",
   "execution_count": 4,
   "metadata": {},
   "outputs": [
    {
     "data": {
      "text/plain": [
       "True"
      ]
     },
     "execution_count": 4,
     "metadata": {},
     "output_type": "execute_result"
    }
   ],
   "source": [
    "res"
   ]
  },
  {
   "cell_type": "code",
   "execution_count": 5,
   "metadata": {},
   "outputs": [
    {
     "data": {
      "text/plain": [
       "True"
      ]
     },
     "execution_count": 5,
     "metadata": {},
     "output_type": "execute_result"
    }
   ],
   "source": [
    "res = db.new_address(\"first_address\", \"m/0H/0H/\", 0, 0, xprv)\n",
    "res"
   ]
  },
  {
   "cell_type": "code",
   "execution_count": 12,
   "metadata": {},
   "outputs": [
    {
     "data": {
      "text/plain": [
       "True"
      ]
     },
     "execution_count": 12,
     "metadata": {},
     "output_type": "execute_result"
    }
   ],
   "source": [
    "res = db.new_utxo(\"first_address\", 22222, \"transaction_0\", 0, confirmed=6)\n",
    "res"
   ]
  },
  {
   "cell_type": "code",
   "execution_count": 13,
   "metadata": {},
   "outputs": [],
   "source": [
    "utxos = db.look_for_coins(xprv)"
   ]
  },
  {
   "cell_type": "code",
   "execution_count": 14,
   "metadata": {},
   "outputs": [
    {
     "data": {
      "text/plain": [
       "[('transaction_0', 0, 22222)]"
      ]
     },
     "execution_count": 14,
     "metadata": {},
     "output_type": "execute_result"
    }
   ],
   "source": [
    "utxos"
   ]
  },
  {
   "cell_type": "code",
   "execution_count": 15,
   "metadata": {},
   "outputs": [
    {
     "data": {
      "text/plain": [
       "[]"
      ]
     },
     "execution_count": 15,
     "metadata": {},
     "output_type": "execute_result"
    }
   ],
   "source": [
    "unused_addresses = db.get_unused_addresses(xprv)\n",
    "unused_addresses"
   ]
  },
  {
   "cell_type": "code",
   "execution_count": 6,
   "metadata": {},
   "outputs": [
    {
     "data": {
      "text/plain": [
       "True"
      ]
     },
     "execution_count": 6,
     "metadata": {},
     "output_type": "execute_result"
    }
   ],
   "source": [
    "res = db.new_address(\"second_address\", \"m/0H/0H/\", 1, 0, xprv)\n",
    "res"
   ]
  },
  {
   "cell_type": "code",
   "execution_count": 11,
   "metadata": {},
   "outputs": [
    {
     "data": {
      "text/plain": [
       "True"
      ]
     },
     "execution_count": 11,
     "metadata": {},
     "output_type": "execute_result"
    }
   ],
   "source": [
    "res = db.new_address(\"Thirteenth_address\", \"m/0H/0H/\", 13, 0, xprv)\n",
    "res"
   ]
  },
  {
   "cell_type": "code",
   "execution_count": 17,
   "metadata": {},
   "outputs": [
    {
     "name": "stdout",
     "output_type": "stream",
     "text": [
      "SELECT address \n",
      "FROM Addresses WHERE\n",
      "NOT EXISTS(\n",
      "SELECT 1 \n",
      " FROM Utxos\n",
      "WHERE Utxos.address = Addresses.address) \n",
      "AND\n",
      " Addresses.wallet = 'tprv8ZgxMBicQKsPfQJYjuFAso9x6STzmUdMh5U8CQqqQUTgtQHBHCq4C7FseeeZg15L16UeSwbrLwJRTXNPQsJQwqvbBA11sn4M6c3jR1LwAQP'\n",
      "AND\n",
      " (1591753283 - Addresses.created) > 0 AND (1591753283 - Addresses.created) < 172800 ;\n"
     ]
    },
    {
     "data": {
      "text/plain": [
       "[('second_address',)]"
      ]
     },
     "execution_count": 17,
     "metadata": {},
     "output_type": "execute_result"
    }
   ],
   "source": [
    "unused_addresses = db.get_unused_addresses(xprv, 2,2)\n",
    "unused_addresses"
   ]
  },
  {
   "cell_type": "code",
   "execution_count": 18,
   "metadata": {},
   "outputs": [
    {
     "data": {
      "text/plain": [
       "[('first_address',), ('second_address',)]"
      ]
     },
     "execution_count": 18,
     "metadata": {},
     "output_type": "execute_result"
    }
   ],
   "source": [
    "db.get_all_addresses(xprv)"
   ]
  },
  {
   "cell_type": "code",
   "execution_count": 18,
   "metadata": {},
   "outputs": [],
   "source": [
    "f = db.conn.cursor().execute(\"SELECT * FROM Addresses\")"
   ]
  },
  {
   "cell_type": "code",
   "execution_count": 19,
   "metadata": {},
   "outputs": [
    {
     "data": {
      "text/plain": [
       "[('first_address',\n",
       "  0,\n",
       "  \"m/0'/0'/\",\n",
       "  0,\n",
       "  1591752001,\n",
       "  'tprv8ZgxMBicQKsPfQJYjuFAso9x6STzmUdMh5U8CQqqQUTgtQHBHCq4C7FseeeZg15L16UeSwbrLwJRTXNPQsJQwqvbBA11sn4M6c3jR1LwAQP'),\n",
       " ('second_address',\n",
       "  1,\n",
       "  \"m/0'/0'/\",\n",
       "  1,\n",
       "  1591752006,\n",
       "  'tprv8ZgxMBicQKsPfQJYjuFAso9x6STzmUdMh5U8CQqqQUTgtQHBHCq4C7FseeeZg15L16UeSwbrLwJRTXNPQsJQwqvbBA11sn4M6c3jR1LwAQP')]"
      ]
     },
     "execution_count": 19,
     "metadata": {},
     "output_type": "execute_result"
    }
   ],
   "source": [
    "f.fetchall()"
   ]
  },
  {
   "cell_type": "code",
   "execution_count": 20,
   "metadata": {},
   "outputs": [
    {
     "data": {
      "text/plain": [
       "True"
      ]
     },
     "execution_count": 20,
     "metadata": {},
     "output_type": "execute_result"
    }
   ],
   "source": [
    "db.new_tx(\"tx_n1\",[(\"transaction_0\",0)],[(1000,\"script_public_key of my first transaction\")])"
   ]
  },
  {
   "cell_type": "code",
   "execution_count": 21,
   "metadata": {},
   "outputs": [
    {
     "data": {
      "text/plain": [
       "[('tx_n1', 0, 1, 0, 1591752025)]"
      ]
     },
     "execution_count": 21,
     "metadata": {},
     "output_type": "execute_result"
    }
   ],
   "source": [
    "g = db.conn.cursor().execute(\"SELECT * FROM Transactions\")\n",
    "g.fetchall()"
   ]
  },
  {
   "cell_type": "code",
   "execution_count": 22,
   "metadata": {},
   "outputs": [
    {
     "data": {
      "text/plain": [
       "[('transaction_0', 0, 'tx_n1')]"
      ]
     },
     "execution_count": 22,
     "metadata": {},
     "output_type": "execute_result"
    }
   ],
   "source": [
    "h = db.conn.cursor().execute(\"SELECT * FROM Tx_Ins\")\n",
    "h.fetchall()"
   ]
  },
  {
   "cell_type": "code",
   "execution_count": 3,
   "metadata": {},
   "outputs": [
    {
     "data": {
      "text/plain": [
       "[(0,\n",
       "  1000,\n",
       "  '00508e440dc876e769e0dd3e2f61f8e7d33ce90a2e8f023c9aa9f0b8e48c4888',\n",
       "  'This is a test ScriptPubKey')]"
      ]
     },
     "execution_count": 3,
     "metadata": {},
     "output_type": "execute_result"
    }
   ],
   "source": [
    "i = db.conn.cursor().execute(\"SELECT * FROM Tx_Outs\")\n",
    "i.fetchall()"
   ]
  },
  {
   "cell_type": "code",
   "execution_count": null,
   "metadata": {},
   "outputs": [],
   "source": []
  },
  {
   "cell_type": "code",
   "execution_count": 24,
   "metadata": {},
   "outputs": [
    {
     "data": {
      "text/plain": [
       "<sqlite3.Cursor at 0x7f89eae0f6c0>"
      ]
     },
     "execution_count": 24,
     "metadata": {},
     "output_type": "execute_result"
    }
   ],
   "source": [
    "db.conn.cursor().execute(\"DROP TABLE Wallets\")"
   ]
  },
  {
   "cell_type": "code",
   "execution_count": 25,
   "metadata": {},
   "outputs": [
    {
     "data": {
      "text/plain": [
       "[('Addresses',)]"
      ]
     },
     "execution_count": 25,
     "metadata": {},
     "output_type": "execute_result"
    }
   ],
   "source": [
    "db.does_table_exist(\"Addresses\")"
   ]
  },
  {
   "cell_type": "code",
   "execution_count": 4,
   "metadata": {},
   "outputs": [],
   "source": [
    "db.close_database()"
   ]
  },
  {
   "cell_type": "code",
   "execution_count": 28,
   "metadata": {},
   "outputs": [],
   "source": [
    "account = \"m/0H/1H/\"\n",
    "g = db.conn.cursor().execute(f\"SELECT MAX(acc_index) FROM Addresses WHERE wallet='{xprv}' AND path='{account}';\")\n",
    "j = g.fetchall()[0][0]\n",
    "j"
   ]
  },
  {
   "cell_type": "code",
   "execution_count": 29,
   "metadata": {},
   "outputs": [
    {
     "name": "stdout",
     "output_type": "stream",
     "text": [
      "yes\n"
     ]
    }
   ],
   "source": [
    "if j is None:\n",
    "    print(\"yes\")"
   ]
  },
  {
   "cell_type": "code",
   "execution_count": 8,
   "metadata": {},
   "outputs": [
    {
     "data": {
      "text/plain": [
       "[('ce8989c24a699924ecf8281b0b88f1f04de9a98ada0d24fd24f053a2ece21b5e',\n",
       "  1,\n",
       "  1000000),\n",
       " ('71ae64055a84d489aa9f92bb53ad1d76dd846cbafc614a16893c1adf5023c6eb',\n",
       "  1,\n",
       "  22000)]"
      ]
     },
     "execution_count": 8,
     "metadata": {},
     "output_type": "execute_result"
    }
   ],
   "source": [
    "wallet = \"tprv8ZgxMBicQKsPcv5EhtDXAeg624gwoQpnB55T1qaUPbgzjUrziZ9VkM2es6MsMBe7tRpvnoGWb9RFoKjhpkovSepJiMFX5NWBVtcpWcd96pp\"\n",
    "query1 = f\"SELECT tx_id, out_index, amount\\n FROM Utxos INNER JOIN Addresses \\n\"\n",
    "#query1 = f\"SELECT tx_id, out_index, amount\\n FROM Utxos;\"\n",
    "query2 = f\"ON Utxos.address = Addresses.address\\nWHERE Utxos.spent = 0 AND Addresses.wallet = '{wallet}';\"\n",
    "#query2 = f\"ON Utxos.address = Addresses.address\\nWHERE Utxos.spent = 1;\"\n",
    "query = query1 + query2\n",
    "i = db.conn.cursor().execute(query)\n",
    "i.fetchall()"
   ]
  },
  {
   "cell_type": "code",
   "execution_count": 13,
   "metadata": {},
   "outputs": [],
   "source": [
    "query= \"UPDATE Utxos SET spent = 1 WHERE tx_id = 'fb879418a9f754cc4d050c37fcb2af4e0b8e65a7abc7213828f0d507cd1c24e2' AND out_index = 1\"\n",
    "i = db.conn.cursor().execute(query)"
   ]
  },
  {
   "cell_type": "code",
   "execution_count": 14,
   "metadata": {},
   "outputs": [
    {
     "data": {
      "text/plain": [
       "[(1,)]"
      ]
     },
     "execution_count": 14,
     "metadata": {},
     "output_type": "execute_result"
    }
   ],
   "source": [
    "query= \"SELECT spent FROM Utxos WHERE tx_id = 'fb879418a9f754cc4d050c37fcb2af4e0b8e65a7abc7213828f0d507cd1c24e2' AND out_index = 1\"\n",
    "i = db.conn.cursor().execute(query)\n",
    "i.fetchall()"
   ]
  },
  {
   "cell_type": "code",
   "execution_count": 15,
   "metadata": {},
   "outputs": [],
   "source": [
    "db.conn.commit()\n"
   ]
  },
  {
   "cell_type": "code",
   "execution_count": 10,
   "metadata": {},
   "outputs": [
    {
     "name": "stdout",
     "output_type": "stream",
     "text": [
      "connection with database made.\n"
     ]
    },
    {
     "data": {
      "text/plain": [
       "<wallet_database_sqlite3.Sqlite3Environment at 0x7fe63b995400>"
      ]
     },
     "execution_count": 10,
     "metadata": {},
     "output_type": "execute_result"
    }
   ],
   "source": [
    "from wallet_database_sqlite3 import Sqlite3Environment\n",
    "\n",
    "\n",
    "env = Sqlite3Environment()\n",
    "env"
   ]
  },
  {
   "cell_type": "code",
   "execution_count": 11,
   "metadata": {},
   "outputs": [
    {
     "name": "stdout",
     "output_type": "stream",
     "text": [
      "INSERT INTO Keys (name, key)\n",
      "VALUES('BLOCKCYPHER_API_KEY', 'd3e470c810b6440ca60e57f1f60939c6') ;\n",
      "INSERT INTO Keys (name, key)\n",
      "VALUES('CC_API', 'e57bbc8169583b0ebfba6e517836f199eab4ffa74a752d54fcfd2cd0cc385641') ;\n"
     ]
    },
    {
     "data": {
      "text/plain": [
       "True"
      ]
     },
     "execution_count": 11,
     "metadata": {},
     "output_type": "execute_result"
    }
   ],
   "source": [
    "env.new_key(\"BLOCKCYPHER_API_KEY\",\"d3e470c810b6440ca60e57f1f60939c6\")\n",
    "env.new_key(\"CC_API\",\"e57bbc8169583b0ebfba6e517836f199eab4ffa74a752d54fcfd2cd0cc385641\")"
   ]
  },
  {
   "cell_type": "code",
   "execution_count": 12,
   "metadata": {},
   "outputs": [
    {
     "data": {
      "text/plain": [
       "[('BLOCKCYPHER_API_KEY', 'd3e470c810b6440ca60e57f1f60939c6'),\n",
       " ('CC_API',\n",
       "  'e57bbc8169583b0ebfba6e517836f199eab4ffa74a752d54fcfd2cd0cc385641')]"
      ]
     },
     "execution_count": 12,
     "metadata": {},
     "output_type": "execute_result"
    }
   ],
   "source": [
    "i = env.conn.cursor().execute(\"SELECT * FROM Keys\")\n",
    "i.fetchall()"
   ]
  },
  {
   "cell_type": "code",
   "execution_count": 3,
   "metadata": {},
   "outputs": [
    {
     "data": {
      "text/plain": [
       "[('00508e440dc876e769e0dd3e2f61f8e7d33ce90a2e8f023c9aa9f0b8e48c4888',\n",
       "  0,\n",
       "  1,\n",
       "  0,\n",
       "  1591951237),\n",
       " ('568e5a300ad56625fcd2480d81b69ddb1c5876183b3e1f6d9128ceba1c36a2a3',\n",
       "  0,\n",
       "  1,\n",
       "  0,\n",
       "  1592008786),\n",
       " ('5d54883400096d4c3db02cf9772c63e7fe1fd30415b73f8088991b52f2534cc7',\n",
       "  0,\n",
       "  1,\n",
       "  0,\n",
       "  1592351475),\n",
       " ('95473d60f52346594b7a953c808d7905bd0a22c06bf6744a14027df721128a3a',\n",
       "  0,\n",
       "  1,\n",
       "  0,\n",
       "  1592007929),\n",
       " ('9e69b8d7cd6a895099552a1339d0963a03eeef1590c4d8649a0fd55e763ba512',\n",
       "  0,\n",
       "  1,\n",
       "  0,\n",
       "  1591933045),\n",
       " ('de14fbd1f89df79e4de29df6890af3db9d7c4511173e4f9e70f100d6cb17655a',\n",
       "  0,\n",
       "  1,\n",
       "  0,\n",
       "  1592006832)]"
      ]
     },
     "execution_count": 3,
     "metadata": {},
     "output_type": "execute_result"
    }
   ],
   "source": [
    "query= \"SELECT * FROM transactions\"\n",
    "i = db.conn.cursor().execute(query)\n",
    "i.fetchall()"
   ]
  },
  {
   "cell_type": "code",
   "execution_count": 13,
   "metadata": {},
   "outputs": [
    {
     "data": {
      "text/plain": [
       "[('5324623d891ff225b41570d09320770c30d9291a0193cda09504a115fb661d1c', 0)]"
      ]
     },
     "execution_count": 13,
     "metadata": {},
     "output_type": "execute_result"
    }
   ],
   "source": [
    "query= \"SELECT tx_id,out_index FROM Tx_Ins WHERE spent_by = 'de14fbd1f89df79e4de29df6890af3db9d7c4511173e4f9e70f100d6cb17655a'\"\n",
    "i = db.conn.cursor().execute(query)\n",
    "i.fetchall()"
   ]
  },
  {
   "cell_type": "code",
   "execution_count": 15,
   "metadata": {},
   "outputs": [
    {
     "data": {
      "text/plain": [
       "[(1,)]"
      ]
     },
     "execution_count": 15,
     "metadata": {},
     "output_type": "execute_result"
    }
   ],
   "source": [
    "query1 = \"SELECT spent FROM Utxos WHERE tx_id = (\"\n",
    "query2 = \"SELECT tx_id FROM Tx_Ins WHERE spent_by = 'de14fbd1f89df79e4de29df6890af3db9d7c4511173e4f9e70f100d6cb17655a') \"\n",
    "query3 = \"AND out_index = (SELECT out_index FROM Tx_Ins WHERE spent_by = 'de14fbd1f89df79e4de29df6890af3db9d7c4511173e4f9e70f100d6cb17655a')\"\n",
    "\n",
    "query = query1 + query2 + query3\n",
    "i = db.conn.cursor().execute(query)\n",
    "i.fetchall()"
   ]
  },
  {
   "cell_type": "code",
   "execution_count": null,
   "metadata": {},
   "outputs": [],
   "source": [
    "query1 = \"UPDATE Utxos SET spent = 0 WHERE (\"\n",
    "query2 = \"SELECT tx_id,out_index FROM Tx_Ins WHERE spent_by = 'de14fbd1f89df79e4de29df6890af3db9d7c4511173e4f9e70f100d6cb17655a')\"\n",
    "query = query1 + query2\n",
    "i = db.conn.cursor().execute(query)\n",
    "i.fetchall()"
   ]
  },
  {
   "cell_type": "code",
   "execution_count": 5,
   "metadata": {},
   "outputs": [],
   "source": [
    "query = \"ALTER TABLE SHDSafeWallet ADD COLUMN safe_index INT\"\n",
    "w = db.conn.cursor().execute(query)"
   ]
  },
  {
   "cell_type": "code",
   "execution_count": 6,
   "metadata": {},
   "outputs": [],
   "source": [
    "db.conn.commit()\n"
   ]
  },
  {
   "cell_type": "code",
   "execution_count": 3,
   "metadata": {},
   "outputs": [
    {
     "data": {
      "text/plain": [
       "(('address', None, None, None, None, None, None),\n",
       " ('acc_index', None, None, None, None, None, None),\n",
       " ('path', None, None, None, None, None, None),\n",
       " ('change_addr', None, None, None, None, None, None),\n",
       " ('created', None, None, None, None, None, None),\n",
       " ('wallet', None, None, None, None, None, None),\n",
       " ('type', None, None, None, None, None, None),\n",
       " ('safe_index', None, None, None, None, None, None))"
      ]
     },
     "execution_count": 3,
     "metadata": {},
     "output_type": "execute_result"
    }
   ],
   "source": [
    "query = \"SELECT * \\nFROM addresses\"\n",
    "w = db.conn.cursor().execute(query)\n",
    "w.description"
   ]
  },
  {
   "cell_type": "code",
   "execution_count": 9,
   "metadata": {},
   "outputs": [],
   "source": [
    "query = \"ALTER TABLE wallets ADD COLUMN child INT\"\n",
    "w = db.conn.cursor().execute(query)\n",
    "db.conn.commit()"
   ]
  },
  {
   "cell_type": "code",
   "execution_count": 11,
   "metadata": {},
   "outputs": [
    {
     "data": {
      "text/plain": [
       "(('xprv', None, None, None, None, None, None),\n",
       " ('name', None, None, None, None, None, None),\n",
       " ('words', None, None, None, None, None, None),\n",
       " ('child', None, None, None, None, None, None))"
      ]
     },
     "execution_count": 11,
     "metadata": {},
     "output_type": "execute_result"
    }
   ],
   "source": [
    "query = \"SELECT * FROM wallets WHERE 1=0\"\n",
    "w = db.conn.cursor().execute(query)\n",
    "w.description"
   ]
  },
  {
   "cell_type": "code",
   "execution_count": 3,
   "metadata": {},
   "outputs": [],
   "source": [
    "w = db.create_SHDSafeWallet_table()"
   ]
  },
  {
   "cell_type": "code",
   "execution_count": 4,
   "metadata": {},
   "outputs": [],
   "source": [
    "db.conn.commit()"
   ]
  },
  {
   "cell_type": "code",
   "execution_count": 4,
   "metadata": {},
   "outputs": [
    {
     "data": {
      "text/plain": [
       "[('test1_master_wallet',\n",
       "  '[461222389963770672910023206337944803706847222730930779040024025202330161562314, 242181816824935352779949905339585673702570459364503992825384375679130606102141, 349045194032852365244858435810860057589910251399394147451364362662197641799889]',\n",
       "  2,\n",
       "  4,\n",
       "  'None',\n",
       "  'tprv8fVXQGqBdhmo7Lymx7JARMiyt59rg9JuuS5uxVsgqKCpQt5wSD9G6HY8uVQs5CPNV5i6qt1vWes78DmmbrKa1gncZXpaL3m71GT3RsRcWda',\n",
       "  'tpubDCBZYgsRn5TTzp1ZqkxkpmP6T6fnqUVpUjghF1uzFb1DFNLi4bxrGnA15c4fLY14bbpZnT1uhNqZPmZHY2yNNFfGJTSAxHZgVj6yDUGSThv',\n",
       "  'p2wsh',\n",
       "  1,\n",
       "  1,\n",
       "  'None',\n",
       "  -1)]"
      ]
     },
     "execution_count": 4,
     "metadata": {},
     "output_type": "execute_result"
    }
   ],
   "source": [
    "query = \"SELECT * FROM SHDSafeWallet\"\n",
    "w = db.conn.cursor().execute(query)\n",
    "w.fetchall()"
   ]
  },
  {
   "cell_type": "code",
   "execution_count": 3,
   "metadata": {},
   "outputs": [
    {
     "data": {
      "text/plain": [
       "[('2MuprzwpsgbzTghKu4VRBT8iFHgyuzM9d31',\n",
       "  3,\n",
       "  'm/44H/0H/0H/',\n",
       "  0,\n",
       "  1592008589,\n",
       "  'tprv8ZgxMBicQKsPcv5EhtDXAeg624gwoQpnB55T1qaUPbgzjUrziZ9VkM2es6MsMBe7tRpvnoGWb9RFoKjhpkovSepJiMFX5NWBVtcpWcd96pp',\n",
       "  6,\n",
       "  None),\n",
       " ('2NFmfYxGvJUamqKT9xWt4tZEg3hmERqAd42',\n",
       "  2,\n",
       "  'm/44H/0H/0H/',\n",
       "  0,\n",
       "  1592007852,\n",
       "  'tprv8ZgxMBicQKsPcv5EhtDXAeg624gwoQpnB55T1qaUPbgzjUrziZ9VkM2es6MsMBe7tRpvnoGWb9RFoKjhpkovSepJiMFX5NWBVtcpWcd96pp',\n",
       "  6,\n",
       "  None),\n",
       " ('miLX6JQUFpEayoZMmNN4RWTTZfSX8fdfu1',\n",
       "  6,\n",
       "  'm/44H/0H/0H/',\n",
       "  0,\n",
       "  1592420277,\n",
       "  'tprv8ZgxMBicQKsPcv5EhtDXAeg624gwoQpnB55T1qaUPbgzjUrziZ9VkM2es6MsMBe7tRpvnoGWb9RFoKjhpkovSepJiMFX5NWBVtcpWcd96pp',\n",
       "  2,\n",
       "  None),\n",
       " ('mjem1LPGbA4ERqxrXai4dbsBSuxYdY4d3g',\n",
       "  5,\n",
       "  'm/44H/0H/0H/',\n",
       "  0,\n",
       "  1592023131,\n",
       "  'tprv8ZgxMBicQKsPcv5EhtDXAeg624gwoQpnB55T1qaUPbgzjUrziZ9VkM2es6MsMBe7tRpvnoGWb9RFoKjhpkovSepJiMFX5NWBVtcpWcd96pp',\n",
       "  2,\n",
       "  None),\n",
       " ('moqjyeLSrHj1p9aK9o4tyPNX95PkGz52mu',\n",
       "  0,\n",
       "  'm/44H/0H/0H/',\n",
       "  0,\n",
       "  1592426914,\n",
       "  'tprv8ZgxMBicQKsPd8D7pksf9YB2RyqrXzssePVaWdnC75KsLE29oo1eSDFdT3b1kg9pXUfp5372CS2fTSHX4dPCy24wZkpki6rfSAYwgmZ3nhq',\n",
       "  2,\n",
       "  None),\n",
       " ('mpJ63XCovrqPrbk8SLvRwCV4zWGkFTYfFx',\n",
       "  0,\n",
       "  'm/44H/0H/0H/',\n",
       "  0,\n",
       "  1592082950,\n",
       "  'tprv8ZgxMBicQKsPcx2sm4qTAKpQXyBNgMWkN2uenrTQFi7M514tpcyviT1rSo9r4rDnxzE5mMX3RbpUtL23v5NBQUzJsVhXEKZgZd5PuRkujkB',\n",
       "  2,\n",
       "  None),\n",
       " ('mqR1kutoq3bHrUrpeNNJjnh1fRdyyr2prQ',\n",
       "  1,\n",
       "  'm/44H/0H/0H/',\n",
       "  0,\n",
       "  1592427105,\n",
       "  'tprv8ZgxMBicQKsPd8D7pksf9YB2RyqrXzssePVaWdnC75KsLE29oo1eSDFdT3b1kg9pXUfp5372CS2fTSHX4dPCy24wZkpki6rfSAYwgmZ3nhq',\n",
       "  2,\n",
       "  None),\n",
       " ('mtisLv9ha6yFM9S1TExprJgncVMrtFP9V2',\n",
       "  0,\n",
       "  'm/44H/0H/0H/',\n",
       "  0,\n",
       "  1592007834,\n",
       "  'tprv8ZgxMBicQKsPcv5EhtDXAeg624gwoQpnB55T1qaUPbgzjUrziZ9VkM2es6MsMBe7tRpvnoGWb9RFoKjhpkovSepJiMFX5NWBVtcpWcd96pp',\n",
       "  2,\n",
       "  None),\n",
       " ('myXVzvBHb7s6EbuzJjoeVyXoEKHAybPYwr',\n",
       "  4,\n",
       "  'm/44H/0H/0H/',\n",
       "  0,\n",
       "  1592023126,\n",
       "  'tprv8ZgxMBicQKsPcv5EhtDXAeg624gwoQpnB55T1qaUPbgzjUrziZ9VkM2es6MsMBe7tRpvnoGWb9RFoKjhpkovSepJiMFX5NWBVtcpWcd96pp',\n",
       "  2,\n",
       "  None),\n",
       " ('tb1q0ewvhwq73le4v26tuqja8gxs6dh5pefc927jtg',\n",
       "  0,\n",
       "  'm/44H/0H/0H/',\n",
       "  0,\n",
       "  1592005855,\n",
       "  'tprv8ZgxMBicQKsPfQJYjuFAso9x6STzmUdMh5U8CQqqQUTgtQHBHCq4C7FseeeZg15L16UeSwbrLwJRTXNPQsJQwqvbBA11sn4M6c3jR1LwAQP',\n",
       "  4,\n",
       "  None),\n",
       " ('tb1q4pgnedjx2qku363zzl49q7fp00kku66hcjrrqm3uf30g43yvdaqsnpgc30',\n",
       "  2,\n",
       "  'm/1/',\n",
       "  1,\n",
       "  1598300201,\n",
       "  '200824',\n",
       "  5,\n",
       "  200824),\n",
       " ('tb1q6lxsdgzj2p988kyr7p72fqwtgkk56305kv7g64507wuqx78hratqnl58g8',\n",
       "  0,\n",
       "  'm/0/',\n",
       "  0,\n",
       "  1598298292,\n",
       "  '200824',\n",
       "  5,\n",
       "  200824),\n",
       " ('tb1q6vcf4re8hk35330h3cl76der8jy3jfapj3h5rx',\n",
       "  3,\n",
       "  'm/44H/0H/1H/',\n",
       "  1,\n",
       "  1597420732,\n",
       "  'tprv8ZgxMBicQKsPcx2sm4qTAKpQXyBNgMWkN2uenrTQFi7M514tpcyviT1rSo9r4rDnxzE5mMX3RbpUtL23v5NBQUzJsVhXEKZgZd5PuRkujkB',\n",
       "  4,\n",
       "  None),\n",
       " ('tb1q982wzsfd7uhlmdz2r43p5k2w85qr75gympm7hh',\n",
       "  6,\n",
       "  'm/44H/0H/1H/',\n",
       "  1,\n",
       "  1597420418,\n",
       "  'tprv8ZgxMBicQKsPcv5EhtDXAeg624gwoQpnB55T1qaUPbgzjUrziZ9VkM2es6MsMBe7tRpvnoGWb9RFoKjhpkovSepJiMFX5NWBVtcpWcd96pp',\n",
       "  4,\n",
       "  None),\n",
       " ('tb1q9u69k02dkzr9x6zj24g0gcaexem95ee6wvlnpp',\n",
       "  7,\n",
       "  'm/44H/0H/1H/',\n",
       "  1,\n",
       "  1597421867,\n",
       "  'tprv8ZgxMBicQKsPcv5EhtDXAeg624gwoQpnB55T1qaUPbgzjUrziZ9VkM2es6MsMBe7tRpvnoGWb9RFoKjhpkovSepJiMFX5NWBVtcpWcd96pp',\n",
       "  4,\n",
       "  None),\n",
       " ('tb1q9w5elsaaslf8taqfrdlq846jsrkv5dlucqvt0r',\n",
       "  0,\n",
       "  'm/44H/0H/1H/',\n",
       "  1,\n",
       "  1592351441,\n",
       "  'tprv8ZgxMBicQKsPcx2sm4qTAKpQXyBNgMWkN2uenrTQFi7M514tpcyviT1rSo9r4rDnxzE5mMX3RbpUtL23v5NBQUzJsVhXEKZgZd5PuRkujkB',\n",
       "  4,\n",
       "  None),\n",
       " ('tb1qckdu2t8ttl82gul3h2agtzsvc0lcf0j5v8w55v',\n",
       "  4,\n",
       "  'm/44H/0H/1H/',\n",
       "  1,\n",
       "  1597419409,\n",
       "  'tprv8ZgxMBicQKsPcv5EhtDXAeg624gwoQpnB55T1qaUPbgzjUrziZ9VkM2es6MsMBe7tRpvnoGWb9RFoKjhpkovSepJiMFX5NWBVtcpWcd96pp',\n",
       "  4,\n",
       "  None),\n",
       " ('tb1qj6anz0su6qruyl4dhe7uauufm3sk30qksu73ka',\n",
       "  0,\n",
       "  'm/44H/0H/1H/',\n",
       "  1,\n",
       "  1592007925,\n",
       "  'tprv8ZgxMBicQKsPcv5EhtDXAeg624gwoQpnB55T1qaUPbgzjUrziZ9VkM2es6MsMBe7tRpvnoGWb9RFoKjhpkovSepJiMFX5NWBVtcpWcd96pp',\n",
       "  4,\n",
       "  None),\n",
       " ('tb1qkpylkcf3zjevsgr3k3tdyjdxcuurhhp8teyyk2',\n",
       "  1,\n",
       "  'm/44H/0H/1H/',\n",
       "  1,\n",
       "  1597374878,\n",
       "  'tprv8ZgxMBicQKsPcx2sm4qTAKpQXyBNgMWkN2uenrTQFi7M514tpcyviT1rSo9r4rDnxzE5mMX3RbpUtL23v5NBQUzJsVhXEKZgZd5PuRkujkB',\n",
       "  4,\n",
       "  None),\n",
       " ('tb1qlsww6m8xs2yluhdff43khvnnumwn28j9hvet2x',\n",
       "  2,\n",
       "  'm/44H/0H/1H/',\n",
       "  1,\n",
       "  1597374566,\n",
       "  'tprv8ZgxMBicQKsPcv5EhtDXAeg624gwoQpnB55T1qaUPbgzjUrziZ9VkM2es6MsMBe7tRpvnoGWb9RFoKjhpkovSepJiMFX5NWBVtcpWcd96pp',\n",
       "  4,\n",
       "  None),\n",
       " ('tb1qnsdffcc6kwg9s5kn8mwnlr6pmuy0pdpqyury7j',\n",
       "  0,\n",
       "  'm/44H/0H/1H/',\n",
       "  1,\n",
       "  1592006827,\n",
       "  'tprv8ZgxMBicQKsPfQJYjuFAso9x6STzmUdMh5U8CQqqQUTgtQHBHCq4C7FseeeZg15L16UeSwbrLwJRTXNPQsJQwqvbBA11sn4M6c3jR1LwAQP',\n",
       "  4,\n",
       "  None),\n",
       " ('tb1qqkcpc4ntzmx3r75sdndxaty962c6neh4jr7zya',\n",
       "  1,\n",
       "  'm/44H/0H/1H/',\n",
       "  1,\n",
       "  1592008782,\n",
       "  'tprv8ZgxMBicQKsPcv5EhtDXAeg624gwoQpnB55T1qaUPbgzjUrziZ9VkM2es6MsMBe7tRpvnoGWb9RFoKjhpkovSepJiMFX5NWBVtcpWcd96pp',\n",
       "  4,\n",
       "  None),\n",
       " ('tb1qqme768sp88p9mjk6ztvk5pw9lvqkkx39lqrkcn',\n",
       "  2,\n",
       "  'm/44H/0H/1H/',\n",
       "  1,\n",
       "  1597375869,\n",
       "  'tprv8ZgxMBicQKsPcx2sm4qTAKpQXyBNgMWkN2uenrTQFi7M514tpcyviT1rSo9r4rDnxzE5mMX3RbpUtL23v5NBQUzJsVhXEKZgZd5PuRkujkB',\n",
       "  4,\n",
       "  None),\n",
       " ('tb1qs3a685cyh7hnakudy8etg6rc937s9y0ph5nh7g',\n",
       "  3,\n",
       "  'm/44H/0H/1H/',\n",
       "  1,\n",
       "  1597375653,\n",
       "  'tprv8ZgxMBicQKsPcv5EhtDXAeg624gwoQpnB55T1qaUPbgzjUrziZ9VkM2es6MsMBe7tRpvnoGWb9RFoKjhpkovSepJiMFX5NWBVtcpWcd96pp',\n",
       "  4,\n",
       "  None),\n",
       " ('tb1qs6z6lc44jhgksaw5ssfgzg6d22tfux5tcua6ag',\n",
       "  1,\n",
       "  'm/44H/0H/0H/',\n",
       "  0,\n",
       "  1592007844,\n",
       "  'tprv8ZgxMBicQKsPcv5EhtDXAeg624gwoQpnB55T1qaUPbgzjUrziZ9VkM2es6MsMBe7tRpvnoGWb9RFoKjhpkovSepJiMFX5NWBVtcpWcd96pp',\n",
       "  4,\n",
       "  None),\n",
       " ('tb1qtqfvwxtewta5s7z72cnax7y09kjes6w2hsah7ezj8vf2p6l5ugvqpvk8dp',\n",
       "  1,\n",
       "  'm/1/',\n",
       "  0,\n",
       "  1598299140,\n",
       "  '200824',\n",
       "  5,\n",
       "  200824),\n",
       " ('tb1quxlwzsqhzq4uhkr75e8qu0a3w9kr3kp36fxhyd',\n",
       "  5,\n",
       "  'm/44H/0H/1H/',\n",
       "  1,\n",
       "  1597420051,\n",
       "  'tprv8ZgxMBicQKsPcv5EhtDXAeg624gwoQpnB55T1qaUPbgzjUrziZ9VkM2es6MsMBe7tRpvnoGWb9RFoKjhpkovSepJiMFX5NWBVtcpWcd96pp',\n",
       "  4,\n",
       "  None),\n",
       " ('tb1qyd5df7ran264zqgkhud3cmhgeljdrj9nkwk7x5',\n",
       "  0,\n",
       "  'm/44H/0H/1H/',\n",
       "  1,\n",
       "  1597375357,\n",
       "  'tprv8ZgxMBicQKsPd8D7pksf9YB2RyqrXzssePVaWdnC75KsLE29oo1eSDFdT3b1kg9pXUfp5372CS2fTSHX4dPCy24wZkpki6rfSAYwgmZ3nhq',\n",
       "  4,\n",
       "  None),\n",
       " ('tb1qyrx8wq4qrg2z98v7ek8rmctcrd0rvjqh2hjug4nnztgg78z39husf6yzek',\n",
       "  0,\n",
       "  'm/1/',\n",
       "  0,\n",
       "  1598298693,\n",
       "  '200824',\n",
       "  5,\n",
       "  200824)]"
      ]
     },
     "execution_count": 3,
     "metadata": {},
     "output_type": "execute_result"
    }
   ],
   "source": [
    "query = \"SELECT * FROM Addresses \"\n",
    "w = db.conn.cursor().execute(query)\n",
    "w.fetchall()"
   ]
  },
  {
   "cell_type": "code",
   "execution_count": null,
   "metadata": {},
   "outputs": [],
   "source": []
  }
 ],
 "metadata": {
  "kernelspec": {
   "display_name": "Python 3",
   "language": "python",
   "name": "python3"
  },
  "language_info": {
   "codemirror_mode": {
    "name": "ipython",
    "version": 3
   },
   "file_extension": ".py",
   "mimetype": "text/x-python",
   "name": "python",
   "nbconvert_exporter": "python",
   "pygments_lexer": "ipython3",
   "version": "3.7.7"
  }
 },
 "nbformat": 4,
 "nbformat_minor": 4
}
