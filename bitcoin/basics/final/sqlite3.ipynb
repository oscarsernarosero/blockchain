{
 "cells": [
  {
   "cell_type": "code",
   "execution_count": 24,
   "metadata": {},
   "outputs": [],
   "source": [
    "import sqlite3\n",
    "from sqlite3 import Error\n",
    "import time"
   ]
  },
  {
   "cell_type": "code",
   "execution_count": 3,
   "metadata": {},
   "outputs": [],
   "source": [
    "class Sqlite3Wallet:\n",
    "    \n",
    "    def __init__(self):\n",
    "        self.conn = None\n",
    "        self.conn = self.create_connection(r\"database/wallet_db.db\")\n",
    "        \n",
    "    def create_connection(self,db_file):\n",
    "        \"\"\" create a database self.connection to a SQLite database \"\"\"\n",
    "        conn = None\n",
    "        try:\n",
    " \n",
    "            return conn\n",
    "\n",
    "        except Error as e:\n",
    "            print(e)\n",
    "\n",
    "    def close_database(self):\n",
    "        if self.conn:\n",
    "            self.conn.close()\n",
    "        \n",
    "    def execute_w_res(self, query):\n",
    "        try:\n",
    "            c = self.conn.cursor()\n",
    "            result = c.execute(query)\n",
    "            return result.fetchall()\n",
    "        except Error as e:\n",
    "            print(e)\n",
    "            return None\n",
    "        \n",
    "    def execute(self, query):\n",
    "        try:\n",
    "            c = self.conn.cursor()\n",
    "            c.execute(query)\n",
    "            return True\n",
    "        except Error as e:\n",
    "            print(e)\n",
    "            return None\n",
    "        \n",
    "    def create_wallet_table(self):\n",
    "        query1 =  f\"CREATE TABLE IF NOT EXISTS Wallets ( xprv text NOT NULL PRIMARY KEY,\\n \"\n",
    "        query2 = f\"name text, words text NOT NULL) WITHOUT ROWID;\"\n",
    "        query = query1+query2\n",
    "        #print(query)\n",
    "        return self.execute(query)\n",
    "\n",
    "    def create_address_table(self):\n",
    "        query1 =f\"CREATE TABLE IF NOT EXISTS Addresses ( address text NOT NULL PRIMARY KEY,\\nacc_index INT NOT NULL,\"\n",
    "        query2 = \"\\npath text NOT NULL,\\nchange_addr INT NOT NULL,\\ncreated INT NOT NULL,\\nwallet text NOT NULL,\\nFOREIGN KEY (wallet) \"\n",
    "        query3 = \"\\nREFERENCES Wallets(xprv) ) WITHOUT ROWID ;\"\n",
    "        query = query1 + query2 + query3\n",
    "        #print(query)\n",
    "        return self.execute(query)\n",
    "\n",
    "    def create_utxo_table(self):\n",
    "        query1 =f\"CREATE TABLE IF NOT EXISTS Utxos ( address text NOT NULL,\\namount INT NOT NULL,\\ntx_id text NOT NULL,\"\n",
    "        query2 = \"\\nout_index INT NOT NULL,\\ncreated INT NOT NULL,\\nspent INT NOT NULL,\\nconfirmed INT NOT NULL, \"\n",
    "        query3 = \"\\nPRIMARY KEY (tx_id, out_index)\\nFOREIGN KEY (address)\\nREFERENCES Addresses(address) );\"\n",
    "        query = query1 + query2 + query3\n",
    "        #print(query)\n",
    "        return self.execute(query)\n",
    "\n",
    "    def create_transaction_table(self):\n",
    "        query1 =f\"CREATE TABLE IF NOT EXISTS Transactions ( tx_id text NOT NULL PRIMARY KEY,\\nlock_time INT,\\nversion INT,\\n\"\n",
    "        query2 = \"\\nn_confirmations INT NOT NULL,\\ncreated INT NOT NULL)  WITHOUT ROWID ;\"\n",
    "        query = query1 + query2\n",
    "        #print(query)\n",
    "        return self.execute( query)\n",
    "\n",
    "    def create_tx_in_table(self):\n",
    "        query1 =f\"CREATE TABLE IF NOT EXISTS Tx_Ins ( tx_id text NOT NULL, out_index INT NOT NULL,\\nspent_by text NOT NULL,\\n\"\n",
    "        query2 = \"PRIMARY KEY (tx_id,out_index,spent_by)\\n \"\n",
    "        query3 = \"FOREIGN KEY (tx_id,out_index)\\nREFERENCES Utxo(tx_id,out_index) \\n \"\n",
    "        query4 = \"FOREIGN KEY (spent_by)\\nREFERENCES Transactions(tx_id) )  WITHOUT ROWID ;\"\n",
    "        query = query1 + query2 + query3 + query4\n",
    "        #print(query)\n",
    "        return self.execute(query)\n",
    "\n",
    "    def create_tx_out_table(self):\n",
    "        query1 =f\"CREATE TABLE IF NOT EXISTS Tx_Outs ( out_index INT NOT NULL,\\n amount INT NOT NULL,\\ncreated_by text NOT NULL,\\n\"\n",
    "        query2 = \"script_pubkey text NOT NULL, \\n PRIMARY KEY (created_by, out_index)\\n\"\n",
    "        query3 = \"FOREIGN KEY (created_by)\\nREFERENCES Transactions(tx_id) )  WITHOUT ROWID ;\"\n",
    "        query = query1 + query2 + query3\n",
    "        #print(query)\n",
    "        return self.execute(query)\n",
    "\n",
    "    def create_tables(self):\n",
    "        self.create_wallet_table()\n",
    "        self.create_address_table()\n",
    "        self.create_utxo_table()\n",
    "        self.create_transaction_table()\n",
    "        self.create_tx_in_table()\n",
    "        self.create_tx_out_table()\n",
    "        return True\n",
    "\n",
    "    def new_wallet(self, xprv, words, name = None ):\n",
    "        \"\"\"\n",
    "        Creates a new wallet in the database.\n",
    "        self.conn: self.conn: internal database driver transaction.\n",
    "        xprv: String; extended private key of the wallet.\n",
    "        words: String; The mnemonic phrase of the wallet.\n",
    "        name: String Optional. This is an alias for the wallet if user prefers it.\n",
    "        \"\"\"\n",
    "        query1 = \"INSERT INTO Wallets (xprv, words, name)\\n \"\n",
    "        query2 = f\"VALUES('{xprv}', '{words}', '{name}') ;\"\n",
    "        query = query1+query2\n",
    "        #print(query)\n",
    "        return self.execute(query)\n",
    "\n",
    "    def new_address(self, address, path, acc_index, change_addr, wallet):\n",
    "        \"\"\"\n",
    "        Creates a new address in the database.\n",
    "        self.conn: internal database driver transaction.\n",
    "        address: String; the address to create.\n",
    "        path: String; the path in wich the address is created until the account level. i.e. \"m/44'/0'/0'/\"\n",
    "        as a standard, it must start with m and end with /\n",
    "        acc_index: int; account index. This would be the last part of the path.\n",
    "        change_addr: int, 0=False, 1=True; if the address is a \"change adrress\" then 1 (True). Otherwise 0 (False).\n",
    "        wallet: String; the xtended private key of the wallet\n",
    "        \"\"\"\n",
    "        created = int(time.time())\n",
    "        query1 = \"INSERT INTO Addresses (address, path, acc_index, change_addr, created, wallet)\\n \"\n",
    "        query2 = f'VALUES(\"{address}\", \"{path}\", {acc_index}, {change_addr}, {created}, \"{wallet}\") ;'\n",
    "        query = query1+query2\n",
    "        #print(query)\n",
    "        return self.execute(query)\n",
    "\n",
    "    def new_utxo(self, address, amount, tx_id, out_index, spent=0, confirmed=0):\n",
    "        \"\"\"\n",
    "        Creates new utxo in the database.\n",
    "        self.conn: internal database driver transaction.\n",
    "        address: the base58 representation of the address that holds the utxo.\n",
    "        tx_id: String, the tx id or hash of the transaction the generated the utxo.\n",
    "        out_index: Int, the index of the output in the transaction that generated the utxo.\n",
    "        amount: Int, the amount of SATOSHIS that the utxo holds.\n",
    "        spent: Int, 0=False, 1=True; if the utxo has been spent by a transaction then 1 (True).\n",
    "        confirmed: Int, 0=False, 1=True; if the transaction has less than 6 confirmations then 0 (False).\n",
    "        \"\"\"\n",
    "        created = int(time.time())\n",
    "        query1 = \"INSERT INTO Utxos (address, amount, tx_id, out_index, created, spent, confirmed)\\n \"\n",
    "        query2 = f\"VALUES('{address}', {amount}, '{tx_id}', {out_index}, {created}, {spent}, {confirmed});\"\n",
    "        query = query1+query2\n",
    "        #print(query)\n",
    "        return self.execute(query)\n",
    "\n",
    "    def new_tx(self, tx_id, tx_ins, tx_outs, n_confirmations = 0, lock_time=0, version=1 ):\n",
    "        \"\"\"\n",
    "        tx_id: String. transaction id.\n",
    "        tx_ins: List of touples: [ (prev_tx_id, index), ... ]\n",
    "        tx_outs: List of touples: [ (out_index, amount, script_pubkey), ... ]\n",
    "        n_confirmations: int; number of confirmations in the blockchain.\n",
    "        lock_time: Int: transaction locktime.\n",
    "        version: Int: version.\n",
    "        \"\"\"\n",
    "        created = int(time.time())\n",
    "        query1 = \"INSERT INTO Transactions ( tx_id, created, n_confirmations, lock_time, version)\\n \"\n",
    "        query2 = f\"VALUES('{tx_id}', {created}, {n_confirmations}, {lock_time}, {version});\"\n",
    "        query = query1+query2\n",
    "        self.execute(query)\n",
    "\n",
    "        for tx_in in tx_ins:\n",
    "            query3 = \"INSERT INTO Tx_Ins ( tx_id, out_index, spent_by)\\n \"\n",
    "            query4 = f\"VALUES( '{tx_in[0]}', {tx_in[1]}, '{tx_id}');\"\n",
    "            query = query3+query4\n",
    "            self.execute(query)\n",
    "\n",
    "        for tx_out in tx_outs:\n",
    "            query5 = \"INSERT INTO Tx_Outs ( out_index, amount, script_pubkey, created_by)\\n \"\n",
    "            query6 = f\"VALUES( {tx_out[0]}, {tx_out[1]}, '{tx_out[2]}', '{tx_id}');\"\n",
    "            query = query5+query6\n",
    "            self.execute(query)\n",
    "\n",
    "        return True\n",
    "\n",
    "    def update_confirmations(self, tx_id, n_confirmations):\n",
    "        \"\"\"\n",
    "        Updates the number of confirmations for a transaction to later confirm the transaction was broadcasted.\n",
    "        self.conn: internal database driver transaction.\n",
    "        tx_id: String, the id or hash of the transaction being broadcasted.\n",
    "        n_confirmations: Int, the number of confirmations.\n",
    "        \"\"\"\n",
    "        query = f\"UPDATE Transactions \\nSET n_confirmations = {n_confirmations} WHERE tx_id = '{tx_id}'\"\n",
    "        return self.execute(query)\n",
    "\n",
    "    def spend_utxo(self, tx_id, out_index):\n",
    "        query = f\"UPDATE Utxos \\nSET spent = 1 \\nWHERE tx_id = '{tx_id}' AND out_index = {out_index} \"\n",
    "        return self.execute(query)\n",
    "\n",
    "    def spend_utxo(self, tx_id, out_index):\n",
    "        \"\"\"\n",
    "        Updates the state of an exisiting utxo to \"spent=True\" once the transaction was broadcasted successfully and confirmed.\n",
    "        self.conn: internal database driver transaction.\n",
    "        tx_id: String, the id or hash of the transaction that created the utxo (previous transaction).\n",
    "        out_index: index of the utxo in the previous transaction.\n",
    "        \"\"\"\n",
    "        query = f\"UPDATE Utxos \\nSET spent = 1 \\nWHERE tx_id = '{tx_id}' AND out_index = {out_index} \"\n",
    "        return self.execute(query)\n",
    "\n",
    "    def clean_addresses(self):\n",
    "        \"\"\"\n",
    "        Not necessary in this implementation.\n",
    "        \"\"\"\n",
    "        pass\n",
    "\n",
    "    def look_for_coins(self, wallet):\n",
    "        \"\"\"\n",
    "        Searches the database for utxos that haven't been spent for the specific wallet.\n",
    "        self.conn: internal database driver transaction.\n",
    "        wallet: String, The wallet extended private key.\n",
    "        Returns: List of touples [(tx_id, out_index, amount)]\n",
    "        \"\"\"\n",
    "        query1 = f\"SELECT tx_id, out_index, amount\\n FROM Utxos INNER JOIN Addresses \\n\"\n",
    "        query2 = f\"ON Utxos.address = Addresses.address\\nWHERE Utxos.spent = 0 AND Addresses.wallet = '{wallet}';\"\n",
    "        query = query1 + query2\n",
    "        return self.execute_w_res(query)\n",
    "\n",
    "    def get_unused_addresses(self,wallet, days_range=None, max_days=None):\n",
    "        \"\"\"\n",
    "        Searches the database for addresses that haven't been used in the specific wallet.\n",
    "        tx: internal database driver transaction.\n",
    "        xprv: String, The wallet extended private key.\n",
    "        max_days: how far away should the app look for the unused address in the pass. The limit is 30 since the app deletes \n",
    "        unused addresses after a month of creation.\n",
    "        days_range: number of days for the range in which to look for the address. The range will start\n",
    "        in day_range days before the max_days day (starting_day = (max_days - days_range)).\n",
    "\n",
    "        days_range and max_days should be either both specified or neither specified. If they are not, both values will be\n",
    "        automatically set to 30 making the search to happen from now to the last 30 days. If only one of them is specified, \n",
    "        the function will throw an exception.\n",
    "        \"\"\"\n",
    "        if days_range is None and max_days is None:\n",
    "            query1 = f\"SELECT address \\nFROM Addresses WHERE\\nNOT EXISTS(\\nSELECT 1 \\n FROM Utxos\"\n",
    "            query2 = f\"\\nWHERE Utxos.address = Addresses.address) \\nAND\\n Addresses.wallet = '{wallet}';\"\n",
    "            query = query1 + query2\n",
    "            #print(query)\n",
    "            return self.execute_w_res(query)\n",
    "\n",
    "        elif (days_range is None or max_days is None) and (days_range != max_days):\n",
    "            raise Exception(\"Arguments days_range and max_days must be either both specified or neither one specified.\")\n",
    "\n",
    "        else:\n",
    "            SEC_PER_DAY = 86400\n",
    "            finish_day = max_days * SEC_PER_DAY\n",
    "            start_day = finish_day - days_range * SEC_PER_DAY\n",
    "            now = int(time.time())\n",
    "            query1 = f\"SELECT address \\nFROM Addresses WHERE\\nNOT EXISTS(\\nSELECT 1 \\n FROM Utxos\"\n",
    "            query2 = f\"\\nWHERE Utxos.address = Addresses.address) \\nAND\\n Addresses.wallet = '{wallet}'\"\n",
    "            query3 = f\"\\nAND\\n ({now} - Addresses.created) > {start_day} AND ({now} - Addresses.created) < {finish_day} ';\"\n",
    "            query = query1 + query2 + query3\n",
    "            #print(query)\n",
    "            return self.execute_w_res(query)\n",
    "\n",
    "    def get_all_addresses(self,wallet):\n",
    "        \"\"\"\n",
    "        Returns all the addresses in the database for the specific wallet.\n",
    "        self.conn: internal database driver transaction.\n",
    "        wallet: String, The wallet extended private key.\n",
    "        \"\"\"\n",
    "        query = f\"SELECT address \\nFROM Addresses WHERE wallet = '{wallet}'; \"\n",
    "        return self.execute_w_res(query)\n",
    "\n",
    "    def exist_utxo(self, tx_id, out_index, confirmed):\n",
    "        \"\"\"\n",
    "        Returns True if the utxo already exists in the database. False if it doesn't. It also updates\n",
    "        the \"confirmed\" property of the utxo if necessary.\n",
    "        tx: internal database driver transaction.\n",
    "        tx_id: String, the tx id or hash of the transaction the generated the utxo.\n",
    "        out_index: Int, the index of the output in the transaction that generated the utxo.\n",
    "        confirmed: Int/Boolean 0=False, 1=True; the current state of confirmation of the transaction in the actual blockchain.\n",
    "        \"\"\"\n",
    "        query = f\"SELECT * FROM Utxos WHERE  tx_id = '{tx_id}' AND out_index = {out_index}\"\n",
    "        result = execute_w_res(query)\n",
    "        if len(result)>0:\n",
    "            if result[0][6] != confirmed:\n",
    "                query = f\"UPDATE Utxos \\nSET confirmed = {confirmed} WHERE tx_id = '{tx_id}' AND out_index = {out_index} \"\n",
    "                result = execute_w_res(query)\n",
    "\n",
    "        return True\n",
    "\n",
    "    def does_table_exist(self, table):\n",
    "        query = f\"SELECT name FROM sqlite_master WHERE type='table' AND name='{table}';\"\n",
    "        return self.execute_w_res(query)\n",
    "    \n",
    "    def erase_database(self):\n",
    "        query = \"DROP TABLE Tx_Ins\"\n",
    "        self.execute(query)\n",
    "        query = \"DROP TABLE Tx_Outs\"\n",
    "        self.execute(query)\n",
    "        query = \"DROP TABLE Transactions\"\n",
    "        self.execute(query)\n",
    "        query = \"DROP TABLE Utxos\"\n",
    "        self.execute(query)\n",
    "        query = \"DROP TABLE Addresses\"\n",
    "        self.execute(query)\n",
    "        query = \"DROP TABLE Wallets\"\n",
    "        self.execute(query)\n",
    "        return True\n"
   ]
  },
  {
   "cell_type": "code",
   "execution_count": 5,
   "metadata": {},
   "outputs": [],
   "source": [
    "db = Sqlite3Wallet()\n",
    "db.erase_database()"
   ]
  },
  {
   "cell_type": "code",
   "execution_count": 10,
   "metadata": {},
   "outputs": [
    {
     "data": {
      "text/plain": [
       "True"
      ]
     },
     "execution_count": 10,
     "metadata": {},
     "output_type": "execute_result"
    }
   ],
   "source": [
    "res = db.create_tables()\n",
    "res"
   ]
  },
  {
   "cell_type": "code",
   "execution_count": 9,
   "metadata": {},
   "outputs": [
    {
     "data": {
      "text/plain": [
       "[]"
      ]
     },
     "execution_count": 9,
     "metadata": {},
     "output_type": "execute_result"
    }
   ],
   "source": [
    "res = db.does_table_exist(\"Wallets\")\n",
    "res"
   ]
  },
  {
   "cell_type": "code",
   "execution_count": 25,
   "metadata": {},
   "outputs": [],
   "source": [
    "f = db.cursor().execute(\"DROP TABLE Addresses\")"
   ]
  },
  {
   "cell_type": "code",
   "execution_count": 6,
   "metadata": {},
   "outputs": [],
   "source": [
    "db.close()"
   ]
  },
  {
   "cell_type": "code",
   "execution_count": 11,
   "metadata": {},
   "outputs": [],
   "source": [
    "xprv =\"tprv8ZgxMBicQKsPfQJYjuFAso9x6STzmUdMh5U8CQqqQUTgtQHBHCq4C7FseeeZg15L16UeSwbrLwJRTXNPQsJQwqvbBA11sn4M6c3jR1LwAQP\"\n",
    "words = \"engine over neglect science fatigue dawn axis parent mind man escape era goose border invest slab relax bind desert hurry useless lonely frozen morning\"\n",
    "res = db.new_wallet(xprv, words)"
   ]
  },
  {
   "cell_type": "code",
   "execution_count": 12,
   "metadata": {},
   "outputs": [
    {
     "data": {
      "text/plain": [
       "True"
      ]
     },
     "execution_count": 12,
     "metadata": {},
     "output_type": "execute_result"
    }
   ],
   "source": [
    "res"
   ]
  },
  {
   "cell_type": "code",
   "execution_count": 13,
   "metadata": {},
   "outputs": [
    {
     "data": {
      "text/plain": [
       "True"
      ]
     },
     "execution_count": 13,
     "metadata": {},
     "output_type": "execute_result"
    }
   ],
   "source": [
    "res = db.new_address(\"first_address\", \"m/0'/0'/\", 0, 0, 111111111, xprv)\n",
    "res"
   ]
  },
  {
   "cell_type": "code",
   "execution_count": 14,
   "metadata": {},
   "outputs": [
    {
     "data": {
      "text/plain": [
       "True"
      ]
     },
     "execution_count": 14,
     "metadata": {},
     "output_type": "execute_result"
    }
   ],
   "source": [
    "res = db.new_utxo(\"first_address\", 22222, \"transaction_0\", 0, 111111112, confirmed=6)\n",
    "res"
   ]
  },
  {
   "cell_type": "code",
   "execution_count": 16,
   "metadata": {},
   "outputs": [],
   "source": [
    "utxos = db.look_for_coins(xprv)"
   ]
  },
  {
   "cell_type": "code",
   "execution_count": 17,
   "metadata": {},
   "outputs": [
    {
     "data": {
      "text/plain": [
       "[('transaction_0', 0, 22222)]"
      ]
     },
     "execution_count": 17,
     "metadata": {},
     "output_type": "execute_result"
    }
   ],
   "source": [
    "utxos"
   ]
  },
  {
   "cell_type": "code",
   "execution_count": 18,
   "metadata": {},
   "outputs": [
    {
     "data": {
      "text/plain": [
       "[]"
      ]
     },
     "execution_count": 18,
     "metadata": {},
     "output_type": "execute_result"
    }
   ],
   "source": [
    "unused_addresses = db.get_unused_addresses(xprv)\n",
    "unused_addresses"
   ]
  },
  {
   "cell_type": "code",
   "execution_count": 19,
   "metadata": {},
   "outputs": [
    {
     "data": {
      "text/plain": [
       "True"
      ]
     },
     "execution_count": 19,
     "metadata": {},
     "output_type": "execute_result"
    }
   ],
   "source": [
    "res = db.new_address(\"second_address\", \"m/0'/0'/\", 1, 1, 111111111, xprv)\n",
    "res"
   ]
  },
  {
   "cell_type": "code",
   "execution_count": 20,
   "metadata": {},
   "outputs": [
    {
     "data": {
      "text/plain": [
       "[('second_address',)]"
      ]
     },
     "execution_count": 20,
     "metadata": {},
     "output_type": "execute_result"
    }
   ],
   "source": [
    "unused_addresses = db.get_unused_addresses(xprv)\n",
    "unused_addresses"
   ]
  },
  {
   "cell_type": "code",
   "execution_count": 22,
   "metadata": {},
   "outputs": [],
   "source": [
    "f = db.conn.cursor().execute(\"SELECT * FROM Addresses\")"
   ]
  },
  {
   "cell_type": "code",
   "execution_count": 23,
   "metadata": {},
   "outputs": [
    {
     "data": {
      "text/plain": [
       "[('first_address',\n",
       "  0,\n",
       "  \"m/0'/0'/\",\n",
       "  0,\n",
       "  111111111,\n",
       "  'tprv8ZgxMBicQKsPfQJYjuFAso9x6STzmUdMh5U8CQqqQUTgtQHBHCq4C7FseeeZg15L16UeSwbrLwJRTXNPQsJQwqvbBA11sn4M6c3jR1LwAQP'),\n",
       " ('second_address',\n",
       "  1,\n",
       "  \"m/0'/0'/\",\n",
       "  1,\n",
       "  111111111,\n",
       "  'tprv8ZgxMBicQKsPfQJYjuFAso9x6STzmUdMh5U8CQqqQUTgtQHBHCq4C7FseeeZg15L16UeSwbrLwJRTXNPQsJQwqvbBA11sn4M6c3jR1LwAQP')]"
      ]
     },
     "execution_count": 23,
     "metadata": {},
     "output_type": "execute_result"
    }
   ],
   "source": [
    "f.fetchall()"
   ]
  },
  {
   "cell_type": "code",
   "execution_count": 26,
   "metadata": {},
   "outputs": [
    {
     "data": {
      "text/plain": [
       "True"
      ]
     },
     "execution_count": 26,
     "metadata": {},
     "output_type": "execute_result"
    }
   ],
   "source": [
    "db.new_tx(\"tx_n1\",[(\"transaction_0\",0)],[(0,1000,\"script_public_key of my first transaction\")],int(time.time()))"
   ]
  },
  {
   "cell_type": "code",
   "execution_count": 27,
   "metadata": {},
   "outputs": [
    {
     "data": {
      "text/plain": [
       "[('tx_n1', 0, 1, 0, 1591744053)]"
      ]
     },
     "execution_count": 27,
     "metadata": {},
     "output_type": "execute_result"
    }
   ],
   "source": [
    "g = db.conn.cursor().execute(\"SELECT * FROM Transactions\")\n",
    "g.fetchall()"
   ]
  },
  {
   "cell_type": "code",
   "execution_count": 28,
   "metadata": {},
   "outputs": [
    {
     "data": {
      "text/plain": [
       "[('transaction_0', 0, 'tx_n1')]"
      ]
     },
     "execution_count": 28,
     "metadata": {},
     "output_type": "execute_result"
    }
   ],
   "source": [
    "h = db.conn.cursor().execute(\"SELECT * FROM Tx_Ins\")\n",
    "h.fetchall()"
   ]
  },
  {
   "cell_type": "code",
   "execution_count": 29,
   "metadata": {},
   "outputs": [
    {
     "data": {
      "text/plain": [
       "[(0, 1000, 'tx_n1', 'script_public_key of my first transaction')]"
      ]
     },
     "execution_count": 29,
     "metadata": {},
     "output_type": "execute_result"
    }
   ],
   "source": [
    "i = db.conn.cursor().execute(\"SELECT * FROM Tx_Outs\")\n",
    "i.fetchall()"
   ]
  },
  {
   "cell_type": "code",
   "execution_count": 4,
   "metadata": {},
   "outputs": [],
   "source": []
  },
  {
   "cell_type": "code",
   "execution_count": 20,
   "metadata": {},
   "outputs": [
    {
     "data": {
      "text/plain": [
       "<sqlite3.Cursor at 0x7fdae7612f80>"
      ]
     },
     "execution_count": 20,
     "metadata": {},
     "output_type": "execute_result"
    }
   ],
   "source": [
    "db.conn.cursor().execute(\"DROP TABLE Wallets\")"
   ]
  },
  {
   "cell_type": "code",
   "execution_count": 17,
   "metadata": {},
   "outputs": [
    {
     "data": {
      "text/plain": [
       "[]"
      ]
     },
     "execution_count": 17,
     "metadata": {},
     "output_type": "execute_result"
    }
   ],
   "source": [
    "db.does_table_exist(\"Addresses\")"
   ]
  },
  {
   "cell_type": "code",
   "execution_count": 18,
   "metadata": {},
   "outputs": [],
   "source": [
    "db.close_database()"
   ]
  },
  {
   "cell_type": "code",
   "execution_count": null,
   "metadata": {},
   "outputs": [],
   "source": []
  }
 ],
 "metadata": {
  "kernelspec": {
   "display_name": "Python 3",
   "language": "python",
   "name": "python3"
  },
  "language_info": {
   "codemirror_mode": {
    "name": "ipython",
    "version": 3
   },
   "file_extension": ".py",
   "mimetype": "text/x-python",
   "name": "python",
   "nbconvert_exporter": "python",
   "pygments_lexer": "ipython3",
   "version": "3.7.3"
  }
 },
 "nbformat": 4,
 "nbformat_minor": 2
}
