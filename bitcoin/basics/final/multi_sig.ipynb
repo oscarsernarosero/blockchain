{
 "cells": [
  {
   "cell_type": "code",
   "execution_count": 1,
   "metadata": {},
   "outputs": [],
   "source": [
    "from importlib import reload\n",
    "from helper import run\n",
    "import ecc\n",
    "import helper\n",
    "import tx\n",
    "import script\n",
    "from io import BytesIO"
   ]
  },
  {
   "cell_type": "code",
   "execution_count": 2,
   "metadata": {},
   "outputs": [],
   "source": [
    "from ecc import PrivateKey, S256Point, Signature\n",
    "from helper import decode_base58, SIGHASH_ALL, h160_to_p2pkh_address, hash160, h160_to_p2sh_address\n",
    "from script import p2pkh_script, Script\n",
    "from tx import TxIn, TxOut, Tx, TxFetcher\n",
    "from urllib.request import Request, urlopen\n",
    "import json"
   ]
  },
  {
   "cell_type": "code",
   "execution_count": 3,
   "metadata": {},
   "outputs": [
    {
     "name": "stdout",
     "output_type": "stream",
     "text": [
      "mo3WWB4PoSHrudEBik1nUqfn1uZEPNYEc8\n"
     ]
    }
   ],
   "source": [
    "privkey_1 = PrivateKey(int.from_bytes(b\"Oscar Eduardo Serna Rosero\",\"big\"))\n",
    "my_address_1 = privkey_1.point.address(testnet=True)\n",
    "print(my_address_1)"
   ]
  },
  {
   "cell_type": "code",
   "execution_count": 4,
   "metadata": {},
   "outputs": [
    {
     "name": "stdout",
     "output_type": "stream",
     "text": [
      "mwuCRN8bMLWN9ETs29U8KseDkau72M9byF\n"
     ]
    }
   ],
   "source": [
    "privkey_2 = PrivateKey(int.from_bytes(b\"Oscar Eduardo Serna Rosero\",\"little\"))\n",
    "my_address_2 = privkey_2.point.address(testnet=True)\n",
    "print(my_address_2)"
   ]
  },
  {
   "cell_type": "markdown",
   "metadata": {},
   "source": [
    "# Let's try to create a multisignature address that needs both signatures from privkey_1 and privkey_2"
   ]
  },
  {
   "cell_type": "code",
   "execution_count": 5,
   "metadata": {},
   "outputs": [],
   "source": [
    "m=2\n",
    "op_m = 82\n",
    "n=2\n",
    "op_n=82\n",
    "length_pubkey=33\n",
    "pubkey1=privkey_1.point.sec()\n",
    "pubkey2=privkey_2.point.sec()"
   ]
  },
  {
   "cell_type": "code",
   "execution_count": 6,
   "metadata": {},
   "outputs": [
    {
     "data": {
      "text/plain": [
       "'03e07f96e5ba598431c0c994493a4ae988c9854c171d5d4bb140db0a27a4c853e4'"
      ]
     },
     "execution_count": 6,
     "metadata": {},
     "output_type": "execute_result"
    }
   ],
   "source": [
    "pubkey1.hex()"
   ]
  },
  {
   "cell_type": "code",
   "execution_count": 7,
   "metadata": {},
   "outputs": [
    {
     "data": {
      "text/plain": [
       "'031b63f964d8c65d1d1136dcfe5033dedea88c2d411934ea48c9708410be84e5ee'"
      ]
     },
     "execution_count": 7,
     "metadata": {},
     "output_type": "execute_result"
    }
   ],
   "source": [
    "pubkey2.hex()"
   ]
  },
  {
   "cell_type": "code",
   "execution_count": 8,
   "metadata": {},
   "outputs": [
    {
     "data": {
      "text/plain": [
       "OP_2 03e07f96e5ba598431c0c994493a4ae988c9854c171d5d4bb140db0a27a4c853e4 031b63f964d8c65d1d1136dcfe5033dedea88c2d411934ea48c9708410be84e5ee OP_2 OP_CHECKMULTISIG"
      ]
     },
     "execution_count": 8,
     "metadata": {},
     "output_type": "execute_result"
    }
   ],
   "source": [
    "#redeem_script = Script([op_m, length_pubkey, pubkey1, length_pubkey, pubkey2, op_n, 174])#174:OP_CHECKMULTISIG\n",
    "redeem_script = Script([op_m, pubkey1, pubkey2, op_n, 174])#174:OP_CHECKMULTISIG\n",
    "redeem_script"
   ]
  },
  {
   "cell_type": "code",
   "execution_count": 9,
   "metadata": {},
   "outputs": [
    {
     "name": "stdout",
     "output_type": "stream",
     "text": [
      "47522103e07f96e5ba598431c0c994493a4ae988c9854c171d5d4bb140db0a27a4c853e421031b63f964d8c65d1d1136dcfe5033dedea88c2d411934ea48c9708410be84e5ee52ae\n",
      "522103e07f96e5ba598431c0c994493a4ae988c9854c171d5d4bb140db0a27a4c853e421031b63f964d8c65d1d1136dcfe5033dedea88c2d411934ea48c9708410be84e5ee52ae\n"
     ]
    }
   ],
   "source": [
    "serialized_redeem = redeem_script.serialize()\n",
    "print(serialized_redeem.hex())\n",
    "serialized_redeem_raw=serialized_redeem[1:]\n",
    "print(serialized_redeem_raw.hex())"
   ]
  },
  {
   "cell_type": "code",
   "execution_count": 10,
   "metadata": {},
   "outputs": [
    {
     "data": {
      "text/plain": [
       "'2NAqp3V17G4iBekEwWuYkgzoEyWiULhYZLs'"
      ]
     },
     "execution_count": 10,
     "metadata": {},
     "output_type": "execute_result"
    }
   ],
   "source": [
    "multi_sig_addr = h160_to_p2sh_address(hash160(serialized_redeem_raw), testnet=True)\n",
    "multi_sig_addr"
   ]
  },
  {
   "cell_type": "markdown",
   "metadata": {},
   "source": [
    "# Now let's try to send some BTCs to this address"
   ]
  },
  {
   "cell_type": "code",
   "execution_count": 11,
   "metadata": {},
   "outputs": [],
   "source": [
    "def get_index(outs_list, address):\n",
    "    for index,out in enumerate(outs_list):\n",
    "        if out.script_pubkey.cmds[2] == decode_base58(address) or out.script_pubkey.cmds[1] == decode_base58(address):\n",
    "            return index\n",
    "    return \"output index not found\"\n",
    "\n",
    "\n",
    "def get_amount_utxo(outs_list, index):\n",
    "    return outs_list[index].amount\n",
    "\n",
    "\n",
    "def get_tx_ins_utxo(prev_tx_id_list, receiving_address, testnet=True):\n",
    "    \n",
    "    tx_ins = []\n",
    "    \n",
    "    for prev_tx_id in prev_tx_id_list:\n",
    "        prev_tx = TxFetcher.fetch(prev_tx_id, testnet)\n",
    "        print(prev_tx)\n",
    "        prev_index = get_index(prev_tx.tx_outs, receiving_address)\n",
    "        tx_in = TxIn(bytes.fromhex(prev_tx_id),prev_index)\n",
    "        utxo = get_amount_utxo(prev_tx.tx_outs, prev_index)\n",
    "        print(f\"index 1: {prev_index}, amount: {utxo}\")\n",
    "        tx_ins.append({\"tx_in\": tx_in, \"utxo\": utxo})\n",
    "        \n",
    "    return tx_ins\n",
    "\n",
    "def calculate_fee(version, tx_ins, tx_outs, locktime, privkey, redeem_script, testnet=True, multisig =False, fee_per_byte = 8 ):\n",
    "    \"\"\"\n",
    "    privkey: can be just one or a list of private keys in the case of multisignature.\n",
    "    \"\"\"\n",
    "    tx = Tx(1, tx_ins, tx_outs, 0, testnet=True)\n",
    "    print(tx)\n",
    "\n",
    "    # sign the inputs in the transaction object using the private key\n",
    "    if multisig:\n",
    "        for tx_input in range(len(tx_ins)):\n",
    "            print(my_multisig_tx.sign_input_multisig(tx_input, privkey, redeem_script))\n",
    "    else:\n",
    "        for tx_input in range(len(tx_ins)):\n",
    "            print(tx.sign_input(tx_input, privkey))\n",
    "        # print the transaction's serialization in hex\n",
    "\n",
    "    #Let's calculate the fee and the change:\n",
    "    tx_size = len(my_tx.serialize().hex())\n",
    "    #fee_per_byte = 8 # I changed from 2 to 10 after sending this transaction because it had really low appeal to miners.\n",
    "    fee = tx_size * fee_per_byte\n",
    "    print(f\"fee: {fee}\")\n",
    "    return fee\n",
    "\n",
    "def calculate_change(utxo_list, fee, amountTx):\n",
    "    total_utxo = sum(utxo_list)\n",
    "    total_out = sum(amountTx)\n",
    "    change = total_utxo - fee - total_out\n",
    "    print(f\"change {change}\")\n",
    "    if change < 0:\n",
    "        return \"Not enough utxos\"\n",
    "    #Let's make sure that we are actually spending the exact amount of the UTXO\n",
    "    total_send=fee+total_out+change\n",
    "    diff = total_utxo-total_send\n",
    "    print(f\"total {total_send}, diff: {diff}\")\n",
    "    return change\n",
    "\n",
    "    "
   ]
  },
  {
   "cell_type": "code",
   "execution_count": 12,
   "metadata": {},
   "outputs": [
    {
     "name": "stdout",
     "output_type": "stream",
     "text": [
      "1000000:OP_HASH160 c104b576f5436309587aefa3ddddd5c295b90480 OP_EQUAL\n",
      "1000000:OP_DUP OP_HASH160 52903efc1004de01883ba3687be2a8ea4f6b1b19 OP_EQUALVERIFY OP_CHECKSIG\n",
      "tx: 2f9c289966440d088978f9c674a0e596d47db5a91d6d5fc4df7ed38aee0a2d18\n",
      "version: 1\n",
      "tx_ins:\n",
      "9f6e65900ca76e8351b7babc6bbc2e5b0b2ded99e4e6f5b1ec74c2a190abf31a:0\n",
      "tx_outs:\n",
      "980544:OP_DUP OP_HASH160 52903efc1004de01883ba3687be2a8ea4f6b1b19 OP_EQUALVERIFY OP_CHECKSIG\n",
      "locktime: 0\n",
      "index 1: 0, amount: 980544\n",
      "tx: 67d3baf44adefc13c8635f51e45e6c1de6fa47cf18f4afbdc05ab0c95bd898e5\n",
      "version: 1\n",
      "tx_ins:\n",
      "7dc40bfc367d0188df26e0a7ab801284a215f9d3c67975433c821ca3d7927811:1\n",
      "tx_outs:\n",
      "1000000:OP_HASH160 c104b576f5436309587aefa3ddddd5c295b90480 OP_EQUAL\n",
      "591336:OP_DUP OP_HASH160 52903efc1004de01883ba3687be2a8ea4f6b1b19 OP_EQUALVERIFY OP_CHECKSIG\n",
      "locktime: 0\n",
      "index 1: 1, amount: 591336\n",
      "[2f9c289966440d088978f9c674a0e596d47db5a91d6d5fc4df7ed38aee0a2d18:0, 67d3baf44adefc13c8635f51e45e6c1de6fa47cf18f4afbdc05ab0c95bd898e5:1]\n",
      "[980544, 591336]\n",
      "tx: 1125840de36407c69169ace8e3a6c5b4dd60ece2db80226dbd66b2471702b7e5\n",
      "version: 1\n",
      "tx_ins:\n",
      "2f9c289966440d088978f9c674a0e596d47db5a91d6d5fc4df7ed38aee0a2d18:0\n",
      "67d3baf44adefc13c8635f51e45e6c1de6fa47cf18f4afbdc05ab0c95bd898e5:1\n",
      "tx_outs:\n",
      "1000000:OP_HASH160 c104b576f5436309587aefa3ddddd5c295b90480 OP_EQUAL\n",
      "1000000:OP_DUP OP_HASH160 52903efc1004de01883ba3687be2a8ea4f6b1b19 OP_EQUALVERIFY OP_CHECKSIG\n",
      "locktime: 0\n",
      "tx: 1125840de36407c69169ace8e3a6c5b4dd60ece2db80226dbd66b2471702b7e5\n",
      "version: 1\n",
      "tx_ins:\n",
      "2f9c289966440d088978f9c674a0e596d47db5a91d6d5fc4df7ed38aee0a2d18:0\n",
      "67d3baf44adefc13c8635f51e45e6c1de6fa47cf18f4afbdc05ab0c95bd898e5:1\n",
      "tx_outs:\n",
      "1000000:OP_HASH160 c104b576f5436309587aefa3ddddd5c295b90480 OP_EQUAL\n",
      "1000000:OP_DUP OP_HASH160 52903efc1004de01883ba3687be2a8ea4f6b1b19 OP_EQUALVERIFY OP_CHECKSIG\n",
      "locktime: 0\n",
      "OP_DUP OP_HASH160 52903efc1004de01883ba3687be2a8ea4f6b1b19 OP_EQUALVERIFY OP_CHECKSIG\n",
      "\n",
      "combined script[b'0D\\x02 aN/\\xec\\x7f\\x04\\x10F\\xbcG\\xf4\\xcb\\xc5\\xf2\\x17\\xb0E=}\\xa8\\xb7\\xfeLK\\x8b\\xe8\\x97\\x90\\xd0P\\xc9\\xdc\\x02 Y?\\x82\\x7f\\r\\xde\\xaf\\x8a\\x1d\\n\\xe81\\xdc5\\x98-\\x17\\xbej\\xf2\\xd7I\\xa7\\xe6\\xb5z\\x86qZ\\xa5\\xa1\\xad\\x01', b\"\\x03\\xe0\\x7f\\x96\\xe5\\xbaY\\x841\\xc0\\xc9\\x94I:J\\xe9\\x88\\xc9\\x85L\\x17\\x1d]K\\xb1@\\xdb\\n'\\xa4\\xc8S\\xe4\", 118, 169, b'R\\x90>\\xfc\\x10\\x04\\xde\\x01\\x88;\\xa3h{\\xe2\\xa8\\xeaOk\\x1b\\x19', 136, 172]\n",
      "\n",
      "True\n",
      "OP_DUP OP_HASH160 52903efc1004de01883ba3687be2a8ea4f6b1b19 OP_EQUALVERIFY OP_CHECKSIG\n",
      "\n",
      "combined script[b\"0E\\x02!\\x00\\xe9=\\x1f\\x9fj.\\xb7V\\xc5\\x08$\\xe6&\\x19\\x8a\\xd9v\\x8dK\\x10\\x97\\x90\\xc1\\xc2T\\xa1\\xa0\\rt\\x1b\\xdbG\\x02 $J\\xc2\\xb7`\\x1f\\x90\\xba\\x10\\xe6\\xba1<\\xd1\\x8eeF\\xa2\\xa0\\xf7R'\\x83l\\xf8m\\xc2\\xa6\\x87\\xa3\\x19\\x14\\x01\", b\"\\x03\\xe0\\x7f\\x96\\xe5\\xbaY\\x841\\xc0\\xc9\\x94I:J\\xe9\\x88\\xc9\\x85L\\x17\\x1d]K\\xb1@\\xdb\\n'\\xa4\\xc8S\\xe4\", 118, 169, b'R\\x90>\\xfc\\x10\\x04\\xde\\x01\\x88;\\xa3h{\\xe2\\xa8\\xeaOk\\x1b\\x19', 136, 172]\n",
      "\n",
      "True\n",
      "fee: 5936\n",
      "change 565944\n",
      "total 1571880, diff: 0\n",
      "OP_DUP OP_HASH160 52903efc1004de01883ba3687be2a8ea4f6b1b19 OP_EQUALVERIFY OP_CHECKSIG\n",
      "\n",
      "combined script[b'0E\\x02!\\x00\\x81`=\\xb2N)\\x8e\\x83i\\x97>\\xed\\xd1\\x10f\\x06\\xdfE\\xc3\\xcc\\x13\\xedvp\\x03\\xbe\\xfc^\\xb4\\xdd\\xf0\\xa2\\x02 p,4\\xdag\\xac<\\xaf\\xb3\\x14\\xe097\\xf4\\xde\\xdc\\xe9\\xf5\\xa1\\x01\\x86u\\x1bK\\xd5z\\x0eY\\x11\\xe3\\n\\xc5\\x01', b\"\\x03\\xe0\\x7f\\x96\\xe5\\xbaY\\x841\\xc0\\xc9\\x94I:J\\xe9\\x88\\xc9\\x85L\\x17\\x1d]K\\xb1@\\xdb\\n'\\xa4\\xc8S\\xe4\", 118, 169, b'R\\x90>\\xfc\\x10\\x04\\xde\\x01\\x88;\\xa3h{\\xe2\\xa8\\xeaOk\\x1b\\x19', 136, 172]\n",
      "\n",
      "True\n",
      "OP_DUP OP_HASH160 52903efc1004de01883ba3687be2a8ea4f6b1b19 OP_EQUALVERIFY OP_CHECKSIG\n",
      "\n",
      "combined script[b'0D\\x02 r_\\xe9\\x08p\\x93\\x18\\xd1\\x92\\x96\\xc4\\xb3@\\x84f\\x83\\x99\\x0b\\x1d\\x89\\x14)\\x0bG\\xab9\\x98\\xc6V\\x89a\\x9a\\x02 c\\x17\\xdb\\tj\\x1d\\xcf\\xde\\xbd!\\xd9J\\xbc\\x9d^f\\xe6\\x1ci&I\\xac\\xb1\\xb0\\x9e4@\\xbcX\\xca\\x0b\\xbb\\x01', b\"\\x03\\xe0\\x7f\\x96\\xe5\\xbaY\\x841\\xc0\\xc9\\x94I:J\\xe9\\x88\\xc9\\x85L\\x17\\x1d]K\\xb1@\\xdb\\n'\\xa4\\xc8S\\xe4\", 118, 169, b'R\\x90>\\xfc\\x10\\x04\\xde\\x01\\x88;\\xa3h{\\xe2\\xa8\\xeaOk\\x1b\\x19', 136, 172]\n",
      "\n",
      "True\n",
      "0100000002182d0aee8ad37edfc45f6d1da9b57dd496e5a074c6f97889080d446699289c2f000000006b48304502210081603db24e298e8369973eedd1106606df45c3cc13ed767003befc5eb4ddf0a20220702c34da67ac3cafb314e03937f4dedce9f5a10186751b4bd57a0e5911e30ac5012103e07f96e5ba598431c0c994493a4ae988c9854c171d5d4bb140db0a27a4c853e4ffffffffe598d85bc9b05ac0bdaff418cf47fae61d6c5ee4515f63c813fcde4af4bad367010000006a4730440220725fe908709318d19296c4b340846683990b1d8914290b47ab3998c65689619a02206317db096a1dcfdebd21d94abc9d5e66e61c692649acb1b09e3440bc58ca0bbb012103e07f96e5ba598431c0c994493a4ae988c9854c171d5d4bb140db0a27a4c853e4ffffffff0240420f000000000017a914c104b576f5436309587aefa3ddddd5c295b9048087b8a20800000000001976a91452903efc1004de01883ba3687be2a8ea4f6b1b1988ac00000000\n"
     ]
    }
   ],
   "source": [
    "from script import p2sh_script\n",
    "# Let's build the tx:\n",
    "tx_outs =[]\n",
    "tx_ins =[]\n",
    "\n",
    "change = int(0.01 * 100000000)# we are going to fix this later\n",
    "amountTx= int(0.01 * 100000000)\n",
    "\n",
    "#It will send 0.01 to the multisig address\n",
    "output = TxOut(amountTx, p2sh_script(decode_base58(multi_sig_addr)))\n",
    "print(output)\n",
    "tx_outs.append(output)\n",
    "\n",
    "change_output = TxOut(change, p2pkh_script(decode_base58(my_address_1)))\n",
    "print(change_output)\n",
    "tx_outs.append(change_output)\n",
    "\n",
    "#block explorer: https://testnet.smartbit.com.au/address/mo3WWB4PoSHrudEBik1nUqfn1uZEPNYEc8/unspent\n",
    "\n",
    "prev_tx_id_list = [\"2f9c289966440d088978f9c674a0e596d47db5a91d6d5fc4df7ed38aee0a2d18\",\n",
    "                  \"67d3baf44adefc13c8635f51e45e6c1de6fa47cf18f4afbdc05ab0c95bd898e5\"]\n",
    "\n",
    "tx_ins_utxo = get_tx_ins_utxo(prev_tx_id_list, my_address_1, testnet=True)\n",
    "    \n",
    "tx_ins = [x[\"tx_in\"] for x in tx_ins_utxo]\n",
    "print(tx_ins)\n",
    "\n",
    "utxos = [x[\"utxo\"] for x in tx_ins_utxo]\n",
    "print(utxos)\n",
    "\n",
    "my_tx = Tx(1, tx_ins, tx_outs, 0, testnet=True)\n",
    "print(my_tx)\n",
    "\n",
    "fee = calculate_fee(1, tx_ins, tx_outs, 0, privkey=privkey_1, redeem_script=None, testnet=True)\n",
    "change = calculate_change(utxos, fee, [amountTx])\n",
    "\n",
    "#Let's modify the amount in the change_output:\n",
    "my_tx.tx_outs[-1].amount = change\n",
    "\n",
    "#we sign again because the hash changed\n",
    "for tx_input in range(len(tx_ins)):\n",
    "    print(my_tx.sign_input(tx_input, privkey_1))\n",
    "\n",
    "print(my_tx.serialize().hex())\n",
    "\n",
    "#for tx_input in range(len(tx_ins)):\n",
    " #   print(my_tx.verify_input(tx_input))"
   ]
  },
  {
   "cell_type": "code",
   "execution_count": 13,
   "metadata": {},
   "outputs": [
    {
     "name": "stdout",
     "output_type": "stream",
     "text": [
      "OP_DUP OP_HASH160 52903efc1004de01883ba3687be2a8ea4f6b1b19 OP_EQUALVERIFY OP_CHECKSIG\n",
      "\n",
      "combined script[b'0E\\x02!\\x00\\x81`=\\xb2N)\\x8e\\x83i\\x97>\\xed\\xd1\\x10f\\x06\\xdfE\\xc3\\xcc\\x13\\xedvp\\x03\\xbe\\xfc^\\xb4\\xdd\\xf0\\xa2\\x02 p,4\\xdag\\xac<\\xaf\\xb3\\x14\\xe097\\xf4\\xde\\xdc\\xe9\\xf5\\xa1\\x01\\x86u\\x1bK\\xd5z\\x0eY\\x11\\xe3\\n\\xc5\\x01', b\"\\x03\\xe0\\x7f\\x96\\xe5\\xbaY\\x841\\xc0\\xc9\\x94I:J\\xe9\\x88\\xc9\\x85L\\x17\\x1d]K\\xb1@\\xdb\\n'\\xa4\\xc8S\\xe4\", 118, 169, b'R\\x90>\\xfc\\x10\\x04\\xde\\x01\\x88;\\xa3h{\\xe2\\xa8\\xeaOk\\x1b\\x19', 136, 172]\n",
      "\n"
     ]
    },
    {
     "data": {
      "text/plain": [
       "True"
      ]
     },
     "execution_count": 13,
     "metadata": {},
     "output_type": "execute_result"
    }
   ],
   "source": [
    "my_tx.verify_input(0)"
   ]
  },
  {
   "cell_type": "markdown",
   "metadata": {},
   "source": [
    "# Now let's try to spend the UTXO from the multi-sig address"
   ]
  },
  {
   "cell_type": "code",
   "execution_count": 14,
   "metadata": {},
   "outputs": [
    {
     "data": {
      "text/plain": [
       "<module 'tx' from '/Users/oscareduardosernarosero/Documents/US/Rice U/blockchain/bitcoin/basics/final/tx.py'>"
      ]
     },
     "execution_count": 14,
     "metadata": {},
     "output_type": "execute_result"
    }
   ],
   "source": [
    "reload(tx)"
   ]
  },
  {
   "cell_type": "code",
   "execution_count": 15,
   "metadata": {},
   "outputs": [
    {
     "name": "stdout",
     "output_type": "stream",
     "text": [
      "1000000:OP_DUP OP_HASH160 52903efc1004de01883ba3687be2a8ea4f6b1b19 OP_EQUALVERIFY OP_CHECKSIG\n",
      "tx: 7dc40bfc367d0188df26e0a7ab801284a215f9d3c67975433c821ca3d7927811\n",
      "version: 1\n",
      "tx_ins:\n",
      "02971382a72fc23c087723ed35686fdac019ae75f8084b7c9f51a07c56d00951:0\n",
      "tx_outs:\n",
      "1000000:OP_HASH160 c104b576f5436309587aefa3ddddd5c295b90480 OP_EQUAL\n",
      "1593566:OP_DUP OP_HASH160 52903efc1004de01883ba3687be2a8ea4f6b1b19 OP_EQUALVERIFY OP_CHECKSIG\n",
      "locktime: 0\n",
      "index 1: 0, amount: 1000000\n",
      "[7dc40bfc367d0188df26e0a7ab801284a215f9d3c67975433c821ca3d7927811:0]\n",
      "[1000000]\n",
      "tx: 6859670602077ba2aec901d5817421e3926885c21247f48578fe40a6662f16b7\n",
      "version: 1\n",
      "tx_ins:\n",
      "7dc40bfc367d0188df26e0a7ab801284a215f9d3c67975433c821ca3d7927811:0\n",
      "tx_outs:\n",
      "1000000:OP_DUP OP_HASH160 52903efc1004de01883ba3687be2a8ea4f6b1b19 OP_EQUALVERIFY OP_CHECKSIG\n",
      "locktime: 0\n",
      "tx: 6859670602077ba2aec901d5817421e3926885c21247f48578fe40a6662f16b7\n",
      "version: 1\n",
      "tx_ins:\n",
      "7dc40bfc367d0188df26e0a7ab801284a215f9d3c67975433c821ca3d7927811:0\n",
      "tx_outs:\n",
      "1000000:OP_DUP OP_HASH160 52903efc1004de01883ba3687be2a8ea4f6b1b19 OP_EQUALVERIFY OP_CHECKSIG\n",
      "locktime: 0\n",
      "redeem_script present\n",
      "script: OP_2 03e07f96e5ba598431c0c994493a4ae988c9854c171d5d4bb140db0a27a4c853e4 031b63f964d8c65d1d1136dcfe5033dedea88c2d411934ea48c9708410be84e5ee OP_2 OP_CHECKMULTISIG\n",
      "sign_input_multisig commands: [0, b'0D\\x02 5\\x88\\xdd^\\xd8\\xc0\\x17w\\xb0)\\xb3~\\xa50\\xe97\\xd2\\x04t\\x86A\\xdf5\\xfa\\x11\\xdb\\xd9]Y\\xae;}\\x02 J\\x1f\\xc5\\x92^\\x92h\\x04\\x81\\x14q\\xba\\xdc@\\xd1\\xd8\\x1e\\x92X\\xacK\\x19\\x02\\xcfx\\xcf\\xeb\\xcf\\xd7\\xa4\\x02@\\x01', b\"0E\\x02!\\x00\\xa7\\x19Y&\\x11\\xa2\\xfc\\x94-\\x1f\\xff\\r$}\\xcd\\xb2=P72\\xafH.\\xb5\\x02\\x9a\\xc3\\xe1\\xd4G\\x98x\\x02 F\\xf4q\\xe2H\\x8bdMM\\xe0\\x92\\x04\\xadCe\\x95\\xfe'\\xa3\\x8ch?b\\xaf\\xd7\\n\\xc8\\xf3\\xfe\\x13\\xdfT\\x01\", b\"R!\\x03\\xe0\\x7f\\x96\\xe5\\xbaY\\x841\\xc0\\xc9\\x94I:J\\xe9\\x88\\xc9\\x85L\\x17\\x1d]K\\xb1@\\xdb\\n'\\xa4\\xc8S\\xe4!\\x03\\x1bc\\xf9d\\xd8\\xc6]\\x1d\\x116\\xdc\\xfeP3\\xde\\xde\\xa8\\x8c-A\\x194\\xeaH\\xc9p\\x84\\x10\\xbe\\x84\\xe5\\xeeR\\xae\"]\n",
      "OP_HASH160 c104b576f5436309587aefa3ddddd5c295b90480 OP_EQUAL\n",
      "scriptPubKey: OP_HASH160 c104b576f5436309587aefa3ddddd5c295b90480 OP_EQUAL\n",
      "commands redeemscript: 522103e07f96e5ba598431c0c994493a4ae988c9854c171d5d4bb140db0a27a4c853e421031b63f964d8c65d1d1136dcfe5033dedea88c2d411934ea48c9708410be84e5ee52ae\n",
      "redeem_script present\n",
      "script: OP_2 03e07f96e5ba598431c0c994493a4ae988c9854c171d5d4bb140db0a27a4c853e4 031b63f964d8c65d1d1136dcfe5033dedea88c2d411934ea48c9708410be84e5ee OP_2 OP_CHECKMULTISIG\n",
      "\n",
      "combined script[0, b'0D\\x02 5\\x88\\xdd^\\xd8\\xc0\\x17w\\xb0)\\xb3~\\xa50\\xe97\\xd2\\x04t\\x86A\\xdf5\\xfa\\x11\\xdb\\xd9]Y\\xae;}\\x02 J\\x1f\\xc5\\x92^\\x92h\\x04\\x81\\x14q\\xba\\xdc@\\xd1\\xd8\\x1e\\x92X\\xacK\\x19\\x02\\xcfx\\xcf\\xeb\\xcf\\xd7\\xa4\\x02@\\x01', b\"0E\\x02!\\x00\\xa7\\x19Y&\\x11\\xa2\\xfc\\x94-\\x1f\\xff\\r$}\\xcd\\xb2=P72\\xafH.\\xb5\\x02\\x9a\\xc3\\xe1\\xd4G\\x98x\\x02 F\\xf4q\\xe2H\\x8bdMM\\xe0\\x92\\x04\\xadCe\\x95\\xfe'\\xa3\\x8ch?b\\xaf\\xd7\\n\\xc8\\xf3\\xfe\\x13\\xdfT\\x01\", b\"R!\\x03\\xe0\\x7f\\x96\\xe5\\xbaY\\x841\\xc0\\xc9\\x94I:J\\xe9\\x88\\xc9\\x85L\\x17\\x1d]K\\xb1@\\xdb\\n'\\xa4\\xc8S\\xe4!\\x03\\x1bc\\xf9d\\xd8\\xc6]\\x1d\\x116\\xdc\\xfeP3\\xde\\xde\\xa8\\x8c-A\\x194\\xeaH\\xc9p\\x84\\x10\\xbe\\x84\\xe5\\xeeR\\xae\", 169, b'\\xc1\\x04\\xb5v\\xf5Cc\\tXz\\xef\\xa3\\xdd\\xdd\\xd5\\xc2\\x95\\xb9\\x04\\x80', 135]\n",
      "\n",
      "True\n",
      "fee: 8904\n",
      "redeem_script present\n",
      "script: OP_2 03e07f96e5ba598431c0c994493a4ae988c9854c171d5d4bb140db0a27a4c853e4 031b63f964d8c65d1d1136dcfe5033dedea88c2d411934ea48c9708410be84e5ee OP_2 OP_CHECKMULTISIG\n",
      "sign_input_multisig commands: [0, b'0E\\x02!\\x00\\xb7>\\x8f\\x0e{}(\\x80D\\x80u\\x15\\xb7\\xc8\\x9aY\\x9fA\\xad\\xe4i\\x14&\\xa9\\xaf\\x95\\xad\\x83\\xeaQK\\x9a\\x02 >\\xb1\\\\(\\xd0\\xa8\\xcf\\x88\\xb6\\x1fP2\\x1b\\x98\\xdb\\xf2\\x9a\\xa2fP\\x19\\xf7\\xaa\\x8e\\xb1\\xfe\\xb0\\x07\\xd2\\xf0\\x93S\\x01', b\"0D\\x02 &#\\xb5:p\\xac&\\xaf\\x1f\\xe3\\x98\\x1cB_b%k\\xfe\\x12\\x8c\\x07\\xfe=\\xf1\\x9f\\xb5\\xbe4$\\\\,\\x85\\x02 PD\\xd9\\x14\\xb2R\\xdc\\xea\\x97\\x869x\\xec\\xde\\xae\\xbf\\xab.'\\x1a\\xe8\\xc8\\xa9\\x8f,\\xa1\\x933\\x83i\\xef\\x1b\\x01\", b\"R!\\x03\\xe0\\x7f\\x96\\xe5\\xbaY\\x841\\xc0\\xc9\\x94I:J\\xe9\\x88\\xc9\\x85L\\x17\\x1d]K\\xb1@\\xdb\\n'\\xa4\\xc8S\\xe4!\\x03\\x1bc\\xf9d\\xd8\\xc6]\\x1d\\x116\\xdc\\xfeP3\\xde\\xde\\xa8\\x8c-A\\x194\\xeaH\\xc9p\\x84\\x10\\xbe\\x84\\xe5\\xeeR\\xae\"]\n",
      "OP_HASH160 c104b576f5436309587aefa3ddddd5c295b90480 OP_EQUAL\n",
      "scriptPubKey: OP_HASH160 c104b576f5436309587aefa3ddddd5c295b90480 OP_EQUAL\n",
      "commands redeemscript: 522103e07f96e5ba598431c0c994493a4ae988c9854c171d5d4bb140db0a27a4c853e421031b63f964d8c65d1d1136dcfe5033dedea88c2d411934ea48c9708410be84e5ee52ae\n",
      "redeem_script present\n",
      "script: OP_2 03e07f96e5ba598431c0c994493a4ae988c9854c171d5d4bb140db0a27a4c853e4 031b63f964d8c65d1d1136dcfe5033dedea88c2d411934ea48c9708410be84e5ee OP_2 OP_CHECKMULTISIG\n",
      "\n",
      "combined script[0, b'0E\\x02!\\x00\\xb7>\\x8f\\x0e{}(\\x80D\\x80u\\x15\\xb7\\xc8\\x9aY\\x9fA\\xad\\xe4i\\x14&\\xa9\\xaf\\x95\\xad\\x83\\xeaQK\\x9a\\x02 >\\xb1\\\\(\\xd0\\xa8\\xcf\\x88\\xb6\\x1fP2\\x1b\\x98\\xdb\\xf2\\x9a\\xa2fP\\x19\\xf7\\xaa\\x8e\\xb1\\xfe\\xb0\\x07\\xd2\\xf0\\x93S\\x01', b\"0D\\x02 &#\\xb5:p\\xac&\\xaf\\x1f\\xe3\\x98\\x1cB_b%k\\xfe\\x12\\x8c\\x07\\xfe=\\xf1\\x9f\\xb5\\xbe4$\\\\,\\x85\\x02 PD\\xd9\\x14\\xb2R\\xdc\\xea\\x97\\x869x\\xec\\xde\\xae\\xbf\\xab.'\\x1a\\xe8\\xc8\\xa9\\x8f,\\xa1\\x933\\x83i\\xef\\x1b\\x01\", b\"R!\\x03\\xe0\\x7f\\x96\\xe5\\xbaY\\x841\\xc0\\xc9\\x94I:J\\xe9\\x88\\xc9\\x85L\\x17\\x1d]K\\xb1@\\xdb\\n'\\xa4\\xc8S\\xe4!\\x03\\x1bc\\xf9d\\xd8\\xc6]\\x1d\\x116\\xdc\\xfeP3\\xde\\xde\\xa8\\x8c-A\\x194\\xeaH\\xc9p\\x84\\x10\\xbe\\x84\\xe5\\xeeR\\xae\", 169, b'\\xc1\\x04\\xb5v\\xf5Cc\\tXz\\xef\\xa3\\xdd\\xdd\\xd5\\xc2\\x95\\xb9\\x04\\x80', 135]\n",
      "\n",
      "True\n",
      "0100000001117892d7a31c823c437579c6d3f915a2841280aba7e026df88017d36fc0bc47d00000000da00483045022100b73e8f0e7b7d288044807515b7c89a599f41ade4691426a9af95ad83ea514b9a02203eb15c28d0a8cf88b61f50321b98dbf29aa2665019f7aa8eb1feb007d2f093530147304402202623b53a70ac26af1fe3981c425f62256bfe128c07fe3df19fb5be34245c2c8502205044d914b252dcea97863978ecdeaebfab2e271ae8c8a98f2ca193338369ef1b0147522103e07f96e5ba598431c0c994493a4ae988c9854c171d5d4bb140db0a27a4c853e421031b63f964d8c65d1d1136dcfe5033dedea88c2d411934ea48c9708410be84e5ee52aeffffffff01781f0f00000000001976a91452903efc1004de01883ba3687be2a8ea4f6b1b1988ac00000000\n"
     ]
    }
   ],
   "source": [
    "###### tx_outs =[]\n",
    "tx_ins =[]\n",
    "tx_outs =[]\n",
    "\n",
    "amountTx= int(0.01 * 100000000)# we'll fix this later after calculating the fee\n",
    "\n",
    "#It will send back all the money to our address_1 minus the fee\n",
    "output = TxOut(amountTx,  p2pkh_script(decode_base58(my_address_1)))\n",
    "print(output)\n",
    "tx_outs.append(output)\n",
    "\n",
    "prev_tx_id_list = [\"7dc40bfc367d0188df26e0a7ab801284a215f9d3c67975433c821ca3d7927811\"]\n",
    "\n",
    "tx_ins_utxo = get_tx_ins_utxo(prev_tx_id_list, multi_sig_addr, testnet=True)\n",
    "    \n",
    "tx_ins = [x[\"tx_in\"] for x in tx_ins_utxo]\n",
    "print(tx_ins)\n",
    "\n",
    "utxos = [x[\"utxo\"] for x in tx_ins_utxo]\n",
    "print(utxos)\n",
    "\n",
    "my_multisig_tx = Tx(1, tx_ins, tx_outs, 0, testnet=True)\n",
    "print(my_multisig_tx)\n",
    "\n",
    "fee = calculate_fee(1, tx_ins, tx_outs, 0, privkey=[privkey_1, privkey_2], \n",
    "                    redeem_script=redeem_script, testnet=True, multisig=True, fee_per_byte = 12)\n",
    "\n",
    "amountTx = sum(utxos) - fee\n",
    "\n",
    "#Let's modify the amount in the change_output:\n",
    "my_multisig_tx.tx_outs[0].amount = amountTx\n",
    "\n",
    "#we sign again because the hash changed\n",
    "for tx_input in range(len(tx_ins)):\n",
    "    print(my_multisig_tx.sign_input_multisig(tx_input, [privkey_1, privkey_2], redeem_script))#redeem_script from earlier\n",
    "\n",
    "print(my_multisig_tx.serialize().hex())\n",
    "\n"
   ]
  },
  {
   "cell_type": "code",
   "execution_count": 16,
   "metadata": {},
   "outputs": [
    {
     "name": "stdout",
     "output_type": "stream",
     "text": [
      "OP_HASH160 c104b576f5436309587aefa3ddddd5c295b90480 OP_EQUAL\n",
      "scriptPubKey: OP_HASH160 c104b576f5436309587aefa3ddddd5c295b90480 OP_EQUAL\n",
      "commands redeemscript: 522103e07f96e5ba598431c0c994493a4ae988c9854c171d5d4bb140db0a27a4c853e421031b63f964d8c65d1d1136dcfe5033dedea88c2d411934ea48c9708410be84e5ee52ae\n",
      "redeem_script present\n",
      "script: OP_2 03e07f96e5ba598431c0c994493a4ae988c9854c171d5d4bb140db0a27a4c853e4 031b63f964d8c65d1d1136dcfe5033dedea88c2d411934ea48c9708410be84e5ee OP_2 OP_CHECKMULTISIG\n",
      "\n",
      "combined script[0, b'0E\\x02!\\x00\\xb7>\\x8f\\x0e{}(\\x80D\\x80u\\x15\\xb7\\xc8\\x9aY\\x9fA\\xad\\xe4i\\x14&\\xa9\\xaf\\x95\\xad\\x83\\xeaQK\\x9a\\x02 >\\xb1\\\\(\\xd0\\xa8\\xcf\\x88\\xb6\\x1fP2\\x1b\\x98\\xdb\\xf2\\x9a\\xa2fP\\x19\\xf7\\xaa\\x8e\\xb1\\xfe\\xb0\\x07\\xd2\\xf0\\x93S\\x01', b\"0D\\x02 &#\\xb5:p\\xac&\\xaf\\x1f\\xe3\\x98\\x1cB_b%k\\xfe\\x12\\x8c\\x07\\xfe=\\xf1\\x9f\\xb5\\xbe4$\\\\,\\x85\\x02 PD\\xd9\\x14\\xb2R\\xdc\\xea\\x97\\x869x\\xec\\xde\\xae\\xbf\\xab.'\\x1a\\xe8\\xc8\\xa9\\x8f,\\xa1\\x933\\x83i\\xef\\x1b\\x01\", b\"R!\\x03\\xe0\\x7f\\x96\\xe5\\xbaY\\x841\\xc0\\xc9\\x94I:J\\xe9\\x88\\xc9\\x85L\\x17\\x1d]K\\xb1@\\xdb\\n'\\xa4\\xc8S\\xe4!\\x03\\x1bc\\xf9d\\xd8\\xc6]\\x1d\\x116\\xdc\\xfeP3\\xde\\xde\\xa8\\x8c-A\\x194\\xeaH\\xc9p\\x84\\x10\\xbe\\x84\\xe5\\xeeR\\xae\", 169, b'\\xc1\\x04\\xb5v\\xf5Cc\\tXz\\xef\\xa3\\xdd\\xdd\\xd5\\xc2\\x95\\xb9\\x04\\x80', 135]\n",
      "\n"
     ]
    },
    {
     "data": {
      "text/plain": [
       "True"
      ]
     },
     "execution_count": 16,
     "metadata": {},
     "output_type": "execute_result"
    }
   ],
   "source": [
    "my_multisig_tx.verify()"
   ]
  },
  {
   "cell_type": "code",
   "execution_count": 17,
   "metadata": {},
   "outputs": [
    {
     "data": {
      "text/plain": [
       "tx: 4b477c6b2009d5be88e80455cd74b19d9fc441f0e75613ed95080a723cfd8500\n",
       "version: 1\n",
       "tx_ins:\n",
       "7dc40bfc367d0188df26e0a7ab801284a215f9d3c67975433c821ca3d7927811:0\n",
       "tx_outs:\n",
       "991096:OP_DUP OP_HASH160 52903efc1004de01883ba3687be2a8ea4f6b1b19 OP_EQUALVERIFY OP_CHECKSIG\n",
       "locktime: 0"
      ]
     },
     "execution_count": 17,
     "metadata": {},
     "output_type": "execute_result"
    }
   ],
   "source": [
    "my_multisig_tx"
   ]
  },
  {
   "cell_type": "code",
   "execution_count": 18,
   "metadata": {},
   "outputs": [
    {
     "data": {
      "text/plain": [
       "OP_2 03e07f96e5ba598431c0c994493a4ae988c9854c171d5d4bb140db0a27a4c853e4 031b63f964d8c65d1d1136dcfe5033dedea88c2d411934ea48c9708410be84e5ee OP_2 OP_CHECKMULTISIG"
      ]
     },
     "execution_count": 18,
     "metadata": {},
     "output_type": "execute_result"
    }
   ],
   "source": [
    "rebuilt_script = Script.parse(BytesIO(bytes.fromhex(\"47522103e07f96e5ba598431c0c994493a4ae988c9854c171d5d4bb140db0a27a4c853e421031b63f964d8c65d1d1136dcfe5033dedea88c2d411934ea48c9708410be84e5ee52ae\")))\n",
    "rebuilt_script"
   ]
  },
  {
   "cell_type": "code",
   "execution_count": 19,
   "metadata": {},
   "outputs": [
    {
     "name": "stdout",
     "output_type": "stream",
     "text": [
      "0\n",
      "3045022100b73e8f0e7b7d288044807515b7c89a599f41ade4691426a9af95ad83ea514b9a02203eb15c28d0a8cf88b61f50321b98dbf29aa2665019f7aa8eb1feb007d2f0935301\n",
      "304402202623b53a70ac26af1fe3981c425f62256bfe128c07fe3df19fb5be34245c2c8502205044d914b252dcea97863978ecdeaebfab2e271ae8c8a98f2ca193338369ef1b01\n",
      "522103e07f96e5ba598431c0c994493a4ae988c9854c171d5d4bb140db0a27a4c853e421031b63f964d8c65d1d1136dcfe5033dedea88c2d411934ea48c9708410be84e5ee52ae\n"
     ]
    }
   ],
   "source": [
    "for cmd in my_multisig_tx.tx_ins[0].script_sig.cmds:\n",
    "    try: print(cmd.hex())\n",
    "    except: print(cmd)"
   ]
  },
  {
   "cell_type": "code",
   "execution_count": 20,
   "metadata": {},
   "outputs": [],
   "source": [
    "#my_multisig_tx.tx_outs.pop(0)"
   ]
  },
  {
   "cell_type": "code",
   "execution_count": 21,
   "metadata": {},
   "outputs": [
    {
     "name": "stdout",
     "output_type": "stream",
     "text": [
      "OP_0 3045022100b73e8f0e7b7d288044807515b7c89a599f41ade4691426a9af95ad83ea514b9a02203eb15c28d0a8cf88b61f50321b98dbf29aa2665019f7aa8eb1feb007d2f0935301 304402202623b53a70ac26af1fe3981c425f62256bfe128c07fe3df19fb5be34245c2c8502205044d914b252dcea97863978ecdeaebfab2e271ae8c8a98f2ca193338369ef1b01\n"
     ]
    }
   ],
   "source": [
    "#upsidedown = Script(my_multisig_tx.tx_ins[0].script_sig.cmds[::-1])\n",
    "straight = Script(my_multisig_tx.tx_ins[0].script_sig.cmds)\n",
    "rebuilt_script2 = Script(rebuilt_script.cmds[1:])\n",
    "#upsidedown.cmds.pop(0)\n",
    "straight.cmds.pop(-1)\n",
    "print(straight)"
   ]
  },
  {
   "cell_type": "code",
   "execution_count": 22,
   "metadata": {},
   "outputs": [],
   "source": [
    "combined_part2 = straight+ rebuilt_script"
   ]
  },
  {
   "cell_type": "code",
   "execution_count": 23,
   "metadata": {},
   "outputs": [],
   "source": [
    "from helper import hash256\n",
    "raw_modified=bytes.fromhex(\"0100000001117892d7a31c823c437579c6d3f915a2841280aba7e026df88017d36fc0bc47d0000000047522103e07f96e5ba598431c0c994493a4ae988c9854c171d5d4bb140db0a27a4c853e421031b63f964d8c65d1d1136dcfe5033dedea88c2d411934ea48c9708410be84e5ee52aeffffffff01caf90e00000000001976a91452903efc1004de01883ba3687be2a8ea4f6b1b1988ac0000000001000000\")\n",
    "raw_script_sig=\"da00473044022028ddc64e8f07f5f8686b8290de3a72f855761b615af87c93c122e2bf20a367c802206abf030c6f956e9d0e508cbb79cd15beed1f406f06de34b93932b56d987b39e001483045022100851ef022b4e3a5afd2af468093564f4b93a6c53d1700fb90c97c283ec6cdbde802200b5eda1f94e48e89dcae9b5e0441f388db6d8141069f0581e1063bd488b450bb0147522103e07f96e5ba598431c0c994493a4ae988c9854c171d5d4bb140db0a27a4c853e421031b63f964d8c65d1d1136dcfe5033dedea88c2d411934ea48c9708410be84e5ee52ae\"\n",
    "z=int.from_bytes(hash256(raw_modified),\"big\")\n"
   ]
  },
  {
   "cell_type": "code",
   "execution_count": 25,
   "metadata": {},
   "outputs": [
    {
     "data": {
      "text/plain": [
       "False"
      ]
     },
     "execution_count": 25,
     "metadata": {},
     "output_type": "execute_result"
    }
   ],
   "source": [
    "combined_part2.evaluate(z, None)"
   ]
  },
  {
   "cell_type": "code",
   "execution_count": 26,
   "metadata": {},
   "outputs": [
    {
     "data": {
      "text/plain": [
       "OP_0 3045022100b73e8f0e7b7d288044807515b7c89a599f41ade4691426a9af95ad83ea514b9a02203eb15c28d0a8cf88b61f50321b98dbf29aa2665019f7aa8eb1feb007d2f0935301 304402202623b53a70ac26af1fe3981c425f62256bfe128c07fe3df19fb5be34245c2c8502205044d914b252dcea97863978ecdeaebfab2e271ae8c8a98f2ca193338369ef1b01 OP_2 03e07f96e5ba598431c0c994493a4ae988c9854c171d5d4bb140db0a27a4c853e4 031b63f964d8c65d1d1136dcfe5033dedea88c2d411934ea48c9708410be84e5ee OP_2 OP_CHECKMULTISIG"
      ]
     },
     "execution_count": 26,
     "metadata": {},
     "output_type": "execute_result"
    }
   ],
   "source": [
    "combined_part2"
   ]
  },
  {
   "cell_type": "code",
   "execution_count": 27,
   "metadata": {},
   "outputs": [
    {
     "name": "stdout",
     "output_type": "stream",
     "text": [
      "False\n",
      "False\n"
     ]
    }
   ],
   "source": [
    "\n",
    "sec1=bytes.fromhex(str(combined_part2.cmds[4].hex()))\n",
    "sec2=bytes.fromhex(str(combined_part2.cmds[5].hex()))\n",
    "der1=bytes.fromhex(str(combined_part2.cmds[1][:-1].hex()))\n",
    "der2=bytes.fromhex(str(combined_part2.cmds[2][:-1].hex()))\n",
    "point1=S256Point.parse(sec1)\n",
    "point2=S256Point.parse(sec2)\n",
    "sig1=Signature.parse(der1)\n",
    "sig2=Signature.parse(der2)\n",
    "print(point1.verify(z,sig1))\n",
    "print(point2.verify(z,sig2))"
   ]
  },
  {
   "cell_type": "markdown",
   "metadata": {},
   "source": [
    "# Let's try with a lower fee"
   ]
  },
  {
   "cell_type": "code",
   "execution_count": 28,
   "metadata": {},
   "outputs": [
    {
     "name": "stdout",
     "output_type": "stream",
     "text": [
      "1000000:OP_DUP OP_HASH160 52903efc1004de01883ba3687be2a8ea4f6b1b19 OP_EQUALVERIFY OP_CHECKSIG\n",
      "tx: 67d3baf44adefc13c8635f51e45e6c1de6fa47cf18f4afbdc05ab0c95bd898e5\n",
      "version: 1\n",
      "tx_ins:\n",
      "7dc40bfc367d0188df26e0a7ab801284a215f9d3c67975433c821ca3d7927811:1\n",
      "tx_outs:\n",
      "1000000:OP_HASH160 c104b576f5436309587aefa3ddddd5c295b90480 OP_EQUAL\n",
      "591336:OP_DUP OP_HASH160 52903efc1004de01883ba3687be2a8ea4f6b1b19 OP_EQUALVERIFY OP_CHECKSIG\n",
      "locktime: 0\n",
      "index 1: 0, amount: 1000000\n",
      "[67d3baf44adefc13c8635f51e45e6c1de6fa47cf18f4afbdc05ab0c95bd898e5:0]\n",
      "[1000000]\n",
      "tx: 51fa79324d955e2559bd745e49360bbabd2cb563c0b8775493b41a93b2bff2e2\n",
      "version: 1\n",
      "tx_ins:\n",
      "67d3baf44adefc13c8635f51e45e6c1de6fa47cf18f4afbdc05ab0c95bd898e5:0\n",
      "tx_outs:\n",
      "1000000:OP_DUP OP_HASH160 52903efc1004de01883ba3687be2a8ea4f6b1b19 OP_EQUALVERIFY OP_CHECKSIG\n",
      "locktime: 0\n",
      "tx: 51fa79324d955e2559bd745e49360bbabd2cb563c0b8775493b41a93b2bff2e2\n",
      "version: 1\n",
      "tx_ins:\n",
      "67d3baf44adefc13c8635f51e45e6c1de6fa47cf18f4afbdc05ab0c95bd898e5:0\n",
      "tx_outs:\n",
      "1000000:OP_DUP OP_HASH160 52903efc1004de01883ba3687be2a8ea4f6b1b19 OP_EQUALVERIFY OP_CHECKSIG\n",
      "locktime: 0\n",
      "redeem_script present\n",
      "script: OP_2 03e07f96e5ba598431c0c994493a4ae988c9854c171d5d4bb140db0a27a4c853e4 031b63f964d8c65d1d1136dcfe5033dedea88c2d411934ea48c9708410be84e5ee OP_2 OP_CHECKMULTISIG\n",
      "sign_input_multisig commands: [0, b'0D\\x02 ka\\xfe\\x04uI=\\xd8\\x8a\\xd7\\xfd\\xcc\\xdb\\xc1\\xe8\\xbe\\x12a\\xc6\\x98\\xea\\x16\\x0bE)\\xe8\\xe2\\xda:\\xb0\\xa9\\x9c\\x02 cAS\\xaf&\\xd4\\x1d?6jE[\\xf6.\\xfa\\x83\\x17\\x04K\\x8c\\xee\\xbf\\xcd\\xfd\\x99d\\x9b| \\x99L\\x00\\x01', b'0E\\x02!\\x00\\x99\\x15\\xaaH\\xe1\\xce\\xa2bn\\xc6\\x9a\\xad\\x06\\xd1\\x01\\xfdt\\x04\\x91\\xd8\\xe0\\xc0\\xab \\xc9K`\\x87\\x81CW\\xd3\\x02 8$\\x9dao\\xca\\xact\\xc6\\x02\\xa6w\\xe8\\xb3o?\\x001\\xa8\\xbfL70\\x15 \\x9a\\xdb\\xcc\\x8d1\\x0eR\\x01', b\"R!\\x03\\xe0\\x7f\\x96\\xe5\\xbaY\\x841\\xc0\\xc9\\x94I:J\\xe9\\x88\\xc9\\x85L\\x17\\x1d]K\\xb1@\\xdb\\n'\\xa4\\xc8S\\xe4!\\x03\\x1bc\\xf9d\\xd8\\xc6]\\x1d\\x116\\xdc\\xfeP3\\xde\\xde\\xa8\\x8c-A\\x194\\xeaH\\xc9p\\x84\\x10\\xbe\\x84\\xe5\\xeeR\\xae\"]\n",
      "OP_HASH160 c104b576f5436309587aefa3ddddd5c295b90480 OP_EQUAL\n",
      "scriptPubKey: OP_HASH160 c104b576f5436309587aefa3ddddd5c295b90480 OP_EQUAL\n",
      "commands redeemscript: 522103e07f96e5ba598431c0c994493a4ae988c9854c171d5d4bb140db0a27a4c853e421031b63f964d8c65d1d1136dcfe5033dedea88c2d411934ea48c9708410be84e5ee52ae\n",
      "redeem_script present\n",
      "script: OP_2 03e07f96e5ba598431c0c994493a4ae988c9854c171d5d4bb140db0a27a4c853e4 031b63f964d8c65d1d1136dcfe5033dedea88c2d411934ea48c9708410be84e5ee OP_2 OP_CHECKMULTISIG\n",
      "\n",
      "combined script[0, b'0D\\x02 ka\\xfe\\x04uI=\\xd8\\x8a\\xd7\\xfd\\xcc\\xdb\\xc1\\xe8\\xbe\\x12a\\xc6\\x98\\xea\\x16\\x0bE)\\xe8\\xe2\\xda:\\xb0\\xa9\\x9c\\x02 cAS\\xaf&\\xd4\\x1d?6jE[\\xf6.\\xfa\\x83\\x17\\x04K\\x8c\\xee\\xbf\\xcd\\xfd\\x99d\\x9b| \\x99L\\x00\\x01', b'0E\\x02!\\x00\\x99\\x15\\xaaH\\xe1\\xce\\xa2bn\\xc6\\x9a\\xad\\x06\\xd1\\x01\\xfdt\\x04\\x91\\xd8\\xe0\\xc0\\xab \\xc9K`\\x87\\x81CW\\xd3\\x02 8$\\x9dao\\xca\\xact\\xc6\\x02\\xa6w\\xe8\\xb3o?\\x001\\xa8\\xbfL70\\x15 \\x9a\\xdb\\xcc\\x8d1\\x0eR\\x01', b\"R!\\x03\\xe0\\x7f\\x96\\xe5\\xbaY\\x841\\xc0\\xc9\\x94I:J\\xe9\\x88\\xc9\\x85L\\x17\\x1d]K\\xb1@\\xdb\\n'\\xa4\\xc8S\\xe4!\\x03\\x1bc\\xf9d\\xd8\\xc6]\\x1d\\x116\\xdc\\xfeP3\\xde\\xde\\xa8\\x8c-A\\x194\\xeaH\\xc9p\\x84\\x10\\xbe\\x84\\xe5\\xeeR\\xae\", 169, b'\\xc1\\x04\\xb5v\\xf5Cc\\tXz\\xef\\xa3\\xdd\\xdd\\xd5\\xc2\\x95\\xb9\\x04\\x80', 135]\n",
      "\n",
      "True\n",
      "fee: 8904\n",
      "redeem_script present\n",
      "script: OP_2 03e07f96e5ba598431c0c994493a4ae988c9854c171d5d4bb140db0a27a4c853e4 031b63f964d8c65d1d1136dcfe5033dedea88c2d411934ea48c9708410be84e5ee OP_2 OP_CHECKMULTISIG\n",
      "sign_input_multisig commands: [0, b'0D\\x02 \\t\\xe2|\\x89\\x1f\\xc9\\xeaD\\xac\\x9e\\xe3\\x96\\xd6\\xa1e\\x94\\x0bV\\xb5_\\x8e\\x17\\xf2\\xf0\\x81\\x7f\\xc9M\\xaag\\xbe\\xab\\x02 K\\x8e\\xb6$!5\\xe47\\xc3\\xa2;\\xef\\xb2\\xe6\\x9e=\\x86\\x81\\xa4\\x83\\xe9\\xf8\\x92\\xb9L\\xa7\\xf1a\\x11\\x1d\\xc5m\\x01', b'0E\\x02!\\x00\\xff\\x1e\\xda\\xea\\xa3\\xf0\\xba\\xfa\\x91y\\xad\\x17\\xd0\\xc7\\x93\\x1a\\xed\\xe1\\xa5\\xfe\\x19\\xb2[7_\\xccl\\xdf\\x1f\\x0b\\x08\\x81\\x02 .\\x8cR%7\\xdbc\\xb9\\xc96U<(\\xd6\\xff~\\xea%K\\x87\\x8bFA\\xaa\\xdb\\xf3\\xd9\\xba\\x04E\\xa1\\xc3\\x01', b\"R!\\x03\\xe0\\x7f\\x96\\xe5\\xbaY\\x841\\xc0\\xc9\\x94I:J\\xe9\\x88\\xc9\\x85L\\x17\\x1d]K\\xb1@\\xdb\\n'\\xa4\\xc8S\\xe4!\\x03\\x1bc\\xf9d\\xd8\\xc6]\\x1d\\x116\\xdc\\xfeP3\\xde\\xde\\xa8\\x8c-A\\x194\\xeaH\\xc9p\\x84\\x10\\xbe\\x84\\xe5\\xeeR\\xae\"]\n",
      "OP_HASH160 c104b576f5436309587aefa3ddddd5c295b90480 OP_EQUAL\n",
      "scriptPubKey: OP_HASH160 c104b576f5436309587aefa3ddddd5c295b90480 OP_EQUAL\n",
      "commands redeemscript: 522103e07f96e5ba598431c0c994493a4ae988c9854c171d5d4bb140db0a27a4c853e421031b63f964d8c65d1d1136dcfe5033dedea88c2d411934ea48c9708410be84e5ee52ae\n",
      "redeem_script present\n",
      "script: OP_2 03e07f96e5ba598431c0c994493a4ae988c9854c171d5d4bb140db0a27a4c853e4 031b63f964d8c65d1d1136dcfe5033dedea88c2d411934ea48c9708410be84e5ee OP_2 OP_CHECKMULTISIG\n",
      "\n",
      "combined script[0, b'0D\\x02 \\t\\xe2|\\x89\\x1f\\xc9\\xeaD\\xac\\x9e\\xe3\\x96\\xd6\\xa1e\\x94\\x0bV\\xb5_\\x8e\\x17\\xf2\\xf0\\x81\\x7f\\xc9M\\xaag\\xbe\\xab\\x02 K\\x8e\\xb6$!5\\xe47\\xc3\\xa2;\\xef\\xb2\\xe6\\x9e=\\x86\\x81\\xa4\\x83\\xe9\\xf8\\x92\\xb9L\\xa7\\xf1a\\x11\\x1d\\xc5m\\x01', b'0E\\x02!\\x00\\xff\\x1e\\xda\\xea\\xa3\\xf0\\xba\\xfa\\x91y\\xad\\x17\\xd0\\xc7\\x93\\x1a\\xed\\xe1\\xa5\\xfe\\x19\\xb2[7_\\xccl\\xdf\\x1f\\x0b\\x08\\x81\\x02 .\\x8cR%7\\xdbc\\xb9\\xc96U<(\\xd6\\xff~\\xea%K\\x87\\x8bFA\\xaa\\xdb\\xf3\\xd9\\xba\\x04E\\xa1\\xc3\\x01', b\"R!\\x03\\xe0\\x7f\\x96\\xe5\\xbaY\\x841\\xc0\\xc9\\x94I:J\\xe9\\x88\\xc9\\x85L\\x17\\x1d]K\\xb1@\\xdb\\n'\\xa4\\xc8S\\xe4!\\x03\\x1bc\\xf9d\\xd8\\xc6]\\x1d\\x116\\xdc\\xfeP3\\xde\\xde\\xa8\\x8c-A\\x194\\xeaH\\xc9p\\x84\\x10\\xbe\\x84\\xe5\\xeeR\\xae\", 169, b'\\xc1\\x04\\xb5v\\xf5Cc\\tXz\\xef\\xa3\\xdd\\xdd\\xd5\\xc2\\x95\\xb9\\x04\\x80', 135]\n",
      "\n",
      "True\n",
      "0100000001e598d85bc9b05ac0bdaff418cf47fae61d6c5ee4515f63c813fcde4af4bad36700000000da00473044022009e27c891fc9ea44ac9ee396d6a165940b56b55f8e17f2f0817fc94daa67beab02204b8eb6242135e437c3a23befb2e69e3d8681a483e9f892b94ca7f161111dc56d01483045022100ff1edaeaa3f0bafa9179ad17d0c7931aede1a5fe19b25b375fcc6cdf1f0b088102202e8c522537db63b9c936553c28d6ff7eea254b878b4641aadbf3d9ba0445a1c30147522103e07f96e5ba598431c0c994493a4ae988c9854c171d5d4bb140db0a27a4c853e421031b63f964d8c65d1d1136dcfe5033dedea88c2d411934ea48c9708410be84e5ee52aeffffffff01781f0f00000000001976a91452903efc1004de01883ba3687be2a8ea4f6b1b1988ac00000000\n"
     ]
    }
   ],
   "source": [
    "tx_ins =[]\n",
    "tx_outs =[]\n",
    "\n",
    "amountTx= int(0.01 * 100000000)# we'll fix this later after calculating the fee\n",
    "\n",
    "#It will send back all the money to our address_1 minus the fee\n",
    "output = TxOut(amountTx,  p2pkh_script(decode_base58(my_address_1)))\n",
    "print(output)\n",
    "tx_outs.append(output)\n",
    "\n",
    "prev_tx_id_list = [\"67d3baf44adefc13c8635f51e45e6c1de6fa47cf18f4afbdc05ab0c95bd898e5\"]\n",
    "\n",
    "tx_ins_utxo = get_tx_ins_utxo(prev_tx_id_list, multi_sig_addr, testnet=True)\n",
    "    \n",
    "tx_ins = [x[\"tx_in\"] for x in tx_ins_utxo]\n",
    "print(tx_ins)\n",
    "\n",
    "utxos = [x[\"utxo\"] for x in tx_ins_utxo]\n",
    "print(utxos)\n",
    "\n",
    "my_multisig_tx = Tx(1, tx_ins, tx_outs, 0, testnet=True)\n",
    "print(my_multisig_tx)\n",
    "\n",
    "fee = calculate_fee(1, tx_ins, tx_outs, 0, privkey=[privkey_1, privkey_2], \n",
    "                    redeem_script=redeem_script, testnet=True, multisig=True, fee_per_byte = 12)\n",
    "\n",
    "amountTx = sum(utxos) - fee\n",
    "\n",
    "#Let's modify the amount in the change_output:\n",
    "my_multisig_tx.tx_outs[0].amount = amountTx\n",
    "\n",
    "#we sign again because the hash changed\n",
    "for tx_input in range(len(tx_ins)):\n",
    "    print(my_multisig_tx.sign_input_multisig(tx_input, [privkey_1, privkey_2], redeem_script))#redeem_script from earlier\n",
    "\n",
    "print(my_multisig_tx.serialize().hex())"
   ]
  },
  {
   "cell_type": "markdown",
   "metadata": {},
   "source": [
    "# A fee of 12 satoshis per byte has a \"Medium\" preference by miners according to the block explorer Blockcypher.com"
   ]
  },
  {
   "cell_type": "code",
   "execution_count": 30,
   "metadata": {},
   "outputs": [
    {
     "data": {
      "text/plain": [
       "str"
      ]
     },
     "execution_count": 30,
     "metadata": {},
     "output_type": "execute_result"
    }
   ],
   "source": [
    "type('n')"
   ]
  },
  {
   "cell_type": "code",
   "execution_count": null,
   "metadata": {},
   "outputs": [],
   "source": []
  }
 ],
 "metadata": {
  "kernelspec": {
   "display_name": "Python 3",
   "language": "python",
   "name": "python3"
  },
  "language_info": {
   "codemirror_mode": {
    "name": "ipython",
    "version": 3
   },
   "file_extension": ".py",
   "mimetype": "text/x-python",
   "name": "python",
   "nbconvert_exporter": "python",
   "pygments_lexer": "ipython3",
   "version": "3.7.3"
  }
 },
 "nbformat": 4,
 "nbformat_minor": 4
}
