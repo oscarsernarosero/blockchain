{
 "cells": [
  {
   "cell_type": "code",
   "execution_count": 1,
   "metadata": {},
   "outputs": [],
   "source": [
    "from importlib import reload\n",
    "from helper import run\n",
    "import ecc\n",
    "import helper\n",
    "import tx\n",
    "import script"
   ]
  },
  {
   "cell_type": "code",
   "execution_count": 2,
   "metadata": {},
   "outputs": [],
   "source": [
    "from ecc import PrivateKey, S256Point\n",
    "from helper import decode_base58, SIGHASH_ALL, h160_to_p2pkh_address, hash160\n",
    "from script import p2pkh_script, Script\n",
    "from tx import TxIn, TxOut, Tx, TxFetcher\n",
    "from urllib.request import Request, urlopen\n",
    "import json"
   ]
  },
  {
   "cell_type": "code",
   "execution_count": 3,
   "metadata": {},
   "outputs": [
    {
     "name": "stdout",
     "output_type": "stream",
     "text": [
      "mo3WWB4PoSHrudEBik1nUqfn1uZEPNYEc8\n"
     ]
    }
   ],
   "source": [
    "privkey_1 = PrivateKey(int.from_bytes(b\"Oscar Eduardo Serna Rosero\",\"big\"))\n",
    "my_address_1 = privkey_1.point.address(testnet=True)\n",
    "print(my_address_1)"
   ]
  },
  {
   "cell_type": "code",
   "execution_count": 4,
   "metadata": {},
   "outputs": [
    {
     "name": "stdout",
     "output_type": "stream",
     "text": [
      "mwuCRN8bMLWN9ETs29U8KseDkau72M9byF\n"
     ]
    }
   ],
   "source": [
    "privkey_2 = PrivateKey(int.from_bytes(b\"Oscar Eduardo Serna Rosero\",\"little\"))\n",
    "my_address_2 = privkey_2.point.address(testnet=True)\n",
    "print(my_address_2)"
   ]
  },
  {
   "cell_type": "markdown",
   "metadata": {},
   "source": [
    "# Let's try to create a multisignature address that needs both signatures from privkey_1 and privkey_2"
   ]
  },
  {
   "cell_type": "code",
   "execution_count": 5,
   "metadata": {},
   "outputs": [],
   "source": [
    "m=2\n",
    "op_m = 82\n",
    "n=2\n",
    "op_n=82\n",
    "length_pubkey=33\n",
    "pubkey1=privkey_1.point.sec()\n",
    "pubkey2=privkey_2.point.sec()"
   ]
  },
  {
   "cell_type": "code",
   "execution_count": 6,
   "metadata": {},
   "outputs": [
    {
     "data": {
      "text/plain": [
       "'03e07f96e5ba598431c0c994493a4ae988c9854c171d5d4bb140db0a27a4c853e4'"
      ]
     },
     "execution_count": 6,
     "metadata": {},
     "output_type": "execute_result"
    }
   ],
   "source": [
    "pubkey1.hex()"
   ]
  },
  {
   "cell_type": "code",
   "execution_count": 7,
   "metadata": {},
   "outputs": [
    {
     "data": {
      "text/plain": [
       "'031b63f964d8c65d1d1136dcfe5033dedea88c2d411934ea48c9708410be84e5ee'"
      ]
     },
     "execution_count": 7,
     "metadata": {},
     "output_type": "execute_result"
    }
   ],
   "source": [
    "pubkey2.hex()"
   ]
  },
  {
   "cell_type": "code",
   "execution_count": 8,
   "metadata": {},
   "outputs": [
    {
     "data": {
      "text/plain": [
       "OP_2 03e07f96e5ba598431c0c994493a4ae988c9854c171d5d4bb140db0a27a4c853e4 031b63f964d8c65d1d1136dcfe5033dedea88c2d411934ea48c9708410be84e5ee OP_2 OP_CHECKMULTISIG"
      ]
     },
     "execution_count": 8,
     "metadata": {},
     "output_type": "execute_result"
    }
   ],
   "source": [
    "#redeem_script = Script([op_m, length_pubkey, pubkey1, length_pubkey, pubkey2, op_n, 174])#174:OP_CHECKMULTISIG\n",
    "redeem_script = Script([op_m, pubkey1, pubkey2, op_n, 174])#174:OP_CHECKMULTISIG\n",
    "redeem_script"
   ]
  },
  {
   "cell_type": "code",
   "execution_count": 9,
   "metadata": {},
   "outputs": [
    {
     "data": {
      "text/plain": [
       "'522103e07f96e5ba598431c0c994493a4ae988c9854c171d5d4bb140db0a27a4c853e421031b63f964d8c65d1d1136dcfe5033dedea88c2d411934ea48c9708410be84e5ee52ae'"
      ]
     },
     "execution_count": 9,
     "metadata": {},
     "output_type": "execute_result"
    }
   ],
   "source": [
    "serialized_redeem = redeem_script.raw_serialize()\n",
    "serialized_redeem.hex()"
   ]
  },
  {
   "cell_type": "code",
   "execution_count": 10,
   "metadata": {},
   "outputs": [
    {
     "data": {
      "text/plain": [
       "'my7YMFfcujKi8uPaSFEfULfNUdpHx3bXJw'"
      ]
     },
     "execution_count": 10,
     "metadata": {},
     "output_type": "execute_result"
    }
   ],
   "source": [
    "multi_sig_addr = h160_to_p2pkh_address(hash160(serialized_redeem), testnet=True)\n",
    "multi_sig_addr"
   ]
  },
  {
   "cell_type": "markdown",
   "metadata": {},
   "source": [
    "# Now let's try to send some BTCs to this address"
   ]
  },
  {
   "cell_type": "code",
   "execution_count": 11,
   "metadata": {},
   "outputs": [
    {
     "name": "stdout",
     "output_type": "stream",
     "text": [
      "1000000:OP_HASH160 c104b576f5436309587aefa3ddddd5c295b90480 OP_EQUAL\n",
      "1000000:OP_DUP OP_HASH160 52903efc1004de01883ba3687be2a8ea4f6b1b19 OP_EQUALVERIFY OP_CHECKSIG\n",
      "tx: 02971382a72fc23c087723ed35686fdac019ae75f8084b7c9f51a07c56d00951\n",
      "version: 1\n",
      "tx_ins:\n",
      "0581629ea49735dcdb06fd94e7b187bc0af71934119d466ab762df7665e00fef:1\n",
      "fcb130e47a883b6bc3b2ac11af9cc0b3dde92f05a7110b68d91f6877d7b1e38e:0\n",
      "tx_outs:\n",
      "2594462:OP_DUP OP_HASH160 52903efc1004de01883ba3687be2a8ea4f6b1b19 OP_EQUALVERIFY OP_CHECKSIG\n",
      "locktime: 0\n",
      "index 1: 0\n",
      "02971382a72fc23c087723ed35686fdac019ae75f8084b7c9f51a07c56d00951:0\n",
      "tx: aad3e57da3c8cb3d7f5d52df5a7c2179085120381049bb3c1eabef0b052c035d\n",
      "version: 1\n",
      "tx_ins:\n",
      "02971382a72fc23c087723ed35686fdac019ae75f8084b7c9f51a07c56d00951:0\n",
      "tx_outs:\n",
      "1000000:OP_HASH160 c104b576f5436309587aefa3ddddd5c295b90480 OP_EQUAL\n",
      "1000000:OP_DUP OP_HASH160 52903efc1004de01883ba3687be2a8ea4f6b1b19 OP_EQUALVERIFY OP_CHECKSIG\n",
      "locktime: 0\n",
      "True\n",
      "fee: 2240\n",
      "change 1592222\n",
      "total 2594462, diff: 0\n",
      "True\n",
      "01000000015109d0567ca0519f7c4b08f875ae19c0da6f6835ed2377083cc22fa782139702000000006a473044022074881164e61599412c9ab3a6cbdeb56fa100fa798968e354d1b874221290fb8802200d38aa7382ea78882039089c708db971f132d5bad09d94c44d23db8fcd16210e012103e07f96e5ba598431c0c994493a4ae988c9854c171d5d4bb140db0a27a4c853e4ffffffff0240420f000000000017a914c104b576f5436309587aefa3ddddd5c295b90480879e4b1800000000001976a91452903efc1004de01883ba3687be2a8ea4f6b1b1988ac00000000\n"
     ]
    }
   ],
   "source": [
    "from script import p2sh_script\n",
    "# Let's build the tx:\n",
    "tx_outs =[]\n",
    "tx_ins =[]\n",
    "\n",
    "change = int(0.01 * 100000000)# we are going to fix this later\n",
    "amountTx= int(0.01 * 100000000)\n",
    "\n",
    "#It will send 0.01 to the multisig address\n",
    "output = TxOut(amountTx, p2sh_script(decode_base58(multi_sig_addr)))\n",
    "print(output)\n",
    "tx_outs.append(output)\n",
    "\n",
    "change_output = TxOut(change, p2pkh_script(decode_base58(my_address_1)))\n",
    "print(change_output)\n",
    "tx_outs.append(change_output)\n",
    "\n",
    "prev1_tx_id = \"02971382a72fc23c087723ed35686fdac019ae75f8084b7c9f51a07c56d00951\"\n",
    "prev_tx1 = TxFetcher.fetch(prev1_tx_id, testnet=True)\n",
    "print(prev_tx1)\n",
    "\n",
    "def get_index(outs_list):\n",
    "    for index,out in enumerate(outs_list):\n",
    "        if out.script_pubkey.cmds[2] == decode_base58(my_address_1):\n",
    "            return index\n",
    "    return \"output index not found\"\n",
    "    \n",
    "prev1_index= get_index(prev_tx1.tx_outs)\n",
    "#prev1_index=0\n",
    "print(f\"index 1: {prev1_index}\")\n",
    "\n",
    "tx_in1 = TxIn(bytes.fromhex(prev1_tx_id),prev1_index)\n",
    "print(tx_in1)\n",
    "tx_ins.append(tx_in1)\n",
    "\n",
    "my_tx = Tx(1, tx_ins, tx_outs, 0, testnet=True)\n",
    "print(my_tx)\n",
    "\n",
    "# sign the inputs in the transaction object using the private key\n",
    "for tx_input in range(len(tx_ins)):\n",
    "    print(my_tx.sign_input(tx_input, privkey_1))\n",
    "# print the transaction's serialization in hex\n",
    "\n",
    "#Let's calculate the fee and the change:\n",
    "tx_size = len(my_tx.serialize().hex())\n",
    "fee_per_byte = 5 # I changed from 2 to 5 after sending this transaction because it had really low appeal to miners.\n",
    "fee = tx_size * fee_per_byte\n",
    "print(f\"fee: {fee}\")\n",
    "\n",
    "change = prev_tx1.tx_outs[prev1_index].amount - fee - amountTx\n",
    "print(f\"change {change}\")\n",
    "#Let's make sure that we are actually spending the exact amount of the UTXO\n",
    "total_send=fee+amountTx+change\n",
    "diff = prev_tx1.tx_outs[prev1_index].amount-total_send\n",
    "print(f\"total {total_send}, diff: {diff}\")\n",
    "\n",
    "\n",
    "#Let's modify the amount in the change_output:\n",
    "tx_outs[-1].amount = change\n",
    "\n",
    "#we sign again because the hash changed\n",
    "for tx_input in range(len(tx_ins)):\n",
    "    print(my_tx.sign_input(tx_input, privkey_1))\n",
    "\n",
    "print(my_tx.serialize().hex())\n",
    "\n",
    "#for tx_input in range(len(tx_ins)):\n",
    " #   print(my_tx.verify_input(tx_input))\n",
    "\n",
    "\n"
   ]
  },
  {
   "cell_type": "code",
   "execution_count": 12,
   "metadata": {},
   "outputs": [
    {
     "data": {
      "text/plain": [
       "True"
      ]
     },
     "execution_count": 12,
     "metadata": {},
     "output_type": "execute_result"
    }
   ],
   "source": [
    "my_tx.verify_input(0)"
   ]
  },
  {
   "cell_type": "code",
   "execution_count": 13,
   "metadata": {},
   "outputs": [
    {
     "name": "stdout",
     "output_type": "stream",
     "text": [
      "a b c\n"
     ]
    }
   ],
   "source": [
    "li = [\"a\",\"b\",\"c\"]\n",
    "print(*li)"
   ]
  },
  {
   "cell_type": "markdown",
   "metadata": {},
   "source": [
    "# Now let's try to spend the UTXO from the multi-sig address"
   ]
  },
  {
   "cell_type": "code",
   "execution_count": 14,
   "metadata": {},
   "outputs": [
    {
     "name": "stdout",
     "output_type": "stream",
     "text": [
      "1000000:OP_DUP OP_HASH160 52903efc1004de01883ba3687be2a8ea4f6b1b19 OP_EQUALVERIFY OP_CHECKSIG\n",
      "tx: 7dc40bfc367d0188df26e0a7ab801284a215f9d3c67975433c821ca3d7927811\n",
      "version: 1\n",
      "tx_ins:\n",
      "02971382a72fc23c087723ed35686fdac019ae75f8084b7c9f51a07c56d00951:0\n",
      "tx_outs:\n",
      "1000000:OP_HASH160 c104b576f5436309587aefa3ddddd5c295b90480 OP_EQUAL\n",
      "1593566:OP_DUP OP_HASH160 52903efc1004de01883ba3687be2a8ea4f6b1b19 OP_EQUALVERIFY OP_CHECKSIG\n",
      "locktime: 0\n",
      "index 1: 1\n",
      "7dc40bfc367d0188df26e0a7ab801284a215f9d3c67975433c821ca3d7927811:1\n",
      "tx: 46e40371b8391127e4ff05b288b9595c2bf172781864186e90cc1269ac15693c\n",
      "version: 1\n",
      "tx_ins:\n",
      "7dc40bfc367d0188df26e0a7ab801284a215f9d3c67975433c821ca3d7927811:1\n",
      "tx_outs:\n",
      "1000000:OP_DUP OP_HASH160 52903efc1004de01883ba3687be2a8ea4f6b1b19 OP_EQUALVERIFY OP_CHECKSIG\n",
      "locktime: 0\n",
      "[0, b\"\\x03\\xe0\\x7f\\x96\\xe5\\xbaY\\x841\\xc0\\xc9\\x94I:J\\xe9\\x88\\xc9\\x85L\\x17\\x1d]K\\xb1@\\xdb\\n'\\xa4\\xc8S\\xe4\", b'\\x03\\x1bc\\xf9d\\xd8\\xc6]\\x1d\\x116\\xdc\\xfeP3\\xde\\xde\\xa8\\x8c-A\\x194\\xeaH\\xc9p\\x84\\x10\\xbe\\x84\\xe5\\xee', OP_2 03e07f96e5ba598431c0c994493a4ae988c9854c171d5d4bb140db0a27a4c853e4 031b63f964d8c65d1d1136dcfe5033dedea88c2d411934ea48c9708410be84e5ee OP_2 OP_CHECKMULTISIG]\n"
     ]
    },
    {
     "ename": "TypeError",
     "evalue": "object supporting the buffer API required",
     "output_type": "error",
     "traceback": [
      "\u001b[0;31m---------------------------------------------------------------------------\u001b[0m",
      "\u001b[0;31mTypeError\u001b[0m                                 Traceback (most recent call last)",
      "\u001b[0;32m<ipython-input-14-c65a6cc26dbe>\u001b[0m in \u001b[0;36m<module>\u001b[0;34m\u001b[0m\n\u001b[1;32m     36\u001b[0m \u001b[0;31m# sign the inputs in the transaction object using the private key\u001b[0m\u001b[0;34m\u001b[0m\u001b[0;34m\u001b[0m\u001b[0;34m\u001b[0m\u001b[0m\n\u001b[1;32m     37\u001b[0m \u001b[0;32mfor\u001b[0m \u001b[0mtx_input\u001b[0m \u001b[0;32min\u001b[0m \u001b[0mrange\u001b[0m\u001b[0;34m(\u001b[0m\u001b[0mlen\u001b[0m\u001b[0;34m(\u001b[0m\u001b[0mtx_ins\u001b[0m\u001b[0;34m)\u001b[0m\u001b[0;34m)\u001b[0m\u001b[0;34m:\u001b[0m\u001b[0;34m\u001b[0m\u001b[0;34m\u001b[0m\u001b[0m\n\u001b[0;32m---> 38\u001b[0;31m     \u001b[0mprint\u001b[0m\u001b[0;34m(\u001b[0m\u001b[0mmy_multisig_tx\u001b[0m\u001b[0;34m.\u001b[0m\u001b[0msign_input_multisig\u001b[0m\u001b[0;34m(\u001b[0m\u001b[0mtx_input\u001b[0m\u001b[0;34m,\u001b[0m \u001b[0;34m[\u001b[0m\u001b[0mprivkey_1\u001b[0m\u001b[0;34m,\u001b[0m \u001b[0mprivkey_2\u001b[0m\u001b[0;34m]\u001b[0m\u001b[0;34m,\u001b[0m \u001b[0mredeem_script\u001b[0m\u001b[0;34m)\u001b[0m\u001b[0;34m)\u001b[0m\u001b[0;31m#redeem_script from earlier\u001b[0m\u001b[0;34m\u001b[0m\u001b[0;34m\u001b[0m\u001b[0m\n\u001b[0m\u001b[1;32m     39\u001b[0m \u001b[0;31m# print the transaction's serialization in hex\u001b[0m\u001b[0;34m\u001b[0m\u001b[0;34m\u001b[0m\u001b[0;34m\u001b[0m\u001b[0m\n\u001b[1;32m     40\u001b[0m \u001b[0;34m\u001b[0m\u001b[0m\n",
      "\u001b[0;32m~/Documents/US/Rice U/blockchain/bitcoin/basics/final/tx.py\u001b[0m in \u001b[0;36msign_input_multisig\u001b[0;34m(self, input_index, private_key_list, redeem_script)\u001b[0m\n\u001b[1;32m    278\u001b[0m         \u001b[0mself\u001b[0m\u001b[0;34m.\u001b[0m\u001b[0mtx_ins\u001b[0m\u001b[0;34m[\u001b[0m\u001b[0minput_index\u001b[0m\u001b[0;34m]\u001b[0m\u001b[0;34m.\u001b[0m\u001b[0mscript_sig\u001b[0m \u001b[0;34m=\u001b[0m \u001b[0mscript_sig\u001b[0m\u001b[0;34m\u001b[0m\u001b[0;34m\u001b[0m\u001b[0m\n\u001b[1;32m    279\u001b[0m         \u001b[0;31m# return whether sig is valid using self.verify_input\u001b[0m\u001b[0;34m\u001b[0m\u001b[0;34m\u001b[0m\u001b[0;34m\u001b[0m\u001b[0m\n\u001b[0;32m--> 280\u001b[0;31m         \u001b[0;32mreturn\u001b[0m \u001b[0mself\u001b[0m\u001b[0;34m.\u001b[0m\u001b[0mverify_input\u001b[0m\u001b[0;34m(\u001b[0m\u001b[0minput_index\u001b[0m\u001b[0;34m)\u001b[0m\u001b[0;34m\u001b[0m\u001b[0;34m\u001b[0m\u001b[0m\n\u001b[0m\u001b[1;32m    281\u001b[0m \u001b[0;34m\u001b[0m\u001b[0m\n\u001b[1;32m    282\u001b[0m \u001b[0;34m\u001b[0m\u001b[0m\n",
      "\u001b[0;32m~/Documents/US/Rice U/blockchain/bitcoin/basics/final/tx.py\u001b[0m in \u001b[0;36mverify_input\u001b[0;34m(self, input_index)\u001b[0m\n\u001b[1;32m    228\u001b[0m         \u001b[0mcombined\u001b[0m \u001b[0;34m=\u001b[0m \u001b[0mtx_in\u001b[0m\u001b[0;34m.\u001b[0m\u001b[0mscript_sig\u001b[0m \u001b[0;34m+\u001b[0m \u001b[0mscript_pubkey\u001b[0m\u001b[0;34m\u001b[0m\u001b[0;34m\u001b[0m\u001b[0m\n\u001b[1;32m    229\u001b[0m         \u001b[0;31m# evaluate the combined script\u001b[0m\u001b[0;34m\u001b[0m\u001b[0;34m\u001b[0m\u001b[0;34m\u001b[0m\u001b[0m\n\u001b[0;32m--> 230\u001b[0;31m         \u001b[0;32mreturn\u001b[0m \u001b[0mcombined\u001b[0m\u001b[0;34m.\u001b[0m\u001b[0mevaluate\u001b[0m\u001b[0;34m(\u001b[0m\u001b[0mz\u001b[0m\u001b[0;34m)\u001b[0m\u001b[0;34m\u001b[0m\u001b[0;34m\u001b[0m\u001b[0m\n\u001b[0m\u001b[1;32m    231\u001b[0m \u001b[0;34m\u001b[0m\u001b[0m\n\u001b[1;32m    232\u001b[0m     \u001b[0;32mdef\u001b[0m \u001b[0mverify\u001b[0m\u001b[0;34m(\u001b[0m\u001b[0mself\u001b[0m\u001b[0;34m)\u001b[0m\u001b[0;34m:\u001b[0m\u001b[0;34m\u001b[0m\u001b[0;34m\u001b[0m\u001b[0m\n",
      "\u001b[0;32m~/Documents/US/Rice U/blockchain/bitcoin/basics/final/script.py\u001b[0m in \u001b[0;36mevaluate\u001b[0;34m(self, z)\u001b[0m\n\u001b[1;32m    164\u001b[0m                         \u001b[0;32mreturn\u001b[0m \u001b[0;32mFalse\u001b[0m\u001b[0;34m\u001b[0m\u001b[0;34m\u001b[0m\u001b[0m\n\u001b[1;32m    165\u001b[0m                 \u001b[0;32melse\u001b[0m\u001b[0;34m:\u001b[0m\u001b[0;34m\u001b[0m\u001b[0;34m\u001b[0m\u001b[0m\n\u001b[0;32m--> 166\u001b[0;31m                     \u001b[0;32mif\u001b[0m \u001b[0;32mnot\u001b[0m \u001b[0moperation\u001b[0m\u001b[0;34m(\u001b[0m\u001b[0mstack\u001b[0m\u001b[0;34m)\u001b[0m\u001b[0;34m:\u001b[0m\u001b[0;34m\u001b[0m\u001b[0;34m\u001b[0m\u001b[0m\n\u001b[0m\u001b[1;32m    167\u001b[0m                         \u001b[0mLOGGER\u001b[0m\u001b[0;34m.\u001b[0m\u001b[0minfo\u001b[0m\u001b[0;34m(\u001b[0m\u001b[0;34m'bad op: {}'\u001b[0m\u001b[0;34m.\u001b[0m\u001b[0mformat\u001b[0m\u001b[0;34m(\u001b[0m\u001b[0mOP_CODE_NAMES\u001b[0m\u001b[0;34m[\u001b[0m\u001b[0mcmd\u001b[0m\u001b[0;34m]\u001b[0m\u001b[0;34m)\u001b[0m\u001b[0;34m)\u001b[0m\u001b[0;34m\u001b[0m\u001b[0;34m\u001b[0m\u001b[0m\n\u001b[1;32m    168\u001b[0m                         \u001b[0;32mreturn\u001b[0m \u001b[0;32mFalse\u001b[0m\u001b[0;34m\u001b[0m\u001b[0;34m\u001b[0m\u001b[0m\n",
      "\u001b[0;32m~/Documents/US/Rice U/blockchain/bitcoin/basics/final/op.py\u001b[0m in \u001b[0;36mop_hash160\u001b[0;34m(stack)\u001b[0m\n\u001b[1;32m    647\u001b[0m     \u001b[0melement\u001b[0m \u001b[0;34m=\u001b[0m \u001b[0mstack\u001b[0m\u001b[0;34m.\u001b[0m\u001b[0mpop\u001b[0m\u001b[0;34m(\u001b[0m\u001b[0;34m)\u001b[0m\u001b[0;34m\u001b[0m\u001b[0;34m\u001b[0m\u001b[0m\n\u001b[1;32m    648\u001b[0m     \u001b[0;31m# push a hash160 of the popped off element to the stack\u001b[0m\u001b[0;34m\u001b[0m\u001b[0;34m\u001b[0m\u001b[0;34m\u001b[0m\u001b[0m\n\u001b[0;32m--> 649\u001b[0;31m     \u001b[0mh160\u001b[0m \u001b[0;34m=\u001b[0m \u001b[0mhash160\u001b[0m\u001b[0;34m(\u001b[0m\u001b[0melement\u001b[0m\u001b[0;34m)\u001b[0m\u001b[0;34m\u001b[0m\u001b[0;34m\u001b[0m\u001b[0m\n\u001b[0m\u001b[1;32m    650\u001b[0m     \u001b[0mstack\u001b[0m\u001b[0;34m.\u001b[0m\u001b[0mappend\u001b[0m\u001b[0;34m(\u001b[0m\u001b[0mh160\u001b[0m\u001b[0;34m)\u001b[0m\u001b[0;34m\u001b[0m\u001b[0;34m\u001b[0m\u001b[0m\n\u001b[1;32m    651\u001b[0m     \u001b[0;32mreturn\u001b[0m \u001b[0;32mTrue\u001b[0m\u001b[0;34m\u001b[0m\u001b[0;34m\u001b[0m\u001b[0m\n",
      "\u001b[0;32m~/Documents/US/Rice U/blockchain/bitcoin/basics/final/helper.py\u001b[0m in \u001b[0;36mhash160\u001b[0;34m(s)\u001b[0m\n\u001b[1;32m     20\u001b[0m \u001b[0;32mdef\u001b[0m \u001b[0mhash160\u001b[0m\u001b[0;34m(\u001b[0m\u001b[0ms\u001b[0m\u001b[0;34m)\u001b[0m\u001b[0;34m:\u001b[0m\u001b[0;34m\u001b[0m\u001b[0;34m\u001b[0m\u001b[0m\n\u001b[1;32m     21\u001b[0m     \u001b[0;34m'''sha256 followed by ripemd160'''\u001b[0m\u001b[0;34m\u001b[0m\u001b[0;34m\u001b[0m\u001b[0m\n\u001b[0;32m---> 22\u001b[0;31m     \u001b[0;32mreturn\u001b[0m \u001b[0mhashlib\u001b[0m\u001b[0;34m.\u001b[0m\u001b[0mnew\u001b[0m\u001b[0;34m(\u001b[0m\u001b[0;34m'ripemd160'\u001b[0m\u001b[0;34m,\u001b[0m \u001b[0mhashlib\u001b[0m\u001b[0;34m.\u001b[0m\u001b[0msha256\u001b[0m\u001b[0;34m(\u001b[0m\u001b[0ms\u001b[0m\u001b[0;34m)\u001b[0m\u001b[0;34m.\u001b[0m\u001b[0mdigest\u001b[0m\u001b[0;34m(\u001b[0m\u001b[0;34m)\u001b[0m\u001b[0;34m)\u001b[0m\u001b[0;34m.\u001b[0m\u001b[0mdigest\u001b[0m\u001b[0;34m(\u001b[0m\u001b[0;34m)\u001b[0m\u001b[0;34m\u001b[0m\u001b[0;34m\u001b[0m\u001b[0m\n\u001b[0m\u001b[1;32m     23\u001b[0m \u001b[0;34m\u001b[0m\u001b[0m\n\u001b[1;32m     24\u001b[0m \u001b[0;34m\u001b[0m\u001b[0m\n",
      "\u001b[0;31mTypeError\u001b[0m: object supporting the buffer API required"
     ]
    }
   ],
   "source": [
    "reload(tx)\n",
    "tx_outs =[]\n",
    "tx_ins =[]\n",
    "\n",
    "amountTx= int(0.01 * 100000000)# we'll fix this later after calculating the fee\n",
    "\n",
    "#It will send back all the money to our address_1 minus the fee\n",
    "output = TxOut(amountTx,  p2pkh_script(decode_base58(my_address_1)))\n",
    "print(output)\n",
    "tx_outs.append(output)\n",
    "\n",
    "\n",
    "prev1_tx_id = \"7dc40bfc367d0188df26e0a7ab801284a215f9d3c67975433c821ca3d7927811\"\n",
    "prev_tx1 = TxFetcher.fetch(prev1_tx_id, testnet=True)\n",
    "print(prev_tx1)\n",
    "\n",
    "def get_index(outs_list):\n",
    "    for index,out in enumerate(outs_list):\n",
    "        if out.script_pubkey.cmds[2] == decode_base58(my_address_1):\n",
    "            return index\n",
    "    return \"output index not found\"\n",
    "    \n",
    "prev1_index= get_index(prev_tx1.tx_outs)\n",
    "#prev1_index=0\n",
    "print(f\"index 1: {prev1_index}\")\n",
    "\n",
    "tx_in1 = TxIn(bytes.fromhex(prev1_tx_id),prev1_index)\n",
    "print(tx_in1)\n",
    "tx_ins.append(tx_in1)\n",
    "\n",
    "my_multisig_tx = Tx(1, tx_ins, tx_outs, 0, testnet=True)\n",
    "print(my_multisig_tx)\n",
    "\n",
    "\n",
    "\n",
    "# sign the inputs in the transaction object using the private key\n",
    "for tx_input in range(len(tx_ins)):\n",
    "    print(my_multisig_tx.sign_input_multisig(tx_input, [privkey_1, privkey_2], redeem_script))#redeem_script from earlier\n",
    "# print the transaction's serialization in hex\n",
    "\n",
    "#Let's calculate the fee and the change:\n",
    "tx_size = len(my_multisig_tx.serialize().hex())\n",
    "fee_per_byte = 5 # I changed from 2 to 5 after sending this transaction because it had really low appeal to miners.\n",
    "fee = tx_size * fee_per_byte \n",
    "print(f\"fee: {fee}\")\n",
    "\n",
    "amountTx = prev_tx1.tx_outs[prev1_index].amount - fee \n",
    "print(f\"amountTx : {amountTx}\")\n",
    "#Let's make sure that we are actually spending the exact amount of the UTXO\n",
    "total_send=fee+amountTx\n",
    "diff = prev_tx1.tx_outs[prev1_index].amount-total_send\n",
    "print(f\"total {total_send}, diff: {diff}\")\n",
    "\n",
    "\n",
    "#Let's modify the amount in the change_output:\n",
    "tx_outs[-1].amount = amountTx\n",
    "\n",
    "#we sign again because the hash changed\n",
    "for tx_input in range(len(tx_ins)):\n",
    "    print(my_multisig_tx.sign_input(tx_input, privkey_1))\n",
    "\n",
    "print(my_multisig_tx.serialize().hex())\n",
    "\n",
    "#for tx_input in range(len(tx_ins)):\n",
    " #   print(my_tx.verify_input(tx_input))\n",
    "\n",
    "\n"
   ]
  },
  {
   "cell_type": "code",
   "execution_count": null,
   "metadata": {},
   "outputs": [],
   "source": []
  }
 ],
 "metadata": {
  "kernelspec": {
   "display_name": "Python 3",
   "language": "python",
   "name": "python3"
  },
  "language_info": {
   "codemirror_mode": {
    "name": "ipython",
    "version": 3
   },
   "file_extension": ".py",
   "mimetype": "text/x-python",
   "name": "python",
   "nbconvert_exporter": "python",
   "pygments_lexer": "ipython3",
   "version": "3.7.4"
  }
 },
 "nbformat": 4,
 "nbformat_minor": 4
}
