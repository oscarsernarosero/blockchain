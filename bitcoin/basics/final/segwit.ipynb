{
 "cells": [
  {
   "cell_type": "code",
   "execution_count": 31,
   "metadata": {},
   "outputs": [],
   "source": [
    "\"\"\"\n",
    "This code makes use of the code written by Jimmy Song in the book Programming Bitcoin.\n",
    "This code only tries to build on Jimmi Song's code and take it to the next step as \n",
    "suggested by him in chapter 14 of his book.\n",
    "This module is coded entirely by Oscar Serna.\n",
    "\n",
    "This is just an educational-purpose code. The author does not take any responsibility\n",
    "on any losses caused by the use of this code.\n",
    "\"\"\"\n",
    "\n",
    "from ecc import PrivateKey, S256Point, Signature\n",
    "from script import p2pkh_script, p2sh_script, Script, p2wpkh_script,p2wsh_script\n",
    "from helper import (\n",
    "    decode_base58, SIGHASH_ALL, h160_to_p2pkh_address, hash160, \n",
    "    h160_to_p2sh_address, encode_varint)\n",
    "from tx import TxIn, TxOut, Tx, TxFetcher\n",
    "import hashlib\n",
    "from bip32 import Xtended_privkey, Xtended_pubkey\n",
    "from bip39 import Mnemonic\n",
    "import segwit_addr\n",
    "\n",
    "class MasterAccount(Xtended_privkey):\n",
    "    \n",
    "    @classmethod\n",
    "    def generate_random(self,entropy = 128,  passphrase=\"\", testnet = False):\n",
    "        mnemonic = Mnemonic.generate_random(entropy, passphrase)\n",
    "        print(f\"Copy these words for future recovery:\\n{mnemonic.words}\")\n",
    "        return self.from_bip39_seed(int.from_bytes(mnemonic.seed,\"big\"), testnet = testnet)\n",
    "        \n",
    "    @classmethod\n",
    "    def recover_from_words(self,mnemonic_list = None, entropy = 128,  passphrase=\"\", testnet = False):\n",
    "        if isinstance(mnemonic_list,str):\n",
    "            mnemonic_list = mnemonic_list.split()\n",
    "        mnemonic = Mnemonic.recover_from_words(mnemonic_list, entropy ,  passphrase)\n",
    "        return self.from_bip39_seed(int.from_bytes(mnemonic.seed,\"big\"), testnet = testnet)\n",
    "    \n",
    "        \n",
    "\n",
    "class Account():\n",
    "    \n",
    "    \"\"\"\n",
    "    To create account use from_phrase() method.\n",
    "    \"\"\"\n",
    "    \n",
    "    def __init__(self, _privkey,addr_type = \"P2PKH\",testnet=False):\n",
    "        \"\"\"\n",
    "        Initialize the account with a private key in Integer form.\n",
    "        addr_type = String. Possible values: \"P2PKH\",\"P2WPKH\",\"P2SH_P2WPKH\"\n",
    "        testnet: Boolean. If Testnet network is desired, simply specify this value True.\n",
    "        Otherwise, simply ommit it.\n",
    "        \n",
    "        \"\"\"\n",
    "        self.privkey = PrivateKey(_privkey)\n",
    "        self.addr_type = addr_type.lower()\n",
    "        self.testnet = testnet\n",
    "        self.redeem_script_segwit = p2wpkh_script(self.privkey.point.hash160())\n",
    "        serialized_redeem = self.redeem_script_segwit.raw_serialize()\n",
    "        \n",
    "        if self.addr_type == \"p2pkh\":\n",
    "            self.address = self.privkey.point.address(testnet = testnet)\n",
    "        elif self.addr_type == \"p2wpkh\":\n",
    "            if self.testnet:\n",
    "                self.address = segwit_addr.encode(\"tb\",0,self.privkey.point.hash160())\n",
    "            else:\n",
    "                self.address = segwit_addr.encode(\"bc\",0,self.privkey.point.hash160())\n",
    "        elif self.addr_type == \"p2sh_p2wpkh\":\n",
    "            self.address = h160_to_p2sh_address(hash160(serialized_redeem), testnet=testnet)\n",
    "        else:\n",
    "            raise Exception(\"Addres type not supported. Must be p2pkh, p2wpkh, or p2sh_p2wpkh\")\n",
    "        \n",
    "        \n",
    "        \n",
    "    def __repr__(self):\n",
    "        return f\"Private Key Hex: {self.privkey.hex()}\"\n",
    "        \n",
    "    \n",
    "    @classmethod\n",
    "    def from_phrase(cls,phrase, endian=\"big\",addr_type = \"P2PKH\",testnet=False):\n",
    "        \"\"\"\n",
    "        phrase must be in bytes.\n",
    "        endian can be either \"big\" or \"little\". Change later to boolean \"bignendian\"\n",
    "        Returns an account using the phrase chosen which is converted to an Integer\n",
    "        \"\"\"\n",
    "        if endian not in [\"big\",\"little\"]:\n",
    "            raise Exception( f'endian can be either \"big\" or \"little\" not \"{endian}\"')\n",
    "            \n",
    "        if isinstance(phrase, str):\n",
    "            phrase = phrase.encode('utf-8')\n",
    "            \n",
    "        if isinstance(phrase, bytes):\n",
    "            return cls(int.from_bytes(phrase,endian),addr_type,testnet)\n",
    "        \n",
    "        else:\n",
    "            raise Exception( f\"The phrase must be a string or bytes, not {type(phrase)}\" )\n",
    "\n",
    "\n",
    "class MultSigAccount():\n",
    "    \n",
    "    def __init__(self,m, n, _privkey, public_key_list, addr_type=\"p2sh\", testnet = False, segwit=True):\n",
    "        \"\"\"\n",
    "        Initialize the account with a private key in Integer form.\n",
    "        m: the minumin amount of signatures required to spend the money.\n",
    "        n: total amount of signatures that can be used to sign transactions.\n",
    "        Note: Therefore:\n",
    "        a- m has to be less or equal to n.\n",
    "        b- n has to be equal to the length of the array _privkeys\n",
    "        Also:\n",
    "        c- n could be 20 or less, but to keep simplicity in the code, n can only be 16 or less.\n",
    "        private_key must be an int.\n",
    "        addr_type = String. Possible values: \"P2SH\",\"P2WSH\",\"P2SH_P2WSH\". NOT case sensitive.\n",
    "        Public keys must be in bytes\n",
    "        \"\"\"\n",
    "        if n != len(public_key_list):\n",
    "            raise Exception(\"n must be equal to the amount of public keys\")\n",
    "        if m < 1 or m > 16 or n < 1 or n > 16:\n",
    "            raise Exception(\"m and n must be between 1 and 16\")\n",
    "        if m > n:\n",
    "            raise Exception(\"m must be always less or equal than n\")\n",
    "            \n",
    "        index = -1\n",
    "        pubkey = PrivateKey(_privkey).point.sec()\n",
    "        for i,public_key in enumerate(public_key_list):\n",
    "            if public_key == pubkey:\n",
    "                index = i\n",
    "        if index < 0: raise Exception (\"Private key must correspond to one of the public keys.\")\n",
    "    \n",
    "        \n",
    "        self.privkey = PrivateKey(_privkey)\n",
    "        self.public_keys = public_key_list\n",
    "        self.m = m\n",
    "        self.n = n\n",
    "        self.testnet = testnet\n",
    "        self.address = h160_to_p2sh_address(hash160(serialized_redeem), testnet=self.testnet)\n",
    "        self.addr_type = addr_type.lower()\n",
    "        self.privkey_index = index\n",
    "        self.redeem_script = Script([m+80, *self.public_keys, n + 80, 174])\n",
    "        serialized_redeem = self.redeem_script.raw_serialize()\n",
    "      \n",
    "        if self.addr_type == \"p2sh\":\n",
    "            self.address = h160_to_p2sh_address(hash160(serialized_redeem), testnet=self.testnet)\n",
    "        elif self.addr_type == \"p2wsh\":\n",
    "            if self.testnet:\n",
    "                self.address = segwit_addr.encode(\"tb\",0,hashlib.sha256(serialized_redeem).digest())\n",
    "            else:\n",
    "                self.address = segwit_addr.encode(\"bc\",0,hashlib.sha256(serialized_redeem).digest())\n",
    "        elif self.addr_type == \"p2sh_p2wsh\":\n",
    "            address_script = p2wsh_script(hashlib.sha256(serialized_redeem).digest())\n",
    "            serialized_addr_script = address_script.raw_serialize()\n",
    "            self.address = h160_to_p2sh_address(hash160(serialized_addr_script), testnet=testnet)\n",
    "        else:\n",
    "            raise Exception(\"Addres type not supported. Must be p2sh, p2wsh, or p2sh_p2wsh\")\n",
    "        \n",
    "        \n",
    "    def __repr__(self):\n",
    "        return f\"Private Key Hex: {self.privkey.hex()}\"\n",
    "        \n",
    "    \n",
    "    @classmethod\n",
    "    def from_phrases(cls, m , n , phrases, testnet = False):\n",
    "        \"\"\"\n",
    "        phrase: must be a list of tuples of (bytes, endian) or (string, endian). i.e:\n",
    "            [(b\"my secret\",\"little\"),(\"my other secret\",\"big\")]\n",
    "            \n",
    "        endian: can be either \"big\" or \"little\"\n",
    "        Returns a multisignature account using the phrases chosen which are converted to Integers\n",
    "        \"\"\"\n",
    "        keys = [int.from_bytes(key[0],key[1]) for key in phrases]\n",
    "        return cls(m,n,keys,testnet)\n",
    "       \n",
    " "
   ]
  },
  {
   "cell_type": "code",
   "execution_count": 2,
   "metadata": {},
   "outputs": [],
   "source": [
    "       \n",
    "class Transact:\n",
    "    \n",
    "    @classmethod\n",
    "    def get_index(self,outs_list, address):    \n",
    "        \"\"\"\n",
    "        For later: implement looking for multiple indexes in the same tx.\n",
    "        \"\"\"\n",
    "       \n",
    "        print(f\"Address: {address}\")\n",
    "        if address[:2] in [\"tb\",\"bc\"]:\n",
    "            address = self.decode_p2wpkh_addr(address)\n",
    "            for index,out in enumerate(outs_list):\n",
    "                if out.script_pubkey.cmds[1] == address or out.script_pubkey.cmds[0] == address:\n",
    "                    return index\n",
    "        else:\n",
    "            address = decode_base58(address)\n",
    "            for index,out in enumerate(outs_list):\n",
    "                if out.script_pubkey.cmds[2] == address or out.script_pubkey.cmds[1] == address:\n",
    "                    return index\n",
    "        \n",
    "        \n",
    "        raise Exception( \"output index not found\")\n",
    "\n",
    "    @classmethod\n",
    "    def get_amount_utxo(cls,outs_list, index):\n",
    "        \"\"\"\n",
    "        Supporting method.\n",
    "        receives the list of outputs from transaction and the index of \n",
    "        particular output of interest and returns the amount of the UTXO.\n",
    "        outs_list: is the list of outputs of previous transaction where the UTXO is.\n",
    "        index: the index of the UTXO in the list of all the outputs.\n",
    "        \"\"\"\n",
    "        return outs_list[index].amount\n",
    "\n",
    "    @classmethod\n",
    "    def get_tx_ins_utxo(self,prev_tx_id_list, receiving_address, testnet=True):\n",
    "        \"\"\"\n",
    "        Receives a list of transaction ids where the UTXOs to spend are, and \n",
    "        also the receiving address to return a valid tx_in list to create\n",
    "        a transaction.\n",
    "        prev_tx_id_list: list of the transaction ids where the UTXOs are.\n",
    "        receiving_address: the address trying to spend the UTXO (String).\n",
    "        testnet: if the transaction is in testnet or not (boolean).\n",
    "        \"\"\"\n",
    "        tx_ins = []\n",
    "\n",
    "        for prev_tx_id in prev_tx_id_list:\n",
    "            prev_tx = TxFetcher.fetch(prev_tx_id, testnet)\n",
    "            prev_index = self.get_index(prev_tx.tx_outs, receiving_address)\n",
    "            tx_in = TxIn(bytes.fromhex(prev_tx_id),prev_index)\n",
    "            utxo = self.get_amount_utxo(prev_tx.tx_outs, prev_index)\n",
    "            #print(f\"index 1: {prev_index}, amount: {utxo}\")\n",
    "            tx_ins.append({\"tx_in\": tx_in, \"utxo\": utxo})\n",
    "\n",
    "        return tx_ins\n",
    "\n",
    "    @classmethod\n",
    "    def calculate_fee(cls,version, tx_ins, tx_outs, locktime, privkey, redeem_script, \n",
    "                      testnet=True, multisig =False, fee_per_byte = 8, segwit = False ):\n",
    "        \"\"\"\n",
    "        privkey: can be just one or a list of private keys in the case of multisignature.\n",
    "        \"\"\"\n",
    "        my_tx = Tx(1, tx_ins, tx_outs, 0, testnet=True)\n",
    "        print(my_tx)\n",
    "\n",
    "        # sign the inputs in the transaction object using the private key\n",
    "        if multisig:\n",
    "            #for tx_input in range(len(tx_ins)):\n",
    "             #   print(my_tx.sign_input_multisig(tx_input, privkey, redeem_script))\n",
    "                pass\n",
    "        else:\n",
    "            for tx_input in range(len(tx_ins)):\n",
    "                print(my_tx.sign_input(tx_input, privkey, segwit = segwit))\n",
    "            # print the transaction's serialization in hex\n",
    "\n",
    "        #Let's calculate the fee and the change:\n",
    "        tx_size = len(my_tx.serialize().hex())\n",
    "        #fee_per_byte = 8 # I changed from 2 to 10 after sending this transaction because it had really low appeal to miners.\n",
    "        if multisig: tx_size*=2\n",
    "        fee = tx_size * fee_per_byte\n",
    "        print(f\"fee: {fee}\")\n",
    "        return fee\n",
    "    \n",
    "    @classmethod\n",
    "    def calculate_change(cls, utxo_list, fee, amountTx):\n",
    "        \"\"\"\n",
    "        utxo_list: the list of the amounts of every utxo.\n",
    "        amountTx: the list of the ammounts of every transaction output.\n",
    "        fee: the fee of the transaction.\n",
    "        Returns the respective amount of the change.\n",
    "        \"\"\"\n",
    "        total_utxo = sum(utxo_list)\n",
    "        total_out = sum(amountTx)\n",
    "        change = total_utxo - fee - total_out\n",
    "        print(f\"change {change}\")\n",
    "        if change < 0:\n",
    "            raise Exception( f\"Not enough utxos: total_utxo {total_utxo} and total_out {total_out} meaning change = {change}\")\n",
    "        #Let's make sure that we are actually spending the exact amount of the UTXO\n",
    "        total_send=fee+total_out+change\n",
    "        diff = total_utxo-total_send\n",
    "        print(f\"total {total_send}, diff: {diff}\")\n",
    "\n",
    "        return change\n",
    "    \n",
    "    @classmethod\n",
    "    def decode_p2wpkh_addr(self,address):\n",
    "        decoded = segwit_addr.bech32_decode(address)\n",
    "        str_pubkeyhash = \"\"\n",
    "        for char in decoded[1][1:]:\n",
    "            str_pubkeyhash += \"{0:05b}\".format(char)\n",
    "        return int(str_pubkeyhash,2).to_bytes(20,\"big\")\n",
    "    \n",
    "   "
   ]
  },
  {
   "cell_type": "code",
   "execution_count": 3,
   "metadata": {},
   "outputs": [],
   "source": [
    "class Transaction(Transact):\n",
    "      \n",
    "    def __init__(self,transaction,sender_account,tx_ins,utxos ,tx_outs, fee, change, testnet, segwit):\n",
    "        \"\"\"\n",
    "        utxo_tx_id_list: the list of the transaction ids where the UTXOs are.\n",
    "        receivingAddress_w_amount_list: a list of tuples (to_address,amount) specifying\n",
    "        the amount to send to each address.\n",
    "        sender_account: must be an Account object.\n",
    "        If fee is specifyed, then the custom fee will be applied.\n",
    "        \"\"\"\n",
    "        self.transaction = transaction\n",
    "        self.sender_account = sender_account\n",
    "        self.tx_ins = tx_ins\n",
    "        self.utxos = utxos\n",
    "        self.fee = fee\n",
    "        self.segwit = segwit\n",
    "        self.tx_outs = tx_outs\n",
    "        self.testnet = testnet\n",
    "        self.change = change\n",
    "        \n",
    "    @classmethod\n",
    "    def validate_data(self,sender_account_address,outputAddress_amount_list ):\n",
    "        if sender_account_address[0] in \"2mnt\":\n",
    "            testnet = True\n",
    "            for addr in outputAddress_amount_list:\n",
    "                if addr[0][0] not in \"2mnt\":\n",
    "                    raise Exception (f\"{addr[0]} not a testnet address. Funds will be lost!\")\n",
    "                if addr[1] < 1:\n",
    "                    raise Exception (f\"{addr[1]} not a valid amount. It should be greater than 1 satoshis\")\n",
    "        else:\n",
    "            testnet  = False\n",
    "            for addr in outputAddress_amount_list:\n",
    "                if addr[0][0] not in \"13b\":\n",
    "                    raise Exception (f\"{addr[0]} not a mainnet bitcoin address. Funds will be lost!\")\n",
    "                if addr[1] < 1:\n",
    "                    raise Exception (f\"{addr[1]} not a valid amount. It should be greater than 1 satoshis\")\n",
    "              \n",
    "        return testnet\n",
    "    \n",
    "    @classmethod\n",
    "    def get_outputs(self, receivingAddress_w_amount_list, account):\n",
    "        \n",
    "        #https://en.bitcoin.it/wiki/List_of_address_prefixes\n",
    "        #We create the tx outputs based on the kind of address\n",
    "        tx_outs = []\n",
    "        for output in receivingAddress_w_amount_list:\n",
    "            \n",
    "            if output[0][0] in \"1mn\" :\n",
    "                tx_outs.append( TxOut(output[1], p2pkh_script(decode_base58(output[0]))))\n",
    "            #For multidignature p2sh\n",
    "            elif output[0][0] in \"23\" :\n",
    "                tx_outs.append( TxOut(output[1], p2sh_script(decode_base58(output[0]))))\n",
    "            elif output[0][:2] in [\"bc\",\"tb\"] :\n",
    "                tx_outs.append( TxOut(output[1], p2wpkh_script(self.decode_p2wpkh_addr(output[0]))))#Needs to be tested\n",
    "            else:\n",
    "                raise Exception (\"Not supported address.\")\n",
    "        \n",
    "        #Let's return the fake change to our same address. \n",
    "        #This will change later when BIP32 is implemented.\n",
    "        if account.addr_type == \"p2pkh\":\n",
    "            tx_outs.append( TxOut(1000000, p2pkh_script(decode_base58(account.address))))\n",
    "        elif account.addr_type == \"p2wpkh\":\n",
    "            tx_outs.append( TxOut(1000000, p2wpkh_script(self.decode_p2wpkh_addr(account.address))))\n",
    "        elif account.addr_type in  [\"p2sh\",\"p2sh_p2wpkh\"]:\n",
    "            tx_outs.append( TxOut(1000000, p2sh_script(decode_base58(account.address))))\n",
    "        \n",
    "        return tx_outs\n",
    "                \n",
    "    @classmethod\n",
    "    def get_inputs(self,utxo_tx_id_list, sender_address, testnet):\n",
    "        return self.get_tx_ins_utxo(utxo_tx_id_list, sender_address, testnet)\n",
    "         \n",
    "    \n",
    "    @classmethod\n",
    "    def unsigned_tx(self,tx_ins, tx_outs, testnet, segwit, sender_account, utxos,receivingAddress_w_amount_list):\n",
    "        #CREATING THE TRANSACTION RIGHT HERE:\n",
    "        my_tx = Tx(1, tx_ins, tx_outs, 0, testnet=testnet, segwit=segwit)#check for segwit later!!!!\n",
    "        \n",
    "        #CHECK THE FOLLOWING LINE LATER!! \n",
    "        if sender_account.addr_type not in  [\"p2sh\",\"p2wsh\",\"p2sh_p2wsh\"]:\n",
    "            fee = self.calculate_fee(1, tx_ins, tx_outs, 0, privkey=sender_account.privkey, \n",
    "                                         redeem_script=None, testnet=testnet, segwit = segwit)\n",
    "            \n",
    "            change = self.calculate_change(utxos, fee, [x[1] for x in receivingAddress_w_amount_list])\n",
    "\n",
    "        else: raise Exception (\"This is a multisignature transaction. Use MultiSigTransaction instead of Transaction.\")\n",
    "        \n",
    "        my_tx.tx_outs[-1].amount = change\n",
    "        return fee, change, my_tx\n",
    "        \n",
    "        \n",
    "    @classmethod\n",
    "    def sign_tx(self, tx_ins, transaction, sender_account, segwit):\n",
    "        p2sh = False\n",
    "        if sender_account.addr_type in [\"p2sh\",\"p2sh_p2wpkh\"]: p2sh = True\n",
    "        for tx_input in range(len(tx_ins)):\n",
    "            if not transaction.sign_input(tx_input, sender_account.privkey, segwit = segwit, p2sh = p2sh):\n",
    "                return False\n",
    "        return True\n",
    "    \n",
    "    @classmethod\n",
    "    def create(self, utxo_tx_id_list, receivingAddress_w_amount_list, sender_account, fee=None, #Modify code to allow manual fee!!!\n",
    "                 segwit=False):\n",
    "        \"\"\"\n",
    "        utxo_tx_id_list: the list of the transaction ids where the UTXOs are.\n",
    "        receivingAddress_w_amount_list: a list of tuples (to_address,amount) specifying\n",
    "        the amount to send to each address.\n",
    "        sender_account: must be an Account object.\n",
    "        If fee is specifyed, then the custom fee will be applied.\n",
    "        \"\"\"\n",
    "        testnet = self.validate_data(sender_account.address,receivingAddress_w_amount_list)\n",
    "        tx_outs = self.get_outputs(receivingAddress_w_amount_list, sender_account)\n",
    "        tx_ins_utxo = self.get_inputs(utxo_tx_id_list, sender_account.address, testnet)\n",
    "        tx_ins = [x[\"tx_in\"] for x in tx_ins_utxo]\n",
    "        utxos = [x[\"utxo\"] for x in tx_ins_utxo]\n",
    "        fee, change, transaction = self.unsigned_tx(tx_ins, tx_outs, testnet, segwit, sender_account, utxos,receivingAddress_w_amount_list)\n",
    "        if self.sign_tx( tx_ins, transaction, sender_account, segwit):\n",
    "            return Transaction(transaction, sender_account, tx_ins,utxos ,tx_outs, fee, change, testnet, segwit)\n",
    "        else:\n",
    "            raise Exception(\"Signature faliled\") \n",
    "            "
   ]
  },
  {
   "cell_type": "code",
   "execution_count": 4,
   "metadata": {},
   "outputs": [],
   "source": [
    "class MultiSigTransaction(Transaction):\n",
    "    \n",
    "    @classmethod\n",
    "    def unsigned_tx(self,tx_ins, tx_outs, testnet, segwit, sender_account, utxos,receivingAddress_w_amount_list):\n",
    "        \n",
    "        my_tx = Tx(1, tx_ins, tx_outs, 0, testnet=testnet, segwit=segwit)\n",
    "        \n",
    "        fee = self.calculate_fee(1, tx_ins, tx_outs, 0, privkey=sender_account.privkey,\n",
    "                                redeem_script=sender_account.redeem_script,testnet=testnet, \n",
    "                                segwit = segwit, multisig =True)\n",
    "        \n",
    "        change = self.calculate_change(utxos, fee, [x[1] for x in receivingAddress_w_amount_list])\n",
    "        \n",
    "        my_tx.tx_outs[-1].amount = change\n",
    "        return fee, change, my_tx\n",
    "\n",
    "    @classmethod\n",
    "    def sign1by1(self, transaction, sender_account):\n",
    "       \n",
    "        for tx_input in range(len(transaction.tx_ins)):\n",
    "            transaction.sign_input_multisig_1by1(tx_input, sender_account.privkey,sender_account.privkey_index,\n",
    "                                                 sender_account.redeem_script, sender_account.n)\n",
    "        return transaction\n",
    "        \n",
    "    @classmethod\n",
    "    def verify_signatures(self, transaction, sender_account):\n",
    "        if transaction.verify_signatures( sender_account.m):\n",
    "            return transaction\n",
    "        else:\n",
    "            return False\n",
    "    \n",
    "    @classmethod\n",
    "    def create(self, utxo_tx_id_list, receivingAddress_w_amount_list, sender_account, fee=None, #Modify code to allow manual fee!!!\n",
    "                 segwit=False):\n",
    "        \"\"\"\n",
    "        utxo_tx_id_list: the list of the transaction ids where the UTXOs are.\n",
    "        receivingAddress_w_amount_list: a list of tuples (to_address,amount) specifying\n",
    "        the amount to send to each address.\n",
    "        sender_account: must be an Account object.\n",
    "        If fee is specifyed, then the custom fee will be applied.\n",
    "        \"\"\"\n",
    "        testnet = self.validate_data(sender_account.address,receivingAddress_w_amount_list)\n",
    "        tx_outs = self.get_outputs(receivingAddress_w_amount_list, sender_account)\n",
    "        tx_ins_utxo = self.get_inputs(utxo_tx_id_list, sender_account.address, testnet)\n",
    "        tx_ins = [x[\"tx_in\"] for x in tx_ins_utxo]\n",
    "        utxos = [x[\"utxo\"] for x in tx_ins_utxo]\n",
    "        fee, change, transaction = self.unsigned_tx(tx_ins, tx_outs, testnet, segwit, sender_account, utxos,receivingAddress_w_amount_list)\n",
    "        transaction = self.sign1by1(transaction, sender_account)\n",
    "        final_tx =  self.verify_signatures(transaction, sender_account)\n",
    "        if isinstance(final_tx,bool):\n",
    "            return MultiSigTransaction(transaction, sender_account, tx_ins,utxos ,tx_outs, fee, change, testnet, segwit)\n",
    "        else:\n",
    "            return final_tx\n",
    "        \n",
    "    @classmethod\n",
    "    def sign_tx():\n",
    "        raise Exception (\"Unsupported for multisignature transactions. Use sign1by1() method instead.\" )\n",
    "    \n",
    "    "
   ]
  },
  {
   "cell_type": "code",
   "execution_count": 5,
   "metadata": {},
   "outputs": [
    {
     "name": "stdout",
     "output_type": "stream",
     "text": [
      "tb1q22gralqsqn0qrzpm5d58hc4gaf8kkxcer6tcld\n",
      "RAW RESPONSE: b'\\x02\\x00\\x00\\x00\\x00\\x01\\x01\\xea\\xfb\\xaf\\x95:e\\xec\\x0b\\xd1&A`P\\x98#.>m\\x93\\x8a\\xdc\\xb6<\\xdc\\xba;-y\\x84\\xca4j\\x01\\x00\\x00\\x00\\x17\\x16\\x00\\x14\\xf4\\x18\\x8c\\x05\\xf6\\x12\\x8a\\xaaaY+\\x0f\\x1fG]\\x98\\x18v2&\\xfe\\xff\\xff\\xff\\x02P\\xc3\\x00\\x00\\x00\\x00\\x00\\x00\\x16\\x00\\x14R\\x90>\\xfc\\x10\\x04\\xde\\x01\\x88;\\xa3h{\\xe2\\xa8\\xeaOk\\x1b\\x19YkE\\x00\\x00\\x00\\x00\\x00\\x16\\x00\\x14\\x06\\x06\\xaaaka\\xdb\\xc1\\x90A9~\\xdb\\xca\\x8d^\\xd2\\xf2&\\xbc\\x02G0D\\x02 \\x17`\\xc5\\xeb\\xac\\xb7*a\\xaa\\xa4\\xb7\\x8d\\x8e\\x08\\xb0\\xc4\\x1d\\r\\x13\\xf4\\xb9\\x84\\x1a*\\xb5\\xf1O\\xe0\\n\\x9f\\x86u\\x02 o\\x1d\\xe8rE\\xa2\\xe6w\\xf3\\x8bB\\xfc$kcr_\\xefpFm\\xb7\\xa6Jt\\x18\\xde\\n\\xbaw\\x9c\\xa3\\x01!\\x03\\xbc7mh\\x13\\xfa\\x98\\xd6v\\xb9\\xdc\\xd1\\x1dcB\\x9d\\x9b]\\x86\\xa7)\\xc0$\\xd2\\xbc\\xa2\\xacQ!\\x82\\x9c\\xcc\\x8e\\xd4\\x19\\x00'\n",
      "FIRST CASE: 0\n",
      "<_io.BytesIO object at 0x10558cbf0>\n",
      "length script: 23\n",
      "current_byte : 22\n",
      "<_io.BytesIO object at 0x10558cbf0>\n",
      "length script: 22\n",
      "current_byte : 0\n",
      "op_code : 0\n",
      "current_byte : 20\n",
      "<_io.BytesIO object at 0x10558cbf0>\n",
      "length script: 22\n",
      "current_byte : 0\n",
      "op_code : 0\n",
      "current_byte : 20\n",
      "6a34ca84792d3bbadc3cb6dc8a936d3e2e239850604126d10bec653a95affbea:1\n",
      "transaction IS SEGWIT\n",
      "transaction passed: 5e3676a90605efaaef3aae83be71b27f7aa4a2f2c5c39695b4e06b4cbb555a09\n",
      "Address: tb1q22gralqsqn0qrzpm5d58hc4gaf8kkxcer6tcld\n",
      "5e3676a90605efaaef3aae83be71b27f7aa4a2f2c5c39695b4e06b4cbb555a09:0\n",
      "5e3676a90605efaaef3aae83be71b27f7aa4a2f2c5c39695b4e06b4cbb555a09:0\n",
      "tx: e7cbf04b9a11e5f279127a43ccf6a7dce9b2351e233cf16dc75ec9098c4cae15\n",
      "version: 1\n",
      "tx_ins:\n",
      "5e3676a90605efaaef3aae83be71b27f7aa4a2f2c5c39695b4e06b4cbb555a09:0\n",
      "tx_outs:\n",
      "24000:OP_HASH160 f7c07f67fb6e54ea6264b1a508b24e34ec999c56 OP_EQUAL\n",
      "1000000:OP_0 52903efc1004de01883ba3687be2a8ea4f6b1b19\n",
      "locktime: 0\n",
      "\n",
      "ABOUT TO SIGN INPUT\n",
      "\n",
      "script_pubkey of tx IN: OP_0 52903efc1004de01883ba3687be2a8ea4f6b1b19\n",
      "\n",
      "combined script[0, b'R\\x90>\\xfc\\x10\\x04\\xde\\x01\\x88;\\xa3h{\\xe2\\xa8\\xeaOk\\x1b\\x19']\n",
      "\n",
      "True\n",
      "fee: 1824\n",
      "change 24176\n",
      "total 50000, diff: 0\n",
      "\n",
      "ABOUT TO SIGN INPUT\n",
      "\n",
      "script_pubkey of tx IN: OP_0 52903efc1004de01883ba3687be2a8ea4f6b1b19\n",
      "\n",
      "combined script[0, b'R\\x90>\\xfc\\x10\\x04\\xde\\x01\\x88;\\xa3h{\\xe2\\xa8\\xeaOk\\x1b\\x19']\n",
      "\n"
     ]
    }
   ],
   "source": [
    "account1 = Account.from_phrase(b\"Oscar Eduardo Serna Rosero\",\"big\",\"p2pkh\",True)\n",
    "\n",
    "accountP2wPKH = Account.from_phrase(b\"Oscar Eduardo Serna Rosero\",\"big\",\"p2wpkh\",True)\n",
    "\n",
    "segwitAccount = Account.from_phrase(b\"Oscar Eduardo Serna Rosero\",\"big\",\"p2sh_p2wpkh\",True)\n",
    "\n",
    "print(accountP2wPKH.address)\n",
    "\n",
    "prev_tx_id_list = [\"5e3676a90605efaaef3aae83be71b27f7aa4a2f2c5c39695b4e06b4cbb555a09\"]\n",
    "my_tx = Transaction.create(prev_tx_id_list, [(segwitAccount.address, 24000)], accountP2wPKH, segwit = True)\n",
    "#my_tx.create()"
   ]
  },
  {
   "cell_type": "code",
   "execution_count": 6,
   "metadata": {},
   "outputs": [
    {
     "data": {
      "text/plain": [
       "'01000000000101095a55bb4c6be0b49596c3c5f2a2a47a7fb271be83ae3aefaaef0506a976365e0000000000ffffffff02c05d00000000000017a914f7c07f67fb6e54ea6264b1a508b24e34ec999c5687705e00000000000016001452903efc1004de01883ba3687be2a8ea4f6b1b1902473044022005b8d205f23f3a6fd2cc57be5495b0aa13c591a8903eb0a541a484d4efaeb0ac0220367b1384bd2d88e4fb4ffad55e68b0f8a144b7fafcf1347abc669d5e8804edfa012103e07f96e5ba598431c0c994493a4ae988c9854c171d5d4bb140db0a27a4c853e400000000'"
      ]
     },
     "execution_count": 6,
     "metadata": {},
     "output_type": "execute_result"
    }
   ],
   "source": [
    "my_tx.transaction.serialize().hex()"
   ]
  },
  {
   "cell_type": "code",
   "execution_count": 7,
   "metadata": {},
   "outputs": [
    {
     "data": {
      "text/plain": [
       "Private Key Hex: 0000000000004f73636172204564756172646f205365726e6120526f7365726f"
      ]
     },
     "execution_count": 7,
     "metadata": {},
     "output_type": "execute_result"
    }
   ],
   "source": [
    "my_tx.sender_account"
   ]
  },
  {
   "cell_type": "code",
   "execution_count": 8,
   "metadata": {},
   "outputs": [],
   "source": [
    "private_key = int.from_bytes(b\"Oscar Eduardo Serna Rosero\",\"big\")\n",
    "public_keys = [ PrivateKey(private_key).point.sec() , PrivateKey(int.from_bytes(b\"Oscar Eduardo Serna Rosero\",\"little\")).point.sec()]\n",
    "multisig_acc = MultSigAccount(2,2,private_key, public_keys,\"p2sh\",True)"
   ]
  },
  {
   "cell_type": "code",
   "execution_count": 9,
   "metadata": {},
   "outputs": [],
   "source": [
    "private_key = int.from_bytes(b\"Oscar Eduardo Serna Rosero\",\"little\")\n",
    "public_keys = [PrivateKey(int.from_bytes(b\"Oscar Eduardo Serna Rosero\",\"big\")).point.sec(), PrivateKey(private_key).point.sec() ]\n",
    "multisig_acc2 = MultSigAccount(2,2,private_key, public_keys,\"p2sh\",True)"
   ]
  },
  {
   "cell_type": "code",
   "execution_count": 10,
   "metadata": {},
   "outputs": [
    {
     "data": {
      "text/plain": [
       "0"
      ]
     },
     "execution_count": 10,
     "metadata": {},
     "output_type": "execute_result"
    }
   ],
   "source": [
    "multisig_acc.privkey_index"
   ]
  },
  {
   "cell_type": "code",
   "execution_count": 11,
   "metadata": {},
   "outputs": [
    {
     "data": {
      "text/plain": [
       "1"
      ]
     },
     "execution_count": 11,
     "metadata": {},
     "output_type": "execute_result"
    }
   ],
   "source": [
    "multisig_acc2.privkey_index"
   ]
  },
  {
   "cell_type": "code",
   "execution_count": 12,
   "metadata": {},
   "outputs": [
    {
     "data": {
      "text/plain": [
       "'2NAqp3V17G4iBekEwWuYkgzoEyWiULhYZLs'"
      ]
     },
     "execution_count": 12,
     "metadata": {},
     "output_type": "execute_result"
    }
   ],
   "source": [
    "multisig_acc2.address"
   ]
  },
  {
   "cell_type": "code",
   "execution_count": 13,
   "metadata": {},
   "outputs": [
    {
     "data": {
      "text/plain": [
       "'2NAqp3V17G4iBekEwWuYkgzoEyWiULhYZLs'"
      ]
     },
     "execution_count": 13,
     "metadata": {},
     "output_type": "execute_result"
    }
   ],
   "source": [
    "multisig_acc.address"
   ]
  },
  {
   "cell_type": "code",
   "execution_count": 14,
   "metadata": {},
   "outputs": [
    {
     "data": {
      "text/plain": [
       "'mo3WWB4PoSHrudEBik1nUqfn1uZEPNYEc8'"
      ]
     },
     "execution_count": 14,
     "metadata": {},
     "output_type": "execute_result"
    }
   ],
   "source": [
    "account1.address"
   ]
  },
  {
   "cell_type": "code",
   "execution_count": 15,
   "metadata": {},
   "outputs": [
    {
     "name": "stdout",
     "output_type": "stream",
     "text": [
      "RAW RESPONSE: b\"\\x01\\x00\\x00\\x00\\x01\\xea\\xa1\\xef\\x94\\xafx\\x90FE\\xf7\\xd5\\x96\\xe1\\x16a\\xac*V\\x1a\\xc5\\xc7\\x99\\x9bzz#\\x97\\xe4*<\\xc1\\xf3\\x00\\x00\\x00\\x00\\xda\\x00H0E\\x02!\\x00\\xb4r\\xf9\\x87\\xa5\\x811\\x0bNkK\\xbd\\xff\\xe5\\x9cZ\\x9adBV\\xfe\\xbf@.j\\xea%\\xc6\\x8f|\\xc2W\\x02 ~\\xfc\\xde\\xbb=;e\\xe0`d%\\x12B\\x83&Z\\xdf\\xc3Y\\xef\\x90\\xf9\\xd2{5\\x87\\xd0\\xc1\\x80\\x16Mr\\x01G0D\\x02 L\\x85\\x8b!\\xf2\\x01c\\xd9&pR\\xfa\\xd5\\x89\\xe4\\x08,\\x98\\n:~\\xf0+\\xbe\\xe9b\\x16@9\\xcdE\\xa7\\x02 \\x19\\x04o\\neJ\\x16\\xa0\\xabJYX\\xb9\\xfd\\xd8T@~\\x08\\xfa\\x87>\\x16\\xaf\\xda\\x06\\xf4bJ\\x94\\xd8\\xf6\\x01GR!\\x03\\xe0\\x7f\\x96\\xe5\\xbaY\\x841\\xc0\\xc9\\x94I:J\\xe9\\x88\\xc9\\x85L\\x17\\x1d]K\\xb1@\\xdb\\n'\\xa4\\xc8S\\xe4!\\x03\\x1bc\\xf9d\\xd8\\xc6]\\x1d\\x116\\xdc\\xfeP3\\xde\\xde\\xa8\\x8c-A\\x194\\xeaH\\xc9p\\x84\\x10\\xbe\\x84\\xe5\\xeeR\\xae\\xff\\xff\\xff\\xff\\x02 \\xa1\\x07\\x00\\x00\\x00\\x00\\x00\\x17\\xa9\\x14\\xf7\\xc0\\x7fg\\xfbnT\\xeabd\\xb1\\xa5\\x08\\xb2N4\\xec\\x99\\x9cV\\x87@\\x8c\\x07\\x00\\x00\\x00\\x00\\x00\\x17\\xa9\\x14\\xc1\\x04\\xb5v\\xf5Cc\\tXz\\xef\\xa3\\xdd\\xdd\\xd5\\xc2\\x95\\xb9\\x04\\x80\\x87\\x00\\x00\\x00\\x00\"\n",
      "SECOND CASE: 1\n",
      "<_io.BytesIO object at 0x10558ca10>\n",
      "length script: 218\n",
      "current_byte : 0\n",
      "op_code : 0\n",
      "current_byte : 72\n",
      "current_byte : 71\n",
      "current_byte : 71\n",
      "<_io.BytesIO object at 0x10558ca10>\n",
      "length script: 23\n",
      "current_byte : 169\n",
      "op_code : 169\n",
      "current_byte : 20\n",
      "current_byte : 135\n",
      "op_code : 135\n",
      "<_io.BytesIO object at 0x10558ca10>\n",
      "length script: 23\n",
      "current_byte : 169\n",
      "op_code : 169\n",
      "current_byte : 20\n",
      "current_byte : 135\n",
      "op_code : 135\n",
      "f3c13c2ae497237a7a9b99c7c51a562aac6116e196d5f745469078af94efa1ea:0\n",
      "transaction passed: 032c28ea3b77768577c54847e155d482e47dfa7a835b2394e5a3c4427f5d2fcc\n",
      "Address: 2NAqp3V17G4iBekEwWuYkgzoEyWiULhYZLs\n",
      "032c28ea3b77768577c54847e155d482e47dfa7a835b2394e5a3c4427f5d2fcc:1\n",
      "032c28ea3b77768577c54847e155d482e47dfa7a835b2394e5a3c4427f5d2fcc:1\n",
      "tx: 48043496d108eb82754fb0078ad105b6765674c79ddc009a98ccdf261ba46822\n",
      "version: 1\n",
      "tx_ins:\n",
      "032c28ea3b77768577c54847e155d482e47dfa7a835b2394e5a3c4427f5d2fcc:1\n",
      "tx_outs:\n",
      "200000:OP_DUP OP_HASH160 52903efc1004de01883ba3687be2a8ea4f6b1b19 OP_EQUALVERIFY OP_CHECKSIG\n",
      "1000000:OP_HASH160 c104b576f5436309587aefa3ddddd5c295b90480 OP_EQUAL\n",
      "locktime: 0\n",
      "fee: 3744\n",
      "change 290912\n",
      "total 494656, diff: 0\n",
      "redeem_script present\n",
      "script: OP_2 03e07f96e5ba598431c0c994493a4ae988c9854c171d5d4bb140db0a27a4c853e4 031b63f964d8c65d1d1136dcfe5033dedea88c2d411934ea48c9708410be84e5ee OP_2 OP_CHECKMULTISIG\n",
      "cmds is empty. Creating new set of commands\n",
      "sign_input_multisig commands: [b'0D\\x02 3?i~\\x85\\x9d\\xac\\xf0)\\xfb\\xea\\xc4\\x13\\x0b\\xdb5\\t\\xc5\\x19\\xfe\\xb1\\xc0\\xeb\\xaa|7\\xc3!XV\\x17\\x9b\\x02 Tx[\\xc4\\xbf[\\xa6f\\x99\\x89\\xfa\\x93b\\x97og\\x91\\x98\\xd3;\\x15aN\\x1e\\xe9XL\\xda\\xcb\\x83\\x99\\xef\\x01', 0, b\"R!\\x03\\xe0\\x7f\\x96\\xe5\\xbaY\\x841\\xc0\\xc9\\x94I:J\\xe9\\x88\\xc9\\x85L\\x17\\x1d]K\\xb1@\\xdb\\n'\\xa4\\xc8S\\xe4!\\x03\\x1bc\\xf9d\\xd8\\xc6]\\x1d\\x116\\xdc\\xfeP3\\xde\\xde\\xa8\\x8c-A\\x194\\xeaH\\xc9p\\x84\\x10\\xbe\\x84\\xe5\\xeeR\\xae\"]\n",
      "There are only 1 signatures, but 2 are required.\n"
     ]
    }
   ],
   "source": [
    "prev_tx_id_list = [\"032c28ea3b77768577c54847e155d482e47dfa7a835b2394e5a3c4427f5d2fcc\"]\n",
    "my_tx = MultiSigTransaction.create(prev_tx_id_list, [(account1.address,200000)], multisig_acc, fee=None, #Modify code to allow manual fee!!!\n",
    "                 segwit=False)"
   ]
  },
  {
   "cell_type": "code",
   "execution_count": 16,
   "metadata": {},
   "outputs": [
    {
     "name": "stdout",
     "output_type": "stream",
     "text": [
      "redeem_script present\n",
      "script: OP_2 03e07f96e5ba598431c0c994493a4ae988c9854c171d5d4bb140db0a27a4c853e4 031b63f964d8c65d1d1136dcfe5033dedea88c2d411934ea48c9708410be84e5ee OP_2 OP_CHECKMULTISIG\n",
      "sign_input_multisig commands: [b'0D\\x02 3?i~\\x85\\x9d\\xac\\xf0)\\xfb\\xea\\xc4\\x13\\x0b\\xdb5\\t\\xc5\\x19\\xfe\\xb1\\xc0\\xeb\\xaa|7\\xc3!XV\\x17\\x9b\\x02 Tx[\\xc4\\xbf[\\xa6f\\x99\\x89\\xfa\\x93b\\x97og\\x91\\x98\\xd3;\\x15aN\\x1e\\xe9XL\\xda\\xcb\\x83\\x99\\xef\\x01', b'0C\\x02 g\\xd3\\xd0\\x9d*?P\\x9d\\xe7}\\xf8\\x07\\xa8\\x9c=\\x96\\x8e\\xde*@?\\x80\\x19\\xa8\\x1cQ\\xbf\\xeb\\x12y\\x9fu\\x02\\x1f8\\xad\\xef\\xfe\\xa2\\x1b\\xe5j\\xce\\xf4\\xe6cH\\xcca0\\xb8\\xcb\\xc8a#\\x99\\x03\\x07\\xf1G\\xc2\\xf4\\xdek\\xe4\\x01', b\"R!\\x03\\xe0\\x7f\\x96\\xe5\\xbaY\\x841\\xc0\\xc9\\x94I:J\\xe9\\x88\\xc9\\x85L\\x17\\x1d]K\\xb1@\\xdb\\n'\\xa4\\xc8S\\xe4!\\x03\\x1bc\\xf9d\\xd8\\xc6]\\x1d\\x116\\xdc\\xfeP3\\xde\\xde\\xa8\\x8c-A\\x194\\xeaH\\xc9p\\x84\\x10\\xbe\\x84\\xe5\\xeeR\\xae\"]\n"
     ]
    }
   ],
   "source": [
    "my_tx_signed = MultiSigTransaction.sign1by1(my_tx.transaction,multisig_acc2)"
   ]
  },
  {
   "cell_type": "code",
   "execution_count": 17,
   "metadata": {},
   "outputs": [
    {
     "name": "stdout",
     "output_type": "stream",
     "text": [
      "script_pubkey of tx IN: OP_HASH160 c104b576f5436309587aefa3ddddd5c295b90480 OP_EQUAL\n",
      "tx_in.script_sig.cmds[0]: 0\n",
      "scriptPubKey: OP_HASH160 c104b576f5436309587aefa3ddddd5c295b90480 OP_EQUAL\n",
      "commands redeemscript: b\"R!\\x03\\xe0\\x7f\\x96\\xe5\\xbaY\\x841\\xc0\\xc9\\x94I:J\\xe9\\x88\\xc9\\x85L\\x17\\x1d]K\\xb1@\\xdb\\n'\\xa4\\xc8S\\xe4!\\x03\\x1bc\\xf9d\\xd8\\xc6]\\x1d\\x116\\xdc\\xfeP3\\xde\\xde\\xa8\\x8c-A\\x194\\xeaH\\xc9p\\x84\\x10\\xbe\\x84\\xe5\\xeeR\\xae\"\n",
      "rawredeem: b\"GR!\\x03\\xe0\\x7f\\x96\\xe5\\xbaY\\x841\\xc0\\xc9\\x94I:J\\xe9\\x88\\xc9\\x85L\\x17\\x1d]K\\xb1@\\xdb\\n'\\xa4\\xc8S\\xe4!\\x03\\x1bc\\xf9d\\xd8\\xc6]\\x1d\\x116\\xdc\\xfeP3\\xde\\xde\\xa8\\x8c-A\\x194\\xeaH\\xc9p\\x84\\x10\\xbe\\x84\\xe5\\xeeR\\xae\"\n",
      "<_io.BytesIO object at 0x1055ccd70>\n",
      "length script: 71\n",
      "current_byte : 82\n",
      "op_code : 82\n",
      "current_byte : 33\n",
      "current_byte : 33\n",
      "current_byte : 82\n",
      "op_code : 82\n",
      "current_byte : 174\n",
      "op_code : 174\n",
      "redeem_script present\n",
      "script: OP_2 03e07f96e5ba598431c0c994493a4ae988c9854c171d5d4bb140db0a27a4c853e4 031b63f964d8c65d1d1136dcfe5033dedea88c2d411934ea48c9708410be84e5ee OP_2 OP_CHECKMULTISIG\n",
      "\n",
      "combined script[0, b'0D\\x02 3?i~\\x85\\x9d\\xac\\xf0)\\xfb\\xea\\xc4\\x13\\x0b\\xdb5\\t\\xc5\\x19\\xfe\\xb1\\xc0\\xeb\\xaa|7\\xc3!XV\\x17\\x9b\\x02 Tx[\\xc4\\xbf[\\xa6f\\x99\\x89\\xfa\\x93b\\x97og\\x91\\x98\\xd3;\\x15aN\\x1e\\xe9XL\\xda\\xcb\\x83\\x99\\xef\\x01', b'0C\\x02 g\\xd3\\xd0\\x9d*?P\\x9d\\xe7}\\xf8\\x07\\xa8\\x9c=\\x96\\x8e\\xde*@?\\x80\\x19\\xa8\\x1cQ\\xbf\\xeb\\x12y\\x9fu\\x02\\x1f8\\xad\\xef\\xfe\\xa2\\x1b\\xe5j\\xce\\xf4\\xe6cH\\xcca0\\xb8\\xcb\\xc8a#\\x99\\x03\\x07\\xf1G\\xc2\\xf4\\xdek\\xe4\\x01', b\"R!\\x03\\xe0\\x7f\\x96\\xe5\\xbaY\\x841\\xc0\\xc9\\x94I:J\\xe9\\x88\\xc9\\x85L\\x17\\x1d]K\\xb1@\\xdb\\n'\\xa4\\xc8S\\xe4!\\x03\\x1bc\\xf9d\\xd8\\xc6]\\x1d\\x116\\xdc\\xfeP3\\xde\\xde\\xa8\\x8c-A\\x194\\xeaH\\xc9p\\x84\\x10\\xbe\\x84\\xe5\\xeeR\\xae\", 169, b'\\xc1\\x04\\xb5v\\xf5Cc\\tXz\\xef\\xa3\\xdd\\xdd\\xd5\\xc2\\x95\\xb9\\x04\\x80', 135]\n",
      "\n",
      "<_io.BytesIO object at 0x1055ccd70>\n",
      "length script: 71\n",
      "current_byte : 82\n",
      "op_code : 82\n",
      "current_byte : 33\n",
      "current_byte : 33\n",
      "current_byte : 82\n",
      "op_code : 82\n",
      "current_byte : 174\n",
      "op_code : 174\n"
     ]
    }
   ],
   "source": [
    "my_tx_final = MultiSigTransaction.verify_signatures(my_tx_signed, multisig_acc2)"
   ]
  },
  {
   "cell_type": "code",
   "execution_count": 20,
   "metadata": {},
   "outputs": [
    {
     "data": {
      "text/plain": [
       "'0100000001cc2f5d7f42c4a3e594235b837afa7de482d455e14748c5778576773bea282c0301000000d8004730440220333f697e859dacf029fbeac4130bdb3509c519feb1c0ebaa7c37c3215856179b022054785bc4bf5ba6669989fa9362976f679198d33b15614e1ee9584cdacb8399ef01463043022067d3d09d2a3f509de77df807a89c3d968ede2a403f8019a81c51bfeb12799f75021f38adeffea21be56acef4e66348cc6130b8cbc86123990307f147c2f4de6be40147522103e07f96e5ba598431c0c994493a4ae988c9854c171d5d4bb140db0a27a4c853e421031b63f964d8c65d1d1136dcfe5033dedea88c2d411934ea48c9708410be84e5ee52aeffffffff02400d0300000000001976a91452903efc1004de01883ba3687be2a8ea4f6b1b1988ac607004000000000017a914c104b576f5436309587aefa3ddddd5c295b904808700000000'"
      ]
     },
     "execution_count": 20,
     "metadata": {},
     "output_type": "execute_result"
    }
   ],
   "source": [
    "my_tx_final.serialize().hex()"
   ]
  },
  {
   "cell_type": "code",
   "execution_count": 18,
   "metadata": {},
   "outputs": [
    {
     "ename": "NameError",
     "evalue": "name 'Build_TX' is not defined",
     "output_type": "error",
     "traceback": [
      "\u001b[0;31m---------------------------------------------------------------------------\u001b[0m",
      "\u001b[0;31mNameError\u001b[0m                                 Traceback (most recent call last)",
      "\u001b[0;32m<ipython-input-18-2c32b7bbd313>\u001b[0m in \u001b[0;36m<module>\u001b[0;34m\u001b[0m\n\u001b[1;32m      1\u001b[0m \u001b[0mprev_tx_id_list\u001b[0m \u001b[0;34m=\u001b[0m \u001b[0;34m[\u001b[0m\u001b[0;34m\"7e466d8cce70d0a030aba8e400b71d679661db700094a946607df35ff23f68a9\"\u001b[0m\u001b[0;34m]\u001b[0m\u001b[0;34m\u001b[0m\u001b[0;34m\u001b[0m\u001b[0m\n\u001b[0;32m----> 2\u001b[0;31m \u001b[0mmy_tx\u001b[0m \u001b[0;34m=\u001b[0m \u001b[0mBuild_TX\u001b[0m\u001b[0;34m.\u001b[0m\u001b[0mbuild_tx\u001b[0m\u001b[0;34m(\u001b[0m\u001b[0mprev_tx_id_list\u001b[0m\u001b[0;34m,\u001b[0m \u001b[0;34m[\u001b[0m\u001b[0;34m(\u001b[0m\u001b[0maccount1\u001b[0m\u001b[0;34m.\u001b[0m\u001b[0maddress\u001b[0m\u001b[0;34m,\u001b[0m \u001b[0;36m30000\u001b[0m\u001b[0;34m)\u001b[0m\u001b[0;34m]\u001b[0m\u001b[0;34m,\u001b[0m \u001b[0msegwitAccount\u001b[0m\u001b[0;34m,\u001b[0m \u001b[0;32mTrue\u001b[0m\u001b[0;34m,\u001b[0m \u001b[0msegwit\u001b[0m \u001b[0;34m=\u001b[0m \u001b[0;32mTrue\u001b[0m\u001b[0;34m,\u001b[0m\u001b[0mwitness_address\u001b[0m \u001b[0;34m=\u001b[0m \u001b[0;32mTrue\u001b[0m\u001b[0;34m)\u001b[0m\u001b[0;34m\u001b[0m\u001b[0;34m\u001b[0m\u001b[0m\n\u001b[0m",
      "\u001b[0;31mNameError\u001b[0m: name 'Build_TX' is not defined"
     ]
    }
   ],
   "source": [
    "prev_tx_id_list = [\"7e466d8cce70d0a030aba8e400b71d679661db700094a946607df35ff23f68a9\"]\n",
    "my_tx = Build_TX.build_tx(prev_tx_id_list, [(account1.address, 30000)], segwitAccount, True, segwit = True,witness_address = True)"
   ]
  },
  {
   "cell_type": "code",
   "execution_count": null,
   "metadata": {},
   "outputs": [],
   "source": [
    "my_tx.serialize().hex()"
   ]
  },
  {
   "cell_type": "code",
   "execution_count": null,
   "metadata": {},
   "outputs": [],
   "source": [
    "my_tx"
   ]
  },
  {
   "cell_type": "code",
   "execution_count": null,
   "metadata": {},
   "outputs": [],
   "source": [
    "multisig_acc.address"
   ]
  },
  {
   "cell_type": "code",
   "execution_count": null,
   "metadata": {},
   "outputs": [],
   "source": [
    "prev_tx_id_list = [\"f3c13c2ae497237a7a9b99c7c51a562aac6116e196d5f745469078af94efa1ea\"]\n",
    "my_tx = Build_TX.build_tx(prev_tx_id_list, [(segwitAccount.address, 500000)], multisig_acc, True)"
   ]
  },
  {
   "cell_type": "code",
   "execution_count": 21,
   "metadata": {},
   "outputs": [
    {
     "name": "stdout",
     "output_type": "stream",
     "text": [
      "True\n"
     ]
    }
   ],
   "source": [
    "if my_tx_final:\n",
    "    print(\"True\")"
   ]
  },
  {
   "cell_type": "code",
   "execution_count": 24,
   "metadata": {},
   "outputs": [],
   "source": [
    "redeem_script = Script([2+80, *public_keys, 2 + 80, 174])\n",
    "serialized_redeem = redeem_script.raw_serialize()"
   ]
  },
  {
   "cell_type": "code",
   "execution_count": 25,
   "metadata": {},
   "outputs": [
    {
     "data": {
      "text/plain": [
       "71"
      ]
     },
     "execution_count": 25,
     "metadata": {},
     "output_type": "execute_result"
    }
   ],
   "source": [
    "len(serialized_redeem)"
   ]
  },
  {
   "cell_type": "code",
   "execution_count": 27,
   "metadata": {},
   "outputs": [
    {
     "data": {
      "text/plain": [
       "32"
      ]
     },
     "execution_count": 27,
     "metadata": {},
     "output_type": "execute_result"
    }
   ],
   "source": [
    "sha256_selrialized_redeem = hashlib.sha256(serialized_redeem).digest()\n",
    "len(sha256_selrialized_redeem)"
   ]
  },
  {
   "cell_type": "code",
   "execution_count": null,
   "metadata": {},
   "outputs": [],
   "source": []
  }
 ],
 "metadata": {
  "kernelspec": {
   "display_name": "Python 3",
   "language": "python",
   "name": "python3"
  },
  "language_info": {
   "codemirror_mode": {
    "name": "ipython",
    "version": 3
   },
   "file_extension": ".py",
   "mimetype": "text/x-python",
   "name": "python",
   "nbconvert_exporter": "python",
   "pygments_lexer": "ipython3",
   "version": "3.7.4"
  }
 },
 "nbformat": 4,
 "nbformat_minor": 4
}
