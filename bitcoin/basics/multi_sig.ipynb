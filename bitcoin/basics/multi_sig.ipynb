{
 "cells": [
  {
   "cell_type": "code",
   "execution_count": 1,
   "metadata": {},
   "outputs": [],
   "source": [
    "from importlib import reload\n",
    "from helper import run\n",
    "import ecc\n",
    "import helper\n",
    "import tx\n",
    "import script\n",
    "from io import BytesIO"
   ]
  },
  {
   "cell_type": "code",
   "execution_count": 2,
   "metadata": {},
   "outputs": [],
   "source": [
    "from ecc import PrivateKey, S256Point, Signature\n",
    "from helper import decode_base58, SIGHASH_ALL, h160_to_p2pkh_address, hash160, h160_to_p2sh_address\n",
    "from script import p2pkh_script, Script\n",
    "from tx import TxIn, TxOut, Tx, TxFetcher\n",
    "from urllib.request import Request, urlopen\n",
    "import json"
   ]
  },
  {
   "cell_type": "code",
   "execution_count": 3,
   "metadata": {},
   "outputs": [
    {
     "name": "stdout",
     "output_type": "stream",
     "text": [
      "mo3WWB4PoSHrudEBik1nUqfn1uZEPNYEc8\n"
     ]
    }
   ],
   "source": [
    "privkey_1 = PrivateKey(int.from_bytes(b\"Oscar Eduardo Serna Rosero\",\"big\"))\n",
    "my_address_1 = privkey_1.point.address(testnet=True)\n",
    "print(my_address_1)"
   ]
  },
  {
   "cell_type": "code",
   "execution_count": 4,
   "metadata": {},
   "outputs": [
    {
     "name": "stdout",
     "output_type": "stream",
     "text": [
      "mwuCRN8bMLWN9ETs29U8KseDkau72M9byF\n"
     ]
    }
   ],
   "source": [
    "privkey_2 = PrivateKey(int.from_bytes(b\"Oscar Eduardo Serna Rosero\",\"little\"))\n",
    "my_address_2 = privkey_2.point.address(testnet=True)\n",
    "print(my_address_2)"
   ]
  },
  {
   "cell_type": "markdown",
   "metadata": {},
   "source": [
    "# Let's try to create a multisignature address that needs both signatures from privkey_1 and privkey_2"
   ]
  },
  {
   "cell_type": "code",
   "execution_count": 5,
   "metadata": {},
   "outputs": [],
   "source": [
    "m=2\n",
    "op_m = 82\n",
    "n=2\n",
    "op_n=82\n",
    "length_pubkey=33\n",
    "pubkey1=privkey_1.point.sec()\n",
    "pubkey2=privkey_2.point.sec()"
   ]
  },
  {
   "cell_type": "code",
   "execution_count": 6,
   "metadata": {},
   "outputs": [
    {
     "data": {
      "text/plain": [
       "'03e07f96e5ba598431c0c994493a4ae988c9854c171d5d4bb140db0a27a4c853e4'"
      ]
     },
     "execution_count": 6,
     "metadata": {},
     "output_type": "execute_result"
    }
   ],
   "source": [
    "pubkey1.hex()"
   ]
  },
  {
   "cell_type": "code",
   "execution_count": 7,
   "metadata": {},
   "outputs": [
    {
     "data": {
      "text/plain": [
       "'031b63f964d8c65d1d1136dcfe5033dedea88c2d411934ea48c9708410be84e5ee'"
      ]
     },
     "execution_count": 7,
     "metadata": {},
     "output_type": "execute_result"
    }
   ],
   "source": [
    "pubkey2.hex()"
   ]
  },
  {
   "cell_type": "code",
   "execution_count": 8,
   "metadata": {},
   "outputs": [
    {
     "data": {
      "text/plain": [
       "OP_2 03e07f96e5ba598431c0c994493a4ae988c9854c171d5d4bb140db0a27a4c853e4 031b63f964d8c65d1d1136dcfe5033dedea88c2d411934ea48c9708410be84e5ee OP_2 OP_CHECKMULTISIG"
      ]
     },
     "execution_count": 8,
     "metadata": {},
     "output_type": "execute_result"
    }
   ],
   "source": [
    "#redeem_script = Script([op_m, length_pubkey, pubkey1, length_pubkey, pubkey2, op_n, 174])#174:OP_CHECKMULTISIG\n",
    "redeem_script = Script([op_m, pubkey1, pubkey2, op_n, 174])#174:OP_CHECKMULTISIG\n",
    "redeem_script"
   ]
  },
  {
   "cell_type": "code",
   "execution_count": 9,
   "metadata": {},
   "outputs": [
    {
     "name": "stdout",
     "output_type": "stream",
     "text": [
      "47522103e07f96e5ba598431c0c994493a4ae988c9854c171d5d4bb140db0a27a4c853e421031b63f964d8c65d1d1136dcfe5033dedea88c2d411934ea48c9708410be84e5ee52ae\n",
      "522103e07f96e5ba598431c0c994493a4ae988c9854c171d5d4bb140db0a27a4c853e421031b63f964d8c65d1d1136dcfe5033dedea88c2d411934ea48c9708410be84e5ee52ae\n"
     ]
    }
   ],
   "source": [
    "serialized_redeem = redeem_script.serialize()\n",
    "print(serialized_redeem.hex())\n",
    "serialized_redeem_raw=serialized_redeem[1:]\n",
    "print(serialized_redeem_raw.hex())"
   ]
  },
  {
   "cell_type": "code",
   "execution_count": 10,
   "metadata": {},
   "outputs": [
    {
     "data": {
      "text/plain": [
       "'2NAqp3V17G4iBekEwWuYkgzoEyWiULhYZLs'"
      ]
     },
     "execution_count": 10,
     "metadata": {},
     "output_type": "execute_result"
    }
   ],
   "source": [
    "multi_sig_addr = h160_to_p2sh_address(hash160(serialized_redeem_raw), testnet=True)\n",
    "multi_sig_addr"
   ]
  },
  {
   "cell_type": "markdown",
   "metadata": {},
   "source": [
    "# Now let's try to send some BTCs to this address"
   ]
  },
  {
   "cell_type": "code",
   "execution_count": 17,
   "metadata": {},
   "outputs": [],
   "source": [
    "def get_index(outs_list, address):\n",
    "    for index,out in enumerate(outs_list):\n",
    "        if out.script_pubkey.cmds[2] == decode_base58(address) or out.script_pubkey.cmds[1] == decode_base58(address):\n",
    "            return index\n",
    "    return \"output index not found\"\n",
    "\n",
    "\n",
    "def get_amount_utxo(outs_list, index):\n",
    "    return outs_list[index].amount\n",
    "\n",
    "\n",
    "def get_tx_ins_utxo(prev_tx_id_list, receiving_address, testnet=True):\n",
    "    \n",
    "    tx_ins = []\n",
    "    \n",
    "    for prev_tx_id in prev_tx_id_list:\n",
    "        prev_tx = TxFetcher.fetch(prev_tx_id, testnet)\n",
    "        print(prev_tx)\n",
    "        prev_index = get_index(prev_tx.tx_outs, receiving_address)\n",
    "        tx_in = TxIn(bytes.fromhex(prev_tx_id),prev_index)\n",
    "        utxo = get_amount_utxo(prev_tx.tx_outs, prev_index)\n",
    "        print(f\"index 1: {prev_index}, amount: {utxo}\")\n",
    "        tx_ins.append({\"tx_in\": tx_in, \"utxo\": utxo})\n",
    "        \n",
    "    return tx_ins\n",
    "\n",
    "def calculate_fee(version, tx_ins, tx_outs, locktime, testnet=True, privkey):\n",
    "    tx = Tx(1, tx_ins, tx_outs, 0, testnet=True)\n",
    "    print(tx)\n",
    "\n",
    "    # sign the inputs in the transaction object using the private key\n",
    "    for tx_input in range(len(tx_ins)):\n",
    "        print(tx.sign_input(tx_input, privkey))\n",
    "    # print the transaction's serialization in hex\n",
    "\n",
    "    #Let's calculate the fee and the change:\n",
    "    tx_size = len(my_tx.serialize().hex())\n",
    "    fee_per_byte = 8 # I changed from 2 to 10 after sending this transaction because it had really low appeal to miners.\n",
    "    fee = tx_size * fee_per_byte\n",
    "    print(f\"fee: {fee}\")\n",
    "    return fee\n",
    "\n",
    "def calculate_change(utxo_list, fee, amountTx):\n",
    "    total_utxo = sum(utxo_list)\n",
    "    total_out = sum(amountTx)\n",
    "    change = total_utxo - fee - total_out\n",
    "    print(f\"change {change}\")\n",
    "    if change > 0:\n",
    "        return \"Not enough utxos\"\n",
    "    #Let's make sure that we are actually spending the exact amount of the UTXO\n",
    "    total_send=fee+amountTx+change\n",
    "    diff = total_utxo-total_send\n",
    "    print(f\"total {total_send}, diff: {diff}\")\n",
    "    if diff == 0\n",
    "        return change\n",
    "    else:\n",
    "        return \"Not able to calculate the right change\"\n",
    "\n",
    "    "
   ]
  },
  {
   "cell_type": "code",
   "execution_count": 21,
   "metadata": {},
   "outputs": [
    {
     "name": "stdout",
     "output_type": "stream",
     "text": [
      "1000000:OP_HASH160 c104b576f5436309587aefa3ddddd5c295b90480 OP_EQUAL\n",
      "1000000:OP_DUP OP_HASH160 52903efc1004de01883ba3687be2a8ea4f6b1b19 OP_EQUALVERIFY OP_CHECKSIG\n",
      "tx: 2f9c289966440d088978f9c674a0e596d47db5a91d6d5fc4df7ed38aee0a2d18\n",
      "version: 1\n",
      "tx_ins:\n",
      "9f6e65900ca76e8351b7babc6bbc2e5b0b2ded99e4e6f5b1ec74c2a190abf31a:0\n",
      "tx_outs:\n",
      "980544:OP_DUP OP_HASH160 52903efc1004de01883ba3687be2a8ea4f6b1b19 OP_EQUALVERIFY OP_CHECKSIG\n",
      "locktime: 0\n",
      "index 1: 0, amount: 980544\n",
      "tx: 67d3baf44adefc13c8635f51e45e6c1de6fa47cf18f4afbdc05ab0c95bd898e5\n",
      "version: 1\n",
      "tx_ins:\n",
      "7dc40bfc367d0188df26e0a7ab801284a215f9d3c67975433c821ca3d7927811:1\n",
      "tx_outs:\n",
      "1000000:OP_HASH160 c104b576f5436309587aefa3ddddd5c295b90480 OP_EQUAL\n",
      "591336:OP_DUP OP_HASH160 52903efc1004de01883ba3687be2a8ea4f6b1b19 OP_EQUALVERIFY OP_CHECKSIG\n",
      "locktime: 0\n",
      "index 1: 1, amount: 591336\n",
      "[2f9c289966440d088978f9c674a0e596d47db5a91d6d5fc4df7ed38aee0a2d18:0, 67d3baf44adefc13c8635f51e45e6c1de6fa47cf18f4afbdc05ab0c95bd898e5:1]\n",
      "[980544, 591336]\n",
      "tx: 1125840de36407c69169ace8e3a6c5b4dd60ece2db80226dbd66b2471702b7e5\n",
      "version: 1\n",
      "tx_ins:\n",
      "2f9c289966440d088978f9c674a0e596d47db5a91d6d5fc4df7ed38aee0a2d18:0\n",
      "67d3baf44adefc13c8635f51e45e6c1de6fa47cf18f4afbdc05ab0c95bd898e5:1\n",
      "tx_outs:\n",
      "1000000:OP_HASH160 c104b576f5436309587aefa3ddddd5c295b90480 OP_EQUAL\n",
      "1000000:OP_DUP OP_HASH160 52903efc1004de01883ba3687be2a8ea4f6b1b19 OP_EQUALVERIFY OP_CHECKSIG\n",
      "locktime: 0\n",
      "OP_DUP OP_HASH160 52903efc1004de01883ba3687be2a8ea4f6b1b19 OP_EQUALVERIFY OP_CHECKSIG\n",
      "\n",
      "combined script[b'0D\\x02 aN/\\xec\\x7f\\x04\\x10F\\xbcG\\xf4\\xcb\\xc5\\xf2\\x17\\xb0E=}\\xa8\\xb7\\xfeLK\\x8b\\xe8\\x97\\x90\\xd0P\\xc9\\xdc\\x02 Y?\\x82\\x7f\\r\\xde\\xaf\\x8a\\x1d\\n\\xe81\\xdc5\\x98-\\x17\\xbej\\xf2\\xd7I\\xa7\\xe6\\xb5z\\x86qZ\\xa5\\xa1\\xad\\x01', b\"\\x03\\xe0\\x7f\\x96\\xe5\\xbaY\\x841\\xc0\\xc9\\x94I:J\\xe9\\x88\\xc9\\x85L\\x17\\x1d]K\\xb1@\\xdb\\n'\\xa4\\xc8S\\xe4\", 118, 169, b'R\\x90>\\xfc\\x10\\x04\\xde\\x01\\x88;\\xa3h{\\xe2\\xa8\\xeaOk\\x1b\\x19', 136, 172]\n",
      "\n",
      "True\n",
      "OP_DUP OP_HASH160 52903efc1004de01883ba3687be2a8ea4f6b1b19 OP_EQUALVERIFY OP_CHECKSIG\n",
      "\n",
      "combined script[b\"0E\\x02!\\x00\\xe9=\\x1f\\x9fj.\\xb7V\\xc5\\x08$\\xe6&\\x19\\x8a\\xd9v\\x8dK\\x10\\x97\\x90\\xc1\\xc2T\\xa1\\xa0\\rt\\x1b\\xdbG\\x02 $J\\xc2\\xb7`\\x1f\\x90\\xba\\x10\\xe6\\xba1<\\xd1\\x8eeF\\xa2\\xa0\\xf7R'\\x83l\\xf8m\\xc2\\xa6\\x87\\xa3\\x19\\x14\\x01\", b\"\\x03\\xe0\\x7f\\x96\\xe5\\xbaY\\x841\\xc0\\xc9\\x94I:J\\xe9\\x88\\xc9\\x85L\\x17\\x1d]K\\xb1@\\xdb\\n'\\xa4\\xc8S\\xe4\", 118, 169, b'R\\x90>\\xfc\\x10\\x04\\xde\\x01\\x88;\\xa3h{\\xe2\\xa8\\xeaOk\\x1b\\x19', 136, 172]\n",
      "\n",
      "True\n",
      "fee: 5936\n",
      "change 565944\n",
      "total 1571880, diff: 0\n",
      "OP_DUP OP_HASH160 52903efc1004de01883ba3687be2a8ea4f6b1b19 OP_EQUALVERIFY OP_CHECKSIG\n",
      "\n",
      "combined script[b'0E\\x02!\\x00\\x81`=\\xb2N)\\x8e\\x83i\\x97>\\xed\\xd1\\x10f\\x06\\xdfE\\xc3\\xcc\\x13\\xedvp\\x03\\xbe\\xfc^\\xb4\\xdd\\xf0\\xa2\\x02 p,4\\xdag\\xac<\\xaf\\xb3\\x14\\xe097\\xf4\\xde\\xdc\\xe9\\xf5\\xa1\\x01\\x86u\\x1bK\\xd5z\\x0eY\\x11\\xe3\\n\\xc5\\x01', b\"\\x03\\xe0\\x7f\\x96\\xe5\\xbaY\\x841\\xc0\\xc9\\x94I:J\\xe9\\x88\\xc9\\x85L\\x17\\x1d]K\\xb1@\\xdb\\n'\\xa4\\xc8S\\xe4\", 118, 169, b'R\\x90>\\xfc\\x10\\x04\\xde\\x01\\x88;\\xa3h{\\xe2\\xa8\\xeaOk\\x1b\\x19', 136, 172]\n",
      "\n",
      "True\n",
      "OP_DUP OP_HASH160 52903efc1004de01883ba3687be2a8ea4f6b1b19 OP_EQUALVERIFY OP_CHECKSIG\n",
      "\n",
      "combined script[b'0D\\x02 r_\\xe9\\x08p\\x93\\x18\\xd1\\x92\\x96\\xc4\\xb3@\\x84f\\x83\\x99\\x0b\\x1d\\x89\\x14)\\x0bG\\xab9\\x98\\xc6V\\x89a\\x9a\\x02 c\\x17\\xdb\\tj\\x1d\\xcf\\xde\\xbd!\\xd9J\\xbc\\x9d^f\\xe6\\x1ci&I\\xac\\xb1\\xb0\\x9e4@\\xbcX\\xca\\x0b\\xbb\\x01', b\"\\x03\\xe0\\x7f\\x96\\xe5\\xbaY\\x841\\xc0\\xc9\\x94I:J\\xe9\\x88\\xc9\\x85L\\x17\\x1d]K\\xb1@\\xdb\\n'\\xa4\\xc8S\\xe4\", 118, 169, b'R\\x90>\\xfc\\x10\\x04\\xde\\x01\\x88;\\xa3h{\\xe2\\xa8\\xeaOk\\x1b\\x19', 136, 172]\n",
      "\n",
      "True\n",
      "0100000002182d0aee8ad37edfc45f6d1da9b57dd496e5a074c6f97889080d446699289c2f000000006b48304502210081603db24e298e8369973eedd1106606df45c3cc13ed767003befc5eb4ddf0a20220702c34da67ac3cafb314e03937f4dedce9f5a10186751b4bd57a0e5911e30ac5012103e07f96e5ba598431c0c994493a4ae988c9854c171d5d4bb140db0a27a4c853e4ffffffffe598d85bc9b05ac0bdaff418cf47fae61d6c5ee4515f63c813fcde4af4bad367010000006a4730440220725fe908709318d19296c4b340846683990b1d8914290b47ab3998c65689619a02206317db096a1dcfdebd21d94abc9d5e66e61c692649acb1b09e3440bc58ca0bbb012103e07f96e5ba598431c0c994493a4ae988c9854c171d5d4bb140db0a27a4c853e4ffffffff0240420f000000000017a914c104b576f5436309587aefa3ddddd5c295b9048087b8a20800000000001976a91452903efc1004de01883ba3687be2a8ea4f6b1b1988ac00000000\n"
     ]
    }
   ],
   "source": [
    "from script import p2sh_script\n",
    "# Let's build the tx:\n",
    "tx_outs =[]\n",
    "tx_ins =[]\n",
    "\n",
    "change = int(0.01 * 100000000)# we are going to fix this later\n",
    "amountTx= int(0.01 * 100000000)\n",
    "\n",
    "#It will send 0.01 to the multisig address\n",
    "output = TxOut(amountTx, p2sh_script(decode_base58(multi_sig_addr)))\n",
    "print(output)\n",
    "tx_outs.append(output)\n",
    "\n",
    "change_output = TxOut(change, p2pkh_script(decode_base58(my_address_1)))\n",
    "print(change_output)\n",
    "tx_outs.append(change_output)\n",
    "\n",
    "#block explorer: https://testnet.smartbit.com.au/address/mo3WWB4PoSHrudEBik1nUqfn1uZEPNYEc8/unspent\n",
    "\n",
    "prev_tx_id_list = [\"2f9c289966440d088978f9c674a0e596d47db5a91d6d5fc4df7ed38aee0a2d18\",\n",
    "                  \"67d3baf44adefc13c8635f51e45e6c1de6fa47cf18f4afbdc05ab0c95bd898e5\"]\n",
    "\n",
    "tx_ins_utxo = get_tx_ins_utxo(prev_tx_id_list, my_address_1, testnet=True)\n",
    "    \n",
    "tx_ins = [x[\"tx_in\"] for x in tx_ins_utxo]\n",
    "print(tx_ins)\n",
    "\n",
    "utxos = [x[\"utxo\"] for x in tx_ins_utxo]\n",
    "print(utxos)\n",
    "\n",
    "my_tx = Tx(1, tx_ins, tx_outs, 0, testnet=True)\n",
    "print(my_tx)\n",
    "\n",
    "fee = calculate_fee(1, tx_ins, tx_outs, 0, testnet=True, privkey_1)\n",
    "change = calculate_change(utxos, fee, [amountTx])\n",
    "\n",
    "#Let's modify the amount in the change_output:\n",
    "my_tx.tx_outs[-1].amount = change\n",
    "\n",
    "#we sign again because the hash changed\n",
    "for tx_input in range(len(tx_ins)):\n",
    "    print(my_tx.sign_input(tx_input, privkey_1))\n",
    "\n",
    "print(my_tx.serialize().hex())\n",
    "\n",
    "#for tx_input in range(len(tx_ins)):\n",
    " #   print(my_tx.verify_input(tx_input))"
   ]
  },
  {
   "cell_type": "code",
   "execution_count": 12,
   "metadata": {},
   "outputs": [
    {
     "name": "stdout",
     "output_type": "stream",
     "text": [
      "OP_DUP OP_HASH160 52903efc1004de01883ba3687be2a8ea4f6b1b19 OP_EQUALVERIFY OP_CHECKSIG\n",
      "\n",
      "combined script[b'0D\\x02 +)\\xa5C\\xee\\xc3\\xad\\xa1\\xb7y7\\x0c\\x02\\xfa\\x9eE\\x84\\x9d\\xc6yZ\\xb6\\xbd\\x7f)\\xfd\\xc51\\xc1d\\xdcb\\x02 1>\\xfbs\\xd68\\xe9\\x08\\xd3\\xe35\\xf3\\xad\\xb2\\xb6\\xe1\\xb4f\\x16)\\xce>\\x1b\\xb3\\xd5\\xb8\\xe5m\\xbe\\xb6\\x98I\\x01', b\"\\x03\\xe0\\x7f\\x96\\xe5\\xbaY\\x841\\xc0\\xc9\\x94I:J\\xe9\\x88\\xc9\\x85L\\x17\\x1d]K\\xb1@\\xdb\\n'\\xa4\\xc8S\\xe4\", 118, 169, b'R\\x90>\\xfc\\x10\\x04\\xde\\x01\\x88;\\xa3h{\\xe2\\xa8\\xeaOk\\x1b\\x19', 136, 172]\n",
      "\n"
     ]
    },
    {
     "data": {
      "text/plain": [
       "True"
      ]
     },
     "execution_count": 12,
     "metadata": {},
     "output_type": "execute_result"
    }
   ],
   "source": [
    "my_tx.verify_input(0)"
   ]
  },
  {
   "cell_type": "code",
   "execution_count": 13,
   "metadata": {},
   "outputs": [
    {
     "name": "stdout",
     "output_type": "stream",
     "text": [
      "a b c\n"
     ]
    }
   ],
   "source": [
    "li = [\"a\",\"b\",\"c\"]\n",
    "print(*li)"
   ]
  },
  {
   "cell_type": "markdown",
   "metadata": {},
   "source": [
    "# Now let's try to spend the UTXO from the multi-sig address"
   ]
  },
  {
   "cell_type": "code",
   "execution_count": 14,
   "metadata": {},
   "outputs": [
    {
     "data": {
      "text/plain": [
       "<module 'tx' from '/Users/oscareduardosernarosero/Documents/US/Rice U/blockchain/bitcoin/basics/tx.py'>"
      ]
     },
     "execution_count": 14,
     "metadata": {},
     "output_type": "execute_result"
    }
   ],
   "source": [
    "reload(tx)"
   ]
  },
  {
   "cell_type": "code",
   "execution_count": 15,
   "metadata": {},
   "outputs": [
    {
     "name": "stdout",
     "output_type": "stream",
     "text": [
      "1000000:OP_DUP OP_HASH160 52903efc1004de01883ba3687be2a8ea4f6b1b19 OP_EQUALVERIFY OP_CHECKSIG\n",
      "tx: 9f6e65900ca76e8351b7babc6bbc2e5b0b2ded99e4e6f5b1ec74c2a190abf31a\n",
      "version: 1\n",
      "tx_ins:\n",
      "ee337430b19e720f5b1bc4582df972bec0750fcfcbf6143d097121d0e11af478:1\n",
      "tx_outs:\n",
      "1000000:OP_HASH160 1060f2fd6058cd100fe4e485455badf453bd63e1 OP_EQUAL\n",
      "753950:OP_DUP OP_HASH160 52903efc1004de01883ba3687be2a8ea4f6b1b19 OP_EQUALVERIFY OP_CHECKSIG\n",
      "locktime: 0\n",
      "index 1: 0\n",
      "9f6e65900ca76e8351b7babc6bbc2e5b0b2ded99e4e6f5b1ec74c2a190abf31a:0\n",
      "tx: a716747d4c63bcc054ab55d2baa20ae4d50ff74a0ec31f6d7a6efc48b5438547\n",
      "version: 1\n",
      "tx_ins:\n",
      "9f6e65900ca76e8351b7babc6bbc2e5b0b2ded99e4e6f5b1ec74c2a190abf31a:0\n",
      "tx_outs:\n",
      "1000000:OP_DUP OP_HASH160 52903efc1004de01883ba3687be2a8ea4f6b1b19 OP_EQUALVERIFY OP_CHECKSIG\n",
      "locktime: 0\n",
      "redeem_script present\n",
      "script: OP_2 03e07f96e5ba598431c0c994493a4ae988c9854c171d5d4bb140db0a27a4c853e4 031b63f964d8c65d1d1136dcfe5033dedea88c2d411934ea48c9708410be84e5ee OP_2 OP_CHECKMULTISIG\n",
      "sign_input_multisig commands: [0, b'0E\\x02!\\x00\\xb1\\x9ai\\x84\\x19\\xf5o\\xecQT\\x82=\\xa70#\\x85\\xbd-\\xc5C\\x10\\x13\\xd3\\xd1\\xeda\\x08P\\xa9G\\xf0\\xe4\\x02 e\\xa4d\\xa6\\xd2\\x86!\\x12\\xdc26p\\xd99\\xe5VaL\\x92\\xa0tX\\xbf\\\\q\\xc1\"\\xb1,t\\xc0h\\x01', b'0D\\x02 |A\\x07\\x9e{\\x18v7U\\x93\\x82\\x00Z\\xe2\\x08\\xb2\\xd5\\x92\\x91\\xf2/L4\\xbcX.sKp8\\xa5\\xf8\\x02 &\\x8dyL\\x8aPEI\\x01\\xbc\\xebE\\x17\\x1dXq\\x99\\n;\\x8d\\x1akS\\xfd\\xef.q\\xb4\\xa7M\\xdc\\xba\\x01', b\"R!\\x03\\xe0\\x7f\\x96\\xe5\\xbaY\\x841\\xc0\\xc9\\x94I:J\\xe9\\x88\\xc9\\x85L\\x17\\x1d]K\\xb1@\\xdb\\n'\\xa4\\xc8S\\xe4!\\x03\\x1bc\\xf9d\\xd8\\xc6]\\x1d\\x116\\xdc\\xfeP3\\xde\\xde\\xa8\\x8c-A\\x194\\xeaH\\xc9p\\x84\\x10\\xbe\\x84\\xe5\\xeeR\\xae\"]\n",
      "OP_HASH160 1060f2fd6058cd100fe4e485455badf453bd63e1 OP_EQUAL\n",
      "scriptPubKey: OP_HASH160 1060f2fd6058cd100fe4e485455badf453bd63e1 OP_EQUAL\n",
      "commands redeemscript: 522103e07f96e5ba598431c0c994493a4ae988c9854c171d5d4bb140db0a27a4c853e421031b63f964d8c65d1d1136dcfe5033dedea88c2d411934ea48c9708410be84e5ee52ae\n"
     ]
    },
    {
     "ename": "IndexError",
     "evalue": "index out of range",
     "output_type": "error",
     "traceback": [
      "\u001b[0;31m---------------------------------------------------------------------------\u001b[0m",
      "\u001b[0;31mIndexError\u001b[0m                                Traceback (most recent call last)",
      "\u001b[0;32m<ipython-input-15-b0ed406a4075>\u001b[0m in \u001b[0;36m<module>\u001b[0;34m\u001b[0m\n\u001b[1;32m     33\u001b[0m \u001b[0;31m# sign the inputs in the transaction object using the private key\u001b[0m\u001b[0;34m\u001b[0m\u001b[0;34m\u001b[0m\u001b[0;34m\u001b[0m\u001b[0m\n\u001b[1;32m     34\u001b[0m \u001b[0;32mfor\u001b[0m \u001b[0mtx_input\u001b[0m \u001b[0;32min\u001b[0m \u001b[0mrange\u001b[0m\u001b[0;34m(\u001b[0m\u001b[0mlen\u001b[0m\u001b[0;34m(\u001b[0m\u001b[0mtx_ins\u001b[0m\u001b[0;34m)\u001b[0m\u001b[0;34m)\u001b[0m\u001b[0;34m:\u001b[0m\u001b[0;34m\u001b[0m\u001b[0;34m\u001b[0m\u001b[0m\n\u001b[0;32m---> 35\u001b[0;31m     \u001b[0mprint\u001b[0m\u001b[0;34m(\u001b[0m\u001b[0mmy_multisig_tx\u001b[0m\u001b[0;34m.\u001b[0m\u001b[0msign_input_multisig\u001b[0m\u001b[0;34m(\u001b[0m\u001b[0mtx_input\u001b[0m\u001b[0;34m,\u001b[0m \u001b[0;34m[\u001b[0m\u001b[0mprivkey_1\u001b[0m\u001b[0;34m,\u001b[0m \u001b[0mprivkey_2\u001b[0m\u001b[0;34m]\u001b[0m\u001b[0;34m,\u001b[0m \u001b[0mredeem_script\u001b[0m\u001b[0;34m)\u001b[0m\u001b[0;34m)\u001b[0m\u001b[0;31m#redeem_script from earlier\u001b[0m\u001b[0;34m\u001b[0m\u001b[0;34m\u001b[0m\u001b[0m\n\u001b[0m\u001b[1;32m     36\u001b[0m \u001b[0;31m# print the transaction's serialization in hex\u001b[0m\u001b[0;34m\u001b[0m\u001b[0;34m\u001b[0m\u001b[0;34m\u001b[0m\u001b[0m\n\u001b[1;32m     37\u001b[0m \u001b[0;34m\u001b[0m\u001b[0m\n",
      "\u001b[0;32m~/Documents/US/Rice U/blockchain/bitcoin/basics/tx.py\u001b[0m in \u001b[0;36msign_input_multisig\u001b[0;34m(self, input_index, private_key_list, redeem_script)\u001b[0m\n\u001b[1;32m    288\u001b[0m         \u001b[0mself\u001b[0m\u001b[0;34m.\u001b[0m\u001b[0mtx_ins\u001b[0m\u001b[0;34m[\u001b[0m\u001b[0minput_index\u001b[0m\u001b[0;34m]\u001b[0m\u001b[0;34m.\u001b[0m\u001b[0mscript_sig\u001b[0m \u001b[0;34m=\u001b[0m \u001b[0mscript_sig\u001b[0m\u001b[0;34m\u001b[0m\u001b[0;34m\u001b[0m\u001b[0m\n\u001b[1;32m    289\u001b[0m         \u001b[0;31m# return whether sig is valid using self.verify_input\u001b[0m\u001b[0;34m\u001b[0m\u001b[0;34m\u001b[0m\u001b[0;34m\u001b[0m\u001b[0m\n\u001b[0;32m--> 290\u001b[0;31m         \u001b[0;32mreturn\u001b[0m \u001b[0mself\u001b[0m\u001b[0;34m.\u001b[0m\u001b[0mverify_input\u001b[0m\u001b[0;34m(\u001b[0m\u001b[0minput_index\u001b[0m\u001b[0;34m)\u001b[0m\u001b[0;34m\u001b[0m\u001b[0;34m\u001b[0m\u001b[0m\n\u001b[0m\u001b[1;32m    291\u001b[0m \u001b[0;34m\u001b[0m\u001b[0m\n\u001b[1;32m    292\u001b[0m \u001b[0;34m\u001b[0m\u001b[0m\n",
      "\u001b[0;32m~/Documents/US/Rice U/blockchain/bitcoin/basics/tx.py\u001b[0m in \u001b[0;36mverify_input\u001b[0;34m(self, input_index)\u001b[0m\n\u001b[1;32m    223\u001b[0m             \u001b[0mraw_redeem\u001b[0m \u001b[0;34m=\u001b[0m \u001b[0mcmds\u001b[0m\u001b[0;34m\u001b[0m\u001b[0;34m\u001b[0m\u001b[0m\n\u001b[1;32m    224\u001b[0m             \u001b[0;31m# parse the RedeemScript\u001b[0m\u001b[0;34m\u001b[0m\u001b[0;34m\u001b[0m\u001b[0;34m\u001b[0m\u001b[0m\n\u001b[0;32m--> 225\u001b[0;31m             \u001b[0mRedScript\u001b[0m \u001b[0;34m=\u001b[0m \u001b[0mScript\u001b[0m\u001b[0;34m.\u001b[0m\u001b[0mparse\u001b[0m\u001b[0;34m(\u001b[0m\u001b[0mBytesIO\u001b[0m\u001b[0;34m(\u001b[0m\u001b[0mraw_redeem\u001b[0m\u001b[0;34m)\u001b[0m\u001b[0;34m)\u001b[0m\u001b[0;34m\u001b[0m\u001b[0;34m\u001b[0m\u001b[0m\n\u001b[0m\u001b[1;32m    226\u001b[0m \u001b[0;34m\u001b[0m\u001b[0m\n\u001b[1;32m    227\u001b[0m         \u001b[0;31m# otherwise RedeemScript is None\u001b[0m\u001b[0;34m\u001b[0m\u001b[0;34m\u001b[0m\u001b[0;34m\u001b[0m\u001b[0m\n",
      "\u001b[0;32m~/Documents/US/Rice U/blockchain/bitcoin/basics/script.py\u001b[0m in \u001b[0;36mparse\u001b[0;34m(cls, s)\u001b[0m\n\u001b[1;32m     70\u001b[0m             \u001b[0mcount\u001b[0m \u001b[0;34m+=\u001b[0m \u001b[0;36m1\u001b[0m\u001b[0;34m\u001b[0m\u001b[0;34m\u001b[0m\u001b[0m\n\u001b[1;32m     71\u001b[0m             \u001b[0;31m# convert the current byte to an integer\u001b[0m\u001b[0;34m\u001b[0m\u001b[0;34m\u001b[0m\u001b[0;34m\u001b[0m\u001b[0m\n\u001b[0;32m---> 72\u001b[0;31m             \u001b[0mcurrent_byte\u001b[0m \u001b[0;34m=\u001b[0m \u001b[0mcurrent\u001b[0m\u001b[0;34m[\u001b[0m\u001b[0;36m0\u001b[0m\u001b[0;34m]\u001b[0m\u001b[0;34m\u001b[0m\u001b[0;34m\u001b[0m\u001b[0m\n\u001b[0m\u001b[1;32m     73\u001b[0m             \u001b[0;31m# if the current byte is between 1 and 75 inclusive\u001b[0m\u001b[0;34m\u001b[0m\u001b[0;34m\u001b[0m\u001b[0;34m\u001b[0m\u001b[0m\n\u001b[1;32m     74\u001b[0m             \u001b[0;32mif\u001b[0m \u001b[0mcurrent_byte\u001b[0m \u001b[0;34m>=\u001b[0m \u001b[0;36m1\u001b[0m \u001b[0;32mand\u001b[0m \u001b[0mcurrent_byte\u001b[0m \u001b[0;34m<=\u001b[0m \u001b[0;36m75\u001b[0m\u001b[0;34m:\u001b[0m\u001b[0;34m\u001b[0m\u001b[0;34m\u001b[0m\u001b[0m\n",
      "\u001b[0;31mIndexError\u001b[0m: index out of range"
     ]
    }
   ],
   "source": [
    "###### tx_outs =[]\n",
    "tx_ins =[]\n",
    "tx_outs =[]\n",
    "\n",
    "amountTx= int(0.01 * 100000000)# we'll fix this later after calculating the fee\n",
    "\n",
    "#It will send back all the money to our address_1 minus the fee\n",
    "output = TxOut(amountTx,  p2pkh_script(decode_base58(my_address_1)))\n",
    "print(output)\n",
    "tx_outs.append(output)\n",
    "\n",
    "prev1_tx_id = \"9f6e65900ca76e8351b7babc6bbc2e5b0b2ded99e4e6f5b1ec74c2a190abf31a\"\n",
    "prev_tx1 = TxFetcher.fetch(prev1_tx_id, testnet=True)\n",
    "print(prev_tx1)\n",
    "\n",
    "def get_index(outs_list, address):\n",
    "    for index,out in enumerate(outs_list):\n",
    "        if out.script_pubkey.cmds[2] == decode_base58(address) or out.script_pubkey.cmds[1] == decode_base58(address):\n",
    "            return index\n",
    "    return \"output index not found\"\n",
    "    \n",
    "prev1_index= get_index(prev_tx1.tx_outs, multi_sig_addr)\n",
    "#prev1_index=0\n",
    "print(f\"index 1: {prev1_index}\")\n",
    "\n",
    "tx_in1 = TxIn(bytes.fromhex(prev1_tx_id),prev1_index)\n",
    "print(tx_in1)\n",
    "tx_ins.append(tx_in1)\n",
    "\n",
    "my_multisig_tx = Tx(1, tx_ins, tx_outs, 0, testnet=True)\n",
    "print(my_multisig_tx)\n",
    "\n",
    "# sign the inputs in the transaction object using the private key\n",
    "for tx_input in range(len(tx_ins)):\n",
    "    print(my_multisig_tx.sign_input_multisig(tx_input, [privkey_1, privkey_2], redeem_script))#redeem_script from earlier\n",
    "# print the transaction's serialization in hex\n",
    "\n",
    "#Let's calculate the fee and the change:\n",
    "tx_size = len(my_multisig_tx.serialize().hex())\n",
    "fee_per_byte = 32 # I changed from 10 to 25 after sending this transaction because apparently it is more expensive for multisig tx.\n",
    "fee = tx_size * fee_per_byte \n",
    "print(f\"fee: {fee}\")\n",
    "\n",
    "amountTx = prev_tx1.tx_outs[prev1_index].amount - fee \n",
    "print(f\"amountTx : {amountTx}\")\n",
    "#Let's make sure that we are actually spending the exact amount of the UTXO\n",
    "total_send=fee+amountTx\n",
    "diff = prev_tx1.tx_outs[prev1_index].amount-total_send\n",
    "print(f\"total {total_send}, diff: {diff}\")\n",
    "\n",
    "#Let's modify the amount in the change_output:\n",
    "my_multisig_tx.tx_outs[0].amount = amountTx\n",
    "\n",
    "#we sign again because the hash changed\n",
    "for tx_input in range(len(tx_ins)):\n",
    "    print(my_multisig_tx.sign_input_multisig(tx_input, [privkey_1, privkey_2], redeem_script))#redeem_script from earlier\n",
    "\n",
    "print(my_multisig_tx.serialize().hex())\n",
    "\n",
    "#for tx_input in range(len(tx_ins)):\n",
    " #   print(my_tx.verify_input(tx_input))"
   ]
  },
  {
   "cell_type": "code",
   "execution_count": null,
   "metadata": {},
   "outputs": [],
   "source": [
    "my_multisig_tx.verify()"
   ]
  },
  {
   "cell_type": "code",
   "execution_count": null,
   "metadata": {},
   "outputs": [],
   "source": [
    "my_multisig_tx"
   ]
  },
  {
   "cell_type": "code",
   "execution_count": null,
   "metadata": {},
   "outputs": [],
   "source": [
    "rebuilt_script = Script.parse(BytesIO(bytes.fromhex(\"47522103e07f96e5ba598431c0c994493a4ae988c9854c171d5d4bb140db0a27a4c853e421031b63f964d8c65d1d1136dcfe5033dedea88c2d411934ea48c9708410be84e5ee52ae\")))\n",
    "rebuilt_script"
   ]
  },
  {
   "cell_type": "code",
   "execution_count": null,
   "metadata": {},
   "outputs": [],
   "source": [
    "for cmd in my_multisig_tx.tx_ins[0].script_sig.cmds:\n",
    "    try: print(cmd.hex())\n",
    "    except: print(cmd)"
   ]
  },
  {
   "cell_type": "code",
   "execution_count": null,
   "metadata": {},
   "outputs": [],
   "source": [
    "#my_multisig_tx.tx_outs.pop(0)"
   ]
  },
  {
   "cell_type": "code",
   "execution_count": null,
   "metadata": {},
   "outputs": [],
   "source": [
    "#upsidedown = Script(my_multisig_tx.tx_ins[0].script_sig.cmds[::-1])\n",
    "straight = Script(my_multisig_tx.tx_ins[0].script_sig.cmds)\n",
    "rebuilt_script2 = Script(rebuilt_script.cmds[1:])\n",
    "#upsidedown.cmds.pop(0)\n",
    "straight.cmds.pop(-1)\n",
    "print(straight)"
   ]
  },
  {
   "cell_type": "code",
   "execution_count": null,
   "metadata": {},
   "outputs": [],
   "source": [
    "combined_part2 = straight+ rebuilt_script"
   ]
  },
  {
   "cell_type": "code",
   "execution_count": null,
   "metadata": {},
   "outputs": [],
   "source": [
    "from helper import hash256\n",
    "raw_modified=bytes.fromhex(\"01000000011af3ab90a1c274ecb1f5e6e499ed2d0b5b2ebc6bbcbab751836ea70c90656e9f0000000047522103e07f96e5ba598431c0c994493a4ae988c9854c171d5d4bb140db0a27a4c853e421031b63f964d8c65d1d1136dcfe5033dedea88c2d411934ea48c9708410be84e5ee52aeffffffff0140f60e00000000001976a91452903efc1004de01883ba3687be2a8ea4f6b1b1988ac0000000001000000\")\n",
    "raw_script_sig=\"dc00483045022100e9a2b73ff95e3395034e910d5d69dd3e18e12a28e9dacfd5f3b2894afd5fbf3f022035b50d48506932020fcea1781a0c58e9011918bd2a9cbbb5693027035ca9502b01483045022100f7621bb014d53d8a97c0b5605317dd4a92b53e03dd22e71b1db85c12e92218ff02204b77ff2a5bc9f7921d8a17d36d04ca29cbe25b2061f7c2f5e227e449ba614ee5014847522103e07f96e5ba598431c0c994493a4ae988c9854c171d5d4bb140db0a27a4c853e421031b63f964d8c65d1d1136dcfe5033dedea88c2d411934ea48c9708410be84e5ee52ae\"\n",
    "z=int.from_bytes(hash256(raw_modified),\"big\")\n"
   ]
  },
  {
   "cell_type": "code",
   "execution_count": null,
   "metadata": {},
   "outputs": [],
   "source": [
    "combined_part2.evaluate(z)"
   ]
  },
  {
   "cell_type": "code",
   "execution_count": null,
   "metadata": {},
   "outputs": [],
   "source": [
    "combined_part2"
   ]
  },
  {
   "cell_type": "code",
   "execution_count": null,
   "metadata": {},
   "outputs": [],
   "source": [
    "\n",
    "sec1=bytes.fromhex(str(combined_part2.cmds[4].hex()))\n",
    "sec2=bytes.fromhex(str(combined_part2.cmds[5].hex()))\n",
    "der1=bytes.fromhex(str(combined_part2.cmds[1][:-1].hex()))\n",
    "der2=bytes.fromhex(str(combined_part2.cmds[2][:-1].hex()))\n",
    "point1=S256Point.parse(sec1)\n",
    "point2=S256Point.parse(sec2)\n",
    "sig1=Signature.parse(der1)\n",
    "sig2=Signature.parse(der2)\n",
    "print(point1.verify(z,sig1))\n",
    "print(point2.verify(z,sig2))"
   ]
  },
  {
   "cell_type": "markdown",
   "metadata": {},
   "source": [
    "## Everything looks right, but the tx is not being mined or is being rejected by nodes with error code 26, message 64.( ERROR: 64: NON-MANDATORY-SCRIPT-VERIFY-FLAG (EXTRA ITEMS LEFT ON STACK AFTER EXECUTION)) Therefore we'll try to grab another input to discard this particular input as the source of the issue. \n",
    "\n",
    "### Relevant links:\n",
    "https://www.reddit.com/r/Bitcoin/comments/7l5e38/serious_a_solution_to_a_p2sh_puzzle_not_accepted/drl22i4/"
   ]
  },
  {
   "cell_type": "code",
   "execution_count": null,
   "metadata": {},
   "outputs": [],
   "source": [
    "###### tx_outs =[]\n",
    "tx_ins =[]\n",
    "tx_outs =[]\n",
    "\n",
    "amountTx= int(0.01 * 100000000)# we'll fix this later after calculating the fee\n",
    "\n",
    "#It will send back all the money to our address_1 minus the fee\n",
    "output = TxOut(amountTx,  p2pkh_script(decode_base58(my_address_1)))\n",
    "print(output)\n",
    "tx_outs.append(output)\n",
    "\n",
    "\n",
    "prev1_tx_id = \"9a84c7d5b2c67d68742f259f37ebc051f4ad6fe0796e3208abdebc04e77768e9\"\n",
    "prev_tx1 = TxFetcher.fetch(prev1_tx_id, testnet=True)\n",
    "print(prev_tx1)\n",
    "\n",
    "\n",
    "    \n",
    "prev1_index= get_index(prev_tx1.tx_outs, multi_sig_addr)\n",
    "#prev1_index=0\n",
    "print(f\"index 1: {prev1_index}\")\n",
    "\n",
    "tx_in1 = TxIn(bytes.fromhex(prev1_tx_id),prev1_index)\n",
    "print(tx_in1)\n",
    "tx_ins.append(tx_in1)\n",
    "\n",
    "my_multisig_tx = Tx(1, tx_ins, tx_outs, 0, testnet=True)\n",
    "print(my_multisig_tx)\n",
    "\n",
    "\n",
    "\n",
    "# sign the inputs in the transaction object using the private key\n",
    "for tx_input in range(len(tx_ins)):\n",
    "    print(my_multisig_tx.sign_input_multisig(tx_input, [privkey_1, privkey_2], redeem_script))#redeem_script from earlier\n",
    "# print the transaction's serialization in hex\n",
    "\n",
    "#Let's calculate the fee and the change:\n",
    "tx_size = len(my_multisig_tx.serialize().hex())\n",
    "fee_per_byte = 32 # I changed from 10 to 25 after sending this transaction because apparently it is more expensive for multisig tx.\n",
    "fee = tx_size * fee_per_byte \n",
    "print(f\"fee: {fee}\")\n",
    "\n",
    "amountTx = prev_tx1.tx_outs[prev1_index].amount - fee \n",
    "print(f\"amountTx : {amountTx}\")\n",
    "#Let's make sure that we are actually spending the exact amount of the UTXO\n",
    "total_send=fee+amountTx\n",
    "diff = prev_tx1.tx_outs[prev1_index].amount-total_send\n",
    "print(f\"total {total_send}, diff: {diff}\")\n",
    "\n",
    "\n",
    "#Let's modify the amount in the change_output:\n",
    "my_multisig_tx.tx_outs[0].amount = amountTx\n",
    "\n",
    "#we sign again because the hash changed\n",
    "for tx_input in range(len(tx_ins)):\n",
    "    print(my_multisig_tx.sign_input_multisig(tx_input, [privkey_1, privkey_2], redeem_script))#redeem_script from earlier\n",
    "\n",
    "\n",
    "print(my_multisig_tx.serialize().hex())\n",
    "\n",
    "#for tx_input in range(len(tx_ins)):\n",
    " #   print(my_tx.verify_input(tx_input))"
   ]
  },
  {
   "cell_type": "code",
   "execution_count": null,
   "metadata": {},
   "outputs": [],
   "source": [
    "rebuilt_script_sig = Script.parse(BytesIO(bytes.fromhex(\"dc00483045022100e9a2b73ff95e3395034e910d5d69dd3e18e12a28e9dacfd5f3b2894afd5fbf3f022035b50d48506932020fcea1781a0c58e9011918bd2a9cbbb5693027035ca9502b01483045022100f7621bb014d53d8a97c0b5605317dd4a92b53e03dd22e71b1db85c12e92218ff02204b77ff2a5bc9f7921d8a17d36d04ca29cbe25b2061f7c2f5e227e449ba614ee5014847522103e07f96e5ba598431c0c994493a4ae988c9854c171d5d4bb140db0a27a4c853e421031b63f964d8c65d1d1136dcfe5033dedea88c2d411934ea48c9708410be84e5ee52ae\")))\n",
    "rebuilt_script_sig                                       "
   ]
  },
  {
   "cell_type": "code",
   "execution_count": 24,
   "metadata": {},
   "outputs": [
    {
     "data": {
      "text/plain": [
       "'0100000001e96877e704bcdeab08326e79e06fadf451c0eb379f252f74687dc6b2d5c7849a01000000db00483045022100a626c7a9fa1f920c2b16e3dd1f632be29a187286f6fc4d8280ee8001a9c374af0220036cdbcc194a2e6d2253df17b166421c1b5de2d8948b4700530e513f226ca60701473044022029952ddebb6a2a89d5152a1a5f3cb790ceaced841bb360c1ad420acaf79b7b2b02207f1637c4ca87779fe358c5d17609a75d64a34a7b7a72710fe2ad1f40fe037931014847522103e07f96e5ba598431c0c994493a4ae988c9854c171d5d4bb140db0a27a4c853e421031b63f964d8c65d1d1136dcfe5033dedea88c2d411934ea48c9708410be84e5ee52aeffffffff0180f60e00000000001976a91452903efc1004de01883ba3687be2a8ea4f6b1b1988ac00000000'"
      ]
     },
     "execution_count": 24,
     "metadata": {},
     "output_type": "execute_result"
    }
   ],
   "source": [
    "\"0100000001e96877e704bcdeab08326e79e06fadf451c0eb379f252f74687dc6b2d5c7849a01000000db00483045022100a626c7a9fa1f920c2b16e3dd1f632be29a187286f6fc4d8280ee8001a9c374af0220036cdbcc194a2e6d2253df17b166421c1b5de2d8948b4700530e513f226ca60701473044022029952ddebb6a2a89d5152a1a5f3cb790ceaced841bb360c1ad420acaf79b7b2b02207f1637c4ca87779fe358c5d17609a75d64a34a7b7a72710fe2ad1f40fe037931014847522103e07f96e5ba598431c0c994493a4ae988c9854c171d5d4bb140db0a27a4c853e421031b63f964d8c65d1d1136dcfe5033dedea88c2d411934ea48c9708410be84e5ee52aeffffffff0180f60e00000000001976a91452903efc1004de01883ba3687be2a8ea4f6b1b1988ac00000000\""
   ]
  },
  {
   "cell_type": "code",
   "execution_count": 25,
   "metadata": {
    "jupyter": {
     "source_hidden": true
    }
   },
   "outputs": [
    {
     "ename": "NameError",
     "evalue": "name 'Jupyter' is not defined",
     "output_type": "error",
     "traceback": [
      "\u001b[0;31m---------------------------------------------------------------------------\u001b[0m",
      "\u001b[0;31mNameError\u001b[0m                                 Traceback (most recent call last)",
      "\u001b[0;32m<ipython-input-25-f9d905c226a8>\u001b[0m in \u001b[0;36m<module>\u001b[0;34m\u001b[0m\n\u001b[0;32m----> 1\u001b[0;31m \u001b[0mJupyter\u001b[0m\u001b[0;34m.\u001b[0m\u001b[0mkeyboard_manager\u001b[0m\u001b[0;34m.\u001b[0m\u001b[0menable\u001b[0m\u001b[0;34m(\u001b[0m\u001b[0;34m)\u001b[0m\u001b[0;34m\u001b[0m\u001b[0;34m\u001b[0m\u001b[0m\n\u001b[0m",
      "\u001b[0;31mNameError\u001b[0m: name 'Jupyter' is not defined"
     ]
    }
   ],
   "source": [
    "Jupyter.keyboard_manager.enable()"
   ]
  },
  {
   "cell_type": "code",
   "execution_count": null,
   "metadata": {},
   "outputs": [],
   "source": []
  }
 ],
 "metadata": {
  "kernelspec": {
   "display_name": "Python 3",
   "language": "python",
   "name": "python3"
  },
  "language_info": {
   "codemirror_mode": {
    "name": "ipython",
    "version": 3
   },
   "file_extension": ".py",
   "mimetype": "text/x-python",
   "name": "python",
   "nbconvert_exporter": "python",
   "pygments_lexer": "ipython3",
   "version": "3.7.4"
  }
 },
 "nbformat": 4,
 "nbformat_minor": 4
}
